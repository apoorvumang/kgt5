{
 "cells": [
  {
   "cell_type": "code",
   "execution_count": 1,
   "id": "b7a88052",
   "metadata": {},
   "outputs": [],
   "source": [
    "from transformers import AutoTokenizer"
   ]
  },
  {
   "cell_type": "code",
   "execution_count": 5,
   "id": "f1133514",
   "metadata": {},
   "outputs": [],
   "source": [
    "import pickle\n",
    "from tqdm.auto import tqdm\n",
    "fname = 'scores/scores_wd5m_v3_test_beam50.pickle'\n",
    "scores_data = pickle.load(open(fname, 'rb'))"
   ]
  },
  {
   "cell_type": "code",
   "execution_count": 7,
   "id": "19c367c2",
   "metadata": {},
   "outputs": [
    {
     "data": {
      "application/vnd.jupyter.widget-view+json": {
       "model_id": "bdea87cf7ac9413a9e81b047d03035d1",
       "version_major": 2,
       "version_minor": 0
      },
      "text/plain": [
       "HBox(children=(FloatProgress(value=1.0, bar_style='info', layout=Layout(width='20px'), max=1.0), HTML(value=''…"
      ]
     },
     "metadata": {},
     "output_type": "display_data"
    },
    {
     "name": "stdout",
     "output_type": "stream",
     "text": [
      "\n"
     ]
    },
    {
     "ename": "NameError",
     "evalue": "name 'entity_strings_set' is not defined",
     "output_type": "error",
     "traceback": [
      "\u001b[0;31m---------------------------------------------------------------------------\u001b[0m",
      "\u001b[0;31mNameError\u001b[0m                                 Traceback (most recent call last)",
      "\u001b[0;32m/tmp/ipykernel_1193895/1398639969.py\u001b[0m in \u001b[0;36m<module>\u001b[0;34m\u001b[0m\n\u001b[1;32m      7\u001b[0m     \u001b[0mps_dict_only_entities\u001b[0m \u001b[0;34m=\u001b[0m \u001b[0mdefaultdict\u001b[0m\u001b[0;34m(\u001b[0m\u001b[0mlist\u001b[0m\u001b[0;34m)\u001b[0m\u001b[0;34m\u001b[0m\u001b[0;34m\u001b[0m\u001b[0m\n\u001b[1;32m      8\u001b[0m     \u001b[0;32mfor\u001b[0m \u001b[0mps\u001b[0m \u001b[0;32min\u001b[0m \u001b[0mps_pairs\u001b[0m\u001b[0;34m:\u001b[0m\u001b[0;34m\u001b[0m\u001b[0;34m\u001b[0m\u001b[0m\n\u001b[0;32m----> 9\u001b[0;31m         \u001b[0;32mif\u001b[0m \u001b[0mps\u001b[0m\u001b[0;34m[\u001b[0m\u001b[0;36m0\u001b[0m\u001b[0;34m]\u001b[0m \u001b[0;32min\u001b[0m \u001b[0mentity_strings_set\u001b[0m\u001b[0;34m:\u001b[0m\u001b[0;34m\u001b[0m\u001b[0;34m\u001b[0m\u001b[0m\n\u001b[0m\u001b[1;32m     10\u001b[0m             \u001b[0mps_dict_only_entities\u001b[0m\u001b[0;34m[\u001b[0m\u001b[0mps\u001b[0m\u001b[0;34m[\u001b[0m\u001b[0;36m0\u001b[0m\u001b[0;34m]\u001b[0m\u001b[0;34m]\u001b[0m \u001b[0;34m=\u001b[0m \u001b[0mps\u001b[0m\u001b[0;34m[\u001b[0m\u001b[0;36m1\u001b[0m\u001b[0;34m]\u001b[0m\u001b[0;34m\u001b[0m\u001b[0;34m\u001b[0m\u001b[0m\n\u001b[1;32m     11\u001b[0m     \u001b[0mpredictions_scores_dicts\u001b[0m\u001b[0;34m.\u001b[0m\u001b[0mappend\u001b[0m\u001b[0;34m(\u001b[0m\u001b[0mps_dict_only_entities\u001b[0m\u001b[0;34m)\u001b[0m\u001b[0;34m\u001b[0m\u001b[0;34m\u001b[0m\u001b[0m\n",
      "\u001b[0;31mNameError\u001b[0m: name 'entity_strings_set' is not defined"
     ]
    }
   ],
   "source": [
    "from collections import defaultdict\n",
    "predictions_scores_dicts = []\n",
    "for string_arr, score_arr in tqdm(zip(scores_data['prediction_strings'], scores_data['scores'])):\n",
    "    ps_pairs = [(p,s) for p,s in zip(string_arr, score_arr)]\n",
    "    ps_pairs = list(set(ps_pairs)) # while sampling, duplicates are created\n",
    "    # remove predictions that are not entities\n",
    "    ps_dict_only_entities = defaultdict(list)\n",
    "    for ps in ps_pairs:\n",
    "        if ps[0] in entity_strings_set:\n",
    "            ps_dict_only_entities[ps[0]] = ps[1]\n",
    "    predictions_scores_dicts.append(ps_dict_only_entities)"
   ]
  },
  {
   "cell_type": "code",
   "execution_count": 9,
   "id": "121ea1a4",
   "metadata": {},
   "outputs": [
    {
     "name": "stdout",
     "output_type": "stream",
     "text": [
      "['ship', 'sloop-of-war', 'Wikimedia disambiguation page', 'pre-dreadnought battleship', 'destroyer', 'full-rigged ship', 'mine countermeasures vessel', 'amphibious assault ship', 'sloop-of-war - class of fleet minesweeping same-sex marriage', 'ironclad warship', 'sloop-of-war - class of fleet minesweeping same-sexual', 'sloop-of-war - class of fleet minesweeping sloop-of', 'sloop-of-war - class of fleet minesweeping submarines of the', 'sloop-of-war - class of fleet minesweeping same-powered', 'sloop - propulsion class of fleet minesweeping sloop-of-', 'sloop-of-war - class of fleet minesweeping same-sex union', 'sloop-of-war - class of fleet minesweeping same-ranks', 'sloop-of-war - class of fleet minesweeping sloops of Royal Navy', 'sloop-of-war - class of fleet minesweeping same-wave', 'sloop-of-war - class of torpedo boat destroyers of the Royal Navy', 'sloop-of-war - class of fleet minesweepers of the Royal Navy', 'sloop-of-war - class of fleet minesweeping same-sex education', 'sloop-of-war - class of fleet minesweeping same-former', 'sloop - propulsion class of fleet minesweeping fleet replen', 'sloop-of-war - class of fleet minesweeping fleet attack', 'sloop-of-war - ehemaliger Automobilhersteller', 'sloop-of-war - class of fleet minesweeping sloops of s', 'sloop-of-war - class of fleet minesweeping sloops of the Royal Navy', 'sloop - propulsion class of fleetary sloop-of-war', 'sloop-of-war - class of fleet minesweeping fleet rep', 'third-rate', 'sloop-of-war - class of fleet minesweeping trawler', 'sloop-of-war - class of fleet minesweeping sloops', 'sloop-of-war - ehemaliger US-amerikanischer Automobil', 'sloop-of-war - propulsion class of torpedo boat destroyers of the Royal Navy', 'sloop-of-war - class of fleet minesweeping dreadnought', 'sloop - propulsion class of fleet minesweeping fleet attack submarine', 'sloop - propulsion class of minerals, class fleet replenishment oiler', 'sloop-of-war - class of fleet minesweeping submarines', 'sloop-of-war - class of fleet minesweeping sloops of naval', 'sloop-of-war - class of torpedo-boat destroyers of the Royal Navy', 'sloop-of-war - class of fleet minesweeping fleet mines', 'sloop - propulsion class of fleet minesweeping submarines of the Royal Navy', 'sloop-of-war - class of fleet minesweeping fleet ocean', 'nuclear-powered attack submarine', 'sloop-of-war - class of fleet minesweeping sloops of he', 'sloop-of-war - class of fleet minesweeping trails', 'sloop-of-war - class of fleet minesweeping sloops of Australia', 'sloop-of-war - class of fleet minesweeping same-denomin', 'sloop-of-war - class of fleet minesweeping sloop destroy']\n",
      "|TAIL| HMS Protector||| instance of\n",
      "ship\n"
     ]
    }
   ],
   "source": [
    "# scores_data has 4 keys\n",
    "id = 2\n",
    "print(scores_data['prediction_strings'][id])\n",
    "# print(scores_data['scores'][id])\n",
    "print(scores_data['input_strings'][id])\n",
    "print(scores_data['target_strings'][id])\n"
   ]
  },
  {
   "cell_type": "code",
   "execution_count": 10,
   "id": "f1b2b61c",
   "metadata": {},
   "outputs": [],
   "source": [
    "from transformers import T5Tokenizer\n",
    "tokenizer = T5Tokenizer.from_pretrained('t5-small')"
   ]
  },
  {
   "cell_type": "code",
   "execution_count": 11,
   "id": "eb7cf14e",
   "metadata": {},
   "outputs": [
    {
     "data": {
      "text/plain": [
       "[21820, 296, 1]"
      ]
     },
     "execution_count": 11,
     "metadata": {},
     "output_type": "execute_result"
    }
   ],
   "source": [
    "tokenizer('hello world').input_ids"
   ]
  },
  {
   "cell_type": "code",
   "execution_count": 13,
   "id": "596c9e2d",
   "metadata": {},
   "outputs": [
    {
     "data": {
      "application/vnd.jupyter.widget-view+json": {
       "model_id": "c1313568930c42408308d5740a8c855f",
       "version_major": 2,
       "version_minor": 0
      },
      "text/plain": [
       "HBox(children=(FloatProgress(value=0.0, max=10642.0), HTML(value='')))"
      ]
     },
     "metadata": {},
     "output_type": "display_data"
    },
    {
     "name": "stdout",
     "output_type": "stream",
     "text": [
      "\n"
     ]
    }
   ],
   "source": [
    "tokenized_targets = []\n",
    "for target in tqdm(scores_data['target_strings']):\n",
    "    tokenized = tokenizer(target).input_ids\n",
    "    tokenized_targets.append(tokenized)"
   ]
  },
  {
   "cell_type": "code",
   "execution_count": 14,
   "id": "329ae796",
   "metadata": {},
   "outputs": [],
   "source": [
    "lengths = []\n",
    "for tt in tokenized_targets:\n",
    "    lengths.append(len(tt))"
   ]
  },
  {
   "cell_type": "code",
   "execution_count": 19,
   "id": "f1a17639",
   "metadata": {},
   "outputs": [
    {
     "data": {
      "text/plain": [
       "Text(0.5, 0, 'Tokenized lengths')"
      ]
     },
     "execution_count": 19,
     "metadata": {},
     "output_type": "execute_result"
    },
    {
     "data": {
      "image/png": "[encoded data removed]",
      "text/plain": [
       "<Figure size 432x288 with 1 Axes>"
      ]
     },
     "metadata": {
      "needs_background": "light"
     },
     "output_type": "display_data"
    }
   ],
   "source": [
    "import matplotlib.pyplot as plt \n",
    "\n",
    "import numpy as np \n",
    "\n",
    "%matplotlib inline\n",
    "\n",
    "# x = np.random.normal(size = 1000) \n",
    "x = lengths\n",
    "plt.hist(x, bins=29) \n",
    "\n",
    "plt.ylabel('Num entities');\n",
    "plt.xlabel('Tokenized lengths')"
   ]
  },
  {
   "cell_type": "code",
   "execution_count": 20,
   "id": "16944cb5",
   "metadata": {},
   "outputs": [
    {
     "data": {
      "text/plain": [
       "5.686900958466453"
      ]
     },
     "execution_count": 20,
     "metadata": {},
     "output_type": "execute_result"
    }
   ],
   "source": [
    "sum(lengths)/len(lengths)"
   ]
  },
  {
   "cell_type": "code",
   "execution_count": null,
   "id": "12a3423d",
   "metadata": {},
   "outputs": [],
   "source": []
  }
 ],
 "metadata": {
  "kernelspec": {
   "display_name": "Python 3 (ipykernel)",
   "language": "python",
   "name": "python3"
  },
  "language_info": {
   "codemirror_mode": {
    "name": "ipython",
    "version": 3
   },
   "file_extension": ".py",
   "mimetype": "text/x-python",
   "name": "python",
   "nbconvert_exporter": "python",
   "pygments_lexer": "ipython3",
   "version": "3.8.11"
  }
 },
 "nbformat": 4,
 "nbformat_minor": 5
}

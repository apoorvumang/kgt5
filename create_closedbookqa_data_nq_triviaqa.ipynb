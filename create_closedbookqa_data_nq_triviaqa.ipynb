{
 "cells": [
  {
   "cell_type": "code",
   "execution_count": 2,
   "id": "95c66467",
   "metadata": {},
   "outputs": [],
   "source": [
    "import pickle\n",
    "import json"
   ]
  },
  {
   "cell_type": "code",
   "execution_count": 5,
   "id": "ac4e018e",
   "metadata": {},
   "outputs": [],
   "source": [
    "import unicodedata\n",
    "\n",
    "def normalize(s):\n",
    "    s = s.replace('\\t', ' ')\n",
    "    s = s.replace('|', '.')\n",
    "    s = unicodedata.normalize('NFKC', s)\n",
    "    return s"
   ]
  },
  {
   "cell_type": "code",
   "execution_count": 6,
   "id": "275680e9",
   "metadata": {},
   "outputs": [
    {
     "name": "stdout",
     "output_type": "stream",
     "text": [
      "79168 lines for split  train\n",
      "3610 lines for split  test\n",
      "8757 lines for split  dev\n"
     ]
    }
   ],
   "source": [
    "import os\n",
    "import json\n",
    "\n",
    "# in_folder = 'data/triviaqa-unfiltered'\n",
    "# out_folder = 'data/triviaqa'\n",
    "\n",
    "in_folder = 'data/nq-open'\n",
    "out_folder = 'data/naturalquestions'\n",
    "\n",
    "\n",
    "in_splits = ['train', 'test', 'dev']\n",
    "out_splits = ['train', 'test', 'valid']\n",
    "\n",
    "for s_in, s_out in zip(in_splits, out_splits):\n",
    "    fname = os.path.join(in_folder, s_in + '.json')\n",
    "    data = json.load(open(fname))['data']\n",
    "    out_lines = []\n",
    "    for q in data:\n",
    "        qtext = normalize(q['question'])\n",
    "        answers = [normalize(x) for x in q['answers']]\n",
    "        answer_string = '|'.join(answers)\n",
    "        line = qtext + '\\t' + answer_string\n",
    "        out_lines.append(line)\n",
    "    print(len(out_lines), 'lines for split ', s_in)\n",
    "    fname = os.path.join(out_folder, 'qa_{}_1hop.txt'.format(s_out))\n",
    "    f = open(fname, 'w')\n",
    "    for line in out_lines:\n",
    "        f.write(line + '\\n')\n",
    "    f.close()"
   ]
  },
  {
   "cell_type": "code",
   "execution_count": null,
   "id": "70994a40",
   "metadata": {},
   "outputs": [],
   "source": []
  }
 ],
 "metadata": {
  "kernelspec": {
   "display_name": "Python 3 (ipykernel)",
   "language": "python",
   "name": "python3"
  },
  "language_info": {
   "codemirror_mode": {
    "name": "ipython",
    "version": 3
   },
   "file_extension": ".py",
   "mimetype": "text/x-python",
   "name": "python",
   "nbconvert_exporter": "python",
   "pygments_lexer": "ipython3",
   "version": "3.8.11"
  }
 },
 "nbformat": 4,
 "nbformat_minor": 5
}

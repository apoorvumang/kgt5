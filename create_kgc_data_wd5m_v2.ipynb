{
 "cells": [
  {
   "cell_type": "code",
   "execution_count": 1,
   "id": "6acde130",
   "metadata": {},
   "outputs": [],
   "source": [
    "from tqdm.notebook import tqdm\n",
    "import pickle\n",
    "import os"
   ]
  },
  {
   "cell_type": "code",
   "execution_count": 2,
   "id": "c43e844a",
   "metadata": {},
   "outputs": [],
   "source": [
    "fname = '/scratche/prod/apoorv/wd5m_aliases_entities_v3.txt'\n",
    "ent_mention_map = {}\n",
    "f = open(fname)\n",
    "for line in f:\n",
    "    line = line.strip().split('\\t')\n",
    "    ent_mention_map[line[0]] = line[1]\n",
    "f.close()"
   ]
  },
  {
   "cell_type": "code",
   "execution_count": 3,
   "id": "678be130",
   "metadata": {},
   "outputs": [
    {
     "data": {
      "text/plain": [
       "(4818679, 4818679)"
      ]
     },
     "execution_count": 3,
     "metadata": {},
     "output_type": "execute_result"
    }
   ],
   "source": [
    "len(ent_mention_map), len(set(ent_mention_map.values()))"
   ]
  },
  {
   "cell_type": "code",
   "execution_count": 4,
   "id": "c79bc024",
   "metadata": {},
   "outputs": [
    {
     "data": {
      "application/vnd.jupyter.widget-view+json": {
       "model_id": "29ec3209f54747fca50785c5ec38e2c3",
       "version_major": 2,
       "version_minor": 0
      },
      "text/plain": [
       "  0%|          | 0/4818679 [00:00<?, ?it/s]"
      ]
     },
     "metadata": {},
     "output_type": "display_data"
    }
   ],
   "source": [
    "# is tab character in any name?\n",
    "for k, v in tqdm(ent_mention_map.items()):\n",
    "    if '\\t' in v:\n",
    "        print(k, v)"
   ]
  },
  {
   "cell_type": "code",
   "execution_count": 5,
   "id": "45ef3fc4",
   "metadata": {},
   "outputs": [],
   "source": [
    "fname = '/scratche/prod/apoorv/wd5m_aliases_relations_v3.txt'\n",
    "rel_mention_map = {}\n",
    "f = open(fname)\n",
    "for line in f:\n",
    "    line = line.strip().split('\\t')\n",
    "    rel_mention_map[line[0]] = line[1]\n",
    "f.close()"
   ]
  },
  {
   "cell_type": "code",
   "execution_count": 6,
   "id": "3f3cfb70",
   "metadata": {},
   "outputs": [
    {
     "data": {
      "text/plain": [
       "(828, 828)"
      ]
     },
     "execution_count": 6,
     "metadata": {},
     "output_type": "execute_result"
    }
   ],
   "source": [
    "len(rel_mention_map), len(set(rel_mention_map.values()))"
   ]
  },
  {
   "cell_type": "code",
   "execution_count": 7,
   "id": "f5d93091",
   "metadata": {},
   "outputs": [],
   "source": [
    "def loadTriples(fname):\n",
    "    triples = []\n",
    "    f = open(fname)\n",
    "    for line in f:\n",
    "        t = line.rstrip().split('\\t')\n",
    "        assert len(t) == 3\n",
    "        triples.append(t)\n",
    "    f.close()\n",
    "    return triples\n",
    "\n",
    "def verbalizeTriple(t, direction='tail'):\n",
    "    global ent_mention_map, rel_mention_map\n",
    "    head_prefix = \"|head|\"\n",
    "    tail_prefix = \"|tail|\"\n",
    "    separator = \"|||\"\n",
    "    if direction == 'tail':\n",
    "        input = tail_prefix + ent_mention_map[t[0]] + separator + rel_mention_map[t[1]]\n",
    "        output = ent_mention_map[t[2]]\n",
    "    else:\n",
    "        input = head_prefix + ent_mention_map[t[2]] + separator + rel_mention_map[t[1]]\n",
    "        output = ent_mention_map[t[0]]\n",
    "    return input, output"
   ]
  },
  {
   "cell_type": "code",
   "execution_count": 8,
   "id": "7c474d5f",
   "metadata": {},
   "outputs": [
    {
     "data": {
      "application/vnd.jupyter.widget-view+json": {
       "model_id": "1a5f805df2b743feaaa228be831676d0",
       "version_major": 2,
       "version_minor": 0
      },
      "text/plain": [
       "  0%|          | 0/3 [00:00<?, ?it/s]"
      ]
     },
     "metadata": {},
     "output_type": "display_data"
    }
   ],
   "source": [
    "import os\n",
    "folder = '/scratche/home/apoorv/repos/probe_kge/data/wikidata5m/'\n",
    "splits = ['train', 'test', 'valid']\n",
    "data = {}\n",
    "for s in tqdm(splits):\n",
    "    fname = os.path.join(folder, s+'.txt')\n",
    "    triples = loadTriples(fname)\n",
    "    data[s] = triples"
   ]
  },
  {
   "cell_type": "code",
   "execution_count": 9,
   "id": "6c358633",
   "metadata": {},
   "outputs": [
    {
     "data": {
      "text/plain": [
       "('|tail|Lalit Kumar Goel|||instance of', 'human')"
      ]
     },
     "execution_count": 9,
     "metadata": {},
     "output_type": "execute_result"
    }
   ],
   "source": [
    "verbalizeTriple(data['train'][0])"
   ]
  },
  {
   "cell_type": "code",
   "execution_count": 10,
   "id": "2a4e77d2",
   "metadata": {},
   "outputs": [
    {
     "data": {
      "application/vnd.jupyter.widget-view+json": {
       "model_id": "cd55994fd4794722b0a5b10183f8f8aa",
       "version_major": 2,
       "version_minor": 0
      },
      "text/plain": [
       "  0%|          | 0/21343681 [00:00<?, ?it/s]"
      ]
     },
     "metadata": {},
     "output_type": "display_data"
    },
    {
     "data": {
      "application/vnd.jupyter.widget-view+json": {
       "model_id": "0a0bf9ae90b048df9237fc74a38d4a42",
       "version_major": 2,
       "version_minor": 0
      },
      "text/plain": [
       "  0%|          | 0/5321 [00:00<?, ?it/s]"
      ]
     },
     "metadata": {},
     "output_type": "display_data"
    },
    {
     "data": {
      "application/vnd.jupyter.widget-view+json": {
       "model_id": "dbbd1aa67ae54efea4c3f886ab594a70",
       "version_major": 2,
       "version_minor": 0
      },
      "text/plain": [
       "  0%|          | 0/5357 [00:00<?, ?it/s]"
      ]
     },
     "metadata": {},
     "output_type": "display_data"
    }
   ],
   "source": [
    "# make verbalized data\n",
    "out_folder = '/scratche/home/apoorv/transformer-kgc/data/wikidata5m_v3'\n",
    "splits = ['train', 'test', 'valid']\n",
    "for s in splits:\n",
    "    triples = data[s]\n",
    "    fname = os.path.join(out_folder, s + '.txt')\n",
    "    f = open(fname, 'w')\n",
    "    for t in tqdm(triples):\n",
    "        tail_in, tail_out = verbalizeTriple(t, direction = 'tail')\n",
    "        head_in, head_out = verbalizeTriple(t, direction = 'head')\n",
    "        f.write(tail_in + '\\t' + tail_out + '\\n')\n",
    "        f.write(head_in + '\\t' + head_out + '\\n')\n",
    "    f.close()"
   ]
  },
  {
   "cell_type": "code",
   "execution_count": null,
   "id": "f957a403",
   "metadata": {},
   "outputs": [],
   "source": []
  },
  {
   "cell_type": "code",
   "execution_count": 11,
   "id": "6349d58b",
   "metadata": {},
   "outputs": [],
   "source": [
    "ents_names = list(ent_mention_map.values())"
   ]
  },
  {
   "cell_type": "code",
   "execution_count": 12,
   "id": "95da2fca",
   "metadata": {},
   "outputs": [
    {
     "data": {
      "text/plain": [
       "4818679"
      ]
     },
     "execution_count": 12,
     "metadata": {},
     "output_type": "execute_result"
    }
   ],
   "source": [
    "len(ents_names)"
   ]
  },
  {
   "cell_type": "code",
   "execution_count": 13,
   "id": "0ff4147f",
   "metadata": {},
   "outputs": [
    {
     "data": {
      "text/plain": [
       "['13 October 2013',\n",
       " 'Julian Po',\n",
       " 'abrasive machining',\n",
       " 'Dynamic Sports Shooting Norway',\n",
       " 'Jane Harrison',\n",
       " 'Vital Hayduchyk',\n",
       " 'William H. Blair',\n",
       " 'Fritz Soldmann',\n",
       " 'Clifford Lingen',\n",
       " 'Jumaa Abdullah',\n",
       " 'Shadh-Shapur',\n",
       " '2005 CONCACAF U-20 Tournament qualifying',\n",
       " 'Raamanam',\n",
       " \"Freedom and People's Rights Movement\",\n",
       " 'Okkie van Greunen',\n",
       " 'Starčevo',\n",
       " 'Taitā railway station',\n",
       " 'Villemoyenne',\n",
       " 'Electric Transit, Inc.',\n",
       " 'Totally Spies! 2: Undercover',\n",
       " 'Ōgane Masujirō',\n",
       " 'Hua',\n",
       " 'Ekulo Senior Secondary School',\n",
       " 'Sanderston',\n",
       " 'Federalism in Iraq',\n",
       " 'Viaggio Italiano',\n",
       " 'Elias Gaucher',\n",
       " 'Pyrenacantha',\n",
       " 'Hurricane Harvey',\n",
       " 'region of Morocco',\n",
       " 'G.I. Joe - US toy brand, launched in 1964',\n",
       " 'Tracy Webster',\n",
       " \"Jimmy's Hall\",\n",
       " 'Natal Government Railways Class N locomotives',\n",
       " 'Miquel Gual Bauzà',\n",
       " 'Half-Caste',\n",
       " 'Calvay Castle',\n",
       " 'Evelina Afoa',\n",
       " 'FC Mglebi Zugdidi',\n",
       " 'Aerolimousine',\n",
       " 'John Bender',\n",
       " 'Champions Juniors',\n",
       " 'Thomas W. Fuller',\n",
       " 'Emil Bach House',\n",
       " \"Fencing at the 1900 Summer Olympics – Men's masters foil\",\n",
       " 'Chawkay',\n",
       " 'Vasily Lobanov',\n",
       " 'Lygodactylus manni',\n",
       " 'The Unknown Singer',\n",
       " 'Halley - 1986 song']"
      ]
     },
     "execution_count": 13,
     "metadata": {},
     "output_type": "execute_result"
    }
   ],
   "source": [
    "import random\n",
    "random.sample(ents_names,50)"
   ]
  },
  {
   "cell_type": "code",
   "execution_count": null,
   "id": "5ea8c422",
   "metadata": {},
   "outputs": [],
   "source": []
  }
 ],
 "metadata": {
  "kernelspec": {
   "display_name": "Python 3 (ipykernel)",
   "language": "python",
   "name": "python3"
  },
  "language_info": {
   "codemirror_mode": {
    "name": "ipython",
    "version": 3
   },
   "file_extension": ".py",
   "mimetype": "text/x-python",
   "name": "python",
   "nbconvert_exporter": "python",
   "pygments_lexer": "ipython3",
   "version": "3.8.11"
  }
 },
 "nbformat": 4,
 "nbformat_minor": 5
}

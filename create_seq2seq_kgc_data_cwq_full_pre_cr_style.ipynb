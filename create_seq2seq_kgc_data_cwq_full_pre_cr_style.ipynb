{
 "cells": [
  {
   "cell_type": "code",
   "execution_count": 1,
   "id": "6294b12f",
   "metadata": {},
   "outputs": [],
   "source": [
    "import os\n",
    "import pickle\n",
    "from tqdm import tqdm\n",
    "import sentencepiece as spm"
   ]
  },
  {
   "cell_type": "code",
   "execution_count": 2,
   "id": "66554ebd",
   "metadata": {},
   "outputs": [
    {
     "name": "stdout",
     "output_type": "stream",
     "text": [
      " add_head_predict_lines_cwq_half.ipynb\r\n",
      " aliases_from_webqsp_questions.txt\r\n",
      " ComplexWebQuestions\r\n",
      " create_half.ipynb\r\n",
      " create_kg_filter_according_to_cohen_paper.ipynb\r\n",
      " create_kg_for_t5_webqsp_qa.ipynb\r\n",
      " create_subgraph_cmu_upto3.ipynb\r\n",
      " create_subgraph_cwq.ipynb\r\n",
      " create_subgraph.ipynb\r\n",
      " create_t5_kg_only_named_entities.ipynb\r\n",
      " cwq_aliases_from_questions.pickle\r\n",
      " cwq_all_ents.txt\r\n",
      " cwq_all_rels.txt\r\n",
      " cwq_create_final_kg.ipynb\r\n",
      " cwq_ents_names_not_found.txt\r\n",
      " cwq_full_name_triples.txt\r\n",
      " cwq_full_new_fb_dump.txt\r\n",
      " cwq_full.txt\r\n",
      " cwq_get_entities_from_questions-Copy1.ipynb\r\n",
      " cwq_get_entities_from_questions.ipynb\r\n",
      " cwq_half_rdf_lines.txt\r\n",
      " cwq_half_rdf.nt.graph\r\n",
      " cwq_half.txt\r\n",
      " cwq_kg_ents.txt\r\n",
      " cwq_kg_full_correctfbdump.txt\r\n",
      " cwq_kg_full_no_notable_for.txt\r\n",
      " cwq_kg_full.txt\r\n",
      " cwq_kg_full_with_names.txt\r\n",
      " cwq_triple_to_rdf_format.ipynb\r\n",
      " ent_identifiers_fbwq_full.pickle\r\n",
      " ent_identifiers_fbwq_half_lego.pickle\r\n",
      " ent_identifiers_fbwq_half.pickle\r\n",
      " entities.dict\r\n",
      " FB150k-50-webqsp.zip\r\n",
      " fb2w.nt\r\n",
      " fbwq_full_filtered_triples.txt\r\n",
      " fbwq_half_filtered_triples.txt\r\n",
      " fbwq_half_hongyu\r\n",
      " fbwq_half_lego_entities_with_no_name.txt\r\n",
      " fbwq_half_lego_filtered_triples.txt\r\n",
      " fbwq_half_lego_processed\r\n",
      " filtered_triples_final2.txt\r\n",
      " filtered_triples_final.txt\r\n",
      " filtered_triples_full.txt\r\n",
      " filtered_triples_old.txt\r\n",
      " filtered_triples.txt\r\n",
      " freebase-cwq-full.nt\r\n",
      " freebase-cwq-full.nt.graph\r\n",
      " freebase_full_cwq\r\n",
      " freebase_lego_hongyu.ipynb\r\n",
      " freebase-rdf-latest.gz\r\n",
      "'freebase-rdf-latest.gz?'\r\n",
      " full.txt\r\n",
      " get_entity_names_cwq.ipynb\r\n",
      " get_entity_names_lego_kg_fbwq_half.ipynb\r\n",
      " global.graph\r\n",
      " identifier_triples_fbwq_full.txt\r\n",
      " identifier_triples_fbwq_half_lego.txt\r\n",
      " identifier_triples_fbwq_half.txt\r\n",
      " kb_548.txt\r\n",
      " kb_572.txt\r\n",
      " kb_579.txt\r\n",
      " kb_609.txt\r\n",
      " kb_allrels_half_small.txt\r\n",
      " kb_allrels_half.txt\r\n",
      " kb_cmu.txt\r\n",
      " kb_fromupto3.txt\r\n",
      " kb_full.txt\r\n",
      " kb_max2.txt\r\n",
      " kb_max3.txt\r\n",
      " kb_max.txt\r\n",
      " names_from_google_cwq.pickle\r\n",
      " names_from_google.pickle\r\n",
      " relation_names_from_google_cwq.pickle\r\n",
      " relation_names_from_google.pickle\r\n",
      " relations.dict\r\n",
      " scrape_freebase_toolforge_for_mid_names.ipynb\r\n",
      " scrape_google_for_mid_names.ipynb\r\n",
      " subset_test.nt\r\n",
      " test.txt\r\n",
      " train.txt\r\n",
      " Untitled1.ipynb\r\n",
      " Untitled2.ipynb\r\n",
      " Untitled.ipynb\r\n",
      " upto3.nt\r\n",
      " upto3.nt.tgz\r\n",
      " valid.txt\r\n",
      " WebQSP\r\n",
      " webqsp_aliases_from_questions.pickle\r\n",
      " webqsp_ents_all.txt\r\n",
      " webqsp_ents.txt\r\n",
      " webqsp_rels.txt\r\n",
      " WebQSP.zip\r\n"
     ]
    }
   ],
   "source": [
    "source_folder = '/scratche/home/apoorv/freebase'\n",
    "! ls {source_folder}"
   ]
  },
  {
   "cell_type": "code",
   "execution_count": 3,
   "id": "59e18046",
   "metadata": {},
   "outputs": [],
   "source": [
    "def readTriples(fname):\n",
    "    f = open(fname)\n",
    "    triples = []\n",
    "    for line in f:\n",
    "        if line[-1] == '\\n':\n",
    "            line = line[:-1]\n",
    "        triples.append(line.split('\\t'))\n",
    "    f.close()\n",
    "    return triples\n",
    "\n",
    "def getEntities(triples):\n",
    "    ents = set()\n",
    "    for t in triples:\n",
    "        ents.add(t[0])\n",
    "        ents.add(t[2])\n",
    "    return ents\n",
    "\n",
    "def getRelations(triples):\n",
    "    rels = set()\n",
    "    for t in triples:\n",
    "        rels.add(t[1])\n",
    "    return rels\n"
   ]
  },
  {
   "cell_type": "code",
   "execution_count": 4,
   "id": "961e5742",
   "metadata": {},
   "outputs": [],
   "source": [
    "fname = os.path.join(source_folder, 'cwq_kg_full_with_names.txt')\n",
    "all_triples = readTriples(fname)"
   ]
  },
  {
   "cell_type": "code",
   "execution_count": 5,
   "id": "fea5228e",
   "metadata": {},
   "outputs": [],
   "source": [
    "data = {}\n",
    "num_valid = 5000\n",
    "data['valid'] = all_triples[:num_valid].copy()\n",
    "data['train'] = all_triples[num_valid:]\n",
    "data['test'] = data['valid']"
   ]
  },
  {
   "cell_type": "code",
   "execution_count": 6,
   "id": "aa327398",
   "metadata": {},
   "outputs": [],
   "source": [
    "# load half data\n",
    "# data = {}\n",
    "# splits = ['train', 'test', 'valid']\n",
    "# for split in splits:\n",
    "#     fname = os.path.join(source_folder, split + '.txt')\n",
    "#     data[split] = readTriples(fname)"
   ]
  },
  {
   "cell_type": "code",
   "execution_count": 7,
   "id": "74617e7f",
   "metadata": {},
   "outputs": [
    {
     "data": {
      "text/plain": [
       "(6790959, 380)"
      ]
     },
     "execution_count": 7,
     "metadata": {},
     "output_type": "execute_result"
    }
   ],
   "source": [
    "splits = ['train', 'test', 'valid']\n",
    "entities = set()\n",
    "relations = set()\n",
    "for split in splits:\n",
    "    e = getEntities(data[split])\n",
    "    entities = entities.union(e)\n",
    "    r = getRelations(data[split])\n",
    "    relations = relations.union(r)\n",
    "len(entities), len(relations)"
   ]
  },
  {
   "cell_type": "code",
   "execution_count": 8,
   "id": "da7e6850",
   "metadata": {},
   "outputs": [
    {
     "data": {
      "text/plain": [
       "['m.02z1fnt', 'people.person.place_of_birth', 'm.09c7w0']"
      ]
     },
     "execution_count": 8,
     "metadata": {},
     "output_type": "execute_result"
    }
   ],
   "source": [
    "data['train'][5000]"
   ]
  },
  {
   "cell_type": "code",
   "execution_count": 9,
   "id": "286150f3",
   "metadata": {},
   "outputs": [
    {
     "data": {
      "text/plain": [
       "13802824"
      ]
     },
     "execution_count": 9,
     "metadata": {},
     "output_type": "execute_result"
    }
   ],
   "source": [
    "len(data['train'])"
   ]
  },
  {
   "cell_type": "code",
   "execution_count": 10,
   "id": "410ead09",
   "metadata": {},
   "outputs": [],
   "source": [
    "from unidecode import unidecode\n",
    "# lowering everything\n",
    "\n",
    "def normalizeRelation(rel):\n",
    "#     rel = rel.replace('_', ' ')\n",
    "    rel = unidecode(rel)\n",
    "    rel = rel.split('.')[-1]\n",
    "    rel = rel.replace('_', ' ')\n",
    "    rel = rel.replace('|', ',')\n",
    "    rel = rel.lower()\n",
    "    return rel\n",
    "\n",
    "def normalizeEntity(ent):\n",
    "    ent = unidecode(ent)\n",
    "    ent = ent.replace('|', '')\n",
    "    ent = ent.lower()\n",
    "    return ent\n",
    "\n",
    "\n",
    "def getBestName(names, max_words = 5):\n",
    "    best_name = names[0]\n",
    "    for name in names:\n",
    "        if name.endswith('@en'):\n",
    "            best_name = name\n",
    "    name = best_name.replace('\"', '')\n",
    "    name = name.split('@')[0]\n",
    "    name = normalizeEntity(name)\n",
    "#     name = name[:max_len]\n",
    "    name = ' '.join(name.split()[:max_words])\n",
    "    return name\n",
    "\n",
    "def getBestDescription(descriptions, max_description_words=8):\n",
    "    best_desc = descriptions[0]\n",
    "    for desc in descriptions:\n",
    "        if desc.endswith('@en'):\n",
    "            best_desc = desc\n",
    "    desc = best_desc\n",
    "    desc = (''.join(desc.split('@')[:-1])).replace('\"', '')\n",
    "    desc = ' '.join(desc.split()[:max_description_words])\n",
    "    # unidecode stuff\n",
    "    desc = normalizeEntity(desc)\n",
    "    return desc\n",
    "\n",
    "def addDescriptionToName(name, desc):\n",
    "    desc = desc.replace(name, 'it')\n",
    "    desc = desc.replace('it is a ', '')\n",
    "    desc = desc.replace('it was a ', '')\n",
    "    desc = desc.replace('it was an ', '')\n",
    "    desc = desc.replace('it is an ', '')\n",
    "    desc = desc.replace('it is the ', '')\n",
    "    desc = desc.replace('it was the ', '')\n",
    "    desc = desc.replace('.', '')\n",
    "    name = name + ' (' + desc + ')'\n",
    "    return name\n",
    "\n",
    "def truncateWords(name, num_words):\n",
    "    name = name.split()[:num_words]\n",
    "    name = ' '.join(name)\n",
    "    return name"
   ]
  },
  {
   "cell_type": "code",
   "execution_count": 11,
   "id": "452d89a7",
   "metadata": {},
   "outputs": [],
   "source": [
    "# import pickle\n",
    "# from tqdm import tqdm\n",
    "# aliases_dict = {}\n",
    "# count = 0\n",
    "# fname = '/scratche/home/apoorv/freebase/ent_identifiers_fbwq_half_lego.pickle'\n",
    "# x = pickle.load(open(fname, 'rb'))\n",
    "# descriptions = {}\n",
    "def readTriples(fname):\n",
    "    f = open(fname, 'r')\n",
    "    lines = []\n",
    "    for line in f:\n",
    "        line = line.strip().split('\\t')\n",
    "        lines.append(line[:3])\n",
    "    f.close()\n",
    "    return lines\n",
    "\n",
    "fname = os.path.join(source_folder, 'cwq_full_name_triples.txt')\n",
    "name_triples = readTriples(fname)"
   ]
  },
  {
   "cell_type": "code",
   "execution_count": 12,
   "id": "68e8a604",
   "metadata": {},
   "outputs": [
    {
     "name": "stderr",
     "output_type": "stream",
     "text": [
      "100%|████████████████████████████████████████████████████████████████████████████████████████████████████████████████████████████████████████████████████████████| 15210643/15210643 [00:26<00:00, 579998.10it/s]\n"
     ]
    }
   ],
   "source": [
    "from collections import defaultdict\n",
    "\n",
    "x = defaultdict(list)\n",
    "\n",
    "def cleanEntity(s):\n",
    "    ent = s[:-1].split('/')[-1]\n",
    "    return ent\n",
    "\n",
    "for t in tqdm(name_triples):\n",
    "    e = cleanEntity(t[0])\n",
    "    name = t[2]\n",
    "    x[e].append(name)\n",
    "    "
   ]
  },
  {
   "cell_type": "code",
   "execution_count": 13,
   "id": "194586c2",
   "metadata": {},
   "outputs": [
    {
     "data": {
      "text/plain": [
       "6790959"
      ]
     },
     "execution_count": 13,
     "metadata": {},
     "output_type": "execute_result"
    }
   ],
   "source": [
    "len(entities)"
   ]
  },
  {
   "cell_type": "code",
   "execution_count": 14,
   "id": "e3f2d7b2",
   "metadata": {},
   "outputs": [
    {
     "name": "stderr",
     "output_type": "stream",
     "text": [
      "100%|██████████████████████████████████████████████████████████████████████████████████████████████████████████████████████████████████████████████████████████████| 6790959/6790959 [00:31<00:00, 213287.71it/s]\n"
     ]
    }
   ],
   "source": [
    "aliases_dict = {}\n",
    "max_name_words = 12\n",
    "for ent in tqdm(entities):\n",
    "    if ent not in x:\n",
    "        aliases_dict[ent] = getBestName([ent]) # to unidecode basically\n",
    "        continue\n",
    "    names = x[ent]\n",
    "    name = getBestName(names, max_name_words)\n",
    "    aliases_dict[ent] = name"
   ]
  },
  {
   "cell_type": "code",
   "execution_count": 15,
   "id": "eae422b6",
   "metadata": {},
   "outputs": [
    {
     "data": {
      "text/plain": [
       "150"
      ]
     },
     "execution_count": 15,
     "metadata": {},
     "output_type": "execute_result"
    }
   ],
   "source": [
    "i = 0\n",
    "count = 0\n",
    "for k, v in aliases_dict.items():\n",
    "    if (v.startswith('g.') or v.startswith('m.')) and ' ' not in v:\n",
    "#         print(k, v)\n",
    "        count += 1\n",
    "#     if count > 100:\n",
    "#         break\n",
    "count"
   ]
  },
  {
   "cell_type": "code",
   "execution_count": 16,
   "id": "669e77d1",
   "metadata": {},
   "outputs": [
    {
     "data": {
      "text/plain": [
       "5980500"
      ]
     },
     "execution_count": 16,
     "metadata": {},
     "output_type": "execute_result"
    }
   ],
   "source": [
    "len(set(aliases_dict.values()))"
   ]
  },
  {
   "cell_type": "code",
   "execution_count": 17,
   "id": "d2622f08",
   "metadata": {},
   "outputs": [
    {
     "data": {
      "text/plain": [
       "['the making of stonehenge',\n",
       " 'cheezo',\n",
       " 'megan christopherson',\n",
       " 'eros and modernization',\n",
       " 'meisya siregar',\n",
       " 'intellect and spirit',\n",
       " 'henri sassine',\n",
       " 'liquidos (liquids) (estados de la materia',\n",
       " 'chynna ortaleza',\n",
       " 'philip woodward']"
      ]
     },
     "execution_count": 17,
     "metadata": {},
     "output_type": "execute_result"
    }
   ],
   "source": [
    "import random\n",
    "random.sample(list(aliases_dict.values()), 10)"
   ]
  },
  {
   "cell_type": "code",
   "execution_count": 18,
   "id": "361312d7",
   "metadata": {},
   "outputs": [],
   "source": [
    "import pickle\n",
    "from unidecode import unidecode\n",
    "relation_map = {}\n",
    "fname = '/scratche/home/apoorv/freebase/relation_names_from_google_cwq.pickle'\n",
    "relation_names_from_google = pickle.load(open(fname, 'rb'))\n",
    "for rel in relations:\n",
    "    rel_processed = relation_names_from_google[rel]\n",
    "    rel_processed = unidecode(rel_processed)\n",
    "    rel_processed = rel_processed.replace('|', ',')\n",
    "    rel_processed = rel_processed.lower()\n",
    "    if rel_processed == '':\n",
    "        print(rel)\n",
    "    relation_map[rel] = rel_processed"
   ]
  },
  {
   "cell_type": "code",
   "execution_count": 19,
   "id": "a54a2a13",
   "metadata": {},
   "outputs": [
    {
     "name": "stdout",
     "output_type": "stream",
     "text": [
      "here m.0g9y25v\n",
      "here m.010f5nm0\n",
      "here m.01pyww_\n",
      "here m.0c3vq9v\n",
      "here m.011q6t0v\n",
      "here m.04wcx76\n",
      "here m.0h1f4k_\n",
      "here m.0h1fnnz\n",
      "here m.010qnkd2\n",
      "here m.0244n04\n",
      "here m.01hyk1j\n",
      "here m.0wxs9_y\n",
      "here m.0qfz39s\n",
      "here m.010srk7b\n",
      "here m.0h4yd4m\n",
      "here m.0681s06\n",
      "here m.03y9nr_\n"
     ]
    }
   ],
   "source": [
    "entity_map = {}\n",
    "for ent in entities:\n",
    "    val = aliases_dict[ent]\n",
    "    if val.strip() == '':\n",
    "        print('here', ent)\n",
    "        val = ent\n",
    "    entity_map[ent] = val"
   ]
  },
  {
   "cell_type": "code",
   "execution_count": 20,
   "id": "201f67c3",
   "metadata": {},
   "outputs": [
    {
     "data": {
      "text/plain": [
       "(380, 341)"
      ]
     },
     "execution_count": 20,
     "metadata": {},
     "output_type": "execute_result"
    }
   ],
   "source": [
    "len(relation_map), len(set(relation_map.values()))"
   ]
  },
  {
   "cell_type": "code",
   "execution_count": 21,
   "id": "3ef1c681",
   "metadata": {},
   "outputs": [
    {
     "data": {
      "text/plain": [
       "(6790959, 5980516)"
      ]
     },
     "execution_count": 21,
     "metadata": {},
     "output_type": "execute_result"
    }
   ],
   "source": [
    "len(entity_map), len(set(entity_map.values()))"
   ]
  },
  {
   "cell_type": "code",
   "execution_count": 22,
   "id": "03affe38",
   "metadata": {},
   "outputs": [],
   "source": [
    "def mapTriple(triple, ent_map, rel_map):\n",
    "    t = triple\n",
    "    if t[0] not in ent_map or t[2] not in ent_map:\n",
    "        print(t)\n",
    "        return t\n",
    "    \n",
    "    new_triple = [ent_map[t[0]], rel_map[t[1]], ent_map[t[2]]]\n",
    "    return new_triple"
   ]
  },
  {
   "cell_type": "code",
   "execution_count": 23,
   "id": "720a2a53",
   "metadata": {},
   "outputs": [],
   "source": [
    "uniq_ent_map = entity_map"
   ]
  },
  {
   "cell_type": "code",
   "execution_count": 26,
   "id": "1e84e918",
   "metadata": {},
   "outputs": [
    {
     "name": "stdout",
     "output_type": "stream",
     "text": [
      "['disco', 'albums', 'the magic of boney m.']\n",
      "['disco', 'albums', 'the complete boney m.']\n"
     ]
    },
    {
     "data": {
      "text/plain": [
       "2"
      ]
     },
     "execution_count": 26,
     "metadata": {},
     "output_type": "execute_result"
    }
   ],
   "source": [
    "count = 0\n",
    "for id in range(500):\n",
    "    t = mapTriple(data['train'][id], uniq_ent_map, relation_map)\n",
    "    if 'm.' in t[0] or 'm.' in t[2]:\n",
    "        count += 1\n",
    "        print(t)\n",
    "count"
   ]
  },
  {
   "cell_type": "code",
   "execution_count": 27,
   "id": "2afb2faf",
   "metadata": {},
   "outputs": [],
   "source": [
    "import pickle\n",
    "fname = '../freebase/cwq_aliases_from_questions.pickle'\n",
    "cwq_aliases = pickle.load(open(fname, 'rb'))"
   ]
  },
  {
   "cell_type": "code",
   "execution_count": 28,
   "id": "48ac2815",
   "metadata": {},
   "outputs": [
    {
     "name": "stdout",
     "output_type": "stream",
     "text": [
      "m.08dk0b | juice | gridlock'd\n",
      "m.0160nk | emory university | tulane university\n",
      "m.0574xy | tim kaine | jim webb\n",
      "m.06mz5 | south pasadena | south dakota\n",
      "m.0163v | china | belarus\n",
      "m.0d05w3 | azerbaijan | china\n",
      "m.0jhd | belarus | azerbaijan\n",
      "m.0154j | cyprus | belgium\n",
      "m.0j1z8 | turkey | united arab emirates\n",
      "m.04sj3 | sierra leone | madagascar\n",
      "m.05cb70 | nick cannon | reggie bush\n",
      "m.053f8h | jim webb | tim kaine\n",
      "m.02w9s | finland | faroe islands\n",
      "m.0k6nt | austria | denmark\n",
      "m.0k0y0 | brian mulroney | jean chretien\n",
      "m.05cc1 | guinea | niger\n",
      "m.01nqj | macau | cape verde\n",
      "m.06mzp | belgium | switzerland\n",
      "m.05qx1 | guatemala | panama\n",
      "m.04g61 | liechtenstein | luxembourg\n",
      "m.02qb83 | battle of la victoria | venezuelan war of independence\n",
      "m.02qlx__ | dutch-venezuela war | battle of la victoria\n",
      "m.02r0mx4 | 12th g-15 summit | machurucuto incident\n",
      "m.02rf6lc | 2002 venezuelan coup d'etat attempt | 2007 rctv protests\n",
      "m.0461c3 | venezuelan crisis of 1902-03 | 2002 venezuelan coup d'etat attempt\n",
      "m.0c0349z | 2007 rctv protests | 12th g-15 summit\n",
      "m.0cnymms | machurucuto incident | dutch-venezuela war\n",
      "m.0dgqgqf | 2013 venezuela transaereo 5074 britten-norman islander crash | venezuelan crisis of 1902-03\n",
      "m.0ryskwc | venezuelan war of independence | 2013 venezuela transaereo 5074 britten-norman islander crash\n",
      "m.0f2zfl | andrew wiggins | shannon brown\n",
      "m.03cfvqd | dion waiters | jj hickson\n",
      "m.07dzf | syria | tanzania\n",
      "m.02k1b | dominican republic | ecuador\n",
      "m.01ppq | denmark | cyprus\n",
      "m.0h0zn | jean chretien | brian mulroney\n",
      "m.076sw | super bowl xxv | super bowl xxi\n",
      "m.03676 | niger | guinea\n",
      "m.06s_2 | tanzania | sierra leone\n",
      "m.06srk | guinea | senegal\n",
      "m.0fv4v | mauritania | ivory coast\n",
      "m.076wz | super bowl xxvii | super bowl xxx\n",
      "m.04ty8 | bhutan | maldives\n",
      "m.01p8s | argentina | costa rica\n",
      "m.0b_zw | ahmad shukeiri | yitzhak rabin\n",
      "m.08849 | haj amin al-husseini | yasser arafat\n",
      "m.04gqr | qatar | libya\n",
      "m.0bklw1 | cb murcia | valencia bc\n",
      "m.02k8k | panama | el salvador\n",
      "m.0hspy | yasser arafat | david ben-gurion\n",
      "m.056xs | yitzhak rabin | menachem begin\n",
      "m.019x_p | menachem begin | chaim weizmann\n",
      "m.0k0wkgy | jj hickson | dion waiters\n",
      "m.0kg2hkr | shannon brown | andrew wiggins\n",
      "m.0569lx | girl 6 | the muppets' wizard of oz\n",
      "m.093fgz | cb sevilla | real madrid baloncesto\n",
      "m.02kcz | chile | equatorial guinea\n",
      "m.02y3xn | moda center | mercedes-benz superdome\n",
      "m.08_pq1 | take the lead | the grudge 2\n",
      "m.0h1fktn | 8 | glee: the 3d concert movie\n",
      "m.0h4y8jg | russel fish: the sausage and eggs incident | glee encore\n",
      "m.04lhfcl | martin van buren | james alexander hamilton\n",
      "m.04_0m | louis mclane | martin van buren\n",
      "m.0g6n3 | design museum of barcelona | sagrada familia\n",
      "m.079s_7 | crimson peak | green street\n",
      "m.03h2c | costa rica | honduras\n",
      "m.0271d3w | luke mccown | matt ryan\n",
      "m.05rsxm | luke mccown | chris redman\n",
      "m.0gkz15s | the hunger games: mockingjay, part 1 | the hunger games\n",
      "m.0n40qmp | love and honor | the hunger games: catching fire\n",
      "m.0ngvsvk | triangle | the hunger games: mockingjay, part 1\n",
      "m.047yc | libya | kuwait\n",
      "m.040pyq | le mans fc | ivory coast national football team\n",
      "m.027jk | kuwait | djibouti\n",
      "m.05l8y | qatar | oman\n",
      "m.0697s | bahrain | qatar\n",
      "m.0ngvtb_ | the hunger games | the hunger games: mockingjay, part 2\n",
      "m.037ph0 | gtz grudziadz | turow zgorzelec\n",
      "m.03z20c | from dusk till dawn | little nicky\n",
      "m.02l2z6 | the expression of the emotions in man and animals | the descent of man, and selection in relation to sex\n",
      "m.04t39r_ | the correspondence of charles darwin, volume 1: 1821-1836 | on natural selection\n",
      "m.05pskf | on natural selection | the expression of the emotions in man and animals\n",
      "m.07kbf6f | the descent of man, and selection in relation to sex | insectivorous plants\n",
      "m.0d_3d1b | insectivorous plants | the correspondence of charles darwin, volume 1: 1821-1836\n",
      "m.09kvv | gettysburg college | johns hopkins university\n",
      "m.025j12 | american society of cinematographers board of the governors award | kennedy center honors\n",
      "m.02f2hd | screen actors guild award for outstanding performance by a male actor in | naacp image award for outstanding actor in a motion picture\n",
      "m.02f2kw | obie award for performance | naacp image award for outstanding supporting actor in a motion picture\n",
      "m.02spb2 | golden globe cecil b. demille award | afi life achievement award\n",
      "m.02x73k6 | independent spirit award for best supporting male | national society of film critics award for best supporting actor\n",
      "m.02x8n1n | people's choice award for favorite cast | independent spirit award for best supporting male\n",
      "m.054ky1 | national society of film critics award for best supporting actor | golden globe cecil b. demille award\n",
      "m.09sdmz | naacp image award for outstanding actor in a motion picture | screen actors guild award for outstanding performance by a male actor in\n",
      "m.09tly71 | people's choice award for favorite movie icon | people's choice award for favorite cast\n",
      "m.0hj8khy | afi life achievement award | people's choice award for favorite movie icon\n",
      "m.0lyxb7f | kennedy center honors | american society of cinematographers board of the governors award\n",
      "m.0zbhqxc | naacp image award for outstanding supporting actor in a motion picture | obie award for performance\n",
      "m.066b_n | camp rock 2: the final jam | cheaper by the dozen 2\n",
      "m.0bs3vgr | the twilight saga: breaking dawn - part 1 | butter\n",
      "m.08wv1j | lauren conrad | kristin cavallari\n",
      "m.06_vszc | the expendables 2 | triangle\n",
      "m.0gffmn8 | the hunger games: mockingjay, part 2 | the expendables 2\n",
      "m.0gxtt2w | the hunger games: catching fire | love and honor\n",
      "m.0c1_1c | fab five: the texas cheerleader scandal | take the lead\n",
      "m.0fsd9t | northanger abbey | mansfield park\n",
      "m.051x5f2 | wannabe | living the dream\n",
      "m.01tx3t | george r. brown convention center | toyota center\n",
      "m.026fxz | space center houston | rothko chapel\n",
      "m.05170t | rothko chapel | george r. brown convention center\n",
      "m.0fy56_ | toyota center | space center houston\n",
      "m.0h0yd81 | green street | pacific rim\n",
      "m.03bkkv | harry potter and the half-blood prince | harry potter and the deathly hallows\n",
      "m.06_rf9 | harry potter and the deathly hallows | harry potter and the half-blood prince\n",
      "m.05c74 | paraguay | nicaragua\n",
      "m.01d1st | ben roethlisberger | nick cannon\n",
      "m.04jr__ | little nicky | my best friend's birthday\n",
      "m.01n6c | madagascar | comoros\n",
      "m.01nyl | rwanda | central african republic\n",
      "m.01rxw | central african republic | congo\n",
      "m.01nln | luxembourg | cameroon\n",
      "m.0169t | vanuatu | burundi\n",
      "m.01p1b | burundi | chad\n",
      "m.0_gbp0r | left behind | cavemen\n",
      "m.09g6jrt | glee: the 3d concert movie | russel fish: the sausage and eggs incident\n",
      "m.0dgs3mp | to write love on her arms | the lone ranger\n",
      "m.0ft693q | freaky friday | murphy's dozen\n",
      "m.0ghghlt | house of wax | the carrier\n",
      "m.0gxw8cp | house of wax | lies in plain sight\n",
      "m.0h_cvyh | fruitvale station | to write love on her arms\n",
      "m.0pcfg64 | cavemen | left behind\n",
      "m.0ngl265 | glee encore | 8\n",
      "m.0gty278 | tamara | setup\n",
      "m.066xwk | new york and new jersey campaign | battle of jumonville glen\n",
      "m.05szbg | scary movie | the honeymooners\n",
      "m.0zn1hg0 | frankie go boom | crimson peak\n",
      "m.07ytt | luxembourg | vatican city\n",
      "m.051zxkk | slask wroclaw | gtz grudziadz\n",
      "m.0bqxw | tulane university | emory university\n",
      "m.08487v | juice | love & basketball\n",
      "m.0dq9wx | paris hilton | lauren conrad\n",
      "m.04j1mv4 | double dare | somebody to love\n",
      "m.0b6j4zh | four rooms | destiny turns on the radio\n",
      "m.0wk4knj | paranoia | cut bank\n",
      "m.02v5_g | big trouble | scream 2\n",
      "m.033gkt | in too deep | higher learning\n",
      "m.04jdgq | love & basketball | dracula 2000\n",
      "m.05pr8b | major league ii | big trouble\n",
      "m.08yf3q | dracula 2000 | the mod squad\n",
      "m.04j2hqm | big trouble | conviction\n",
      "m.0c5dgvg | love & basketball | daybreak\n",
      "m.05c2tnq | the six wives of henry lefay | american virgin\n",
      "m.0fq33vs | american virgin | 10 years\n",
      "m.0g4zbk | step up | tamara\n",
      "m.02pkz7 | above the rim | murder was the case\n",
      "m.0cc2r_ | gridlock'd | gang related\n",
      "m.0f4nt1 | murder was the case | bullet\n",
      "m.0408m53 | the answer man | the house bunny\n",
      "m.03bxrfl | sleep with me | death proof\n",
      "m.0glymk | wake | the sensation of sight\n",
      "m.0h2kycm | beauty & the briefcase | you, me & the circus\n",
      "m.0crts8b | the sensation of sight | the lost samaritan\n",
      "m.06sff | croatia | san marino\n",
      "m.01xypd | nathan deal | sonny perdue\n",
      "m.011yg9 | emma | sense and sensibility\n",
      "m.059cb45 | nicomachean ethics | the nicomachean ethics\n",
      "m.059cb4r | the nicomachean ethics | nicomachean ethics\n",
      "m.059cb6h | the nicomachean ethics (penguin classics) | nicomachean ethics\n",
      "m.059cbch | nicomachean ethics. | the nicomachean ethics (penguin classics)\n",
      "m.0g55y4p | deadfall | the ledge\n",
      "m.0gyffmd | the ledge | frankie go boom\n",
      "m.0cs1gzj | desperado | kisses in the dark\n",
      "m.0f4_l | little nicky | pulp fiction\n",
      "m.05q8gln | the tournament | marco polo\n",
      "m.06zpsmp | marco polo | how to make love to a woman\n",
      "m.0bd5mrx | fireball | lost city raiders\n",
      "m.0cnbrgy | how to make love to a woman | wake\n",
      "m.0cs0g8b | the lost samaritan | fireball\n",
      "m.0ddf2bm | all good things | crazy, stupid, love.\n",
      "m.02phpqn | way of the vampire | camp slaughter\n",
      "m.0hz35 | hillsborough county | waltham\n",
      "m.037p7l | kk wloclawek | asseco gdynia\n",
      "m.0dd9mps | stal gorzow wielkopolski | basket zielona gora\n",
      "m.0168b | sri lanka | british indian ocean territory\n",
      "m.0gx0043 | you, me & the circus | wyatt earp's revenge\n",
      "m.07kbtr4 | real zaragoza | melbourne city fc\n",
      "m.03wftzq | valencia cf | sporting de gijon b\n",
      "m.0lhp1 | sporting de gijon b | real zaragoza\n",
      "m.01d6g | kansas city royals | baltimore orioles\n",
      "m.0h2kydx | hot dudes with kittens | the ghost of goodnight lane\n",
      "m.04thp | cape verde | macau\n",
      "m.04kd5d | ivory coast national football team | shanghai greenland shenhua f.c.\n",
      "m.0f98p_ | clueless | jane austen in manhattan\n",
      "m.09ncpg | jane austen in manhattan | northanger abbey\n",
      "m.0qjzd | mansfield park | clueless\n",
      "m.04gh5vv | the grudge 2 | fab five: the texas cheerleader scandal\n",
      "m.04vg8 | chad | martinique\n",
      "m.0512p | los angeles angels of anaheim | minnesota twins\n",
      "m.02z12dc | the jerk theory | waterborne\n",
      "m.03rhqg | def jam recordings | warner bros. records\n",
      "m.073tm9 | atlantic records | def jam recordings\n",
      "m.04vqvv | manassas station operations | battle of white oak swamp\n",
      "m.02bckn | first battle of rappahannock station | battle of chantilly\n",
      "m.02p037 | battle of chantilly | battle of harpers ferry\n",
      "m.04v_xx | battle of chancellorsville | manassas station operations\n",
      "m.04v_qr | jackson's valley campaign | first battle of rappahannock station\n",
      "m.04v_mz | second battle of bull run | battle of cedar mountain\n",
      "m.0f777 | battle of cedar mountain | second battle of bull run\n",
      "m.021h20 | battle of harpers ferry | jackson's valley campaign\n",
      "m.02hzwl | disney's typhoon lagoon | disney's animal kingdom\n",
      "m.02mv7g | wet 'n wild orlando | disney's hollywood studios\n",
      "m.02txcm | islands of adventure | disneyquest\n",
      "m.034130 | disney's river country | universal orlando\n",
      "m.03c6j75 | magic kingdom | wet 'n wild orlando\n",
      "m.0437y8 | seaworld orlando | disney's blizzard beach\n",
      "m.04dh7m | universal studios florida | disney's river country\n",
      "m.04srm9 | universal orlando | disney's typhoon lagoon\n",
      "m.05ppq8 | disneyquest | islands of adventure\n",
      "m.05qsyq | disney's blizzard beach | universal studios florida\n",
      "m.05s9mb | valencia bc | saski baskonia\n",
      "m.06w8y2x | cb sant josep | obradoiro cab\n",
      "m.0bkk7d | basquet manresa | cb sevilla\n",
      "m.0h2cvd1 | the grudge 2 | the jerk theory\n",
      "m.0crtsl8 | 10 years | falling awake\n",
      "m.093d8j0 | i'm still here: real diaries of young people who lived during the | blue valentine\n",
      "m.0d78m2r | lars and the real girl | i'm still here: real diaries of young people who lived during the\n",
      "m.02x0fs9 | blue valentine | lars and the real girl\n",
      "m.04zx33c | higher learning | first time felon\n",
      "m.01n31w | georgia dome | moda center\n",
      "m.0328cp | mercedes-benz superdome | nationwide arena\n",
      "m.038bv6 | consol energy center | georgia dome\n",
      "m.0h2ky9j | in between days | hot dudes with kittens\n",
      "m.0j9nnpr | sagrada familia | design museum of barcelona\n",
      "m.0crsyk2 | living the dream | the indian\n",
      "m.047d4bz | teen wolf | wipeout\n",
      "m.0crt711 | the elder son | the other brother\n",
      "m.01ypc | new york yankees | cincinnati reds\n",
      "m.0227vl | kristin cavallari | paris hilton\n",
      "m.02qbpd | wroclaw | donetsk\n",
      "m.06yg5s | ncis | 240-robert\n",
      "m.040btp | the wood | against the ropes\n",
      "m.04vt8k | battle of front royal | battle of hoke's run\n",
      "m.04g7f54 | swimming at the 2008 summer olympics - women's 400 metre individual medley | swimming at the 2008 summer olympics - women's 200 metre individual medley\n",
      "m.03qhxn_ | the mod squad | perfume\n",
      "m.08r27j | brother | the wood\n",
      "m.08tw1f | scream 2 | in too deep\n",
      "m.08zjv6 | alfie | breakfast of champions\n",
      "m.0g6sm2 | the dream merchants | reasonable doubts\n",
      "m.07kfw9h | saski baskonia | cb avenida\n",
      "m.04lhy9w | baloncesto malaga | cb sant josep\n",
      "m.09ctgt | obradoiro cab | joventut badalona\n",
      "m.0dl843 | real madrid baloncesto | cb murcia\n",
      "m.0bklzm | cb avenida | basquet manresa\n",
      "m.051rk5c | jackie brown | god said ha!\n",
      "m.029jpy | rhode island | new england\n",
      "m.0drzdzp | attack on orleans | alice dollar incident\n",
      "m.080kw1 | 1999-2000 nba season | 1998-99 nba season\n",
      "m.037p8c | basket zielona gora | kk wloclawek\n",
      "m.047d9d5 | turow zgorzelec | slask wroclaw\n",
      "m.03gv21b | asseco gdynia | stal gorzow wielkopolski\n",
      "m.02q1jxj | clement railroad hotel museum | downtown presbyterian church\n",
      "m.03cwct | tennessee state capitol | nashville municipal auditorium\n",
      "m.04n4m_c | nashville municipal auditorium | clement railroad hotel museum\n",
      "m.061gsk | ryman auditorium | tennessee state capitol\n",
      "m.06c2l0 | downtown presbyterian church | fort negley\n",
      "m.07tj4c | sense and sensibility | emma\n",
      "m.0dsdpp2 | battle of the piave river | uss monocacy incident\n",
      "m.052hlx | north russia intervention | battle of the piave river\n",
      "m.0bhc6zq | uss monocacy incident | scuttling of sms cormoran\n",
      "m.043nv9q | scuttling of sms cormoran | attack on orleans\n",
      "m.0bxl0n | battle of the clouds | philadelphia campaign\n",
      "m.01k0s4 | battle of germantown | battle of monmouth\n",
      "m.01bh42 | battle of monmouth | treaty of alliance\n",
      "m.02pjz77 | quasi-war | battle of the clouds\n",
      "m.0fphvnc | punk'd | teen wolf\n",
      "m.02lx0 | andorra | timor-leste\n",
      "m.04vyf2 | first battle of kernstown | battle of hancock\n",
      "m.04jryv | sukiyaki western django | curdled\n",
      "m.07v95y | mansfield park | pride and prejudice: a latter-day comedy\n",
      "m.04tg5b | 1920 world series | 1954 world series\n",
      "m.03bxrfz | death proof | planet terror\n",
      "m.026tqdb | eddie presley | sleep with me\n",
      "m.02qb14n | diary of the dead | double dare\n",
      "m.0789_z | university of miami | tarkio college\n",
      "m.0h2r0x7 | wyatt earp's revenge | in between days\n",
      "m.0rph0cf | kisses in the dark | the coriolis effect\n",
      "m.0w4hwpv | the coriolis effect | dance me to the end of love\n",
      "m.03548 | equatorial guinea | gabon\n",
      "m.06dfg | gabon | rwanda\n",
      "m.027nb | saint lucia | dominica\n",
      "m.01cw71 | ahmed yassin | ahmad shukeiri\n",
      "m.039b_q | chaim weizmann | dalal mughrabi\n",
      "m.0kww1 | hussein of jordan | ahmed yassin\n",
      "m.01czvz | dalal mughrabi | haj amin al-husseini\n",
      "m.07h0q2 | battle of jumonville glen | battle of the assunpink creek\n",
      "m.0247w9 | battle of princeton | battle of white plains\n",
      "m.06kd6y | battle of long island | battle of fort duquesne\n",
      "m.01g09p | battle of fort duquesne | battle of long island\n",
      "m.02fmsl | boston campaign | new york and new jersey campaign\n",
      "m.01gphc | battle of trenton | braddock expedition\n",
      "m.01jnys | battle of fort washington | siege of boston\n",
      "m.02fnwp | french and indian war | battle of harlem heights\n",
      "m.062pq1 | battle of fort necessity | boston campaign\n",
      "m.05f78h | battle of the assunpink creek | battle of fort necessity\n",
      "m.04m2k9 | siege of boston | battle of pell's point\n",
      "m.0b364c | battle of pell's point | battle of fort washington\n",
      "m.08knpp | battle of white plains | fortification of dorchester heights\n",
      "m.09lxtg | barbados | trinidad and tobago\n",
      "m.0cvcdtm | perfume | mtv 20: jams\n",
      "m.02w89p | whitworth art gallery | urbis\n",
      "m.05nwfr | galatasaray s.k. | en avant de guingamp\n",
      "m.034tl | duarte | guam\n",
      "m.0bwhdbl | a cinderella story: once upon a song | scream 4\n",
      "m.02w4by3 | step up 3d | camp rock\n",
      "m.080b54x | a cinderella story: once upon a song | camp rock 2: the final jam\n",
      "m.0gky0pl | scream 4 | a cinderella story: once upon a song\n",
      "m.01q6lq | third county courthouse | verrazano-narrows bridge\n",
      "m.0690ct | en avant de guingamp | le mans fc\n",
      "m.0b6kw6d | run of the house | melissa & joey\n",
      "m.0g0tw9 | blossom | brotherly love\n",
      "m.02xwgb | melissa & joey | blossom\n",
      "m.026_g9w | blossom | run of the house\n",
      "m.0wmtg | south dakota | stillwater\n",
      "m.0r06n | guam | duarte\n",
      "m.0bh9n8g | super buddies | phineas and ferb the movie: across the 2nd dimension\n",
      "m.0ztfxbv | camp rock | step up: all in\n",
      "m.026k503 | step up | holly hobbie and friends: christmas wishes\n",
      "m.047f43s | step up: all in | alice upside down\n",
      "m.0gj8r0x | holly hobbie and friends: christmas wishes | the little engine that could\n",
      "m.0wq4q7j | alice upside down | super buddies\n",
      "m.0r0_5 | stillwater | south pasadena\n",
      "m.039s6j | old trafford | manchester jewish museum\n",
      "m.0bm8swc | manchester jewish museum | the moon under water, manchester\n",
      "m.030lpl | the moon under water, manchester | old trafford\n",
      "m.0383g6 | manchester cathedral | whitworth art gallery\n",
      "m.0gfwvpj | true blood - season 6 | true blood season 4\n",
      "m.0k6j758 | true blood season 7 | true blood - season 6\n",
      "m.0wj_9lr | true blood season 4 | true blood season 7\n"
     ]
    },
    {
     "data": {
      "text/plain": [
       "336"
      ]
     },
     "execution_count": 28,
     "metadata": {},
     "output_type": "execute_result"
    }
   ],
   "source": [
    "# in cwq, in questions dataset, id<->string mapping is very bad\n",
    "# for eg. china = belarus?\n",
    "# so dont use it\n",
    "count = 0\n",
    "for key, value in cwq_aliases.items():\n",
    "    if key in uniq_ent_map:\n",
    "        val_from_map = uniq_ent_map[key]\n",
    "        value = getBestName([value], max_name_words)\n",
    "#         value = normalizeEntity(value)\n",
    "        # TODO: we randomly chose 12 words? why 12?\n",
    "#         value = truncateWords(value, 12)\n",
    "        if value == '':\n",
    "            value = key\n",
    "        if value != val_from_map:\n",
    "            count += 1\n",
    "#             uniq_ent_map[key] = value\n",
    "            print(key, '|', value, '|' ,val_from_map)\n",
    "        \n",
    "#             print(key, '*', value, '*', val_from_map)\n",
    "count      "
   ]
  },
  {
   "cell_type": "code",
   "execution_count": 66,
   "id": "55b0059b",
   "metadata": {},
   "outputs": [
    {
     "data": {
      "text/plain": [
       "6897740"
      ]
     },
     "execution_count": 66,
     "metadata": {},
     "output_type": "execute_result"
    }
   ],
   "source": [
    "len(data['train'])"
   ]
  },
  {
   "cell_type": "code",
   "execution_count": 29,
   "id": "09507964",
   "metadata": {},
   "outputs": [],
   "source": [
    "# save maps\n",
    "import pickle\n",
    "fname = 'data/cwq_full_oldstyle/ent_map_cwq_full_oldstyle.pickle'\n",
    "pickle.dump(uniq_ent_map, open(fname, 'wb'))\n",
    "fname = 'data/cwq_full_oldstyle/rel_map_full_oldstyle.pickle'\n",
    "pickle.dump(relation_map, open(fname, 'wb'))"
   ]
  },
  {
   "cell_type": "code",
   "execution_count": 30,
   "id": "dec20bbe",
   "metadata": {},
   "outputs": [
    {
     "name": "stderr",
     "output_type": "stream",
     "text": [
      "100%|████████████████████████████████████████████████████████████████████████████████████████████████████████████████████████████████████████████████████████████| 13802824/13802824 [00:54<00:00, 254620.39it/s]\n",
      "100%|████████████████████████████████████████████████████████████████████████████████████████████████████████████████████████████████████████████████████████████████████| 5000/5000 [00:00<00:00, 244406.22it/s]\n",
      "100%|████████████████████████████████████████████████████████████████████████████████████████████████████████████████████████████████████████████████████████████████████| 5000/5000 [00:00<00:00, 306915.26it/s]\n"
     ]
    }
   ],
   "source": [
    "out_folder = '/scratche/home/apoorv/transformer-kgc/data/cwq_full_oldstyle'\n",
    "splits = ['train', 'test', 'valid']\n",
    "\n",
    "count = 0\n",
    "for split in splits:\n",
    "    fname = os.path.join(out_folder, split + '.txt')\n",
    "    f = open(fname, 'w')\n",
    "    triples = data[split]\n",
    "    for t in tqdm(triples):\n",
    "        \n",
    "        t = mapTriple(t, uniq_ent_map, relation_map)\n",
    "        head, relation, tail = t\n",
    "        \n",
    "        # can we do with just predict tail?\n",
    "        # since reverse relations might already be there\n",
    "        # + the QA format is not going to be <topic entity> | qn\n",
    "        # instead it will be regular question\n",
    "        input = 'predict tail: {0} | {1} |'.format(head, relation)\n",
    "        output = '{}'.format(tail)\n",
    "        f.write(input + '\\t' + output + '\\n')\n",
    "        \n",
    "        input = 'predict head: {0} | {1} |'.format(tail, relation)\n",
    "        output = '{}'.format(head)\n",
    "        f.write(input + '\\t' + output + '\\n')\n",
    "    f.close()"
   ]
  },
  {
   "cell_type": "code",
   "execution_count": 31,
   "id": "9c498634",
   "metadata": {},
   "outputs": [
    {
     "data": {
      "text/plain": [
       "0"
      ]
     },
     "execution_count": 31,
     "metadata": {},
     "output_type": "execute_result"
    }
   ],
   "source": [
    "count"
   ]
  },
  {
   "cell_type": "code",
   "execution_count": 32,
   "id": "483eab98",
   "metadata": {},
   "outputs": [],
   "source": [
    "# create entity_strings.txt which is needed in evaluation code\n",
    "strings_file_name = 'entity_strings.txt'\n",
    "f = open(os.path.join(out_folder, strings_file_name), 'w')\n",
    "ents_uniq = set(uniq_ent_map.values())\n",
    "for e in ents_uniq:\n",
    "    f.write(e + '\\n')\n",
    "f.close()"
   ]
  },
  {
   "cell_type": "code",
   "execution_count": 110,
   "id": "92b98056",
   "metadata": {},
   "outputs": [],
   "source": [
    "# webqsp qa \n",
    "# def readQALines(fname):\n",
    "#     f = open(fname)\n",
    "#     questions = []\n",
    "#     for line in f:\n",
    "#         line = line.strip().split('\\t')\n",
    "#         q = line[0]\n",
    "#         lhs = q.split('[')[0]\n",
    "#         rhs = q.split(']')[1]\n",
    "#         only_question = lhs + 'NE' + rhs\n",
    "#         only_question = normalizeEntity(only_question)\n",
    "# #         q = q.replace('[', '')\n",
    "# #         q = q.replace(']', '')\n",
    "# #         q = normalizeEntity(q)\n",
    "#         questions.append(only_question)\n",
    "#     return questions\n",
    "        \n",
    "# def writeLines(lines, fname):\n",
    "#     f = open(fname, 'w')\n",
    "#     for line in lines:\n",
    "#         f.write(line + '\\n')\n"
   ]
  },
  {
   "cell_type": "code",
   "execution_count": 111,
   "id": "7c0446cc",
   "metadata": {},
   "outputs": [],
   "source": [
    "for k, v in uniq_ent_map.items():\n",
    "    if v == '':\n",
    "        print(k, v)"
   ]
  },
  {
   "cell_type": "code",
   "execution_count": 103,
   "id": "b9f40016",
   "metadata": {},
   "outputs": [
    {
     "data": {
      "text/plain": [
       "'what character did natalie portman play in star wars NE'"
      ]
     },
     "execution_count": 103,
     "metadata": {},
     "output_type": "execute_result"
    }
   ],
   "source": []
  },
  {
   "cell_type": "code",
   "execution_count": 81,
   "id": "7cd8116f",
   "metadata": {},
   "outputs": [],
   "source": [
    "# fname = 'data/MetaQA/full_qa.txt'\n",
    "# questions = readQALines(fname)\n",
    "# questions = list(set(questions))"
   ]
  },
  {
   "cell_type": "code",
   "execution_count": 82,
   "id": "31ccafbc",
   "metadata": {},
   "outputs": [],
   "source": [
    "# fname = 'data/MetaQA/only_questions_text.txt'\n",
    "# writeLines(questions, fname)"
   ]
  },
  {
   "cell_type": "code",
   "execution_count": 124,
   "id": "8a8e6782",
   "metadata": {},
   "outputs": [
    {
     "name": "stderr",
     "output_type": "stream",
     "text": [
      "sentencepiece_trainer.cc(77) LOG(INFO) Starts training with : \n",
      "trainer_spec {\n",
      "  input: data/fbwq_half_lego/train.txt\n",
      "  input_format: \n",
      "  model_prefix: fbwq_half_lego_with_pad\n",
      "  model_type: UNIGRAM\n",
      "  vocab_size: 30000\n",
      "  self_test_sample_size: 0\n",
      "  character_coverage: 0.9995\n",
      "  input_sentence_size: 0\n",
      "  shuffle_input_sentence: 1\n",
      "  seed_sentencepiece_size: 1000000\n",
      "  shrinking_factor: 0.75\n",
      "  max_sentence_length: 4192\n",
      "  num_threads: 16\n",
      "  num_sub_iterations: 2\n",
      "  max_sentencepiece_length: 16\n",
      "  split_by_unicode_script: 1\n",
      "  split_by_number: 1\n",
      "  split_by_whitespace: 1\n",
      "  split_digits: 0\n",
      "  treat_whitespace_as_suffix: 0\n",
      "  required_chars: \n",
      "  byte_fallback: 0\n",
      "  vocabulary_output_piece_score: 1\n",
      "  train_extremely_large_corpus: 0\n",
      "  hard_vocab_limit: 1\n",
      "  use_all_vocab: 0\n",
      "  unk_id: 0\n",
      "  bos_id: 1\n",
      "  eos_id: 2\n",
      "  pad_id: 3\n",
      "  unk_piece: <unk>\n",
      "  bos_piece: <s>\n",
      "  eos_piece: </s>\n",
      "  pad_piece: <pad>\n",
      "  unk_surface:  ⁇ \n",
      "}\n",
      "normalizer_spec {\n",
      "  name: nmt_nfkc\n",
      "  add_dummy_prefix: 1\n",
      "  remove_extra_whitespaces: 1\n",
      "  escape_whitespaces: 1\n",
      "  normalization_rule_tsv: \n",
      "}\n",
      "denormalizer_spec {}\n",
      "trainer_interface.cc(319) LOG(INFO) SentenceIterator is not specified. Using MultiFileSentenceIterator.\n",
      "trainer_interface.cc(174) LOG(INFO) Loading corpus: data/fbwq_half_lego/train.txt\n",
      "trainer_interface.cc(375) LOG(INFO) Loaded all 752718 sentences\n",
      "trainer_interface.cc(390) LOG(INFO) Adding meta_piece: <unk>\n",
      "trainer_interface.cc(390) LOG(INFO) Adding meta_piece: <s>\n",
      "trainer_interface.cc(390) LOG(INFO) Adding meta_piece: </s>\n",
      "trainer_interface.cc(390) LOG(INFO) Adding meta_piece: <pad>\n",
      "trainer_interface.cc(395) LOG(INFO) Normalizing sentences...\n",
      "trainer_interface.cc(456) LOG(INFO) all chars count=45895192\n",
      "trainer_interface.cc(467) LOG(INFO) Done: 99.9597% characters are covered.\n",
      "trainer_interface.cc(477) LOG(INFO) Alphabet size=47\n",
      "trainer_interface.cc(478) LOG(INFO) Final character coverage=0.999597\n",
      "trainer_interface.cc(510) LOG(INFO) Done! preprocessed 752718 sentences.\n",
      "unigram_model_trainer.cc(138) LOG(INFO) Making suffix array...\n",
      "unigram_model_trainer.cc(142) LOG(INFO) Extracting frequent sub strings...\n",
      "unigram_model_trainer.cc(193) LOG(INFO) Initialized 150150 seed sentencepieces\n",
      "trainer_interface.cc(516) LOG(INFO) Tokenizing input sentences with whitespace: 752718\n",
      "trainer_interface.cc(526) LOG(INFO) Done! 125742\n",
      "unigram_model_trainer.cc(488) LOG(INFO) Using 125742 sentences for EM training\n",
      "unigram_model_trainer.cc(504) LOG(INFO) EM sub_iter=0 size=94201 obj=12.4031 num_tokens=299660 num_tokens/piece=3.18107\n",
      "unigram_model_trainer.cc(504) LOG(INFO) EM sub_iter=1 size=75921 obj=9.63852 num_tokens=300855 num_tokens/piece=3.96274\n",
      "unigram_model_trainer.cc(504) LOG(INFO) EM sub_iter=0 size=56940 obj=9.54348 num_tokens=306318 num_tokens/piece=5.37966\n",
      "unigram_model_trainer.cc(504) LOG(INFO) EM sub_iter=1 size=56927 obj=9.37335 num_tokens=307690 num_tokens/piece=5.40499\n",
      "unigram_model_trainer.cc(504) LOG(INFO) EM sub_iter=0 size=42693 obj=9.3831 num_tokens=323863 num_tokens/piece=7.58586\n",
      "unigram_model_trainer.cc(504) LOG(INFO) EM sub_iter=1 size=42692 obj=9.36158 num_tokens=324298 num_tokens/piece=7.59622\n",
      "unigram_model_trainer.cc(504) LOG(INFO) EM sub_iter=0 size=33000 obj=9.40025 num_tokens=337380 num_tokens/piece=10.2236\n",
      "unigram_model_trainer.cc(504) LOG(INFO) EM sub_iter=1 size=32996 obj=9.38695 num_tokens=337480 num_tokens/piece=10.2279\n",
      "trainer_interface.cc(604) LOG(INFO) Saving model: fbwq_half_lego_with_pad.model\n",
      "trainer_interface.cc(615) LOG(INFO) Saving vocabs: fbwq_half_lego_with_pad.vocab\n"
     ]
    }
   ],
   "source": [
    "vocab_size = 30000\n",
    "sp = spm.SentencePieceTrainer.train(input='data/fbwq_half_lego/train.txt', \n",
    "                                    model_prefix='fbwq_half_lego_with_pad', vocab_size=vocab_size, \n",
    "                                    pad_id=3,\n",
    "#                                     character_coverage=1.0,\n",
    "#                                user_defined_symbols=['predict',\n",
    "#                                                     'head',\n",
    "#                                                     'tail',\n",
    "#                                                     '|'],\n",
    "#                                     normalization_rule_name='identity',\n",
    "                              )"
   ]
  },
  {
   "cell_type": "code",
   "execution_count": 125,
   "id": "c2256ddf",
   "metadata": {},
   "outputs": [],
   "source": [
    "# sp = spm.SentencePieceProcessor(model_file='data/sentencepiece/metaqa_with_pad.model')\n",
    "sp = spm.SentencePieceProcessor(model_file='fbwq_half_lego_with_pad.model')"
   ]
  },
  {
   "cell_type": "code",
   "execution_count": 114,
   "id": "8e3aa571",
   "metadata": {},
   "outputs": [],
   "source": [
    "# sp['Obama']"
   ]
  },
  {
   "cell_type": "code",
   "execution_count": 115,
   "id": "ba0b22e2",
   "metadata": {},
   "outputs": [
    {
     "data": {
      "text/plain": [
       "'how old'"
      ]
     },
     "execution_count": 115,
     "metadata": {},
     "output_type": "execute_result"
    }
   ],
   "source": [
    "sp.decode(sp.encode('how old'))"
   ]
  },
  {
   "cell_type": "code",
   "execution_count": 116,
   "id": "2c83c7a2",
   "metadata": {},
   "outputs": [
    {
     "data": {
      "text/plain": [
       "[4, 0, 1259, 57, 0]"
      ]
     },
     "execution_count": 116,
     "metadata": {},
     "output_type": "execute_result"
    }
   ],
   "source": [
    "sp.encode('<pad>')"
   ]
  },
  {
   "cell_type": "code",
   "execution_count": 195,
   "id": "dc8aa35e",
   "metadata": {},
   "outputs": [
    {
     "data": {
      "text/plain": [
       "2"
      ]
     },
     "execution_count": 195,
     "metadata": {},
     "output_type": "execute_result"
    }
   ],
   "source": [
    "sp['</s>']"
   ]
  },
  {
   "cell_type": "code",
   "execution_count": 117,
   "id": "0b28dd64",
   "metadata": {},
   "outputs": [
    {
     "data": {
      "text/plain": [
       "'<pad>'"
      ]
     },
     "execution_count": 117,
     "metadata": {},
     "output_type": "execute_result"
    }
   ],
   "source": [
    "sp.id_to_piece(3)"
   ]
  },
  {
   "cell_type": "code",
   "execution_count": 122,
   "id": "30733281",
   "metadata": {},
   "outputs": [
    {
     "name": "stderr",
     "output_type": "stream",
     "text": [
      "100%|██████████████████████████████████████████████████████| 149681/149681 [00:01<00:00, 123751.90it/s]\n"
     ]
    },
    {
     "data": {
      "text/plain": [
       "0"
      ]
     },
     "execution_count": 122,
     "metadata": {},
     "output_type": "execute_result"
    }
   ],
   "source": [
    "lengths = []\n",
    "count = 0\n",
    "for e in tqdm(ents_uniq):\n",
    "    encoded = sp.encode(e)\n",
    "    l = len(encoded)\n",
    "    if l > 500:\n",
    "        print(e,l)\n",
    "        l = 20\n",
    "        count += 1\n",
    "    lengths.append(l)\n",
    "count"
   ]
  },
  {
   "cell_type": "code",
   "execution_count": 123,
   "id": "ede78af9",
   "metadata": {},
   "outputs": [
    {
     "data": {
      "text/plain": [
       "Text(0.5, 0, 'Tokenized lengths')"
      ]
     },
     "execution_count": 123,
     "metadata": {},
     "output_type": "execute_result"
    },
    {
     "data": {
      "image/png": "[encoded data removed]",
      "text/plain": [
       "<Figure size 432x288 with 1 Axes>"
      ]
     },
     "metadata": {
      "needs_background": "light"
     },
     "output_type": "display_data"
    }
   ],
   "source": [
    "import matplotlib.pyplot as plt \n",
    "\n",
    "import numpy as np \n",
    "\n",
    "%matplotlib inline\n",
    "\n",
    "# x = np.random.normal(size = 1000) \n",
    "x = lengths\n",
    "plt.hist(x, bins=30) \n",
    "\n",
    "plt.ylabel('Num entities');\n",
    "plt.xlabel('Tokenized lengths')"
   ]
  },
  {
   "cell_type": "code",
   "execution_count": 119,
   "id": "8055bc10",
   "metadata": {
    "scrolled": false
   },
   "outputs": [
    {
     "data": {
      "text/plain": [
       "Text(0.5, 0, 'Tokenized lengths')"
      ]
     },
     "execution_count": 119,
     "metadata": {},
     "output_type": "execute_result"
    },
    {
     "data": {
      "image/png": "[encoded data removed]",
      "text/plain": [
       "<Figure size 432x288 with 1 Axes>"
      ]
     },
     "metadata": {
      "needs_background": "light"
     },
     "output_type": "display_data"
    }
   ],
   "source": [
    "import matplotlib.pyplot as plt \n",
    "\n",
    "import numpy as np \n",
    "\n",
    "%matplotlib inline\n",
    "\n",
    "# x = np.random.normal(size = 1000) \n",
    "x = lengths\n",
    "plt.hist(x, bins=30) \n",
    "\n",
    "plt.ylabel('Num entities');\n",
    "plt.xlabel('Tokenized lengths')"
   ]
  },
  {
   "cell_type": "code",
   "execution_count": 190,
   "id": "afd66461",
   "metadata": {},
   "outputs": [
    {
     "name": "stderr",
     "output_type": "stream",
     "text": [
      "100%|██████████| 1068/1068 [00:00<00:00, 41292.34it/s]"
     ]
    },
    {
     "name": "stdout",
     "output_type": "stream",
     "text": [
      "astronomical objects discovered\n",
      "astronomical objects discovered reverse\n",
      "sewage treatment plant\n",
      "sewage treatment plant reverse\n",
      "infidelity perpetrator reverse\n",
      "substance abuse reverse\n",
      "lifetime batting statistics reverse\n",
      "sponsored by reverse\n",
      "substance abuse problems reverse\n",
      "appears in these fictional universes reverse\n",
      "jurisdiction of office reverse\n",
      "body this is a component of reverse\n",
      "politicians in this party reverse\n",
      "websites owned reverse\n",
      "tropical cyclone season reverse\n",
      "olympics hosted reverse\n",
      "types of places of worship reverse\n",
      "athletic performances reverse\n",
      "mode of transportation reverse\n",
      "appeared in tv episodes reverse\n",
      "episodes appeared in reverse\n"
     ]
    },
    {
     "name": "stderr",
     "output_type": "stream",
     "text": [
      "\n"
     ]
    },
    {
     "data": {
      "text/plain": [
       "21"
      ]
     },
     "execution_count": 190,
     "metadata": {},
     "output_type": "execute_result"
    }
   ],
   "source": [
    "lengths = []\n",
    "count = 0\n",
    "for e in tqdm(relations):\n",
    "    encoded = sp.encode(relation_map[e])\n",
    "    l = len(encoded)\n",
    "    if l > 10:\n",
    "        print(relation_map[e])\n",
    "        count +=1\n",
    "    lengths.append(l)\n",
    "count"
   ]
  },
  {
   "cell_type": "code",
   "execution_count": 186,
   "id": "b5462fd9",
   "metadata": {},
   "outputs": [
    {
     "data": {
      "text/plain": [
       "Text(0.5, 0, 'Tokenized lengths')"
      ]
     },
     "execution_count": 186,
     "metadata": {},
     "output_type": "execute_result"
    },
    {
     "data": {
      "image/png": "[encoded data removed]",
      "text/plain": [
       "<Figure size 432x288 with 1 Axes>"
      ]
     },
     "metadata": {
      "needs_background": "light"
     },
     "output_type": "display_data"
    }
   ],
   "source": [
    "import matplotlib.pyplot as plt \n",
    "\n",
    "import numpy as np \n",
    "\n",
    "%matplotlib inline\n",
    "\n",
    "# x = np.random.normal(size = 1000) \n",
    "x = lengths\n",
    "plt.hist(x, bins=30) \n",
    "\n",
    "plt.ylabel('Num entities');\n",
    "plt.xlabel('Tokenized lengths')"
   ]
  },
  {
   "cell_type": "code",
   "execution_count": 191,
   "id": "51a339bd",
   "metadata": {},
   "outputs": [
    {
     "data": {
      "text/plain": [
       "[167, 10, 96]"
      ]
     },
     "execution_count": 191,
     "metadata": {},
     "output_type": "execute_result"
    }
   ],
   "source": [
    "sp.encode('plays for')"
   ]
  },
  {
   "cell_type": "code",
   "execution_count": 104,
   "id": "be1d15cf",
   "metadata": {},
   "outputs": [
    {
     "data": {
      "text/plain": [
       "1880592"
      ]
     },
     "execution_count": 104,
     "metadata": {},
     "output_type": "execute_result"
    }
   ],
   "source": [
    "len(uniq_ent_map)"
   ]
  },
  {
   "cell_type": "code",
   "execution_count": 143,
   "id": "023dc021",
   "metadata": {},
   "outputs": [],
   "source": [
    "def replaceEntities(line, aliases_dict):\n",
    "    line = line.strip().split('\\t')\n",
    "    q = line[0]\n",
    "    # sometimes no answer\n",
    "    if len(line) > 1:\n",
    "        answers= line[1].split('|')\n",
    "    else:\n",
    "        answers = []    \n",
    "    lhs = q.split('[')[0]\n",
    "    rhs = q.split(']')[1]\n",
    "    head_id = q.split('[')[1].split(']')[0]\n",
    "    if head_id in aliases_dict:\n",
    "        head_text = aliases_dict[head_id]\n",
    "    else:\n",
    "        head_text = head_id\n",
    "        print(head_text + ' not found')\n",
    "    answers_text = []\n",
    "    for a in answers:\n",
    "        if a in aliases_dict:\n",
    "            answers_text.append(aliases_dict[a])\n",
    "        else:\n",
    "            answers_text.append(a)\n",
    "    answers_string = '|'.join(answers_text)\n",
    "    \n",
    "    out = '{lhs}[{head}]{rhs}\\t{ans}'.format(\n",
    "        lhs=lhs,\n",
    "        rhs=rhs,\n",
    "        head = head_text,\n",
    "        ans = answers_string\n",
    "    )\n",
    "    return out\n",
    "        \n",
    "def readLines(fname):\n",
    "    f = open(fname)\n",
    "    lines = []\n",
    "    for line in f:\n",
    "        lines.append(line.rstrip())\n",
    "    f.close()\n",
    "    return lines\n",
    "\n",
    "def writeLines(lines, fname):\n",
    "    f = open(fname, 'w')\n",
    "    for line in lines:\n",
    "        f.write(line + '\\n')\n",
    "    f.close()"
   ]
  },
  {
   "cell_type": "code",
   "execution_count": 137,
   "id": "f67a0b09",
   "metadata": {},
   "outputs": [],
   "source": [
    "# need to make qa data as well, since entity aliases need to be used\n",
    "# and not just entity ids as answers\n",
    "fname = '/scratche/home/apoorv/EmbedKGQA/data/QA_data/WebQuestionsSP/qa_test_webqsp_fixed.txt'\n",
    "questions = readLines(fname)\n"
   ]
  },
  {
   "cell_type": "code",
   "execution_count": 138,
   "id": "53a73429",
   "metadata": {},
   "outputs": [
    {
     "data": {
      "text/plain": [
       "'what did james k polk do before he was president [m.042f1]\\tm.02_bcst|m.04x_n9q|m.0cgqx'"
      ]
     },
     "execution_count": 138,
     "metadata": {},
     "output_type": "execute_result"
    }
   ],
   "source": [
    "questions[1]"
   ]
  },
  {
   "cell_type": "code",
   "execution_count": 144,
   "id": "62983ae2",
   "metadata": {},
   "outputs": [
    {
     "name": "stdout",
     "output_type": "stream",
     "text": [
      "m.02vkmj9 not found\n"
     ]
    }
   ],
   "source": [
    "lines_with_entities = [replaceEntities(q, uniq_ent_map) for q in questions]"
   ]
  },
  {
   "cell_type": "code",
   "execution_count": 145,
   "id": "dd205992",
   "metadata": {},
   "outputs": [
    {
     "data": {
      "text/plain": [
       "1639"
      ]
     },
     "execution_count": 145,
     "metadata": {},
     "output_type": "execute_result"
    }
   ],
   "source": [
    "len(lines_with_entities)"
   ]
  },
  {
   "cell_type": "code",
   "execution_count": 146,
   "id": "1372b3d0",
   "metadata": {},
   "outputs": [
    {
     "data": {
      "text/plain": [
       "['what does jamaican people speak [Jamaica 1]\\tJamaican English|Jamaican Creole English Langua|Jamaican English',\n",
       " 'what did james k polk do before he was president [James K. Polk]\\tUnited States Representative|Governor of Tennessee|Speaker of the United States H',\n",
       " 'who plays ken barlow in coronation street [Coronation Street]\\tWilliam Roache',\n",
       " 'where is jamarcus russell from [JaMarcus Russell]\\tMobile 0',\n",
       " 'where was george washington carver from [George Washington Carver]\\tDiamond 8',\n",
       " 'what else did ben franklin invent [Benjamin Franklin]\\tLightning rod|Bifocals|Glass harmonica|Franklin stove',\n",
       " 'who was richard nixon married to [Richard Nixon]\\tPat Nixon',\n",
       " 'who is governor of ohio 2011 [Ohio 2]\\tJohn Kasich|Return J. Meigs, Jr.|Ted Strickland',\n",
       " 'who was vice president after kennedy died [John F. Kennedy 0]\\tLyndon B. Johnson 1',\n",
       " 'where is the fukushima daiichi nuclear plant located [Fukushima Daiichi Nuclear Powe]\\tJapan 1|Okuma']"
      ]
     },
     "execution_count": 146,
     "metadata": {},
     "output_type": "execute_result"
    }
   ],
   "source": [
    "lines_with_entities[:10]"
   ]
  },
  {
   "cell_type": "code",
   "execution_count": 148,
   "id": "dc01e9dd",
   "metadata": {},
   "outputs": [],
   "source": [
    "fname = 'data/fbwq_half/qa_valid_1hop.txt'\n",
    "writeLines(lines_with_entities, fname)"
   ]
  },
  {
   "cell_type": "code",
   "execution_count": null,
   "id": "a3bed453",
   "metadata": {},
   "outputs": [],
   "source": []
  }
 ],
 "metadata": {
  "kernelspec": {
   "display_name": "Python 3 (ipykernel)",
   "language": "python",
   "name": "python3"
  },
  "language_info": {
   "codemirror_mode": {
    "name": "ipython",
    "version": 3
   },
   "file_extension": ".py",
   "mimetype": "text/x-python",
   "name": "python",
   "nbconvert_exporter": "python",
   "pygments_lexer": "ipython3",
   "version": "3.8.11"
  }
 },
 "nbformat": 4,
 "nbformat_minor": 5
}

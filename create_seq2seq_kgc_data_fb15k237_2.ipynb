{
 "cells": [
  {
   "cell_type": "code",
   "execution_count": 4,
   "id": "6294b12f",
   "metadata": {},
   "outputs": [],
   "source": [
    "import os\n",
    "import pickle\n",
    "from tqdm import tqdm\n",
    "import sentencepiece as spm"
   ]
  },
  {
   "cell_type": "code",
   "execution_count": 5,
   "id": "66554ebd",
   "metadata": {},
   "outputs": [
    {
     "name": "stdout",
     "output_type": "stream",
     "text": [
      "dataset.yaml\r\n",
      "entity_ids.del\r\n",
      "entity_ids.del-True-t-False.pckl\r\n",
      "entity_strings.del\r\n",
      "entity_strings.del-False-t-True.pckl\r\n",
      "index-relations_per_type.pckl\r\n",
      "index-relation_types.pckl\r\n",
      "index-test_po_to_s.pckl\r\n",
      "index-test_sp_to_o.pckl\r\n",
      "index-train_po_to_s.pckl\r\n",
      "index-train_sp_to_o.pckl\r\n",
      "index-valid_po_to_s.pckl\r\n",
      "index-valid_sp_to_o.pckl\r\n",
      "MSR-LA_Data_Full Rights_FB15K-237 Knowledge Base Completion Dataset (2650).docx\r\n",
      "README.txt\r\n",
      "relation_ids.del\r\n",
      "relation_ids.del-True-t-False.pckl\r\n",
      "relation_ids.del-True-t-True.pckl\r\n",
      "test.del\r\n",
      "test.del-t.pckl\r\n",
      "test.txt\r\n",
      "test_without_unseen.del\r\n",
      "train.del\r\n",
      "train.del-t.pckl\r\n",
      "train_sample.del\r\n",
      "train.txt\r\n",
      "valid.del\r\n",
      "valid.del-t.pckl\r\n",
      "valid.txt\r\n",
      "valid_without_unseen.del\r\n"
     ]
    }
   ],
   "source": [
    "source_folder = '/scratche/home/apoorv/repos/probe_kge/data/fb15k-237'\n",
    "! ls {source_folder}"
   ]
  },
  {
   "cell_type": "code",
   "execution_count": 6,
   "id": "59e18046",
   "metadata": {},
   "outputs": [],
   "source": [
    "def readTriples(fname):\n",
    "    f = open(fname)\n",
    "    triples = []\n",
    "    for line in f:\n",
    "        if line[-1] == '\\n':\n",
    "            line = line[:-1]\n",
    "        triples.append(line.split('\\t'))\n",
    "    f.close()\n",
    "    return triples"
   ]
  },
  {
   "cell_type": "code",
   "execution_count": 7,
   "id": "aa327398",
   "metadata": {},
   "outputs": [],
   "source": [
    "# load half data\n",
    "data = {}\n",
    "splits = ['train', 'test', 'valid']\n",
    "for split in splits:\n",
    "    fname = os.path.join(source_folder, split + '.txt')\n",
    "    data[split] = readTriples(fname)"
   ]
  },
  {
   "cell_type": "code",
   "execution_count": 8,
   "id": "da7e6850",
   "metadata": {},
   "outputs": [
    {
     "data": {
      "text/plain": [
       "['/m/07t3gd', '/people/profession/specialization_of', '/m/03nfmq']"
      ]
     },
     "execution_count": 8,
     "metadata": {},
     "output_type": "execute_result"
    }
   ],
   "source": [
    "data['train'][5000]"
   ]
  },
  {
   "cell_type": "code",
   "execution_count": 9,
   "id": "43313580",
   "metadata": {},
   "outputs": [
    {
     "data": {
      "text/plain": [
       "272115"
      ]
     },
     "execution_count": 9,
     "metadata": {},
     "output_type": "execute_result"
    }
   ],
   "source": [
    "len(data['train'])"
   ]
  },
  {
   "cell_type": "code",
   "execution_count": 10,
   "id": "4de2b491",
   "metadata": {},
   "outputs": [
    {
     "data": {
      "text/plain": [
       "13379"
      ]
     },
     "execution_count": 10,
     "metadata": {},
     "output_type": "execute_result"
    }
   ],
   "source": [
    "uniq_tails = set()\n",
    "for t in data['train']:\n",
    "    uniq_tails.add(t[2])\n",
    "len(uniq_tails)"
   ]
  },
  {
   "cell_type": "code",
   "execution_count": 11,
   "id": "7a566591",
   "metadata": {},
   "outputs": [],
   "source": [
    "relations = set()\n",
    "for s in splits:\n",
    "    for triple in data[s]:\n",
    "        relations.add(triple[1])"
   ]
  },
  {
   "cell_type": "code",
   "execution_count": 12,
   "id": "bcb0945b",
   "metadata": {},
   "outputs": [
    {
     "data": {
      "text/plain": [
       "237"
      ]
     },
     "execution_count": 12,
     "metadata": {},
     "output_type": "execute_result"
    }
   ],
   "source": [
    "len(relations)"
   ]
  },
  {
   "cell_type": "code",
   "execution_count": 13,
   "id": "9f41a55f",
   "metadata": {},
   "outputs": [
    {
     "data": {
      "text/plain": [
       "{'/american_football/football_team/current_roster./sports/sports_team_roster/position',\n",
       " '/award/award_category/category_of',\n",
       " '/award/award_category/disciplines_or_subjects',\n",
       " '/award/award_category/nominees./award/award_nomination/nominated_for',\n",
       " '/award/award_category/winners./award/award_honor/award_winner',\n",
       " '/award/award_category/winners./award/award_honor/ceremony',\n",
       " '/award/award_ceremony/awards_presented./award/award_honor/award_winner',\n",
       " '/award/award_ceremony/awards_presented./award/award_honor/honored_for',\n",
       " '/award/award_nominated_work/award_nominations./award/award_nomination/nominated_for',\n",
       " '/award/award_nominee/award_nominations./award/award_nomination/award',\n",
       " '/award/award_nominee/award_nominations./award/award_nomination/award_nominee',\n",
       " '/award/award_nominee/award_nominations./award/award_nomination/nominated_for',\n",
       " '/award/award_winner/awards_won./award/award_honor/award_winner',\n",
       " '/award/award_winning_work/awards_won./award/award_honor/award',\n",
       " '/award/award_winning_work/awards_won./award/award_honor/award_winner',\n",
       " '/award/award_winning_work/awards_won./award/award_honor/honored_for',\n",
       " '/award/hall_of_fame/inductees./award/hall_of_fame_induction/inductee',\n",
       " '/award/ranked_item/appears_in_ranked_lists./award/ranking/list',\n",
       " '/base/aareas/schema/administrative_area/administrative_area_type',\n",
       " '/base/aareas/schema/administrative_area/administrative_parent',\n",
       " '/base/aareas/schema/administrative_area/capital',\n",
       " '/base/americancomedy/celebrity_impressionist/celebrities_impersonated',\n",
       " '/base/biblioness/bibs_location/country',\n",
       " '/base/biblioness/bibs_location/state',\n",
       " '/base/culturalevent/event/entity_involved',\n",
       " '/base/eating/practicer_of_diet/diet',\n",
       " '/base/localfood/seasonal_month/produce_available./base/localfood/produce_availability/seasonal_months',\n",
       " '/base/locations/continents/countries_within',\n",
       " '/base/marchmadness/ncaa_basketball_tournament/seeds./base/marchmadness/ncaa_tournament_seed/team',\n",
       " '/base/petbreeds/city_with_dogs/top_breeds./base/petbreeds/dog_city_relationship/dog_breed',\n",
       " '/base/popstra/celebrity/breakup./base/popstra/breakup/participant',\n",
       " '/base/popstra/celebrity/canoodled./base/popstra/canoodled/participant',\n",
       " '/base/popstra/celebrity/dated./base/popstra/dated/participant',\n",
       " '/base/popstra/celebrity/friendship./base/popstra/friendship/participant',\n",
       " '/base/popstra/location/vacationers./base/popstra/vacation_choice/vacationer',\n",
       " '/base/saturdaynightlive/snl_cast_member/seasons./base/saturdaynightlive/snl_season_tenure/cast_members',\n",
       " '/base/schemastaging/organization_extra/phone_number./base/schemastaging/phone_sandbox/contact_category',\n",
       " '/base/schemastaging/organization_extra/phone_number./base/schemastaging/phone_sandbox/service_language',\n",
       " '/base/schemastaging/organization_extra/phone_number./base/schemastaging/phone_sandbox/service_location',\n",
       " '/base/schemastaging/person_extra/net_worth./measurement_unit/dated_money_value/currency',\n",
       " '/base/x2010fifaworldcupsouthafrica/world_cup_squad/current_world_cup_squad./base/x2010fifaworldcupsouthafrica/current_world_cup_squad/current_club',\n",
       " '/baseball/baseball_team/team_stats./baseball/baseball_team_stats/season',\n",
       " '/broadcast/content/artist',\n",
       " '/business/business_operation/assets./measurement_unit/dated_money_value/currency',\n",
       " '/business/business_operation/industry',\n",
       " '/business/business_operation/operating_income./measurement_unit/dated_money_value/currency',\n",
       " '/business/business_operation/revenue./measurement_unit/dated_money_value/currency',\n",
       " '/business/job_title/people_with_this_title./business/employment_tenure/company',\n",
       " '/celebrities/celebrity/celebrity_friends./celebrities/friendship/friend',\n",
       " '/celebrities/celebrity/sexual_relationships./celebrities/romantic_relationship/celebrity',\n",
       " '/common/topic/webpage./common/webpage/category',\n",
       " '/dataworld/gardening_hint/split_to',\n",
       " '/education/educational_degree/people_with_this_degree./education/education/institution',\n",
       " '/education/educational_degree/people_with_this_degree./education/education/major_field_of_study',\n",
       " '/education/educational_degree/people_with_this_degree./education/education/student',\n",
       " '/education/educational_institution/campuses',\n",
       " '/education/educational_institution/colors',\n",
       " '/education/educational_institution/school_type',\n",
       " '/education/educational_institution/students_graduates./education/education/major_field_of_study',\n",
       " '/education/educational_institution/students_graduates./education/education/student',\n",
       " '/education/educational_institution_campus/educational_institution',\n",
       " '/education/field_of_study/students_majoring./education/education/major_field_of_study',\n",
       " '/education/field_of_study/students_majoring./education/education/student',\n",
       " '/education/university/domestic_tuition./measurement_unit/dated_money_value/currency',\n",
       " '/education/university/fraternities_and_sororities',\n",
       " '/education/university/international_tuition./measurement_unit/dated_money_value/currency',\n",
       " '/education/university/local_tuition./measurement_unit/dated_money_value/currency',\n",
       " '/film/actor/dubbing_performances./film/dubbing_performance/language',\n",
       " '/film/actor/film./film/performance/film',\n",
       " '/film/actor/film./film/performance/special_performance_type',\n",
       " '/film/director/film',\n",
       " '/film/film/cinematography',\n",
       " '/film/film/costume_design_by',\n",
       " '/film/film/country',\n",
       " '/film/film/distributors./film/film_film_distributor_relationship/film_distribution_medium',\n",
       " '/film/film/distributors./film/film_film_distributor_relationship/region',\n",
       " '/film/film/dubbing_performances./film/dubbing_performance/actor',\n",
       " '/film/film/edited_by',\n",
       " '/film/film/estimated_budget./measurement_unit/dated_money_value/currency',\n",
       " '/film/film/executive_produced_by',\n",
       " '/film/film/featured_film_locations',\n",
       " '/film/film/film_art_direction_by',\n",
       " '/film/film/film_festivals',\n",
       " '/film/film/film_format',\n",
       " '/film/film/film_production_design_by',\n",
       " '/film/film/genre',\n",
       " '/film/film/language',\n",
       " '/film/film/music',\n",
       " '/film/film/other_crew./film/film_crew_gig/crewmember',\n",
       " '/film/film/other_crew./film/film_crew_gig/film_crew_role',\n",
       " '/film/film/personal_appearances./film/personal_film_appearance/person',\n",
       " '/film/film/prequel',\n",
       " '/film/film/produced_by',\n",
       " '/film/film/production_companies',\n",
       " '/film/film/release_date_s./film/film_regional_release_date/film_regional_debut_venue',\n",
       " '/film/film/release_date_s./film/film_regional_release_date/film_release_distribution_medium',\n",
       " '/film/film/release_date_s./film/film_regional_release_date/film_release_region',\n",
       " '/film/film/runtime./film/film_cut/film_release_region',\n",
       " '/film/film/story_by',\n",
       " '/film/film/written_by',\n",
       " '/film/film_distributor/films_distributed./film/film_film_distributor_relationship/film',\n",
       " '/film/film_set_designer/film_sets_designed',\n",
       " '/film/film_subject/films',\n",
       " '/film/person_or_entity_appearing_in_film/films./film/personal_film_appearance/type_of_appearance',\n",
       " '/film/special_film_performance_type/film_performance_type./film/performance/film',\n",
       " '/food/food/nutrients./food/nutrition_fact/nutrient',\n",
       " '/government/government_office_category/officeholders./government/government_position_held/jurisdiction_of_office',\n",
       " '/government/governmental_body/members./government/government_position_held/legislative_sessions',\n",
       " '/government/legislative_session/members./government/government_position_held/district_represented',\n",
       " '/government/legislative_session/members./government/government_position_held/legislative_sessions',\n",
       " '/government/political_party/politicians_in_this_party./government/political_party_tenure/politician',\n",
       " '/government/politician/government_positions_held./government/government_position_held/basic_title',\n",
       " '/government/politician/government_positions_held./government/government_position_held/jurisdiction_of_office',\n",
       " '/government/politician/government_positions_held./government/government_position_held/legislative_sessions',\n",
       " '/ice_hockey/hockey_team/current_roster./sports/sports_team_roster/position',\n",
       " '/influence/influence_node/influenced_by',\n",
       " '/influence/influence_node/peers./influence/peer_relationship/peers',\n",
       " '/language/human_language/countries_spoken_in',\n",
       " '/location/administrative_division/country',\n",
       " '/location/administrative_division/first_level_division_of',\n",
       " '/location/capital_of_administrative_division/capital_of./location/administrative_division_capital_relationship/administrative_division',\n",
       " '/location/country/capital',\n",
       " '/location/country/form_of_government',\n",
       " '/location/country/official_language',\n",
       " '/location/country/second_level_divisions',\n",
       " '/location/hud_county_place/county',\n",
       " '/location/hud_county_place/place',\n",
       " '/location/hud_foreclosure_area/estimated_number_of_mortgages./measurement_unit/dated_integer/source',\n",
       " '/location/location/adjoin_s./location/adjoining_relationship/adjoins',\n",
       " '/location/location/contains',\n",
       " '/location/location/partially_contains',\n",
       " '/location/location/time_zones',\n",
       " '/location/statistical_region/gdp_nominal./measurement_unit/dated_money_value/currency',\n",
       " '/location/statistical_region/gdp_nominal_per_capita./measurement_unit/dated_money_value/currency',\n",
       " '/location/statistical_region/gdp_real./measurement_unit/adjusted_money_value/adjustment_currency',\n",
       " '/location/statistical_region/gni_per_capita_in_ppp_dollars./measurement_unit/dated_money_value/currency',\n",
       " '/location/statistical_region/places_exported_to./location/imports_and_exports/exported_to',\n",
       " '/location/statistical_region/religions./location/religion_percentage/religion',\n",
       " '/location/statistical_region/rent50_2./measurement_unit/dated_money_value/currency',\n",
       " '/location/us_county/county_seat',\n",
       " '/media_common/netflix_genre/titles',\n",
       " '/medicine/disease/notable_people_with_this_condition',\n",
       " '/medicine/disease/risk_factors',\n",
       " '/medicine/symptom/symptom_of',\n",
       " '/military/military_combatant/military_conflicts./military/military_combatant_group/combatants',\n",
       " '/military/military_conflict/combatants./military/military_combatant_group/combatants',\n",
       " '/music/artist/contribution./music/recording_contribution/performance_role',\n",
       " '/music/artist/origin',\n",
       " '/music/artist/track_contributions./music/track_contribution/role',\n",
       " '/music/genre/artists',\n",
       " '/music/genre/parent_genre',\n",
       " '/music/group_member/membership./music/group_membership/group',\n",
       " '/music/group_member/membership./music/group_membership/role',\n",
       " '/music/instrument/family',\n",
       " '/music/instrument/instrumentalists',\n",
       " '/music/performance_role/guest_performances./music/recording_contribution/performance_role',\n",
       " '/music/performance_role/regular_performances./music/group_membership/group',\n",
       " '/music/performance_role/regular_performances./music/group_membership/role',\n",
       " '/music/performance_role/track_performances./music/track_contribution/role',\n",
       " '/music/record_label/artist',\n",
       " '/olympics/olympic_games/medals_awarded./olympics/olympic_medal_honor/medal',\n",
       " '/olympics/olympic_games/participating_countries',\n",
       " '/olympics/olympic_games/sports',\n",
       " '/olympics/olympic_participating_country/athletes./olympics/olympic_athlete_affiliation/olympics',\n",
       " '/olympics/olympic_participating_country/medals_won./olympics/olympic_medal_honor/medal',\n",
       " '/olympics/olympic_participating_country/medals_won./olympics/olympic_medal_honor/olympics',\n",
       " '/olympics/olympic_sport/athletes./olympics/olympic_athlete_affiliation/country',\n",
       " '/olympics/olympic_sport/athletes./olympics/olympic_athlete_affiliation/olympics',\n",
       " '/organization/endowed_organization/endowment./measurement_unit/dated_money_value/currency',\n",
       " '/organization/non_profit_organization/registered_with./organization/non_profit_registration/registering_agency',\n",
       " '/organization/organization/child./organization/organization_relationship/child',\n",
       " '/organization/organization/headquarters./location/mailing_address/citytown',\n",
       " '/organization/organization/headquarters./location/mailing_address/country',\n",
       " '/organization/organization/headquarters./location/mailing_address/state_province_region',\n",
       " '/organization/organization/place_founded',\n",
       " '/organization/organization_founder/organizations_founded',\n",
       " '/organization/organization_member/member_of./organization/organization_membership/organization',\n",
       " '/organization/role/leaders./organization/leadership/organization',\n",
       " '/people/cause_of_death/people',\n",
       " '/people/deceased_person/place_of_burial',\n",
       " '/people/deceased_person/place_of_death',\n",
       " '/people/ethnicity/geographic_distribution',\n",
       " '/people/ethnicity/languages_spoken',\n",
       " '/people/ethnicity/people',\n",
       " '/people/marriage_union_type/unions_of_this_type./people/marriage/location_of_ceremony',\n",
       " '/people/person/employment_history./business/employment_tenure/company',\n",
       " '/people/person/gender',\n",
       " '/people/person/languages',\n",
       " '/people/person/nationality',\n",
       " '/people/person/place_of_birth',\n",
       " '/people/person/places_lived./people/place_lived/location',\n",
       " '/people/person/profession',\n",
       " '/people/person/religion',\n",
       " '/people/person/sibling_s./people/sibling_relationship/sibling',\n",
       " '/people/person/spouse_s./people/marriage/location_of_ceremony',\n",
       " '/people/person/spouse_s./people/marriage/spouse',\n",
       " '/people/person/spouse_s./people/marriage/type_of_union',\n",
       " '/people/profession/specialization_of',\n",
       " '/soccer/football_player/current_team./sports/sports_team_roster/team',\n",
       " '/soccer/football_team/current_roster./soccer/football_roster_position/position',\n",
       " '/soccer/football_team/current_roster./sports/sports_team_roster/position',\n",
       " '/sports/pro_athlete/teams./sports/sports_team_roster/team',\n",
       " '/sports/professional_sports_team/draft_picks./sports/sports_league_draft_pick/draft',\n",
       " '/sports/professional_sports_team/draft_picks./sports/sports_league_draft_pick/school',\n",
       " '/sports/sport/pro_athletes./sports/pro_sports_played/athlete',\n",
       " '/sports/sports_league/teams./sports/sports_league_participation/team',\n",
       " '/sports/sports_league_draft/picks./sports/sports_league_draft_pick/school',\n",
       " '/sports/sports_position/players./american_football/football_historical_roster_position/position_s',\n",
       " '/sports/sports_position/players./sports/sports_team_roster/position',\n",
       " '/sports/sports_position/players./sports/sports_team_roster/team',\n",
       " '/sports/sports_team/colors',\n",
       " '/sports/sports_team/roster./american_football/football_historical_roster_position/position_s',\n",
       " '/sports/sports_team/roster./american_football/football_roster_position/position',\n",
       " '/sports/sports_team/roster./baseball/baseball_roster_position/position',\n",
       " '/sports/sports_team/roster./basketball/basketball_roster_position/position',\n",
       " '/sports/sports_team/sport',\n",
       " '/sports/sports_team_location/teams',\n",
       " '/time/event/instance_of_recurring_event',\n",
       " '/time/event/locations',\n",
       " '/travel/travel_destination/climate./travel/travel_destination_monthly_climate/month',\n",
       " '/travel/travel_destination/how_to_get_here./travel/transportation/mode_of_transportation',\n",
       " '/tv/non_character_role/tv_regular_personal_appearances./tv/tv_regular_personal_appearance/person',\n",
       " '/tv/tv_network/programs./tv/tv_network_duration/program',\n",
       " '/tv/tv_personality/tv_regular_appearances./tv/tv_regular_personal_appearance/program',\n",
       " '/tv/tv_producer/programs_produced./tv/tv_producer_term/producer_type',\n",
       " '/tv/tv_producer/programs_produced./tv/tv_producer_term/program',\n",
       " '/tv/tv_program/country_of_origin',\n",
       " '/tv/tv_program/genre',\n",
       " '/tv/tv_program/languages',\n",
       " '/tv/tv_program/program_creator',\n",
       " '/tv/tv_program/regular_cast./tv/regular_tv_appearance/actor',\n",
       " '/tv/tv_program/tv_producer./tv/tv_producer_term/producer_type',\n",
       " '/tv/tv_writer/tv_programs./tv/tv_program_writer_relationship/tv_program',\n",
       " '/user/alexander/philosophy/philosopher/interests',\n",
       " '/user/jg/default_domain/olympic_games/sports',\n",
       " '/user/ktrueman/default_domain/international_organization/member_states',\n",
       " '/user/tsegaran/random/taxonomy_subject/entry./user/tsegaran/random/taxonomy_entry/taxonomy'}"
      ]
     },
     "execution_count": 13,
     "metadata": {},
     "output_type": "execute_result"
    }
   ],
   "source": [
    "relations"
   ]
  },
  {
   "cell_type": "code",
   "execution_count": 31,
   "id": "13335f90",
   "metadata": {},
   "outputs": [],
   "source": [
    "import pickle\n",
    "from unidecode import unidecode\n",
    "relation_map = {}\n",
    "fname = '/scratche/home/apoorv/freebase/relation_names_from_google_cwq.pickle'\n",
    "relation_names_from_google_cwq = pickle.load(open(fname, 'rb'))\n",
    "fname = '/scratche/home/apoorv/freebase/relation_names_from_google.pickle'\n",
    "relation_names_from_google = pickle.load(open(fname, 'rb'))\n",
    "\n",
    "for k, v in relation_names_from_google_cwq.items():\n",
    "    relation_names_from_google[k] = v\n",
    "# for rel in relations:\n",
    "#     rel_processed = relation_names_from_google[rel]\n",
    "# #     rel_processed = unidecode(rel_processed)\n",
    "# #     rel_processed = rel_processed.replace('|', ',')\n",
    "# #     rel_processed = rel_processed.lower()\n",
    "#     if rel_processed == '':\n",
    "#         print(rel)\n",
    "#     relation_map[rel] = rel_processed"
   ]
  },
  {
   "cell_type": "code",
   "execution_count": 32,
   "id": "085f5d6c",
   "metadata": {},
   "outputs": [
    {
     "data": {
      "text/plain": [
       "{'book.editorial_tenure.periodical': 'Periodical',\n",
       " 'sports.sports_award.award_winner': 'Award Winner',\n",
       " 'film.film.edited_by': 'Edited by',\n",
       " 'people.ethnicity.geographic_distribution': 'Geographic distribution',\n",
       " 'tv.tv_series_season.from': 'From',\n",
       " 'location.country.form_of_government': 'Form of Government',\n",
       " 'architecture.building_function.buildings': 'Buildings',\n",
       " 'fictional_universe.sibling_relationship_of_fictional_characters.siblings': 'Siblings',\n",
       " 'base.schemastaging.non_profit_extra.classification': 'Classification',\n",
       " 'religion.religion.notable_figures': 'Notable Figures',\n",
       " 'symbols.namesake.named_after': 'Named after',\n",
       " 'american_football.football_historical_coach_position.coach': 'Coach',\n",
       " 'film.music_contributor.film': 'Film music credits',\n",
       " 'book.newspaper.owner': 'Owner',\n",
       " 'language.human_language.dialects': 'Dialects',\n",
       " 'chemistry.element_discoverer.discovered': 'Discovered',\n",
       " 'user.rcheramy.default_domain.hockey_team.head_coach': 'Head Coach',\n",
       " 'business.consumer_company.products': 'Products',\n",
       " 'american_football.football_player.games': 'Games',\n",
       " 'sports.sports_team_roster.team': 'Team',\n",
       " 'base.politicalconventions.presidential_nominee.nominated_at': 'Nominated At',\n",
       " 'base.biblioness.bibs_location.country': 'Country',\n",
       " 'base.crime.acquittal.crime_type': 'Crime type',\n",
       " 'zoos.zoo.num_species': 'Number of Species',\n",
       " 'american_football.football_historical_coach_position.from': 'From',\n",
       " 'government.election_campaign.election': 'Election',\n",
       " 'tv.tv_program.episode_running_time': 'Original episode running time',\n",
       " 'film.person_or_entity_appearing_in_film.films': 'Films appeared in',\n",
       " 'olympics.olympic_athlete_affiliation.sport': 'Sport',\n",
       " 'architecture.structure.construction_started': 'Construction Started',\n",
       " 'royalty.noble_title_tenure.noble_title': 'Noble title',\n",
       " 'sports.drafted_athlete.drafted': 'Drafted',\n",
       " 'celebrities.romantic_relationship.start_date': 'Start date',\n",
       " 'meteorology.cyclone_affected_area.cyclones': 'Affected by cyclones',\n",
       " 'travel.travel_destination.climate': 'Climate',\n",
       " 'government.governmental_jurisdiction.governing_officials': 'Governing officials',\n",
       " 'organization.leadership.role': 'Role',\n",
       " 'distilled_spirits.distillery.region': 'Region',\n",
       " 'government.governmental_jurisdiction.government_bodies': 'Government bodies',\n",
       " 'baseball.baseball_player.batting_stats': 'Batting Statistics',\n",
       " 'sports.sports_league_draft_pick.team': 'Team',\n",
       " 'film.personal_film_appearance.film': 'Film',\n",
       " 'travel.travel_destination.how_to_get_here': 'How to get here',\n",
       " 'government.political_party.ideology': 'Ideology',\n",
       " 'base.disaster2.attack_process.attack_event': 'Attack event',\n",
       " 'tv.tv_program.thetvdb_id': 'TheTVDB.com ID',\n",
       " 'base.popstra.celebrity.infidelity_perpetrator': 'Infidelity Perpetrator',\n",
       " 'tv.tv_program.theme_song': 'Theme song',\n",
       " 'language.human_language.language_family': 'Language Family',\n",
       " 'tennis.tennis_tournament_champion.tennis_titles': 'Tennis Titles',\n",
       " 'education.educational_institution.students_graduates': 'Students/Graduates',\n",
       " 'chemistry.chemical_compound.pubchem_id': 'PubChem ID',\n",
       " 'government.form_of_government.countries': 'Countries',\n",
       " 'organization.organization.child': 'Child',\n",
       " 'tennis.tennis_match.date': 'Date',\n",
       " 'book.illustrator.books_illustrated': 'Books illustrated',\n",
       " 'sports.sports_team.colors': 'Colors',\n",
       " 'tv.tv_network_duration.network': 'Network',\n",
       " 'meteorology.tropical_cyclone.affected_areas': 'Affected areas',\n",
       " 'location.place_with_neighborhoods.neighborhoods': 'Neighborhoods',\n",
       " 'people.person.quotations': 'Quotations',\n",
       " 'food.dish.type_of_dish1': 'Type of dish',\n",
       " 'film.film_subject.films': 'Films On This Subject',\n",
       " 'base.qualia.disabled_person.disability': 'Disability',\n",
       " 'geography.mountain.prominence': 'Prominence',\n",
       " 'geography.river.origin': 'Origin',\n",
       " 'organization.organization.place_founded': 'Place founded',\n",
       " 'sports.sports_team.previously_known_as': 'Previously Known As',\n",
       " 'user.dylanrocks.national_football_league.nfl_teams_that_have_moved_cities.original_city': 'Original City',\n",
       " 'basketball.basketball_team.head_coach': 'Head Coach',\n",
       " 'basketball.basketball_player.player_statistics': 'Player Statistics',\n",
       " 'sports.pro_sports_played.career_end': 'To',\n",
       " 'sports.sports_award_type.winners': 'Winners',\n",
       " 'basketball.basketball_player_stats.team': 'Team',\n",
       " 'boats.ship_ownership.owner': 'Owner',\n",
       " 'religion.religion.deities': 'Deity Or Deities',\n",
       " 'religion.religion.organizations': 'Organizations',\n",
       " 'boats.ship_ownership.ship': 'Ship',\n",
       " 'royalty.noble_person.titles': 'Titles',\n",
       " 'base.disaster2.injured_person.injuries': 'Injuries',\n",
       " 'book.written_work.subjects': 'Subjects',\n",
       " 'location.location_symbol_relationship.symbol': 'Symbol',\n",
       " 'fictional_universe.romantic_involvement.partner': 'Partner',\n",
       " 'fictional_universe.fictional_organization.sub_organization_in_fiction': 'Sub-organization in fiction',\n",
       " 'location.partial_containment_relationship.partially_contains': 'Partially contains',\n",
       " 'people.marriage.from': 'From',\n",
       " 'tennis.tennis_player.year_turned_pro': 'Year Turned Pro',\n",
       " 'location.location.partially_containedby': 'Partially contained by',\n",
       " 'common.topic.notable_for': 'Notable for',\n",
       " 'base.schemastaging.athlete_extra.salary': 'Salary',\n",
       " 'geography.river.mouth': 'Mouth',\n",
       " 'broadcast.radio_network.affiliates': 'Affiliates',\n",
       " 'location.location.partiallycontains': 'Partially contains',\n",
       " 'government.national_anthem_of_a_country.anthem': 'Anthem',\n",
       " 'sports.defunct_sports_team.later_known_as': 'Later known as',\n",
       " 'location.country.currency_formerly_used': 'Currency Formerly Used',\n",
       " 'music.artist.album': 'Albums',\n",
       " 'base.crime.criminal_conviction.guilty_of': 'Charges against',\n",
       " 'olympics.olympic_medal_honor.olympics': 'Olympics',\n",
       " 'base.saints.saint.patronage': 'Patronage',\n",
       " 'law.court.jurisdiction': 'Jurisdiction',\n",
       " 'freebase.linguistic_hint.subject_form': 'subject form',\n",
       " 'measurement_unit.money_value.amount': 'Amount',\n",
       " 'sports.sports_league_draft_pick.school': 'School/Institution',\n",
       " 'business.acquisition.company_acquired': 'Organization acquired',\n",
       " 'language.language_family.geographic_distribution': 'geographic distribution',\n",
       " 'base.culturalevent.event.entity_involved': 'entity involved',\n",
       " 'music.guitarist.guitars_played': 'Guitars Played',\n",
       " 'business.board_member.leader_of': 'Leader of',\n",
       " 'location.province.capital': 'Capital',\n",
       " 'location.country.currency_used': 'Currency Used',\n",
       " 'biology.breed_origin.breeds_originating_here': 'Breeds orginating here',\n",
       " 'music.featured_artist.recordings': 'Recordings',\n",
       " 'base.popstra.celebrity.dated': 'Dated',\n",
       " 'film.film.executive_produced_by': 'Executive produced by',\n",
       " 'law.invention.inventor': 'Inventor',\n",
       " 'people.ethnicity.includes_groups': 'Includes group(s)',\n",
       " 'base.argumentmaps.innovator.original_ideas': 'Original ideas',\n",
       " 'business.consumer_company.brands': 'Brands',\n",
       " 'american_football.football_team.division': 'Division',\n",
       " 'aviation.airline.airports_served': 'Airports Served',\n",
       " 'basketball.basketball_player.position_s': 'Position(s)',\n",
       " 'award.award_honor.year': 'Year',\n",
       " 'organization.organization.headquarters': 'Headquarters',\n",
       " 'government.government.government_for': 'Government For',\n",
       " 'celebrities.celebrity.sexual_relationships': 'Romantic relationships (with celebrities)',\n",
       " 'geography.mountain.mountain_type': 'Mountain type',\n",
       " 'automotive.company.make_s': 'Make(s)',\n",
       " 'base.datedlocationtest.dated_location_break_up.new_locations': 'New locations',\n",
       " 'location.country.calling_code': 'Calling Code',\n",
       " 'film.film_location.featured_in_films': 'Featured In Films',\n",
       " 'business.employment_tenure.person': 'Person',\n",
       " 'tv.tv_series_season.thetvdb_id': 'TheTVDB.com ID',\n",
       " 'geography.geographical_feature.category': 'Category',\n",
       " 'theater.play.date_of_first_performance': 'Date of First Performance',\n",
       " 'base.biblioness.bibs_location.state': 'State',\n",
       " 'sports.sports_award.award': 'Award',\n",
       " 'military.military_combatant.casualties': 'Casualties',\n",
       " 'base.inaugurations.inauguration.president': 'President',\n",
       " 'location.administrative_division_capital_relationship.capital': 'Capital',\n",
       " 'people.person.children': 'Children',\n",
       " 'base.prison.imprisonment.from': 'From',\n",
       " 'base.ancientegypt.pyramid.site': 'Site',\n",
       " 'base.rosetta.languoid.parent': 'Parent',\n",
       " 'government.political_party.politicians_in_this_party': 'Politicians in this party',\n",
       " 'people.ethnicity.included_in_group': 'Included in group(s)',\n",
       " 'government.government_position_held.to': 'To',\n",
       " 'base.schemastaging.team_training_ground_relationship.facility': 'Facility',\n",
       " 'location.mailing_address.country': 'Country',\n",
       " 'people.deceased_person.place_of_death': 'Place of death',\n",
       " 'base.popstra.celebrity.substance_abuse': 'Substance Abuse',\n",
       " 'location.location.contains': 'Contains',\n",
       " 'location.country.internet_tld': 'Internet TLD',\n",
       " 'business.shopping_center.address': 'Address',\n",
       " 'award.award_honor.ceremony': 'Ceremony',\n",
       " 'religion.religious_leadership_title.leaders': 'Leaders',\n",
       " 'base.worldwonders.ancient_wonder.wonder_creator': 'Creator (nation/culture)',\n",
       " 'measurement_unit.time_interval.start': 'Start',\n",
       " 'user.gogza.default_domain.recurring_event.recurrance_period': 'Recurrance Period',\n",
       " 'film.performance.character': 'Character',\n",
       " 'government.governmental_body.component_bodies': 'Component bodies',\n",
       " 'tv.tv_program.number_of_episodes': 'Number of episodes',\n",
       " 'base.usnationalparks.us_national_park.state': 'State',\n",
       " 'base.aareas.schema.administrative_area.short_name': 'Short name',\n",
       " 'film.film_story_contributor.film_story_credits': 'Film Story Credits',\n",
       " 'biology.animal_breed.breed_of': 'Breed of',\n",
       " 'location.administrative_division_capital_relationship.administrative_division': 'Administrative division',\n",
       " 'location.religion_percentage.religion': 'Religion',\n",
       " 'award.award_nomination.award_nominee': 'Award Nominee',\n",
       " 'olympics.olympic_host_city.olympics_hosted': 'Olympics hosted',\n",
       " 'education.educational_institution.school_type': 'School type',\n",
       " 'topic_server.population_number': 'population number',\n",
       " 'music.artist.concert_tours': 'Concert Tours',\n",
       " 'american_football.football_player.receiving': 'Receiving',\n",
       " 'film.film.film_series': 'Film Series',\n",
       " 'government.governmental_jurisdiction.official_symbols': 'Official symbols',\n",
       " 'time.recurring_event.current_frequency': 'Current frequency',\n",
       " 'language.human_language.writing_system': 'Writing System',\n",
       " 'event.disaster.areas_affected': 'Areas affected',\n",
       " 'education.educational_institution.mascot': 'Mascot',\n",
       " 'music.artist.genre': 'Musical Genres',\n",
       " 'basketball.basketball_player_stats.season': 'Season',\n",
       " 'organization.organization_spin_off.parent_company': 'Parent organization',\n",
       " 'music.instrument.family': 'Family',\n",
       " 'fictional_universe.fictional_setting.fictional_characters_born_here': 'Fictional Characters Born Here',\n",
       " 'geography.mountain.mountain_range': 'Mountain range',\n",
       " 'ice_hockey.hockey_team.captain': 'Captain',\n",
       " 'medicine.disease.medical_specialties': 'Associated medical specialties',\n",
       " 'government.governmental_jurisdiction.government': 'Government',\n",
       " 'film.film.costume_design_by': 'Costume design by',\n",
       " 'book.literary_series.works_in_this_series': 'Works in this series',\n",
       " 'base.gadgets.gadget.brand': 'Brand',\n",
       " 'dining.restaurant.cuisine': 'Cuisine',\n",
       " 'broadcast.tv_station_owner.tv_stations': 'TV stations owned',\n",
       " 'meteorology.tropical_cyclone.formed': 'Formed',\n",
       " 'location.us_state.capital': 'Capital',\n",
       " 'aviation.airline_airport_presence.airline': 'Airline',\n",
       " 'tv.regular_tv_appearance.seasons': 'Seasons',\n",
       " 'tv.regular_tv_appearance.from': 'From',\n",
       " 'sports.sports_championship.events': 'Events',\n",
       " 'organization.leadership.person': 'Person',\n",
       " 'american_football.football_historical_coach_position.to': 'To',\n",
       " 'location.location.partially_contained_by': 'Partially contained by',\n",
       " 'people.person.profession': 'Profession',\n",
       " 'sports.sports_award_winner.awards': 'Awards',\n",
       " 'base.events.event_presenting_organisation.event_feed': 'Event feed',\n",
       " 'sports.professional_sports_team.owner_s': 'Owner(s)',\n",
       " 'government.government_position_held.jurisdiction_of_office': 'Jurisdiction of office',\n",
       " 'location.location_symbol_relationship.date_adopted': 'Date adopted',\n",
       " 'government.us_vice_president.to_president': 'President',\n",
       " 'time.event.instance_of_recurring_event': 'Instance of recurring event',\n",
       " 'type.object.name': 'Name',\n",
       " 'fictional_universe.fictional_character.appears_in_these_fictional_universes': 'Appears In These Fictional Universes',\n",
       " 'book.author.works_written': 'Works written',\n",
       " 'visual_art.artwork.art_form': 'Art Form',\n",
       " 'film.producer.films_executive_produced': 'Films Executive Produced',\n",
       " 'government.politician.election_campaigns': 'Election campaigns',\n",
       " 'award.award_category.date_established': 'Date Established',\n",
       " 'government.governmental_body.offices_positions': 'Offices/Positions Within the Body',\n",
       " 'sports.sports_championship_event.runner_up': 'Runner-up',\n",
       " 'time.event.next_in_series': 'next in series',\n",
       " 'award.competitor.competitions_won': 'Competitions won',\n",
       " 'travel.tourist_attraction.near_travel_destination': 'Near travel destination',\n",
       " 'film.director.film': 'Films directed',\n",
       " 'business.asset_ownership.owned_asset': 'Owned Asset',\n",
       " 'aviation.aircraft_ownership_count.aircraft_model': 'Aircraft Model',\n",
       " 'music.group_membership.start': 'Period (start)',\n",
       " 'organization.organization_relationship.child': 'Child',\n",
       " 'amusement_parks.park.opened': 'Opened',\n",
       " 'tv.tv_program.program_creator': 'Program creator',\n",
       " 'base.prison.imprisonment.prison': 'Prison',\n",
       " 'visual_art.artwork_location_relationship.location': 'Location',\n",
       " 'film.film.produced_by': 'Produced by',\n",
       " 'american_football.player_game_statistics.team': 'Team',\n",
       " 'sports.sports_championship_event.championship': 'Championship',\n",
       " 'sports.sports_team_roster.to': 'To',\n",
       " 'geography.body_of_water.depth': 'Max. depth',\n",
       " 'olympics.olympic_athlete.country': 'Country',\n",
       " 'time.recurring_event.date_of_first_occurance': 'Date of first occurrence',\n",
       " 'organization.organization.date_founded': 'Date founded',\n",
       " 'organization.organization_founder.organizations_founded': 'Organizations founded',\n",
       " 'aviation.aircraft_manufacturer.aircraft_models_made': 'Aircraft Models Manufactured',\n",
       " 'film.film_crew_gig.crewmember': 'Crewmember',\n",
       " 'film.film.initial_release_date': 'Initial release date',\n",
       " 'location.location.people_born_here': 'People born here',\n",
       " 'fictional_universe.fictional_setting.characters_that_have_lived_here': 'Characters that have lived here',\n",
       " 'religion.religion.beliefs': 'Beliefs',\n",
       " 'finance.currency.currency_code': 'Currency Code',\n",
       " 'base.crime.convicted_criminal.convictions': 'Convictions',\n",
       " 'sports.sports_team_coach_tenure.team': 'Team',\n",
       " 'location.location.partially_contains': 'Partially contains',\n",
       " 'government.governmental_body.body_this_is_a_component_of': 'Body this is a component of',\n",
       " 'sports.sports_team.team_mascot': 'Team Mascot',\n",
       " 'sports.sport_country.athletic_performances': 'Athletic performances',\n",
       " 'location.location.primarily_containedby': 'Primarily contained by',\n",
       " 'organization.organization_board_membership.member': 'Person',\n",
       " 'olympics.olympic_medal_honor.country': 'Country',\n",
       " 'government.us_vice_president.vice_president_number': 'Vice President Number',\n",
       " 'time.participant.event': 'event',\n",
       " 'business.asset_owner.assets_owned': 'Assets owned',\n",
       " 'american_football.player_rushing_statistics.team': 'Team',\n",
       " 'people.appointee.position': 'Position',\n",
       " 'base.government2.elected_official.elected_positions_held': 'Elected Positions Held',\n",
       " 'education.educational_institution.sports_teams': 'Sports teams',\n",
       " 'education.school.highest_grade_taught': 'Highest grade taught',\n",
       " 'american_football.football_player.rushing': 'Rushing',\n",
       " 'film.producer.film': 'Films Produced',\n",
       " 'aviation.aircraft_model.maiden_flight': 'Maiden flight',\n",
       " 'visual_art.visual_artist.artworks': 'Artworks',\n",
       " 'people.place_lived.start_date': 'Start date',\n",
       " 'media_common.netflix_genre.titles': 'Titles',\n",
       " 'government.election.office': 'Office',\n",
       " 'base.bioventurist.sales.year': 'Year',\n",
       " 'user.dfhuynh.default_domain.assassinated_person.assassination': 'assassination',\n",
       " 'base.obamabase.possible_cabinet_member.cabinet_position': 'Cabinet position',\n",
       " 'tv.tv_regular_personal_appearance.program': 'Program',\n",
       " 'base.prison.imprisonment.to': 'To',\n",
       " 'religion.religion.founding_figures': 'Founding Figures',\n",
       " 'base.formula1.formula_1_driver.team_member': 'Team Member',\n",
       " 'base.ancientegypt.pharaoh.reign': 'Reign',\n",
       " 'location.location.gnis_feature_id': 'GNIS ID',\n",
       " 'location.country.administrative_divisions': 'Administrative Divisions',\n",
       " 'location.mailing_address.state_province_region': 'State/Province/Region',\n",
       " 'music.track_contribution.role': 'Role',\n",
       " 'cvg.cvg_developer.game_versions_developed': 'Game Versions Developed',\n",
       " 'user.lindenb.default_domain.scientist.known_for': 'Known for',\n",
       " 'location.adjoining_relationship.adjoins': 'Adjoins',\n",
       " 'fictional_universe.fictional_character.married_to': 'Married To',\n",
       " 'sports.sports_team_roster.from': 'From',\n",
       " 'architecture.venue.capacity': 'Seating capacity',\n",
       " 'architecture.building.building_complex': 'Building Complex',\n",
       " 'ice_hockey.hockey_team.coach': 'Coach',\n",
       " 'business.company_product_relationship.consumer_product': 'Consumer product',\n",
       " 'location.geocode.latitude': 'Latitude',\n",
       " 'music.artist.track_contributions': 'Recording contributions',\n",
       " 'film.film.prequel': 'Prequel',\n",
       " 'film.performance.actor': 'Actor',\n",
       " 'broadcast.artist.content': 'Content',\n",
       " 'aviation.aircraft_model.retired': 'Retired',\n",
       " 'cvg.cvg_developer.games_developed': 'Games Developed',\n",
       " 'people.deceased_person.date_of_death': 'Date of death',\n",
       " 'geography.body_of_water.surface_area': 'Surface area',\n",
       " 'film.performance.special_performance_type': 'Special Performance Type',\n",
       " 'tv.tv_series_season.to': 'To',\n",
       " 'finance.currency.countries_used': 'Countries Used',\n",
       " 'government.government_office_or_title.office_holders': 'Office Holders',\n",
       " 'base.aareas.schema.administrative_area.administrative_children': 'Administrative children',\n",
       " 'law.court.judges': 'Judges',\n",
       " 'astronomy.astronomer.astronomical_objects_discovered': 'Astronomical objects discovered',\n",
       " 'geography.river.basin_countries': 'Basin countries',\n",
       " 'travel.travel_destination_monthly_climate.month': 'Month',\n",
       " 'law.inventor.inventions': 'Inventions',\n",
       " 'transportation.bridge.locale': 'Locale',\n",
       " 'book.book.genre': 'Genre',\n",
       " 'royalty.monarch.kingdom': 'Kingdom',\n",
       " 'film.actor.film': 'Film performances',\n",
       " 'base.locations.continents.countries_within': 'Countries within',\n",
       " 'sports.team_venue_relationship.venue': 'Venue',\n",
       " 'language.human_language.countries_spoken_in': 'Spoken in countries',\n",
       " 'government.governmental_body.members': 'Members',\n",
       " 'film.film.genre': 'Genres',\n",
       " 'government.government_position_held.office_holder': 'Officeholder',\n",
       " 'film.film.country': 'Country of origin',\n",
       " 'visual_art.artwork.locations': 'Locations',\n",
       " 'sports.sports_team.location': 'Sports Team Location',\n",
       " 'fictional_universe.marriage_of_fictional_characters.spouses': 'Spouses',\n",
       " 'common.notable_for.notable_object': 'notable object',\n",
       " 'base.schemastaging.athlete_salary.team': 'Team',\n",
       " 'time.recurring_event.instances': 'Instances',\n",
       " 'organization.membership_organization.members': 'Members',\n",
       " 'award.award_honor.award': 'Award category',\n",
       " 'government.us_president.vice_president': 'Vice president',\n",
       " 'sports.sports_team.roster': 'Roster',\n",
       " 'aviation.airline_airport_presence.airport': 'Airport',\n",
       " 'religion.religious_organization_leadership.role': 'Role',\n",
       " 'organization.organization.leadership': 'Leadership',\n",
       " 'boats.ship.owners': 'Owners',\n",
       " 'visual_art.artwork.art_genre': 'Art Genre',\n",
       " 'geography.river.discharge': 'Average discharge',\n",
       " 'organization.organization.founders': 'Founders',\n",
       " 'base.disaster2.injury.type_of_event': 'Type of event',\n",
       " 'user.ktrueman.default_domain.international_organization.official_language_s': 'Official Language(s)',\n",
       " 'location.australian_state.capital_city': 'Capital city',\n",
       " 'fictional_universe.fictional_character.places_lived': 'Places lived',\n",
       " 'base.formula1.formula_1_team_member.team': 'Team',\n",
       " 'time.event.start_date': 'Start date',\n",
       " 'fictional_universe.fictional_character.based_on': 'Based On',\n",
       " 'tv.tv_series_episode.episode_number': 'Episode number',\n",
       " 'film.film.featured_song': 'Featured Song',\n",
       " 'fictional_universe.fictional_date_time.date_time': 'Date/Time',\n",
       " 'location.country.iso_numeric': 'ISO Numeric',\n",
       " 'business.sponsorship.sponsored_by': 'Sponsored By',\n",
       " 'base.bioventurist.product.sales': 'Sales',\n",
       " 'base.infrastructure.infrastructural_municipality.sewage_treatment_plant': 'Sewage treatment plant(s)',\n",
       " 'award.award_nomination.nominated_for': 'Nominated work',\n",
       " 'soccer.football_player.position_s': 'Position(s)',\n",
       " 'film.film.music': 'Music by',\n",
       " 'military.military_command.military_conflict': 'Military Conflict',\n",
       " 'government.political_party_tenure.to': 'To',\n",
       " 'location.hud_county_place.county': 'County',\n",
       " 'base.aareas.schema.administrative_area.administrative_area_type': 'Administrative Area Type',\n",
       " 'tv.tv_personality.tv_regular_appearances': 'TV regular appearances',\n",
       " 'government.political_party_tenure.party': 'Party',\n",
       " 'computer.software.languages_used': 'Programming languages used',\n",
       " 'people.marriage.location_of_ceremony': 'Location of ceremony',\n",
       " 'organization.organization_membership.from': 'From',\n",
       " 'military.military_person.service': 'Service',\n",
       " 'fictional_universe.fictional_character.children': 'Children',\n",
       " 'government.government_position_held.governmental_body': 'Governmental body (if position is part of one)',\n",
       " 'base.nascar.nascar_driver.team': 'Team',\n",
       " 'baseball.baseball_team.team_stats': 'Team Stats',\n",
       " 'business.employment_tenure.company': 'Employer',\n",
       " 'film.performance.character_note': 'Character note',\n",
       " 'religion.religion.sacred_sites': 'Sacred Sites',\n",
       " 'people.person.sibling_s': 'Siblings',\n",
       " 'base.government2.appointed_official.appointments': 'Appointments',\n",
       " 'location.location.containedby': 'Contained by',\n",
       " 'sports.sports_team_roster.player': 'Player',\n",
       " 'people.person.spouse_s': 'Spouse (or domestic partner)',\n",
       " 'baseball.baseball_team.current_manager': 'Current Manager',\n",
       " 'people.person.gender': 'Gender',\n",
       " 'government.election.campaigns': 'Campaigns',\n",
       " 'baseball.current_coaching_tenure.baseball_coach': 'Baseball Coach',\n",
       " 'celebrities.celebrity.substance_abuse_problems': 'Substance abuse problems',\n",
       " 'book.written_work.copyright_date': 'Copyright date',\n",
       " 'american_football.football_coach.coaching_history': 'Coaching history',\n",
       " 'time.event.people_involved': 'People involved',\n",
       " 'sports.sports_league_participation.league': 'League',\n",
       " 'american_football.football_historical_coach_position.team': 'Team',\n",
       " 'sports.competitor_competition_relationship.competitors': 'Competitors',\n",
       " 'base.crime.acquitted_person.acquittal': 'Acquittal',\n",
       " 'religion.religious_organization.leaders': 'Leaders',\n",
       " 'people.person.nationality': 'Country of nationality',\n",
       " 'music.group_member.membership': 'Member of',\n",
       " 'astronomy.astronomical_discovery.discoverer': 'Discoverer',\n",
       " 'location.administrative_division.country': 'Country',\n",
       " 'tv.regular_tv_appearance.character': 'Character',\n",
       " 'organization.organization.geographic_scope': 'Geographic scope',\n",
       " 'film.film_character.portrayed_in_films': 'Portrayed in films',\n",
       " 'location.statistical_region.places_exported_to': 'Places exported to',\n",
       " 'sports.sports_team.sport': 'Sport',\n",
       " 'fictional_universe.fictional_language.where_spoken': 'Spoken in fictional settings',\n",
       " 'base.formula1.formula_1_championship_standing.championsip': 'Season',\n",
       " 'fictional_universe.fictional_character.education': 'Education',\n",
       " 'education.education.institution': 'Institution',\n",
       " 'military.casualties.military_conflict': 'Military Conflict',\n",
       " 'geography.mountain.elevation': 'Elevation',\n",
       " 'location.religion_percentage.percentage': 'Percent of population',\n",
       " 'tv.tv_guest_role.episodes_appeared_in': 'Episode',\n",
       " 'architecture.structure.opened': 'Opened',\n",
       " 'american_football.football_team.current_head_coach': 'Current head coach',\n",
       " 'business.asset.owners': 'Owner(s)',\n",
       " 'tv.tv_series_episode.series': 'Series',\n",
       " 'baseball.baseball_player.lifetime_batting_statistics': 'Lifetime Batting Statistics',\n",
       " 'military.military_combatant.force_deployments': 'Force Deployments',\n",
       " 'film.film.cinematography': 'Cinematography',\n",
       " 'law.judicial_tenure.title': 'Title',\n",
       " 'religion.religious_organization_leadership.organization': 'Organization',\n",
       " 'organization.organization_sector.organizations_in_this_sector': 'Organizations in this sector',\n",
       " 'baseball.baseball_team.current_coaches': 'Current Coaches',\n",
       " 'sports.pro_athlete.sports_played_professionally': 'Sports played',\n",
       " 'base.schemastaging.phone_sandbox.service_location': 'Service location',\n",
       " 'fictional_universe.fictional_character_creator.fictional_characters_created': 'Fictional Characters Created',\n",
       " 'people.appointment.appointed_role': 'Appointed Role',\n",
       " 'symbols.flag_use.flag': 'Flag',\n",
       " 'sports.pro_athlete.career_end': 'Career End',\n",
       " 'tv.tv_producer_term.program': 'Program',\n",
       " 'government.election_campaign.candidate': 'Candidate',\n",
       " 'government.politician.party': 'Party',\n",
       " 'zoos.zoo.opened': 'Opened',\n",
       " 'visual_art.artwork.media': 'Media',\n",
       " 'user.ktrueman.default_domain.international_organization.mailing_address': 'Mailing Address',\n",
       " 'american_football.football_team.historical_coaching_staff': 'Historical coaching staff',\n",
       " 'location.location.geolocation': 'Geolocation',\n",
       " 'travel.travel_destination.tourist_attractions': 'Tourist attractions',\n",
       " 'people.person.religion': 'Religion',\n",
       " 'government.political_party_tenure.politician': 'Politician',\n",
       " 'film.film.directed_by': 'Directed by',\n",
       " 'military.military_person.participated_in_conflicts': 'Participated in conflicts',\n",
       " 'people.person.places_lived': 'Places lived',\n",
       " 'film.film.soundtrack': 'Soundtrack',\n",
       " 'user.robert.roman_empire.roman_emperor.title': 'Title',\n",
       " 'tv.tv_character.appeared_in_tv_episodes': 'Appeared In TV Episodes',\n",
       " 'base.events.event_feed.type_of_event': 'Type of event',\n",
       " 'award.award_nomination.award': 'Award',\n",
       " 'baseball.lifetime_batting_statistics.ending_season': 'Ending season',\n",
       " 'tv.tv_actor.guest_roles': 'TV episode performances',\n",
       " 'music.composition.composer': 'Composer',\n",
       " 'sports.sports_league_draft_pick.draft': 'Draft',\n",
       " 'organization.organization.board_members': 'Board members',\n",
       " 'base.prison.prisoner.imprisoned': 'Imprisoned',\n",
       " 'film.film.featured_film_locations': 'Notable filming locations',\n",
       " 'law.judge.courts': 'Court or title',\n",
       " 'geography.island.island_group': 'Island Group',\n",
       " 'location.location_symbol_relationship.Kind_of_symbol': 'Kind of symbol',\n",
       " 'book.book_subject.works': 'Works Written About This Topic',\n",
       " 'people.person.ethnicity': 'Ethnicity',\n",
       " 'base.aareas.schema.administrative_area.subdivides_place': 'Subdivides place',\n",
       " 'base.activism.activist.area_of_activism': 'Area of activism',\n",
       " 'government.us_president.presidency_number': 'President number',\n",
       " 'base.locations.states_and_provences.country': 'Country',\n",
       " 'user.dfhuynh.default_domain.assassination.assassin': 'Assassin',\n",
       " 'american_football.football_coach.current_team_head_coached': 'Current team head coached',\n",
       " 'user.alexander.misc.murdered_person.murdered_by': 'Murdered By',\n",
       " 'government.government_position_held.office_position_or_title': 'Office, position, or title',\n",
       " 'royalty.noble_title_tenure.noble_person': 'Noble person',\n",
       " 'location.country.capital': 'Capital',\n",
       " 'people.family.country': 'Country',\n",
       " 'sports.sports_team.league': 'Member of',\n",
       " 'tennis.tennis_match.match_format': 'Match Format',\n",
       " 'organization.leadership.title': 'Title',\n",
       " 'people.person.date_of_birth': 'Date of birth',\n",
       " 'organization.organization.spin_offs': 'Spin offs',\n",
       " 'film.film.other_crew': 'Other crew',\n",
       " 'people.person.languages': 'Languages',\n",
       " 'award.award_nominated_work.award_nominations': 'Award Nominations',\n",
       " 'fictional_universe.fictional_setting.languages': 'Languages',\n",
       " 'location.country.official_language': 'Official Language',\n",
       " 'kg.object_profile.prominent_type': 'prominent type',\n",
       " 'cvg.computer_videogame.release_date': 'Initial release date',\n",
       " 'government.election.winner': 'Winner(s)',\n",
       " 'visual_art.visual_artist.art_forms': 'Art Forms',\n",
       " 'military.military_service.military_force': 'Military Force',\n",
       " 'base.kwebbase.kwtopic.disciplines': 'Disciplines',\n",
       " 'base.obamabase.cabinet_member.cabinet_position': 'Cabinet position',\n",
       " 'time.event.included_in_event': 'Included in event',\n",
       " 'fictional_universe.person_in_fiction.representations_in_fiction': 'Representations In Fiction',\n",
       " 'baseball.batting_statistics.season': 'Season',\n",
       " 'tv.tv_series_season.regular_cast': 'Regular cast',\n",
       " 'film.production_company.films': 'Films',\n",
       " 'fictional_universe.fictional_setting.contains': 'Contains (Fictional Places)',\n",
       " 'book.written_work.date_of_first_publication': 'Date of first publication',\n",
       " 'people.cause_of_death.parent_cause_of_death': 'Parent cause of death',\n",
       " 'business.employment_tenure.title': 'Title',\n",
       " 'business.brand.products': 'Products',\n",
       " 'tv.tv_series_episode.season_number': 'Season number',\n",
       " 'film.film.sequel': 'Sequel',\n",
       " 'sports.sports_league_draft_pick.player': 'Player',\n",
       " 'film.film.primary_language': 'Primary language',\n",
       " 'soccer.football_team_management_tenure.team': 'Team',\n",
       " 'government.political_district.representatives': 'Representatives',\n",
       " 'common.topic.alias': 'Also known as',\n",
       " 'location.citytown.postal_codes': 'Postal codes',\n",
       " 'location.country.second_level_divisions': 'Second level divisions',\n",
       " 'sports.pro_sports_played.sport': 'Sport',\n",
       " 'fictional_universe.fictional_character.place_of_birth': 'Place of Birth',\n",
       " 'film.film.production_companies': 'Production companies',\n",
       " 'education.education.student': 'Student',\n",
       " 'law.court_jurisdiction_area.courts': 'Courts',\n",
       " 'organization.leadership.organization': 'Organization',\n",
       " 'influence.influence_node.influenced_by': 'Influenced By',\n",
       " 'base.popstra.substance_abuse.substance': 'Substance',\n",
       " 'location.statistical_region.major_imports': 'Major imports',\n",
       " 'base.popstra.celebrity.religion': 'Religion',\n",
       " 'military.military_combatant_group.combatants': 'Combatants',\n",
       " 'military.military_combatant.belongs_to_combatant_group': 'Belongs To Combatant Group',\n",
       " 'music.musical_group.member': 'Members Of Musical Group',\n",
       " 'base.popstra.religion_choice.religion': 'Religion',\n",
       " 'tv.regular_tv_appearance.actor': 'Actor',\n",
       " 'religion.religion.practices': 'Practices',\n",
       " 'organization.organization_relationship.parent': 'Parent',\n",
       " 'architecture.structure.height_meters': 'Structural Height',\n",
       " 'people.deceased_person.cause_of_death': 'Cause of death',\n",
       " 'award.award_category.category_of': 'Category of',\n",
       " 'book.periodical_editor.periodicals_edited': 'Periodicals edited',\n",
       " 'book.periodical.editorial_staff': 'Editorial staff',\n",
       " 'medicine.notable_person_with_medical_condition.condition': 'Condition',\n",
       " 'time.time_zone.locations_in_this_time_zone': 'Locations in this time zone',\n",
       " 'aviation.airport.number_of_runways': 'Number of runways',\n",
       " 'organization.organization.spun_off_from': 'Spun off from',\n",
       " 'government.politician.government_positions_held': 'Government Positions Held',\n",
       " 'language.language_family.languages': 'languages',\n",
       " 'book.written_work.date_written': 'Date written',\n",
       " 'fictional_universe.fictional_character.parents': 'Parents',\n",
       " 'people.family.members': 'Members',\n",
       " 'internet.website_owner.websites_owned': 'Websites Owned',\n",
       " 'sports.sports_team.venue': 'Venue',\n",
       " 'government.government_position_held.district_represented': 'District represented (if position is district-related)',\n",
       " 'base.coinsdaily.denomination.money_value': 'money_value',\n",
       " 'location.statistical_region.major_exports': 'Major exports',\n",
       " 'government.government_office_category.officeholders': 'Officeholders',\n",
       " 'tv.tv_program.tvrage_id': 'TVRage Series ID',\n",
       " 'law.court.legal_cases': 'Legal cases',\n",
       " 'sports.sports_team_roster.number': 'Number',\n",
       " 'award.award_ceremony.awards_presented': 'Awards presented',\n",
       " 'people.person.height_meters': 'Height',\n",
       " 'tv.tv_guest_role.actor': 'Actor',\n",
       " 'olympics.olympic_medal_honor.medal': 'Medal',\n",
       " 'geography.body_of_water.bridges': 'Bridges',\n",
       " 'architecture.building.floors': 'Floors',\n",
       " 'user.alexander.misc.murdered_person.murder_method': 'Murder Method',\n",
       " 'tv.tv_program.original_network': 'Original network',\n",
       " 'sports.sports_team.championships': 'Championships',\n",
       " 'religion.religion.types_of_places_of_worship': 'Types of places of worship',\n",
       " 'award.award_honor.honored_for': 'Winning work',\n",
       " 'protected_sites.protected_site.date_established': 'Date Established',\n",
       " 'organization.organization_membership.member': 'Member',\n",
       " 'architecture.museum.established': 'Established',\n",
       " 'government.government_position_held.from': 'From',\n",
       " 'organization.organization_member.member_of': 'Member of',\n",
       " 'fictional_universe.fictional_universe.created_by': 'Created by',\n",
       " 'base.popstra.dated.participant': 'Participant',\n",
       " 'religion.religious_organization_leadership.start_date': 'Start Date',\n",
       " 'base.aareas.schema.administrative_area.administrative_parent': 'Administrative parent',\n",
       " 'religion.religious_organization_leadership.end_date': 'End Date',\n",
       " 'location.location.nearby_airports': 'Nearby airports',\n",
       " 'base.nobelprizes.nobel_prize_winner.nobel_honor': 'Nobel Honor',\n",
       " 'aviation.airport.focus_city_for': 'Focus city for',\n",
       " 'law.judicial_tenure.court': 'Court',\n",
       " 'computer.software.developer': 'Developer',\n",
       " 'location.statistical_region.places_imported_from': 'Places imported from',\n",
       " 'sports.sports_team.arena_stadium': 'Arena/Stadium',\n",
       " 'location.administrative_division.first_level_division_of': 'First level division of',\n",
       " 'sports.pro_athlete.career_start': 'Career Start',\n",
       " 'music.album.release_date': 'Initial release date',\n",
       " 'religion.religion.holidays': 'Holidays',\n",
       " 'tennis.tennis_tournament_championship.winner': 'Winner',\n",
       " 'government.government_position_held.basic_title': 'Basic title',\n",
       " 'architecture.building.building_function': 'Building Function',\n",
       " 'olympics.olympic_athlete.medals_won': 'Events Competed In',\n",
       " 'book.book_edition.publication_date': 'Publication date',\n",
       " 'base.inaugurations.inauguration_speaker.inauguration': 'Inauguration',\n",
       " 'base.gossipgirl.character.played_by': 'played_by',\n",
       " 'religion.religion.places_of_worship': 'Places of worship (current)',\n",
       " 'tv.tv_character.appeared_in_tv_program': 'Programs in which this was a regular character',\n",
       " 'film.film_crew_gig.film_crew_role': 'Film crew role',\n",
       " 'time.time_zone.dst_offset_from_utc': 'DST offset from UTC',\n",
       " 'religion.religious_organization_leadership.leader': 'Leader',\n",
       " 'location.country.first_level_divisions': 'First level divisions',\n",
       " 'film.film.story_by': 'Story by',\n",
       " 'olympics.olympic_medal_honor.event': 'Event',\n",
       " 'award.award_winning_work.awards_won': 'Awards Won',\n",
       " 'base.government2.elected_government_positions_held.district_represented': 'District Represented',\n",
       " 'people.place_lived.location': 'Location',\n",
       " 'travel.travel_destination_monthly_climate.average_max_temp_c': 'Average max temp',\n",
       " 'base.unitednations.united_nations_body_membership.member': 'Member',\n",
       " 'film.film.starring': 'Performances',\n",
       " 'type.object.type': 'Type',\n",
       " 'geography.island.body_of_water': 'Body Of Water',\n",
       " 'media_common.media_genre.child_genres': 'Child genres',\n",
       " 'tv.tv_program.number_of_seasons': 'Number of seasons',\n",
       " 'baseball.batting_statistics.team': 'Team',\n",
       " 'base.popstra.infidelity.participant': 'Participant',\n",
       " 'film.film_job.films_with_this_crew_job': 'Films with this crew job',\n",
       " 'common.topic.notable_types': 'Notable types',\n",
       " 'military.military_command.military_combatant': 'Military Combatant',\n",
       " 'tv.tv_program.regular_cast': 'Regular acting performances',\n",
       " 'baseball.baseball_player.position_s': 'Position(s)',\n",
       " 'military.military_conflict.casualties': 'Casualties',\n",
       " 'baseball.baseball_team_stats.season': 'Season',\n",
       " 'aviation.airline_airport_presence.cities_served': 'Destination Cities',\n",
       " 'tv.tv_actor.starring_roles': 'Starring TV roles',\n",
       " 'aviation.airport.hub_for': 'Hub for',\n",
       " 'sports.sports_team_owner.teams_owned': 'Teams Owned',\n",
       " 'religion.religion.is_part_of': 'Is Part Of',\n",
       " 'finance.currency.countries_formerly_used': 'Countries Formerly Used',\n",
       " 'location.country.languages_spoken': 'Languages spoken',\n",
       " 'film.film.subjects': 'Subjects',\n",
       " 'time.event.locations': 'Location(s)',\n",
       " 'medicine.disease.parent_disease': 'Parent Disease',\n",
       " 'location.hud_county_place.place': 'Place',\n",
       " 'location.location.time_zones': 'Time zone(s)',\n",
       " 'location.capital_of_administrative_division.capital_of': 'Capital of',\n",
       " 'base.schemastaging.context_name.official_name': 'Official name',\n",
       " 'sports.sports_team_coach_tenure.coach': 'Coach',\n",
       " 'fictional_universe.fictional_character.character_created_by': 'Character Created By',\n",
       " 'film.performance.film': 'Film',\n",
       " 'baseball.baseball_league.teams': 'Teams',\n",
       " 'people.person.parents': 'Parents',\n",
       " 'location.mailing_address.citytown': 'City/Town',\n",
       " 'book.author.school_or_movement': 'School or Movement',\n",
       " 'biology.animal_breed.place_of_origin': 'Place of origin',\n",
       " 'base.argumentmaps.original_idea.innovator': 'Creator',\n",
       " 'music.composer.compositions': 'Works Composed',\n",
       " 'education.academic.advisees': 'Academic advisees',\n",
       " 'food.diet_follower.follows_diet': 'Follows diet',\n",
       " 'american_football.football_player.position_s': 'Position(s)',\n",
       " 'media_common.netflix_title.netflix_genres': 'Netflix Genres',\n",
       " 'location.imports_and_exports.imported_from': 'Imported from',\n",
       " 'cvg.cvg_publisher.games_published': 'Games Published',\n",
       " 'people.appointment.appointed_by': 'Appointed by',\n",
       " 'fictional_universe.fictional_character.siblings': 'Siblings',\n",
       " 'business.sponsored_recipient.sponsorship': 'Sponsorship',\n",
       " 'location.administrative_division.capital': 'Capital',\n",
       " 'tv.regular_tv_appearance.series': 'Series',\n",
       " 'military.military_conflict.combatants': 'Combatants',\n",
       " 'government.governmental_body.jurisdiction': 'Jurisdiction',\n",
       " 'celebrities.romantic_relationship.end_date': 'End date',\n",
       " 'music.group_membership.member': 'Member',\n",
       " 'location.imports_exports_by_industry.industry': 'Industry',\n",
       " 'sports.pro_athlete.teams': 'Teams',\n",
       " 'tv.tv_producer.programs_produced': 'TV programs produced',\n",
       " 'tv.tv_regular_personal_appearance.appearance_type': 'Appearance type',\n",
       " 'business.employment_tenure.from': 'From',\n",
       " 'sports.sports_team_location.teams': 'Teams',\n",
       " 'sports.sports_facility.teams': 'Teams',\n",
       " 'fictional_universe.fictional_character.gender': 'Gender',\n",
       " 'geography.river.cities': 'Cities',\n",
       " 'aviation.aircraft_owner.aircraft_fleet_composition': 'Aircraft Fleet Composition',\n",
       " 'military.casualties.lower_estimate': 'Estimate',\n",
       " 'influence.influence_node.influenced': 'Influenced',\n",
       " 'aviation.airport.serves': 'Serves',\n",
       " 'sports.sports_award.season': 'Season',\n",
       " 'people.ethnicity.languages_spoken': 'Languages spoken',\n",
       " 'people.marriage.spouse': 'Spouse',\n",
       " 'people.person.place_of_birth': 'Place of birth',\n",
       " 'sports.sports_championship_event.champion': 'Champion',\n",
       " 'people.deceased_person.place_of_burial': 'Place of burial',\n",
       " 'base.aareas.schema.administrative_area.capital': 'Capital',\n",
       " 'award.award_winner.awards_won': 'Awards Won',\n",
       " 'cvg.game_series.games_in_series': 'Games In Series',\n",
       " 'base.biblioness.bibs_location.loc_type': 'Type',\n",
       " 'military.force_strength.date': 'Date',\n",
       " 'royalty.noble_title.holders': 'Holders',\n",
       " 'symbols.flag_referent.flag': 'Flag',\n",
       " 'award.competition.winner': 'Winner',\n",
       " 'people.person.employment_history': 'Employment history',\n",
       " 'fictional_universe.fictional_character.powers_or_abilities': 'Powers or Abilities',\n",
       " 'boats.ship_owner.ships_owned': 'Ships owned',\n",
       " 'food.dish.cuisine': 'Cuisine',\n",
       " 'music.genre.albums': 'Albums',\n",
       " 'organization.organization_membership.organization': 'Organization',\n",
       " 'soccer.football_team_manager.team': 'Team',\n",
       " 'location.partial_containment_relationship.partially_contained_by': 'Partially contained by',\n",
       " 'military.military_commander.military_commands': 'Military Commands',\n",
       " 'architecture.architectural_structure_owner.structures_owned': 'Structures Owned',\n",
       " 'base.schemastaging.context_name.nickname': 'Nickname',\n",
       " 'education.education.major_field_of_study': 'Major/Field Of Study',\n",
       " 'visual_art.visual_artist.associated_periods_or_movements': 'Associated periods or movements',\n",
       " 'language.language_writing_system.languages': 'languages',\n",
       " 'business.business_operation.industry': 'Industry',\n",
       " 'base.disaster2.attacker.attack_s': 'Violent Attack(s)',\n",
       " 'business.asset_ownership.owner': 'Owner',\n",
       " 'sports.sports_league.teams': 'Teams',\n",
       " 'book.book_character.appears_in_book': 'Appears In Books',\n",
       " 'location.location.adjoin_s': 'Adjoins',\n",
       " 'sports.sports_facility.home_venue_for': 'Home venue for',\n",
       " 'music.group_membership.role': 'Roles',\n",
       " 'user.robert.roman_empire.roman_emperor.prececessor': 'Prececessor',\n",
       " 'location.location.area': 'Area',\n",
       " 'award.award_nominee.award_nominations': 'Award Nominations',\n",
       " 'periodicals.newspaper_circulation_area.newspapers': 'Newspapers',\n",
       " 'religion.deity.deity_of': 'Religion(s) That Worship This Deity',\n",
       " 'military.military_conflict.commanders': 'Commanders',\n",
       " 'government.political_appointer.appointees': 'Appointees',\n",
       " 'tennis.tennis_tournament_championship.year': 'Year',\n",
       " 'base.disaster2.attack_process.attacker': 'Attacker',\n",
       " 'location.statistical_region.religions': 'Religions',\n",
       " 'music.artist.track': 'Recordings',\n",
       " 'book.author.book_editions_published': 'Book editions published',\n",
       " 'location.location.events': 'Events',\n",
       " 'award.award.presented_by': 'Presented by',\n",
       " 'sports.team_venue_relationship.team': 'Team',\n",
       " 'location.imports_and_exports.exported_to': 'Exported to',\n",
       " 'base.schemastaging.phone_sandbox.product_or_service': 'Product or service',\n",
       " 'baseball.lifetime_batting_statistics.last_statistics_season': 'Last statistics season',\n",
       " 'language.language_writing_system.parent_writing_systems': 'parent writing systems',\n",
       " 'fictional_universe.fictional_character.occupation': 'Occupation',\n",
       " 'base.datedlocationtest.dated_location_test.broke_up_into': 'Broke up into',\n",
       " 'architecture.ownership.structure': 'Structure',\n",
       " 'meteorology.tropical_cyclone.tropical_cyclone_season': 'Season',\n",
       " 'location.country.national_anthem': 'National anthem',\n",
       " 'american_football.player_receiving_statistics.team': 'Team',\n",
       " 'award.award_category.winners': 'Winners',\n",
       " 'base.schemastaging.organization_extra.phone_number': 'Phone number',\n",
       " 'celebrities.romantic_relationship.celebrity': 'Celebrity',\n",
       " 'tv.regular_tv_appearance.special_performance_type': 'Special performance type',\n",
       " 'people.deceased_person.date_of_burial': 'Date of burial',\n",
       " 'sports.sports_team_coach.teams_coached': 'Teams coached',\n",
       " 'sports.school_sports_team.school': 'School',\n",
       " 'people.person.education': 'Education',\n",
       " 'government.election.election_year': 'Date of election',\n",
       " 'fictional_universe.fictional_character.romantically_involved_with': 'Romantically involved with',\n",
       " 'religion.religion.texts': 'Texts',\n",
       " 'book.written_work.author': 'Author',\n",
       " 'sports.pro_sports_played.career_start': 'From',\n",
       " 'book.editorial_tenure.from': 'From',\n",
       " 'law.inventor.us_patents': 'Patents',\n",
       " 'tv.regular_tv_appearance.to': 'To',\n",
       " 'tennis.tennis_tournament.match_results': 'Match Results',\n",
       " 'film.film_genre.films_in_this_genre': 'Films of this genre',\n",
       " 'sports.sports_league_participation.team': 'Team',\n",
       " 'celebrities.substance_abuse_problem.substance': 'Substance',\n",
       " 'royalty.kingdom.rulers': 'Rulers',\n",
       " 'film.film.language': 'Languages',\n",
       " 'location.location.street_address': 'Street address',\n",
       " 'olympics.olympic_games.host_city': 'Host City',\n",
       " 'amusement_parks.park.rides': 'Rides',\n",
       " 'aviation.aircraft_model.introduced': 'Introduced',\n",
       " 'law.invention.date_of_invention': 'Date of invention',\n",
       " 'time.event.end_date': 'End date',\n",
       " 'base.locations.countries.continent': 'Continent',\n",
       " 'sports.sports_team_roster.position': 'Position',\n",
       " 'law.judicial_tenure.to_date': 'To date',\n",
       " 'tennis.tennis_tournament_championship.tournament': 'Tournament',\n",
       " 'base.honouriam.dishonoured_person.dishonor_bestowed': 'Dishonor bestowed',\n",
       " 'law.judicial_tenure.from_date': 'From date',\n",
       " 'award.award_honor.award_winner': 'Award winner',\n",
       " 'music.group_member.instruments_played': 'Instruments Played',\n",
       " 'base.petbreeds.dog_breed.color': 'Color',\n",
       " 'aviation.airport.airlines': 'Airlines',\n",
       " 'american_football.player_receiving_statistics.touchdowns': 'Touchdowns',\n",
       " 'base.formula1.formula_1_driver.championship_standing': 'Championship Standings',\n",
       " 'base.fictionaluniverse.deceased_fictional_character.date_of_death': 'Date of death',\n",
       " 'music.lyricist.lyrics_written': 'Lyrics Written',\n",
       " 'music.track_contribution.track': 'Recording',\n",
       " 'people.marriage.type_of_union': 'Type of union',\n",
       " 'olympics.olympic_athlete_affiliation.country': 'Country',\n",
       " 'film.writer.film': 'Film writing credits',\n",
       " 'sports.professional_sports_team.draft_picks': 'Draft Picks',\n",
       " 'people.sibling_relationship.sibling': 'Sibling',\n",
       " 'architecture.architect.structures_designed': 'Structures Designed',\n",
       " 'travel.transportation.transport_terminus': 'Transport terminus',\n",
       " 'film.film.film_art_direction_by': 'Art direction by',\n",
       " 'broadcast.broadcast.area_served': 'Area Served',\n",
       " 'business.employer.employees': 'Employees and other personnel',\n",
       " 'base.schemastaging.sports_team_extra.training_ground': 'Training ground',\n",
       " 'tv.tv_program.air_date_of_first_episode': 'Air date of first episode',\n",
       " 'common.notable_for.object': 'object',\n",
       " 'music.group_membership.group': 'Group',\n",
       " 'celebrities.romantic_relationship.relationship_type': 'Relationship type',\n",
       " 'sports.sports_team.coaches': 'Coaches',\n",
       " 'base.nobelprizes.nobel_honor.subject_area': 'Subject Area',\n",
       " 'base.unitednations.united_nations_body.members': 'Members',\n",
       " 'travel.transportation.mode_of_transportation': 'Mode of transportation',\n",
       " 'film.film.written_by': 'Screenplay by',\n",
       " 'sports.sports_team.founded': 'Founded',\n",
       " 'military.force_strength.force_size': 'Force Size',\n",
       " 'organization.organization_spin_off.child_company': 'Child organization',\n",
       " 'music.artist.origin': 'Place Musical Career Began',\n",
       " 'government.political_party_tenure.from': 'From',\n",
       " 'time.holiday.day_of_year': 'Day Of Year',\n",
       " 'film.film_series.films_in_series': 'Films In Series',\n",
       " 'broadcast.radio_affiliation_duration.station': 'Station',\n",
       " 'language.human_language.main_country': 'Main Country',\n",
       " 'government.government_position_held.appointed_by': 'Appointed By (if Position is Appointed)',\n",
       " 'freebase.unit_profile.dimension': 'dimension',\n",
       " 'sports.sports_team_coach_tenure.position': 'Position',\n",
       " 'education.educational_institution.colors': 'Colors',\n",
       " 'symbols.name_source.namesakes': 'Things named after this',\n",
       " 'music.artist.label': 'Record Labels',\n",
       " 'people.marriage.to': 'To',\n",
       " 'biology.organism_classification.higher_classification': 'Higher classification',\n",
       " 'military.military_command.military_commander': 'Military Commander',\n",
       " 'education.education.degree': 'Degree',\n",
       " 'travel.travel_destination.accommodation': 'Accommodation',\n",
       " 'music.group_membership.end': 'Period (end)',\n",
       " 'time.event.includes_event': 'Includes event',\n",
       " 'business.company_brand_relationship.brand': 'Brand',\n",
       " 'tv.tv_location.tv_shows_filmed_here': 'TV shows filmed here',\n",
       " 'fictional_universe.school_in_fiction.students_graduates': 'Students/graduates',\n",
       " 'base.qualia.disability.type_of_disability': 'Type of disability',\n",
       " 'law.judicial_tenure.judge': 'Judge',\n",
       " 'organization.organization.companies_acquired': 'Organizations acquired',\n",
       " 'organization.organization.parent': 'Parent',\n",
       " 'cvg.cvg_publisher.game_versions_published': 'Game Versions Published',\n",
       " 'architecture.ownership.end_date': 'End Date',\n",
       " 'language.human_language.iso_639_3_code': 'ISO 639-3 Code',\n",
       " 'soccer.football_player_transfer.purchasing_team': 'Purchasing team',\n",
       " 'people.place_lived.end_date': 'End date',\n",
       " 'internet.social_network_user': 'Social network user',\n",
       " 'award.award_nomination.ceremony': 'Ceremony',\n",
       " 'measurement_unit.dated_kgoe.number': 'Number',\n",
       " 'film.film': 'Film',\n",
       " 'internet.blogger.blog': 'Blog',\n",
       " 'location.statistical_region.part_time_employment_percent': 'Part time employment',\n",
       " 'book.periodical_publisher.periodicals_published': 'Periodicals Published',\n",
       " 'location.statistical_region.gdp_growth_rate': 'GDP growth rate',\n",
       " 'award.hall_of_fame_induction.inductee': 'Inductee',\n",
       " 'soccer.football_player_stats.total_goals': 'Number of goals scored',\n",
       " 'event.speech_topic.speeches_or_presentations_on_this_topic': 'Speeches or presentations on this topic',\n",
       " 'location.statistical_region.consumer_price_index': 'Consumer price index',\n",
       " 'film.performance': 'Film performance',\n",
       " 'business.sponsorship.to': 'To',\n",
       " 'military.military_service.unit': 'Unit',\n",
       " 'measurement_unit.dated_integer.number': 'number',\n",
       " 'film.film_regional_release_date.release_date': 'Release Date',\n",
       " 'royalty.chivalric_order_member.belongs_to_order': 'Belongs to Order',\n",
       " 'american_football.football_player.passing': 'Passing',\n",
       " 'finance.currency.target_of_exchange': 'Target of exchange',\n",
       " 'soccer.football_player.transfers': 'Transfers',\n",
       " 'location.statistical_region.gdp_nominal': 'GDP (nominal)',\n",
       " 'film.film_regional_release_date.film_regional_debut_venue': 'Film regional debut venue',\n",
       " 'measurement_unit.dated_money_value.currency': 'Currency',\n",
       " 'exhibitions.exhibition_venue.exhibitions_at_this_venue': 'Exhibitions at this venue',\n",
       " 'film.film_song_performer.film_songs': 'Film songs',\n",
       " 'celebrities.legal_entanglement.location': 'Location',\n",
       " 'location.statistical_region.market_cap_of_listed_companies_as_percent_of_gdp': 'Market capitalization of listed companies (% of GDP)',\n",
       " 'award.hall_of_fame.inductees': 'Inductees',\n",
       " 'media_common.dedicatee.dedications': 'Dedications',\n",
       " 'government.form_of_government': 'Form of Government',\n",
       " 'media_common.cataloged_instance.isbn13': 'ISBN-13',\n",
       " 'organization.leadership.from': 'From',\n",
       " 'tv.tv_location.tv_episodes_filmed_here': 'TV episodes filmed here',\n",
       " 'organization.organization_founder': 'Organization founder',\n",
       " 'tv.tv_actor': 'TV Actor',\n",
       " 'media_common.dedicator.dedications': 'Dedications',\n",
       " 'film.dubbing_performance.character': 'Character',\n",
       " 'measurement_unit.dated_money_value.amount': 'Amount',\n",
       " 'wine.wine_region.wine_styles': 'Wine styles',\n",
       " 'education.university.number_of_postgraduates': 'Number of postgraduates',\n",
       " 'soccer.football_player.statistics': 'Statistics',\n",
       " 'sports.sports_championship_event.result': 'Result',\n",
       " 'location.country.gdp_nominal_per_capita': 'GDP (nominal per capita)',\n",
       " 'base.unitednations.united_nations_body_membership.to': 'To',\n",
       " 'american_football.football_player': 'American football player',\n",
       " 'location.country.iso_alpha_3': 'ISO Alpha 3',\n",
       " 'education.field_of_study': 'Field of study',\n",
       " 'business.industry': 'Industry',\n",
       " 'location.citytown': 'City/Town/Village',\n",
       " 'film.film_film_company_relationship.film_company': 'Film company',\n",
       " 'location.statistical_region.co2_emissions_per_capita': 'CO2 emissions per capita',\n",
       " 'education.honorary_degree.awarded_on': 'Awarded on',\n",
       " 'event.speech_or_presentation.speaker_s': 'Speaker(s)',\n",
       " 'influence.peer_relationship.peers': 'Peers',\n",
       " 'award.award_category.recurring_ceremony': 'Recurring ceremony',\n",
       " 'sports.sports_facility': 'Sports Facility',\n",
       " 'film.film_regional_release_date.film_release_distribution_medium': 'Film release distribution medium',\n",
       " 'award.award_winner': 'Award Winner',\n",
       " 'government.political_district.elections': 'Elections',\n",
       " 'book.book_edition.ISBN': 'ISBN (Old Property)',\n",
       " 'location.location': 'Location',\n",
       " 'tv.tv_program': 'TV Program',\n",
       " 'protected_sites.protected_site.annual_visitors': 'Annual Visitors',\n",
       " 'film.film.film_production_design_by': 'Production design by',\n",
       " 'location.mailing_address.street_address': 'Street Address',\n",
       " 'architecture.venue': 'Venue',\n",
       " 'education.honorary_degree.recipient': 'Recipient',\n",
       " 'location.region': 'Region',\n",
       " 'symbols.armorial_grant.coat_of_arms': 'Coat of Arms',\n",
       " 'location.statistical_region.minimum_wage': 'Minimum wage',\n",
       " 'soccer.football_player_loan.player': 'Player',\n",
       " 'celebrities.celebrity': 'Celebrity',\n",
       " 'book.school_or_movement': 'Literary School Or Movement',\n",
       " 'music.record_label': 'Record label',\n",
       " 'music.genre': 'Musical genre',\n",
       " 'location.administrative_division': 'Administrative Division',\n",
       " 'location.statistical_region.gdp_deflator_change': 'GDP deflator change',\n",
       " 'american_football.football_player.footballdb_id': 'footballdb ID',\n",
       " 'sports.sports_team_coach_tenure.to': 'To',\n",
       " 'fictional_universe.fictional_language.found_in_fictional_universe': 'Found in fictional universe',\n",
       " 'freebase.user_profile': 'Freebase User Profile',\n",
       " 'american_football.player_passing_statistics.attempts': 'Attempts',\n",
       " 'location.statistical_region.energy_use_per_capita': 'Energy use per capita',\n",
       " 'influence.peer_relationship': 'Peer Relationship',\n",
       " 'location.statistical_region.gdp_real': 'GDP real',\n",
       " 'education.honorary_degree': 'Honorary Degree',\n",
       " 'business.board_member': 'Organization leader',\n",
       " 'film.film.film_casting_director': 'Casting director',\n",
       " 'architecture.building': 'Building',\n",
       " 'exhibitions.exhibition_run.opened_on': 'Opened on',\n",
       " 'american_football.player_passing_statistics.completions': 'Completions',\n",
       " 'measurement_unit.recurring_money_value.amount': 'Amount',\n",
       " 'government.government_position_held': 'Government Position Held',\n",
       " 'film.actor.dubbing_performances': 'Film dubbing performances',\n",
       " 'military.military_conflict.force_strengths': 'Force Strengths',\n",
       " 'theater.theatrical_composer.plays_composed': 'Plays Composed',\n",
       " 'organization.organization_relationship.from': 'From',\n",
       " 'film.film.gross_revenue': 'Gross revenue',\n",
       " 'location.country': 'Country',\n",
       " 'media_common.dedication.dedicated_to': 'Dedicated To',\n",
       " 'geography.geographical_feature': 'Geographical Feature',\n",
       " 'law.court.courthouse': 'Courthouse',\n",
       " 'book.periodical_publisher_period.periodical': 'Periodical',\n",
       " 'conferences.conference_sponsor.conferences': 'Conferences',\n",
       " 'fictional_universe.fictional_setting.universe': 'Universe',\n",
       " 'measurement_unit.dated_metric_ton.number': 'Number',\n",
       " 'imdb.topic.name_id': 'Name ID',\n",
       " 'book.magazine.place_of_publication': 'Place of publication',\n",
       " 'organization.organization_relationship.to': 'To',\n",
       " 'tv.tv_crew_gig': 'TV crew gig',\n",
       " 'media_common.dedication.work_dedicated': 'Work Dedicated',\n",
       " 'measurement_unit.adjusted_money_value.adjusted_value': 'Adjusted value',\n",
       " 'travel.transport_terminus': 'Transport terminus',\n",
       " 'sports.professional_sports_team': 'Professional Sports Team',\n",
       " 'medicine.disease': 'Disease or medical condition',\n",
       " 'location.statistical_region.electricity_consumption_per_capita': 'Electricity consumption per capita',\n",
       " 'sports.sports_team': 'Sports Team',\n",
       " 'protected_sites.protected_site': 'Protected Site',\n",
       " 'tv.tv_producer_episode_credit.episode': 'Episode',\n",
       " 'tv.tv_regular_personal_appearance.from': 'From',\n",
       " 'tv.tv_regular_personal_appearance.to': 'To',\n",
       " 'military.force_strength.maximum_force_size': 'Maximum Force Size',\n",
       " 'location.continent': 'Continent',\n",
       " 'film.film.other_film_companies': 'Other film companies',\n",
       " 'book.place_of_publication_period.from': 'From',\n",
       " 'religion.religious_leadership_jurisdiction.leader': 'Leader',\n",
       " 'symbols.coat_of_arms_bearer.coat_of_arms_used': 'Coat of Arms used',\n",
       " 'architecture.ownership.start_date': 'Start Date',\n",
       " 'business.company_product_relationship.to_date': 'To date',\n",
       " 'tv.tv_character': 'TV Character',\n",
       " 'internet.website_owner': 'Website Owner',\n",
       " 'tv.tv_personality': 'TV Personality',\n",
       " 'book.journal_publication': 'Journal publication',\n",
       " 'location.statistical_region.foreign_direct_investment_net_inflows': 'Foreign direct investment, net inflows',\n",
       " 'media_common.dedication.dedicated_by': 'Dedicated By',\n",
       " 'film.film_cut.runtime': 'Runtime',\n",
       " 'education.university.number_of_undergraduates': 'Number of undergraduates',\n",
       " 'religion.religion': 'Religion',\n",
       " 'royalty.chivalric_order_membership.order': 'Order',\n",
       " 'film.film.runtime': 'Runtime',\n",
       " 'location.statistical_region.places_exported_from': 'places exported from',\n",
       " 'business.business_operation': 'Business Operation',\n",
       " 'music.compositional_form': 'Composition type',\n",
       " 'award.hall_of_fame_induction': 'Hall of fame induction',\n",
       " 'award.award_nominee': 'Award Nominee',\n",
       " 'music.producer.releases_produced': 'Releases produced',\n",
       " 'location.statistical_region.cpi_inflation_rate': 'Inflation rate',\n",
       " 'medicine.cancer_center_constituent.cancer_center': 'Part of Cancer Center',\n",
       " 'book.book_edition.isbn': 'ISBN (Old Property)',\n",
       " 'film.film_regional_release_date': 'Film regional release date',\n",
       " 'location.co2_emission.emissions': 'Emissions',\n",
       " 'location.statistical_region.population': 'Population',\n",
       " 'event.public_speaker.speeches_or_presentations': 'Speeches or presentations',\n",
       " 'food.nutrition_fact.nutrient': 'Nutrient',\n",
       " 'organization.leadership.to': 'To',\n",
       " 'language.conlang.conlang_type': 'Conlang type',\n",
       " 'law.litigant.party_to_cases': 'Party to cases',\n",
       " 'location.statistical_region.lending_interest_rate': 'Lending interest rate',\n",
       " 'location.imports_and_exports.exported_from': 'exported from',\n",
       " 'film.cinematographer': 'Film cinematographer',\n",
       " 'food.beer_country_region.beers_from_here': 'Beers from here',\n",
       " 'event.speech_or_presentation.speech_topic': 'Speech subject',\n",
       " 'business.product_category': 'Product category',\n",
       " 'geography.lake.lake_type': 'Lake Type',\n",
       " 'business.company_product_relationship.from_date': 'From date',\n",
       " 'location.statistical_region.co2_emissions_total': 'CO2 emissions - total',\n",
       " 'broadcast.radio_station_owner.radio_stations': 'Radio stations owned',\n",
       " 'film.film.trailers': 'Trailers',\n",
       " 'visual_art.visual_artist.art_series': 'Art Series',\n",
       " 'amusement_parks.park': 'Amusement Park',\n",
       " 'government.government_position_held.legislative_sessions': 'Legislative sessions',\n",
       " 'measurement_unit.dated_kilowatt_hour.number': 'Number',\n",
       " 'government.political_ideology': 'Political ideology',\n",
       " 'film.film.film_set_decoration_by': 'Set Decoration by',\n",
       " 'film.film_cut.film_release_region': 'Film release region',\n",
       " 'business.sponsorship.from': 'From',\n",
       " 'food.food.nutrients': 'Nutrients per 100g',\n",
       " 'location.country.iso3166_1_alpha2': 'ISO Alpha 2',\n",
       " 'language.human_language.iso_639_1_code': 'ISO 639-1 Code',\n",
       " ...}"
      ]
     },
     "execution_count": 32,
     "metadata": {},
     "output_type": "execute_result"
    }
   ],
   "source": [
    "relation_names_from_google"
   ]
  },
  {
   "cell_type": "code",
   "execution_count": 33,
   "id": "62ca0d43",
   "metadata": {},
   "outputs": [],
   "source": [
    "def slashToDotRelation(rel):\n",
    "    rel = rel[1:]\n",
    "    rel = rel.replace('.', '')\n",
    "    rel = rel.replace('/', '.')\n",
    "    return rel"
   ]
  },
  {
   "cell_type": "code",
   "execution_count": 34,
   "id": "4c8a5dd4",
   "metadata": {},
   "outputs": [
    {
     "data": {
      "text/plain": [
       "(66923, 272115)"
      ]
     },
     "execution_count": 34,
     "metadata": {},
     "output_type": "execute_result"
    }
   ],
   "source": [
    "count = 0\n",
    "for triple in data['train']:\n",
    "    rel = slashToDotRelation(triple[1])\n",
    "    if rel in relation_names_from_google:\n",
    "        count += 1\n",
    "count, len(data['train'])"
   ]
  },
  {
   "cell_type": "code",
   "execution_count": 58,
   "id": "ff0a2163",
   "metadata": {
    "scrolled": true
   },
   "outputs": [
    {
     "data": {
      "text/plain": [
       "63"
      ]
     },
     "execution_count": 58,
     "metadata": {},
     "output_type": "execute_result"
    }
   ],
   "source": [
    "count = 0\n",
    "relations_names_needed = []\n",
    "for rel in relations:\n",
    "    rel_processed = slashToDotRelation(rel)\n",
    "    if rel_processed in relation_names_from_google:\n",
    "        count += 1\n",
    "    else:\n",
    "        relations_names_needed.append(rel)\n",
    "#         print(rel)\n",
    "count"
   ]
  },
  {
   "cell_type": "code",
   "execution_count": 71,
   "id": "931d7f54",
   "metadata": {},
   "outputs": [],
   "source": [
    "# def getLastPart(rel):\n",
    "#     last_part = ', '.join(rel.split('.')[-2:])\n",
    "#     last_part = last_part.replace('_', ' ')\n",
    "#     last_part = last_part.capitalize()\n",
    "#     return last_part\n",
    "\n",
    "def getLastPart(rel):\n",
    "    last_part = ', '.join(rel.replace('.', '').split('/')[-2:])\n",
    "    last_part = last_part.replace('_', ' ')\n",
    "    last_part = last_part.capitalize()\n",
    "    return last_part\n",
    "#     return rel.split('/')[-1]"
   ]
  },
  {
   "cell_type": "code",
   "execution_count": 77,
   "id": "e4718a5d",
   "metadata": {},
   "outputs": [],
   "source": [
    "name_rels_dict = {}\n",
    "rels_set = set()\n",
    "conflict_last_parts = set()\n",
    "conflict_rels = set()\n",
    "for rel in relations_names_needed:\n",
    "    last_part = getLastPart(rel)#rel.split('.')[-1]\n",
    "    if last_part in rels_set:\n",
    "#         print(name_rels_dict[last_part], '|||', rel)\n",
    "        conflict_last_parts.add(last_part)\n",
    "        conflict_rels.add(rel)\n",
    "    else:\n",
    "        rels_set.add(last_part)\n",
    "        name_rels_dict[last_part] = rel"
   ]
  },
  {
   "cell_type": "code",
   "execution_count": 78,
   "id": "a997d1b7",
   "metadata": {},
   "outputs": [
    {
     "data": {
      "text/plain": [
       "25"
      ]
     },
     "execution_count": 78,
     "metadata": {},
     "output_type": "execute_result"
    }
   ],
   "source": [
    "len(conflict_last_parts)"
   ]
  },
  {
   "cell_type": "code",
   "execution_count": 74,
   "id": "730bf1cd",
   "metadata": {},
   "outputs": [
    {
     "data": {
      "text/plain": [
       "(61337, 272115)"
      ]
     },
     "execution_count": 74,
     "metadata": {},
     "output_type": "execute_result"
    }
   ],
   "source": [
    "count = 0\n",
    "rel_count_dict = {}\n",
    "for t in data['train']:\n",
    "    rel = t[1]\n",
    "    if rel in conflict_rels:\n",
    "        count += 1\n",
    "        if rel in rel_count_dict:\n",
    "            rel_count_dict[rel] += 1\n",
    "        else:\n",
    "            rel_count_dict[rel] = 1\n",
    "count, len(data['train'])"
   ]
  },
  {
   "cell_type": "code",
   "execution_count": 79,
   "id": "8ca9d214",
   "metadata": {},
   "outputs": [],
   "source": [
    "rel2name = {}\n",
    "for rel in relations:\n",
    "    rel_processed = slashToDotRelation(rel)\n",
    "    if rel_processed in relation_names_from_google:\n",
    "        name = relation_names_from_google[rel_processed]\n",
    "    else:\n",
    "        name = getLastPart(rel)\n",
    "    rel2name[rel] = name"
   ]
  },
  {
   "cell_type": "code",
   "execution_count": 81,
   "id": "e8d6e3af",
   "metadata": {},
   "outputs": [
    {
     "data": {
      "text/plain": [
       "237"
      ]
     },
     "execution_count": 81,
     "metadata": {},
     "output_type": "execute_result"
    }
   ],
   "source": [
    "len(rel2name)"
   ]
  },
  {
   "cell_type": "code",
   "execution_count": 82,
   "id": "3f28d12e",
   "metadata": {},
   "outputs": [
    {
     "data": {
      "text/plain": [
       "14904"
      ]
     },
     "execution_count": 82,
     "metadata": {},
     "output_type": "execute_result"
    }
   ],
   "source": [
    "description_file = 'data/fb15k237_2/entity2textlong.txt'\n",
    "f = open(description_file)\n",
    "ent2desc = {}\n",
    "for line in f:\n",
    "    line = line.split('\\t')\n",
    "    ent2desc[line[0]] = line[1]\n",
    "f.close()\n",
    "len(ent2desc)"
   ]
  },
  {
   "cell_type": "code",
   "execution_count": 180,
   "id": "cf873f63",
   "metadata": {},
   "outputs": [
    {
     "data": {
      "text/plain": [
       "14951"
      ]
     },
     "execution_count": 180,
     "metadata": {},
     "output_type": "execute_result"
    }
   ],
   "source": [
    "only_name_file  = 'data/fb15k237_2/entity2text.txt'\n",
    "f = open(only_name_file)\n",
    "ent2onlyname = {}\n",
    "for line in f:\n",
    "    line = line.rstrip().split('\\t')\n",
    "    ent2onlyname[line[0]] = line[1]\n",
    "f.close()\n",
    "len(ent2onlyname)"
   ]
  },
  {
   "cell_type": "code",
   "execution_count": 203,
   "id": "fdf2a145",
   "metadata": {},
   "outputs": [],
   "source": [
    "descriptions = list(ent2desc.values())\n",
    "def shortenDescription(desc):\n",
    "    desc = desc.split('.')[0]\n",
    "    desc = desc.split('\\n')[0]\n",
    "    desc = desc.split('\\t')[0]\n",
    "    if len(desc) > 100:\n",
    "        desc = desc.split(';')[0]\n",
    "        desc = desc.split(':')[0]\n",
    "    return desc\n",
    "\n",
    "def removeBlankSpace(s):\n",
    "    s = s.replace('\\t', ' ')\n",
    "    s = s.replace('\\n', ' ')\n",
    "    return s"
   ]
  },
  {
   "cell_type": "code",
   "execution_count": 204,
   "id": "937a9d47",
   "metadata": {},
   "outputs": [],
   "source": [
    "import random\n",
    "import unicodedata\n",
    "ent2name = {}\n",
    "ent_names_set = set()\n",
    "for eid, description in ent2desc.items():\n",
    "    description = unicodedata.normalize('NFKC', description)\n",
    "    short_desc = shortenDescription(description)\n",
    "    short_desc = removeBlankSpace(short_desc)\n",
    "    description = removeBlankSpace(description)\n",
    "    name = \"\"\n",
    "    if short_desc not in ent_names_set:\n",
    "        name = short_desc\n",
    "    else:\n",
    "        if description[:120] not in ent_names_set:\n",
    "            name = description[:120]\n",
    "        else:\n",
    "            name = short_desc + ' ' + str(random.randint(0,10))\n",
    "    ent_names_set.add(name)\n",
    "    ent2name[eid] = name"
   ]
  },
  {
   "cell_type": "code",
   "execution_count": 205,
   "id": "0553dd72",
   "metadata": {},
   "outputs": [],
   "source": [
    "for eid, onlyname in ent2onlyname.items():\n",
    "    if eid not in ent2name:\n",
    "        ent2name[eid] = onlyname"
   ]
  },
  {
   "cell_type": "code",
   "execution_count": 206,
   "id": "088bf17d",
   "metadata": {},
   "outputs": [
    {
     "data": {
      "text/plain": [
       "(14951, 14951)"
      ]
     },
     "execution_count": 206,
     "metadata": {},
     "output_type": "execute_result"
    }
   ],
   "source": [
    "len(ent2name), len(set(ent2name.values()))"
   ]
  },
  {
   "cell_type": "code",
   "execution_count": 207,
   "id": "00136b5d",
   "metadata": {},
   "outputs": [],
   "source": [
    "from transformers import T5TokenizerFast\n",
    "tokenizer = T5TokenizerFast.from_pretrained('t5-small')"
   ]
  },
  {
   "cell_type": "code",
   "execution_count": 208,
   "id": "e5815836",
   "metadata": {},
   "outputs": [
    {
     "data": {
      "application/vnd.jupyter.widget-view+json": {
       "model_id": "20845a096c6a45248f88e3432076a2dd",
       "version_major": 2,
       "version_minor": 0
      },
      "text/plain": [
       "HBox(children=(FloatProgress(value=0.0, max=14951.0), HTML(value='')))"
      ]
     },
     "metadata": {},
     "output_type": "display_data"
    },
    {
     "name": "stdout",
     "output_type": "stream",
     "text": [
      "\n"
     ]
    }
   ],
   "source": [
    "from tqdm.notebook import tqdm\n",
    "lengths = []\n",
    "for id, name in tqdm(ent2name.items()):\n",
    "    x = tokenizer(name)\n",
    "    lengths.append(len(x['input_ids']))"
   ]
  },
  {
   "cell_type": "code",
   "execution_count": 209,
   "id": "6c0ae726",
   "metadata": {},
   "outputs": [
    {
     "data": {
      "text/plain": [
       "Text(0.5, 0, 'Tokenized lengths')"
      ]
     },
     "execution_count": 209,
     "metadata": {},
     "output_type": "execute_result"
    },
    {
     "data": {
      "image/png": "[encoded data removed]",
      "text/plain": [
       "<Figure size 432x288 with 1 Axes>"
      ]
     },
     "metadata": {
      "needs_background": "light"
     },
     "output_type": "display_data"
    }
   ],
   "source": [
    "import matplotlib.pyplot as plt \n",
    "\n",
    "import numpy as np \n",
    "\n",
    "%matplotlib inline\n",
    "\n",
    "# x = np.random.normal(size = 1000) \n",
    "x = lengths\n",
    "plt.hist(x, bins=20) \n",
    "\n",
    "plt.ylabel('Num entities');\n",
    "plt.xlabel('Tokenized lengths')"
   ]
  },
  {
   "cell_type": "code",
   "execution_count": 210,
   "id": "47e5391d",
   "metadata": {},
   "outputs": [
    {
     "data": {
      "text/plain": [
       "(14882, 14951)"
      ]
     },
     "execution_count": 210,
     "metadata": {},
     "output_type": "execute_result"
    }
   ],
   "source": [
    "count = 0\n",
    "for l in lengths:\n",
    "    if l < 80:\n",
    "        count += 1\n",
    "count, len(lengths)"
   ]
  },
  {
   "cell_type": "code",
   "execution_count": 211,
   "id": "e3b6f473",
   "metadata": {},
   "outputs": [],
   "source": [
    "dest_folder = '/scratche/home/apoorv/transformer-kgc/data/fb15k237_2'"
   ]
  },
  {
   "cell_type": "code",
   "execution_count": 212,
   "id": "e62466c4",
   "metadata": {},
   "outputs": [],
   "source": [
    "def triple2text(t):\n",
    "    global rel2name, ent2name\n",
    "    rel = rel2name[t[1]]\n",
    "    out = [ent2name[t[0]], rel, ent2name[t[2]]]\n",
    "    return out"
   ]
  },
  {
   "cell_type": "code",
   "execution_count": 213,
   "id": "9df0713c",
   "metadata": {},
   "outputs": [],
   "source": [
    "def mapTriple(t):\n",
    "    out = triple2text(t)\n",
    "    return out"
   ]
  },
  {
   "cell_type": "code",
   "execution_count": 214,
   "id": "1e84e918",
   "metadata": {},
   "outputs": [
    {
     "name": "stdout",
     "output_type": "stream",
     "text": [
      "['The Dominican Republic is a nation on the island of Hispaniola, part of the Greater Antilles archipelago in the Caribbean region', 'Form of Government', 'A republic is a form of government in which power is held by the people and representatives they elect, and affairs of state are a \\\\\"public matter\\\\\", rather than privately accommodated']\n",
      "[\"Mighty Morphin Power Rangers is an American live action children's television series that premiered on August 28, 1993, on the Fox Kids weekday afternoon block\", 'Regular tv appearance, actor', 'Wendee Lee is an American voice actress']\n",
      "['Drama in entertainment media is a genre involved usually with in the depiction of realistic characters and emotional themes', 'Titles', 'American History X is a 1998 American drama film directed by Tony Kaye and written by David McKenna']\n",
      "['Mayte Michelle Rodriguez, simply credited as Michelle Rodriguez, is an American actress, screenwriter and disc jockey', 'Award honor, award winner', 'Naveen William Sidney Andrews is a British actor']\n",
      "[\"The Australia national association football team represents Australia in international men's association football\", 'Sports team roster, position', 'A midfielder is an association football position']\n",
      "['The Maldives national football team represents the Maldives in the sport of football, and is controlled by the Football Association of Maldives', 'Football roster position, position', \"Forwards are the players on an association football team who play nearest to the opposing team's goal, and are therefore most responsible for scoring goals\"]\n",
      "['Bryan Jay Singer is an American film director, screenwriter and producer', 'Performance, film', 'Star Trek: Nemesis is a 2002 American science fiction film released by Paramount Pictures']\n",
      "['The BAFTA Award for Best Original Screenplay is the British Academy Film Award for the best script not based upon previously published material', 'Award nomination, nominated for', 'Philadelphia is a 1993 American drama film and one of the first mainstream Hollywood films to acknowledge HIV/AIDS, homosexuality, and homophobia']\n",
      "['Daniel Michael \\\\\"Danny\\\\\" DeVito, Jr', 'Award nomination, award nominee', 'Guy Edward Pearce is an English-born Australian actor and musician, known for his roles in The Adventures of Priscilla, Queen of the Desert, L']\n",
      "['A harpsichord is a musical instrument similar to a piano played by means of a keyboard', 'Group membership, role', 'The violin, also known as a fiddle, is a string instrument, usually with four strings tuned in perfect fifths']\n"
     ]
    }
   ],
   "source": [
    "for id in range(10):\n",
    "    print(mapTriple(data['train'][id]))"
   ]
  },
  {
   "cell_type": "code",
   "execution_count": 215,
   "id": "55b0059b",
   "metadata": {},
   "outputs": [
    {
     "data": {
      "text/plain": [
       "272115"
      ]
     },
     "execution_count": 215,
     "metadata": {},
     "output_type": "execute_result"
    }
   ],
   "source": [
    "len(data['train'])"
   ]
  },
  {
   "cell_type": "code",
   "execution_count": 216,
   "id": "dec20bbe",
   "metadata": {},
   "outputs": [
    {
     "data": {
      "application/vnd.jupyter.widget-view+json": {
       "model_id": "cf06f96ec0a349aeb8e587e2804496f5",
       "version_major": 2,
       "version_minor": 0
      },
      "text/plain": [
       "HBox(children=(FloatProgress(value=0.0, max=272115.0), HTML(value='')))"
      ]
     },
     "metadata": {},
     "output_type": "display_data"
    },
    {
     "name": "stdout",
     "output_type": "stream",
     "text": [
      "\n"
     ]
    },
    {
     "data": {
      "application/vnd.jupyter.widget-view+json": {
       "model_id": "14135a8a6c81402192be2b49ecfba402",
       "version_major": 2,
       "version_minor": 0
      },
      "text/plain": [
       "HBox(children=(FloatProgress(value=0.0, max=20466.0), HTML(value='')))"
      ]
     },
     "metadata": {},
     "output_type": "display_data"
    },
    {
     "name": "stdout",
     "output_type": "stream",
     "text": [
      "\n"
     ]
    },
    {
     "data": {
      "application/vnd.jupyter.widget-view+json": {
       "model_id": "98982e78328e4e94b23884fbc6b38530",
       "version_major": 2,
       "version_minor": 0
      },
      "text/plain": [
       "HBox(children=(FloatProgress(value=0.0, max=17535.0), HTML(value='')))"
      ]
     },
     "metadata": {},
     "output_type": "display_data"
    },
    {
     "name": "stdout",
     "output_type": "stream",
     "text": [
      "\n"
     ]
    }
   ],
   "source": [
    "out_folder = dest_folder\n",
    "splits = ['train', 'test', 'valid']\n",
    "\n",
    "count = 0\n",
    "for split in splits:\n",
    "    fname = os.path.join(out_folder, split + '.txt')\n",
    "    f = open(fname, 'w')\n",
    "    triples = data[split]\n",
    "    for t in tqdm(triples):\n",
    "        \n",
    "        t = mapTriple(t)\n",
    "        # only save those that DO NOT start with m. or g.\n",
    "        # we can do that since aim is KGQA not KGC\n",
    "        head, relation, tail = t\n",
    "        input = 'predict tail: {0} | {1}'.format(head, relation)\n",
    "        output = '{}'.format(tail)\n",
    "        f.write(input + '\\t' + output + '\\n')\n",
    "        \n",
    "        input = 'predict head: {0} | {1}'.format(tail, relation)\n",
    "        output = '{}'.format(head)\n",
    "        f.write(input + '\\t' + output + '\\n')\n",
    "    f.close()"
   ]
  },
  {
   "cell_type": "code",
   "execution_count": 217,
   "id": "9c498634",
   "metadata": {},
   "outputs": [
    {
     "data": {
      "text/plain": [
       "0"
      ]
     },
     "execution_count": 217,
     "metadata": {},
     "output_type": "execute_result"
    }
   ],
   "source": [
    "count"
   ]
  },
  {
   "cell_type": "code",
   "execution_count": 218,
   "id": "91b1d75f",
   "metadata": {},
   "outputs": [
    {
     "data": {
      "text/plain": [
       "14951"
      ]
     },
     "execution_count": 218,
     "metadata": {},
     "output_type": "execute_result"
    }
   ],
   "source": [
    "entity_names = set()\n",
    "for key, value in ent2name.items():\n",
    "#     if key.startswith('Q'):\n",
    "    entity_names.add(value)\n",
    "len(entity_names)"
   ]
  },
  {
   "cell_type": "code",
   "execution_count": 219,
   "id": "a0f15721",
   "metadata": {},
   "outputs": [
    {
     "name": "stdout",
     "output_type": "stream",
     "text": [
      "Fred Quimby\n"
     ]
    }
   ],
   "source": [
    "for e in entity_names:\n",
    "    if 'Fred Quimby' in e:\n",
    "        print(e)"
   ]
  },
  {
   "cell_type": "code",
   "execution_count": 220,
   "id": "483eab98",
   "metadata": {},
   "outputs": [],
   "source": [
    "# create entity_strings.txt which is needed in evaluation code\n",
    "strings_file_name = 'entity_strings.txt'\n",
    "f = open(os.path.join(out_folder, strings_file_name), 'w')\n",
    "ents_uniq = entity_names\n",
    "for e in ents_uniq:\n",
    "    f.write(e + '\\n')\n",
    "f.close()"
   ]
  },
  {
   "cell_type": "code",
   "execution_count": 221,
   "id": "92b98056",
   "metadata": {},
   "outputs": [],
   "source": [
    "# webqsp qa \n",
    "# def readQALines(fname):\n",
    "#     f = open(fname)\n",
    "#     questions = []\n",
    "#     for line in f:\n",
    "#         line = line.strip().split('\\t')\n",
    "#         q = line[0]\n",
    "#         lhs = q.split('[')[0]\n",
    "#         rhs = q.split(']')[1]\n",
    "#         only_question = lhs + 'NE' + rhs\n",
    "#         only_question = normalizeEntity(only_question)\n",
    "# #         q = q.replace('[', '')\n",
    "# #         q = q.replace(']', '')\n",
    "# #         q = normalizeEntity(q)\n",
    "#         questions.append(only_question)\n",
    "#     return questions\n",
    "        \n",
    "# def writeLines(lines, fname):\n",
    "#     f = open(fname, 'w')\n",
    "#     for line in lines:\n",
    "#         f.write(line + '\\n')\n"
   ]
  },
  {
   "cell_type": "code",
   "execution_count": 222,
   "id": "7c0446cc",
   "metadata": {},
   "outputs": [],
   "source": [
    "fname = 'data/fb15k237_2/train.txt'\n",
    "f = open(fname)\n",
    "for line in f:\n",
    "    line = line.rstrip().split('\\t')\n",
    "    if len(line) != 2:\n",
    "        print(line)"
   ]
  },
  {
   "cell_type": "code",
   "execution_count": 103,
   "id": "b9f40016",
   "metadata": {},
   "outputs": [
    {
     "data": {
      "text/plain": [
       "'what character did natalie portman play in star wars NE'"
      ]
     },
     "execution_count": 103,
     "metadata": {},
     "output_type": "execute_result"
    }
   ],
   "source": []
  },
  {
   "cell_type": "code",
   "execution_count": 81,
   "id": "7cd8116f",
   "metadata": {},
   "outputs": [],
   "source": [
    "# fname = 'data/MetaQA/full_qa.txt'\n",
    "# questions = readQALines(fname)\n",
    "# questions = list(set(questions))"
   ]
  },
  {
   "cell_type": "code",
   "execution_count": 82,
   "id": "31ccafbc",
   "metadata": {},
   "outputs": [],
   "source": [
    "# fname = 'data/MetaQA/only_questions_text.txt'\n",
    "# writeLines(questions, fname)"
   ]
  },
  {
   "cell_type": "code",
   "execution_count": 138,
   "id": "8a8e6782",
   "metadata": {},
   "outputs": [],
   "source": [
    "vocab_size = 30000\n",
    "sp = spm.SentencePieceTrainer.train(input='data/fbwq_half/train.txt', \n",
    "                                    model_prefix='fbwq_with_pad', vocab_size=vocab_size, \n",
    "                                    pad_id=3,\n",
    "#                                     character_coverage=1.0,\n",
    "#                                user_defined_symbols=['predict',\n",
    "#                                                     'head',\n",
    "#                                                     'tail',\n",
    "#                                                     '|'],\n",
    "#                                     normalization_rule_name='identity',\n",
    "                              )"
   ]
  },
  {
   "cell_type": "code",
   "execution_count": 139,
   "id": "c2256ddf",
   "metadata": {},
   "outputs": [],
   "source": [
    "# sp = spm.SentencePieceProcessor(model_file='data/sentencepiece/metaqa_with_pad.model')\n",
    "sp = spm.SentencePieceProcessor(model_file='fbwq_with_pad.model')"
   ]
  },
  {
   "cell_type": "code",
   "execution_count": 38,
   "id": "8e3aa571",
   "metadata": {},
   "outputs": [
    {
     "data": {
      "text/plain": [
       "0"
      ]
     },
     "execution_count": 38,
     "metadata": {},
     "output_type": "execute_result"
    }
   ],
   "source": [
    "# sp['Obama']"
   ]
  },
  {
   "cell_type": "code",
   "execution_count": 151,
   "id": "ba0b22e2",
   "metadata": {},
   "outputs": [
    {
     "data": {
      "text/plain": [
       "'how old'"
      ]
     },
     "execution_count": 151,
     "metadata": {},
     "output_type": "execute_result"
    }
   ],
   "source": [
    "sp.decode(sp.encode('how old'))"
   ]
  },
  {
   "cell_type": "code",
   "execution_count": 192,
   "id": "2c83c7a2",
   "metadata": {},
   "outputs": [
    {
     "data": {
      "text/plain": [
       "[5, 0, 12497, 0]"
      ]
     },
     "execution_count": 192,
     "metadata": {},
     "output_type": "execute_result"
    }
   ],
   "source": [
    "sp.encode('<pad>')"
   ]
  },
  {
   "cell_type": "code",
   "execution_count": 195,
   "id": "dc8aa35e",
   "metadata": {},
   "outputs": [
    {
     "data": {
      "text/plain": [
       "2"
      ]
     },
     "execution_count": 195,
     "metadata": {},
     "output_type": "execute_result"
    }
   ],
   "source": [
    "sp['</s>']"
   ]
  },
  {
   "cell_type": "code",
   "execution_count": 193,
   "id": "0b28dd64",
   "metadata": {},
   "outputs": [
    {
     "data": {
      "text/plain": [
       "'<pad>'"
      ]
     },
     "execution_count": 193,
     "metadata": {},
     "output_type": "execute_result"
    }
   ],
   "source": [
    "sp.id_to_piece(3)"
   ]
  },
  {
   "cell_type": "code",
   "execution_count": 176,
   "id": "30733281",
   "metadata": {},
   "outputs": [
    {
     "name": "stderr",
     "output_type": "stream",
     "text": [
      "100%|██████████| 1712213/1712213 [00:18<00:00, 91029.72it/s] \n"
     ]
    },
    {
     "data": {
      "text/plain": [
       "0"
      ]
     },
     "execution_count": 176,
     "metadata": {},
     "output_type": "execute_result"
    }
   ],
   "source": [
    "lengths = []\n",
    "count = 0\n",
    "for e in tqdm(ents_uniq):\n",
    "    encoded = sp.encode(e)\n",
    "    l = len(encoded)\n",
    "    if l > 500:\n",
    "        print(e,l)\n",
    "        l = 20\n",
    "        count += 1\n",
    "    lengths.append(l)\n",
    "count"
   ]
  },
  {
   "cell_type": "code",
   "execution_count": 177,
   "id": "8055bc10",
   "metadata": {
    "scrolled": false
   },
   "outputs": [
    {
     "data": {
      "text/plain": [
       "Text(0.5, 0, 'Tokenized lengths')"
      ]
     },
     "execution_count": 177,
     "metadata": {},
     "output_type": "execute_result"
    },
    {
     "data": {
      "image/png": "[encoded data removed]",
      "text/plain": [
       "<Figure size 432x288 with 1 Axes>"
      ]
     },
     "metadata": {
      "needs_background": "light"
     },
     "output_type": "display_data"
    }
   ],
   "source": [
    "import matplotlib.pyplot as plt \n",
    "\n",
    "import numpy as np \n",
    "\n",
    "%matplotlib inline\n",
    "\n",
    "# x = np.random.normal(size = 1000) \n",
    "x = lengths\n",
    "plt.hist(x, bins=30) \n",
    "\n",
    "plt.ylabel('Num entities');\n",
    "plt.xlabel('Tokenized lengths')"
   ]
  },
  {
   "cell_type": "code",
   "execution_count": 190,
   "id": "afd66461",
   "metadata": {},
   "outputs": [
    {
     "name": "stderr",
     "output_type": "stream",
     "text": [
      "100%|██████████| 1068/1068 [00:00<00:00, 41292.34it/s]"
     ]
    },
    {
     "name": "stdout",
     "output_type": "stream",
     "text": [
      "astronomical objects discovered\n",
      "astronomical objects discovered reverse\n",
      "sewage treatment plant\n",
      "sewage treatment plant reverse\n",
      "infidelity perpetrator reverse\n",
      "substance abuse reverse\n",
      "lifetime batting statistics reverse\n",
      "sponsored by reverse\n",
      "substance abuse problems reverse\n",
      "appears in these fictional universes reverse\n",
      "jurisdiction of office reverse\n",
      "body this is a component of reverse\n",
      "politicians in this party reverse\n",
      "websites owned reverse\n",
      "tropical cyclone season reverse\n",
      "olympics hosted reverse\n",
      "types of places of worship reverse\n",
      "athletic performances reverse\n",
      "mode of transportation reverse\n",
      "appeared in tv episodes reverse\n",
      "episodes appeared in reverse\n"
     ]
    },
    {
     "name": "stderr",
     "output_type": "stream",
     "text": [
      "\n"
     ]
    },
    {
     "data": {
      "text/plain": [
       "21"
      ]
     },
     "execution_count": 190,
     "metadata": {},
     "output_type": "execute_result"
    }
   ],
   "source": [
    "lengths = []\n",
    "count = 0\n",
    "for e in tqdm(relations):\n",
    "    encoded = sp.encode(relation_map[e])\n",
    "    l = len(encoded)\n",
    "    if l > 10:\n",
    "        print(relation_map[e])\n",
    "        count +=1\n",
    "    lengths.append(l)\n",
    "count"
   ]
  },
  {
   "cell_type": "code",
   "execution_count": 186,
   "id": "b5462fd9",
   "metadata": {},
   "outputs": [
    {
     "data": {
      "text/plain": [
       "Text(0.5, 0, 'Tokenized lengths')"
      ]
     },
     "execution_count": 186,
     "metadata": {},
     "output_type": "execute_result"
    },
    {
     "data": {
      "image/png": "[encoded data removed]",
      "text/plain": [
       "<Figure size 432x288 with 1 Axes>"
      ]
     },
     "metadata": {
      "needs_background": "light"
     },
     "output_type": "display_data"
    }
   ],
   "source": [
    "import matplotlib.pyplot as plt \n",
    "\n",
    "import numpy as np \n",
    "\n",
    "%matplotlib inline\n",
    "\n",
    "# x = np.random.normal(size = 1000) \n",
    "x = lengths\n",
    "plt.hist(x, bins=30) \n",
    "\n",
    "plt.ylabel('Num entities');\n",
    "plt.xlabel('Tokenized lengths')"
   ]
  },
  {
   "cell_type": "code",
   "execution_count": 191,
   "id": "51a339bd",
   "metadata": {},
   "outputs": [
    {
     "data": {
      "text/plain": [
       "[167, 10, 96]"
      ]
     },
     "execution_count": 191,
     "metadata": {},
     "output_type": "execute_result"
    }
   ],
   "source": [
    "sp.encode('plays for')"
   ]
  },
  {
   "cell_type": "code",
   "execution_count": 104,
   "id": "be1d15cf",
   "metadata": {},
   "outputs": [
    {
     "data": {
      "text/plain": [
       "1880592"
      ]
     },
     "execution_count": 104,
     "metadata": {},
     "output_type": "execute_result"
    }
   ],
   "source": [
    "len(uniq_ent_map)"
   ]
  },
  {
   "cell_type": "code",
   "execution_count": 143,
   "id": "023dc021",
   "metadata": {},
   "outputs": [],
   "source": [
    "def replaceEntities(line, aliases_dict):\n",
    "    line = line.strip().split('\\t')\n",
    "    q = line[0]\n",
    "    # sometimes no answer\n",
    "    if len(line) > 1:\n",
    "        answers= line[1].split('|')\n",
    "    else:\n",
    "        answers = []    \n",
    "    lhs = q.split('[')[0]\n",
    "    rhs = q.split(']')[1]\n",
    "    head_id = q.split('[')[1].split(']')[0]\n",
    "    if head_id in aliases_dict:\n",
    "        head_text = aliases_dict[head_id]\n",
    "    else:\n",
    "        head_text = head_id\n",
    "        print(head_text + ' not found')\n",
    "    answers_text = []\n",
    "    for a in answers:\n",
    "        if a in aliases_dict:\n",
    "            answers_text.append(aliases_dict[a])\n",
    "        else:\n",
    "            answers_text.append(a)\n",
    "    answers_string = '|'.join(answers_text)\n",
    "    \n",
    "    out = '{lhs}[{head}]{rhs}\\t{ans}'.format(\n",
    "        lhs=lhs,\n",
    "        rhs=rhs,\n",
    "        head = head_text,\n",
    "        ans = answers_string\n",
    "    )\n",
    "    return out\n",
    "        \n",
    "def readLines(fname):\n",
    "    f = open(fname)\n",
    "    lines = []\n",
    "    for line in f:\n",
    "        lines.append(line.rstrip())\n",
    "    f.close()\n",
    "    return lines\n",
    "\n",
    "def writeLines(lines, fname):\n",
    "    f = open(fname, 'w')\n",
    "    for line in lines:\n",
    "        f.write(line + '\\n')\n",
    "    f.close()"
   ]
  },
  {
   "cell_type": "code",
   "execution_count": 137,
   "id": "f67a0b09",
   "metadata": {},
   "outputs": [],
   "source": [
    "# need to make qa data as well, since entity aliases need to be used\n",
    "# and not just entity ids as answers\n",
    "fname = '/scratche/home/apoorv/EmbedKGQA/data/QA_data/WebQuestionsSP/qa_test_webqsp_fixed.txt'\n",
    "questions = readLines(fname)\n"
   ]
  },
  {
   "cell_type": "code",
   "execution_count": 138,
   "id": "53a73429",
   "metadata": {},
   "outputs": [
    {
     "data": {
      "text/plain": [
       "'what did james k polk do before he was president [m.042f1]\\tm.02_bcst|m.04x_n9q|m.0cgqx'"
      ]
     },
     "execution_count": 138,
     "metadata": {},
     "output_type": "execute_result"
    }
   ],
   "source": [
    "questions[1]"
   ]
  },
  {
   "cell_type": "code",
   "execution_count": 144,
   "id": "62983ae2",
   "metadata": {},
   "outputs": [
    {
     "name": "stdout",
     "output_type": "stream",
     "text": [
      "m.02vkmj9 not found\n"
     ]
    }
   ],
   "source": [
    "lines_with_entities = [replaceEntities(q, uniq_ent_map) for q in questions]"
   ]
  },
  {
   "cell_type": "code",
   "execution_count": 145,
   "id": "dd205992",
   "metadata": {},
   "outputs": [
    {
     "data": {
      "text/plain": [
       "1639"
      ]
     },
     "execution_count": 145,
     "metadata": {},
     "output_type": "execute_result"
    }
   ],
   "source": [
    "len(lines_with_entities)"
   ]
  },
  {
   "cell_type": "code",
   "execution_count": 146,
   "id": "1372b3d0",
   "metadata": {},
   "outputs": [
    {
     "data": {
      "text/plain": [
       "['what does jamaican people speak [Jamaica 1]\\tJamaican English|Jamaican Creole English Langua|Jamaican English',\n",
       " 'what did james k polk do before he was president [James K. Polk]\\tUnited States Representative|Governor of Tennessee|Speaker of the United States H',\n",
       " 'who plays ken barlow in coronation street [Coronation Street]\\tWilliam Roache',\n",
       " 'where is jamarcus russell from [JaMarcus Russell]\\tMobile 0',\n",
       " 'where was george washington carver from [George Washington Carver]\\tDiamond 8',\n",
       " 'what else did ben franklin invent [Benjamin Franklin]\\tLightning rod|Bifocals|Glass harmonica|Franklin stove',\n",
       " 'who was richard nixon married to [Richard Nixon]\\tPat Nixon',\n",
       " 'who is governor of ohio 2011 [Ohio 2]\\tJohn Kasich|Return J. Meigs, Jr.|Ted Strickland',\n",
       " 'who was vice president after kennedy died [John F. Kennedy 0]\\tLyndon B. Johnson 1',\n",
       " 'where is the fukushima daiichi nuclear plant located [Fukushima Daiichi Nuclear Powe]\\tJapan 1|Okuma']"
      ]
     },
     "execution_count": 146,
     "metadata": {},
     "output_type": "execute_result"
    }
   ],
   "source": [
    "lines_with_entities[:10]"
   ]
  },
  {
   "cell_type": "code",
   "execution_count": 148,
   "id": "dc01e9dd",
   "metadata": {},
   "outputs": [],
   "source": [
    "fname = 'data/fbwq_half/qa_valid_1hop.txt'\n",
    "writeLines(lines_with_entities, fname)"
   ]
  },
  {
   "cell_type": "code",
   "execution_count": null,
   "id": "a3bed453",
   "metadata": {},
   "outputs": [],
   "source": []
  }
 ],
 "metadata": {
  "kernelspec": {
   "display_name": "Python 3 (ipykernel)",
   "language": "python",
   "name": "python3"
  },
  "language_info": {
   "codemirror_mode": {
    "name": "ipython",
    "version": 3
   },
   "file_extension": ".py",
   "mimetype": "text/x-python",
   "name": "python",
   "nbconvert_exporter": "python",
   "pygments_lexer": "ipython3",
   "version": "3.8.11"
  }
 },
 "nbformat": 4,
 "nbformat_minor": 5
}

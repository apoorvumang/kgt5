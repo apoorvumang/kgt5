{
 "cells": [
  {
   "cell_type": "code",
   "execution_count": 1,
   "id": "6294b12f",
   "metadata": {},
   "outputs": [],
   "source": [
    "import os\n",
    "import pickle\n",
    "from tqdm import tqdm\n",
    "import sentencepiece as spm"
   ]
  },
  {
   "cell_type": "code",
   "execution_count": 2,
   "id": "66554ebd",
   "metadata": {},
   "outputs": [
    {
     "name": "stdout",
     "output_type": "stream",
     "text": [
      "mapped_to_ids  train_data_basic.txt\tvalidation_data_all.txt\r\n",
      "README.md      train_data_simple.txt\tvalidation_data_linked_mention.txt\r\n",
      "test_data.txt  train_data_thorough.txt\tvalidation_data_linked.txt\r\n"
     ]
    }
   ],
   "source": [
    "source_folder = '/scratche/home/apoorv/transformer-kgc/data/olpbench'\n",
    "! ls {source_folder}"
   ]
  },
  {
   "cell_type": "code",
   "execution_count": 4,
   "id": "59e18046",
   "metadata": {},
   "outputs": [],
   "source": [
    "from unidecode import unidecode\n",
    "\n",
    "def readTriples(fname):\n",
    "    f = open(fname)\n",
    "    triples = []\n",
    "    for line in f:\n",
    "        if line[-1] == '\\n':\n",
    "            line = line[:-1]\n",
    "        line = unidecode(line).lower()\n",
    "        line = line.split('\\t')[:3]\n",
    "        triples.append(line)\n",
    "    f.close()\n",
    "    return triples"
   ]
  },
  {
   "cell_type": "code",
   "execution_count": 5,
   "id": "aa327398",
   "metadata": {},
   "outputs": [],
   "source": [
    "# load half data\n",
    "data = {}\n",
    "splits = ['train_data_thorough', 'test_data', 'validation_data_linked_mention']\n",
    "for split in splits:\n",
    "    fname = os.path.join(source_folder, split + '.txt')\n",
    "    data[split] = readTriples(fname)"
   ]
  },
  {
   "cell_type": "code",
   "execution_count": 8,
   "id": "da7e6850",
   "metadata": {},
   "outputs": [
    {
     "data": {
      "text/plain": [
       "['mendel jackson davis', 'was a representative from', 'south carolina']"
      ]
     },
     "execution_count": 8,
     "metadata": {},
     "output_type": "execute_result"
    }
   ],
   "source": [
    "data['test_data'][5000]"
   ]
  },
  {
   "cell_type": "code",
   "execution_count": 7,
   "id": "cfc5c4f2",
   "metadata": {},
   "outputs": [
    {
     "data": {
      "text/plain": [
       "30650783"
      ]
     },
     "execution_count": 7,
     "metadata": {},
     "output_type": "execute_result"
    }
   ],
   "source": [
    "len(data['train_data_thorough'])"
   ]
  },
  {
   "cell_type": "code",
   "execution_count": 9,
   "id": "079fd5b1",
   "metadata": {},
   "outputs": [],
   "source": [
    "data['train'] = data['train_data_thorough']\n",
    "data['valid'] = data['validation_data_linked_mention']\n",
    "data['test'] = data['test_data']"
   ]
  },
  {
   "cell_type": "code",
   "execution_count": 11,
   "id": "dec20bbe",
   "metadata": {},
   "outputs": [
    {
     "data": {
      "application/vnd.jupyter.widget-view+json": {
       "model_id": "c2bdbe4d939d4429b8f9e0aa5f044d96",
       "version_major": 2,
       "version_minor": 0
      },
      "text/plain": [
       "  0%|          | 0/30650783 [00:00<?, ?it/s]"
      ]
     },
     "metadata": {},
     "output_type": "display_data"
    },
    {
     "data": {
      "application/vnd.jupyter.widget-view+json": {
       "model_id": "4cb3a6ceb55e4b76919db607c75895c0",
       "version_major": 2,
       "version_minor": 0
      },
      "text/plain": [
       "  0%|          | 0/10000 [00:00<?, ?it/s]"
      ]
     },
     "metadata": {},
     "output_type": "display_data"
    },
    {
     "data": {
      "application/vnd.jupyter.widget-view+json": {
       "model_id": "8d62e3f86e6e41b3967be5d9a398a75d",
       "version_major": 2,
       "version_minor": 0
      },
      "text/plain": [
       "  0%|          | 0/10000 [00:00<?, ?it/s]"
      ]
     },
     "metadata": {},
     "output_type": "display_data"
    }
   ],
   "source": [
    "from tqdm.notebook import tqdm\n",
    "\n",
    "out_folder = '/scratche/home/apoorv/transformer-kgc/data/olpbench'\n",
    "splits = ['train', 'test', 'valid']\n",
    "\n",
    "count = 0\n",
    "for split in splits:\n",
    "    fname = os.path.join(out_folder, split + '.txt')\n",
    "    f = open(fname, 'w')\n",
    "    triples = data[split]\n",
    "    for t in tqdm(triples):\n",
    "        \n",
    "        head, relation, tail = t\n",
    "        input = 'predict tail: {0} | {1} |'.format(head, relation)\n",
    "        output = '{}'.format(tail)\n",
    "        f.write(input + '\\t' + output + '\\n')\n",
    "        \n",
    "        input = 'predict head: {0} | {1} |'.format(tail, relation)\n",
    "        output = '{}'.format(head)\n",
    "        f.write(input + '\\t' + output + '\\n')\n",
    "    f.close()"
   ]
  },
  {
   "cell_type": "code",
   "execution_count": 107,
   "id": "9c498634",
   "metadata": {},
   "outputs": [
    {
     "data": {
      "text/plain": [
       "1019066"
      ]
     },
     "execution_count": 107,
     "metadata": {},
     "output_type": "execute_result"
    }
   ],
   "source": [
    "count"
   ]
  },
  {
   "cell_type": "code",
   "execution_count": 13,
   "id": "91b1d75f",
   "metadata": {},
   "outputs": [
    {
     "data": {
      "text/plain": [
       "77951"
      ]
     },
     "execution_count": 13,
     "metadata": {},
     "output_type": "execute_result"
    }
   ],
   "source": [
    "entity_names = set()\n",
    "for key, value in aliases_dict.items():\n",
    "    if key.startswith('Q'):\n",
    "        entity_names.add(value)\n",
    "len(entity_names)"
   ]
  },
  {
   "cell_type": "code",
   "execution_count": 14,
   "id": "483eab98",
   "metadata": {},
   "outputs": [],
   "source": [
    "# create entity_strings.txt which is needed in evaluation code\n",
    "strings_file_name = 'entity_strings.txt'\n",
    "f = open(os.path.join(out_folder, strings_file_name), 'w')\n",
    "ents_uniq = entity_names\n",
    "for e in ents_uniq:\n",
    "    f.write(e + '\\n')\n",
    "f.close()"
   ]
  },
  {
   "cell_type": "code",
   "execution_count": 99,
   "id": "92b98056",
   "metadata": {},
   "outputs": [],
   "source": [
    "# webqsp qa \n",
    "# def readQALines(fname):\n",
    "#     f = open(fname)\n",
    "#     questions = []\n",
    "#     for line in f:\n",
    "#         line = line.strip().split('\\t')\n",
    "#         q = line[0]\n",
    "#         lhs = q.split('[')[0]\n",
    "#         rhs = q.split(']')[1]\n",
    "#         only_question = lhs + 'NE' + rhs\n",
    "#         only_question = normalizeEntity(only_question)\n",
    "# #         q = q.replace('[', '')\n",
    "# #         q = q.replace(']', '')\n",
    "# #         q = normalizeEntity(q)\n",
    "#         questions.append(only_question)\n",
    "#     return questions\n",
    "        \n",
    "# def writeLines(lines, fname):\n",
    "#     f = open(fname, 'w')\n",
    "#     for line in lines:\n",
    "#         f.write(line + '\\n')\n"
   ]
  },
  {
   "cell_type": "code",
   "execution_count": 122,
   "id": "7c0446cc",
   "metadata": {},
   "outputs": [],
   "source": []
  },
  {
   "cell_type": "code",
   "execution_count": 103,
   "id": "b9f40016",
   "metadata": {},
   "outputs": [
    {
     "data": {
      "text/plain": [
       "'what character did natalie portman play in star wars NE'"
      ]
     },
     "execution_count": 103,
     "metadata": {},
     "output_type": "execute_result"
    }
   ],
   "source": []
  },
  {
   "cell_type": "code",
   "execution_count": 81,
   "id": "7cd8116f",
   "metadata": {},
   "outputs": [],
   "source": [
    "# fname = 'data/MetaQA/full_qa.txt'\n",
    "# questions = readQALines(fname)\n",
    "# questions = list(set(questions))"
   ]
  },
  {
   "cell_type": "code",
   "execution_count": 82,
   "id": "31ccafbc",
   "metadata": {},
   "outputs": [],
   "source": [
    "# fname = 'data/MetaQA/only_questions_text.txt'\n",
    "# writeLines(questions, fname)"
   ]
  },
  {
   "cell_type": "code",
   "execution_count": 138,
   "id": "8a8e6782",
   "metadata": {},
   "outputs": [],
   "source": [
    "vocab_size = 30000\n",
    "sp = spm.SentencePieceTrainer.train(input='data/fbwq_half/train.txt', \n",
    "                                    model_prefix='fbwq_with_pad', vocab_size=vocab_size, \n",
    "                                    pad_id=3,\n",
    "#                                     character_coverage=1.0,\n",
    "#                                user_defined_symbols=['predict',\n",
    "#                                                     'head',\n",
    "#                                                     'tail',\n",
    "#                                                     '|'],\n",
    "#                                     normalization_rule_name='identity',\n",
    "                              )"
   ]
  },
  {
   "cell_type": "code",
   "execution_count": 139,
   "id": "c2256ddf",
   "metadata": {},
   "outputs": [],
   "source": [
    "# sp = spm.SentencePieceProcessor(model_file='data/sentencepiece/metaqa_with_pad.model')\n",
    "sp = spm.SentencePieceProcessor(model_file='fbwq_with_pad.model')"
   ]
  },
  {
   "cell_type": "code",
   "execution_count": 38,
   "id": "8e3aa571",
   "metadata": {},
   "outputs": [
    {
     "data": {
      "text/plain": [
       "0"
      ]
     },
     "execution_count": 38,
     "metadata": {},
     "output_type": "execute_result"
    }
   ],
   "source": [
    "# sp['Obama']"
   ]
  },
  {
   "cell_type": "code",
   "execution_count": 151,
   "id": "ba0b22e2",
   "metadata": {},
   "outputs": [
    {
     "data": {
      "text/plain": [
       "'how old'"
      ]
     },
     "execution_count": 151,
     "metadata": {},
     "output_type": "execute_result"
    }
   ],
   "source": [
    "sp.decode(sp.encode('how old'))"
   ]
  },
  {
   "cell_type": "code",
   "execution_count": 192,
   "id": "2c83c7a2",
   "metadata": {},
   "outputs": [
    {
     "data": {
      "text/plain": [
       "[5, 0, 12497, 0]"
      ]
     },
     "execution_count": 192,
     "metadata": {},
     "output_type": "execute_result"
    }
   ],
   "source": [
    "sp.encode('<pad>')"
   ]
  },
  {
   "cell_type": "code",
   "execution_count": 195,
   "id": "dc8aa35e",
   "metadata": {},
   "outputs": [
    {
     "data": {
      "text/plain": [
       "2"
      ]
     },
     "execution_count": 195,
     "metadata": {},
     "output_type": "execute_result"
    }
   ],
   "source": [
    "sp['</s>']"
   ]
  },
  {
   "cell_type": "code",
   "execution_count": 193,
   "id": "0b28dd64",
   "metadata": {},
   "outputs": [
    {
     "data": {
      "text/plain": [
       "'<pad>'"
      ]
     },
     "execution_count": 193,
     "metadata": {},
     "output_type": "execute_result"
    }
   ],
   "source": [
    "sp.id_to_piece(3)"
   ]
  },
  {
   "cell_type": "code",
   "execution_count": 176,
   "id": "30733281",
   "metadata": {},
   "outputs": [
    {
     "name": "stderr",
     "output_type": "stream",
     "text": [
      "100%|██████████| 1712213/1712213 [00:18<00:00, 91029.72it/s] \n"
     ]
    },
    {
     "data": {
      "text/plain": [
       "0"
      ]
     },
     "execution_count": 176,
     "metadata": {},
     "output_type": "execute_result"
    }
   ],
   "source": [
    "lengths = []\n",
    "count = 0\n",
    "for e in tqdm(ents_uniq):\n",
    "    encoded = sp.encode(e)\n",
    "    l = len(encoded)\n",
    "    if l > 500:\n",
    "        print(e,l)\n",
    "        l = 20\n",
    "        count += 1\n",
    "    lengths.append(l)\n",
    "count"
   ]
  },
  {
   "cell_type": "code",
   "execution_count": 177,
   "id": "8055bc10",
   "metadata": {
    "scrolled": false
   },
   "outputs": [
    {
     "data": {
      "text/plain": [
       "Text(0.5, 0, 'Tokenized lengths')"
      ]
     },
     "execution_count": 177,
     "metadata": {},
     "output_type": "execute_result"
    },
    {
     "data": {
      "image/png": "[encoded data removed]",
      "text/plain": [
       "<Figure size 432x288 with 1 Axes>"
      ]
     },
     "metadata": {
      "needs_background": "light"
     },
     "output_type": "display_data"
    }
   ],
   "source": [
    "import matplotlib.pyplot as plt \n",
    "\n",
    "import numpy as np \n",
    "\n",
    "%matplotlib inline\n",
    "\n",
    "# x = np.random.normal(size = 1000) \n",
    "x = lengths\n",
    "plt.hist(x, bins=30) \n",
    "\n",
    "plt.ylabel('Num entities');\n",
    "plt.xlabel('Tokenized lengths')"
   ]
  },
  {
   "cell_type": "code",
   "execution_count": 190,
   "id": "afd66461",
   "metadata": {},
   "outputs": [
    {
     "name": "stderr",
     "output_type": "stream",
     "text": [
      "100%|██████████| 1068/1068 [00:00<00:00, 41292.34it/s]"
     ]
    },
    {
     "name": "stdout",
     "output_type": "stream",
     "text": [
      "astronomical objects discovered\n",
      "astronomical objects discovered reverse\n",
      "sewage treatment plant\n",
      "sewage treatment plant reverse\n",
      "infidelity perpetrator reverse\n",
      "substance abuse reverse\n",
      "lifetime batting statistics reverse\n",
      "sponsored by reverse\n",
      "substance abuse problems reverse\n",
      "appears in these fictional universes reverse\n",
      "jurisdiction of office reverse\n",
      "body this is a component of reverse\n",
      "politicians in this party reverse\n",
      "websites owned reverse\n",
      "tropical cyclone season reverse\n",
      "olympics hosted reverse\n",
      "types of places of worship reverse\n",
      "athletic performances reverse\n",
      "mode of transportation reverse\n",
      "appeared in tv episodes reverse\n",
      "episodes appeared in reverse\n"
     ]
    },
    {
     "name": "stderr",
     "output_type": "stream",
     "text": [
      "\n"
     ]
    },
    {
     "data": {
      "text/plain": [
       "21"
      ]
     },
     "execution_count": 190,
     "metadata": {},
     "output_type": "execute_result"
    }
   ],
   "source": [
    "lengths = []\n",
    "count = 0\n",
    "for e in tqdm(relations):\n",
    "    encoded = sp.encode(relation_map[e])\n",
    "    l = len(encoded)\n",
    "    if l > 10:\n",
    "        print(relation_map[e])\n",
    "        count +=1\n",
    "    lengths.append(l)\n",
    "count"
   ]
  },
  {
   "cell_type": "code",
   "execution_count": 186,
   "id": "b5462fd9",
   "metadata": {},
   "outputs": [
    {
     "data": {
      "text/plain": [
       "Text(0.5, 0, 'Tokenized lengths')"
      ]
     },
     "execution_count": 186,
     "metadata": {},
     "output_type": "execute_result"
    },
    {
     "data": {
      "image/png": "[encoded data removed]",
      "text/plain": [
       "<Figure size 432x288 with 1 Axes>"
      ]
     },
     "metadata": {
      "needs_background": "light"
     },
     "output_type": "display_data"
    }
   ],
   "source": [
    "import matplotlib.pyplot as plt \n",
    "\n",
    "import numpy as np \n",
    "\n",
    "%matplotlib inline\n",
    "\n",
    "# x = np.random.normal(size = 1000) \n",
    "x = lengths\n",
    "plt.hist(x, bins=30) \n",
    "\n",
    "plt.ylabel('Num entities');\n",
    "plt.xlabel('Tokenized lengths')"
   ]
  },
  {
   "cell_type": "code",
   "execution_count": 191,
   "id": "51a339bd",
   "metadata": {},
   "outputs": [
    {
     "data": {
      "text/plain": [
       "[167, 10, 96]"
      ]
     },
     "execution_count": 191,
     "metadata": {},
     "output_type": "execute_result"
    }
   ],
   "source": [
    "sp.encode('plays for')"
   ]
  },
  {
   "cell_type": "code",
   "execution_count": 104,
   "id": "be1d15cf",
   "metadata": {},
   "outputs": [
    {
     "data": {
      "text/plain": [
       "1880592"
      ]
     },
     "execution_count": 104,
     "metadata": {},
     "output_type": "execute_result"
    }
   ],
   "source": [
    "len(uniq_ent_map)"
   ]
  },
  {
   "cell_type": "code",
   "execution_count": 143,
   "id": "023dc021",
   "metadata": {},
   "outputs": [],
   "source": [
    "def replaceEntities(line, aliases_dict):\n",
    "    line = line.strip().split('\\t')\n",
    "    q = line[0]\n",
    "    # sometimes no answer\n",
    "    if len(line) > 1:\n",
    "        answers= line[1].split('|')\n",
    "    else:\n",
    "        answers = []    \n",
    "    lhs = q.split('[')[0]\n",
    "    rhs = q.split(']')[1]\n",
    "    head_id = q.split('[')[1].split(']')[0]\n",
    "    if head_id in aliases_dict:\n",
    "        head_text = aliases_dict[head_id]\n",
    "    else:\n",
    "        head_text = head_id\n",
    "        print(head_text + ' not found')\n",
    "    answers_text = []\n",
    "    for a in answers:\n",
    "        if a in aliases_dict:\n",
    "            answers_text.append(aliases_dict[a])\n",
    "        else:\n",
    "            answers_text.append(a)\n",
    "    answers_string = '|'.join(answers_text)\n",
    "    \n",
    "    out = '{lhs}[{head}]{rhs}\\t{ans}'.format(\n",
    "        lhs=lhs,\n",
    "        rhs=rhs,\n",
    "        head = head_text,\n",
    "        ans = answers_string\n",
    "    )\n",
    "    return out\n",
    "        \n",
    "def readLines(fname):\n",
    "    f = open(fname)\n",
    "    lines = []\n",
    "    for line in f:\n",
    "        lines.append(line.rstrip())\n",
    "    f.close()\n",
    "    return lines\n",
    "\n",
    "def writeLines(lines, fname):\n",
    "    f = open(fname, 'w')\n",
    "    for line in lines:\n",
    "        f.write(line + '\\n')\n",
    "    f.close()"
   ]
  },
  {
   "cell_type": "code",
   "execution_count": 137,
   "id": "f67a0b09",
   "metadata": {},
   "outputs": [],
   "source": [
    "# need to make qa data as well, since entity aliases need to be used\n",
    "# and not just entity ids as answers\n",
    "fname = '/scratche/home/apoorv/EmbedKGQA/data/QA_data/WebQuestionsSP/qa_test_webqsp_fixed.txt'\n",
    "questions = readLines(fname)\n"
   ]
  },
  {
   "cell_type": "code",
   "execution_count": 138,
   "id": "53a73429",
   "metadata": {},
   "outputs": [
    {
     "data": {
      "text/plain": [
       "'what did james k polk do before he was president [m.042f1]\\tm.02_bcst|m.04x_n9q|m.0cgqx'"
      ]
     },
     "execution_count": 138,
     "metadata": {},
     "output_type": "execute_result"
    }
   ],
   "source": [
    "questions[1]"
   ]
  },
  {
   "cell_type": "code",
   "execution_count": 144,
   "id": "62983ae2",
   "metadata": {},
   "outputs": [
    {
     "name": "stdout",
     "output_type": "stream",
     "text": [
      "m.02vkmj9 not found\n"
     ]
    }
   ],
   "source": [
    "lines_with_entities = [replaceEntities(q, uniq_ent_map) for q in questions]"
   ]
  },
  {
   "cell_type": "code",
   "execution_count": 145,
   "id": "dd205992",
   "metadata": {},
   "outputs": [
    {
     "data": {
      "text/plain": [
       "1639"
      ]
     },
     "execution_count": 145,
     "metadata": {},
     "output_type": "execute_result"
    }
   ],
   "source": [
    "len(lines_with_entities)"
   ]
  },
  {
   "cell_type": "code",
   "execution_count": 146,
   "id": "1372b3d0",
   "metadata": {},
   "outputs": [
    {
     "data": {
      "text/plain": [
       "['what does jamaican people speak [Jamaica 1]\\tJamaican English|Jamaican Creole English Langua|Jamaican English',\n",
       " 'what did james k polk do before he was president [James K. Polk]\\tUnited States Representative|Governor of Tennessee|Speaker of the United States H',\n",
       " 'who plays ken barlow in coronation street [Coronation Street]\\tWilliam Roache',\n",
       " 'where is jamarcus russell from [JaMarcus Russell]\\tMobile 0',\n",
       " 'where was george washington carver from [George Washington Carver]\\tDiamond 8',\n",
       " 'what else did ben franklin invent [Benjamin Franklin]\\tLightning rod|Bifocals|Glass harmonica|Franklin stove',\n",
       " 'who was richard nixon married to [Richard Nixon]\\tPat Nixon',\n",
       " 'who is governor of ohio 2011 [Ohio 2]\\tJohn Kasich|Return J. Meigs, Jr.|Ted Strickland',\n",
       " 'who was vice president after kennedy died [John F. Kennedy 0]\\tLyndon B. Johnson 1',\n",
       " 'where is the fukushima daiichi nuclear plant located [Fukushima Daiichi Nuclear Powe]\\tJapan 1|Okuma']"
      ]
     },
     "execution_count": 146,
     "metadata": {},
     "output_type": "execute_result"
    }
   ],
   "source": [
    "lines_with_entities[:10]"
   ]
  },
  {
   "cell_type": "code",
   "execution_count": 148,
   "id": "dc01e9dd",
   "metadata": {},
   "outputs": [],
   "source": [
    "fname = 'data/fbwq_half/qa_valid_1hop.txt'\n",
    "writeLines(lines_with_entities, fname)"
   ]
  },
  {
   "cell_type": "code",
   "execution_count": null,
   "id": "a3bed453",
   "metadata": {},
   "outputs": [],
   "source": []
  }
 ],
 "metadata": {
  "kernelspec": {
   "display_name": "Python 3 (ipykernel)",
   "language": "python",
   "name": "python3"
  },
  "language_info": {
   "codemirror_mode": {
    "name": "ipython",
    "version": 3
   },
   "file_extension": ".py",
   "mimetype": "text/x-python",
   "name": "python",
   "nbconvert_exporter": "python",
   "pygments_lexer": "ipython3",
   "version": "3.8.11"
  }
 },
 "nbformat": 4,
 "nbformat_minor": 5
}

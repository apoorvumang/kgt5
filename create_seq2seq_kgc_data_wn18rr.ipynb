{
 "cells": [
  {
   "cell_type": "code",
   "execution_count": 1,
   "id": "6294b12f",
   "metadata": {},
   "outputs": [],
   "source": [
    "import os\n",
    "import pickle\n",
    "from tqdm import tqdm\n",
    "import sentencepiece as spm"
   ]
  },
  {
   "cell_type": "code",
   "execution_count": 3,
   "id": "66554ebd",
   "metadata": {},
   "outputs": [
    {
     "name": "stdout",
     "output_type": "stream",
     "text": [
      "dataset.yaml\t    test.txt\t\t     valid.del\r\n",
      "entity_ids.del\t    test_without_unseen.del  valid.txt\r\n",
      "entity_strings.del  train.del\t\t     valid_without_unseen.del\r\n",
      "relation_ids.del    train_sample.del\r\n",
      "test.del\t    train.txt\r\n"
     ]
    }
   ],
   "source": [
    "source_folder = '/scratche/home/apoorv/repos/probe_kge/data/wnrr'\n",
    "! ls {source_folder}"
   ]
  },
  {
   "cell_type": "code",
   "execution_count": 4,
   "id": "59e18046",
   "metadata": {},
   "outputs": [],
   "source": [
    "def readTriples(fname):\n",
    "    f = open(fname)\n",
    "    triples = []\n",
    "    for line in f:\n",
    "        if line[-1] == '\\n':\n",
    "            line = line[:-1]\n",
    "        triples.append(line.split('\\t'))\n",
    "    f.close()\n",
    "    return triples"
   ]
  },
  {
   "cell_type": "code",
   "execution_count": 5,
   "id": "aa327398",
   "metadata": {},
   "outputs": [],
   "source": [
    "# load half data\n",
    "data = {}\n",
    "splits = ['train', 'test', 'valid']\n",
    "for split in splits:\n",
    "    fname = os.path.join(source_folder, split + '.txt')\n",
    "    data[split] = readTriples(fname)"
   ]
  },
  {
   "cell_type": "code",
   "execution_count": 6,
   "id": "da7e6850",
   "metadata": {},
   "outputs": [
    {
     "data": {
      "text/plain": [
       "['09429387', '_hypernym', '09385911']"
      ]
     },
     "execution_count": 6,
     "metadata": {},
     "output_type": "execute_result"
    }
   ],
   "source": [
    "data['train'][5000]"
   ]
  },
  {
   "cell_type": "code",
   "execution_count": 7,
   "id": "43313580",
   "metadata": {},
   "outputs": [
    {
     "data": {
      "text/plain": [
       "86835"
      ]
     },
     "execution_count": 7,
     "metadata": {},
     "output_type": "execute_result"
    }
   ],
   "source": [
    "len(data['train'])"
   ]
  },
  {
   "cell_type": "code",
   "execution_count": 11,
   "id": "4de2b491",
   "metadata": {},
   "outputs": [
    {
     "data": {
      "text/plain": [
       "31881"
      ]
     },
     "execution_count": 11,
     "metadata": {},
     "output_type": "execute_result"
    }
   ],
   "source": [
    "uniq_tails = set()\n",
    "for t in data['train']:\n",
    "    uniq_tails.add(t[2])\n",
    "len(uniq_tails)"
   ]
  },
  {
   "cell_type": "code",
   "execution_count": 49,
   "id": "641113ab",
   "metadata": {},
   "outputs": [],
   "source": [
    "def getPOS(name):\n",
    "    return name[2:].split('_')[-2]\n",
    "\n",
    "def processDefinition(definition):\n",
    "    if '\\\"' in definition and ':' in definition:\n",
    "        out = definition.split(':')[0]\n",
    "    if ';' in definition:\n",
    "        out = definition.split(';')[0]\n",
    "    else:\n",
    "        out = definition\n",
    "    return out\n",
    "\n",
    "def getAlias(name, definition):\n",
    "    pos = getPOS(name)\n",
    "    name = ' '.join(name[2:].split('_')[:-2])\n",
    "    definition = processDefinition(definition)\n",
    "    out = name + ', ' + pos + ' -- ' + definition\n",
    "    return out"
   ]
  },
  {
   "cell_type": "code",
   "execution_count": 56,
   "id": "e3b6f473",
   "metadata": {},
   "outputs": [
    {
     "name": "stdout",
     "output_type": "stream",
     "text": [
      "['02154312', '__spy_VB_1', 'catch sight of'] spy, VB -- catch sight of\n",
      "['02073545', '__throw_off_VB_2', 'get rid of; \"I couldn\\'t shake the car that was following me\"'] throw off, VB -- get rid of\n",
      "['01397088', '__whop_VB_2', 'hit hard'] whop, VB -- hit hard\n",
      "['00090708', '__mutilate_VB_3', 'destroy or injure severely; \"mutilated bodies\"'] mutilate, VB -- destroy or injure severely\n",
      "['01872772', '__spiny_anteater_NN_1', 'a burrowing monotreme mammal covered with spines and having a long snout and claws for hunting ants and termites; native to New Guinea'] spiny anteater, NN -- a burrowing monotreme mammal covered with spines and having a long snout and claws for hunting ants and termites\n"
     ]
    }
   ],
   "source": [
    "dest_folder = '/scratche/home/apoorv/transformer-kgc/data/wnrr'\n",
    "aliases_dict = {}\n",
    "# fname = os.path.join(dest_folder, 'wn-entity2text-new.txt')\n",
    "fname = os.path.join(dest_folder, 'wordnet-mlj12-definitions.txt')\n",
    "ent_names = []\n",
    "definitions = []\n",
    "aliases_set = set()\n",
    "f = open(fname)\n",
    "for line in f:\n",
    "    line = line.rstrip().split('\\t')\n",
    "    ent_names.append(line[1])\n",
    "    definitions.append(line[2])\n",
    "    alias = getAlias(line[1], line[2])\n",
    "    if alias in aliases_set:\n",
    "        print(line, alias)\n",
    "        alias = alias + ' 2'\n",
    "    else:\n",
    "        aliases_set.add(alias)\n",
    "    aliases_dict[line[0]] = alias\n",
    "f.close()"
   ]
  },
  {
   "cell_type": "code",
   "execution_count": 57,
   "id": "03f674ae",
   "metadata": {},
   "outputs": [
    {
     "data": {
      "text/plain": [
       "(40943, 40943)"
      ]
     },
     "execution_count": 57,
     "metadata": {},
     "output_type": "execute_result"
    }
   ],
   "source": [
    "len(aliases_dict), len(set(aliases_dict.values()))"
   ]
  },
  {
   "cell_type": "code",
   "execution_count": 58,
   "id": "6e6189bf",
   "metadata": {},
   "outputs": [
    {
     "name": "stdout",
     "output_type": "stream",
     "text": [
      "stool, NN -- solid excretory product evacuated from the bowels\n",
      "chieftainship, NN -- the position of chieftain\n",
      "saxony, NN -- an area in Germany around the upper Elbe river\n",
      "ondatra zibethica, NN -- beaver-like aquatic rodent of North America with dark glossy brown fur\n",
      "founder, VB -- sink below the surface\n",
      "rose campion, NN -- an old cottage garden plant of southeastern Europe widely cultivated for its attractive white woolly foliage and showy crimson flowers\n",
      "enjoyment, NN -- the pleasure felt when having a good time\n",
      "german shepherd dog, NN -- breed of large shepherd dogs used in police work and as a guide for the blind\n",
      "quilt, VB -- stitch or sew together\n",
      "wake island, NN -- an island in the western Pacific between Guam and Hawaii\n",
      "raise, VB -- move upwards\n",
      "admiralty, NN -- the department in charge of the navy (as in Great Britain)\n",
      "opener, NN -- a hand tool used for opening sealed containers (bottles or cans)\n",
      "watchman, NN -- a guard who keeps watch\n",
      "reducing, NN -- loss of excess weight (as by dieting)\n",
      "twaddle, VB -- speak (about unimportant matters) rapidly and incessantly\n",
      "yodel, NN -- a songlike cry in which the voice fluctuates rapidly between the normal voice and falsetto\n",
      "apostolic delegate, NN -- (Roman Catholic Church) a representative of the Holy See in a country that has no formal diplomatic relations with it\n",
      "exhilaration, NN -- the feeling of lively and cheerful joy\n",
      "latticework, NN -- framework consisting of an ornamental design made of strips of wood or metal\n",
      "lifer, NN -- a prisoner serving a term of life imprisonment\n",
      "mandragora, NN -- a genus of stemless herbs of the family Solanaceae\n",
      "bit, NN -- a unit of measurement of information (from binary + digit)\n",
      "dispraise, NN -- the act of speaking contemptuously of\n",
      "genus bletia, NN -- genus of tropical American terrestrial orchids with large purple or pink flowers\n",
      "silicon valley, NN -- a region in California to the south of San Francisco that is noted for its concentration of high-technology industries\n",
      "rush, VB -- attack suddenly\n",
      "placodermi, NN -- extinct group of bony-plated fishes with primitive jaws\n",
      "idolization, NN -- the act of admiring strongly\n",
      "rhincodontidae, NN -- small-toothed sharks comprising only one species\n",
      "taurotragus, NN -- African antelopes: elands\n",
      "saddam's martyrs, NN -- a feared paramilitary unit formed in 1995 by young soldiers to serve Saddam Hussein against domestic opponents\n",
      "otariidae, NN -- eared seals: sea lions and fur seals\n",
      "preachification, NN -- moralization delivered tediously in a preachy manner\n",
      "vena peroneus, NN -- accompany the peroneal arteries\n",
      "webb, NN -- English sociologist and economist and a central member of the Fabian Society (1859-1947)\n",
      "sledgehammer, NN -- a heavy long-handled hammer used to drive stakes or wedges\n",
      "shipyard, NN -- a workplace where ships are built or repaired\n",
      "adequateness, NN -- the quality of being able to meet a need satisfactorily: \"he questioned the adequacy of the usual sentimental interpretation of the Golden Rule\"\n",
      "third estate, NN -- the common people\n",
      "redoubt, NN -- (military) a temporary or supplementary fortification\n",
      "freewheeler, NN -- someone acting freely or even irresponsibly\n",
      "union representative, NN -- a representative for a labor union\n",
      "sundacarpus, NN -- one species\n",
      "baffle board, NN -- a flat plate that controls or directs the flow of fluid or energy\n",
      "squat, VB -- sit on one's heels\n",
      "jacaranda, NN -- an important Brazilian timber tree yielding a heavy hard dark-colored wood streaked with black\n",
      "genus cheiranthus, NN -- Old World perennial plants grown for their showy flowers\n",
      "supposition, NN -- the cognitive process of supposing\n",
      "st. lucia, NN -- a country on the island of Saint Lucia\n",
      "wind, VB -- catch the scent of\n",
      "pyrrhula, NN -- bullfinches\n",
      "slezsko, NN -- a region of central Europe rich in deposits of coal and iron ore\n",
      "ramble, NN -- an aimless amble on a winding course\n",
      "lobularity, NN -- the property of having lobules\n",
      "family bacteroidaceae, NN -- family of bacteria living usually in the alimentary canal or on mucous surfaces of warm-blooded animals\n",
      "leaf beetle, NN -- brightly colored beetle that feeds on plant leaves\n",
      "school year, NN -- the period of time each year when the school is open and people are studying\n",
      "papal nuncio, NN -- (Roman Catholic Church) a diplomatic representative of the Pope having ambassadorial status\n",
      "talwin, NN -- analgesic drug (trade name Talwin) that is less addictive than morphine\n",
      "allometry, NN -- the study of the relative growth of a part of an organism in relation to the growth of the whole\n",
      "uterine cervix, NN -- necklike opening to the uterus\n",
      "midwestern united states, NN -- the north central region of the United States (sometimes called the heartland or the breadbasket of America)\n",
      "run up, VB -- raise\n",
      "obadiah, NN -- an Old Testament book telling Obadiah's prophecies\n",
      "hemophilia a, NN -- hemophilia caused by a congenital deficiency of factor VIII\n",
      "paridae, NN -- titmice and chickadees\n",
      "family crangonidae, NN -- shrimps\n",
      "excite, VB -- produce a magnetic field in\n",
      "surgical contraception, NN -- contraception by surgical sterilization\n",
      "the alps, NN -- a large mountain system in south-central Europe\n",
      "privatization, NN -- changing something from state to private ownership or control\n",
      "spade, VB -- dig (up) with a spade\n",
      "propellent, NN -- any substance that propels\n",
      "podicipitiformes, NN -- grebes\n",
      "odocoileus hemionus columbianus, NN -- mule deer of western Rocky Mountains\n",
      "noise, NN -- a loud outcry of protest or complaint\n",
      "fate, VB -- decree or designate beforehand\n",
      "no-account, NN -- an idle worthless person\n",
      "staff officer, NN -- a commissioned officer assigned to a military commander's staff\n",
      "credible, JJ -- capable of being believed\n",
      "trench, NN -- a ditch dug as a fortification having a parapet of the excavated earth\n",
      "psyche, NN -- that which is responsible for one's thoughts and feelings\n",
      "mutation, NN -- (genetics) any event that changes genetic structure\n",
      "rabat, NN -- the capital of Morocco\n",
      "strongbox, NN -- a strongly made box for holding money or valuables\n",
      "robert nesta marley, NN -- Jamaican singer who popularized reggae (1945-1981)\n",
      "sudan, NN -- a republic in northeastern Africa on the Red Sea\n",
      "symphalangus, NN -- used in some classifications for the siamangs   pull (a person) apart with four horses tied to his extremities, so as to execute him\n",
      "psephurus, NN -- a genus of Polyodontidae\n",
      "victor hugo, NN -- French poet and novelist and dramatist\n",
      "mycosis, NN -- an inflammatory condition caused by a fungus\n",
      "maltster, NN -- a maker of malt\n",
      "grownup, NN -- a fully developed person from maturity onward\n",
      "manchuria, NN -- a region in northeastern China\n",
      "bush pea, NN -- any of various plants of the genus Thermopsis having trifoliate leaves and yellow or purple racemose flowers\n",
      "flame nettle, NN -- any of various Old World tropical plants of the genus Coleus having multicolored decorative leaves and spikes of blue flowers\n",
      "ticker, NN -- the hollow muscular organ located behind the sternum and between the lungs\n",
      "sealer, NN -- a kind of sealing material that is used to form a hard coating on a porous surface (as a coat of paint or varnish used to size a surface)\n",
      "rhexia, NN -- deer grass\n"
     ]
    }
   ],
   "source": [
    "count = 0\n",
    "for k, v in aliases_dict.items():\n",
    "    print(v)\n",
    "    count += 1\n",
    "    if count == 100:\n",
    "        break"
   ]
  },
  {
   "cell_type": "code",
   "execution_count": 76,
   "id": "e62466c4",
   "metadata": {},
   "outputs": [],
   "source": [
    "def triple2text(t):\n",
    "    global aliases_dict\n",
    "    rel = ' '.join(t[1][1:].split('_'))\n",
    "    out = [aliases_dict[t[0]], rel, aliases_dict[t[2]]]\n",
    "    return out"
   ]
  },
  {
   "cell_type": "code",
   "execution_count": 77,
   "id": "c13734be",
   "metadata": {},
   "outputs": [
    {
     "name": "stdout",
     "output_type": "stream",
     "text": [
      "['genus equisetum, NN -- horsetails', 'hypernym', 'fern genus, NN -- genera of ferns and fern allies']\n",
      "['write, VB -- produce a literary work', 'also see', 'write up, VB -- put into writing']\n",
      "['queen regnant, NN -- a female sovereign ruler', 'hypernym', 'female aristocrat, NN -- a woman who is an aristocrat']\n",
      "['working dog, NN -- any of several breeds of usually large powerful dogs bred to work as draft animals and guard and guide dogs', 'hypernym', 'domestic dog, NN -- a member of the genus Canis (probably descended from the common wolf) that has been domesticated by man since prehistoric times']\n",
      "['charge, NN -- request for payment of a debt', 'hypernym', 'request, NN -- the verbal act of requesting']\n",
      "['primulaceae, NN -- a dicotyledonous family of the order Primulales with a regular flower', 'member meronym', 'glaux, NN -- sea milkwort']\n",
      "['proteaceae, NN -- large family of Australian and South African shrubs and trees with leathery leaves and clustered mostly tetramerous flowers', 'member meronym', \"green dinosaur, NN -- a living fossil or so-called `green dinosaur'\"]\n",
      "['lodge, VB -- provide housing for', 'derivationally related form', 'accommodation, NN -- living quarters provided for public convenience']\n",
      "['surmounter, NN -- someone who overcomes and establishes ascendancy and control by force or persuasion', 'hypernym', 'restrainer, NN -- a person who directs and restrains']\n",
      "['piciformes, NN -- woodpeckers', 'hypernym', 'animal order, NN -- the order of animals']\n"
     ]
    }
   ],
   "source": [
    "for t in data['train'][10:20]:\n",
    "    print(triple2text(t))"
   ]
  },
  {
   "cell_type": "code",
   "execution_count": 63,
   "id": "9c5a6612",
   "metadata": {},
   "outputs": [],
   "source": [
    "from transformers import T5TokenizerFast\n",
    "tokenizer = T5TokenizerFast.from_pretrained('t5-small')"
   ]
  },
  {
   "cell_type": "code",
   "execution_count": 72,
   "id": "a016af3e",
   "metadata": {},
   "outputs": [
    {
     "data": {
      "application/vnd.jupyter.widget-view+json": {
       "model_id": "11500d4e8426400a9a217b1e6a1289da",
       "version_major": 2,
       "version_minor": 0
      },
      "text/plain": [
       "HBox(children=(FloatProgress(value=0.0, max=40943.0), HTML(value='')))"
      ]
     },
     "metadata": {},
     "output_type": "display_data"
    },
    {
     "name": "stdout",
     "output_type": "stream",
     "text": [
      "\n"
     ]
    }
   ],
   "source": [
    "from tqdm.notebook import tqdm\n",
    "lengths = []\n",
    "for k, v in tqdm(aliases_dict.items()):\n",
    "    x = tokenizer(v)\n",
    "    lengths.append(len(x['input_ids']))"
   ]
  },
  {
   "cell_type": "code",
   "execution_count": 74,
   "id": "8dd4964a",
   "metadata": {},
   "outputs": [
    {
     "data": {
      "text/plain": [
       "Text(0.5, 0, 'Tokenized lengths')"
      ]
     },
     "execution_count": 74,
     "metadata": {},
     "output_type": "execute_result"
    },
    {
     "data": {
      "image/png": "[encoded data removed]",
      "text/plain": [
       "<Figure size 432x288 with 1 Axes>"
      ]
     },
     "metadata": {
      "needs_background": "light"
     },
     "output_type": "display_data"
    }
   ],
   "source": [
    "import matplotlib.pyplot as plt \n",
    "\n",
    "import numpy as np \n",
    "\n",
    "%matplotlib inline\n",
    "\n",
    "# x = np.random.normal(size = 1000) \n",
    "x = lengths\n",
    "plt.hist(x, bins=30) \n",
    "\n",
    "plt.ylabel('Num entities');\n",
    "plt.xlabel('Tokenized lengths')"
   ]
  },
  {
   "cell_type": "code",
   "execution_count": 75,
   "id": "cfc5c4f2",
   "metadata": {},
   "outputs": [
    {
     "data": {
      "text/plain": [
       "40943"
      ]
     },
     "execution_count": 75,
     "metadata": {},
     "output_type": "execute_result"
    }
   ],
   "source": [
    "len(aliases_dict)"
   ]
  },
  {
   "cell_type": "code",
   "execution_count": 78,
   "id": "9df0713c",
   "metadata": {},
   "outputs": [],
   "source": [
    "def mapTriple(t, aliases_dict):\n",
    "    out = triple2text(t)\n",
    "    return out"
   ]
  },
  {
   "cell_type": "code",
   "execution_count": 79,
   "id": "1e84e918",
   "metadata": {},
   "outputs": [
    {
     "name": "stdout",
     "output_type": "stream",
     "text": [
      "['land reform, NN -- a redistribution of agricultural land (especially by government action)', 'hypernym', 'reform, NN -- a change for the better as a result of correcting abuses']\n",
      "['cover, VB -- provide with a covering or cause to be covered', 'derivationally related form', 'covering, NN -- an artifact that covers something else (usually to protect or shelter or conceal it)']\n",
      "['phytology, NN -- the branch of biology that studies plants', 'derivationally related form', 'botanize, VB -- collect and study plants']\n",
      "['kamet, NN -- a mountain in the Himalayas in northern India (25,450 feet high)', 'instance hypernym', 'mountain peak, NN -- the summit of a mountain']\n",
      "['question, NN -- an instance of questioning', 'derivationally related form', 'inquire, VB -- inquire about']\n",
      "['class arachnida, NN -- a large class of arthropods including spiders and ticks and scorpions and daddy longlegs', 'derivationally related form', 'spidery, JJ -- relating to or resembling a member of the class Arachnida']\n",
      "['run up, VB -- raise', 'hypernym', 'raise, VB -- raise from a lower to a higher position']\n",
      "[\"empathy, NN -- understanding and entering into another's feelings\", 'hypernym', 'sympathy, NN -- sharing the feelings of others (especially feelings of sorrow or anguish)']\n",
      "['pullout, NN -- to break off a military action with an enemy', 'hypernym', \"retreat, NN -- (military) withdrawal of troops to a more favorable position to escape the enemy's superior forces or after a defeat\"]\n",
      "['variation, NN -- (biology) an organism that has characteristics resulting from chromosomal alteration', 'derivationally related form', 'vary, VB -- be at variance with']\n",
      "['genus equisetum, NN -- horsetails', 'hypernym', 'fern genus, NN -- genera of ferns and fern allies']\n",
      "['write, VB -- produce a literary work', 'also see', 'write up, VB -- put into writing']\n",
      "['queen regnant, NN -- a female sovereign ruler', 'hypernym', 'female aristocrat, NN -- a woman who is an aristocrat']\n",
      "['working dog, NN -- any of several breeds of usually large powerful dogs bred to work as draft animals and guard and guide dogs', 'hypernym', 'domestic dog, NN -- a member of the genus Canis (probably descended from the common wolf) that has been domesticated by man since prehistoric times']\n",
      "['charge, NN -- request for payment of a debt', 'hypernym', 'request, NN -- the verbal act of requesting']\n",
      "['primulaceae, NN -- a dicotyledonous family of the order Primulales with a regular flower', 'member meronym', 'glaux, NN -- sea milkwort']\n",
      "['proteaceae, NN -- large family of Australian and South African shrubs and trees with leathery leaves and clustered mostly tetramerous flowers', 'member meronym', \"green dinosaur, NN -- a living fossil or so-called `green dinosaur'\"]\n",
      "['lodge, VB -- provide housing for', 'derivationally related form', 'accommodation, NN -- living quarters provided for public convenience']\n",
      "['surmounter, NN -- someone who overcomes and establishes ascendancy and control by force or persuasion', 'hypernym', 'restrainer, NN -- a person who directs and restrains']\n",
      "['piciformes, NN -- woodpeckers', 'hypernym', 'animal order, NN -- the order of animals']\n",
      "['chip, NN -- a mark left after a small piece has been chopped or broken off of something', 'derivationally related form', 'nick, VB -- cut a nick into']\n",
      "['traduce, VB -- speak unfavorably about', 'derivationally related form', \"traducement, NN -- a false accusation of an offense or a malicious misrepresentation of someone's words or actions\"]\n",
      "['propagator, NN -- someone who spreads the news', 'derivationally related form', 'spread, VB -- cause to become widely known']\n",
      "['lacing, NN -- a cord that is drawn through eyelets or around hooks in order to draw together two edges (as of a shoe or garment)', 'derivationally related form', 'lace up, VB -- draw through eyes or holes']\n",
      "['justice department, NN -- the United States federal department responsible for enforcing federal laws (including the enforcement of all civil rights legislation)', 'hypernym', 'executive department, NN -- a federal department in the executive branch of the government of the United States']\n",
      "['needlewood, NN -- large bushy shrub with pungent pointed leaves and creamy white flowers', 'hypernym', 'shrub, NN -- a low woody perennial plant usually having several major stems']\n",
      "['expand, VB -- become larger in size or volume or quantity', 'hypernym', 'grow, VB -- become larger, greater, or bigger']\n",
      "['sieve, NN -- a strainer for separating lumps from powdered material or grading particles', 'derivationally related form', 'strain, VB -- separate by passing through a sieve or other straining device to separate out coarser elements']\n",
      "['scandal, NN -- a disgraceful event', 'derivationally related form', 'shock, VB -- strike with disgust or revulsion']\n",
      "['trogium pulsatorium, NN -- a variety of booklouse', 'hypernym', 'liposcelis divinatorius, NN -- minute wingless psocopterous insects injurious to books and papers']\n",
      "['taiwan, NN -- a government on the island of Taiwan established in 1949 by Chiang Kai-shek after the conquest of mainland China by the Communists led by Mao Zedong', 'member meronym', 'taiwanese, NN -- a native or inhabitant of Taiwan']\n",
      "['stone facing, NN -- a facing (usually masonry) that supports an embankment', 'derivationally related form', 'revet, VB -- construct a revetment']\n",
      "['striker, NN -- the part of a mechanical device that strikes something', 'derivationally related form', 'strike, VB -- deliver a sharp blow, as with the hand, fist, or weapon']\n",
      "['hitch, NN -- a connection between a vehicle and the load that it pulls', 'hypernym', 'connexion, NN -- an instrumentality that connects']\n",
      "['pious, JJ -- having or showing or expressing reverence for a deity', 'derivationally related form', 'piousness, NN -- righteousness by virtue of being pious']\n",
      "['sisyrinchium, NN -- chiefly North American grasslike herbs', 'hypernym', 'liliid monocot genus, NN -- genus of monocotyledonous plants comprising mostly herbs having usually petaloid sepals and petals and compound pistils']\n",
      "['valency, NN -- (biology) a relative capacity to unite or react or interact as with antigens or a biological substrate', 'synset domain topic of', 'biology, NN -- the science that studies living organisms']\n",
      "['panegyrist, NN -- an orator who delivers eulogies or panegyrics', 'derivationally related form', 'pean, NN -- a formal expression of praise']\n",
      "['genus carya, NN -- genus of large deciduous nut-bearing trees', 'member meronym', 'pecan tree, NN -- tree of southern United States and Mexico cultivated for its nuts']\n",
      "['army officer, NN -- an officer in the armed forces', 'hypernym', 'officer, NN -- any person in the armed services who holds a position of authority or command']\n",
      "['genus agathis, NN -- kauri pine', 'hypernym', 'gymnosperm genus, NN -- a genus of gymnosperms']\n",
      "['ceratonia siliqua, NN -- evergreen Mediterranean tree with edible pods', 'has part', 'locust pod, NN -- long pod containing small beans and sweetish edible pulp']\n",
      "['prickle-weed, NN -- perennial herb of North American prairies having dense heads of small white flowers', 'hypernym', 'herbaceous plant, NN -- a plant lacking a permanent woody stem']\n",
      "['manufacture, VB -- make up something artificial or untrue', 'hypernym', 'think up, VB -- devise or invent']\n",
      "['abstract, VB -- consider a concept without thinking of a specific example', 'hypernym', 'view, VB -- deem to be']\n",
      "['tank, VB -- store in a tank by causing (something) to flow into it', 'derivationally related form', 'tank, NN -- a large (usually metallic) vessel for holding gases or liquids']\n",
      "['run out, VB -- exhaust the supply of', 'hypernym', 'wipe out, VB -- use up (resources or materials)']\n",
      "['neuter, NN -- a gender that refers chiefly (but not exclusively) to inanimate objects (neither masculine nor feminine)', 'derivationally related form', 'spay, VB -- remove the ovaries of']\n",
      "['ethicist, NN -- a philosopher who specializes in ethics', 'derivationally related form', 'moral philosophy, NN -- the philosophical study of moral values and rules']\n",
      "['acetylation, NN -- the process of introducing an acetyl group into a compound', 'derivationally related form', 'acetylize, VB -- receive substitution of an acetyl group']\n",
      "['posture, VB -- behave affectedly or unnaturally in order to impress others', 'hypernym', 'deport, VB -- behave in a certain manner']\n",
      "['preparation, NN -- preparatory school work done outside school (especially at home)', 'derivationally related form', 'train, VB -- undergo training or instruction in preparation for a particular role, function, or profession']\n",
      "[\"ethnic slur, NN -- a slur on someone's race or language\", 'member of domain usage', 'wop, NN -- (ethnic slur) offensive term for a person of Italian descent']\n",
      "['genus arrhenatherum, NN -- oat grass', 'hypernym', 'plant genus, NN -- a genus of plants']\n",
      "['pick at, VB -- express a negative opinion of', 'derivationally related form', 'knocker, NN -- one who disparages or belittles the worth of something']\n",
      "['fluttering, NN -- the motion made by flapping up and down', 'derivationally related form', 'wave, VB -- move in a wavy pattern or with a rising and falling motion']\n",
      "['europe, NN -- the 2nd smallest continent (actually a vast peninsula of Eurasia)', 'has part', 'republic of estonia, NN -- a republic in northeastern Europe on the Baltic Sea']\n",
      "['outfit, NN -- gear consisting of a set of articles or tools for a specified purpose', 'derivationally related form', 'outfit, VB -- provide with (something) usually for a specific purpose']\n",
      "['intensify, VB -- become more intense', 'derivationally related form', 'intensification, NN -- action that makes something stronger or more extreme']\n",
      "['papaya, NN -- large oval melon-like tropical fruit with yellowish flesh', 'hypernym', 'edible fruit, NN -- edible reproductive body of a seed plant especially one having sweet flesh']\n",
      "['casablanca, NN -- a port on the Atlantic and the largest city of Morocco', 'instance hypernym', 'urban center, NN -- a large and densely populated urban area']\n",
      "['refer, VB -- make reference to', 'derivationally related form', 'name, NN -- a language unit by which a person or thing is known']\n",
      "['constitutionalist, NN -- an advocate of constitutional government', 'hypernym', 'proponent, NN -- a person who pleads for a cause or propounds an idea']\n",
      "['ochroma lagopus, NN -- forest tree of lowland Central America having a strong very light wood', 'hypernym', 'flowering tree, NN -- any tree having seeds and ovules contained in the ovary']\n",
      "['adagio, NN -- (music) a composition played in adagio tempo (slowly and gracefully)', 'synset domain topic of', 'music, NN -- an artistic form of auditory communication incorporating instrumental or vocal tones in a structured and continuous manner']\n",
      "['average, NN -- (sports) the ratio of successful performances to opportunities', 'hypernym', 'ratio, NN -- the relative magnitudes of two quantities (usually expressed as a quotient)']\n",
      "['french republic, NN -- a republic in western Europe', 'member of domain region', 'sextillion, NN -- the number that is represented as a one followed by 21 zeros']\n",
      "['make full, VB -- make full, also in a metaphorical sense', 'also see', 'shade, VB -- represent the effect of shade or shadow on']\n",
      "['folding chair, NN -- a chair that can be folded flat for storage', 'has part', 'stave, NN -- a crosspiece between the legs of a chair']\n",
      "['kilolitre, NN -- a metric unit of volume or capacity equal to 1000 liters', 'hypernym', 'metric capacity unit, NN -- a capacity unit defined in metric terms']\n",
      "[\"spouse, NN -- a person's partner in marriage\", 'derivationally related form', 'pair, VB -- engage in sexual intercourse']\n",
      "['weight, VB -- present with a bias', 'derivationally related form', 'slant, NN -- a biased way of looking at or presenting something']\n",
      "['tactician, NN -- a person who is skilled at planning tactics', 'derivationally related form', 'tactics, NN -- the branch of military science dealing with detailed maneuvers to achieve objectives set by strategy']\n",
      "['announcer, NN -- reads news, commercials on radio or television', 'hypernym', 'broadcaster, NN -- someone who broadcasts on radio or television']\n",
      "['abator, NN -- a person who abates a nuisance', 'derivationally related form', 'slake, VB -- make less active or intense']\n",
      "['ontology, NN -- (computer science) a rigorous and exhaustive organization of some knowledge domain that is usually hierarchical and contains all the relevant entities and their relations', 'hypernym', 'system, NN -- an organized structure for arranging or classifying']\n",
      "['water heater, NN -- a heater and storage tank to supply heated water', 'hypernym', 'tank, NN -- a large (usually metallic) vessel for holding gases or liquids']\n",
      "['snip off, VB -- sever or remove by pinching or snipping', 'derivationally related form', 'clipper, NN -- scissors for cutting hair or finger nails (often used in the plural)']\n",
      "['cupper, NN -- a cup of tea', 'hypernym', 'tea, NN -- a beverage made by steeping tea leaves in water']\n",
      "['phylogeny, NN -- (biology) the sequence of events involved in the evolutionary development of a species or taxonomic group of organisms', 'derivationally related form', 'evolve, VB -- gain through experience']\n",
      "['prairie trefoil, NN -- North American annual with red or rose-colored flowers', 'hypernym', 'suffrutex, NN -- low-growing woody shrub or perennial with woody base']\n",
      "['aching, NN -- a dull persistent (usually moderately intense) pain', 'derivationally related form', 'suffer, VB -- feel physical pain']\n",
      "['trust, VB -- confer a trust upon', 'derivationally related form', 'trust, NN -- a trustful relationship']\n",
      "['resumption, NN -- beginning again', 'derivationally related form', 'recommence, VB -- begin again']\n",
      "['curb, NN -- the act of restraining power or action or limiting excess', 'hypernym', 'restraint, NN -- the act of controlling by restraining someone or something']\n",
      "['appeal, VB -- challenge (a decision)', 'derivationally related form', \"appeal, NN -- (law) a legal proceeding in which the appellant resorts to a higher court for the purpose of obtaining a review of a lower court decision and a reversal of the lower court's judgment or the granting of a new trial\"]\n",
      "['navy yard, NN -- a military shipyard', 'synset domain topic of', 'war machine, NN -- the military forces of a nation']\n",
      "['receiving system, NN -- set that receives radio or tv signals', 'derivationally related form', 'receive, VB -- register (perceptual input)']\n",
      "['touchwood, NN -- material for starting a fire', 'derivationally related form', 'kindle, VB -- catch fire']\n",
      "['orientalism, NN -- the scholarly knowledge of Asian cultures and languages and people', 'hypernym', 'liberal arts, NN -- studies intended to provide general knowledge and intellectual skills (rather than occupational or professional skills)']\n",
      "['recruiter, NN -- an official who enlists personnel for military service', 'derivationally related form', 'recruit, VB -- cause to assemble or enlist in the military']\n",
      "['waterleaf family, NN -- perennial woodland herbs', 'member meronym', 'hydrophyllum, NN -- waterleaf']\n",
      "['leonotis, NN -- small genus of tropical herbs and subshrubs of South Africa', 'hypernym', 'asterid dicot genus, NN -- genus of more or less advanced dicotyledonous herbs and some trees and shrubs']\n",
      "['digest, VB -- make more concise', 'derivationally related form', 'optical condenser, NN -- lens used to concentrate light on an object']\n",
      "['afghanistani, JJ -- of or relating to or characteristic of Afghanistan or its people', 'derivationally related form', 'islamic state of afghanistan, NN -- a mountainous landlocked country in central Asia']\n",
      "['service, NN -- periodic maintenance on a car or machine', 'hypernym', 'upkeep, NN -- activity involved in maintaining something in good working order']\n",
      "['soy sauce, NN -- thin sauce made of fermented soy beans', 'hypernym', 'condiment, NN -- a preparation (a sauce or relish or spice) to enhance flavor or enjoyment']\n",
      "['africa, NN -- the second largest continent', 'has part', 'republic of benin, NN -- a country on western coast of Africa']\n",
      "['planing machine, NN -- a power tool for smoothing or shaping wood', 'derivationally related form', 'shave, VB -- cut or remove with or as if with a plane']\n",
      "['defense, NN -- (sports) the team that is trying to prevent the other team from scoring', 'hypernym', 'team, NN -- a cooperative unit (especially in sports)']\n",
      "['oblique, JJ -- slanting or inclined in direction or course or position--neither parallel nor perpendicular nor right-angled', 'also see', 'convergent, JJ -- tending to come together from different directions']\n",
      "['paint, VB -- make a painting', 'derivationally related form', 'painting, NN -- creating a picture with paints']\n",
      "['manifest, VB -- provide evidence for', 'hypernym', 'testify, VB -- provide evidence for']\n",
      "['uvulopalatopharyngoplasty, NN -- surgical resection of unnecessary palatal and oropharyngeal tissue to open the airway', 'hypernym', 'surgical process, NN -- a medical procedure involving an incision with instruments']\n",
      "['vitalizer, NN -- someone who imparts energy and vitality and spirit to other people', 'derivationally related form', 'vitalize, VB -- make more lively or vigorous']\n",
      "['meeting, NN -- a casual or unexpected convergence', 'derivationally related form', 'happen, VB -- come upon, as if by accident']\n",
      "['remedy, VB -- provide relief for', 'synset domain topic of', 'practice of medicine, NN -- the learned profession that is mastered by graduate training in a medical school and that is devoted to preventing or alleviating or curing diseases and injuries']\n",
      "['wheat berry, NN -- grains of common wheat', 'hypernym', 'grain, NN -- foodstuff prepared from the starchy grains of cereal grasses']\n",
      "['reason out, VB -- decide by reasoning', 'derivationally related form', 'understanding, NN -- the capacity for rational thought or inference or discrimination']\n",
      "['character set, NN -- an ordered list of characters that are used together in writing or printing', 'hypernym', 'listing, NN -- a database containing an ordered array of items (names or topics)']\n",
      "['onslaught, NN -- (military) an offensive against an enemy (using weapons)', 'hypernym', 'operation, NN -- activity by a military or naval force (as a maneuver or campaign)']\n",
      "['right, JJ -- free from error', 'also see', 'proper, JJ -- marked by suitability or rightness or appropriateness']\n",
      "['genus tamandua, NN -- lesser anteater', 'member meronym', 'tamandua tetradactyla, NN -- small toothless anteater with prehensile tail and four-clawed forelimbs']\n",
      "['finance, NN -- the branch of economics that studies the management of money and other assets', 'hypernym', 'political economy, NN -- the branch of social science that deals with the production and distribution and consumption of goods and services and their management']\n",
      "['generality, NN -- the quality of being general or widespread or having general applicability', 'hypernym', 'quality, NN -- an essential and distinguishing attribute of something or someone']\n",
      "['expatiation, NN -- a discussion (spoken or written) that enlarges on a topic or theme at length or in detail', 'hypernym', 'expansion, NN -- a discussion that provides additional information']\n",
      "['titanium, NN -- a light strong grey lustrous corrosion-resistant metallic element used in strong lightweight alloys (as for airplane parts)', 'synset domain topic of', 'plane, NN -- an aircraft that has a fixed wing and is powered by propellers or jets']\n",
      "['thrust, VB -- make a thrusting forward movement', 'derivationally related form', 'lurch, NN -- the act of moving forward suddenly']\n",
      "['primates, NN -- an animal order including lemurs and tarsiers and monkeys and apes and human beings', 'hypernym', 'animal order, NN -- the order of animals']\n",
      "['shellac varnish, NN -- a thin varnish made by dissolving lac in ethanol', 'hypernym', 'varnish, NN -- a coating that provides a hard, lustrous, transparent finish to a surface']\n",
      "['slow down, VB -- reduce the speed of', 'hypernym', 'modify, VB -- cause to change']\n",
      "['theology, NN -- the learned profession acquired by specialized courses in religion (usually taught at a college or seminary)', 'synset domain topic of', 'theology, NN -- the rational and systematic study of religion and its influences and of the nature of religious truth']\n",
      "['labial stop, NN -- a stop consonant that is produced with the lips', 'hypernym', 'stop consonant, NN -- a consonant produced by stopping the flow of air at some point and suddenly releasing it']\n",
      "['scutigerella, NN -- garden centipedes', 'member meronym', 'symphilid, NN -- minute arthropod often infesting the underground parts of truck-garden and greenhouse crops']\n",
      "['adequateness, NN -- the quality of being able to meet a need satisfactorily: \"he questioned the adequacy of the usual sentimental interpretation of the Golden Rule\"', 'derivationally related form', 'equal, JJ -- having the requisite qualities or resources to meet a task']\n",
      "['composite plant, NN -- considered the most highly evolved dicotyledonous plants, characterized by florets arranged in dense heads that resemble single flowers', 'hypernym', 'flower, NN -- a plant cultivated for its blooms or blossoms']\n",
      "['morning time, NN -- the time period between dawn and noon', 'hypernym', 'time period, NN -- an amount of time']\n",
      "['explicate, VB -- make plain and comprehensible', 'derivationally related form', 'explication, NN -- a detailed explanation of the meaning of something']\n",
      "['suit, NN -- a comprehensive term for any proceeding in a court of law whereby an individual seeks a legal remedy', 'derivationally related form', 'sue, VB -- institute legal proceedings against']\n",
      "['john kenneth galbraith, NN -- United States economist (born in Canada) who served as ambassador to India (born in 1908)', 'instance hypernym', 'economist, NN -- an expert in the science of economics']\n",
      "['rome, NN -- capital and largest city of Italy', 'member meronym', 'roman, NN -- a resident of modern Rome']\n",
      "['disguise, NN -- the act of concealing the identity of something by modifying its appearance', 'derivationally related form', 'camouflage, VB -- disguise by camouflaging']\n",
      "['sensitizing, NN -- rendering an organism sensitive to a serum by a series of injections', 'hypernym', 'immunization, NN -- the act of making immune (especially by inoculation)']\n",
      "['genus antidorcas, NN -- springboks', 'hypernym', 'mammal genus, NN -- a genus of mammals']\n",
      "['finding, NN -- something that is found', 'hypernym', 'physical object, NN -- a tangible and visible entity']\n",
      "['name, NN -- a language unit by which a person or thing is known', 'hypernym', 'linguistic unit, NN -- one of the natural units into which linguistic messages can be analyzed']\n",
      "['followup, NN -- an activity that continues something that has already begun or that repeats something that has already been done', 'derivationally related form', 'follow up, VB -- increase the effectiveness or success of by further action']\n",
      "['republic of india, NN -- a republic in the Asian subcontinent in southern Asia', 'has part', 'himalayas, NN -- a mountain range extending 1500 miles on the border between India and Tibet']\n",
      "[\"think, VB -- use or exercise the mind or one's power of reason in order to make inferences, decisions, or arrive at a solution or judgments\", 'derivationally related form', 'think, NN -- an instance of deliberate thinking']\n",
      "['license, VB -- authorize officially', 'derivationally related form', 'license, NN -- freedom to deviate deliberately from normally applicable rules or practices (especially in behavior or speech)']\n",
      "['genus barbarea, NN -- biennial or perennial herbs of north temperate regions: winter cress', 'hypernym', 'dilleniid dicot genus, NN -- genus of more or less advanced dicotyledonous trees and shrubs and herbs']\n",
      "['yellow metal, NN -- a brass that has more zinc and is stronger than alpha brass', 'hypernym', 'brass, NN -- an alloy of copper and zinc']\n",
      "['play, NN -- the act of playing for stakes in the hope of winning (including the payment of a price for a chance to win a prize)', 'hypernym', 'vice, NN -- a specific form of evildoing']\n",
      "['zizania, NN -- wild rice', 'hypernym', 'monocot genus, NN -- genus of flowering plants having a single cotyledon (embryonic leaf) in the seed']\n",
      "['station, NN -- (nautical) the location to which a ship or fleet is assigned for duty', 'synset domain topic of', 'navy, NN -- an organization of military vessels belonging to a country and available for sea warfare']\n",
      "['work, VB -- provoke or excite', 'hypernym', 'stir, VB -- stir feelings in']\n",
      "['side, NN -- either the left or right half of a body', 'synset domain topic of', 'fauna, NN -- a living organism characterized by voluntary movement']\n",
      "['genus baphia, NN -- small genus of shrubs and lianas and trees of Africa and Madagascar', 'hypernym', 'rosid dicot genus, NN -- a genus of dicotyledonous plants']\n",
      "['impress, VB -- impress positively', 'derivationally related form', 'impressive, JJ -- making a strong or vivid impression']\n",
      "['hippoboscidae, NN -- winged or wingless dipterans: louse flies', 'hypernym', 'arthropod family, NN -- any of the arthropods']\n",
      "['underscore, VB -- give extra weight to (a communication)', 'hypernym', 'stress, VB -- to stress, single out as important']\n",
      "['mastership, NN -- the position of master', 'hypernym', 'spot, NN -- a job in an organization']\n",
      "['assurance, NN -- a British term for some kinds of insurance', 'hypernym', 'insurance, NN -- promise of reimbursement in the case of loss']\n",
      "['doubling, NN -- raising the stakes in a card game by a factor of 2', 'derivationally related form', 'duplicate, VB -- increase twofold']\n",
      "['half mile, NN -- a unit of length equal to half of 1 mile', 'hypernym', 'linear unit, NN -- a unit of measurement of length']\n",
      "['recording machine, NN -- equipment for making records', 'derivationally related form', 'tape, VB -- register electronically']\n",
      "['merrymaking, NN -- a boisterous celebration', 'hypernym', 'festivity, NN -- any joyous diversion']\n",
      "['tenant, VB -- occupy as a tenant', 'hypernym', 'populate, VB -- inhabit or live in']\n",
      "['produce, VB -- come to have or undergo a change of (physical features and attributes)', 'derivationally related form', 'getting, NN -- the act of acquiring something']\n",
      "['trichloromethane, NN -- a volatile liquid haloform (CHCl3)', 'hypernym', 'haloform, NN -- compounds with the formula CHX3, where X is a halogen atom']\n",
      "['job, NN -- an object worked on', 'hypernym', 'production, NN -- an artifact that has been created by someone or some process']\n",
      "['dreaming, NN -- imaginative thoughts indulged in while awake', 'derivationally related form', 'woolgather, VB -- have a daydream']\n",
      "['lectureship, NN -- the post of lecturer   not occurring at expected times', 'derivationally related form', 'lecturing, NN -- teaching by giving a discourse on some subject (typically to a class)']\n",
      "['inform, VB -- act as an informer', 'hypernym', 'inform, VB -- impart knowledge of some fact, state or affairs, or event to']\n",
      "['rich, JJ -- high in mineral content', 'derivationally related form', 'richness, NN -- the property of being extremely abundant']\n",
      "['chlamydia, NN -- a sexually transmitted infection caused by bacteria of the genus Chlamydia', 'hypernym', \"venus's curse, NN -- a communicable infection transmitted by sexual intercourse or genital contact\"]\n",
      "['summon, VB -- ask to come', 'derivationally related form', 'summoning, NN -- calling up supposed supernatural forces by spells and incantations']\n",
      "['whisperer, NN -- one who speaks in a whisper', 'derivationally related form', 'whisper, VB -- speak softly']\n",
      "['inspirer, NN -- a leader who stimulates and excites people to action', 'derivationally related form', 'revolutionize, VB -- fill with revolutionary ideas']\n",
      "['splotch, VB -- blotch or spot', 'hypernym', 'spot, VB -- make a spot or mark onto']\n",
      "['levy en masse, NN -- the act of drafting into military service', 'derivationally related form', 'recruit, VB -- cause to assemble or enlist in the military']\n",
      "['kid, NN -- a human offspring (son or daughter) of any age', 'hypernym', 'progeny, NN -- the immediate descendants of a person']\n",
      "['stopping point, NN -- the temporal end', 'hypernym', 'ending, NN -- the point in time at which something ends']\n",
      "['want, NN -- a state of extreme poverty', 'hypernym', 'poverty, NN -- the state of having little or no money and few or no material possessions']\n",
      "['expansive, JJ -- able or tending to expand or characterized by expansion', 'derivationally related form', 'expand, VB -- become larger in size or volume or quantity']\n",
      "['turn away, VB -- turn from a straight course, fixed direction, or line of interest', 'hypernym', 'turn, VB -- change orientation or direction, also in the abstract sense']\n",
      "['clipper, NN -- shears for cutting grass or shrubbery (often used in the plural)', 'derivationally related form', 'snip off, VB -- sever or remove by pinching or snipping']\n",
      "['buspirone, NN -- a drug (trade name BuSpar) designed specifically for anxiety', 'hypernym', 'minor tranquillizer, NN -- a tranquilizer used to relieve anxiety and reduce tension and irritability']\n",
      "['glareolidae, NN -- Old World shorebirds: pratincoles and coursers', 'hypernym', 'bird family, NN -- a family of warm-blooded egg-laying vertebrates characterized by feathers and forelimbs modified as wings']\n",
      "['yowl, NN -- a very loud utterance (like the sound of an animal)', 'derivationally related form', 'yowl, VB -- utter shrieks, as of cats']\n",
      "['genus felis, NN -- type genus of the Felidae: true cats and most wildcats', 'member meronym', 'wildcat, NN -- any small or medium-sized cat resembling the domestic cat and living in the wild']\n",
      "['hard cider, NN -- alcoholic drink from fermented cider', 'hypernym', 'cyder, NN -- a beverage made from juice pressed from apples']\n",
      "['walk, VB -- traverse or cover by walking', 'derivationally related form', 'zimmer frame, NN -- a light enclosing framework (trade name Zimmer) with rubber castors or wheels and handles']\n",
      "['guvnor, NN -- (British slang) boss', 'hypernym', 'hirer, NN -- a person responsible for hiring workers']\n",
      "['trust, NN -- a consortium of independent organizations formed to limit competition by controlling the production and distribution of a product or service', 'hypernym', 'syndicate, NN -- an association of companies for some definite purpose']\n",
      "['pars distilis, NN -- the anterior part of the anterior pituitary', 'hypernym', 'endocrine gland, NN -- any of the glands of the endocrine system that secrete hormones directly into the bloodstream']\n",
      "['rock outcrop, NN -- the part of a rock formation that appears above the surface of the surrounding land', 'hypernym', 'stone, NN -- a lump or mass of hard consolidated mineral matter']\n",
      "['anesthesia, NN -- loss of bodily sensation with or without loss of consciousness', 'derivationally related form', 'anesthetist, NN -- a specialist who administers an anesthetic to a patient before he is treated']\n",
      "['vex, VB -- be a mystery or bewildering to', 'derivationally related form', 'stupefaction, NN -- a feeling of stupefied astonishment']\n",
      "['uphold, VB -- keep or maintain in unaltered condition', 'derivationally related form', 'preservation, NN -- the condition of being (well or ill) preserved']\n",
      "['inflate, VB -- cause prices to rise by increasing the available currency or credit', 'derivationally related form', 'rising prices, NN -- a general and progressive increase in prices']\n",
      "['refine, VB -- make more complex, intricate, or richer', 'derivationally related form', 'refinement, NN -- the result of improving something']\n",
      "['outshine, VB -- attract more attention and praise than others', 'hypernym', 'surpass, VB -- be or do something to a greater degree']\n",
      "['rain, NN -- anything happening rapidly or in quick successive', 'hypernym', 'successiveness, NN -- a following of one thing after another in time']\n",
      "['respiratory, JJ -- pertaining to respiration', 'derivationally related form', 'respire, VB -- undergo the biomedical and metabolic processes of respiration by taking up oxygen and producing carbon monoxide']\n",
      "['empty, VB -- make void or empty of contents', 'derivationally related form', 'voidance, NN -- the act of removing the contents of something']\n",
      "['reach, NN -- the limit of capability', 'hypernym', 'potentiality, NN -- an aptitude that may be developed']\n",
      "['soaring, NN -- the activity of flying a glider', 'hypernym', 'flying, NN -- an instance of traveling by air']\n",
      "['physical, JJ -- involving the body as distinguished from the mind or spirit', 'derivationally related form', 'physicalness, NN -- the quality of being physical']\n",
      "['expedient, JJ -- serving to promote your interest', 'also see', 'convenient, JJ -- suited to your comfort or purpose or needs']\n",
      "['parti-color, VB -- make motley', 'derivationally related form', 'motley, NN -- a multicolored woolen fabric woven of mixed threads in 14th to 17th century England']\n",
      "['rearrangement, NN -- changing an arrangement', 'hypernym', 'transcription, NN -- the act of arranging and adapting a piece of music']\n",
      "['enclosure, NN -- a structure consisting of an area that has been enclosed for some purpose', 'derivationally related form', 'wrap, VB -- enclose or enfold completely with or as if with a covering']\n",
      "['point, VB -- mark (Hebrew words) with diacritics', 'derivationally related form', 'point, NN -- a very small circular shape']\n",
      "['remuneration, NN -- the act of paying for goods or services or to recompense for losses', 'hypernym', 'payment, NN -- the act of paying money']\n",
      "['parenthesis, NN -- a message that departs from the main subject', 'derivationally related form', 'wander, VB -- lose clarity or turn aside especially from the main subject of attention or course of argument in writing, thinking, or speaking']\n",
      "['mouth, NN -- the externally visible part of the oral cavity on the face and the system of organs surrounding the opening', 'has part', 'lip, NN -- either of two fleshy folds of tissue that surround the mouth and play a role in speaking']\n",
      "['family falconidae, NN -- a family of birds of the order Falconiformes', 'member meronym', 'falcon, NN -- diurnal birds of prey having long pointed powerful wings adapted for swift flight']\n",
      "['transmutation, NN -- (physics) the change of one chemical element into another (as by nuclear decay or radioactive bombardment)', 'hypernym', 'modification, NN -- an event that occurs when something passes from one state or phase to another']\n",
      "['talk over, VB -- speak with others about (something)', 'hypernym', 'talk of, VB -- discuss or mention']\n",
      "['break up, VB -- destroy the completeness of a set of related items', 'derivationally related form', 'breakable, JJ -- capable of being broken or damaged']\n",
      "['quechua, NN -- a member of a South American Indian people in Peru who were formerly the ruling class of the Inca empire', 'hypernym', 'south american indian, NN -- a member of a native Indian group in South America']\n",
      "['counselor, NN -- someone who gives advice about problems', 'hypernym', 'consultant, NN -- an expert who gives advice']\n",
      "['revise, VB -- make revisions in', 'derivationally related form', 'rewriting, NN -- editing that involves writing something again']\n",
      "['rat snake, NN -- any of various nonvenomous rodent-eating snakes of North America and Asia', 'hypernym', 'colubrid snake, NN -- mostly harmless temperate-to-tropical terrestrial or arboreal or aquatic snakes']\n",
      "['madam, NN -- a woman of refinement', 'hypernym', 'woman, NN -- an adult female person (as opposed to a man)']\n",
      "['genus calvatia, NN -- genus of puffballs having outer casings whose upper parts break at maturity into angular pieces to expose the spores', 'hypernym', 'fungus genus, NN -- includes lichen genera']\n",
      "['room, NN -- an area within a building enclosed by walls and floor and ceiling', 'has part', 'wall, NN -- an architectural partition with a height and length greater than its thickness']\n",
      "['springbuck, NN -- a South African gazelle noted for springing lightly into the air', 'hypernym', 'gazelle, NN -- small swift graceful antelope of Africa and Asia having lustrous eyes']\n",
      "['pill roller, NN -- a health professional trained in the art of preparing and dispensing drugs', 'derivationally related form', 'pharmacy, NN -- the art and science of preparing and dispensing drugs and medicines,']\n",
      "['sleeping, NN -- the state of being asleep', 'has part', 'dreaming, NN -- a series of mental images and emotions occurring during sleep']\n",
      "['ordinary, JJ -- not exceptional in any way especially in quality or ability or size or degree', 'also see', 'common, JJ -- having no special distinction or quality']\n",
      "['knock, VB -- knock against with force or violence', 'hypernym', 'strike, VB -- hit against']\n",
      "['music, NN -- (music) the sounds produced by singers or musical instruments (or reproductions of such sounds)', 'hypernym', 'sound, NN -- the subjective sensation of hearing something']\n",
      "['republic of iraq, NN -- a republic in the Middle East in western Asia', 'has part', 'asur, NN -- an ancient Assyrian city on the Tigris and traditional capital of Assyria']\n",
      "['regard, VB -- connect closely and often incriminatingly', 'derivationally related form', 'involvement, NN -- a connection of inclusion or containment']\n",
      "['front bench, NN -- any of the front seats in the House of Commons that are reserved for ministers or former ministers', 'hypernym', 'seat, NN -- any support where you can sit (especially the part of a chair or bench etc. on which you sit)']\n",
      "['young woman, NN -- a young woman', 'derivationally related form', 'maidhood, NN -- the childhood of a girl']\n",
      "['family apocynaceae, NN -- chiefly tropical trees or shrubs or herbs having milky juice and often showy flowers', 'member meronym', 'genus allamanda, NN -- genus of tropical American woody vines']\n",
      "['protrude, VB -- swell or protrude outwards', 'derivationally related form', 'swelling, NN -- something that bulges out or is protuberant or projects from its surroundings']\n",
      "['passionate, JJ -- having or expressing strong emotions', 'also see', 'hot, JJ -- extended meanings']\n",
      "['refreshen, VB -- become or make oneself fresh again', 'derivationally related form', 'refreshment, NN -- activity that refreshes and recreates']\n",
      "['circulation, NN -- movement through a circuit', 'has part', 'blood pressure, NN -- the pressure of the circulating blood against the walls of the blood vessels']\n",
      "['pauperize, VB -- reduce to beggary', 'derivationally related form', 'pauperization, NN -- the act of making someone poor']\n",
      "['passing, NN -- going by something that is moving in order to get in front of it', 'derivationally related form', 'pass, VB -- travel past']\n",
      "['symbolizing, NN -- the act of representing something with a symbol', 'hypernym', 'figuration, NN -- representing figuratively as by emblem or allegory']\n",
      "['playing period, NN -- (in games or plays or other performances) the time during which play proceeds', 'has part', 'chukker, NN -- (polo) one of six divisions into which a polo match is divided']\n",
      "['phonetician, NN -- a specialist in phonetics', 'hypernym', 'linguistic scientist, NN -- a specialist in linguistics']\n",
      "['redact, VB -- prepare for publication or presentation by correcting, revising, or adapting', 'derivationally related form', 'rewriter, NN -- someone who puts text into appropriate form for publication']\n",
      "['advertizer, NN -- someone whose business is advertising', 'derivationally related form', 'push, VB -- make publicity for']\n",
      "['william clark gable, NN -- United States film actor (1901-1960)', 'instance hypernym', 'thespian, NN -- a theatrical performer']\n",
      "['outlaw, VB -- declare illegal', 'derivationally related form', 'outlawry, NN -- illegality as a consequence of unlawful acts']\n",
      "['uncheerfulness, NN -- not conducive to cheer or good spirits', 'hypernym', 'attribute, NN -- an abstraction belonging to or characteristic of an entity']\n",
      "['passage, NN -- the act of passing something to another person', 'hypernym', 'delivery, NN -- the act of delivering or distributing something (as goods or mail)']\n",
      "['reckoner, NN -- an expert at calculation (or at operating calculating machines)', 'derivationally related form', 'work out, VB -- make a mathematical calculation or computation']\n",
      "[\"make up, VB -- apply make-up or cosmetics to one's face to appear prettier\", 'derivationally related form', 'war paint, NN -- cosmetics applied to the face to improve or change your appearance']\n",
      "['savvy, VB -- get the meaning of something', 'derivationally related form', 'comprehensible, JJ -- capable of being comprehended or understood']\n",
      "['truck, NN -- an automotive vehicle suitable for hauling', 'has part', 'stabilizer bar, NN -- a rigid metal bar between the front suspensions and between the rear suspensions of cars and trucks']\n",
      "['false pretense, NN -- (law) an offense involving intent to defraud and false representation and obtaining property as a result of that misrepresentation', 'hypernym', 'violation, NN -- a crime less serious than a felony']\n",
      "['nlp, NN -- the branch of information science that deals with natural language information', 'hypernym', 'ip, NN -- the sciences concerned with gathering, manipulating, storing, retrieving, and classifying recorded information']\n",
      "['natural covering, NN -- a natural object that covers or envelops', 'derivationally related form', 'spread over, VB -- form a cover over']\n",
      "['touch on, VB -- restore by replacing a part or putting together what is torn or broken', 'derivationally related form', 'reparation, NN -- the act of putting something in working order again']\n",
      "['patron saint, NN -- a saint who is considered to be a defender of some group or nation', 'hypernym', 'saint, NN -- a person who has died and has been declared a saint by canonization']\n",
      "['sika, NN -- small deer of Japan with slightly forked antlers', 'hypernym', \"deer, NN -- distinguished from Bovidae by the male's having solid deciduous antlers\"]\n",
      "['dictate, NN -- an authoritative rule', 'hypernym', 'rule, NN -- prescribed guide for conduct or action']\n",
      "['discontented, JJ -- showing or experiencing dissatisfaction or restless longing', 'derivationally related form', 'discontentment, NN -- a longing for something better than the present situation']\n",
      "['correspondence, NN -- compatibility of observations', 'derivationally related form', 'tally, VB -- be compatible, similar or consistent']\n",
      "['ko, NN -- a blow that renders the opponent unconscious', 'derivationally related form', 'knock out, VB -- knock unconscious or senseless']\n",
      "['coattails effect, NN -- (politics) the consequence of one popular candidate in an election drawing votes for other members of the same political party', 'synset domain topic of', 'politics, NN -- the study of government of states and other political units']\n",
      "['suborder passeres, NN -- two names for the suborder of typical songbirds', 'member meronym', 'paridae, NN -- titmice and chickadees']\n",
      "['sales talk, NN -- promotion by means of an argument and demonstration', 'derivationally related form', 'vend, VB -- sell or offer for sale from place to place']\n",
      "['ulex, NN -- genus of Eurasian spiny shrubs: gorse', 'member meronym', 'whin, NN -- very spiny and dense evergreen shrub with fragrant golden-yellow flowers']\n",
      "['relaxer, NN -- any agent that produces relaxation', 'derivationally related form', 'unwind, VB -- cause to feel relaxed']\n",
      "['snick, NN -- a small cut', 'derivationally related form', 'nick, VB -- cut a nick into']\n",
      "['individualize, VB -- make or mark or treat as individual', 'hypernym', 'tell apart, VB -- mark as different']\n",
      "['old testament, NN -- the collection of books comprising the sacred scripture of the Hebrews and recording their history as the chosen people', 'hypernym', \"will, NN -- a legal document declaring a person's wishes regarding the disposal of their property when they die\"]\n",
      "['vulnerability, NN -- susceptibility to injury or attack', 'derivationally related form', 'vulnerable, JJ -- susceptible to attack']\n",
      "['contradiction in terms, NN -- (logic) a statement that is necessarily false', 'synset domain topic of', 'logic, NN -- the branch of philosophy that analyzes inference']\n",
      "['commission, VB -- charge with a task', 'hypernym', 'pass, VB -- grant authorization or clearance for']\n",
      "['petrocoptis, NN -- perennial tussock-forming rock plants', 'hypernym', 'caryophylloid dicot genus, NN -- genus of relatively early dicotyledonous plants including mostly flowers']\n",
      "['marbleize, VB -- make something look like marble', 'derivationally related form', 'marbleizing, NN -- a texture like that of marble']\n",
      "['ingenuous, JJ -- characterized by an inability to mask your feelings', 'derivationally related form', 'naturalness, NN -- the quality of innocent naivete']\n",
      "['nyctalopia, NN -- inability to see clearly in dim light', 'hypernym', 'visual impairment, NN -- impairment of the sense of sight']\n",
      "['begin, VB -- have a beginning, of a temporal event', 'verb group', 'start, VB -- have a beginning, in a temporal, spatial, or evaluative sense']\n",
      "['genus tetrahymena, NN -- protozoa having four membranous ciliary organelles', 'hypernym', 'protoctist genus, NN -- any genus of Protoctista']\n",
      "['positivity, NN -- the quality of being undeniable and not worth arguing about', 'hypernym', 'unquestionableness, NN -- the quality of being beyond question or dispute or doubt']\n",
      "['uganda, NN -- a landlocked republic in eastern Africa', 'has part', 'lake edward, NN -- a lake in the Great Rift Valley between Congo and Uganda']\n",
      "['procedure, NN -- a process or series of acts especially of a practical or mechanical nature involved in a particular form of work', 'derivationally related form', 'work, VB -- perform as expected when applied']\n",
      "['spouter, NN -- an obnoxious and foolish and loquacious talker', 'derivationally related form', 'chatter, VB -- make noise as if chattering away']\n",
      "['unsavoriness, NN -- the property of being extremely unacceptable to the mind', 'derivationally related form', 'unsavoury, JJ -- morally offensive']\n",
      "['drawing, NN -- the creation of artistic pictures or diagrams', 'derivationally related form', 'draughtsman, NN -- a skilled worker who draws plans of buildings or machines']\n",
      "['radiolocation, NN -- measuring instrument in which the echo of a pulse of microwave radiation is used to detect and locate distant objects', 'has part', 'waveguide, NN -- a hollow metal conductor that provides a path to guide microwaves']\n",
      "['explication, NN -- a detailed explanation of the meaning of something', 'hypernym', 'explanation, NN -- a statement that makes something comprehensible by describing the relevant structure or operation or circumstances etc.']\n",
      "['object lesson, NN -- punishment intended as a warning to others', 'hypernym', 'word of advice, NN -- cautionary advice about something imminent (especially imminent danger or other unpleasantness)']\n",
      "['playing field, NN -- a piece of land prepared for playing a game', 'has part', 'midfield, NN -- (sports) the middle part of a playing field (as in football or lacrosse)']\n",
      "['william morris, NN -- English poet and craftsman (1834-1896)', 'instance hypernym', 'journeyman, NN -- a skilled worker who practices some trade or handicraft']\n",
      "['prumnopitys, NN -- mostly dioecious evergreen conifers', 'member meronym', 'prumnopitys ferruginea, NN -- New Zealand conifer used for lumber']\n",
      "['bottom, NN -- the lowest part of anything', 'derivationally related form', 'bottom, VB -- provide with a bottom or a seat']\n",
      "['respite, VB -- postpone the punishment of a convicted criminal, such as an execution', 'derivationally related form', 'respite, NN -- the act of reprieving']\n",
      "['family blenniidae, NN -- a family of fish including: combtooth blennies', 'member meronym', 'combtooth blenny, NN -- small usually scaleless fishes with comb-like teeth living about rocky shores']\n",
      "['trailing windmills, NN -- trailing plant having crowded clusters of 3 brilliant deep pink flowers resembling a single flower blooming near the ground', 'hypernym', 'wildflower, NN -- wild or uncultivated flowering plant']\n",
      "['school of thought, NN -- a belief (or system of beliefs) accepted as authoritative by some group or school', 'derivationally related form', 'philosophical, JJ -- of or relating to philosophy or philosophers']\n",
      "['simonize, VB -- polish with wax', 'derivationally related form', 'simoniz, NN -- a brand of car polish']\n",
      "['schedule, VB -- plan for an activity or event', 'derivationally related form', 'scheduling, NN -- setting an order and time for planned events']\n",
      "['parulidae, NN -- New World warblers', 'member meronym', 'icteria, NN -- New World chats']\n",
      "['strawberry-shrub family, NN -- shrubs or small trees having aromatic bark', 'member meronym', 'genus calycanthus, NN -- a magnoliid dicot genus of the family Calycanthaceae including: allspice']\n",
      "['trailblazer, NN -- someone who helps to open up a new line of research or technology or art', 'derivationally related form', 'pioneer, VB -- take the lead or initiative in']\n",
      "['travel, VB -- change location', 'also see', 'proceed, VB -- continue talking']\n",
      "['syllogize, VB -- reason by syllogisms', 'derivationally related form', 'syllogism, NN -- deductive reasoning in which a conclusion is derived from two premises']\n",
      "['upper jawbone, NN -- the jaw in vertebrates that is fused to the cranium', 'hypernym', 'jaw, NN -- the part of the skull of a vertebrate that frames the mouth and holds the teeth']\n",
      "['william harvey, NN -- English physician and scientist who described the circulation of the blood', 'instance hypernym', 'physician, NN -- a licensed medical practitioner']\n",
      "['wise, JJ -- having or prompted by wisdom or discernment', 'derivationally related form', 'wiseness, NN -- the trait of utilizing knowledge and experience with common sense and insight']\n",
      "['isopyrum, NN -- tufted perennial herbs of northern hemisphere', 'member meronym', 'isopyrum biternatum, NN -- slender erect perennial of eastern North America having tuberous roots and pink-tinged white flowers']\n",
      "['genus bos, NN -- wild and domestic cattle', 'hypernym', 'mammal genus, NN -- a genus of mammals']\n",
      "['war game, NN -- a simulation of a military operation intended to train military commanders or to demonstrate a situation or to test a proposed strategy', 'synset domain topic of', 'war machine, NN -- the military forces of a nation']\n",
      "['scutigeridae, NN -- a family of Chilopoda', 'member meronym', 'scutigera, NN -- a genus of Scutigeridae']\n",
      "['hygrophorus, NN -- a genus of fungi belonging to the family Hygrophoraceae', 'hypernym', 'fungus genus, NN -- includes lichen genera']\n",
      "['get, VB -- move into a desired direction of discourse', 'derivationally related form', 'movement, NN -- a series of actions advancing a principle or tending toward a particular end']\n",
      "['square up, VB -- settle conclusively', 'derivationally related form', 'settlement, NN -- a conclusive resolution of a matter and disposition of it']\n",
      "['worker, NN -- a person who works at a specific occupation', 'hypernym', 'soul, NN -- a human being']\n",
      "['lady fern, NN -- most widely grown fern of the genus Athyrium for its delicate foliage', 'hypernym', 'fern, NN -- any of numerous flowerless and seedless vascular plants having true roots from a rhizome and fronds that uncurl upward']\n",
      "['flat, NN -- a suite of rooms usually on one floor of an apartment house', 'hypernym', 'lodging, NN -- structures collectively in which people are housed']\n",
      "['ayah, NN -- (in India) a native nursemaid who looks after children', 'hypernym', 'house servant, NN -- a servant who is paid to perform menial tasks around the household']\n",
      "['typecast, VB -- identify as belonging to a certain type', 'derivationally related form', 'type, NN -- a subdivision of a particular kind of thing']\n",
      "['the netherlands, NN -- a constitutional monarchy in western Europe on the North Sea', 'has part', 'frisian islands, NN -- a chain of islands in the North Sea off the coast of northwestern Europe extending from the IJsselmeer to Jutland']\n",
      "['chief of staff, NN -- the senior officer of a service of the armed forces', 'hypernym', 'officer, NN -- any person in the armed services who holds a position of authority or command']\n",
      "['gleditsia, NN -- deciduous trees: honey locusts', 'hypernym', 'rosid dicot genus, NN -- a genus of dicotyledonous plants']\n",
      "['star, NN -- (astronomy) a celestial body of hot gases that radiates energy derived from thermonuclear reactions in the interior', 'hypernym', 'heavenly body, NN -- natural objects visible in the sky']\n",
      "['exaltation, NN -- the elevation of a person (as to the status of a god)', 'derivationally related form', 'proclaim, VB -- praise, glorify, or honor']\n",
      "['comparable, JJ -- able to be compared or worthy of comparison', 'also see', 'equal, JJ -- having the same quantity, value, or measure as another']\n",
      "['jubilation, NN -- a feeling of extreme joy', 'derivationally related form', 'walk on air, VB -- feel extreme happiness or elation']\n",
      "['patroller, NN -- someone on patrol duty', 'hypernym', 'watchman, NN -- a guard who keeps watch']\n",
      "['concentration, NN -- strengthening the concentration (as of a solute in a mixture) by removing diluting material', 'derivationally related form', 'reduce, VB -- cook until very little liquid is left']\n",
      "['regeneration, NN -- the activity of spiritual or physical renewal', 'derivationally related form', 'restore, VB -- return to life']\n",
      "['order cuculiformes, NN -- cuckoos', 'member meronym', 'musophagidae, NN -- touracos']\n",
      "['germany, NN -- a republic in central Europe', 'member of domain region', \"schadenfreude, NN -- delight in another person's misfortune\"]\n",
      "['culmination, NN -- the decisive moment in a novel or play', 'derivationally related form', 'culminate, VB -- reach the highest or most decisive point']\n",
      "['mallee, NN -- any of several low-growing Australian eucalypts', 'hypernym', 'eucalyptus tree, NN -- a tree of the genus Eucalyptus']\n",
      "['leaving, NN -- the act of departing', 'derivationally related form', 'go away, VB -- move away from a place into another direction']\n",
      "['act, VB -- be suitable for theatrical performance', 'derivationally related form', 'actable, JJ -- capable of being acted']\n",
      "['slope, VB -- be at an angle', 'derivationally related form', 'inclination, NN -- (geometry) the angle formed by the x-axis and a given line (measured counterclockwise from the positive half of the x-axis)']\n",
      "['sunfish, NN -- small carnivorous freshwater percoid fishes of North America usually having a laterally compressed body and metallic luster: crappies', 'hypernym', 'percoidean, NN -- any of numerous spiny-finned fishes of the order Perciformes']\n",
      "['love, NN -- a strong positive emotion of regard and affection', 'derivationally related form', 'love, VB -- have a great affection or liking for']\n",
      "['interview, NN -- a conference (usually with someone important)', 'derivationally related form', 'consult, VB -- have a conference in order to talk something over']\n",
      "['offspring, NN -- something that comes into existence as a result', 'derivationally related form', 'materialize, VB -- come into being']\n",
      "['evanescence, NN -- the event of fading and gradually vanishing from sight', 'derivationally related form', 'pass off, VB -- disappear gradually']\n",
      "['impressionistic, JJ -- of or relating to or based on an impression rather than on facts or reasoning', 'derivationally related form', 'impression, NN -- an impressionistic portrayal of a person']\n",
      "[\"suspicion, NN -- doubt about someone's honesty\", 'derivationally related form', 'suspect, VB -- regard as untrustworthy']\n",
      "['nonage, NN -- any age prior to the legal age', 'derivationally related form', 'underage, JJ -- not of legal age']\n",
      "['lustrum, NN -- a ceremonial purification of the Roman population every five years following the census', 'synset domain topic of', 'antiquity, NN -- the historic period preceding the Middle Ages in Europe']\n",
      "['spring, VB -- produce or disclose suddenly or unexpectedly', 'hypernym', 'unwrap, VB -- make known to the public information that was previously known only to a few people or that was meant to be kept a secret']\n",
      "['abstract, VB -- consider apart from a particular case or instance', 'hypernym', 'take, VB -- take into consideration for exemplifying purposes']\n",
      "['beech fern, NN -- any fern of the genus Phegopteris having deeply cut triangular fronds', 'hypernym', 'fern, NN -- any of numerous flowerless and seedless vascular plants having true roots from a rhizome and fronds that uncurl upward']\n",
      "['meclomen, NN -- a nonsteroidal anti-inflammatory (trade name Meclomen) used to treat arthritis', 'hypernym', 'nsaid, NN -- an anti-inflammatory drug that does not contain steroids']\n",
      "['viscum, NN -- type genus of the Viscaceae: Old World evergreen shrubs parasitic on many trees including oaks but especially apple trees, poplars, aspens and cottonwoods', 'hypernym', 'dilleniid dicot genus, NN -- genus of more or less advanced dicotyledonous trees and shrubs and herbs']\n",
      "[\"saddam's martyrs, NN -- a feared paramilitary unit formed in 1995 by young soldiers to serve Saddam Hussein against domestic opponents\", 'hypernym', 'paramilitary unit, NN -- a group of civilians organized in a military fashion (especially to operate in place of or to assist regular army troops)']\n",
      "['holder, NN -- a person who holds something', 'hypernym', 'possessor, NN -- a person who owns something']\n",
      "['lagidium, NN -- a genus of Chinchillidae', 'hypernym', 'mammal genus, NN -- a genus of mammals']\n",
      "['colloquialism, NN -- a colloquial expression', 'member of domain usage', 'firewater, NN -- any strong spirits (such as strong whisky or rum)']\n",
      "['escalade, VB -- climb up and over', 'hypernym', 'mount, VB -- go upward with gradual or continuous progress']\n",
      "['cool, JJ -- psychologically cool and unenthusiastic', 'also see', 'unfriendly, JJ -- not disposed to friendship or friendliness']\n",
      "['south, NN -- the southern states that seceded from the United States in 1861', 'member meronym', 'sunshine state, NN -- a state in southeastern United States between the Atlantic and the Gulf of Mexico']\n",
      "['people, NN -- the body of citizens of a state or country', 'derivationally related form', 'people, VB -- furnish with people']\n",
      "['sideritis, NN -- genus of woolly aromatic herbs or subshrubs or shrubs of Mediterranean region', 'hypernym', 'asterid dicot genus, NN -- genus of more or less advanced dicotyledonous herbs and some trees and shrubs']\n",
      "['genus fissurella, NN -- type genus of the family Fissurellidae: keyhole limpets', 'hypernym', 'mollusk genus, NN -- a genus of mollusks']\n",
      "[\"condolence, NN -- an expression of sympathy with another's grief\", 'hypernym', 'acknowledgment, NN -- a statement acknowledging something or someone']\n",
      "['chittagong, NN -- a port city and industrial center in southeastern Bangladesh on the Bay of Bengal', 'instance hypernym', 'urban center, NN -- a large and densely populated urban area']\n",
      "['govern, VB -- require to be in a certain grammatical case, voice, or mood', 'hypernym', 'take, VB -- require as useful, just, or proper']\n",
      "['leipzig, NN -- a city in southeastern Germany famous for fairs', 'instance hypernym', 'urban center, NN -- a large and densely populated urban area']\n",
      "['crier, NN -- a peddler who shouts to advertise the goods he sells', 'hypernym', 'yeller, NN -- someone who communicates vocally in a very loud voice']\n",
      "['automatic pistol, NN -- a pistol that will keep firing until the ammunition is gone or the trigger is released', 'hypernym', 'automatic weapon, NN -- a firearm that reloads itself and keeps firing until the trigger is released']\n",
      "['road map, NN -- a map showing roads (for automobile travel)', 'hypernym', \"map, NN -- a diagrammatic representation of the earth's surface (or part of it)\"]\n",
      "['nonmeaningful, JJ -- having no meaning or direction or purpose', 'derivationally related form', 'nonsensicality, NN -- a message that seems to convey no meaning']\n",
      "['toper, NN -- a person who drinks alcoholic beverages (especially to excess)', 'derivationally related form', 'fuddle, VB -- consume alcohol']\n",
      "['professionalize, VB -- become professional or proceed in a professional manner or in an activity for pay or as a means of livelihood', 'verb group', 'professionalize, VB -- make professional or give a professional character to']\n",
      "['sciaena antarctica, NN -- large important food fish of Australia', 'hypernym', 'sciaenid fish, NN -- widely distributed family of carnivorous percoid fishes having a large air bladder used to produce sound']\n",
      "['neuroglia, NN -- sustentacular tissue that surrounds and supports neurons in the central nervous system', 'has part', 'neuroglial cell, NN -- a cell of the neuroglia']\n",
      "['hyla, NN -- the type genus of the Hylidae', 'hypernym', 'cobble up, VB -- any genus of amphibians   put together hastily']\n",
      "['reconstructive memory, NN -- recall that is hypothesized to work by storing abstract features which are then used to construct the memory during recall', 'derivationally related form', 'retrace, VB -- reassemble mentally']\n",
      "['stooge, VB -- act as a stooge, in a compliant or subordinate manner', 'hypernym', 'do, VB -- behave in a certain manner']\n",
      "['sound, NN -- the particular auditory effect produced by a given cause', 'hypernym', 'sound property, NN -- an attribute of sound']\n",
      "['appointee, NN -- an official who is appointed', 'hypernym', 'official, NN -- a worker who holds or is invested with an office']\n",
      "['epilator, NN -- a cosmetic for temporary removal of undesired hair', 'hypernym', 'cosmetic, NN -- a toiletry designed to beautify the body']\n",
      "['impression, NN -- an impressionistic portrayal of a person', 'derivationally related form', 'impressionistic, JJ -- of or relating to or based on an impression rather than on facts or reasoning']\n",
      "['help, VB -- give help or assistance', 'derivationally related form', 'help, NN -- the activity of contributing to the fulfillment of a need or furtherance of an effort or purpose']\n",
      "['city limits, NN -- the limits of the area occupied by a city or town', 'hypernym', 'limit, NN -- the boundary of a specific area']\n",
      "['paw, NN -- the (prehensile) extremity of the superior limb', 'hypernym', 'extremity, NN -- that part of a limb that is farthest from the torso']\n",
      "['ready, NN -- poised for action', 'derivationally related form', 'set up, VB -- make ready or suitable or equip in advance for a particular purpose or for some use, event, etc']\n",
      "['little dipper, NN -- a cluster of seven stars in Ursa Minor', 'instance hypernym', 'asterism, NN -- (astronomy) a cluster of stars (or a small constellation)']\n",
      "['weather map, NN -- (meteorology) a map showing the principal meteorological elements at a given time and over an extended region', 'has part', 'isotherm, NN -- (meteorology) an isogram connecting points having the same temperature at a given time']\n",
      "['troops, NN -- soldiers collectively', 'synset domain topic of', 'war machine, NN -- the military forces of a nation']\n",
      "['republic of mali, NN -- a landlocked republic in northwestern Africa', 'instance hypernym', 'african nation, NN -- any one of the countries occupying the African continent']\n",
      "['yellowstone river, NN -- a tributary of the Missouri River that flows through the Yellowstone National Park', 'instance hypernym', 'river, NN -- a large natural stream of water (larger than a creek)']\n",
      "['compose, VB -- put together out of existing material', 'derivationally related form', 'compiling, NN -- the act of compiling (as into a single book or file or list)']\n",
      "['safekeeping, NN -- the responsibility of a guardian or keeper', 'derivationally related form', 'shielder, NN -- a person who cares for persons or property']\n",
      "['coach station, NN -- a terminal that serves bus passengers', 'hypernym', 'terminus, NN -- station where transport vehicles load or unload passengers or goods']\n",
      "['testator, NN -- a person who makes a will', 'hypernym', 'soul, NN -- a human being']\n",
      "['order odonata, NN -- dragonflies and damselflies', 'member meronym', 'odonate, NN -- large primitive predatory aquatic insect having two pairs of membranous wings']\n",
      "['barge, VB -- transport by barge on a body of water', 'hypernym', 'transport, VB -- transport commercially']\n",
      "['petty jury, NN -- a jury of 12 to determine the facts and decide the issue in civil or criminal proceedings', 'hypernym', 'jury, NN -- a body of citizens sworn to give a true verdict according to the evidence presented in a court of law']\n",
      "['exhibition, NN -- the act of exhibiting', 'hypernym', 'presentment, NN -- a show or display']\n",
      "['model, VB -- construct a model of', 'derivationally related form', 'modeller, NN -- a person who creates models']\n",
      "['hard, JJ -- not easy', 'derivationally related form', 'difficulty, NN -- the quality of being difficult']\n",
      "['worsening, NN -- process of changing to an inferior state', 'derivationally related form', 'deteriorate, VB -- become worse or disintegrate']\n",
      "['master, VB -- have a firm understanding or knowledge of', 'derivationally related form', 'mastery, NN -- great skillfulness and knowledge of some subject or activity']\n",
      "['disengagement, NN -- the act of releasing from an attachment or connection', 'derivationally related form', 'disengage, VB -- become free']\n",
      "['exuberance, NN -- joyful enthusiasm', 'hypernym', 'enthusiasm, NN -- a feeling of excitement']\n",
      "['progression, NN -- the act of moving forward (as toward a goal)', 'derivationally related form', 'progress, VB -- move forward, also in the metaphorical sense']\n",
      "['baader meinhof gang, NN -- a radical left-wing revolutionary terrorist group active in Germany from 1968 until 1977', 'synset domain topic of', 'terrorist act, NN -- the calculated use of violence (or the threat of violence) against civilians in order to attain goals that are political or religious or ideological in nature']\n",
      "['insignia, NN -- a badge worn to show official position', 'hypernym', 'badge, NN -- an emblem (a small piece of plastic or cloth or metal) that signifies your status (rank or membership or affiliation etc.)']\n",
      "['leader, NN -- a person who rules or guides or inspires others', 'derivationally related form', 'leadership, NN -- the body of people who lead a group']\n",
      "['overshielding, NN -- excessive protection   of a later stage in the development of a language or literature', 'hypernym', 'protection, NN -- the activity of protecting someone or something']\n",
      "['passer, NN -- a person who passes as a member of a different ethnic or racial group', 'hypernym', 'soul, NN -- a human being']\n",
      "['smatter, VB -- to talk foolishly', 'derivationally related form', 'spouter, NN -- an obnoxious and foolish and loquacious talker']\n",
      "['undercover work, NN -- the act of keeping a secret watch for intelligence purposes', 'hypernym', 'intelligence operation, NN -- the operation of gathering information about an enemy']\n",
      "['united kingdom of great britain and northern ireland, NN -- a monarchy in northwestern Europe occupying most of the British Isles', 'member of domain region', 'quadrillion, NN -- the number that is represented as a one followed by 24 zeros']\n",
      "['simaroubaceae, NN -- chiefly tropical trees and shrubs with bitter bark having dry usually one-seeded winged fruit', 'member meronym', 'simarouba, NN -- type genus of Simaroubaceae']\n",
      "['pusher, NN -- an unlicensed dealer in illegal drugs', 'derivationally related form', 'push, VB -- sell or promote the sale of (illegal goods such as drugs)']\n",
      "['plaintiff, NN -- a person who brings an action in a court of law', 'hypernym', 'litigator, NN -- (law) a party to a lawsuit']\n",
      "['weep, VB -- shed tears because of sadness, rage, or pain', 'derivationally related form', 'cry, NN -- a fit of weeping']\n",
      "['precede, VB -- move ahead (of others) in time or space', 'hypernym', 'travel, VB -- change location']\n",
      "['chronology, NN -- the determination of the actual temporal sequence of past events', 'hypernym', 'liberal arts, NN -- studies intended to provide general knowledge and intellectual skills (rather than occupational or professional skills)']\n",
      "['hyperventilation, NN -- an increased depth and rate of breathing greater than demanded by the body needs', 'hypernym', 'ventilation, NN -- the bodily process of inhalation and exhalation']\n",
      "['atlantic ocean, NN -- the 2nd largest ocean', 'has part', 'british isles, NN -- Great Britain and Ireland and adjacent islands in the north Atlantic']\n",
      "['jelly, VB -- make into jelly', 'derivationally related form', 'jelly, NN -- a preserve made of the jelled juice of fruit']\n",
      "['refrigerate, VB -- preserve by chilling', 'hypernym', 'preserve, VB -- prevent (food) from rotting']\n",
      "['brim, VB -- fill as much as possible', 'derivationally related form', 'rim, NN -- the top edge of a vessel or other container']\n",
      "['signal caller, NN -- (football) the person who plays quarterback', 'derivationally related form', 'quarterback, VB -- play the quarterback']\n",
      "['fencing, NN -- the art or sport of fighting with swords (especially the use of foils or epees or sabres to score points under a set of rules)', 'derivationally related form', 'fence, VB -- fight with fencing swords']\n",
      "['rakaposhi, NN -- a mountain peak in the Karakoram Range in northern Kashmir (25,560 feet high)', 'instance hypernym', 'mountain peak, NN -- the summit of a mountain']\n",
      "['trouble, VB -- to cause inconvenience or discomfort to', 'derivationally related form', 'vexation, NN -- the psychological state of being irritated or annoyed']\n",
      "['smell, NN -- the sensation that results when olfactory receptors in the nose are stimulated by particular chemicals in gaseous form', 'derivationally related form', 'smell, VB -- emit an odor']\n",
      "['sambre river, NN -- a river in western Europe that rises in northern France and flows generally east into Belgium where it joins the Meuse at Namur', 'instance hypernym', 'river, NN -- a large natural stream of water (larger than a creek)']\n",
      "['commissary, NN -- a retail store that sells equipment and provisions (usually to military personnel)', 'synset domain topic of', 'war machine, NN -- the military forces of a nation']\n",
      "['terrorize, VB -- coerce by violence or with threats', 'derivationally related form', 'terror, NN -- an overwhelming feeling of fear and anxiety']\n",
      "['ionize, VB -- become converted into ions', 'derivationally related form', 'ionization, NN -- the condition of being dissociated into ions (as by heat or radiation or chemical reaction or electrical discharge)']\n",
      "['swim, VB -- be afloat either on or below a liquid surface and not sink to the bottom', 'derivationally related form', 'swimming, NN -- the act of swimming']\n",
      "['suborder petromyzoniformes, NN -- lampreys as distinguished from hagfishes', 'hypernym', 'animal order, NN -- the order of animals']\n",
      "['polypodiales, NN -- true (leptosporangiate) ferns', 'member meronym', 'family blechnaceae, NN -- one of a number of families into which the family Polypodiaceae has been subdivided in some classification systems']\n",
      "['oberson, NN -- (Middle Ages) the king of the fairies and husband of Titania in medieval folklore', 'synset domain topic of', 'middle ages, NN -- the period of history between classical antiquity and the Italian Renaissance']\n",
      "['transfer, VB -- move around', 'derivationally related form', 'transferrer, NN -- someone who transfers something']\n",
      "['half track, NN -- a motor vehicle propelled by half tracks', 'hypernym', 'military vehicle, NN -- vehicle used by the armed forces']\n",
      "['see, VB -- come together', 'derivationally related form', 'meeting, NN -- a formally arranged gathering']\n",
      "['cottager, NN -- someone who lives in a cottage', 'hypernym', 'inhabitant, NN -- a person who inhabits a particular place']\n",
      "['raise, VB -- raise from a lower to a higher position', 'derivationally related form', 'upgrade, NN -- an upward slope or grade (as in a road)']\n",
      "['home, NN -- housing that someone is living in', 'has part', 'sleeping room, NN -- a room used primarily for sleeping']\n",
      "['zion, NN -- Jewish republic in southwestern Asia at eastern end of Mediterranean', 'has part', 'jerusalem, NN -- capital and largest city of the modern state of Israel (although its status as capital is disputed)']\n",
      "['mounter, NN -- someone who ascends on foot', 'derivationally related form', 'mount, VB -- go upward with gradual or continuous progress']\n",
      "['whoop it up, VB -- celebrate noisily, often indulging in drinking', 'hypernym', 'fete, VB -- have a celebration']\n",
      "['point after touchdown, NN -- in American football a point awarded for a successful place kick following a touchdown', 'hypernym', 'point, NN -- the unit of counting in scoring a game or contest']\n",
      "['genus formica, NN -- type genus of the Formicidae', 'member meronym', 'wood ant, NN -- reddish-brown European ant typically living in anthills in woodlands']\n",
      "['clean, JJ -- free from dirt or impurities', 'also see', 'tidy, JJ -- marked by order and cleanliness in appearance or habits']\n",
      "['moral philosophy, NN -- the philosophical study of moral values and rules', 'derivationally related form', 'ethicist, NN -- a philosopher who specializes in ethics']\n",
      "['transfer, VB -- transfer somebody to a different position or location of work   aesthetically pleasing', 'similar to', 'tasteful, JJ -- having or showing or conforming to good taste']\n",
      "['realness, NN -- the state of being actual or real', 'hypernym', 'actuality, NN -- the state of actually existing objectively']\n",
      "['unjust, JJ -- violating principles of justice', 'also see', 'wrong, JJ -- contrary to conscience or morality or law']\n",
      "['order hyracoidea, NN -- hyraxes and some extinct animals', 'member meronym', 'procaviidae, NN -- includes all recent members of the order Hyracoidea']\n",
      "['disintegrate, VB -- cause to undergo fission or lose particles', 'synset domain topic of', 'physics, NN -- the science of matter and energy and their interactions']\n",
      "['transdermic, JJ -- through the unbroken skin', 'synset domain topic of', 'pharmacology, NN -- the science or study of drugs: their preparation and properties and uses and effects']\n",
      "['country-dance, VB -- perform a contradance', 'hypernym', 'trip the light fantastic toe, VB -- move in a pattern']\n",
      "['show, VB -- give an exhibition of to an interested audience', 'hypernym', 'show, VB -- make visible or noticeable']\n",
      "['lid, NN -- a movable top or cover (hinged or separate) for closing the opening at the top of a box, chest, jar, pan, etc.', 'hypernym', 'top, NN -- covering for a hole (especially a hole in the top of a container)']\n",
      "['validation, NN -- the cognitive process of establishing a valid proof', 'derivationally related form', 'show, VB -- establish the validity of something, as by an example, explanation or experiment']\n",
      "['slip, VB -- get worse', 'hypernym', 'worsen, VB -- grow worse']\n",
      "['peripatetic, NN -- a follower of Aristotle or an adherent of Aristotelianism', 'hypernym', 'disciple, NN -- someone who believes and helps to spread the doctrine of another']\n",
      "['riddle, VB -- spread or diffuse through', 'derivationally related form', 'diffusor, NN -- baffle that distributes sound waves evenly']\n",
      "['whole, NN -- an assemblage of parts that is regarded as a single entity', 'derivationally related form', 'unify, VB -- to bring or combine together or with something else']\n",
      "['scrounge, VB -- collect or look around for (food)', 'derivationally related form', 'foraging, NN -- the act of searching for food and provisions']\n",
      "['planing machine, NN -- a power tool for smoothing or shaping wood', 'hypernym', 'power tool, NN -- a tool driven by a motor']\n",
      "['menticirrhus, NN -- kingfishes', 'hypernym', 'fish genus, NN -- any of various genus of fish']\n",
      "['hatred, NN -- the emotion of intense dislike', 'hypernym', 'emotion, NN -- any strong feeling']\n",
      "['eon, NN -- the longest division of geological time', 'has part', 'geological era, NN -- a major division of geological time']\n",
      "['spatiality, NN -- any property relating to or occupying space', 'hypernym', 'property, NN -- a basic or essential attribute shared by all members of a class']\n",
      "['genus echinocactus, NN -- globular or cylindrical cacti', 'member meronym', 'echinocactus, NN -- any cactus of the genus Echinocactus']\n",
      "['plunk, VB -- drop steeply', 'hypernym', 'go down, VB -- move downward and lower, but not necessarily all the way']\n",
      "['milkweed family, NN -- widely distributed family of herbs and shrubs of the order Gentianales', 'member meronym', 'vincetoxicum, NN -- genus of chiefly tropical American vines having cordate leaves and large purple or greenish cymose flowers']\n",
      "['vice, NN -- a specific form of evildoing', 'hypernym', 'transgression, NN -- the act of transgressing']\n",
      "['responsiveness, NN -- responsive to stimulation', 'hypernym', 'sensitivity, NN -- (physiology) responsiveness to external stimuli']\n",
      "['thespesia populnea, NN -- pantropical tree of usually seacoasts sometimes cultivated as an ornamental for its rounded heart-shaped leaves and showy yellow and purple flowers', 'hypernym', 'tulipwood tree, NN -- any of various trees yielding variously colored woods similar to true tulipwood']\n",
      "['tomatillo, NN -- annual of Mexico and southern United States having edible purplish viscid fruit resembling small tomatoes', 'has part', 'tomatillo, NN -- small edible yellow to purple tomato-like fruit enclosed in a bladderlike husk']\n",
      "['hole out, VB -- hit the ball into the hole', 'hypernym', 'hit, VB -- cause to move by striking']\n",
      "['standardize, VB -- cause to conform to standard or norm', 'derivationally related form', 'standard, NN -- a board measure = 1980 board feet']\n",
      "['shadbush, NN -- any of various North American trees or shrubs having showy white flowers and edible blue-black or purplish fruit', 'hypernym', 'shrub, NN -- a low woody perennial plant usually having several major stems']\n",
      "['jackson, NN -- English film actress who later became a member of British Parliament (born in 1936)', 'instance hypernym', 'actress, NN -- a female actor']\n",
      "['precedent, NN -- an example that is used to justify similar occurrences at a later time', 'derivationally related form', 'predate, VB -- be earlier in time']\n",
      "['war machine, NN -- the military forces of a nation', 'hypernym', 'personnel, NN -- group of people willing to obey orders']\n",
      "['voting system, NN -- a legal system for making democratic choices', 'synset domain topic of', 'law, NN -- the collection of rules imposed by authority']\n",
      "['motown, NN -- the largest city in Michigan and a major Great Lakes port', 'instance hypernym', 'port, NN -- a place (seaport or airport) where people and merchandise can enter or leave a country']\n",
      "['seasnail, NN -- any of several creeping marine gastropods with a spirally coiled shell: whelks', 'hypernym', 'univalve, NN -- a class of mollusks typically having a one-piece coiled shell and flattened muscular foot with a head bearing stalked eyes']\n",
      "['video, NN -- broadcasting visual images of stationary or moving objects', 'has part', 'sound, NN -- the audible part of a transmitted signal']\n",
      "['impairment, NN -- a symptom of reduced quality or strength', 'derivationally related form', 'drop, VB -- grow worse']\n",
      "['colloquialism, NN -- a colloquial expression', 'member of domain usage', 'townee, NN -- townsman unacquainted with country life especially a slick and flashy male city dweller']\n",
      "['jab, NN -- the act of touching someone suddenly with your finger or elbow', 'derivationally related form', 'stab, VB -- poke or thrust abruptly']\n",
      "['shop clerk, NN -- a salesperson in a store', 'derivationally related form', 'clerkship, NN -- the job of clerk']\n",
      "['cuculiform bird, NN -- birds having zygodactyl feet (except for the touracos)', 'hypernym', 'bird, NN -- warm-blooded egg-laying vertebrates characterized by feathers and forelimbs modified as wings']\n",
      "['unmanageableness, NN -- the trait of being unmanageable', 'hypernym', 'intractableness, NN -- the trait of being hard to influence or control']\n",
      "['vesiculate, VB -- cause to become vesicular or full of air cells', 'hypernym', 'modify, VB -- cause to change']\n",
      "['skid, VB -- slide without control', 'derivationally related form', 'slip, NN -- an unexpected slide']\n",
      "['eucalyptus tree, NN -- a tree of the genus Eucalyptus', 'hypernym', 'gum tree, NN -- any of various trees of the genera Eucalyptus or Liquidambar or Nyssa that are sources of gum']\n",
      "['microscope, NN -- magnifier of the image of small objects', 'hypernym', 'magnifier, NN -- a scientific instrument that magnifies an image']\n",
      "['tenderize, VB -- make tender or more tender as by marinating, pounding, or applying a tenderizer', 'derivationally related form', 'tender, JJ -- easy to cut or chew']\n",
      "['pritzelago, NN -- chamois cress', 'hypernym', 'dilleniid dicot genus, NN -- genus of more or less advanced dicotyledonous trees and shrubs and herbs']\n",
      "['family room, NN -- a recreation room in a private house', 'hypernym', 'recreation room, NN -- a room equipped for informal entertaining']\n",
      "['treat, VB -- act on verbally or in some form of artistic expression', 'verb group', 'encompass, VB -- include in scope']\n",
      "['kilohertz, NN -- one thousand periods per second', 'has part', 'hz, NN -- the unit of frequency']\n",
      "['want, NN -- the state of needing something that is absent or unavailable', 'derivationally related form', 'offer, VB -- make available for sale']\n",
      "['coriolis effect, NN -- (physics) an effect whereby a body moving in a rotating frame of reference experiences the Coriolis force acting perpendicular to the direction of motion and to the axis of rotation', 'synset domain topic of', 'physics, NN -- the science of matter and energy and their interactions']\n",
      "['practitioner, NN -- someone who practices a learned profession', 'hypernym', 'professional person, NN -- a person engaged in one of the learned professions']\n",
      "[\"thirty years' war, NN -- a series of conflicts (1618-1648) between Protestants and Catholics starting in Germany and spreading until France and Denmark and Sweden were opposing the Holy Roman Empire and Spain\", 'instance hypernym', 'warfare, NN -- the waging of armed conflict against an enemy']\n",
      "['viscount st. albans, NN -- English statesman and philosopher', 'instance hypernym', 'philosopher, NN -- a specialist in philosophy']\n"
     ]
    }
   ],
   "source": [
    "for id in range(500):\n",
    "    print(mapTriple(data['train'][id], aliases_dict))"
   ]
  },
  {
   "cell_type": "code",
   "execution_count": 80,
   "id": "55b0059b",
   "metadata": {},
   "outputs": [
    {
     "data": {
      "text/plain": [
       "86835"
      ]
     },
     "execution_count": 80,
     "metadata": {},
     "output_type": "execute_result"
    }
   ],
   "source": [
    "len(data['train'])"
   ]
  },
  {
   "cell_type": "code",
   "execution_count": 81,
   "id": "dec20bbe",
   "metadata": {},
   "outputs": [],
   "source": [
    "out_folder = dest_folder\n",
    "splits = ['train', 'test', 'valid']\n",
    "\n",
    "count = 0\n",
    "for split in splits:\n",
    "    fname = os.path.join(out_folder, split + '.txt')\n",
    "    f = open(fname, 'w')\n",
    "    triples = data[split]\n",
    "    for t in triples:\n",
    "        \n",
    "        t = mapTriple(t, aliases_dict)\n",
    "        # only save those that DO NOT start with m. or g.\n",
    "        # we can do that since aim is KGQA not KGC\n",
    "        head, relation, tail = t\n",
    "        input = 'predict tail: {0} | {1}'.format(head, relation)\n",
    "        output = '{}'.format(tail)\n",
    "        f.write(input + '\\t' + output + '\\n')\n",
    "        \n",
    "        input = 'predict head: {0} | {1}'.format(tail, relation)\n",
    "        output = '{}'.format(head)\n",
    "        f.write(input + '\\t' + output + '\\n')\n",
    "    f.close()"
   ]
  },
  {
   "cell_type": "code",
   "execution_count": 82,
   "id": "9c498634",
   "metadata": {},
   "outputs": [
    {
     "data": {
      "text/plain": [
       "0"
      ]
     },
     "execution_count": 82,
     "metadata": {},
     "output_type": "execute_result"
    }
   ],
   "source": [
    "count"
   ]
  },
  {
   "cell_type": "code",
   "execution_count": 84,
   "id": "91b1d75f",
   "metadata": {},
   "outputs": [
    {
     "data": {
      "text/plain": [
       "40943"
      ]
     },
     "execution_count": 84,
     "metadata": {},
     "output_type": "execute_result"
    }
   ],
   "source": [
    "entity_names = set()\n",
    "for key, value in aliases_dict.items():\n",
    "#     if key.startswith('Q'):\n",
    "    entity_names.add(value)\n",
    "len(entity_names)"
   ]
  },
  {
   "cell_type": "code",
   "execution_count": null,
   "id": "92575495",
   "metadata": {},
   "outputs": [],
   "source": []
  },
  {
   "cell_type": "code",
   "execution_count": 85,
   "id": "483eab98",
   "metadata": {},
   "outputs": [],
   "source": [
    "# create entity_strings.txt which is needed in evaluation code\n",
    "strings_file_name = 'entity_strings.txt'\n",
    "f = open(os.path.join(out_folder, strings_file_name), 'w')\n",
    "ents_uniq = entity_names\n",
    "for e in ents_uniq:\n",
    "    f.write(e + '\\n')\n",
    "f.close()"
   ]
  },
  {
   "cell_type": "code",
   "execution_count": 99,
   "id": "92b98056",
   "metadata": {},
   "outputs": [],
   "source": [
    "# webqsp qa \n",
    "# def readQALines(fname):\n",
    "#     f = open(fname)\n",
    "#     questions = []\n",
    "#     for line in f:\n",
    "#         line = line.strip().split('\\t')\n",
    "#         q = line[0]\n",
    "#         lhs = q.split('[')[0]\n",
    "#         rhs = q.split(']')[1]\n",
    "#         only_question = lhs + 'NE' + rhs\n",
    "#         only_question = normalizeEntity(only_question)\n",
    "# #         q = q.replace('[', '')\n",
    "# #         q = q.replace(']', '')\n",
    "# #         q = normalizeEntity(q)\n",
    "#         questions.append(only_question)\n",
    "#     return questions\n",
    "        \n",
    "# def writeLines(lines, fname):\n",
    "#     f = open(fname, 'w')\n",
    "#     for line in lines:\n",
    "#         f.write(line + '\\n')\n"
   ]
  },
  {
   "cell_type": "code",
   "execution_count": 122,
   "id": "7c0446cc",
   "metadata": {},
   "outputs": [],
   "source": []
  },
  {
   "cell_type": "code",
   "execution_count": 103,
   "id": "b9f40016",
   "metadata": {},
   "outputs": [
    {
     "data": {
      "text/plain": [
       "'what character did natalie portman play in star wars NE'"
      ]
     },
     "execution_count": 103,
     "metadata": {},
     "output_type": "execute_result"
    }
   ],
   "source": []
  },
  {
   "cell_type": "code",
   "execution_count": 81,
   "id": "7cd8116f",
   "metadata": {},
   "outputs": [],
   "source": [
    "# fname = 'data/MetaQA/full_qa.txt'\n",
    "# questions = readQALines(fname)\n",
    "# questions = list(set(questions))"
   ]
  },
  {
   "cell_type": "code",
   "execution_count": 82,
   "id": "31ccafbc",
   "metadata": {},
   "outputs": [],
   "source": [
    "# fname = 'data/MetaQA/only_questions_text.txt'\n",
    "# writeLines(questions, fname)"
   ]
  },
  {
   "cell_type": "code",
   "execution_count": 138,
   "id": "8a8e6782",
   "metadata": {},
   "outputs": [],
   "source": [
    "vocab_size = 30000\n",
    "sp = spm.SentencePieceTrainer.train(input='data/fbwq_half/train.txt', \n",
    "                                    model_prefix='fbwq_with_pad', vocab_size=vocab_size, \n",
    "                                    pad_id=3,\n",
    "#                                     character_coverage=1.0,\n",
    "#                                user_defined_symbols=['predict',\n",
    "#                                                     'head',\n",
    "#                                                     'tail',\n",
    "#                                                     '|'],\n",
    "#                                     normalization_rule_name='identity',\n",
    "                              )"
   ]
  },
  {
   "cell_type": "code",
   "execution_count": 139,
   "id": "c2256ddf",
   "metadata": {},
   "outputs": [],
   "source": [
    "# sp = spm.SentencePieceProcessor(model_file='data/sentencepiece/metaqa_with_pad.model')\n",
    "sp = spm.SentencePieceProcessor(model_file='fbwq_with_pad.model')"
   ]
  },
  {
   "cell_type": "code",
   "execution_count": 38,
   "id": "8e3aa571",
   "metadata": {},
   "outputs": [
    {
     "data": {
      "text/plain": [
       "0"
      ]
     },
     "execution_count": 38,
     "metadata": {},
     "output_type": "execute_result"
    }
   ],
   "source": [
    "# sp['Obama']"
   ]
  },
  {
   "cell_type": "code",
   "execution_count": 151,
   "id": "ba0b22e2",
   "metadata": {},
   "outputs": [
    {
     "data": {
      "text/plain": [
       "'how old'"
      ]
     },
     "execution_count": 151,
     "metadata": {},
     "output_type": "execute_result"
    }
   ],
   "source": [
    "sp.decode(sp.encode('how old'))"
   ]
  },
  {
   "cell_type": "code",
   "execution_count": 192,
   "id": "2c83c7a2",
   "metadata": {},
   "outputs": [
    {
     "data": {
      "text/plain": [
       "[5, 0, 12497, 0]"
      ]
     },
     "execution_count": 192,
     "metadata": {},
     "output_type": "execute_result"
    }
   ],
   "source": [
    "sp.encode('<pad>')"
   ]
  },
  {
   "cell_type": "code",
   "execution_count": 195,
   "id": "dc8aa35e",
   "metadata": {},
   "outputs": [
    {
     "data": {
      "text/plain": [
       "2"
      ]
     },
     "execution_count": 195,
     "metadata": {},
     "output_type": "execute_result"
    }
   ],
   "source": [
    "sp['</s>']"
   ]
  },
  {
   "cell_type": "code",
   "execution_count": 193,
   "id": "0b28dd64",
   "metadata": {},
   "outputs": [
    {
     "data": {
      "text/plain": [
       "'<pad>'"
      ]
     },
     "execution_count": 193,
     "metadata": {},
     "output_type": "execute_result"
    }
   ],
   "source": [
    "sp.id_to_piece(3)"
   ]
  },
  {
   "cell_type": "code",
   "execution_count": 176,
   "id": "30733281",
   "metadata": {},
   "outputs": [
    {
     "name": "stderr",
     "output_type": "stream",
     "text": [
      "100%|██████████| 1712213/1712213 [00:18<00:00, 91029.72it/s] \n"
     ]
    },
    {
     "data": {
      "text/plain": [
       "0"
      ]
     },
     "execution_count": 176,
     "metadata": {},
     "output_type": "execute_result"
    }
   ],
   "source": [
    "lengths = []\n",
    "count = 0\n",
    "for e in tqdm(ents_uniq):\n",
    "    encoded = sp.encode(e)\n",
    "    l = len(encoded)\n",
    "    if l > 500:\n",
    "        print(e,l)\n",
    "        l = 20\n",
    "        count += 1\n",
    "    lengths.append(l)\n",
    "count"
   ]
  },
  {
   "cell_type": "code",
   "execution_count": 177,
   "id": "8055bc10",
   "metadata": {
    "scrolled": false
   },
   "outputs": [
    {
     "data": {
      "text/plain": [
       "Text(0.5, 0, 'Tokenized lengths')"
      ]
     },
     "execution_count": 177,
     "metadata": {},
     "output_type": "execute_result"
    },
    {
     "data": {
      "image/png": "[encoded data removed]",
      "text/plain": [
       "<Figure size 432x288 with 1 Axes>"
      ]
     },
     "metadata": {
      "needs_background": "light"
     },
     "output_type": "display_data"
    }
   ],
   "source": [
    "import matplotlib.pyplot as plt \n",
    "\n",
    "import numpy as np \n",
    "\n",
    "%matplotlib inline\n",
    "\n",
    "# x = np.random.normal(size = 1000) \n",
    "x = lengths\n",
    "plt.hist(x, bins=30) \n",
    "\n",
    "plt.ylabel('Num entities');\n",
    "plt.xlabel('Tokenized lengths')"
   ]
  },
  {
   "cell_type": "code",
   "execution_count": 190,
   "id": "afd66461",
   "metadata": {},
   "outputs": [
    {
     "name": "stderr",
     "output_type": "stream",
     "text": [
      "100%|██████████| 1068/1068 [00:00<00:00, 41292.34it/s]"
     ]
    },
    {
     "name": "stdout",
     "output_type": "stream",
     "text": [
      "astronomical objects discovered\n",
      "astronomical objects discovered reverse\n",
      "sewage treatment plant\n",
      "sewage treatment plant reverse\n",
      "infidelity perpetrator reverse\n",
      "substance abuse reverse\n",
      "lifetime batting statistics reverse\n",
      "sponsored by reverse\n",
      "substance abuse problems reverse\n",
      "appears in these fictional universes reverse\n",
      "jurisdiction of office reverse\n",
      "body this is a component of reverse\n",
      "politicians in this party reverse\n",
      "websites owned reverse\n",
      "tropical cyclone season reverse\n",
      "olympics hosted reverse\n",
      "types of places of worship reverse\n",
      "athletic performances reverse\n",
      "mode of transportation reverse\n",
      "appeared in tv episodes reverse\n",
      "episodes appeared in reverse\n"
     ]
    },
    {
     "name": "stderr",
     "output_type": "stream",
     "text": [
      "\n"
     ]
    },
    {
     "data": {
      "text/plain": [
       "21"
      ]
     },
     "execution_count": 190,
     "metadata": {},
     "output_type": "execute_result"
    }
   ],
   "source": [
    "lengths = []\n",
    "count = 0\n",
    "for e in tqdm(relations):\n",
    "    encoded = sp.encode(relation_map[e])\n",
    "    l = len(encoded)\n",
    "    if l > 10:\n",
    "        print(relation_map[e])\n",
    "        count +=1\n",
    "    lengths.append(l)\n",
    "count"
   ]
  },
  {
   "cell_type": "code",
   "execution_count": 186,
   "id": "b5462fd9",
   "metadata": {},
   "outputs": [
    {
     "data": {
      "text/plain": [
       "Text(0.5, 0, 'Tokenized lengths')"
      ]
     },
     "execution_count": 186,
     "metadata": {},
     "output_type": "execute_result"
    },
    {
     "data": {
      "image/png": "[encoded data removed]",
      "text/plain": [
       "<Figure size 432x288 with 1 Axes>"
      ]
     },
     "metadata": {
      "needs_background": "light"
     },
     "output_type": "display_data"
    }
   ],
   "source": [
    "import matplotlib.pyplot as plt \n",
    "\n",
    "import numpy as np \n",
    "\n",
    "%matplotlib inline\n",
    "\n",
    "# x = np.random.normal(size = 1000) \n",
    "x = lengths\n",
    "plt.hist(x, bins=30) \n",
    "\n",
    "plt.ylabel('Num entities');\n",
    "plt.xlabel('Tokenized lengths')"
   ]
  },
  {
   "cell_type": "code",
   "execution_count": 191,
   "id": "51a339bd",
   "metadata": {},
   "outputs": [
    {
     "data": {
      "text/plain": [
       "[167, 10, 96]"
      ]
     },
     "execution_count": 191,
     "metadata": {},
     "output_type": "execute_result"
    }
   ],
   "source": [
    "sp.encode('plays for')"
   ]
  },
  {
   "cell_type": "code",
   "execution_count": 104,
   "id": "be1d15cf",
   "metadata": {},
   "outputs": [
    {
     "data": {
      "text/plain": [
       "1880592"
      ]
     },
     "execution_count": 104,
     "metadata": {},
     "output_type": "execute_result"
    }
   ],
   "source": [
    "len(uniq_ent_map)"
   ]
  },
  {
   "cell_type": "code",
   "execution_count": 143,
   "id": "023dc021",
   "metadata": {},
   "outputs": [],
   "source": [
    "def replaceEntities(line, aliases_dict):\n",
    "    line = line.strip().split('\\t')\n",
    "    q = line[0]\n",
    "    # sometimes no answer\n",
    "    if len(line) > 1:\n",
    "        answers= line[1].split('|')\n",
    "    else:\n",
    "        answers = []    \n",
    "    lhs = q.split('[')[0]\n",
    "    rhs = q.split(']')[1]\n",
    "    head_id = q.split('[')[1].split(']')[0]\n",
    "    if head_id in aliases_dict:\n",
    "        head_text = aliases_dict[head_id]\n",
    "    else:\n",
    "        head_text = head_id\n",
    "        print(head_text + ' not found')\n",
    "    answers_text = []\n",
    "    for a in answers:\n",
    "        if a in aliases_dict:\n",
    "            answers_text.append(aliases_dict[a])\n",
    "        else:\n",
    "            answers_text.append(a)\n",
    "    answers_string = '|'.join(answers_text)\n",
    "    \n",
    "    out = '{lhs}[{head}]{rhs}\\t{ans}'.format(\n",
    "        lhs=lhs,\n",
    "        rhs=rhs,\n",
    "        head = head_text,\n",
    "        ans = answers_string\n",
    "    )\n",
    "    return out\n",
    "        \n",
    "def readLines(fname):\n",
    "    f = open(fname)\n",
    "    lines = []\n",
    "    for line in f:\n",
    "        lines.append(line.rstrip())\n",
    "    f.close()\n",
    "    return lines\n",
    "\n",
    "def writeLines(lines, fname):\n",
    "    f = open(fname, 'w')\n",
    "    for line in lines:\n",
    "        f.write(line + '\\n')\n",
    "    f.close()"
   ]
  },
  {
   "cell_type": "code",
   "execution_count": 137,
   "id": "f67a0b09",
   "metadata": {},
   "outputs": [],
   "source": [
    "# need to make qa data as well, since entity aliases need to be used\n",
    "# and not just entity ids as answers\n",
    "fname = '/scratche/home/apoorv/EmbedKGQA/data/QA_data/WebQuestionsSP/qa_test_webqsp_fixed.txt'\n",
    "questions = readLines(fname)\n"
   ]
  },
  {
   "cell_type": "code",
   "execution_count": 138,
   "id": "53a73429",
   "metadata": {},
   "outputs": [
    {
     "data": {
      "text/plain": [
       "'what did james k polk do before he was president [m.042f1]\\tm.02_bcst|m.04x_n9q|m.0cgqx'"
      ]
     },
     "execution_count": 138,
     "metadata": {},
     "output_type": "execute_result"
    }
   ],
   "source": [
    "questions[1]"
   ]
  },
  {
   "cell_type": "code",
   "execution_count": 144,
   "id": "62983ae2",
   "metadata": {},
   "outputs": [
    {
     "name": "stdout",
     "output_type": "stream",
     "text": [
      "m.02vkmj9 not found\n"
     ]
    }
   ],
   "source": [
    "lines_with_entities = [replaceEntities(q, uniq_ent_map) for q in questions]"
   ]
  },
  {
   "cell_type": "code",
   "execution_count": 145,
   "id": "dd205992",
   "metadata": {},
   "outputs": [
    {
     "data": {
      "text/plain": [
       "1639"
      ]
     },
     "execution_count": 145,
     "metadata": {},
     "output_type": "execute_result"
    }
   ],
   "source": [
    "len(lines_with_entities)"
   ]
  },
  {
   "cell_type": "code",
   "execution_count": 146,
   "id": "1372b3d0",
   "metadata": {},
   "outputs": [
    {
     "data": {
      "text/plain": [
       "['what does jamaican people speak [Jamaica 1]\\tJamaican English|Jamaican Creole English Langua|Jamaican English',\n",
       " 'what did james k polk do before he was president [James K. Polk]\\tUnited States Representative|Governor of Tennessee|Speaker of the United States H',\n",
       " 'who plays ken barlow in coronation street [Coronation Street]\\tWilliam Roache',\n",
       " 'where is jamarcus russell from [JaMarcus Russell]\\tMobile 0',\n",
       " 'where was george washington carver from [George Washington Carver]\\tDiamond 8',\n",
       " 'what else did ben franklin invent [Benjamin Franklin]\\tLightning rod|Bifocals|Glass harmonica|Franklin stove',\n",
       " 'who was richard nixon married to [Richard Nixon]\\tPat Nixon',\n",
       " 'who is governor of ohio 2011 [Ohio 2]\\tJohn Kasich|Return J. Meigs, Jr.|Ted Strickland',\n",
       " 'who was vice president after kennedy died [John F. Kennedy 0]\\tLyndon B. Johnson 1',\n",
       " 'where is the fukushima daiichi nuclear plant located [Fukushima Daiichi Nuclear Powe]\\tJapan 1|Okuma']"
      ]
     },
     "execution_count": 146,
     "metadata": {},
     "output_type": "execute_result"
    }
   ],
   "source": [
    "lines_with_entities[:10]"
   ]
  },
  {
   "cell_type": "code",
   "execution_count": 148,
   "id": "dc01e9dd",
   "metadata": {},
   "outputs": [],
   "source": [
    "fname = 'data/fbwq_half/qa_valid_1hop.txt'\n",
    "writeLines(lines_with_entities, fname)"
   ]
  },
  {
   "cell_type": "code",
   "execution_count": null,
   "id": "a3bed453",
   "metadata": {},
   "outputs": [],
   "source": []
  }
 ],
 "metadata": {
  "kernelspec": {
   "display_name": "Python 3 (ipykernel)",
   "language": "python",
   "name": "python3"
  },
  "language_info": {
   "codemirror_mode": {
    "name": "ipython",
    "version": 3
   },
   "file_extension": ".py",
   "mimetype": "text/x-python",
   "name": "python",
   "nbconvert_exporter": "python",
   "pygments_lexer": "ipython3",
   "version": "3.8.11"
  }
 },
 "nbformat": 4,
 "nbformat_minor": 5
}

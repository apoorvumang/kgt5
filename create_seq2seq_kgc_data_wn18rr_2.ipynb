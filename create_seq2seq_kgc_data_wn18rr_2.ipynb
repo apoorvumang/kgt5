{
 "cells": [
  {
   "cell_type": "code",
   "execution_count": 1,
   "id": "6294b12f",
   "metadata": {},
   "outputs": [],
   "source": [
    "import os\n",
    "import pickle\n",
    "from tqdm import tqdm\n",
    "import sentencepiece as spm"
   ]
  },
  {
   "cell_type": "code",
   "execution_count": 2,
   "id": "66554ebd",
   "metadata": {},
   "outputs": [
    {
     "name": "stdout",
     "output_type": "stream",
     "text": [
      "dataset.yaml\t    test.txt\t\t     valid.del\r\n",
      "entity_ids.del\t    test_without_unseen.del  valid.txt\r\n",
      "entity_strings.del  train.del\t\t     valid_without_unseen.del\r\n",
      "relation_ids.del    train_sample.del\r\n",
      "test.del\t    train.txt\r\n"
     ]
    }
   ],
   "source": [
    "source_folder = '/scratche/home/apoorv/repos/probe_kge/data/wnrr'\n",
    "! ls {source_folder}"
   ]
  },
  {
   "cell_type": "code",
   "execution_count": 3,
   "id": "59e18046",
   "metadata": {},
   "outputs": [],
   "source": [
    "def readTriples(fname):\n",
    "    f = open(fname)\n",
    "    triples = []\n",
    "    for line in f:\n",
    "        if line[-1] == '\\n':\n",
    "            line = line[:-1]\n",
    "        triples.append(line.split('\\t'))\n",
    "    f.close()\n",
    "    return triples"
   ]
  },
  {
   "cell_type": "code",
   "execution_count": 4,
   "id": "aa327398",
   "metadata": {},
   "outputs": [],
   "source": [
    "data = {}\n",
    "splits = ['train', 'test', 'valid']\n",
    "for split in splits:\n",
    "    fname = os.path.join(source_folder, split + '.txt')\n",
    "    data[split] = readTriples(fname)"
   ]
  },
  {
   "cell_type": "code",
   "execution_count": 5,
   "id": "da7e6850",
   "metadata": {},
   "outputs": [
    {
     "data": {
      "text/plain": [
       "['09429387', '_hypernym', '09385911']"
      ]
     },
     "execution_count": 5,
     "metadata": {},
     "output_type": "execute_result"
    }
   ],
   "source": [
    "data['train'][5000]"
   ]
  },
  {
   "cell_type": "code",
   "execution_count": 6,
   "id": "43313580",
   "metadata": {},
   "outputs": [
    {
     "data": {
      "text/plain": [
       "86835"
      ]
     },
     "execution_count": 6,
     "metadata": {},
     "output_type": "execute_result"
    }
   ],
   "source": [
    "len(data['train'])"
   ]
  },
  {
   "cell_type": "code",
   "execution_count": 7,
   "id": "4de2b491",
   "metadata": {},
   "outputs": [
    {
     "data": {
      "text/plain": [
       "31881"
      ]
     },
     "execution_count": 7,
     "metadata": {},
     "output_type": "execute_result"
    }
   ],
   "source": [
    "uniq_tails = set()\n",
    "for t in data['train']:\n",
    "    uniq_tails.add(t[2])\n",
    "len(uniq_tails)"
   ]
  },
  {
   "cell_type": "code",
   "execution_count": 9,
   "id": "641113ab",
   "metadata": {},
   "outputs": [],
   "source": [
    "def getPOS(name):\n",
    "    return name[2:].split('_')[-2]\n",
    "\n",
    "def processDefinition(definition):\n",
    "    if '\\\"' in definition and ':' in definition:\n",
    "        out = definition.split(':')[0]\n",
    "    if ';' in definition:\n",
    "        out = definition.split(';')[0]\n",
    "    else:\n",
    "        out = definition\n",
    "    return out\n",
    "\n",
    "def getAlias(name, definition):\n",
    "    pos = getPOS(name)\n",
    "    name = ' '.join(name[2:].split('_')[:-2])\n",
    "    definition = processDefinition(definition)\n",
    "    out = name + ', ' + pos + ' -- ' + definition\n",
    "    return out"
   ]
  },
  {
   "cell_type": "code",
   "execution_count": 23,
   "id": "e3b6f473",
   "metadata": {},
   "outputs": [],
   "source": [
    "dest_folder = '/scratche/home/apoorv/transformer-kgc/data/wnrr'\n",
    "aliases_dict = {}\n",
    "# fname = os.path.join(dest_folder, 'wn-entity2text-new.txt')\n",
    "fname = os.path.join(dest_folder, 'wordnet-mlj12-definitions.txt')\n",
    "ent_names = []\n",
    "definitions = []\n",
    "aliases_set = set()\n",
    "f = open(fname)\n",
    "for line in f:\n",
    "    line = line.rstrip().split('\\t')\n",
    "    name = line[1][2:].replace('_', ' ')\n",
    "    ent_names.append(name)\n",
    "    alias = name\n",
    "    if alias in aliases_set:\n",
    "        print(line, alias)\n",
    "        alias = alias + ' 2'\n",
    "    else:\n",
    "        aliases_set.add(alias)\n",
    "    aliases_dict[line[0]] = alias\n",
    "f.close()"
   ]
  },
  {
   "cell_type": "code",
   "execution_count": 24,
   "id": "03f674ae",
   "metadata": {},
   "outputs": [
    {
     "data": {
      "text/plain": [
       "(40943, 40943)"
      ]
     },
     "execution_count": 24,
     "metadata": {},
     "output_type": "execute_result"
    }
   ],
   "source": [
    "len(aliases_dict), len(set(aliases_dict.values()))"
   ]
  },
  {
   "cell_type": "code",
   "execution_count": 25,
   "id": "6e6189bf",
   "metadata": {},
   "outputs": [
    {
     "name": "stdout",
     "output_type": "stream",
     "text": [
      "stool NN 2\n",
      "chieftainship NN 1\n",
      "saxony NN 1\n",
      "ondatra zibethica NN 1\n",
      "founder VB 2\n",
      "rose campion NN 1\n",
      "enjoyment NN 1\n",
      "german shepherd dog NN 1\n",
      "quilt VB 1\n",
      "wake island NN 1\n",
      "raise VB 8\n",
      "admiralty NN 1\n",
      "opener NN 3\n",
      "watchman NN 1\n",
      "reducing NN 2\n",
      "twaddle VB 1\n",
      "yodel NN 1\n",
      "apostolic delegate NN 1\n",
      "exhilaration NN 1\n",
      "latticework NN 1\n",
      "lifer NN 1\n",
      "mandragora NN 1\n",
      "bit NN 6\n",
      "dispraise NN 1\n",
      "genus bletia NN 1\n",
      "silicon valley NN 1\n",
      "rush VB 2\n",
      "placodermi NN 1\n",
      "idolization NN 1\n",
      "rhincodontidae NN 1\n",
      "taurotragus NN 1\n",
      "saddam's martyrs NN 1\n",
      "otariidae NN 1\n",
      "preachification NN 1\n",
      "vena peroneus NN 1\n",
      "webb NN 2\n",
      "sledgehammer NN 1\n",
      "shipyard NN 1\n",
      "adequateness NN 1\n",
      "third estate NN 1\n",
      "redoubt NN 1\n",
      "freewheeler NN 1\n",
      "union representative NN 1\n",
      "sundacarpus NN 1\n",
      "baffle board NN 1\n",
      "squat VB 1\n",
      "jacaranda NN 1\n",
      "genus cheiranthus NN 1\n",
      "supposition NN 3\n",
      "st. lucia NN 1\n",
      "wind VB 4\n",
      "pyrrhula NN 1\n",
      "slezsko NN 1\n",
      "ramble NN 1\n",
      "lobularity NN 1\n",
      "family bacteroidaceae NN 1\n",
      "leaf beetle NN 1\n",
      "school year NN 1\n",
      "papal nuncio NN 1\n",
      "talwin NN 1\n",
      "allometry NN 1\n",
      "uterine cervix NN 1\n",
      "midwestern united states NN 1\n",
      "run up VB 2\n",
      "obadiah NN 2\n",
      "hemophilia a NN 1\n",
      "paridae NN 1\n",
      "family crangonidae NN 1\n",
      "excite VB 8\n",
      "surgical contraception NN 1\n",
      "the alps NN 1\n",
      "privatization NN 1\n",
      "spade VB 1\n",
      "propellent NN 1\n",
      "podicipitiformes NN 1\n",
      "odocoileus hemionus columbianus NN 1\n",
      "noise NN 4\n",
      "fate VB 1\n",
      "no-account NN 1\n",
      "staff officer NN 1\n",
      "credible JJ 1\n",
      "trench NN 1\n",
      "psyche NN 1\n",
      "mutation NN 2\n",
      "rabat NN 1\n",
      "strongbox NN 1\n",
      "robert nesta marley NN 1\n",
      "sudan NN 1\n",
      "symphalangus NN 1\n",
      "psephurus NN 1\n",
      "victor hugo NN 1\n",
      "mycosis NN 1\n",
      "maltster NN 1\n",
      "grownup NN 1\n",
      "manchuria NN 1\n",
      "bush pea NN 1\n",
      "flame nettle NN 1\n",
      "ticker NN 1\n",
      "sealer NN 1\n",
      "rhexia NN 1\n"
     ]
    }
   ],
   "source": [
    "count = 0\n",
    "for k, v in aliases_dict.items():\n",
    "    print(v)\n",
    "    count += 1\n",
    "    if count == 100:\n",
    "        break"
   ]
  },
  {
   "cell_type": "code",
   "execution_count": 26,
   "id": "e62466c4",
   "metadata": {},
   "outputs": [],
   "source": [
    "def triple2text(t):\n",
    "    global aliases_dict\n",
    "    rel = ' '.join(t[1][1:].split('_'))\n",
    "    out = [aliases_dict[t[0]], rel, aliases_dict[t[2]]]\n",
    "    return out"
   ]
  },
  {
   "cell_type": "code",
   "execution_count": 27,
   "id": "c13734be",
   "metadata": {},
   "outputs": [
    {
     "name": "stdout",
     "output_type": "stream",
     "text": [
      "['genus equisetum NN 1', 'hypernym', 'fern genus NN 1']\n",
      "['write VB 1', 'also see', 'write up VB 2']\n",
      "['queen regnant NN 1', 'hypernym', 'female aristocrat NN 1']\n",
      "['working dog NN 1', 'hypernym', 'domestic dog NN 1']\n",
      "['charge NN 11', 'hypernym', 'request NN 2']\n",
      "['primulaceae NN 1', 'member meronym', 'glaux NN 1']\n",
      "['proteaceae NN 1', 'member meronym', 'green dinosaur NN 1']\n",
      "['lodge VB 4', 'derivationally related form', 'accommodation NN 4']\n",
      "['surmounter NN 1', 'hypernym', 'restrainer NN 2']\n",
      "['piciformes NN 1', 'hypernym', 'animal order NN 1']\n"
     ]
    }
   ],
   "source": [
    "for t in data['train'][10:20]:\n",
    "    print(triple2text(t))"
   ]
  },
  {
   "cell_type": "code",
   "execution_count": 28,
   "id": "9c5a6612",
   "metadata": {},
   "outputs": [],
   "source": [
    "from transformers import T5TokenizerFast\n",
    "tokenizer = T5TokenizerFast.from_pretrained('t5-small')"
   ]
  },
  {
   "cell_type": "code",
   "execution_count": 29,
   "id": "a016af3e",
   "metadata": {},
   "outputs": [
    {
     "data": {
      "application/vnd.jupyter.widget-view+json": {
       "model_id": "ad07adcc531f49aba552cb5929d99acd",
       "version_major": 2,
       "version_minor": 0
      },
      "text/plain": [
       "HBox(children=(FloatProgress(value=0.0, max=40943.0), HTML(value='')))"
      ]
     },
     "metadata": {},
     "output_type": "display_data"
    },
    {
     "name": "stdout",
     "output_type": "stream",
     "text": [
      "\n"
     ]
    }
   ],
   "source": [
    "from tqdm.notebook import tqdm\n",
    "lengths = []\n",
    "for k, v in tqdm(aliases_dict.items()):\n",
    "    x = tokenizer(v)\n",
    "    lengths.append(len(x['input_ids']))"
   ]
  },
  {
   "cell_type": "code",
   "execution_count": 30,
   "id": "8dd4964a",
   "metadata": {},
   "outputs": [
    {
     "data": {
      "text/plain": [
       "Text(0.5, 0, 'Tokenized lengths')"
      ]
     },
     "execution_count": 30,
     "metadata": {},
     "output_type": "execute_result"
    },
    {
     "data": {
      "image/png": "[encoded data removed]",
      "text/plain": [
       "<Figure size 432x288 with 1 Axes>"
      ]
     },
     "metadata": {
      "needs_background": "light"
     },
     "output_type": "display_data"
    }
   ],
   "source": [
    "import matplotlib.pyplot as plt \n",
    "\n",
    "import numpy as np \n",
    "\n",
    "%matplotlib inline\n",
    "\n",
    "# x = np.random.normal(size = 1000) \n",
    "x = lengths\n",
    "plt.hist(x, bins=30) \n",
    "\n",
    "plt.ylabel('Num entities');\n",
    "plt.xlabel('Tokenized lengths')"
   ]
  },
  {
   "cell_type": "code",
   "execution_count": 31,
   "id": "cfc5c4f2",
   "metadata": {},
   "outputs": [
    {
     "data": {
      "text/plain": [
       "40943"
      ]
     },
     "execution_count": 31,
     "metadata": {},
     "output_type": "execute_result"
    }
   ],
   "source": [
    "len(aliases_dict)"
   ]
  },
  {
   "cell_type": "code",
   "execution_count": 32,
   "id": "9df0713c",
   "metadata": {},
   "outputs": [],
   "source": [
    "def mapTriple(t, aliases_dict):\n",
    "    out = triple2text(t)\n",
    "    return out"
   ]
  },
  {
   "cell_type": "code",
   "execution_count": 33,
   "id": "1e84e918",
   "metadata": {},
   "outputs": [
    {
     "name": "stdout",
     "output_type": "stream",
     "text": [
      "['land reform NN 1', 'hypernym', 'reform NN 1']\n",
      "['cover VB 1', 'derivationally related form', 'covering NN 2']\n",
      "['phytology NN 1', 'derivationally related form', 'botanize VB 1']\n",
      "['kamet NN 1', 'instance hypernym', 'mountain peak NN 1']\n",
      "['question NN 1', 'derivationally related form', 'inquire VB 1']\n",
      "['class arachnida NN 1', 'derivationally related form', 'spidery JJ 1']\n",
      "['run up VB 2', 'hypernym', 'raise VB 2']\n",
      "['empathy NN 1', 'hypernym', 'sympathy NN 2']\n",
      "['pullout NN 1', 'hypernym', 'retreat NN 1']\n",
      "['variation NN 9', 'derivationally related form', 'vary VB 2']\n",
      "['genus equisetum NN 1', 'hypernym', 'fern genus NN 1']\n",
      "['write VB 1', 'also see', 'write up VB 2']\n",
      "['queen regnant NN 1', 'hypernym', 'female aristocrat NN 1']\n",
      "['working dog NN 1', 'hypernym', 'domestic dog NN 1']\n",
      "['charge NN 11', 'hypernym', 'request NN 2']\n",
      "['primulaceae NN 1', 'member meronym', 'glaux NN 1']\n",
      "['proteaceae NN 1', 'member meronym', 'green dinosaur NN 1']\n",
      "['lodge VB 4', 'derivationally related form', 'accommodation NN 4']\n",
      "['surmounter NN 1', 'hypernym', 'restrainer NN 2']\n",
      "['piciformes NN 1', 'hypernym', 'animal order NN 1']\n",
      "['chip NN 5', 'derivationally related form', 'nick VB 2']\n",
      "['traduce VB 1', 'derivationally related form', 'traducement NN 1']\n",
      "['propagator NN 2', 'derivationally related form', 'spread VB 5']\n",
      "['lacing NN 2', 'derivationally related form', 'lace up VB 1']\n",
      "['justice department NN 1', 'hypernym', 'executive department NN 1']\n",
      "['needlewood NN 1', 'hypernym', 'shrub NN 1']\n",
      "['expand VB 2', 'hypernym', 'grow VB 2']\n",
      "['sieve NN 1', 'derivationally related form', 'strain VB 4']\n",
      "['scandal NN 2', 'derivationally related form', 'shock VB 2']\n",
      "['trogium pulsatorium NN 1', 'hypernym', 'liposcelis divinatorius NN 1']\n",
      "['taiwan NN 1', 'member meronym', 'taiwanese NN 1']\n",
      "['stone facing NN 1', 'derivationally related form', 'revet VB 1']\n",
      "['striker NN 5', 'derivationally related form', 'strike VB 1']\n",
      "['hitch NN 4', 'hypernym', 'connexion NN 4']\n",
      "['pious JJ 1', 'derivationally related form', 'piousness NN 1']\n",
      "['sisyrinchium NN 1', 'hypernym', 'liliid monocot genus NN 1']\n",
      "['valency NN 2', 'synset domain topic of', 'biology NN 1']\n",
      "['panegyrist NN 1', 'derivationally related form', 'pean NN 2']\n",
      "['genus carya NN 1', 'member meronym', 'pecan tree NN 1']\n",
      "['army officer NN 1', 'hypernym', 'officer NN 1']\n",
      "['genus agathis NN 1', 'hypernym', 'gymnosperm genus NN 1']\n",
      "['ceratonia siliqua NN 1', 'has part', 'locust pod NN 1']\n",
      "['prickle-weed NN 1', 'hypernym', 'herbaceous plant NN 1']\n",
      "['manufacture VB 2', 'hypernym', 'think up VB 1']\n",
      "['abstract VB 1', 'hypernym', 'view VB 1']\n",
      "['tank VB 1', 'derivationally related form', 'tank NN 2']\n",
      "['run out VB 6', 'hypernym', 'wipe out VB 1']\n",
      "['neuter NN 1', 'derivationally related form', 'spay VB 1']\n",
      "['ethicist NN 1', 'derivationally related form', 'moral philosophy NN 1']\n",
      "['acetylation NN 1', 'derivationally related form', 'acetylize VB 1']\n",
      "['posture VB 1', 'hypernym', 'deport VB 1']\n",
      "['preparation NN 7', 'derivationally related form', 'train VB 2']\n",
      "['ethnic slur NN 1', 'member of domain usage', 'wop NN 1']\n",
      "['genus arrhenatherum NN 1', 'hypernym', 'plant genus NN 1']\n",
      "['pick at VB 3', 'derivationally related form', 'knocker NN 3']\n",
      "['fluttering NN 1', 'derivationally related form', 'wave VB 3']\n",
      "['europe NN 1', 'has part', 'republic of estonia NN 1']\n",
      "['outfit NN 3', 'derivationally related form', 'outfit VB 1']\n",
      "['intensify VB 3', 'derivationally related form', 'intensification NN 1']\n",
      "['papaya NN 2', 'hypernym', 'edible fruit NN 1']\n",
      "['casablanca NN 1', 'instance hypernym', 'urban center NN 1']\n",
      "['refer VB 1', 'derivationally related form', 'name NN 1']\n",
      "['constitutionalist NN 1', 'hypernym', 'proponent NN 1']\n",
      "['ochroma lagopus NN 1', 'hypernym', 'flowering tree NN 1']\n",
      "['adagio NN 1', 'synset domain topic of', 'music NN 1']\n",
      "['average NN 2', 'hypernym', 'ratio NN 1']\n",
      "['french republic NN 1', 'member of domain region', 'sextillion NN 1']\n",
      "['make full VB 1', 'also see', 'shade VB 2']\n",
      "['folding chair NN 1', 'has part', 'stave NN 3']\n",
      "['kilolitre NN 1', 'hypernym', 'metric capacity unit NN 1']\n",
      "['spouse NN 1', 'derivationally related form', 'pair VB 5']\n",
      "['weight VB 2', 'derivationally related form', 'slant NN 1']\n",
      "['tactician NN 1', 'derivationally related form', 'tactics NN 1']\n",
      "['announcer NN 2', 'hypernym', 'broadcaster NN 1']\n",
      "['abator NN 1', 'derivationally related form', 'slake VB 2']\n",
      "['ontology NN 1', 'hypernym', 'system NN 5']\n",
      "['water heater NN 1', 'hypernym', 'tank NN 2']\n",
      "['snip off VB 1', 'derivationally related form', 'clipper NN 4']\n",
      "['cupper NN 1', 'hypernym', 'tea NN 1']\n",
      "['phylogeny NN 1', 'derivationally related form', 'evolve VB 3']\n",
      "['prairie trefoil NN 1', 'hypernym', 'suffrutex NN 1']\n",
      "['aching NN 1', 'derivationally related form', 'suffer VB 7']\n",
      "['trust VB 5', 'derivationally related form', 'trust NN 6']\n",
      "['resumption NN 1', 'derivationally related form', 'recommence VB 2']\n",
      "['curb NN 4', 'hypernym', 'restraint NN 1']\n",
      "['appeal VB 4', 'derivationally related form', 'appeal NN 3']\n",
      "['navy yard NN 1', 'synset domain topic of', 'war machine NN 1']\n",
      "['receiving system NN 1', 'derivationally related form', 'receive VB 3']\n",
      "['touchwood NN 1', 'derivationally related form', 'kindle VB 1']\n",
      "['orientalism NN 1', 'hypernym', 'liberal arts NN 1']\n",
      "['recruiter NN 2', 'derivationally related form', 'recruit VB 3']\n",
      "['waterleaf family NN 1', 'member meronym', 'hydrophyllum NN 1']\n",
      "['leonotis NN 1', 'hypernym', 'asterid dicot genus NN 1']\n",
      "['digest VB 7', 'derivationally related form', 'optical condenser NN 1']\n",
      "['afghanistani JJ 1', 'derivationally related form', 'islamic state of afghanistan NN 1']\n",
      "['service NN 14', 'hypernym', 'upkeep NN 1']\n",
      "['soy sauce NN 1', 'hypernym', 'condiment NN 1']\n",
      "['africa NN 1', 'has part', 'republic of benin NN 1']\n",
      "['planing machine NN 1', 'derivationally related form', 'shave VB 4']\n",
      "['defense NN 3', 'hypernym', 'team NN 1']\n",
      "['oblique JJ 1', 'also see', 'convergent JJ 1']\n",
      "['paint VB 1', 'derivationally related form', 'painting NN 2']\n",
      "['manifest VB 1', 'hypernym', 'testify VB 2']\n",
      "['uvulopalatopharyngoplasty NN 1', 'hypernym', 'surgical process NN 1']\n",
      "['vitalizer NN 1', 'derivationally related form', 'vitalize VB 2']\n",
      "['meeting NN 3', 'derivationally related form', 'happen VB 5']\n",
      "['remedy VB 2', 'synset domain topic of', 'practice of medicine NN 1']\n",
      "['wheat berry NN 2', 'hypernym', 'grain NN 2']\n",
      "['reason out VB 1', 'derivationally related form', 'understanding NN 4']\n",
      "['character set NN 1', 'hypernym', 'listing NN 1']\n",
      "['onslaught NN 2', 'hypernym', 'operation NN 5']\n",
      "['right JJ 2', 'also see', 'proper JJ 1']\n",
      "['genus tamandua NN 1', 'member meronym', 'tamandua tetradactyla NN 1']\n",
      "['finance NN 2', 'hypernym', 'political economy NN 1']\n",
      "['generality NN 2', 'hypernym', 'quality NN 1']\n",
      "['expatiation NN 1', 'hypernym', 'expansion NN 3']\n",
      "['titanium NN 1', 'synset domain topic of', 'plane NN 1']\n",
      "['thrust VB 3', 'derivationally related form', 'lurch NN 4']\n",
      "['primates NN 1', 'hypernym', 'animal order NN 1']\n",
      "['shellac varnish NN 1', 'hypernym', 'varnish NN 1']\n",
      "['slow down VB 4', 'hypernym', 'modify VB 3']\n",
      "['theology NN 3', 'synset domain topic of', 'theology NN 1']\n",
      "['labial stop NN 1', 'hypernym', 'stop consonant NN 1']\n",
      "['scutigerella NN 1', 'member meronym', 'symphilid NN 1']\n",
      "['adequateness NN 1', 'derivationally related form', 'equal JJ 2']\n",
      "['composite plant NN 1', 'hypernym', 'flower NN 1']\n",
      "['morning time NN 1', 'hypernym', 'time period NN 1']\n",
      "['explicate VB 1', 'derivationally related form', 'explication NN 2']\n",
      "['suit NN 2', 'derivationally related form', 'sue VB 1']\n",
      "['john kenneth galbraith NN 1', 'instance hypernym', 'economist NN 1']\n",
      "['rome NN 1', 'member meronym', 'roman NN 1']\n",
      "['disguise NN 3', 'derivationally related form', 'camouflage VB 1']\n",
      "['sensitizing NN 1', 'hypernym', 'immunization NN 1']\n",
      "['genus antidorcas NN 1', 'hypernym', 'mammal genus NN 1']\n",
      "['finding NN 3', 'hypernym', 'physical object NN 1']\n",
      "['name NN 1', 'hypernym', 'linguistic unit NN 1']\n",
      "['followup NN 2', 'derivationally related form', 'follow up VB 2']\n",
      "['republic of india NN 1', 'has part', 'himalayas NN 1']\n",
      "['think VB 3', 'derivationally related form', 'think NN 1']\n",
      "['license VB 1', 'derivationally related form', 'license NN 2']\n",
      "['genus barbarea NN 1', 'hypernym', 'dilleniid dicot genus NN 1']\n",
      "['yellow metal NN 1', 'hypernym', 'brass NN 1']\n",
      "['play NN 16', 'hypernym', 'vice NN 2']\n",
      "['zizania NN 1', 'hypernym', 'monocot genus NN 1']\n",
      "['station NN 3', 'synset domain topic of', 'navy NN 1']\n",
      "['work VB 18', 'hypernym', 'stir VB 3']\n",
      "['side NN 3', 'synset domain topic of', 'fauna NN 2']\n",
      "['genus baphia NN 1', 'hypernym', 'rosid dicot genus NN 1']\n",
      "['impress VB 2', 'derivationally related form', 'impressive JJ 1']\n",
      "['hippoboscidae NN 1', 'hypernym', 'arthropod family NN 1']\n",
      "['underscore VB 1', 'hypernym', 'stress VB 1']\n",
      "['mastership NN 2', 'hypernym', 'spot NN 8']\n",
      "['assurance NN 4', 'hypernym', 'insurance NN 1']\n",
      "['doubling NN 2', 'derivationally related form', 'duplicate VB 4']\n",
      "['half mile NN 1', 'hypernym', 'linear unit NN 1']\n",
      "['recording machine NN 1', 'derivationally related form', 'tape VB 3']\n",
      "['merrymaking NN 1', 'hypernym', 'festivity NN 1']\n",
      "['tenant VB 1', 'hypernym', 'populate VB 1']\n",
      "['produce VB 7', 'derivationally related form', 'getting NN 1']\n",
      "['trichloromethane NN 1', 'hypernym', 'haloform NN 1']\n",
      "['job NN 4', 'hypernym', 'production NN 3']\n",
      "['dreaming NN 1', 'derivationally related form', 'woolgather VB 1']\n",
      "['lectureship NN 1', 'derivationally related form', 'lecturing NN 1']\n",
      "['inform VB 3', 'hypernym', 'inform VB 1']\n",
      "['rich JJ 7', 'derivationally related form', 'richness NN 1']\n",
      "['chlamydia NN 1', 'hypernym', \"venus's curse NN 1\"]\n",
      "['summon VB 2', 'derivationally related form', 'summoning NN 1']\n",
      "['whisperer NN 1', 'derivationally related form', 'whisper VB 1']\n",
      "['inspirer NN 1', 'derivationally related form', 'revolutionize VB 3']\n",
      "['splotch VB 1', 'hypernym', 'spot VB 4']\n",
      "['levy en masse NN 1', 'derivationally related form', 'recruit VB 3']\n",
      "['kid NN 4', 'hypernym', 'progeny NN 1']\n",
      "['stopping point NN 1', 'hypernym', 'ending NN 3']\n",
      "['want NN 1', 'hypernym', 'poverty NN 1']\n",
      "['expansive JJ 1', 'derivationally related form', 'expand VB 2']\n",
      "['turn away VB 2', 'hypernym', 'turn VB 1']\n",
      "['clipper NN 3', 'derivationally related form', 'snip off VB 1']\n",
      "['buspirone NN 1', 'hypernym', 'minor tranquillizer NN 1']\n",
      "['glareolidae NN 1', 'hypernym', 'bird family NN 1']\n",
      "['yowl NN 1', 'derivationally related form', 'yowl VB 2']\n",
      "['genus felis NN 1', 'member meronym', 'wildcat NN 3']\n",
      "['hard cider NN 1', 'hypernym', 'cyder NN 1']\n",
      "['walk VB 4', 'derivationally related form', 'zimmer frame NN 1']\n",
      "['guvnor NN 1', 'hypernym', 'hirer NN 1']\n",
      "['trust NN 4', 'hypernym', 'syndicate NN 2']\n",
      "['pars distilis NN 1', 'hypernym', 'endocrine gland NN 1']\n",
      "['rock outcrop NN 1', 'hypernym', 'stone NN 1']\n",
      "['anesthesia NN 1', 'derivationally related form', 'anesthetist NN 1']\n",
      "['vex VB 5', 'derivationally related form', 'stupefaction NN 1']\n",
      "['uphold VB 1', 'derivationally related form', 'preservation NN 2']\n",
      "['inflate VB 3', 'derivationally related form', 'rising prices NN 1']\n",
      "['refine VB 2', 'derivationally related form', 'refinement NN 2']\n",
      "['outshine VB 2', 'hypernym', 'surpass VB 2']\n",
      "['rain NN 3', 'hypernym', 'successiveness NN 1']\n",
      "['respiratory JJ 1', 'derivationally related form', 'respire VB 2']\n",
      "['empty VB 1', 'derivationally related form', 'voidance NN 1']\n",
      "['reach NN 4', 'hypernym', 'potentiality NN 2']\n",
      "['soaring NN 1', 'hypernym', 'flying NN 1']\n",
      "['physical JJ 1', 'derivationally related form', 'physicalness NN 1']\n",
      "['expedient JJ 1', 'also see', 'convenient JJ 1']\n",
      "['parti-color VB 1', 'derivationally related form', 'motley NN 3']\n",
      "['rearrangement NN 1', 'hypernym', 'transcription NN 4']\n",
      "['enclosure NN 1', 'derivationally related form', 'wrap VB 3']\n",
      "['point VB 7', 'derivationally related form', 'point NN 9']\n",
      "['remuneration NN 2', 'hypernym', 'payment NN 2']\n",
      "['parenthesis NN 2', 'derivationally related form', 'wander VB 5']\n",
      "['mouth NN 2', 'has part', 'lip NN 1']\n",
      "['family falconidae NN 1', 'member meronym', 'falcon NN 1']\n",
      "['transmutation NN 3', 'hypernym', 'modification NN 4']\n",
      "['talk over VB 1', 'hypernym', 'talk of VB 1']\n",
      "['break up VB 9', 'derivationally related form', 'breakable JJ 1']\n",
      "['quechua NN 1', 'hypernym', 'south american indian NN 1']\n",
      "['counselor NN 1', 'hypernym', 'consultant NN 1']\n",
      "['revise VB 1', 'derivationally related form', 'rewriting NN 1']\n",
      "['rat snake NN 1', 'hypernym', 'colubrid snake NN 1']\n",
      "['madam NN 1', 'hypernym', 'woman NN 1']\n",
      "['genus calvatia NN 1', 'hypernym', 'fungus genus NN 1']\n",
      "['room NN 1', 'has part', 'wall NN 1']\n",
      "['springbuck NN 1', 'hypernym', 'gazelle NN 1']\n",
      "['pill roller NN 1', 'derivationally related form', 'pharmacy NN 1']\n",
      "['sleeping NN 1', 'has part', 'dreaming NN 2']\n",
      "['ordinary JJ 1', 'also see', 'common JJ 2']\n",
      "['knock VB 3', 'hypernym', 'strike VB 3']\n",
      "['music NN 4', 'hypernym', 'sound NN 2']\n",
      "['republic of iraq NN 1', 'has part', 'asur NN 1']\n",
      "['regard VB 3', 'derivationally related form', 'involvement NN 2']\n",
      "['front bench NN 1', 'hypernym', 'seat NN 4']\n",
      "['young woman NN 1', 'derivationally related form', 'maidhood NN 1']\n",
      "['family apocynaceae NN 1', 'member meronym', 'genus allamanda NN 1']\n",
      "['protrude VB 3', 'derivationally related form', 'swelling NN 2']\n",
      "['passionate JJ 1', 'also see', 'hot JJ 3']\n",
      "['refreshen VB 1', 'derivationally related form', 'refreshment NN 2']\n",
      "['circulation NN 2', 'has part', 'blood pressure NN 1']\n",
      "['pauperize VB 1', 'derivationally related form', 'pauperization NN 2']\n",
      "['passing NN 6', 'derivationally related form', 'pass VB 7']\n",
      "['symbolizing NN 1', 'hypernym', 'figuration NN 1']\n",
      "['playing period NN 1', 'has part', 'chukker NN 1']\n",
      "['phonetician NN 1', 'hypernym', 'linguistic scientist NN 1']\n",
      "['redact VB 2', 'derivationally related form', 'rewriter NN 1']\n",
      "['advertizer NN 1', 'derivationally related form', 'push VB 3']\n",
      "['william clark gable NN 1', 'instance hypernym', 'thespian NN 1']\n",
      "['outlaw VB 1', 'derivationally related form', 'outlawry NN 1']\n",
      "['uncheerfulness NN 2', 'hypernym', 'attribute NN 2']\n",
      "['passage NN 10', 'hypernym', 'delivery NN 1']\n",
      "['reckoner NN 1', 'derivationally related form', 'work out VB 6']\n",
      "['make up VB 9', 'derivationally related form', 'war paint NN 3']\n",
      "['savvy VB 1', 'derivationally related form', 'comprehensible JJ 1']\n",
      "['truck NN 1', 'has part', 'stabilizer bar NN 1']\n",
      "['false pretense NN 1', 'hypernym', 'violation NN 1']\n",
      "['nlp NN 1', 'hypernym', 'ip NN 1']\n",
      "['natural covering NN 1', 'derivationally related form', 'spread over VB 1']\n",
      "['touch on VB 3', 'derivationally related form', 'reparation NN 3']\n",
      "['patron saint NN 1', 'hypernym', 'saint NN 1']\n",
      "['sika NN 1', 'hypernym', 'deer NN 1']\n",
      "['dictate NN 1', 'hypernym', 'rule NN 3']\n",
      "['discontented JJ 1', 'derivationally related form', 'discontentment NN 1']\n",
      "['correspondence NN 2', 'derivationally related form', 'tally VB 1']\n",
      "['ko NN 1', 'derivationally related form', 'knock out VB 2']\n",
      "['coattails effect NN 1', 'synset domain topic of', 'politics NN 2']\n",
      "['suborder passeres NN 1', 'member meronym', 'paridae NN 1']\n",
      "['sales talk NN 1', 'derivationally related form', 'vend VB 1']\n",
      "['ulex NN 1', 'member meronym', 'whin NN 1']\n",
      "['relaxer NN 1', 'derivationally related form', 'unwind VB 4']\n",
      "['snick NN 1', 'derivationally related form', 'nick VB 2']\n",
      "['individualize VB 1', 'hypernym', 'tell apart VB 2']\n",
      "['old testament NN 1', 'hypernym', 'will NN 3']\n",
      "['vulnerability NN 2', 'derivationally related form', 'vulnerable JJ 1']\n",
      "['contradiction in terms NN 1', 'synset domain topic of', 'logic NN 1']\n",
      "['commission VB 3', 'hypernym', 'pass VB 23']\n",
      "['petrocoptis NN 1', 'hypernym', 'caryophylloid dicot genus NN 1']\n",
      "['marbleize VB 1', 'derivationally related form', 'marbleizing NN 1']\n",
      "['ingenuous JJ 1', 'derivationally related form', 'naturalness NN 2']\n",
      "['nyctalopia NN 1', 'hypernym', 'visual impairment NN 1']\n",
      "['begin VB 6', 'verb group', 'start VB 4']\n",
      "['genus tetrahymena NN 1', 'hypernym', 'protoctist genus NN 1']\n",
      "['positivity NN 5', 'hypernym', 'unquestionableness NN 1']\n",
      "['uganda NN 1', 'has part', 'lake edward NN 1']\n",
      "['procedure NN 2', 'derivationally related form', 'work VB 4']\n",
      "['spouter NN 1', 'derivationally related form', 'chatter VB 5']\n",
      "['unsavoriness NN 2', 'derivationally related form', 'unsavoury JJ 1']\n",
      "['drawing NN 3', 'derivationally related form', 'draughtsman NN 1']\n",
      "['radiolocation NN 1', 'has part', 'waveguide NN 1']\n",
      "['explication NN 2', 'hypernym', 'explanation NN 1']\n",
      "['object lesson NN 1', 'hypernym', 'word of advice NN 1']\n",
      "['playing field NN 2', 'has part', 'midfield NN 1']\n",
      "['william morris NN 1', 'instance hypernym', 'journeyman NN 1']\n",
      "['prumnopitys NN 1', 'member meronym', 'prumnopitys ferruginea NN 1']\n",
      "['bottom NN 2', 'derivationally related form', 'bottom VB 1']\n",
      "['respite VB 1', 'derivationally related form', 'respite NN 5']\n",
      "['family blenniidae NN 1', 'member meronym', 'combtooth blenny NN 1']\n",
      "['trailing windmills NN 1', 'hypernym', 'wildflower NN 1']\n",
      "['school of thought NN 1', 'derivationally related form', 'philosophical JJ 1']\n",
      "['simonize VB 1', 'derivationally related form', 'simoniz NN 1']\n",
      "['schedule VB 1', 'derivationally related form', 'scheduling NN 1']\n",
      "['parulidae NN 1', 'member meronym', 'icteria NN 1']\n",
      "['strawberry-shrub family NN 1', 'member meronym', 'genus calycanthus NN 1']\n",
      "['trailblazer NN 2', 'derivationally related form', 'pioneer VB 2']\n",
      "['travel VB 1', 'also see', 'proceed VB 1']\n",
      "['syllogize VB 1', 'derivationally related form', 'syllogism NN 1']\n",
      "['upper jawbone NN 1', 'hypernym', 'jaw NN 1']\n",
      "['william harvey NN 1', 'instance hypernym', 'physician NN 1']\n",
      "['wise JJ 1', 'derivationally related form', 'wiseness NN 2']\n",
      "['isopyrum NN 1', 'member meronym', 'isopyrum biternatum NN 1']\n",
      "['genus bos NN 1', 'hypernym', 'mammal genus NN 1']\n",
      "['war game NN 1', 'synset domain topic of', 'war machine NN 1']\n",
      "['scutigeridae NN 1', 'member meronym', 'scutigera NN 1']\n",
      "['hygrophorus NN 1', 'hypernym', 'fungus genus NN 1']\n",
      "['get VB 16', 'derivationally related form', 'movement NN 6']\n",
      "['square up VB 3', 'derivationally related form', 'settlement NN 3']\n",
      "['worker NN 1', 'hypernym', 'soul NN 2']\n",
      "['lady fern NN 1', 'hypernym', 'fern NN 1']\n",
      "['flat NN 7', 'hypernym', 'lodging NN 1']\n",
      "['ayah NN 1', 'hypernym', 'house servant NN 1']\n",
      "['typecast VB 2', 'derivationally related form', 'type NN 1']\n",
      "['the netherlands NN 1', 'has part', 'frisian islands NN 1']\n",
      "['chief of staff NN 1', 'hypernym', 'officer NN 1']\n",
      "['gleditsia NN 1', 'hypernym', 'rosid dicot genus NN 1']\n",
      "['star NN 1', 'hypernym', 'heavenly body NN 1']\n",
      "['exaltation NN 4', 'derivationally related form', 'proclaim VB 4']\n",
      "['comparable JJ 1', 'also see', 'equal JJ 1']\n",
      "['jubilation NN 1', 'derivationally related form', 'walk on air VB 1']\n",
      "['patroller NN 1', 'hypernym', 'watchman NN 1']\n",
      "['concentration NN 3', 'derivationally related form', 'reduce VB 18']\n",
      "['regeneration NN 3', 'derivationally related form', 'restore VB 2']\n",
      "['order cuculiformes NN 1', 'member meronym', 'musophagidae NN 1']\n",
      "['germany NN 1', 'member of domain region', 'schadenfreude NN 1']\n",
      "['culmination NN 3', 'derivationally related form', 'culminate VB 3']\n",
      "['mallee NN 1', 'hypernym', 'eucalyptus tree NN 1']\n",
      "['leaving NN 1', 'derivationally related form', 'go away VB 1']\n",
      "['act VB 6', 'derivationally related form', 'actable JJ 1']\n",
      "['slope VB 1', 'derivationally related form', 'inclination NN 3']\n",
      "['sunfish NN 3', 'hypernym', 'percoidean NN 1']\n",
      "['love NN 1', 'derivationally related form', 'love VB 1']\n",
      "['interview NN 2', 'derivationally related form', 'consult VB 3']\n",
      "['offspring NN 2', 'derivationally related form', 'materialize VB 1']\n",
      "['evanescence NN 1', 'derivationally related form', 'pass off VB 4']\n",
      "['impressionistic JJ 1', 'derivationally related form', 'impression NN 8']\n",
      "['suspicion NN 2', 'derivationally related form', 'suspect VB 2']\n",
      "['nonage NN 1', 'derivationally related form', 'underage JJ 1']\n",
      "['lustrum NN 2', 'synset domain topic of', 'antiquity NN 1']\n",
      "['spring VB 5', 'hypernym', 'unwrap VB 2']\n",
      "['abstract VB 3', 'hypernym', 'take VB 13']\n",
      "['beech fern NN 1', 'hypernym', 'fern NN 1']\n",
      "['meclomen NN 1', 'hypernym', 'nsaid NN 1']\n",
      "['viscum NN 1', 'hypernym', 'dilleniid dicot genus NN 1']\n",
      "[\"saddam's martyrs NN 1\", 'hypernym', 'paramilitary unit NN 1']\n",
      "['holder NN 2', 'hypernym', 'possessor NN 1']\n",
      "['lagidium NN 1', 'hypernym', 'mammal genus NN 1']\n",
      "['colloquialism NN 1', 'member of domain usage', 'firewater NN 1']\n",
      "['escalade VB 1', 'hypernym', 'mount VB 6']\n",
      "['cool JJ 4', 'also see', 'unfriendly JJ 2']\n",
      "['south NN 2', 'member meronym', 'sunshine state NN 1']\n",
      "['people NN 2', 'derivationally related form', 'people VB 2']\n",
      "['sideritis NN 1', 'hypernym', 'asterid dicot genus NN 1']\n",
      "['genus fissurella NN 1', 'hypernym', 'mollusk genus NN 1']\n",
      "['condolence NN 1', 'hypernym', 'acknowledgment NN 3']\n",
      "['chittagong NN 1', 'instance hypernym', 'urban center NN 1']\n",
      "['govern VB 4', 'hypernym', 'take VB 14']\n",
      "['leipzig NN 1', 'instance hypernym', 'urban center NN 1']\n",
      "['crier NN 3', 'hypernym', 'yeller NN 1']\n",
      "['automatic pistol NN 1', 'hypernym', 'automatic weapon NN 1']\n",
      "['road map NN 2', 'hypernym', 'map NN 1']\n",
      "['nonmeaningful JJ 1', 'derivationally related form', 'nonsensicality NN 1']\n",
      "['toper NN 1', 'derivationally related form', 'fuddle VB 2']\n",
      "['professionalize VB 1', 'verb group', 'professionalize VB 2']\n",
      "['sciaena antarctica NN 1', 'hypernym', 'sciaenid fish NN 1']\n",
      "['neuroglia NN 1', 'has part', 'neuroglial cell NN 1']\n",
      "['hyla NN 1', 'hypernym', 'cobble up VB 1']\n",
      "['reconstructive memory NN 1', 'derivationally related form', 'retrace VB 2']\n",
      "['stooge VB 3', 'hypernym', 'do VB 9']\n",
      "['sound NN 1', 'hypernym', 'sound property NN 1']\n",
      "['appointee NN 1', 'hypernym', 'official NN 1']\n",
      "['epilator NN 1', 'hypernym', 'cosmetic NN 1']\n",
      "['impression NN 8', 'derivationally related form', 'impressionistic JJ 1']\n",
      "['help VB 1', 'derivationally related form', 'help NN 1']\n",
      "['city limits NN 1', 'hypernym', 'limit NN 4']\n",
      "['paw NN 2', 'hypernym', 'extremity NN 5']\n",
      "['ready NN 1', 'derivationally related form', 'set up VB 15']\n",
      "['little dipper NN 1', 'instance hypernym', 'asterism NN 2']\n",
      "['weather map NN 1', 'has part', 'isotherm NN 1']\n",
      "['troops NN 1', 'synset domain topic of', 'war machine NN 1']\n",
      "['republic of mali NN 1', 'instance hypernym', 'african nation NN 1']\n",
      "['yellowstone river NN 1', 'instance hypernym', 'river NN 1']\n",
      "['compose VB 4', 'derivationally related form', 'compiling NN 1']\n",
      "['safekeeping NN 1', 'derivationally related form', 'shielder NN 1']\n",
      "['coach station NN 1', 'hypernym', 'terminus NN 5']\n",
      "['testator NN 1', 'hypernym', 'soul NN 2']\n",
      "['order odonata NN 1', 'member meronym', 'odonate NN 1']\n",
      "['barge VB 2', 'hypernym', 'transport VB 4']\n",
      "['petty jury NN 1', 'hypernym', 'jury NN 1']\n",
      "['exhibition NN 1', 'hypernym', 'presentment NN 3']\n",
      "['model VB 6', 'derivationally related form', 'modeller NN 1']\n",
      "['hard JJ 1', 'derivationally related form', 'difficulty NN 4']\n",
      "['worsening NN 1', 'derivationally related form', 'deteriorate VB 1']\n",
      "['master VB 4', 'derivationally related form', 'mastery NN 1']\n",
      "['disengagement NN 1', 'derivationally related form', 'disengage VB 3']\n",
      "['exuberance NN 1', 'hypernym', 'enthusiasm NN 1']\n",
      "['progression NN 3', 'derivationally related form', 'progress VB 2']\n",
      "['baader meinhof gang NN 1', 'synset domain topic of', 'terrorist act NN 1']\n",
      "['insignia NN 1', 'hypernym', 'badge NN 1']\n",
      "['leader NN 1', 'derivationally related form', 'leadership NN 2']\n",
      "['overshielding NN 1', 'hypernym', 'protection NN 1']\n",
      "['passer NN 2', 'hypernym', 'soul NN 2']\n",
      "['smatter VB 2', 'derivationally related form', 'spouter NN 1']\n",
      "['undercover work NN 1', 'hypernym', 'intelligence operation NN 1']\n",
      "['united kingdom of great britain and northern ireland NN 1', 'member of domain region', 'quadrillion NN 1']\n",
      "['simaroubaceae NN 1', 'member meronym', 'simarouba NN 1']\n",
      "['pusher NN 2', 'derivationally related form', 'push VB 8']\n",
      "['plaintiff NN 1', 'hypernym', 'litigator NN 1']\n",
      "['weep VB 1', 'derivationally related form', 'cry NN 4']\n",
      "['precede VB 4', 'hypernym', 'travel VB 1']\n",
      "['chronology NN 3', 'hypernym', 'liberal arts NN 1']\n",
      "['hyperventilation NN 1', 'hypernym', 'ventilation NN 4']\n",
      "['atlantic ocean NN 1', 'has part', 'british isles NN 1']\n",
      "['jelly VB 1', 'derivationally related form', 'jelly NN 2']\n",
      "['refrigerate VB 1', 'hypernym', 'preserve VB 4']\n",
      "['brim VB 2', 'derivationally related form', 'rim NN 5']\n",
      "['signal caller NN 1', 'derivationally related form', 'quarterback VB 1']\n",
      "['fencing NN 3', 'derivationally related form', 'fence VB 3']\n",
      "['rakaposhi NN 1', 'instance hypernym', 'mountain peak NN 1']\n",
      "['trouble VB 2', 'derivationally related form', 'vexation NN 2']\n",
      "['smell NN 1', 'derivationally related form', 'smell VB 2']\n",
      "['sambre river NN 1', 'instance hypernym', 'river NN 1']\n",
      "['commissary NN 1', 'synset domain topic of', 'war machine NN 1']\n",
      "['terrorize VB 1', 'derivationally related form', 'terror NN 1']\n",
      "['ionize VB 1', 'derivationally related form', 'ionization NN 1']\n",
      "['swim VB 2', 'derivationally related form', 'swimming NN 1']\n",
      "['suborder petromyzoniformes NN 1', 'hypernym', 'animal order NN 1']\n",
      "['polypodiales NN 1', 'member meronym', 'family blechnaceae NN 1']\n",
      "['oberson NN 1', 'synset domain topic of', 'middle ages NN 1']\n",
      "['transfer VB 4', 'derivationally related form', 'transferrer NN 1']\n",
      "['half track NN 1', 'hypernym', 'military vehicle NN 1']\n",
      "['see VB 8', 'derivationally related form', 'meeting NN 1']\n",
      "['cottager NN 1', 'hypernym', 'inhabitant NN 1']\n",
      "['raise VB 2', 'derivationally related form', 'upgrade NN 1']\n",
      "['home NN 2', 'has part', 'sleeping room NN 1']\n",
      "['zion NN 2', 'has part', 'jerusalem NN 1']\n",
      "['mounter NN 2', 'derivationally related form', 'mount VB 6']\n",
      "['whoop it up VB 1', 'hypernym', 'fete VB 1']\n",
      "['point after touchdown NN 1', 'hypernym', 'point NN 10']\n",
      "['genus formica NN 1', 'member meronym', 'wood ant NN 1']\n",
      "['clean JJ 1', 'also see', 'tidy JJ 1']\n",
      "['moral philosophy NN 1', 'derivationally related form', 'ethicist NN 1']\n",
      "['transfer VB 1', 'similar to', 'tasteful JJ 1']\n",
      "['realness NN 1', 'hypernym', 'actuality NN 1']\n",
      "['unjust JJ 2', 'also see', 'wrong JJ 2']\n",
      "['order hyracoidea NN 1', 'member meronym', 'procaviidae NN 1']\n",
      "['disintegrate VB 2', 'synset domain topic of', 'physics NN 1']\n",
      "['transdermic JJ 1', 'synset domain topic of', 'pharmacology NN 1']\n",
      "['country-dance VB 1', 'hypernym', 'trip the light fantastic toe VB 1']\n",
      "['show VB 1', 'hypernym', 'show VB 4']\n",
      "['lid NN 2', 'hypernym', 'top NN 9']\n",
      "['validation NN 2', 'derivationally related form', 'show VB 2']\n",
      "['slip VB 4', 'hypernym', 'worsen VB 1']\n",
      "['peripatetic NN 2', 'hypernym', 'disciple NN 1']\n",
      "['riddle VB 4', 'derivationally related form', 'diffusor NN 1']\n",
      "['whole NN 2', 'derivationally related form', 'unify VB 2']\n",
      "['scrounge VB 1', 'derivationally related form', 'foraging NN 1']\n",
      "['planing machine NN 1', 'hypernym', 'power tool NN 1']\n",
      "['menticirrhus NN 1', 'hypernym', 'fish genus NN 1']\n",
      "['hatred NN 1', 'hypernym', 'emotion NN 1']\n",
      "['eon NN 1', 'has part', 'geological era NN 1']\n",
      "['spatiality NN 1', 'hypernym', 'property NN 2']\n",
      "['genus echinocactus NN 1', 'member meronym', 'echinocactus NN 1']\n",
      "['plunk VB 3', 'hypernym', 'go down VB 1']\n",
      "['milkweed family NN 1', 'member meronym', 'vincetoxicum NN 1']\n",
      "['vice NN 2', 'hypernym', 'transgression NN 1']\n",
      "['responsiveness NN 1', 'hypernym', 'sensitivity NN 1']\n",
      "['thespesia populnea NN 1', 'hypernym', 'tulipwood tree NN 1']\n",
      "['tomatillo NN 2', 'has part', 'tomatillo NN 3']\n",
      "['hole out VB 1', 'hypernym', 'hit VB 1']\n",
      "['standardize VB 1', 'derivationally related form', 'standard NN 3']\n",
      "['shadbush NN 1', 'hypernym', 'shrub NN 1']\n",
      "['jackson NN 1', 'instance hypernym', 'actress NN 1']\n",
      "['precedent NN 1', 'derivationally related form', 'predate VB 1']\n",
      "['war machine NN 1', 'hypernym', 'personnel NN 1']\n",
      "['voting system NN 1', 'synset domain topic of', 'law NN 1']\n",
      "['motown NN 1', 'instance hypernym', 'port NN 1']\n",
      "['seasnail NN 2', 'hypernym', 'univalve NN 1']\n",
      "['video NN 4', 'has part', 'sound NN 5']\n",
      "['impairment NN 2', 'derivationally related form', 'drop VB 22']\n",
      "['colloquialism NN 1', 'member of domain usage', 'townee NN 1']\n",
      "['jab NN 3', 'derivationally related form', 'stab VB 3']\n",
      "['shop clerk NN 1', 'derivationally related form', 'clerkship NN 1']\n",
      "['cuculiform bird NN 1', 'hypernym', 'bird NN 1']\n",
      "['unmanageableness NN 1', 'hypernym', 'intractableness NN 1']\n",
      "['vesiculate VB 2', 'hypernym', 'modify VB 3']\n",
      "['skid VB 1', 'derivationally related form', 'slip NN 13']\n",
      "['eucalyptus tree NN 1', 'hypernym', 'gum tree NN 1']\n",
      "['microscope NN 1', 'hypernym', 'magnifier NN 1']\n",
      "['tenderize VB 1', 'derivationally related form', 'tender JJ 5']\n",
      "['pritzelago NN 1', 'hypernym', 'dilleniid dicot genus NN 1']\n",
      "['family room NN 1', 'hypernym', 'recreation room NN 1']\n",
      "['treat VB 4', 'verb group', 'encompass VB 1']\n",
      "['kilohertz NN 1', 'has part', 'hz NN 1']\n",
      "['want NN 2', 'derivationally related form', 'offer VB 6']\n",
      "['coriolis effect NN 1', 'synset domain topic of', 'physics NN 1']\n",
      "['practitioner NN 1', 'hypernym', 'professional person NN 1']\n",
      "[\"thirty years' war NN 1\", 'instance hypernym', 'warfare NN 1']\n",
      "['viscount st. albans NN 1', 'instance hypernym', 'philosopher NN 1']\n"
     ]
    }
   ],
   "source": [
    "for id in range(500):\n",
    "    print(mapTriple(data['train'][id], aliases_dict))"
   ]
  },
  {
   "cell_type": "code",
   "execution_count": 34,
   "id": "55b0059b",
   "metadata": {},
   "outputs": [
    {
     "data": {
      "text/plain": [
       "86835"
      ]
     },
     "execution_count": 34,
     "metadata": {},
     "output_type": "execute_result"
    }
   ],
   "source": [
    "len(data['train'])"
   ]
  },
  {
   "cell_type": "code",
   "execution_count": 35,
   "id": "dec20bbe",
   "metadata": {},
   "outputs": [],
   "source": [
    "out_folder = '/scratche/home/apoorv/transformer-kgc/data/wnrr_2'\n",
    "splits = ['train', 'test', 'valid']\n",
    "\n",
    "count = 0\n",
    "for split in splits:\n",
    "    fname = os.path.join(out_folder, split + '.txt')\n",
    "    f = open(fname, 'w')\n",
    "    triples = data[split]\n",
    "    for t in triples:\n",
    "        \n",
    "        t = mapTriple(t, aliases_dict)\n",
    "        # only save those that DO NOT start with m. or g.\n",
    "        # we can do that since aim is KGQA not KGC\n",
    "        head, relation, tail = t\n",
    "        input = 'predict tail: {0} | {1}'.format(head, relation)\n",
    "        output = '{}'.format(tail)\n",
    "        f.write(input + '\\t' + output + '\\n')\n",
    "        \n",
    "        input = 'predict head: {0} | {1}'.format(tail, relation)\n",
    "        output = '{}'.format(head)\n",
    "        f.write(input + '\\t' + output + '\\n')\n",
    "    f.close()"
   ]
  },
  {
   "cell_type": "code",
   "execution_count": 36,
   "id": "9c498634",
   "metadata": {},
   "outputs": [
    {
     "data": {
      "text/plain": [
       "0"
      ]
     },
     "execution_count": 36,
     "metadata": {},
     "output_type": "execute_result"
    }
   ],
   "source": [
    "count"
   ]
  },
  {
   "cell_type": "code",
   "execution_count": 37,
   "id": "91b1d75f",
   "metadata": {},
   "outputs": [
    {
     "data": {
      "text/plain": [
       "40943"
      ]
     },
     "execution_count": 37,
     "metadata": {},
     "output_type": "execute_result"
    }
   ],
   "source": [
    "entity_names = set()\n",
    "for key, value in aliases_dict.items():\n",
    "#     if key.startswith('Q'):\n",
    "    entity_names.add(value)\n",
    "len(entity_names)"
   ]
  },
  {
   "cell_type": "code",
   "execution_count": 38,
   "id": "483eab98",
   "metadata": {},
   "outputs": [],
   "source": [
    "# create entity_strings.txt which is needed in evaluation code\n",
    "strings_file_name = 'entity_strings.txt'\n",
    "f = open(os.path.join(out_folder, strings_file_name), 'w')\n",
    "ents_uniq = entity_names\n",
    "for e in ents_uniq:\n",
    "    f.write(e + '\\n')\n",
    "f.close()"
   ]
  },
  {
   "cell_type": "code",
   "execution_count": 99,
   "id": "92b98056",
   "metadata": {},
   "outputs": [],
   "source": [
    "# webqsp qa \n",
    "# def readQALines(fname):\n",
    "#     f = open(fname)\n",
    "#     questions = []\n",
    "#     for line in f:\n",
    "#         line = line.strip().split('\\t')\n",
    "#         q = line[0]\n",
    "#         lhs = q.split('[')[0]\n",
    "#         rhs = q.split(']')[1]\n",
    "#         only_question = lhs + 'NE' + rhs\n",
    "#         only_question = normalizeEntity(only_question)\n",
    "# #         q = q.replace('[', '')\n",
    "# #         q = q.replace(']', '')\n",
    "# #         q = normalizeEntity(q)\n",
    "#         questions.append(only_question)\n",
    "#     return questions\n",
    "        \n",
    "# def writeLines(lines, fname):\n",
    "#     f = open(fname, 'w')\n",
    "#     for line in lines:\n",
    "#         f.write(line + '\\n')\n"
   ]
  },
  {
   "cell_type": "code",
   "execution_count": 122,
   "id": "7c0446cc",
   "metadata": {},
   "outputs": [],
   "source": []
  },
  {
   "cell_type": "code",
   "execution_count": 103,
   "id": "b9f40016",
   "metadata": {},
   "outputs": [
    {
     "data": {
      "text/plain": [
       "'what character did natalie portman play in star wars NE'"
      ]
     },
     "execution_count": 103,
     "metadata": {},
     "output_type": "execute_result"
    }
   ],
   "source": []
  },
  {
   "cell_type": "code",
   "execution_count": 81,
   "id": "7cd8116f",
   "metadata": {},
   "outputs": [],
   "source": [
    "# fname = 'data/MetaQA/full_qa.txt'\n",
    "# questions = readQALines(fname)\n",
    "# questions = list(set(questions))"
   ]
  },
  {
   "cell_type": "code",
   "execution_count": 82,
   "id": "31ccafbc",
   "metadata": {},
   "outputs": [],
   "source": [
    "# fname = 'data/MetaQA/only_questions_text.txt'\n",
    "# writeLines(questions, fname)"
   ]
  },
  {
   "cell_type": "code",
   "execution_count": 138,
   "id": "8a8e6782",
   "metadata": {},
   "outputs": [],
   "source": [
    "vocab_size = 30000\n",
    "sp = spm.SentencePieceTrainer.train(input='data/fbwq_half/train.txt', \n",
    "                                    model_prefix='fbwq_with_pad', vocab_size=vocab_size, \n",
    "                                    pad_id=3,\n",
    "#                                     character_coverage=1.0,\n",
    "#                                user_defined_symbols=['predict',\n",
    "#                                                     'head',\n",
    "#                                                     'tail',\n",
    "#                                                     '|'],\n",
    "#                                     normalization_rule_name='identity',\n",
    "                              )"
   ]
  },
  {
   "cell_type": "code",
   "execution_count": 139,
   "id": "c2256ddf",
   "metadata": {},
   "outputs": [],
   "source": [
    "# sp = spm.SentencePieceProcessor(model_file='data/sentencepiece/metaqa_with_pad.model')\n",
    "sp = spm.SentencePieceProcessor(model_file='fbwq_with_pad.model')"
   ]
  },
  {
   "cell_type": "code",
   "execution_count": 38,
   "id": "8e3aa571",
   "metadata": {},
   "outputs": [
    {
     "data": {
      "text/plain": [
       "0"
      ]
     },
     "execution_count": 38,
     "metadata": {},
     "output_type": "execute_result"
    }
   ],
   "source": [
    "# sp['Obama']"
   ]
  },
  {
   "cell_type": "code",
   "execution_count": 151,
   "id": "ba0b22e2",
   "metadata": {},
   "outputs": [
    {
     "data": {
      "text/plain": [
       "'how old'"
      ]
     },
     "execution_count": 151,
     "metadata": {},
     "output_type": "execute_result"
    }
   ],
   "source": [
    "sp.decode(sp.encode('how old'))"
   ]
  },
  {
   "cell_type": "code",
   "execution_count": 192,
   "id": "2c83c7a2",
   "metadata": {},
   "outputs": [
    {
     "data": {
      "text/plain": [
       "[5, 0, 12497, 0]"
      ]
     },
     "execution_count": 192,
     "metadata": {},
     "output_type": "execute_result"
    }
   ],
   "source": [
    "sp.encode('<pad>')"
   ]
  },
  {
   "cell_type": "code",
   "execution_count": 195,
   "id": "dc8aa35e",
   "metadata": {},
   "outputs": [
    {
     "data": {
      "text/plain": [
       "2"
      ]
     },
     "execution_count": 195,
     "metadata": {},
     "output_type": "execute_result"
    }
   ],
   "source": [
    "sp['</s>']"
   ]
  },
  {
   "cell_type": "code",
   "execution_count": 193,
   "id": "0b28dd64",
   "metadata": {},
   "outputs": [
    {
     "data": {
      "text/plain": [
       "'<pad>'"
      ]
     },
     "execution_count": 193,
     "metadata": {},
     "output_type": "execute_result"
    }
   ],
   "source": [
    "sp.id_to_piece(3)"
   ]
  },
  {
   "cell_type": "code",
   "execution_count": 176,
   "id": "30733281",
   "metadata": {},
   "outputs": [
    {
     "name": "stderr",
     "output_type": "stream",
     "text": [
      "100%|██████████| 1712213/1712213 [00:18<00:00, 91029.72it/s] \n"
     ]
    },
    {
     "data": {
      "text/plain": [
       "0"
      ]
     },
     "execution_count": 176,
     "metadata": {},
     "output_type": "execute_result"
    }
   ],
   "source": [
    "lengths = []\n",
    "count = 0\n",
    "for e in tqdm(ents_uniq):\n",
    "    encoded = sp.encode(e)\n",
    "    l = len(encoded)\n",
    "    if l > 500:\n",
    "        print(e,l)\n",
    "        l = 20\n",
    "        count += 1\n",
    "    lengths.append(l)\n",
    "count"
   ]
  },
  {
   "cell_type": "code",
   "execution_count": 177,
   "id": "8055bc10",
   "metadata": {
    "scrolled": false
   },
   "outputs": [
    {
     "data": {
      "text/plain": [
       "Text(0.5, 0, 'Tokenized lengths')"
      ]
     },
     "execution_count": 177,
     "metadata": {},
     "output_type": "execute_result"
    },
    {
     "data": {
      "image/png": "[encoded data removed]",
      "text/plain": [
       "<Figure size 432x288 with 1 Axes>"
      ]
     },
     "metadata": {
      "needs_background": "light"
     },
     "output_type": "display_data"
    }
   ],
   "source": [
    "import matplotlib.pyplot as plt \n",
    "\n",
    "import numpy as np \n",
    "\n",
    "%matplotlib inline\n",
    "\n",
    "# x = np.random.normal(size = 1000) \n",
    "x = lengths\n",
    "plt.hist(x, bins=30) \n",
    "\n",
    "plt.ylabel('Num entities');\n",
    "plt.xlabel('Tokenized lengths')"
   ]
  },
  {
   "cell_type": "code",
   "execution_count": 190,
   "id": "afd66461",
   "metadata": {},
   "outputs": [
    {
     "name": "stderr",
     "output_type": "stream",
     "text": [
      "100%|██████████| 1068/1068 [00:00<00:00, 41292.34it/s]"
     ]
    },
    {
     "name": "stdout",
     "output_type": "stream",
     "text": [
      "astronomical objects discovered\n",
      "astronomical objects discovered reverse\n",
      "sewage treatment plant\n",
      "sewage treatment plant reverse\n",
      "infidelity perpetrator reverse\n",
      "substance abuse reverse\n",
      "lifetime batting statistics reverse\n",
      "sponsored by reverse\n",
      "substance abuse problems reverse\n",
      "appears in these fictional universes reverse\n",
      "jurisdiction of office reverse\n",
      "body this is a component of reverse\n",
      "politicians in this party reverse\n",
      "websites owned reverse\n",
      "tropical cyclone season reverse\n",
      "olympics hosted reverse\n",
      "types of places of worship reverse\n",
      "athletic performances reverse\n",
      "mode of transportation reverse\n",
      "appeared in tv episodes reverse\n",
      "episodes appeared in reverse\n"
     ]
    },
    {
     "name": "stderr",
     "output_type": "stream",
     "text": [
      "\n"
     ]
    },
    {
     "data": {
      "text/plain": [
       "21"
      ]
     },
     "execution_count": 190,
     "metadata": {},
     "output_type": "execute_result"
    }
   ],
   "source": [
    "lengths = []\n",
    "count = 0\n",
    "for e in tqdm(relations):\n",
    "    encoded = sp.encode(relation_map[e])\n",
    "    l = len(encoded)\n",
    "    if l > 10:\n",
    "        print(relation_map[e])\n",
    "        count +=1\n",
    "    lengths.append(l)\n",
    "count"
   ]
  },
  {
   "cell_type": "code",
   "execution_count": 186,
   "id": "b5462fd9",
   "metadata": {},
   "outputs": [
    {
     "data": {
      "text/plain": [
       "Text(0.5, 0, 'Tokenized lengths')"
      ]
     },
     "execution_count": 186,
     "metadata": {},
     "output_type": "execute_result"
    },
    {
     "data": {
      "image/png": "[encoded data removed]",
      "text/plain": [
       "<Figure size 432x288 with 1 Axes>"
      ]
     },
     "metadata": {
      "needs_background": "light"
     },
     "output_type": "display_data"
    }
   ],
   "source": [
    "import matplotlib.pyplot as plt \n",
    "\n",
    "import numpy as np \n",
    "\n",
    "%matplotlib inline\n",
    "\n",
    "# x = np.random.normal(size = 1000) \n",
    "x = lengths\n",
    "plt.hist(x, bins=30) \n",
    "\n",
    "plt.ylabel('Num entities');\n",
    "plt.xlabel('Tokenized lengths')"
   ]
  },
  {
   "cell_type": "code",
   "execution_count": 191,
   "id": "51a339bd",
   "metadata": {},
   "outputs": [
    {
     "data": {
      "text/plain": [
       "[167, 10, 96]"
      ]
     },
     "execution_count": 191,
     "metadata": {},
     "output_type": "execute_result"
    }
   ],
   "source": [
    "sp.encode('plays for')"
   ]
  },
  {
   "cell_type": "code",
   "execution_count": 104,
   "id": "be1d15cf",
   "metadata": {},
   "outputs": [
    {
     "data": {
      "text/plain": [
       "1880592"
      ]
     },
     "execution_count": 104,
     "metadata": {},
     "output_type": "execute_result"
    }
   ],
   "source": [
    "len(uniq_ent_map)"
   ]
  },
  {
   "cell_type": "code",
   "execution_count": 143,
   "id": "023dc021",
   "metadata": {},
   "outputs": [],
   "source": [
    "def replaceEntities(line, aliases_dict):\n",
    "    line = line.strip().split('\\t')\n",
    "    q = line[0]\n",
    "    # sometimes no answer\n",
    "    if len(line) > 1:\n",
    "        answers= line[1].split('|')\n",
    "    else:\n",
    "        answers = []    \n",
    "    lhs = q.split('[')[0]\n",
    "    rhs = q.split(']')[1]\n",
    "    head_id = q.split('[')[1].split(']')[0]\n",
    "    if head_id in aliases_dict:\n",
    "        head_text = aliases_dict[head_id]\n",
    "    else:\n",
    "        head_text = head_id\n",
    "        print(head_text + ' not found')\n",
    "    answers_text = []\n",
    "    for a in answers:\n",
    "        if a in aliases_dict:\n",
    "            answers_text.append(aliases_dict[a])\n",
    "        else:\n",
    "            answers_text.append(a)\n",
    "    answers_string = '|'.join(answers_text)\n",
    "    \n",
    "    out = '{lhs}[{head}]{rhs}\\t{ans}'.format(\n",
    "        lhs=lhs,\n",
    "        rhs=rhs,\n",
    "        head = head_text,\n",
    "        ans = answers_string\n",
    "    )\n",
    "    return out\n",
    "        \n",
    "def readLines(fname):\n",
    "    f = open(fname)\n",
    "    lines = []\n",
    "    for line in f:\n",
    "        lines.append(line.rstrip())\n",
    "    f.close()\n",
    "    return lines\n",
    "\n",
    "def writeLines(lines, fname):\n",
    "    f = open(fname, 'w')\n",
    "    for line in lines:\n",
    "        f.write(line + '\\n')\n",
    "    f.close()"
   ]
  },
  {
   "cell_type": "code",
   "execution_count": 137,
   "id": "f67a0b09",
   "metadata": {},
   "outputs": [],
   "source": [
    "# need to make qa data as well, since entity aliases need to be used\n",
    "# and not just entity ids as answers\n",
    "fname = '/scratche/home/apoorv/EmbedKGQA/data/QA_data/WebQuestionsSP/qa_test_webqsp_fixed.txt'\n",
    "questions = readLines(fname)\n"
   ]
  },
  {
   "cell_type": "code",
   "execution_count": 138,
   "id": "53a73429",
   "metadata": {},
   "outputs": [
    {
     "data": {
      "text/plain": [
       "'what did james k polk do before he was president [m.042f1]\\tm.02_bcst|m.04x_n9q|m.0cgqx'"
      ]
     },
     "execution_count": 138,
     "metadata": {},
     "output_type": "execute_result"
    }
   ],
   "source": [
    "questions[1]"
   ]
  },
  {
   "cell_type": "code",
   "execution_count": 144,
   "id": "62983ae2",
   "metadata": {},
   "outputs": [
    {
     "name": "stdout",
     "output_type": "stream",
     "text": [
      "m.02vkmj9 not found\n"
     ]
    }
   ],
   "source": [
    "lines_with_entities = [replaceEntities(q, uniq_ent_map) for q in questions]"
   ]
  },
  {
   "cell_type": "code",
   "execution_count": 145,
   "id": "dd205992",
   "metadata": {},
   "outputs": [
    {
     "data": {
      "text/plain": [
       "1639"
      ]
     },
     "execution_count": 145,
     "metadata": {},
     "output_type": "execute_result"
    }
   ],
   "source": [
    "len(lines_with_entities)"
   ]
  },
  {
   "cell_type": "code",
   "execution_count": 146,
   "id": "1372b3d0",
   "metadata": {},
   "outputs": [
    {
     "data": {
      "text/plain": [
       "['what does jamaican people speak [Jamaica 1]\\tJamaican English|Jamaican Creole English Langua|Jamaican English',\n",
       " 'what did james k polk do before he was president [James K. Polk]\\tUnited States Representative|Governor of Tennessee|Speaker of the United States H',\n",
       " 'who plays ken barlow in coronation street [Coronation Street]\\tWilliam Roache',\n",
       " 'where is jamarcus russell from [JaMarcus Russell]\\tMobile 0',\n",
       " 'where was george washington carver from [George Washington Carver]\\tDiamond 8',\n",
       " 'what else did ben franklin invent [Benjamin Franklin]\\tLightning rod|Bifocals|Glass harmonica|Franklin stove',\n",
       " 'who was richard nixon married to [Richard Nixon]\\tPat Nixon',\n",
       " 'who is governor of ohio 2011 [Ohio 2]\\tJohn Kasich|Return J. Meigs, Jr.|Ted Strickland',\n",
       " 'who was vice president after kennedy died [John F. Kennedy 0]\\tLyndon B. Johnson 1',\n",
       " 'where is the fukushima daiichi nuclear plant located [Fukushima Daiichi Nuclear Powe]\\tJapan 1|Okuma']"
      ]
     },
     "execution_count": 146,
     "metadata": {},
     "output_type": "execute_result"
    }
   ],
   "source": [
    "lines_with_entities[:10]"
   ]
  },
  {
   "cell_type": "code",
   "execution_count": 148,
   "id": "dc01e9dd",
   "metadata": {},
   "outputs": [],
   "source": [
    "fname = 'data/fbwq_half/qa_valid_1hop.txt'\n",
    "writeLines(lines_with_entities, fname)"
   ]
  },
  {
   "cell_type": "code",
   "execution_count": null,
   "id": "a3bed453",
   "metadata": {},
   "outputs": [],
   "source": []
  }
 ],
 "metadata": {
  "kernelspec": {
   "display_name": "Python 3 (ipykernel)",
   "language": "python",
   "name": "python3"
  },
  "language_info": {
   "codemirror_mode": {
    "name": "ipython",
    "version": 3
   },
   "file_extension": ".py",
   "mimetype": "text/x-python",
   "name": "python",
   "nbconvert_exporter": "python",
   "pygments_lexer": "ipython3",
   "version": "3.8.11"
  }
 },
 "nbformat": 4,
 "nbformat_minor": 5
}

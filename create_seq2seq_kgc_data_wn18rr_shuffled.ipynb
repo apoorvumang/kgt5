{
 "cells": [
  {
   "cell_type": "code",
   "execution_count": 1,
   "id": "6294b12f",
   "metadata": {},
   "outputs": [],
   "source": [
    "import os\n",
    "import pickle\n",
    "from tqdm import tqdm\n",
    "import sentencepiece as spm"
   ]
  },
  {
   "cell_type": "code",
   "execution_count": 2,
   "id": "66554ebd",
   "metadata": {},
   "outputs": [
    {
     "name": "stdout",
     "output_type": "stream",
     "text": [
      "dataset.yaml\t    test.txt\t\t     valid.del\r\n",
      "entity_ids.del\t    test_without_unseen.del  valid.txt\r\n",
      "entity_strings.del  train.del\t\t     valid_without_unseen.del\r\n",
      "relation_ids.del    train_sample.del\r\n",
      "test.del\t    train.txt\r\n"
     ]
    }
   ],
   "source": [
    "source_folder = '/scratche/home/apoorv/repos/probe_kge/data/wnrr'\n",
    "! ls {source_folder}"
   ]
  },
  {
   "cell_type": "code",
   "execution_count": 3,
   "id": "59e18046",
   "metadata": {},
   "outputs": [],
   "source": [
    "def readTriples(fname):\n",
    "    f = open(fname)\n",
    "    triples = []\n",
    "    for line in f:\n",
    "        if line[-1] == '\\n':\n",
    "            line = line[:-1]\n",
    "        triples.append(line.split('\\t'))\n",
    "    f.close()\n",
    "    return triples"
   ]
  },
  {
   "cell_type": "code",
   "execution_count": 4,
   "id": "aa327398",
   "metadata": {},
   "outputs": [],
   "source": [
    "# load half data\n",
    "data = {}\n",
    "splits = ['train', 'test', 'valid']\n",
    "for split in splits:\n",
    "    fname = os.path.join(source_folder, split + '.txt')\n",
    "    data[split] = readTriples(fname)"
   ]
  },
  {
   "cell_type": "code",
   "execution_count": 5,
   "id": "da7e6850",
   "metadata": {},
   "outputs": [
    {
     "data": {
      "text/plain": [
       "['09429387', '_hypernym', '09385911']"
      ]
     },
     "execution_count": 5,
     "metadata": {},
     "output_type": "execute_result"
    }
   ],
   "source": [
    "data['train'][5000]"
   ]
  },
  {
   "cell_type": "code",
   "execution_count": 6,
   "id": "43313580",
   "metadata": {},
   "outputs": [
    {
     "data": {
      "text/plain": [
       "86835"
      ]
     },
     "execution_count": 6,
     "metadata": {},
     "output_type": "execute_result"
    }
   ],
   "source": [
    "len(data['train'])"
   ]
  },
  {
   "cell_type": "code",
   "execution_count": 7,
   "id": "4de2b491",
   "metadata": {},
   "outputs": [
    {
     "data": {
      "text/plain": [
       "31881"
      ]
     },
     "execution_count": 7,
     "metadata": {},
     "output_type": "execute_result"
    }
   ],
   "source": [
    "uniq_tails = set()\n",
    "for t in data['train']:\n",
    "    uniq_tails.add(t[2])\n",
    "len(uniq_tails)"
   ]
  },
  {
   "cell_type": "code",
   "execution_count": 8,
   "id": "641113ab",
   "metadata": {},
   "outputs": [],
   "source": [
    "def getPOS(name):\n",
    "    return name[2:].split('_')[-2]\n",
    "\n",
    "def processDefinition(definition):\n",
    "    if '\\\"' in definition and ':' in definition:\n",
    "        out = definition.split(':')[0]\n",
    "    if ';' in definition:\n",
    "        out = definition.split(';')[0]\n",
    "    else:\n",
    "        out = definition\n",
    "    return out\n",
    "\n",
    "def getAlias(name, definition):\n",
    "    pos = getPOS(name)\n",
    "    name = ' '.join(name[2:].split('_')[:-2])\n",
    "    definition = processDefinition(definition)\n",
    "    out = name + ', ' + pos + ' -- ' + definition\n",
    "    return out"
   ]
  },
  {
   "cell_type": "code",
   "execution_count": 11,
   "id": "e3b6f473",
   "metadata": {},
   "outputs": [
    {
     "name": "stdout",
     "output_type": "stream",
     "text": [
      "['02154312', '__spy_VB_1', 'catch sight of'] spy, VB -- catch sight of\n",
      "['02073545', '__throw_off_VB_2', 'get rid of; \"I couldn\\'t shake the car that was following me\"'] throw off, VB -- get rid of\n",
      "['01397088', '__whop_VB_2', 'hit hard'] whop, VB -- hit hard\n",
      "['00090708', '__mutilate_VB_3', 'destroy or injure severely; \"mutilated bodies\"'] mutilate, VB -- destroy or injure severely\n",
      "['01872772', '__spiny_anteater_NN_1', 'a burrowing monotreme mammal covered with spines and having a long snout and claws for hunting ants and termites; native to New Guinea'] spiny anteater, NN -- a burrowing monotreme mammal covered with spines and having a long snout and claws for hunting ants and termites\n"
     ]
    }
   ],
   "source": [
    "dest_folder = '/scratche/home/apoorv/transformer-kgc/data/wnrr_shuffled'\n",
    "aliases_dict = {}\n",
    "# fname = os.path.join(dest_folder, 'wn-entity2text-new.txt')\n",
    "fname = os.path.join(dest_folder, 'wordnet-mlj12-definitions.txt')\n",
    "ent_names = []\n",
    "definitions = []\n",
    "aliases_set = set()\n",
    "f = open(fname)\n",
    "for line in f:\n",
    "    line = line.rstrip().split('\\t')\n",
    "    ent_names.append(line[1])\n",
    "    definitions.append(line[2])\n",
    "    alias = getAlias(line[1], line[2])\n",
    "    if alias in aliases_set:\n",
    "        print(line, alias)\n",
    "        alias = alias + ' 2'\n",
    "    else:\n",
    "        aliases_set.add(alias)\n",
    "    aliases_dict[line[0]] = alias\n",
    "f.close()"
   ]
  },
  {
   "cell_type": "code",
   "execution_count": 12,
   "id": "03f674ae",
   "metadata": {},
   "outputs": [
    {
     "data": {
      "text/plain": [
       "(40943, 40943)"
      ]
     },
     "execution_count": 12,
     "metadata": {},
     "output_type": "execute_result"
    }
   ],
   "source": [
    "len(aliases_dict), len(set(aliases_dict.values()))"
   ]
  },
  {
   "cell_type": "code",
   "execution_count": 16,
   "id": "5ed41257",
   "metadata": {},
   "outputs": [],
   "source": [
    "import random\n",
    "# shuffle aliases_dict\n",
    "temp = list(aliases_dict.values())\n",
    "random.shuffle(temp)\n",
    "res = dict(zip(aliases_dict, temp))\n",
    "aliases_dict_shuffled = res"
   ]
  },
  {
   "cell_type": "code",
   "execution_count": 22,
   "id": "3ebd09f8",
   "metadata": {},
   "outputs": [],
   "source": [
    "# forget original\n",
    "aliases_dict = aliases_dict_shuffled"
   ]
  },
  {
   "cell_type": "code",
   "execution_count": 23,
   "id": "6e6189bf",
   "metadata": {},
   "outputs": [
    {
     "name": "stdout",
     "output_type": "stream",
     "text": [
      "circumvention, NN -- the act of evading by going around\n",
      "mod con, NN -- modern convenience\n",
      "transfuse, VB -- treat by applying evacuated cups to the patient's skin\n",
      "himantopus mexicanus, NN -- stilt of southwestern United States to northern South America having black plumage extending from the head down the back of the neck\n",
      "storage area, NN -- the space in a ship or aircraft for storing cargo\n",
      "brutalization, NN -- the activity of treating someone savagely or viciously\n",
      "macadam, NN -- broken stone used in macadamized roadways\n",
      "repetition, NN -- the act of doing or performing again\n",
      "volunteer, VB -- do volunteer work\n",
      "mentha, NN -- mint plants\n",
      "printing machine, NN -- a machine that prints\n",
      "witchery, NN -- the art of sorcery\n",
      "presumptuousness, NN -- audacious (even arrogant) behavior that you have no right to\n",
      "family cymatiidae, NN -- tritons\n",
      "cross question, VB -- question closely, or question a witness that has already been questioned by the opposing side\n",
      "third-rater, NN -- one who is third-rate or distinctly inferior\n",
      "land agent, NN -- a person who administers a landed estate\n",
      "transparent gem, NN -- a gemstone having the property of transmitting light without serious diffusion\n",
      "pimpinella, NN -- anise\n",
      "unsure, JJ -- lacking or indicating lack of confidence or assurance\n",
      "sword lily, NN -- plants with sword-shaped leaves and erect stalks bearing bright-colored flowers composed of three petals and three drooping sepals\n",
      "panda car, NN -- a police cruiser\n",
      "focalization, NN -- the confinement of an infection to a limited area\n",
      "track meet, NN -- a track and field competition between two or more teams\n",
      "white fox, NN -- thickly-furred fox of Arctic regions\n",
      "orectolobus, NN -- carpet sharks\n",
      "counter, NN -- (computer science) a register whose contents go through a regular series of states (usually states indicating consecutive integers)\n",
      "maintain, VB -- keep in a certain state, position, or activity\n",
      "trawl, VB -- fish with trawlers\n",
      "marshall, NN -- United States general and statesman who as Secretary of State organized the European Recovery Program (1880-1959)\n",
      "outrange, VB -- have a greater range than (another gun)\n",
      "record, NN -- anything (such as a document or a phonograph record or a photograph) providing permanent evidence of or information about past events\n",
      "throttle valve, NN -- a valve that regulates the supply of fuel to the engine\n",
      "snooze, NN -- sleeping for a short period of time (usually not in bed)\n",
      "genus bufo, NN -- type genus of the Bufonidae\n",
      "order lepidodendrales, NN -- fossil arborescent plants arising during the early Devonian and conspicuous throughout the Carboniferous\n",
      "perforate, VB -- pass into or through, often by overcoming resistance\n",
      "leaper, NN -- someone who bounds or leaps (as in competition)\n",
      "arbor, NN -- tree (as opposed to shrub)\n",
      "viscousness, NN -- resistance of a liquid to shear forces (and hence to flow)\n",
      "taciturn, JJ -- habitually reserved and uncommunicative\n",
      "visken, NN -- an oral beta blocker (trade name Visken) used in treating hypertension\n",
      "cobblers, NN -- nonsense\n",
      "date, VB -- assign a date to\n",
      "microbiology, NN -- the branch of biology that studies microorganisms and their effects on humans\n",
      "equilateral triangle, NN -- a three-sided regular polygon\n",
      "perquisite, NN -- an incidental benefit awarded for certain types of employment (especially if it is regarded as a right)\n",
      "combustion, NN -- the act of burning something\n",
      "throw, NN -- the maximum movement available to a pivoted or reciprocating piece by a cam\n",
      "genus eranthis, NN -- winter aconite\n",
      "introjection, NN -- (psychoanalysis) the internalization of the parent figures and their values\n",
      "legion, NN -- a large military unit\n",
      "gust, NN -- a strong current of air\n",
      "pinch hitter, NN -- (baseball) a substitute for the regular batter\n",
      "lindera, NN -- aromatic evergreen or deciduous dioecious shrubs or trees of eastern Asia and North America\n",
      "disfigurement, NN -- the act of damaging the appearance or surface of something\n",
      "pleach, VB -- interlace the shoots of\n",
      "requiem shark, NN -- any of numerous sharks from small relatively harmless bottom-dwellers to large dangerous oceanic and coastal species\n",
      "moulding, NN -- sculpture produced by molding\n",
      "summerize, VB -- prepare for summer\n",
      "sail, VB -- travel on water propelled by wind\n",
      "bithynia, NN -- an ancient country in northwestern Asia Minor in what is now Turkey\n",
      "sexuality, NN -- the properties that distinguish organisms on the basis of their reproductive roles\n",
      "honorary society, NN -- an institution for the advancement of art or science or literature\n",
      "lead, VB -- be conducive to\n",
      "take, VB -- receive willingly something given or offered\n",
      "vultur, NN -- a bird that is usually restricted to the Andean condor\n",
      "genus corynebacterium, NN -- the type genus of the family Corynebacteriaceae which is widely distributed in nature\n",
      "epiphytic, JJ -- of or relating to epiphytes\n",
      "malaxis, NN -- large genus of largely terrestrial orchids with one or a few plicate leaves and slender spikes or tiny mostly green flowers\n",
      "visual, JJ -- any wheeled vehicle that is dilapidated and uncomfortable\n",
      "capital of serbia and montenegro, NN -- capital and largest city of Serbia and Montenegro\n",
      "legislature, NN -- persons who make or amend or repeal laws\n",
      "telephonist, NN -- someone who helps callers get the person they are calling\n",
      "edible asparagus, NN -- plant whose succulent young shoots are cooked and eaten as a vegetable\n",
      "german shepherd dog, NN -- breed of large shepherd dogs used in police work and as a guide for the blind\n",
      "family casuaridae, NN -- a family of large ostrich-like birds including cassowaries\n",
      "redact, VB -- formulate in a particular style or language\n",
      "fringe, VB -- decorate with or as if with a surrounding fringe\n",
      "thrust, VB -- push forcefully\n",
      "take in, VB -- serve oneself to, or consume regularly\n",
      "malvaviscus, NN -- small genus of shrubs of Central and South America: wax mallows\n",
      "verdure, NN -- the lush appearance of flourishing vegetation\n",
      "articulator, NN -- a movable speech organ\n",
      "inhibitor, NN -- a substance that retards or stops an activity\n",
      "spillover, NN -- (economics) any indirect effect of public expenditure\n",
      "somnambulate, VB -- walk in one's sleep\n",
      "supermodel, NN -- a fashion model who has attained the status of a celebrity\n",
      "unionidae, NN -- freshwater mussels found worldwide\n",
      "spider web, NN -- a web spun by spiders to trap insect prey\n",
      "unite, VB -- become one\n",
      "umpirage, NN -- the act of umpiring\n",
      "ciliary artery, NN -- one of several arteries supplying the choroid coat of the eye\n",
      "sedge, NN -- grasslike or rushlike plant growing in wet places having solid stems, narrow grasslike leaves and spikelets of inconspicuous flowers\n",
      "tool, NN -- an implement used in the practice of a vocation\n",
      "wedding party, NN -- a party of people at a wedding\n",
      "workmanship, NN -- skill in an occupation or trade\n",
      "desperate criminal, NN -- a bold outlaw (especially on the American frontier)\n",
      "relaxer, NN -- any agent that produces relaxation\n",
      "repose, VB -- lean in a comfortable resting position\n"
     ]
    }
   ],
   "source": [
    "count = 0\n",
    "for k, v in aliases_dict.items():\n",
    "    print(v)\n",
    "    count += 1\n",
    "    if count == 100:\n",
    "        break"
   ]
  },
  {
   "cell_type": "code",
   "execution_count": 24,
   "id": "e62466c4",
   "metadata": {},
   "outputs": [],
   "source": [
    "def triple2text(t):\n",
    "    global aliases_dict\n",
    "    rel = ' '.join(t[1][1:].split('_'))\n",
    "    out = [aliases_dict[t[0]], rel, aliases_dict[t[2]]]\n",
    "    return out"
   ]
  },
  {
   "cell_type": "code",
   "execution_count": 25,
   "id": "c13734be",
   "metadata": {},
   "outputs": [
    {
     "name": "stdout",
     "output_type": "stream",
     "text": [
      "['pseudaletia unipuncta, NN -- moth whose destructive larvae travel in multitudes', 'hypernym', 'individualize, VB -- make or mark or treat as individual']\n",
      "['passionflower vine, NN -- any of various chiefly tropical American vines some bearing edible fruit', 'also see', 'suggest, VB -- imply as a possibility']\n",
      "['sensitivity, NN -- sensitivity to emotional feelings (of self and others)', 'hypernym', 'allyl radical, NN -- the univalent unsaturated organic radical C3H5']\n",
      "['oestrogen, NN -- a general term for female steroid sex hormones that are secreted by the ovary and responsible for typical female sexual characteristics', 'hypernym', 'rough, JJ -- of the margin of a leaf shape']\n",
      "['thwarter, NN -- someone who systematically obstructs some action that others want to take', 'hypernym', 'palaemon, NN -- type genus of the family Palaemonidae']\n",
      "['charge, VB -- cause formation of a net electrical charge in or on', 'member meronym', 'genus echinacea, NN -- small genus of North American coarse perennial herbs']\n",
      "['pod, NN -- a group of aquatic mammals', 'member meronym', 'delaware bay, NN -- an inlet of the North Atlantic']\n",
      "['roman emperor, NN -- sovereign of the Roman Empire', 'derivationally related form', 'genus acer, NN -- type genus of the Aceraceae']\n",
      "['inference, NN -- the reasoning involved in drawing a conclusion or making a logical judgment on the basis of circumstantial evidence and prior conclusions rather than on the basis of direct observation', 'hypernym', 'pipistrellus pipistrellus, NN -- small European brown bat']\n",
      "['letter of the alphabet, NN -- the conventional characters of the alphabet used to represent speech', 'hypernym', \"ram's horn, NN -- annual of southern United States to Mexico having large whitish or yellowish flowers mottled with purple and a long curving beak\"]\n"
     ]
    }
   ],
   "source": [
    "for t in data['train'][10:20]:\n",
    "    print(triple2text(t))"
   ]
  },
  {
   "cell_type": "code",
   "execution_count": 26,
   "id": "9c5a6612",
   "metadata": {},
   "outputs": [],
   "source": [
    "from transformers import T5TokenizerFast\n",
    "tokenizer = T5TokenizerFast.from_pretrained('t5-small')"
   ]
  },
  {
   "cell_type": "code",
   "execution_count": 27,
   "id": "a016af3e",
   "metadata": {},
   "outputs": [
    {
     "data": {
      "application/vnd.jupyter.widget-view+json": {
       "model_id": "85fd6d2ffb65441d8f870d8b126a4ada",
       "version_major": 2,
       "version_minor": 0
      },
      "text/plain": [
       "HBox(children=(FloatProgress(value=0.0, max=40943.0), HTML(value='')))"
      ]
     },
     "metadata": {},
     "output_type": "display_data"
    },
    {
     "name": "stdout",
     "output_type": "stream",
     "text": [
      "\n"
     ]
    }
   ],
   "source": [
    "from tqdm.notebook import tqdm\n",
    "lengths = []\n",
    "for k, v in tqdm(aliases_dict.items()):\n",
    "    x = tokenizer(v)\n",
    "    lengths.append(len(x['input_ids']))"
   ]
  },
  {
   "cell_type": "code",
   "execution_count": 28,
   "id": "8dd4964a",
   "metadata": {},
   "outputs": [
    {
     "data": {
      "text/plain": [
       "Text(0.5, 0, 'Tokenized lengths')"
      ]
     },
     "execution_count": 28,
     "metadata": {},
     "output_type": "execute_result"
    },
    {
     "data": {
      "image/png": "[encoded data removed]",
      "text/plain": [
       "<Figure size 432x288 with 1 Axes>"
      ]
     },
     "metadata": {
      "needs_background": "light"
     },
     "output_type": "display_data"
    }
   ],
   "source": [
    "import matplotlib.pyplot as plt \n",
    "\n",
    "import numpy as np \n",
    "\n",
    "%matplotlib inline\n",
    "\n",
    "# x = np.random.normal(size = 1000) \n",
    "x = lengths\n",
    "plt.hist(x, bins=30) \n",
    "\n",
    "plt.ylabel('Num entities');\n",
    "plt.xlabel('Tokenized lengths')"
   ]
  },
  {
   "cell_type": "code",
   "execution_count": 29,
   "id": "cfc5c4f2",
   "metadata": {},
   "outputs": [
    {
     "data": {
      "text/plain": [
       "40943"
      ]
     },
     "execution_count": 29,
     "metadata": {},
     "output_type": "execute_result"
    }
   ],
   "source": [
    "len(aliases_dict)"
   ]
  },
  {
   "cell_type": "code",
   "execution_count": 30,
   "id": "9df0713c",
   "metadata": {},
   "outputs": [],
   "source": [
    "def mapTriple(t, aliases_dict):\n",
    "    out = triple2text(t)\n",
    "    return out"
   ]
  },
  {
   "cell_type": "code",
   "execution_count": 31,
   "id": "1e84e918",
   "metadata": {},
   "outputs": [
    {
     "name": "stdout",
     "output_type": "stream",
     "text": [
      "['rumohra, NN -- leatherleaf ferns: in some classifications included in genus Polystichum', 'hypernym', 'carson city, NN -- capital of the state of Nevada']\n",
      "['stutterer, NN -- someone who speaks with involuntary pauses and repetitions', 'derivationally related form', 'film, VB -- record in film']\n",
      "['penutian, NN -- a family of Amerindian language spoken in the great interior valley of California', 'derivationally related form', 'stemma, NN -- an eye having a single lens']\n",
      "['wv, NN -- a state in east central United States', 'instance hypernym', 'relationship, NN -- a state involving mutual dealings between people or parties or countries']\n",
      "['roll, NN -- the act of throwing dice', 'derivationally related form', 'holdup, NN -- the act of delaying']\n",
      "['recount, NN -- an additional (usually a second) count', 'derivationally related form', 'skid, VB -- elevate onto skids']\n",
      "['honorary society, NN -- an institution for the advancement of art or science or literature', 'hypernym', 'story, NN -- a structure consisting of a room or set of rooms at a single position along a vertical scale']\n",
      "['predecease, VB -- die before', 'hypernym', 'sapindus, NN -- type genus of the Sapindaceae']\n",
      "['subclavian artery, NN -- either of two arteries that supply blood to the neck and arms', 'hypernym', 'genus dasypus, NN -- type genus of the Dasypodidae']\n",
      "['call in, VB -- demand payment of (a loan)', 'derivationally related form', 'taxodium mucronatum, NN -- cypress of river valleys of Mexican highlands']\n",
      "['pseudaletia unipuncta, NN -- moth whose destructive larvae travel in multitudes', 'hypernym', 'individualize, VB -- make or mark or treat as individual']\n",
      "['passionflower vine, NN -- any of various chiefly tropical American vines some bearing edible fruit', 'also see', 'suggest, VB -- imply as a possibility']\n",
      "['sensitivity, NN -- sensitivity to emotional feelings (of self and others)', 'hypernym', 'allyl radical, NN -- the univalent unsaturated organic radical C3H5']\n",
      "['oestrogen, NN -- a general term for female steroid sex hormones that are secreted by the ovary and responsible for typical female sexual characteristics', 'hypernym', 'rough, JJ -- of the margin of a leaf shape']\n",
      "['thwarter, NN -- someone who systematically obstructs some action that others want to take', 'hypernym', 'palaemon, NN -- type genus of the family Palaemonidae']\n",
      "['charge, VB -- cause formation of a net electrical charge in or on', 'member meronym', 'genus echinacea, NN -- small genus of North American coarse perennial herbs']\n",
      "['pod, NN -- a group of aquatic mammals', 'member meronym', 'delaware bay, NN -- an inlet of the North Atlantic']\n",
      "['roman emperor, NN -- sovereign of the Roman Empire', 'derivationally related form', 'genus acer, NN -- type genus of the Aceraceae']\n",
      "['inference, NN -- the reasoning involved in drawing a conclusion or making a logical judgment on the basis of circumstantial evidence and prior conclusions rather than on the basis of direct observation', 'hypernym', 'pipistrellus pipistrellus, NN -- small European brown bat']\n",
      "['letter of the alphabet, NN -- the conventional characters of the alphabet used to represent speech', 'hypernym', \"ram's horn, NN -- annual of southern United States to Mexico having large whitish or yellowish flowers mottled with purple and a long curving beak\"]\n",
      "['os nasale, NN -- an elongated rectangular bone that forms the bridge of the nose', 'derivationally related form', 'mezzo-rilievo, NN -- a sculptural relief between low relief and high relief']\n",
      "['absinthe, NN -- strong green liqueur flavored with wormwood and anise', 'derivationally related form', 'trailer, NN -- a wheeled vehicle that can be pulled by a car or truck and is equipped for occupancy']\n",
      "['irritate, VB -- excite to an abnormal condition, or chafe or inflame', 'derivationally related form', 'legal action, NN -- a judicial proceeding brought by one party against another']\n",
      "['exposition, NN -- a collection of things (goods or works of art etc.) for public display', 'derivationally related form', 'peloponnesus, NN -- the southern peninsula of Greece']\n",
      "['ixobrychus, NN -- bitterns', 'hypernym', 'paper money, NN -- currency issued by a government or central bank and consisting of printed paper that can circulate as a substitute for specie']\n",
      "['take home, VB -- earn as a salary or wage', 'hypernym', 'sand tiger, NN -- shallow-water shark with sharp jagged teeth found on both sides of Atlantic']\n",
      "['genus calceolaria, NN -- large genus of tropical American herbs and shrubs with showy cymose flowers', 'hypernym', 'halloo, NN -- a shout to attract attention']\n",
      "['cooker, NN -- a utensil for cooking', 'derivationally related form', 'performance, NN -- process or manner of functioning or operating']\n",
      "['violin maker, NN -- someone who makes violins', 'derivationally related form', 'novel, NN -- an extended fictional work in prose']\n",
      "['greenling, NN -- food fish of the northern Pacific', 'hypernym', 'sellers, NN -- English comic actor (1925-1980)']\n",
      "['subscriber, NN -- someone who contracts to receive and pay for a service or a certain number of issues of a publication', 'member meronym', \"treasurer's cheque, NN -- a check issued by the officer of a bank on the banks own account (not that of a private person)\"]\n",
      "['manly, JJ -- possessing qualities befitting a man', 'derivationally related form', 'fuse, VB -- equip with a fuse']\n",
      "['maraud, VB -- raid and rove in search of booty', 'derivationally related form', 'family cervidae, NN -- deer: reindeer']\n",
      "['genus cochlearius, NN -- boatbills', 'hypernym', 'reconcile, VB -- make (one thing) compatible with (another)']\n",
      "['margin, NN -- (finance) the net sales minus the cost of goods and services sold', 'derivationally related form', 'restraint, NN -- the state of being physically constrained']\n",
      "['abhorrer, NN -- a signer of a 1679 address to Charles II in which those who petitioned for the reconvening of parliament were condemned and abhorred', 'hypernym', 'absentee, NN -- one that is absent or not in residence']\n",
      "['talinum, NN -- genus of mainly American more-or-less succulent herbs', 'synset domain topic of', 'thralldom, NN -- the state of being under the control of another person']\n",
      "['rabbit punch, NN -- a short chopping blow to the back of the neck', 'derivationally related form', \"soil, NN -- the part of the earth's surface consisting of humus and disintegrated rock\"]\n",
      "['written report, NN -- a written document describing the findings of some individual or group', 'member meronym', 'pawn, NN -- a person used by another to gain an end']\n",
      "['oriole, NN -- American songbird', 'hypernym', 'golan heights, NN -- a fortified hilly area between southern Lebanon and southern Syria']\n",
      "['summer solstice, NN -- June 21, when the sun is at its northernmost point', 'hypernym', 'countersuit, NN -- a suit brought against someone who has sued you']\n",
      "['levitate, VB -- be suspended in the air, as if in defiance of gravity', 'has part', 'chamber, NN -- a natural or artificial enclosed space']\n",
      "['turnip, NN -- root of any of several members of the mustard family', 'hypernym', 'lard, VB -- prepare or cook with lard']\n",
      "['watchword, NN -- a slogan used to rally support for a cause', 'hypernym', 'xenorhyncus, NN -- East Indian and Australian storks']\n",
      "['conspiracy, NN -- a group of conspirators banded together to achieve some harmful or illegal purpose', 'hypernym', 'st. olav, NN -- King and patron saint of Norway (995-1030)']\n",
      "['drinker, NN -- a person who drinks liquids', 'derivationally related form', 'orycteropus afer, NN -- nocturnal burrowing mammal of the grasslands of Africa that feeds on termites']\n",
      "['expurgator, NN -- a person who edits a text by removing obscene or offensive words or passages', 'hypernym', 'u-boat, NN -- a submersible warship usually armed with torpedoes']\n",
      "['natural family planning, NN -- any of several methods of family planning that do not involve sterilization or contraceptive devices or drugs', 'derivationally related form', 'sclerosis, NN -- any pathological hardening or thickening of tissue']\n",
      "['democratize, VB -- become (more) democratic', 'derivationally related form', 'gruidae, NN -- cranes']\n",
      "['qatari, NN -- a native or inhabitant of Qatar', 'derivationally related form', 'iciness, NN -- coldness due to a cold environment']\n",
      "['let in, VB -- allow participation in or the right to be part of', 'hypernym', 'priacanthidae, NN -- small carnivorous percoid fishes found worldwide in tropical seas']\n",
      "['wheeler dealer, NN -- a shrewd or unscrupulous person who knows how to circumvent difficulties', 'derivationally related form', 'prepotency, NN -- the state of being predominant over others']\n",
      "[\"bathe, VB -- clean one's body by immersion into water\", 'member of domain usage', 'protective covering, NN -- a covering that is intend to protect from damage or injury']\n",
      "['extensor muscle, NN -- a skeletal muscle whose contraction extends or stretches a body part', 'hypernym', 'wrist joint, NN -- a joint between the distal end of the radius and the proximal row of carpal bones']\n",
      "['trimmings, NN -- the accessories that normally accompany (something or some activity)', 'derivationally related form', 'turbot, NN -- a large brownish European flatfish']\n",
      "['kachinic, NN -- Tibeto-Burman languages spoken in northernmost Burma and adjacent China and India', 'derivationally related form', 'genevan, NN -- an adherent of the theological doctrines of John Calvin']\n",
      "['wholesale, VB -- sell in large quantities', 'has part', 'hume cronyn, NN -- Canadian actor who frequently played character parts with his wife Jessica Tandy (1911-2003)']\n",
      "[\"pout, VB -- make a sad face and thrust out one's lower lip\", 'derivationally related form', 'porzana, NN -- spotted crakes']\n",
      "['motor, NN -- machine that converts other forms of energy into mechanical energy and so imparts motion', 'derivationally related form', 'seal, NN -- a finishing coat applied to exclude moisture']\n",
      "['skilled, JJ -- having or showing or requiring special skill', 'hypernym', 'winter squash, NN -- any of various fruits of the gourd family with thick rinds and edible yellow to orange flesh that mature in the fall and can be stored for several months']\n",
      "['order artiodactyla, NN -- an order of hooved mammals of the subclass Eutheria (including pigs and peccaries and hippopotami and members of the suborder Ruminantia) having an even number of functional toes', 'instance hypernym', 'genus alternanthera, NN -- genus of low herbs of tropical America and Australia']\n",
      "['unciform bone, NN -- the wrist bone in line with the 4th and 5th fingers', 'derivationally related form', 'turn up, VB -- discover the location of']\n",
      "['sycamore fig, NN -- thick-branched wide-spreading tree of Africa and adjacent southwestern Asia often buttressed with branches rising from near the ground', 'hypernym', 'remember, VB -- show appreciation to']\n",
      "['uniting, NN -- the combination of two or more commercial companies', 'hypernym', 'wholeness, NN -- an undivided or unbroken completeness or totality with nothing wanting']\n",
      "['drag, NN -- something that slows or delays progress', 'synset domain topic of', 'stridency, NN -- having the timbre of a loud high-pitched sound']\n",
      "['garden, NN -- a yard or lawn adjoining a house', 'hypernym', 'grant, VB -- give as judged due or on the basis of merit']\n",
      "['precursor, NN -- a person who goes before or announces the coming of another', 'member of domain region', 'flying fish, NN -- tropical marine fishes having enlarged winglike fins used for brief gliding flight']\n",
      "['smut, VB -- affect with smut or mildew, as of a crop such as corn', 'also see', 'jumper, NN -- an athlete who competes at jumping']\n",
      "['painter, NN -- a worker who is employed to cover objects with paint', 'has part', 'soil, VB -- make soiled, filthy, or dirty']\n",
      "['nasal decongestant, NN -- a decongestant that provides temporary relief of nasal symptoms of the common cold and rhinitis and upper respiratory infections', 'hypernym', 'auctioneer, NN -- an agent who conducts an auction']\n",
      "['gauge, NN -- diameter of a tube or gun barrel', 'derivationally related form', 'sixth-former, NN -- a student in the sixth form']\n",
      "['night, NN -- a shortening of nightfall', 'derivationally related form', 'saviour, NN -- a person who rescues you from harm or danger']\n",
      "['swear, VB -- make a deposition', 'derivationally related form', 'route, NN -- an open way (generally public) for travel or transportation']\n",
      "['genus gyromitra, NN -- a genus of fungi of the family Helvellaceae with a fertile portion that is tan to brown', 'hypernym', 'ruination, NN -- an irrecoverable state of devastation and destruction']\n",
      "['disapproval, NN -- the expression of disapproval', 'derivationally related form', 'adhere, VB -- be compatible or in accordance with']\n",
      "['straighten out, VB -- change for the better', 'hypernym', 'family centrarchidae, NN -- sunfish family']\n",
      "['turn in, VB -- to surrender someone or something to another', 'hypernym', 'orycteropus afer, NN -- nocturnal burrowing mammal of the grasslands of Africa that feeds on termites']\n",
      "['gravitate, VB -- move due to the pull of gravitation', 'derivationally related form', 'polyergus, NN -- Amazon ants']\n",
      "['warfare, NN -- an active struggle between competing entities', 'hypernym', 'undercoat, NN -- the first or preliminary coat of paint or size applied to a surface']\n",
      "['genus agonus, NN -- type genus of the Agonidae', 'derivationally related form', 'episode, NN -- a happening that is distinctive in a series of related events']\n",
      "['wheel, NN -- an instrument of torture that stretches or disjoints or mutilates victims', 'hypernym', 'telefax, VB -- send something via a facsimile machine']\n",
      "['peyote, NN -- a small spineless globe-shaped cactus', 'derivationally related form', 'pearl harbor, NN -- a harbor on Oahu to the west of Honolulu']\n",
      "['councilorship, NN -- the position of council member', 'derivationally related form', 'wane, NN -- a gradual decline (in size or strength or power or number)']\n",
      "['mythical place, NN -- a place that exists only in imagination', 'derivationally related form', 'lamellicorn beetle, NN -- beetle having antennae with hard platelike terminal segments']\n",
      "['cover, VB -- maintain a check on', 'hypernym', 'choreographer, NN -- someone who creates new dances']\n",
      "['sense, NN -- a general conscious awareness', 'derivationally related form', 'sequestration, NN -- the act of segregating or sequestering']\n",
      "['making known, NN -- a speech act that conveys information', 'synset domain topic of', 'utc, NN -- Greenwich Mean Time updated with leap seconds']\n",
      "['dispenser, NN -- a container so designed that the contents can be used in prescribed amounts', 'derivationally related form', 'sanction, NN -- the act of final authorization']\n",
      "['seat, NN -- any support where you can sit (especially the part of a chair or bench etc. on which you sit)', 'derivationally related form', 'disprove, VB -- prove to be false']\n",
      "['hospitalize, VB -- admit into a hospital', 'hypernym', 'washboard, NN -- protective covering consisting of a broad plank along a gunwale to keep water from splashing over the side']\n",
      "['libyan desert, NN -- the northeastern part of the Sahara Desert in Libya and Egypt and Sudan', 'derivationally related form', 'extraordinary, JJ -- beyond what is ordinary or usual']\n",
      "['schematization, NN -- providing a chart or outline of a system', 'member meronym', 'antagonism, NN -- an actively expressed feeling of dislike and hostility']\n",
      "['self, NN -- a person considered as a unique individual', 'hypernym', 'hazelnut, NN -- nut of any of several trees of the genus Corylus']\n",
      "['monazite, NN -- a reddish-brown mineral containing rare earth metals', 'derivationally related form', 'gas plant, NN -- Eurasian perennial herb with white flowers that emit flammable vapor in hot weather']\n",
      "['indonesian, NN -- the dialect of Malay used as the national language of the Republic of Indonesia or of Malaysia', 'derivationally related form', 'pinion, NN -- a gear with a small number of teeth designed to mesh with a larger wheel or rack']\n",
      "[\"shirtfront, NN -- a man's detachable insert (usually starched) to simulate the front of a shirt\", 'hypernym', 'mask, NN -- activity that tries to conceal something']\n",
      "['relinquishment, NN -- the act of giving up and abandoning a struggle or task etc.', 'hypernym', 'colour vision deficiency, NN -- genetic inability to distinguish differences in hue']\n",
      "['albino, NN -- a person with congenital albinism: white hair and milky skin', 'has part', 'rub, VB -- move over something with pressure']\n",
      "['genus coregonus, NN -- type genus of the Coregonidae: whitefishes', 'derivationally related form', 'flip side, NN -- a different aspect of something (especially the opposite aspect)']\n",
      "['treat, VB -- provide treatment for', 'hypernym', 'pharos, NN -- a tower with a light that gives warning of shoals to passing ships']\n",
      "['welcome, NN -- a greeting or reception', 'also see', 'genus amphiprion, NN -- damsel fishes']\n",
      "['try, NN -- earnest and conscientious activity intended to do or accomplish something', 'derivationally related form', 'emulsify, VB -- cause to become an emulsion']\n",
      "['rhythmical, JJ -- recurring with measured regularity', 'hypernym', 'low temperature, NN -- the absence of heat']\n",
      "[\"saxegothea, NN -- one species: Prince Albert's yew\", 'hypernym', 'romance, NN -- a story dealing with love']\n",
      "['self-awareness, NN -- awareness of your own individuality', 'derivationally related form', 'gator, NN -- either of two amphibious reptiles related to crocodiles but with shorter broader snouts']\n",
      "['rain down, VB -- precipitate as rain', 'derivationally related form', 'sultanate of oman, NN -- a strategically located monarchy on the southern and eastern coasts of the Arabian Peninsula']\n",
      "['metric function, NN -- a function of a topological space that gives, for any two points in the space, a value equal to the distance between them', 'synset domain topic of', 'wmd, NN -- a weapon that kills or injures civilian as well as military personnel (nuclear and chemical and biological weapons)']\n",
      "['moehringia, NN -- low-growing herbs widely distributed in temperate and Arctic northern hemisphere: sandworts', 'hypernym', 'fosterling, NN -- a child who is raised by foster parents']\n",
      "['ononis, NN -- genus of European subshrubs or herbs having pink or purple or yellow solitary or clustered flowers: restharrow', 'derivationally related form', 'pyrite, NN -- a common mineral (iron disulfide) that has a pale yellow color']\n",
      "['genus chenopodium, NN -- goosefoot', 'hypernym', 'bastardize, VB -- declare a child to be illegitimate']\n",
      "['orderliness, NN -- the quality of appreciating method and system', 'hypernym', 'phylum phoronida, NN -- small phylum of wormlike marine animals']\n",
      "['take on, VB -- admit into a group or community', 'also see', 'ogre, NN -- a cruel wicked and inhuman person']\n",
      "['phantasy, NN -- imagination unrestricted by reality', 'member meronym', 'family clupeidae, NN -- herrings']\n",
      "['thecodont reptile, NN -- presumably in the common ancestral line to dinosaurs and crocodiles and birds', 'hypernym', 'polyodon, NN -- type genus of the Polyodontidae']\n",
      "['equator, NN -- a circle dividing a sphere or other surface into two usually equal and symmetrical parts', 'hypernym', 'talinum aurantiacum, NN -- plant with fleshy roots and erect stems with narrow succulent leaves and one reddish-orange flower in each upper leaf axil']\n",
      "['homeland security, NN -- the federal department that administers all matters relating to homeland security', 'hypernym', 'viridity, NN -- green color or pigment']\n",
      "['verbalism, NN -- the communication (in speech or writing) of your beliefs or opinions', 'synset domain topic of', 'hock-joint, NN -- tarsal joint of the hind leg of hoofed mammals']\n",
      "['antineoplastic antibiotic, NN -- an antibiotic drug used as an antineoplastic in chemotherapy', 'derivationally related form', 'christianity, NN -- the collective body of Christians throughout the world and history (found predominantly in Europe and the Americas and Australia)']\n",
      "['lateran, NN -- the site in Rome containing the church of Rome and the Lateran Palace', 'hypernym', \"ram's horn, NN -- annual of southern United States to Mexico having large whitish or yellowish flowers mottled with purple and a long curving beak\"]\n",
      "['prophylactic device, NN -- an agent or device intended to prevent conception', 'hypernym', 'orphenadrine, NN -- a skeletal muscle relaxant (trade name Norflex) used to treat severe muscle strain and Parkinsonism']\n",
      "['noxiousness, NN -- the quality of being noxious', 'hypernym', \"facial recognition, NN -- biometric identification by scanning a person's face and matching it against a library of known faces\"]\n",
      "['sphaeriales, NN -- large order of ascomycetous fungi usually having a dark hard perithecia with definite ostioles', 'synset domain topic of', 'hip joint, NN -- the ball-and-socket joint between the head of the femur and the acetabulum']\n",
      "['orthodox church, NN -- derived from the Byzantine Church and adhering to Byzantine rites', 'hypernym', 'make, VB -- give certain properties to something']\n",
      "['tuner, NN -- someone who tunes pianos', 'member meronym', 'talkativeness, NN -- the quality of being wordy and talkative']\n",
      "['arbor, NN -- tree (as opposed to shrub)', 'derivationally related form', 'revolution, NN -- the overthrow of a government by those who are governed']\n",
      "['grade, NN -- the gradient of a slope or road or other surface', 'hypernym', 'parlour grand piano, NN -- a small grand piano']\n",
      "['syracuse, NN -- a city in southeastern Sicily that was founded by Corinthians in the 8th century BC', 'hypernym', 'genus parnassia, NN -- genus of bog herbs of Arctic and northern temperate regions']\n",
      "['swing, NN -- the act of swinging a golf club at a golf ball and (usually) hitting it', 'derivationally related form', 'stick, VB -- be a devoted follower or supporter']\n",
      "['bed, VB -- furnish with a bed', 'derivationally related form', 'wild ginger, NN -- low-growing perennial herb with pungent gingery leaves and rhizomes']\n",
      "['plate, NN -- (baseball) base consisting of a rubber slab where the batter stands', 'instance hypernym', 'demulen, NN -- trade name for an oral contraceptive']\n",
      "['phrenitis, NN -- inflammation of the brain usually caused by a virus', 'member meronym', 'sigeh, NN -- a Shiite tradition of temporary marriage permitted in Iran that allows a couple to specify the terms of their relationship']\n",
      "['slip-up, NN -- a minor inadvertent mistake usually observed in speech or writing or in small accidents or memory lapses etc.', 'derivationally related form', 'decay, VB -- undergo decay or decomposition']\n",
      "['saccharum munja, NN -- tough Asiatic grass whose culms are used for ropes and baskets', 'hypernym', 'interplanetary medium, NN -- interplanetary space including forms of energy and gas and dust']\n",
      "['vitality, NN -- an energetic style', 'hypernym', 'recruit, VB -- register formally as a participant or member']\n",
      "['erie, NN -- a port city on Lake Erie in northwestern Pennsylvania', 'hypernym', 'exchange, VB -- exchange a penalty for a less severe one']\n",
      "['turn up, VB -- discover the location of', 'hypernym', 'use, VB -- use up, consume fully']\n",
      "['dilution, NN -- a diluted solution', 'derivationally related form', 'exercise, NN -- (usually plural) a ceremony that involves processions and speeches']\n",
      "['otology, NN -- the branch of medicine concerned with the ear', 'has part', 'recital, NN -- a detailed account or description of something']\n",
      "['swosh, VB -- move with or cause to move with a whistling or hissing sound', 'derivationally related form', 'mesopotamia, NN -- the land between the Tigris and Euphrates']\n",
      "['inspector general, NN -- a military officer responsible for investigations', 'derivationally related form', 'magnetization, NN -- the extent or degree to which something is magnetized']\n",
      "['insanity, NN -- relatively permanent disorder of the mind', 'hypernym', 'yalu river, NN -- river in eastern Asia']\n",
      "['adduction, NN -- (physiology) moving of a body part toward the central axis of the body', 'hypernym', 'river, NN -- a large natural stream of water (larger than a creek)']\n",
      "['strike out, VB -- cause to get out', 'hypernym', 'trisomy, NN -- chrosomal abnormality in which there is one more than the normal number of chromosomes in a cell']\n",
      "['cambridge, NN -- a city in eastern England on the River Cam', 'hypernym', 'nautical mile, NN -- a former British unit of length equivalent to 6,080 feet (1,853.184 meters)']\n",
      "['spectroscopical, JJ -- of or relating to or involving spectroscopy', 'synset domain topic of', 'magazine, NN -- a periodic publication containing pictures and stories and articles of interest to those who purchase it or subscribe to it']\n",
      "['truckle, VB -- yield to out of weakness', 'hypernym', 'solid food, NN -- any solid substance (as opposed to liquid) that is used as a source of nourishment']\n",
      "['mediator, NN -- a negotiator who acts as a link between parties', 'synset domain topic of', 'walk in, VB -- enter by walking']\n",
      "['peter lorre, NN -- United States actor (born in Hungary) noted for playing sinister roles (1904-1964)', 'hypernym', 'saltbush, NN -- any of various shrubby plants of the genus Atriplex that thrive in dry alkaline soil']\n",
      "['deal, VB -- direct the course of', 'derivationally related form', 'plume, NN -- the light horny waterproof structure forming the external covering of birds']\n",
      "['snip off, VB -- sever or remove by pinching or snipping', 'hypernym', \"predictor, NN -- a computer for controlling antiaircraft fire that computes the position of an aircraft at the instant of a shell's arrival\"]\n",
      "['family cannaceae, NN -- coextensive with the genus Canna', 'hypernym', 'telephone, VB -- get or try to get into communication (with someone) by telephone']\n",
      "['pseudococcidae, NN -- scalelike insects: mealybugs', 'hypernym', 'new zealand, NN -- an independent country within the British Commonwealth']\n",
      "['hypostasis, NN -- (metaphysics) essential nature or underlying reality', 'hypernym', 'arteritis, NN -- inflammation of an artery']\n",
      "['volgaic, NN -- a group of Finnic languages spoken around the Volga river', 'derivationally related form', 'draw the line, VB -- reasonably object (to) or set a limit (on)']\n",
      "['outrage, NN -- a feeling of righteous anger', 'hypernym', 'parasitaxus, NN -- one species: parasite yew']\n",
      "['strategist, NN -- an expert in strategy (especially in warfare)', 'derivationally related form', 'provider, NN -- someone who provides the means for subsistence']\n",
      "['leptodactylid frog, NN -- toothed frogs: terrestrial or aquatic or arboreal', 'hypernym', 'rollback, NN -- the act of forcing the enemy to withdraw']\n",
      "['tupi-guarani language, NN -- a family of South American Indian languages', 'hypernym', 'sublieutenant, NN -- an officer ranking next below a lieutenant']\n",
      "['stock, NN -- the handle of a handgun or the butt end of a rifle or shotgun or part of the support of a machine gun or artillery gun', 'derivationally related form', 'hand clapping, NN -- a demonstration of approval by clapping the hands together']\n",
      "['family anguidae, NN -- alligator lizards', 'hypernym', 'shoot, VB -- spend frivolously and unwisely']\n",
      "['war, NN -- a legal state created by a declaration of war and ended by official declaration during which the international rules of war apply', 'hypernym', 'nuthatch, NN -- any of various small short-tailed songbirds with strong feet and a sharp beak that feed on small nuts and insects']\n",
      "['simmer, VB -- boil slowly at low temperature', 'derivationally related form', 'capital of gambia, NN -- a port city and capital of Gambia']\n",
      "['mahogany tree, NN -- any of various tropical timber trees of the family Meliaceae especially the genus Swietinia valued for their hard yellowish- to reddish-brown wood that is readily worked and takes a high polish', 'derivationally related form', 'poverty grass, NN -- small heathlike plant covered with white down growing on beaches in northeastern North America']\n",
      "['supreme allied commander atlantic, NN -- commanding officer of ACLANT', 'hypernym', 'seal, VB -- affix a seal to']\n",
      "['jelly, NN -- any substance having the consistency of jelly or gelatin', 'derivationally related form', 'genus atriplex, NN -- orach']\n",
      "[\"viper's grass, NN -- perennial south European herb having narrow entire leaves and solitary yellow flower heads and long black edible roots shaped like carrots\", 'hypernym', 'cell, NN -- a small unit serving as part of or as the nucleus of a larger political movement']\n",
      "['virgo the virgin, NN -- the sixth sign of the zodiac', 'derivationally related form', 'order fucales, NN -- coextensive with the family Fucaceae']\n",
      "['pom-pom, NN -- artillery designed to shoot upward at airplanes', 'derivationally related form', 'khanate, NN -- the position of a khan']\n",
      "['symbolist, NN -- a member of an artistic movement that expressed ideas indirectly via symbols', 'derivationally related form', 'relaxation, NN -- the act of making less strict']\n",
      "['ionization, NN -- the process of ionizing', 'hypernym', 'echelon, NN -- a body of troops arranged in a line']\n",
      "['horn button, NN -- a button that you press to activate the horn of an automobile', 'derivationally related form', 'extraordinary, JJ -- beyond what is ordinary or usual']\n",
      "['swill, VB -- feed pigs', 'hypernym', 'tame, VB -- make fit for cultivation, domestic life, and service to humans']\n",
      "['genus euphorbia, NN -- type genus of the Euphorbiaceae: very large genus of diverse plants all having milky juice', 'hypernym', 'sheep tick, NN -- parasitic on sheep and cattle as well as humans']\n",
      "['circumnavigation, NN -- traveling around something (by ship or plane)', 'hypernym', 'procedure, NN -- a mode of conducting legal and parliamentary proceedings']\n",
      "['coordinate, VB -- bring into common action, movement, or condition', 'derivationally related form', 'genus calceolaria, NN -- large genus of tropical American herbs and shrubs with showy cymose flowers']\n",
      "['genus sisymbrium, NN -- genus of Old World annual or biennial or perennial herbs with racemose flowers', 'hypernym', 'kabbalism, NN -- the doctrines of the Kabbalah']\n",
      "['gravel, NN -- rock fragments and pebbles', 'derivationally related form', 'gravitate, VB -- move due to the pull of gravitation']\n",
      "['quandong nut, NN -- edible nutlike seed of the quandong fruit', 'hypernym', 'epimedium grandiflorum, NN -- slow-growing creeping plant with semi-evergreen leaves on erect wiry stems']\n",
      "['predication, NN -- (logic) a declaration of something self-evident', 'hypernym', 'extract, VB -- calculate the root of a number']\n",
      "['guiltiness, NN -- the state of having committed an offense', 'derivationally related form', 'characteristic, NN -- a distinguishing quality']\n",
      "['settle, VB -- come to terms', 'member meronym', 'forage, VB -- wander and feed']\n",
      "[\"st john's wort family, NN -- widely distributed family of chiefly tropical trees and shrubs and vines that produce oils and resins and some usable timber\", 'hypernym', 'treponemataceae, NN -- small spirochetes some parasitic or pathogenic']\n",
      "['praise, NN -- an expression of approval and commendation', 'derivationally related form', 'filling, NN -- the act of filling something']\n",
      "['flex, VB -- form a curve', 'hypernym', 'change of magnitude, NN -- the act of changing the amount or size of something']\n",
      "['family carabidae, NN -- ground beetles', 'hypernym', 'tribal chief, NN -- the head of a tribe or clan']\n",
      "['boxcars, NN -- (usually plural) an expression used when two dice are thrown and both come up showing six spots', 'hypernym', 'adorer, NN -- someone who admires a young woman']\n",
      "['metrical unit, NN -- (prosody) a group of 2 or 3 syllables forming the basic unit of poetic rhythm', 'hypernym', 'feminism, NN -- a doctrine that advocates equal rights for women']\n",
      "['stoneface, NN -- any plant of the genus Lithops native to Africa having solitary yellow or white flowers and thick leaves that resemble stones', 'derivationally related form', 'perennate, VB -- survive from season to season, of plants']\n",
      "['shakedown, NN -- a very thorough search of a person or a place', 'derivationally related form', 'eggs, NN -- oval reproductive body of a fowl (especially a hen) used as food']\n",
      "['edge tool, NN -- any cutting tool with a sharp cutting edge (as a chisel or knife or plane or gouge)', 'derivationally related form', 'strike, VB -- have an emotional or cognitive impact upon']\n",
      "['integration, NN -- the action of incorporating a racial or religious group into a community', 'derivationally related form', 'trier, NN -- one (as a judge) who examines and settles a case']\n",
      "['moveable feast, NN -- a religious holiday that falls on different dates in different years', 'derivationally related form', 'site, NN -- the piece of land on which something is located (or is to be located)']\n",
      "['poodle dog, NN -- an intelligent dog with a heavy curly solid-colored coat that is usually clipped', 'hypernym', 'scabious, NN -- any of various plants of the genus Scabiosa']\n",
      "['slot, NN -- (computer) a socket in a microcomputer that will accept a plug-in circuit board', 'hypernym', 'spay, VB -- remove the ovaries of']\n",
      "['subservience, NN -- abject or cringing submissiveness', 'derivationally related form', 'capital of texas, NN -- state capital of Texas on the Colorado River']\n",
      "['authority, NN -- (usually plural) persons who exercise (administrative) control over others', 'derivationally related form', 'kangaroo rat, NN -- any of various leaping rodents of desert regions of North America and Mexico']\n",
      "['suture, NN -- an immovable joint (especially between the bones of the skull)', 'hypernym', 'beatification, NN -- the action of rendering supremely blessed and extremely happy']\n",
      "['haemanthus, NN -- genus of African deciduous or evergreen bulbous herbs: blood lilies', 'hypernym', 'sensor, NN -- any device that receives a signal or stimulus (as heat or pressure or light or motion etc.) and responds to it in a distinctive manner']\n",
      "['macamba, NN -- tropical American feather palm having a swollen spiny trunk and edible nuts', 'derivationally related form', 'brahmin, NN -- any of several breeds of Indian cattle']\n",
      "['order cycadales, NN -- primitive tropical gymnosperms abundant in the Mesozoic, now reduced to a few scattered tropical forms', 'also see', 'unpermissiveness, NN -- a lack of permissiveness or indulgence and a tendency to confine behavior within certain specified limits']\n",
      "['difference, NN -- the quality of being unlike or dissimilar', 'derivationally related form', 'lark, NN -- any carefree episode']\n",
      "['devotion, NN -- commitment to some purpose', 'hypernym', 'vow, VB -- dedicate to a deity by a vow']\n",
      "['apple, NN -- fruit with red or yellow or green skin and sweet to tart crisp whitish flesh', 'derivationally related form', 'murmur, VB -- speak softly or indistinctly']\n",
      "['watering place, NN -- a health resort near a spring or at the seaside', 'derivationally related form', 'neopallium, NN -- the cortical part of the neencephalon']\n",
      "['crenellate, VB -- supply with battlements', 'hypernym', 'mask, VB -- make unrecognizable']\n",
      "['war between the states, NN -- civil war in the United States between the North and the South', 'derivationally related form', 'coral root, NN -- a wildflower of the genus Corallorhiza growing from a hard mass of rhizomes associated with a fungus that aids in absorbing nutrients from the forest floor']\n",
      "['choir, NN -- a chorus that sings as part of a religious ceremony', 'has part', 'genus fomes, NN -- genus of bracket fungi forming corky or woody perennial shelflike sporophores often of large size']\n",
      "['vis-a-vis, NN -- small sofa that seats two people', 'member meronym', 'saxifraga hypnoides, NN -- tufted or mat-forming perennial of mountains of Europe']\n",
      "['provincial capital, NN -- the capital city of a province', 'hypernym', 'genus dermacentor, NN -- vectors of important diseases of man and animals']\n",
      "['minim, NN -- a British imperial capacity measure (liquid or dry) equal to 1/60th fluid dram or 0.059194 cubic centimeters', 'hypernym', 'genus arum, NN -- type genus of the Araceae: tuberous perennial herbs of Europe and Asia with usually heart-shaped leaves']\n",
      "['small capital, NN -- a character having the form of an upper-case letter but the same height as lower-case letters', 'derivationally related form', 'sublime, VB -- change or cause to change directly from a solid into a vapor without first melting']\n",
      "['overstate, VB -- to enlarge beyond bounds or the truth', 'hypernym', 'team teaching, NN -- a method of coordinated classroom teaching involving a team of teachers working together with a single group of students']\n",
      "['setting, NN -- the physical position of something', 'hypernym', 'meet, VB -- satisfy or fulfill']\n",
      "['pen, NN -- a writing implement with a point from which ink flows', 'derivationally related form', 'silver star medal, NN -- a United States military decoration for gallantry in action']\n",
      "['hypoglycemia, NN -- abnormally low blood sugar usually resulting from excessive insulin or a poor diet', 'hypernym', 'genus cyclopterus, NN -- type genus of the Cyclopteridae: lumpfishes']\n",
      "['claforan, NN -- a parenteral cephalosporin (trade name Claforan) used for severe infections of the lungs or throat or ears or urinary tract', 'hypernym', 'matthiola, NN -- genus of Old World plants grown as ornamentals']\n",
      "['chalcidfly, NN -- any of various tiny insects whose larvae are parasites on eggs and larvae of other insects', 'hypernym', 'plication, NN -- an angular or rounded shape made by folding']\n",
      "['cornea, NN -- the transparent dome-shaped anterior portion of the outer covering of the eye', 'has part', 'telecommunicate, VB -- communicate over long distances, as via the telephone or e-mail']\n",
      "['transfiguration day, NN -- (Christianity) a church festival held in commemoration of the Transfiguration of Jesus', 'hypernym', \"manipulate, VB -- control (others or oneself) or influence skillfully, usually to one's advantage\"]\n",
      "['suv, NN -- a high-performance four-wheel drive car built on a truck chassis', 'derivationally related form', 'waistline, NN -- the narrowing of the body between the ribs and hips']\n",
      "['undress, VB -- get undressed', 'has part', 'seed, NN -- a mature fertilized plant ovule consisting of an embryo and its food source and having a protective coat or testa']\n",
      "['cautery, NN -- an instrument or substance used to destroy tissue for medical reasons (eg removal of a wart) by burning it with a hot iron or an electric current or a caustic or by freezing it', 'also see', 'carcinoma, NN -- any malignant tumor derived from epithelial tissue']\n",
      "['irradiate, VB -- cast rays of light upon', 'hypernym', \"travesty, NN -- a composition that imitates or misrepresents somebody's style, usually in a humorous way\"]\n",
      "['sprite, NN -- a small being, human in form, playful and having magical powers', 'hypernym', 'proterozoic eon, NN -- from 2,500 to 544 million years ago']\n",
      "['legal code, NN -- a code of laws adopted by a state or nation', 'has part', 'ill will, NN -- the feeling of a hostile person']\n",
      "['genus aethionema, NN -- Old World genus of the family Cruciferae', 'derivationally related form', 'recognize, VB -- be fully aware or cognizant of']\n",
      "['immoderation, NN -- the quality of being excessive and lacking in moderation', 'hypernym', 'quartz, NN -- a hard glossy mineral consisting of silicon dioxide in crystal form']\n",
      "['necrobiosis, NN -- (physiology) the normal degeneration and death of living cells (as in various epithelial cells)', 'derivationally related form', 'ku klux klan, NN -- a secret society of white Southerners in the United States']\n",
      "['medium, NN -- an intervening substance through which signals can travel as a means for communication', 'member meronym', 'exclude, VB -- prevent from entering']\n",
      "['conjugate, VB -- unite chemically so that the product is easily broken down into the original compounds', 'derivationally related form', 'imaum, NN -- (Islam) the man who leads prayers in a mosque']\n",
      "['law of thermodynamics, NN -- (physics) a law governing the relations between states of energy in a closed system', 'also see', 'seventeen-year locust, NN -- North American cicada']\n",
      "[\"franchise, NN -- a business established or operated under an authorization to sell or distribute a company's goods or services in a particular area\", 'derivationally related form', 'united states intelligence agency, NN -- an intelligence service in the United States']\n",
      "['subversive activity, NN -- the act of subverting', 'has part', 'cast iron, NN -- an alloy of iron containing so much carbon that it is brittle and so cannot be wrought but must be shaped by casting']\n",
      "['capturer, NN -- a person who captures and holds people or animals', 'derivationally related form', 'mackintosh, NN -- a lightweight waterproof (usually rubberized) fabric']\n",
      "['instilling, NN -- teaching or impressing upon the mind by frequent instruction or repetition', 'derivationally related form', 'panax, NN -- perennial herbs of eastern North America and Asia having aromatic tuberous roots: ginseng']\n",
      "['organizer, NN -- someone who enlists workers to join a union', 'hypernym', 'tannenberg, NN -- a battle in World War I (1914)']\n",
      "['diversification, NN -- the condition of being varied', 'has part', 'new greek, NN -- the Greek language as spoken and written today']\n",
      "['minefield, NN -- a region in which explosives mines have been placed', 'hypernym', 'indorsement, NN -- a promotional statement (as found on the dust jackets of books)']\n",
      "['genus allium, NN -- large genus of perennial and biennial pungent bulbous plants: garlic', 'derivationally related form', 'sweet orange tree, NN -- probably native to southern China']\n",
      "[\"sea steps, NN -- (nautical) ladder to be lowered over a ship's side for coming aboard\", 'derivationally related form', 'agrimony, NN -- a plant of the genus Agrimonia having spikelike clusters of small yellow flowers']\n",
      "['tactfulness, NN -- consideration in dealing with others and avoiding giving offense', 'instance hypernym', 'stop, VB -- cause to stop']\n",
      "['computer memory unit, NN -- a unit for measuring computer memory', 'derivationally related form', 'beekeeper, NN -- a farmer who keeps bees for their honey']\n",
      "['sporobolus poiretii, NN -- grass native to West Indies but common in southern United States having tufted wiry stems often infested with a dark fungus', 'hypernym', 'arm, NN -- a human limb']\n",
      "['hatchet man, NN -- one whose job it is to execute unpleasant tasks for a superior', 'hypernym', 'fascist, NN -- an adherent of fascism or other right-wing authoritarian views']\n",
      "['touch-me-not, NN -- North American annual plant with usually yellow or orange flowers', 'derivationally related form', 'perceive, VB -- to become aware of through the senses']\n",
      "['chelonian reptile, NN -- a reptile of the order Chelonia', 'derivationally related form', 'powell, NN -- United States general who was the first African American to serve as chief of staff']\n",
      "['approach shot, NN -- a relatively short golf shot intended to put the ball onto the putting green', 'derivationally related form', 'pepper, NN -- any of various tropical plants of the genus Capsicum bearing peppers']\n",
      "['golden aster, NN -- any of several shrubby herbs or subshrubs of the genus Chrysopsis having bright golden-yellow flower heads that resemble asters', 'has part', 'ostrya, NN -- deciduous monoecious trees of Europe and Asia and America']\n",
      "['hike, VB -- walk a long way, as for pleasure or physical exercise', 'hypernym', 'red amaranth, NN -- tall showy tropical American annual having hairy stems and long spikes of usually red flowers above leaves deeply flushed with purple']\n",
      "['lanius, NN -- type genus of the Laniidae: typical shrikes', 'hypernym', 'spoil, VB -- make a mess of, destroy or ruin']\n",
      "['dial, VB -- choose by means of a dial', 'derivationally related form', 'mount up, VB -- get up on the back of']\n",
      "['swim, VB -- be afloat either on or below a liquid surface and not sink to the bottom', 'derivationally related form', \"bird's foot, NN -- the foot of a bird\"]\n",
      "['sir ralph david richardson, NN -- British stage and screen actor noted for playing classic roles (1902-1983)', 'hypernym', 'relative atomic mass, NN -- (chemistry) the mass of an atom of a chemical element expressed in atomic mass units']\n",
      "['ruth, NN -- a book of the Old Testament that tells the story of Ruth who was not an Israelite but who married an Israelite and who stayed with her mother-in-law Naomi after her husband died', 'hypernym', 'digestive juice, NN -- secretions that aid digestion']\n",
      "['commissioner, NN -- a government administrator', 'hypernym', 'hemerocallis, NN -- east Asian rhizomatous clump-forming perennial herbs having flowers on long leafless stalks']\n",
      "['terminate, VB -- bring to an end or halt', 'derivationally related form', 'respire, VB -- breathe easily again, as after exertion or anxiety']\n",
      "['macaroon, NN -- chewy cookie usually containing almond paste', 'derivationally related form', 'ethicism, NN -- a doctrine that ethics and ethical ideas are valid and important']\n",
      "['tractableness, NN -- the trait of being easily persuaded', 'derivationally related form', 'stream, NN -- the act of flowing or streaming']\n",
      "['miler, NN -- a runner in a one-mile race', 'synset domain topic of', 'whoreson, NN -- insulting terms of address for people who are stupid or irritating or ridiculous']\n",
      "['southerner, NN -- an American who lives in the South', 'member meronym', 'vultur, NN -- a bird that is usually restricted to the Andean condor']\n",
      "['dysomia, NN -- impairment of the sense of smell', 'derivationally related form', 'pignut hickory, NN -- an American hickory tree having bitter nuts']\n",
      "['lurch, NN -- the act of moving forward suddenly', 'member meronym', 'ghanian, NN -- a native or inhabitant of Ghana']\n",
      "['pterosauria, NN -- extinct flying reptiles: pterosaurs', 'derivationally related form', 'recognize, VB -- express obligation, thanks, or gratitude for']\n",
      "[\"shadow, VB -- follow, usually without the person's knowledge\", 'derivationally related form', 'mezzo-rilievo, NN -- a sculptural relief between low relief and high relief']\n",
      "['zonotrichia, NN -- large New World sparrows', 'hypernym', 'genus brunfelsia, NN -- genus of tropical American shrubs grown for their flowers followed by fleshy berrylike fruits']\n",
      "['humiliation, NN -- state of disgrace or loss of self-respect', 'hypernym', 'undiscipline, NN -- the trait of lacking discipline']\n",
      "['iguanidae, NN -- New World lizards', 'derivationally related form', \"plug-in, NN -- a printed circuit that can be inserted into expansion slots in a computer to increase the computer's capabilities\"]\n",
      "['knee piece, NN -- armor plate that protects the knee', 'synset domain topic of', 'wolffish, NN -- large ferocious northern deep-sea food fishes with strong teeth and no pelvic fins']\n",
      "['stinginess, NN -- a lack of generosity', 'hypernym', 'paleobotany, NN -- the study of fossil plants']\n",
      "['fracture, NN -- breaking of hard tissue such as bone', 'hypernym', 'humulus, NN -- hops: hardy perennial vines of Europe, North America and central and eastern Asia producing a latex sap']\n",
      "['oxalis pes-caprae, NN -- South African bulbous wood sorrel with showy yellow flowers', 'derivationally related form', 'watt, NN -- Scottish engineer and inventor whose improvements in the steam engine led to its wide use in industry (1736-1819)']\n",
      "['kludge, NN -- a badly assembled collection of parts hastily assembled to serve some particular purpose (often used to refer to computing systems or software that has been badly put together)', 'derivationally related form', 'liana, NN -- a woody climbing usually tropical plant']\n",
      "['treat, NN -- something considered choice to eat', 'hypernym', 'tie, NN -- one of the cross braces that support the rails on a railway track']\n",
      "['wood pigeon, NN -- Eurasian pigeon with white patches on wings and neck', 'verb group', 'fast food, NN -- inexpensive food (hamburgers or chicken or milkshakes) prepared and served quickly']\n",
      "[\"rebutter, NN -- (law) a pleading by the defendant in reply to a plaintiff's surrejoinder\", 'hypernym', 'papaya, NN -- large oval melon-like tropical fruit with yellowish flesh']\n",
      "['vitriol, VB -- subject to bitter verbal abuse', 'hypernym', 'survivor guilt, NN -- a deep feeling of guilt often experienced by those who have survived some catastrophe that took the lives of many others']\n",
      "['biological, JJ -- pertaining to biology or to life and living things', 'has part', 'relief, NN -- (law) redress awarded by a court']\n",
      "['compound leaf, NN -- a leaf composed of a number of leaflets on a common stalk', 'derivationally related form', 'bermudas, NN -- a group of islands in the Atlantic off the Carolina coast']\n",
      "['cytosine, NN -- a base found in DNA and RNA and derived from pyrimidine', 'derivationally related form', 'pressure unit, NN -- a unit measuring force per unit area']\n",
      "['molva, NN -- ling', 'derivationally related form', 'stack, VB -- load or cover with stacks']\n",
      "['indian rosewood, NN -- East Indian tree having a useful dark purple wood', 'derivationally related form', 'transfuse, VB -- impart gradually']\n",
      "['order gaviiformes, NN -- large aquatic birds: loons and some extinct forms', 'has part', 'spindle, NN -- any of various rotating shafts that serve as axes for larger rotating parts']\n",
      "['stick, VB -- be a devoted follower or supporter', 'hypernym', 'luffa, NN -- the dried fibrous part of the fruit of a plant of the genus Luffa']\n",
      "['aggregate, VB -- amount in the aggregate to', 'hypernym', 'bathe, VB -- cleanse the entire body']\n",
      "['swine, NN -- stout-bodied short-legged omnivorous animals', 'has part', 'parsley haw, NN -- southern United States hawthorn with pinnately lobed leaves']\n",
      "['bronchiole, NN -- any of the smallest bronchial ducts', 'instance hypernym', 'hit, VB -- cause to move by striking']\n",
      "['circumscription, NN -- the act of circumscribing', 'member meronym', 'snoopiness, NN -- offensive inquisitiveness']\n",
      "['mt. st. helens, NN -- an active volcano in the Cascade Range in southwestern Washington', 'derivationally related form', 'spoonbill, NN -- wading birds having a long flat bill with a tip like a spoon']\n",
      "['run, VB -- reduce or cause to be reduced from a solid to a liquid state, usually by heating', 'derivationally related form', 'dread, NN -- fearful expectation or anticipation']\n",
      "['extort, VB -- obtain through intimidation', 'member meronym', 'peppercorn, NN -- pungent seasoning from the berry of the common pepper plant of East India']\n",
      "['plagioclase, NN -- any of a series of triclinic feldspars that form rocks', 'hypernym', 'scup, NN -- lean flesh of fish found in warm waters of southern Atlantic coast of the United States']\n",
      "['sidekick, NN -- a close friend who accompanies his buddies in their activities', 'derivationally related form', 'valparaiso, NN -- the chief port and second largest city of Chile']\n",
      "['pineal gland, NN -- a small endocrine gland in the brain', 'derivationally related form', 'closed universe, NN -- (cosmology) a universe that is spatially closed and in which there is sufficient matter to halt the expansion that began with the big bang']\n",
      "['conic section, NN -- (geometry) a curve generated by the intersection of a plane and a circular cone', 'derivationally related form', 'sabinea, NN -- small genus of deciduous West Indian trees or shrubs: carib wood']\n",
      "['well-wisher, NN -- someone who shares your feelings or opinions and hopes that you will be successful', 'member meronym', \"tule tree, NN -- Mexico's most famous tree\"]\n",
      "['ugliness, NN -- qualities of appearance that do not give pleasure to the senses', 'member meronym', 'gong, NN -- a percussion instrument consisting of a set of tuned bells that are struck with a hammer']\n",
      "['arm, VB -- supply with arms', 'derivationally related form', 'track down, VB -- pursue for food or sport (as of wild animals)']\n",
      "['break, VB -- exchange for smaller units of money', 'also see', 'tester, NN -- someone who administers a test to determine your qualifications']\n",
      "['stretching, NN -- exercise designed to extend the limbs and muscles to their full extent', 'derivationally related form', 'bamboo, NN -- woody tropical grass having hollow woody stems']\n",
      "['soak, VB -- leave as a guarantee in return for money', 'hypernym', 'nail, VB -- attach something somewhere by means of nails']\n",
      "['aspiration, NN -- a will to succeed', 'instance hypernym', 'confirm, VB -- support a person for a position']\n",
      "['attractive, JJ -- pleasing to the eye or mind especially through beauty or charm', 'derivationally related form', 'single out, VB -- treat differently on the basis of sex or race']\n",
      "['spat, NN -- a young oyster or other bivalve', 'member meronym', 'appliance, NN -- durable goods for home or office use']\n",
      "['midden, NN -- (archeology) a mound of domestic refuse containing shells and animal bones marking the site of a prehistoric settlement', 'hypernym', 'recruit, VB -- register formally as a participant or member']\n",
      "['immovableness, NN -- not capable of being moved or rearranged', 'synset domain topic of', 'utc, NN -- Greenwich Mean Time updated with leap seconds']\n",
      "['cone pepper, NN -- plant bearing erect pungent conical red or yellow or purple fruits', 'member meronym', 'ms, NN -- a state in the Deep South on the gulf of Mexico']\n",
      "['eland, NN -- either of two large African antelopes of the genus Taurotragus having short spirally twisted horns in both sexes', 'hypernym', 'plication, NN -- an angular or rounded shape made by folding']\n",
      "['tourist court, NN -- a hotel for motorists', 'derivationally related form', 'degree, NN -- an award conferred by a college or university signifying that the recipient has satisfactorily completed a course of study']\n",
      "['tincture, NN -- (pharmacology) a medicine consisting of an extract in an alcohol solution', 'derivationally related form', 'electrical system, NN -- equipment in a motor vehicle that provides electricity to start the engine and ignite the fuel and operate the lights and windshield wiper and heater and air conditioner and radio']\n",
      "['genus salvia, NN -- large genus of shrubs and subshrubs of the mint family varying greatly in habit: sage', 'hypernym', 'annex, VB -- attach to']\n",
      "['mechanical drawing, NN -- the craft of drawing blueprints', 'hypernym', 'vasomax, NN -- a virility drug (trade name Vasomax) to treat erectile dysfunction in men']\n",
      "['water nymph, NN -- submerged aquatic plant having narrow leaves and small flowers', 'hypernym', 'speech sound, NN -- (phonetics) an individual sound unit of speech without concern as to whether or not it is a phoneme of some language']\n",
      "['syracuse, NN -- a city in central New York', 'hypernym', 'fight, NN -- an aggressive willingness to compete']\n",
      "['torturing, NN -- the deliberate, systematic, or wanton infliction of physical or mental suffering by one or more persons in an attempt to force another person to yield information or to make a confession or for any other reason', 'derivationally related form', 'alcoholize, VB -- make alcoholic, as by fermenting']\n",
      "['grape hyacinth, NN -- any of various early flowering spring hyacinths native to Eurasia having dense spikes of rounded blue flowers resembling bunches of small grapes', 'has part', 'reach, VB -- reach a destination, either real or abstract']\n",
      "['videotape, NN -- a video recording made on magnetic tape', 'hypernym', 'golan heights, NN -- a fortified hilly area between southern Lebanon and southern Syria']\n",
      "['erasure, NN -- a surface area where something has been erased', 'hypernym', 'saltbush, NN -- any of various shrubby plants of the genus Atriplex that thrive in dry alkaline soil']\n",
      "['strombidae, NN -- the family of conchs', 'hypernym', 'hirer, NN -- a person responsible for hiring workers']\n",
      "['jolson, NN -- United States singer (born in Russia) who appeared in the first full-length talking film (1886-1950)', 'derivationally related form', 'broccoli rabe, NN -- plant grown for its pungent edible leafy shoots']\n",
      "['spirochaetales, NN -- higher bacteria', 'also see', 'wakefulness, NN -- a periodic state during which you are conscious and aware of the world']\n",
      "['ringer, NN -- a person who is almost identical to another', 'derivationally related form', 'stave, VB -- furnish with staves']\n",
      "['patent, NN -- an official document granting a right or privilege', 'hypernym', 'family cymatiidae, NN -- tritons']\n",
      "['yellowstone national park, NN -- the first national park in the United States', 'derivationally related form', 'heckling, NN -- shouting to interrupt a speech with which you disagree']\n",
      "['new world blackbird, NN -- any bird of the family Icteridae whose male is black or predominantly black', 'derivationally related form', 'see, VB -- get to know or become aware of, usually accidentally']\n",
      "['sparganiaceae, NN -- coextensive with the genus Sparganium', 'member meronym', 'strong drink, NN -- an alcoholic beverage that is distilled rather than fermented']\n",
      "['plunk, VB -- drop steeply', 'member of domain region', 'phragmites, NN -- reeds of marshes and riversides in tropical or temperate regions']\n",
      "['leitneria floridana, NN -- very small deciduous dioecious tree or shrub of damp habitats in southeastern United States having extremely light wood', 'derivationally related form', 'mucilage, NN -- cement consisting of a sticky substance that is used as an adhesive']\n",
      "['fragmentation, NN -- the disintegration of social norms governing behavior and thought and social relationships', 'hypernym', 'steersman, NN -- the person who steers a ship']\n",
      "['asahikawa, NN -- a city on western Hokkaido that is the center of a fertile agricultural area', 'derivationally related form', 'velcro, NN -- nylon fabric used as a fastening']\n",
      "['passer domesticus, NN -- small hardy brown-and-grey bird native to Europe', 'derivationally related form', 'genus brassica, NN -- mustards: cabbages']\n",
      "['lap, NN -- an area of control or responsibility', 'derivationally related form', 'decisive, JJ -- determining or having the power to determine an outcome']\n",
      "['pervert, VB -- change the inherent purpose or function of something', 'hypernym', 'wineglass, NN -- a glass that has a stem and in which wine is served']\n",
      "['postiche, NN -- a covering or bunch of human or artificial hair used for disguise or adornment', 'derivationally related form', 'ten-day fern, NN -- widely distributed fern of tropical southern hemisphere having leathery pinnatifid fronds']\n",
      "['snow, NN -- street names for cocaine', 'derivationally related form', 'square and rabbet, NN -- molding in the form of a ring']\n",
      "['flash back, VB -- return in time', 'derivationally related form', 'ibn-roshd, NN -- Arabian philosopher born in Spain']\n",
      "['malay peninsula, NN -- a peninsula in southeastern Asia occupied by parts of Malaysia and Thailand and Myanmar', 'derivationally related form', 'attack, NN -- a sudden occurrence of an uncontrollable condition']\n",
      "['substitution, NN -- the act of putting one thing or person in the place of another: \"he sent Smith in for Jones but the substitution came too late to help\"', 'derivationally related form', 'poverty, NN -- the state of having little or no money and few or no material possessions']\n",
      "['asterid dicot family, NN -- family of more or less advanced dicotyledonous herbs and some trees and shrubs', 'derivationally related form', 'isomerization, NN -- the conversion of a compound into an isomer of itself']\n",
      "['contract, VB -- compress or concentrate', 'derivationally related form', 'set, VB -- alter or regulate so as to achieve accuracy or conform to a standard']\n",
      "['melt, VB -- lose its distinct outline or shape', 'synset domain topic of', 'stinkhorn, NN -- any of various ill-smelling brown-capped fungi of the order Phallales']\n",
      "['neutral spirits, NN -- nonflavored alcohol of 95 percent or 190 proof used for blending with straight whiskies and in making gin and liqueurs', 'hypernym', 'mastery, NN -- great skillfulness and knowledge of some subject or activity']\n",
      "['huddle together, VB -- crowd or draw together', 'hypernym', 'ungulate, NN -- any of a number of mammals with hooves that are superficially similar but not necessarily closely related taxonomically']\n",
      "['uncertain, JJ -- not established beyond doubt', 'hypernym', 'vasomax, NN -- a virility drug (trade name Vasomax) to treat erectile dysfunction in men']\n",
      "['newport news, NN -- a port city in southeastern Virginia at the mouth of the James River off Hampton Roads', 'hypernym', 'vena metatarsus, NN -- dorsal and plantar branches of veins serving the metatarsal region of the foot']\n",
      "['wrecker, NN -- a truck equipped to hoist and pull wrecked cars (or to remove cars from no-parking zones)', 'hypernym', 'yalu river, NN -- river in eastern Asia']\n",
      "['record, NN -- anything (such as a document or a phonograph record or a photograph) providing permanent evidence of or information about past events', 'hypernym', 'vindicate, VB -- clear of accusation, blame, suspicion, or doubt with supporting proof']\n",
      "['exchange, VB -- exchange or replace with another, usually of the same kind or category', 'hypernym', 'genus iris, NN -- large genus of perennials that develop from bulbs or rhizomes']\n",
      "['dove, NN -- any of numerous small pigeons', 'hypernym', 'recruit, VB -- register formally as a participant or member']\n",
      "['stypsis, NN -- the ability to contract or draw together soft body tissues to check blood flow or restrict secretion of fluids', 'member of domain usage', 'sexual abstention, NN -- abstaining from sexual relations (as because of religious vows)']\n",
      "['shillyshally, NN -- the act of procrastinating', 'hypernym', 'travail, NN -- concluding state of pregnancy']\n",
      "['cosmic microwave background radiation, NN -- (cosmology) the cooled remnant of the hot big bang that fills the entire universe and can be observed today with an average temperature of about 2.725 kelvin', 'also see', 'hyoscyamus, NN -- genus of poisonous herbs: henbane']\n",
      "['primary colour, NN -- any of three colors from which all others can be obtained by mixing', 'member meronym', 'plymouth, NN -- a town in Massachusetts founded by Pilgrims in 1620']\n",
      "['wasp, NN -- social or solitary hymenopterans typically having a slender body with the abdomen attached by a narrow stalk and having a formidable sting', 'derivationally related form', 'coop, NN -- an enclosure made or wire or metal bars in which birds or animals can be kept']\n",
      "['rock barnacle, NN -- barnacle that attaches to rocks especially in intertidal zones', 'hypernym', 'hazelnut, NN -- nut of any of several trees of the genus Corylus']\n",
      "['modulus of elasticity, NN -- (physics) the ratio of the applied stress to the change in shape of an elastic body', 'hypernym', 'implantation, NN -- the act of planting or setting in the ground']\n",
      "['douroucouli, NN -- nocturnal monkey of Central America and South America with large eyes and thick fur', 'hypernym', 'lodge, VB -- provide housing for']\n",
      "['difficulty, NN -- the quality of being difficult', 'instance hypernym', 'genus alternanthera, NN -- genus of low herbs of tropical America and Australia']\n",
      "['rejuvenation, NN -- the phenomenon of vitality and freshness being restored', 'hypernym', 'read/write memory, NN -- the most common computer memory which can be used by programs to perform necessary tasks while the computer is on']\n",
      "['name, VB -- identify as in botany or biology, for example', 'instance hypernym', 'genus alternanthera, NN -- genus of low herbs of tropical America and Australia']\n",
      "['uniting, NN -- the act of making or becoming a single unit', 'hypernym', 'skulk, VB -- lie in wait, lie in ambush, behave in a sneaky and secretive manner']\n",
      "['enemy, NN -- an opposing military force', 'hypernym', 'sesamum, NN -- tropical African and Indian herbs']\n",
      "['riddle, VB -- spread or diffuse through', 'hypernym', 'unconditioned reflex, NN -- an automatic instinctive unlearned reaction to a stimulus']\n",
      "['torch race, NN -- (ancient Greece) in which a torch is passed from one runner to the next', 'derivationally related form', 'reassurance, NN -- the act of reassuring']\n",
      "['luxation, NN -- displacement or misalignment of a joint or organ', 'derivationally related form', 'psyllid, NN -- small active cicada-like insect with hind legs adapted for leaping']\n",
      "['selene vomer, NN -- similar to moonfish but with eyes high on the truncated forehead', 'verb group', 'west indian, NN -- a native or inhabitant of the West Indies']\n",
      "['retrieval, NN -- the cognitive operation of accessing information in memory', 'hypernym', 'pachyderma, NN -- thickening of the skin (usually unilateral on an extremity) caused by congenital enlargement of lymph vessel and lymph vessel obstruction']\n",
      "['stint, VB -- supply sparingly and with restricted quantities', 'has part', 'wrapping, NN -- an enveloping bandage']\n",
      "['pushiness, NN -- offensive boldness and assertiveness', 'hypernym', 'rowing boat, NN -- a rowboat']\n",
      "['intimate, VB -- give to understand', 'derivationally related form', 'closer, NN -- a person who closes something']\n",
      "['order hemiptera, NN -- plant bugs', 'hypernym', 'unquestionable, JJ -- incapable of being questioned']\n",
      "['meliphagidae, NN -- honey eaters', 'hypernym', 'genus fusanus, NN -- quandong trees']\n",
      "['genus senna, NN -- genus of shrubs and trees and herbs many of which are often classified as members of the genus Cassia', 'hypernym', 'distill, VB -- undergo condensation']\n",
      "['enormity, NN -- vastness of size or extent', 'hypernym', 'omdurman, NN -- a city of Sudan']\n",
      "['poverty, NN -- the state of having little or no money and few or no material possessions', 'derivationally related form', 'substitution, NN -- the act of putting one thing or person in the place of another: \"he sent Smith in for Jones but the substitution came too late to help\"']\n",
      "['domino, NN -- a small rectangular block used in playing the game of dominoes', 'derivationally related form', 'wet-nurse, VB -- give suck to']\n",
      "['reinforce, VB -- make stronger', 'hypernym', 'horology, NN -- the art of designing and making clocks']\n",
      "['mendicity, NN -- the state of being a beggar or mendicant', 'hypernym', 'editor program, NN -- (computer science) a program designed to perform such editorial functions as rearrangement or modification or deletion of data']\n",
      "[\"william pitt, NN -- English statesman who brought the Seven Years' War to an end (1708-1778)\", 'derivationally related form', 'parry, NN -- a return punch (especially by a boxer)']\n",
      "['unmindful, JJ -- not mindful or attentive', 'instance hypernym', 'malva, NN -- herbs and subshrubs: mallows']\n",
      "['christian, JJ -- relating to or characteristic of Christianity', 'has part', 'marijuana, NN -- the most commonly used illicit drug']\n",
      "['living, NN -- the condition of living or the state of being alive', 'synset domain topic of', 'utc, NN -- Greenwich Mean Time updated with leap seconds']\n",
      "['terrorist act, NN -- the calculated use of violence (or the threat of violence) against civilians in order to attain goals that are political or religious or ideological in nature', 'instance hypernym', 'shell, VB -- use explosives on']\n",
      "['outage, NN -- a temporary suspension of operation (as of computers)', 'instance hypernym', 'give, VB -- transfer possession of something concrete or abstract to somebody']\n",
      "['shame, NN -- a painful emotion resulting from an awareness of inadequacy or guilt', 'derivationally related form', \"wander, VB -- be sexually unfaithful to one's partner in marriage\"]\n",
      "['stratification, NN -- the placing of seeds in damp sand or sawdust or peat moss in order to preserve them or promote germination', 'derivationally related form', 'cl, NN -- a metric unit of volume equal to one hundredth of a liter']\n",
      "['wavering, NN -- indecision in speech or action', 'hypernym', 'fort lauderdale, NN -- a city in southeast Florida on the Atlantic coast to the north of Miami']\n",
      "['target, NN -- the goal intended to be attained (and which is believed to be attainable)', 'hypernym', 'annex, VB -- attach to']\n",
      "['cabalist, NN -- a member of a cabal', 'member meronym', 'squeeze out, VB -- form or shape by forcing through an opening']\n",
      "['chesapeake bay, NN -- a large inlet of the North Atlantic between Virginia and Maryland', 'hypernym', 'reorientation, NN -- the act of changing the direction in which something is oriented']\n",
      "['air force isr, NN -- an agency focused on ensuring that the United States military attains information superiority', 'hypernym', 'genus erodium, NN -- geraniums of Europe and South America and Australia especially mountainous regions']\n",
      "['lexicology, NN -- the branch of linguistics that studies the lexical component of language', 'hypernym', 'south platte river, NN -- a tributary of the Platte River']\n",
      "['register, NN -- a cashbox with an adding machine to register transactions', 'derivationally related form', 'sino-tibetan language, NN -- the family of tonal languages spoken in eastern Asia']\n",
      "['pictural, JJ -- pertaining to or consisting of pictures', 'derivationally related form', 'hexapod, NN -- an animal having six feet']\n",
      "['lacerate, VB -- deeply hurt the feelings of', 'derivationally related form', 'vilipend, VB -- belittle']\n",
      "['residuary, JJ -- relating to or indicating a remainder', 'derivationally related form', 'scale of measurement, NN -- an ordered reference standard']\n",
      "['preponderate, VB -- weigh more heavily', 'derivationally related form', 'selling, NN -- the exchange of goods for an agreed sum of money']\n",
      "['cup, VB -- put into a cup', 'hypernym', 'infliction, NN -- the act of imposing something (as a tax or an embargo)']\n",
      "['manifest, VB -- provide evidence for', 'derivationally related form', 'spotsylvania, NN -- a village in northeastern Virginia where battles were fought during the American Civil War']\n",
      "['spotlight, VB -- move into the foreground to make more visible or prominent', 'synset domain topic of', 'vistaril, NN -- a drug (trade names Atarax and Vistaril) used as a tranquilizer to treat anxiety and motion sickness']\n",
      "['factor iv, NN -- ion of calcium', 'hypernym', 'phonetic symbol, NN -- a written character used in phonetic transcription of represent a particular speech sound']\n",
      "[\"sunspot, NN -- a cooler darker spot appearing periodically on the sun's photosphere\", 'derivationally related form', 'medical center, NN -- the part of a city where medical facilities are centered']\n",
      "['squatina squatina, NN -- sharks with broad flat bodies and winglike pectoral fins but that swim the way sharks do', 'hypernym', 'hem in, VB -- surround in a restrictive manner']\n",
      "['combination, NN -- the act of arranging elements into specified groups without regard to order', 'hypernym', 'annex, VB -- attach to']\n",
      "['butterfish, NN -- any of numerous small flat Atlantic food fish having smooth skin', 'derivationally related form', 'cytosine, NN -- a base found in DNA and RNA and derived from pyrimidine']\n",
      "['kinglet, NN -- small birds resembling warblers but having some of the habits of titmice', 'hypernym', 'kendall test, NN -- any of several nonparametric measures of correlation (used when the assumptions of standard correlational analysis are not met)']\n",
      "['tenderness, NN -- a pain that is felt (as when the area is touched)', 'member of domain region', \"plea, NN -- (law) a defendant's answer by a factual matter (as distinguished from a demurrer)\"]\n",
      "['slue, VB -- move obliquely or sideways, usually in an uncontrolled manner', 'member meronym', 'turbojet engine, NN -- a jet engine in which a fan driven by a turbine provides extra air to the burner and gives extra thrust']\n",
      "['tagus river, NN -- a European river', 'derivationally related form', 'church of england, NN -- the national church of England (and all other churches in other countries that share its beliefs)']\n",
      "['mediation, NN -- the act of intervening for the purpose of bringing about a settlement', 'hypernym', 'stuff and nonsense, NN -- senseless talk']\n",
      "['swear, VB -- utter obscenities or profanities', 'derivationally related form', 'application, NN -- a verbal or written request for assistance or employment or admission to a school']\n",
      "['roadbed, NN -- a bed supporting a road', 'hypernym', 'break, VB -- exchange for smaller units of money']\n",
      "['warehouser, NN -- a workman who manages or works in a warehouse', 'hypernym', 'washboard, NN -- protective covering consisting of a broad plank along a gunwale to keep water from splashing over the side']\n",
      "['magnetic recorder, NN -- recorder consisting of equipment for making records on magnetic media', 'hypernym', 'smelt, NN -- small trout-like silvery marine or freshwater food fishes of cold northern waters']\n",
      "['oldtimer, NN -- an elderly man', 'has part', 'separation, NN -- (law) the cessation of cohabitation of man and wife (either by mutual agreement or under a court order)']\n",
      "['colored person, NN -- a United States term for Blacks that is now considered offensive', 'derivationally related form', 'rules of order, NN -- a body of rules followed by an assembly']\n",
      "['tenacity, NN -- persistent determination', 'hypernym', 'wrecking, NN -- destruction achieved by causing something to be wrecked or ruined']\n",
      "['cardinal vein, NN -- any of the major venous channels in primitive adult vertebrates and in embryos of higher vertebrates', 'derivationally related form', 'scallop, VB -- bake in a sauce, milk, etc., often with breadcrumbs on top']\n",
      "['sesamoid bone, NN -- any of several small round bones formed in a tendon where it passes over a joint', 'derivationally related form', 'pongamia, NN -- one species: Indian beech']\n",
      "['genus chelonia, NN -- green turtles', 'derivationally related form', 'permeation, NN -- mutual penetration']\n",
      "['visualize, VB -- view the outline of by means of an X-ray', 'instance hypernym', 'relationship, NN -- a state involving mutual dealings between people or parties or countries']\n",
      "['submarine, VB -- throw with an underhand motion', 'derivationally related form', 'matricaria, NN -- chiefly Old World strong-smelling weedy herbs']\n",
      "['political boss, NN -- a leader in a political party who controls votes and dictates appointments', 'derivationally related form', 'tribe, NN -- (biology) a taxonomic category between a genus and a subfamily']\n",
      "['opposition, NN -- a direction opposite to another', 'instance hypernym', 'give, VB -- transfer possession of something concrete or abstract to somebody']\n",
      "['zarqa, NN -- city in northwestern Jordan', 'synset domain topic of', 'utc, NN -- Greenwich Mean Time updated with leap seconds']\n",
      "['beauty, NN -- the qualities that give pleasure to the senses', 'derivationally related form', 'winged elm, NN -- North American elm having twigs and young branches with prominent corky projections']\n",
      "['roystonea, NN -- a monocotyledonous genus of West Indian feather palms', 'derivationally related form', 'point of apoapsis, NN -- (astronomy) the point in an orbit farthest from the body being orbited']\n",
      "['suit, NN -- a comprehensive term for any proceeding in a court of law whereby an individual seeks a legal remedy', 'derivationally related form', 'vulcanite, NN -- a hard nonresilient rubber formed by vulcanizing natural rubber']\n",
      "['attention, NN -- a motionless erect stance with arms at the sides and feet together', 'hypernym', \"ram's horn, NN -- annual of southern United States to Mexico having large whitish or yellowish flowers mottled with purple and a long curving beak\"]\n",
      "['transsexual, NN -- a person whose sexual identification is entirely with the opposite sex', 'member meronym', 'lark, NN -- any of numerous predominantly Old World birds noted for their singing']\n",
      "['pannikin, NN -- a small pan or cup (usually of tin)', 'synset domain topic of', 'vicar of christ, NN -- the head of the Roman Catholic Church']\n",
      "['prophetical, JJ -- foretelling events as if by supernatural intervention', 'derivationally related form', 'relate, VB -- give an account of']\n",
      "['womanize, VB -- to give a (more) feminine, effeminate, or womanly quality or appearance to', 'hypernym', 'journeyman, NN -- a skilled worker who practices some trade or handicraft']\n",
      "['foolish, JJ -- devoid of good sense or judgment', 'derivationally related form', 'tooth, NN -- toothlike structure in invertebrates found in the mouth or alimentary canal or on a shell']\n",
      "['generalize, VB -- speak or write in generalities', 'hypernym', 'hypoadrenocorticism, NN -- a glandular disorder caused by failure of function of the cortex of the adrenal gland and marked by anemia and prostration with brownish skin']\n",
      "['story, NN -- a structure consisting of a room or set of rooms at a single position along a vertical scale', 'derivationally related form', 'genus welwitschia, NN -- type and sole genus of Welwitschiaceae']\n",
      "['zygophyllum fabago, NN -- perennial shrub of the eastern Mediterranean region and southwestern Asia having flowers whose buds are used as capers', 'has part', 'proponent, NN -- a person who pleads for a cause or propounds an idea']\n",
      "['side, NN -- a place within a region identified relative to a center or reference location', 'has part', 'quarter, NN -- a quarter of a hundredweight (28 pounds)']\n",
      "['family cimicidae, NN -- wingless flat-bodied bloodsucking insects', 'derivationally related form', 'travail, NN -- concluding state of pregnancy']\n",
      "['electric battery, NN -- a device that produces electricity', 'hypernym', 'tussock, NN -- a bunch of hair or feathers or growing grass']\n",
      "['wintergreen, NN -- spicy red berrylike fruit', 'hypernym', 'sagacity, NN -- the mental ability to understand and discriminate between relations']\n",
      "['pipa, NN -- type genus of the Pipidae', 'member meronym', 'trunk, NN -- the main stem of a tree']\n",
      "['manilkara, NN -- genus of large evergreen trees with milky latex', 'also see', 'anchorage, NN -- a city in south central Alaska']\n",
      "['gruidae, NN -- cranes', 'derivationally related form', 'democratize, VB -- become (more) democratic']\n",
      "['family elapidae, NN -- cobras', 'similar to', 'take in, VB -- suck or take up or in']\n",
      "['tartuffe, NN -- a hypocrite who pretends to religious piety (after the protagonist in a play by Moliere)', 'hypernym', 'landscape, NN -- an expanse of scenery that can be seen in a single view']\n",
      "['genus stentor, NN -- trumpet-shaped protozoa with a ciliated spiral feeding funnel', 'also see', 'sneerer, NN -- a person who expresses contempt by remarks or facial expression']\n",
      "['south africa, NN -- a republic at the southernmost part of Africa', 'member meronym', 'genus equetus, NN -- drumfish']\n",
      "['co-star, VB -- be the co-star in a performance', 'synset domain topic of', 'cyclone, NN -- (meteorology) rapid inward circulation of air masses about a low pressure center']\n",
      "['embayment, NN -- an indentation of a shoreline larger than a cove but smaller than a gulf', 'synset domain topic of', 'suborder ceratosaura, NN -- primitive saurischian dinosaurs']\n",
      "['tower, NN -- anything that approximates the shape of a column or tower', 'hypernym', 'simmer down, VB -- become quiet or calm, especially after a state of agitation']\n",
      "['white pepper, NN -- climber having dark red berries (peppercorns) when fully ripe', 'hypernym', 'romish, JJ -- of or relating to or supporting Romanism']\n",
      "['black hills, NN -- mountains in western South Dakota and northeastern Wyoming', 'hypernym', 'existence, NN -- the state or fact of existing']\n",
      "['scraunch, VB -- make a crushing noise', 'derivationally related form', 'tunker, NN -- an adherent of Baptistic doctrines (who practice baptism by immersion)']\n",
      "['air force research laboratory, NN -- a United States Air Force defense laboratory responsible for discovering and developing and integrating fighting technologies for aerospace forces', 'hypernym', 'hole, NN -- an opening into or through something']\n",
      "['voodoo, NN -- a charm superstitiously believed to embody magical powers', 'hypernym', 'nubian desert, NN -- an arid sandstone plateau in northeastern Sudan between the Nile and the Red Sea']\n",
      "['feed, VB -- feed into', 'derivationally related form', 'guidebook, NN -- something that offers basic information or instruction']\n",
      "['novelize, VB -- convert into the form or the style of a novel', 'derivationally related form', 'subfamily emberizinae, NN -- buntings and some New World sparrows']\n",
      "['pitch, VB -- throw or hurl from the mound to the batter, as in baseball', 'derivationally related form', 'supportive, JJ -- furnishing support or assistance']\n",
      "['genus coregonus, NN -- type genus of the Coregonidae: whitefishes', 'hypernym', 'pharisee, NN -- a member of an ancient Jewish sect noted for strict obedience to Jewish traditions']\n",
      "['nebuchadrezzar ii, NN -- (Old Testament) king of Chaldea who captured and destroyed Jerusalem and exiled the Israelites to Babylonia (630?-562 BC)', 'hypernym', 'recidivism, NN -- habitual relapse into crime']\n",
      "['vilification, NN -- a rude expression intended to offend or hurt', 'hypernym', 'quartering, NN -- living accommodations (especially those assigned to military personnel)']\n",
      "['genus allamanda, NN -- genus of tropical American woody vines', 'has part', 'stylist, NN -- someone who cuts or beautifies hair']\n",
      "['fasciolidae, NN -- a family of Trematoda', 'hypernym', 'camden, NN -- a city in southwestern New Jersey on the Delaware River near Philadelphia']\n",
      "['genus cypraea, NN -- type genus of the family Cypraeidae: the typical cowries', 'member meronym', 'represent, VB -- form or compose']\n",
      "['tasting, NN -- taking a small amount into the mouth to test its quality', 'hypernym', 'stalino, NN -- an industrial city in the Donets Basin']\n",
      "['general theory of relativity, NN -- a generalization of special relativity to include gravity (based on the principle of equivalence)', 'member meronym', 'salicylate, NN -- a salt of salicylic acid (included in several commonly used drugs)']\n",
      "['trisomy, NN -- chrosomal abnormality in which there is one more than the normal number of chromosomes in a cell', 'hypernym', 'corporate executive, NN -- an executive in a business corporation']\n",
      "['service, VB -- mate with', 'hypernym', 'depth, NN -- the extent downward or backward or inward']\n",
      "['jung, NN -- Swiss psychologist (1875-1961)', 'hypernym', 'qualification, NN -- an attribute that must be met or complied with and that fits a person for something']\n",
      "['vireonidae, NN -- small insectivorous American songbirds', 'has part', 'extraordinariness, NN -- the quality of being extraordinary and not commonly encountered']\n",
      "['order apodiformes, NN -- swifts', 'hypernym', 'throttle, NN -- a pedal that controls the throttle valve']\n",
      "['pride-of-india, NN -- tree of northern India and China having purple blossoms and small inedible yellow fruits', 'derivationally related form', 'strong interaction, NN -- (physics) the interaction that binds protons and neutrons together in the nuclei of atoms']\n",
      "['genus cryptotermes, NN -- genus of dry wood termites', 'hypernym', 'sand tiger, NN -- shallow-water shark with sharp jagged teeth found on both sides of Atlantic']\n",
      "['profanity, NN -- vulgar or irreverent speech or action', 'instance hypernym', 'ring, VB -- ring or echo with sound']\n",
      "['possess, VB -- have ownership or possession of', 'derivationally related form', 'asphyxia, NN -- a condition in which insufficient or no oxygen and carbon dioxide are exchanged on a ventilatory basis']\n",
      "['utc, NN -- Greenwich Mean Time updated with leap seconds', 'hypernym', 'turn over, VB -- turn from an upright or normal position']\n",
      "['commander, NN -- someone in an official position of authority who can command or control others', 'synset domain topic of', 'green, VB -- turn or become green']\n",
      "['scramble, VB -- stir vigorously', 'instance hypernym', 'noncellular, JJ -- immerse or be immersed in a boiling liquid, often for cooking purposes']\n",
      "['st. petersburg, NN -- a city in western Florida on Tampa Bay', 'hypernym', 'buffalo, NN -- large shaggy-haired brown bison of North American plains']\n",
      "['paving stone, NN -- a stone used for paving', 'has part', 'maths, NN -- a science (or group of related sciences) dealing with the logic of quantity and shape and arrangement']\n",
      "['purchase order, NN -- a commercial document used to request someone to supply something in return for payment and providing specifications and quantities', 'derivationally related form', 'swinging door, NN -- a door that swings on a double hinge']\n",
      "['stypsis, NN -- the ability to contract or draw together soft body tissues to check blood flow or restrict secretion of fluids', 'member of domain usage', 'fieldhand, NN -- a hired hand on a farm']\n",
      "['acephaly, NN -- absence of the head (as in the development of some monsters)', 'derivationally related form', 'major form class, NN -- any of the major parts of speech of traditional grammar']\n",
      "['hanukkah, NN -- (Judaism) an eight-day Jewish holiday commemorating the rededication of the Temple of Jerusalem in 165 BC', 'derivationally related form', 'size, NN -- the physical magnitude of something (how big it is)']\n",
      "['sitting, NN -- (photography) the act of assuming a certain position (as for a photograph or portrait)', 'hypernym', 'geomys, NN -- type genus of the Geomyidae']\n",
      "['anti-inflammatory drug, NN -- a medicine intended to reduce inflammation', 'hypernym', 'tree sloth, NN -- any of several slow-moving arboreal mammals of South America and Central America']\n",
      "['chronic leukemia, NN -- slowly progressing leukemia', 'hypernym', \"facial recognition, NN -- biometric identification by scanning a person's face and matching it against a library of known faces\"]\n",
      "['code of conduct, NN -- a set of conventional principles and expectations that are considered binding on any person who is a member of a particular group', 'derivationally related form', 'ventilate, VB -- circulate through and freshen']\n",
      "['steersman, NN -- the person who steers a ship', 'hypernym', 'berliner, NN -- an inhabitant of Berlin']\n",
      "['teashop, NN -- a restaurant where tea and light meals are available', 'hypernym', 'genus callophis, NN -- Asian coral snakes']\n",
      "['neutral, NN -- one who does not side with any party in a war or dispute', 'derivationally related form', 'interaction, NN -- (physics) the transfer of energy between elementary particles or between an elementary particle and a field or between fields']\n",
      "['stinkiness, NN -- the attribute of having a strong offensive smell', 'hypernym', 'yalu river, NN -- river in eastern Asia']\n",
      "['marching, NN -- the act of marching', 'hypernym', 'index, VB -- adjust through indexation']\n",
      "['string bass, NN -- largest and lowest member of the violin family', 'verb group', 'depression, NN -- pushing down']\n",
      "['family cebidae, NN -- all the New World monkeys except marmosets and tamarins', 'has part', 'opal, NN -- a translucent mineral consisting of hydrated silica of variable color']\n",
      "['gluttonous, JJ -- given to excess in consumption of especially food or drink', 'derivationally related form', 'lionel barrymore, NN -- United States actor']\n",
      "['reduce, VB -- be cooked until very little liquid is left', 'synset domain topic of', 'cyclone, NN -- (meteorology) rapid inward circulation of air masses about a low pressure center']\n",
      "['muishond, NN -- southern African weasel', 'hypernym', 'louis seymour bazett leakey, NN -- English paleontologist whose account of fossil discoveries in Tanzania changed theories of human evolution (1903-1972)']\n",
      "['spoon, VB -- snuggle and lie in a position where one person faces the back of the others', 'instance hypernym', 'aim, NN -- the action of directing something at an object']\n",
      "['mobile, NN -- a port in southwestern Alabama on Mobile Bay', 'instance hypernym', 'shrieking, NN -- a high-pitched noise resembling a human cry']\n"
     ]
    }
   ],
   "source": [
    "for id in range(500):\n",
    "    print(mapTriple(data['train'][id], aliases_dict))"
   ]
  },
  {
   "cell_type": "code",
   "execution_count": 32,
   "id": "55b0059b",
   "metadata": {},
   "outputs": [
    {
     "data": {
      "text/plain": [
       "86835"
      ]
     },
     "execution_count": 32,
     "metadata": {},
     "output_type": "execute_result"
    }
   ],
   "source": [
    "len(data['train'])"
   ]
  },
  {
   "cell_type": "code",
   "execution_count": 33,
   "id": "dec20bbe",
   "metadata": {},
   "outputs": [],
   "source": [
    "out_folder = dest_folder\n",
    "splits = ['train', 'test', 'valid']\n",
    "\n",
    "count = 0\n",
    "for split in splits:\n",
    "    fname = os.path.join(out_folder, split + '.txt')\n",
    "    f = open(fname, 'w')\n",
    "    triples = data[split]\n",
    "    for t in triples:\n",
    "        \n",
    "        t = mapTriple(t, aliases_dict)\n",
    "        # only save those that DO NOT start with m. or g.\n",
    "        # we can do that since aim is KGQA not KGC\n",
    "        head, relation, tail = t\n",
    "        input = 'predict tail: {0} | {1}'.format(head, relation)\n",
    "        output = '{}'.format(tail)\n",
    "        f.write(input + '\\t' + output + '\\n')\n",
    "        \n",
    "        input = 'predict head: {0} | {1}'.format(tail, relation)\n",
    "        output = '{}'.format(head)\n",
    "        f.write(input + '\\t' + output + '\\n')\n",
    "    f.close()"
   ]
  },
  {
   "cell_type": "code",
   "execution_count": 34,
   "id": "9c498634",
   "metadata": {},
   "outputs": [
    {
     "data": {
      "text/plain": [
       "0"
      ]
     },
     "execution_count": 34,
     "metadata": {},
     "output_type": "execute_result"
    }
   ],
   "source": [
    "count"
   ]
  },
  {
   "cell_type": "code",
   "execution_count": 35,
   "id": "91b1d75f",
   "metadata": {},
   "outputs": [
    {
     "data": {
      "text/plain": [
       "40943"
      ]
     },
     "execution_count": 35,
     "metadata": {},
     "output_type": "execute_result"
    }
   ],
   "source": [
    "entity_names = set()\n",
    "for key, value in aliases_dict.items():\n",
    "#     if key.startswith('Q'):\n",
    "    entity_names.add(value)\n",
    "len(entity_names)"
   ]
  },
  {
   "cell_type": "code",
   "execution_count": null,
   "id": "92575495",
   "metadata": {},
   "outputs": [],
   "source": []
  },
  {
   "cell_type": "code",
   "execution_count": 36,
   "id": "483eab98",
   "metadata": {},
   "outputs": [],
   "source": [
    "# create entity_strings.txt which is needed in evaluation code\n",
    "strings_file_name = 'entity_strings.txt'\n",
    "f = open(os.path.join(out_folder, strings_file_name), 'w')\n",
    "ents_uniq = entity_names\n",
    "for e in ents_uniq:\n",
    "    f.write(e + '\\n')\n",
    "f.close()"
   ]
  },
  {
   "cell_type": "code",
   "execution_count": 99,
   "id": "92b98056",
   "metadata": {},
   "outputs": [],
   "source": [
    "# webqsp qa \n",
    "# def readQALines(fname):\n",
    "#     f = open(fname)\n",
    "#     questions = []\n",
    "#     for line in f:\n",
    "#         line = line.strip().split('\\t')\n",
    "#         q = line[0]\n",
    "#         lhs = q.split('[')[0]\n",
    "#         rhs = q.split(']')[1]\n",
    "#         only_question = lhs + 'NE' + rhs\n",
    "#         only_question = normalizeEntity(only_question)\n",
    "# #         q = q.replace('[', '')\n",
    "# #         q = q.replace(']', '')\n",
    "# #         q = normalizeEntity(q)\n",
    "#         questions.append(only_question)\n",
    "#     return questions\n",
    "        \n",
    "# def writeLines(lines, fname):\n",
    "#     f = open(fname, 'w')\n",
    "#     for line in lines:\n",
    "#         f.write(line + '\\n')\n"
   ]
  },
  {
   "cell_type": "code",
   "execution_count": 122,
   "id": "7c0446cc",
   "metadata": {},
   "outputs": [],
   "source": []
  },
  {
   "cell_type": "code",
   "execution_count": 103,
   "id": "b9f40016",
   "metadata": {},
   "outputs": [
    {
     "data": {
      "text/plain": [
       "'what character did natalie portman play in star wars NE'"
      ]
     },
     "execution_count": 103,
     "metadata": {},
     "output_type": "execute_result"
    }
   ],
   "source": []
  },
  {
   "cell_type": "code",
   "execution_count": 81,
   "id": "7cd8116f",
   "metadata": {},
   "outputs": [],
   "source": [
    "# fname = 'data/MetaQA/full_qa.txt'\n",
    "# questions = readQALines(fname)\n",
    "# questions = list(set(questions))"
   ]
  },
  {
   "cell_type": "code",
   "execution_count": 82,
   "id": "31ccafbc",
   "metadata": {},
   "outputs": [],
   "source": [
    "# fname = 'data/MetaQA/only_questions_text.txt'\n",
    "# writeLines(questions, fname)"
   ]
  },
  {
   "cell_type": "code",
   "execution_count": 138,
   "id": "8a8e6782",
   "metadata": {},
   "outputs": [],
   "source": [
    "vocab_size = 30000\n",
    "sp = spm.SentencePieceTrainer.train(input='data/fbwq_half/train.txt', \n",
    "                                    model_prefix='fbwq_with_pad', vocab_size=vocab_size, \n",
    "                                    pad_id=3,\n",
    "#                                     character_coverage=1.0,\n",
    "#                                user_defined_symbols=['predict',\n",
    "#                                                     'head',\n",
    "#                                                     'tail',\n",
    "#                                                     '|'],\n",
    "#                                     normalization_rule_name='identity',\n",
    "                              )"
   ]
  },
  {
   "cell_type": "code",
   "execution_count": 139,
   "id": "c2256ddf",
   "metadata": {},
   "outputs": [],
   "source": [
    "# sp = spm.SentencePieceProcessor(model_file='data/sentencepiece/metaqa_with_pad.model')\n",
    "sp = spm.SentencePieceProcessor(model_file='fbwq_with_pad.model')"
   ]
  },
  {
   "cell_type": "code",
   "execution_count": 38,
   "id": "8e3aa571",
   "metadata": {},
   "outputs": [
    {
     "data": {
      "text/plain": [
       "0"
      ]
     },
     "execution_count": 38,
     "metadata": {},
     "output_type": "execute_result"
    }
   ],
   "source": [
    "# sp['Obama']"
   ]
  },
  {
   "cell_type": "code",
   "execution_count": 151,
   "id": "ba0b22e2",
   "metadata": {},
   "outputs": [
    {
     "data": {
      "text/plain": [
       "'how old'"
      ]
     },
     "execution_count": 151,
     "metadata": {},
     "output_type": "execute_result"
    }
   ],
   "source": [
    "sp.decode(sp.encode('how old'))"
   ]
  },
  {
   "cell_type": "code",
   "execution_count": 192,
   "id": "2c83c7a2",
   "metadata": {},
   "outputs": [
    {
     "data": {
      "text/plain": [
       "[5, 0, 12497, 0]"
      ]
     },
     "execution_count": 192,
     "metadata": {},
     "output_type": "execute_result"
    }
   ],
   "source": [
    "sp.encode('<pad>')"
   ]
  },
  {
   "cell_type": "code",
   "execution_count": 195,
   "id": "dc8aa35e",
   "metadata": {},
   "outputs": [
    {
     "data": {
      "text/plain": [
       "2"
      ]
     },
     "execution_count": 195,
     "metadata": {},
     "output_type": "execute_result"
    }
   ],
   "source": [
    "sp['</s>']"
   ]
  },
  {
   "cell_type": "code",
   "execution_count": 193,
   "id": "0b28dd64",
   "metadata": {},
   "outputs": [
    {
     "data": {
      "text/plain": [
       "'<pad>'"
      ]
     },
     "execution_count": 193,
     "metadata": {},
     "output_type": "execute_result"
    }
   ],
   "source": [
    "sp.id_to_piece(3)"
   ]
  },
  {
   "cell_type": "code",
   "execution_count": 176,
   "id": "30733281",
   "metadata": {},
   "outputs": [
    {
     "name": "stderr",
     "output_type": "stream",
     "text": [
      "100%|██████████| 1712213/1712213 [00:18<00:00, 91029.72it/s] \n"
     ]
    },
    {
     "data": {
      "text/plain": [
       "0"
      ]
     },
     "execution_count": 176,
     "metadata": {},
     "output_type": "execute_result"
    }
   ],
   "source": [
    "lengths = []\n",
    "count = 0\n",
    "for e in tqdm(ents_uniq):\n",
    "    encoded = sp.encode(e)\n",
    "    l = len(encoded)\n",
    "    if l > 500:\n",
    "        print(e,l)\n",
    "        l = 20\n",
    "        count += 1\n",
    "    lengths.append(l)\n",
    "count"
   ]
  },
  {
   "cell_type": "code",
   "execution_count": 177,
   "id": "8055bc10",
   "metadata": {
    "scrolled": false
   },
   "outputs": [
    {
     "data": {
      "text/plain": [
       "Text(0.5, 0, 'Tokenized lengths')"
      ]
     },
     "execution_count": 177,
     "metadata": {},
     "output_type": "execute_result"
    },
    {
     "data": {
      "image/png": "[encoded data removed]",
      "text/plain": [
       "<Figure size 432x288 with 1 Axes>"
      ]
     },
     "metadata": {
      "needs_background": "light"
     },
     "output_type": "display_data"
    }
   ],
   "source": [
    "import matplotlib.pyplot as plt \n",
    "\n",
    "import numpy as np \n",
    "\n",
    "%matplotlib inline\n",
    "\n",
    "# x = np.random.normal(size = 1000) \n",
    "x = lengths\n",
    "plt.hist(x, bins=30) \n",
    "\n",
    "plt.ylabel('Num entities');\n",
    "plt.xlabel('Tokenized lengths')"
   ]
  },
  {
   "cell_type": "code",
   "execution_count": 190,
   "id": "afd66461",
   "metadata": {},
   "outputs": [
    {
     "name": "stderr",
     "output_type": "stream",
     "text": [
      "100%|██████████| 1068/1068 [00:00<00:00, 41292.34it/s]"
     ]
    },
    {
     "name": "stdout",
     "output_type": "stream",
     "text": [
      "astronomical objects discovered\n",
      "astronomical objects discovered reverse\n",
      "sewage treatment plant\n",
      "sewage treatment plant reverse\n",
      "infidelity perpetrator reverse\n",
      "substance abuse reverse\n",
      "lifetime batting statistics reverse\n",
      "sponsored by reverse\n",
      "substance abuse problems reverse\n",
      "appears in these fictional universes reverse\n",
      "jurisdiction of office reverse\n",
      "body this is a component of reverse\n",
      "politicians in this party reverse\n",
      "websites owned reverse\n",
      "tropical cyclone season reverse\n",
      "olympics hosted reverse\n",
      "types of places of worship reverse\n",
      "athletic performances reverse\n",
      "mode of transportation reverse\n",
      "appeared in tv episodes reverse\n",
      "episodes appeared in reverse\n"
     ]
    },
    {
     "name": "stderr",
     "output_type": "stream",
     "text": [
      "\n"
     ]
    },
    {
     "data": {
      "text/plain": [
       "21"
      ]
     },
     "execution_count": 190,
     "metadata": {},
     "output_type": "execute_result"
    }
   ],
   "source": [
    "lengths = []\n",
    "count = 0\n",
    "for e in tqdm(relations):\n",
    "    encoded = sp.encode(relation_map[e])\n",
    "    l = len(encoded)\n",
    "    if l > 10:\n",
    "        print(relation_map[e])\n",
    "        count +=1\n",
    "    lengths.append(l)\n",
    "count"
   ]
  },
  {
   "cell_type": "code",
   "execution_count": 186,
   "id": "b5462fd9",
   "metadata": {},
   "outputs": [
    {
     "data": {
      "text/plain": [
       "Text(0.5, 0, 'Tokenized lengths')"
      ]
     },
     "execution_count": 186,
     "metadata": {},
     "output_type": "execute_result"
    },
    {
     "data": {
      "image/png": "[encoded data removed]",
      "text/plain": [
       "<Figure size 432x288 with 1 Axes>"
      ]
     },
     "metadata": {
      "needs_background": "light"
     },
     "output_type": "display_data"
    }
   ],
   "source": [
    "import matplotlib.pyplot as plt \n",
    "\n",
    "import numpy as np \n",
    "\n",
    "%matplotlib inline\n",
    "\n",
    "# x = np.random.normal(size = 1000) \n",
    "x = lengths\n",
    "plt.hist(x, bins=30) \n",
    "\n",
    "plt.ylabel('Num entities');\n",
    "plt.xlabel('Tokenized lengths')"
   ]
  },
  {
   "cell_type": "code",
   "execution_count": 191,
   "id": "51a339bd",
   "metadata": {},
   "outputs": [
    {
     "data": {
      "text/plain": [
       "[167, 10, 96]"
      ]
     },
     "execution_count": 191,
     "metadata": {},
     "output_type": "execute_result"
    }
   ],
   "source": [
    "sp.encode('plays for')"
   ]
  },
  {
   "cell_type": "code",
   "execution_count": 104,
   "id": "be1d15cf",
   "metadata": {},
   "outputs": [
    {
     "data": {
      "text/plain": [
       "1880592"
      ]
     },
     "execution_count": 104,
     "metadata": {},
     "output_type": "execute_result"
    }
   ],
   "source": [
    "len(uniq_ent_map)"
   ]
  },
  {
   "cell_type": "code",
   "execution_count": 143,
   "id": "023dc021",
   "metadata": {},
   "outputs": [],
   "source": [
    "def replaceEntities(line, aliases_dict):\n",
    "    line = line.strip().split('\\t')\n",
    "    q = line[0]\n",
    "    # sometimes no answer\n",
    "    if len(line) > 1:\n",
    "        answers= line[1].split('|')\n",
    "    else:\n",
    "        answers = []    \n",
    "    lhs = q.split('[')[0]\n",
    "    rhs = q.split(']')[1]\n",
    "    head_id = q.split('[')[1].split(']')[0]\n",
    "    if head_id in aliases_dict:\n",
    "        head_text = aliases_dict[head_id]\n",
    "    else:\n",
    "        head_text = head_id\n",
    "        print(head_text + ' not found')\n",
    "    answers_text = []\n",
    "    for a in answers:\n",
    "        if a in aliases_dict:\n",
    "            answers_text.append(aliases_dict[a])\n",
    "        else:\n",
    "            answers_text.append(a)\n",
    "    answers_string = '|'.join(answers_text)\n",
    "    \n",
    "    out = '{lhs}[{head}]{rhs}\\t{ans}'.format(\n",
    "        lhs=lhs,\n",
    "        rhs=rhs,\n",
    "        head = head_text,\n",
    "        ans = answers_string\n",
    "    )\n",
    "    return out\n",
    "        \n",
    "def readLines(fname):\n",
    "    f = open(fname)\n",
    "    lines = []\n",
    "    for line in f:\n",
    "        lines.append(line.rstrip())\n",
    "    f.close()\n",
    "    return lines\n",
    "\n",
    "def writeLines(lines, fname):\n",
    "    f = open(fname, 'w')\n",
    "    for line in lines:\n",
    "        f.write(line + '\\n')\n",
    "    f.close()"
   ]
  },
  {
   "cell_type": "code",
   "execution_count": 137,
   "id": "f67a0b09",
   "metadata": {},
   "outputs": [],
   "source": [
    "# need to make qa data as well, since entity aliases need to be used\n",
    "# and not just entity ids as answers\n",
    "fname = '/scratche/home/apoorv/EmbedKGQA/data/QA_data/WebQuestionsSP/qa_test_webqsp_fixed.txt'\n",
    "questions = readLines(fname)\n"
   ]
  },
  {
   "cell_type": "code",
   "execution_count": 138,
   "id": "53a73429",
   "metadata": {},
   "outputs": [
    {
     "data": {
      "text/plain": [
       "'what did james k polk do before he was president [m.042f1]\\tm.02_bcst|m.04x_n9q|m.0cgqx'"
      ]
     },
     "execution_count": 138,
     "metadata": {},
     "output_type": "execute_result"
    }
   ],
   "source": [
    "questions[1]"
   ]
  },
  {
   "cell_type": "code",
   "execution_count": 144,
   "id": "62983ae2",
   "metadata": {},
   "outputs": [
    {
     "name": "stdout",
     "output_type": "stream",
     "text": [
      "m.02vkmj9 not found\n"
     ]
    }
   ],
   "source": [
    "lines_with_entities = [replaceEntities(q, uniq_ent_map) for q in questions]"
   ]
  },
  {
   "cell_type": "code",
   "execution_count": 145,
   "id": "dd205992",
   "metadata": {},
   "outputs": [
    {
     "data": {
      "text/plain": [
       "1639"
      ]
     },
     "execution_count": 145,
     "metadata": {},
     "output_type": "execute_result"
    }
   ],
   "source": [
    "len(lines_with_entities)"
   ]
  },
  {
   "cell_type": "code",
   "execution_count": 146,
   "id": "1372b3d0",
   "metadata": {},
   "outputs": [
    {
     "data": {
      "text/plain": [
       "['what does jamaican people speak [Jamaica 1]\\tJamaican English|Jamaican Creole English Langua|Jamaican English',\n",
       " 'what did james k polk do before he was president [James K. Polk]\\tUnited States Representative|Governor of Tennessee|Speaker of the United States H',\n",
       " 'who plays ken barlow in coronation street [Coronation Street]\\tWilliam Roache',\n",
       " 'where is jamarcus russell from [JaMarcus Russell]\\tMobile 0',\n",
       " 'where was george washington carver from [George Washington Carver]\\tDiamond 8',\n",
       " 'what else did ben franklin invent [Benjamin Franklin]\\tLightning rod|Bifocals|Glass harmonica|Franklin stove',\n",
       " 'who was richard nixon married to [Richard Nixon]\\tPat Nixon',\n",
       " 'who is governor of ohio 2011 [Ohio 2]\\tJohn Kasich|Return J. Meigs, Jr.|Ted Strickland',\n",
       " 'who was vice president after kennedy died [John F. Kennedy 0]\\tLyndon B. Johnson 1',\n",
       " 'where is the fukushima daiichi nuclear plant located [Fukushima Daiichi Nuclear Powe]\\tJapan 1|Okuma']"
      ]
     },
     "execution_count": 146,
     "metadata": {},
     "output_type": "execute_result"
    }
   ],
   "source": [
    "lines_with_entities[:10]"
   ]
  },
  {
   "cell_type": "code",
   "execution_count": 148,
   "id": "dc01e9dd",
   "metadata": {},
   "outputs": [],
   "source": [
    "fname = 'data/fbwq_half/qa_valid_1hop.txt'\n",
    "writeLines(lines_with_entities, fname)"
   ]
  },
  {
   "cell_type": "code",
   "execution_count": null,
   "id": "a3bed453",
   "metadata": {},
   "outputs": [],
   "source": []
  }
 ],
 "metadata": {
  "kernelspec": {
   "display_name": "Python 3 (ipykernel)",
   "language": "python",
   "name": "python3"
  },
  "language_info": {
   "codemirror_mode": {
    "name": "ipython",
    "version": 3
   },
   "file_extension": ".py",
   "mimetype": "text/x-python",
   "name": "python",
   "nbconvert_exporter": "python",
   "pygments_lexer": "ipython3",
   "version": "3.8.11"
  }
 },
 "nbformat": 4,
 "nbformat_minor": 5
}

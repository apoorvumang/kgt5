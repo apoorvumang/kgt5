{
 "cells": [
  {
   "cell_type": "code",
   "execution_count": 1,
   "id": "6294b12f",
   "metadata": {},
   "outputs": [],
   "source": [
    "import os\n",
    "import pickle\n",
    "from tqdm.notebook import tqdm\n",
    "import sentencepiece as spm"
   ]
  },
  {
   "cell_type": "code",
   "execution_count": 3,
   "id": "469530a4",
   "metadata": {
    "scrolled": true
   },
   "outputs": [
    {
     "name": "stdout",
     "output_type": "stream",
     "text": [
      "ComplexWebQuestions_dev.json   ComplexWebQuestions_train.json\r\n",
      "ComplexWebQuestions_test.json\r\n"
     ]
    }
   ],
   "source": [
    "# we make data from scratch (ie WebQSP dump)\n",
    "source_folder = '/scratche/home/apoorv/freebase/ComplexWebQuestions'\n",
    "! ls {source_folder}"
   ]
  },
  {
   "cell_type": "code",
   "execution_count": 4,
   "id": "bb2aba72",
   "metadata": {},
   "outputs": [],
   "source": [
    "import json\n",
    "fname = os.path.join(source_folder, 'ComplexWebQuestions_train.json')\n",
    "train = json.load(open(fname))\n",
    "fname = os.path.join(source_folder, 'ComplexWebQuestions_test.json')\n",
    "test = json.load(open(fname))\n",
    "fname = os.path.join(source_folder, 'ComplexWebQuestions_dev.json')\n",
    "dev = json.load(open(fname))"
   ]
  },
  {
   "cell_type": "code",
   "execution_count": 6,
   "id": "7d72b5aa",
   "metadata": {},
   "outputs": [],
   "source": [
    "# fname = 'data/fbwq_full/ent_map_fbwq_half_lego.pickle'\n",
    "# entity_map = pickle.load(open(fname, 'rb'))\n",
    "# fname = 'data/fbwq_full/rel_map_fbwq_half_lego.pickle'\n",
    "# relation_map = pickle.load(open(fname, 'rb'))"
   ]
  },
  {
   "cell_type": "code",
   "execution_count": 15,
   "id": "68ce5273",
   "metadata": {},
   "outputs": [
    {
     "data": {
      "text/plain": [
       "{'ID': 'WebQTrn-2360_a40a0d50b9a1006e2d254705d46345ea',\n",
       " 'answers': [{'aliases': ['University of Florida Gators Mens Football',\n",
       "    'Gators Mens Football',\n",
       "    'Florida Gators Football',\n",
       "    \"Gators Men's Football\",\n",
       "    'University of Florida Mens Football',\n",
       "    'University of Florida Football',\n",
       "    \"Florida Men's Football\",\n",
       "    'UF Gators Mens Football',\n",
       "    \"University of Florida Gators Men's Football\",\n",
       "    'UF Mens Football',\n",
       "    \"University of Florida Men's Football\",\n",
       "    'Gators Football',\n",
       "    'UF Gators Football',\n",
       "    'University of Florida Gators Football',\n",
       "    \"UF Gators Men's Football\",\n",
       "    'UF Football',\n",
       "    \"Florida Gators Men's Football\",\n",
       "    'Florida Football',\n",
       "    'Florida Mens Football',\n",
       "    'Florida Gators Mens Football',\n",
       "    \"UF Men's Football\"],\n",
       "   'answer': 'Florida Gators football',\n",
       "   'answer_id': 'm.0ftf0f'}],\n",
       " 'composition_answer': '',\n",
       " 'compositionality_type': 'conjunction',\n",
       " 'created': '2018-02-12T23:49:23',\n",
       " 'machine_question': 'what football teams did emmitt smith play for and is the sports team with the fight song The Orange and Blue',\n",
       " 'question': 'Which school with the fight song \"The Orange and Blue\" did Emmitt Smith play for?',\n",
       " 'sparql': \"PREFIX ns: <http://rdf.freebase.com/ns/>\\nSELECT DISTINCT ?x\\nWHERE {\\nFILTER (?x != ns:m.01480y)\\nFILTER (!isLiteral(?x) OR lang(?x) = '' OR langMatches(lang(?x), 'en'))\\nns:m.01480y ns:sports.pro_athlete.teams ?y .\\n?y ns:sports.sports_team_roster.team ?x .\\n?x ns:sports.sports_team.fight_song ns:m.04f__h7 . \\n}\",\n",
       " 'webqsp_ID': 'WebQTrn-2360',\n",
       " 'webqsp_question': 'what football teams did emmitt smith play for'}"
      ]
     },
     "execution_count": 15,
     "metadata": {},
     "output_type": "execute_result"
    }
   ],
   "source": [
    "train[2]"
   ]
  },
  {
   "cell_type": "code",
   "execution_count": 13,
   "id": "ef075f45",
   "metadata": {},
   "outputs": [
    {
     "data": {
      "text/plain": [
       "3443"
      ]
     },
     "execution_count": 13,
     "metadata": {},
     "output_type": "execute_result"
    }
   ],
   "source": [
    "webqsp_questions = set()\n",
    "for q in train + test + dev:\n",
    "    webqsp_questions.add(q['webqsp_question'])\n",
    "len(webqsp_questions)"
   ]
  },
  {
   "cell_type": "code",
   "execution_count": 14,
   "id": "399b3ee2",
   "metadata": {},
   "outputs": [
    {
     "data": {
      "text/plain": [
       "3531"
      ]
     },
     "execution_count": 14,
     "metadata": {},
     "output_type": "execute_result"
    }
   ],
   "source": [
    "len(test)"
   ]
  },
  {
   "cell_type": "code",
   "execution_count": 16,
   "id": "50f1ddda",
   "metadata": {},
   "outputs": [],
   "source": []
  },
  {
   "cell_type": "code",
   "execution_count": 29,
   "id": "96540678",
   "metadata": {},
   "outputs": [],
   "source": [
    "from unidecode import unidecode\n",
    "\n",
    "def normalize_string(s):\n",
    "    s = unidecode(s)\n",
    "    s = s.lower()\n",
    "    return s\n",
    "\n",
    "def makeQuestion(question):\n",
    "    q_text = question['question']\n",
    "    q_text = normalize_string(q_text)\n",
    "    answers = []\n",
    "    for a in question['answers']:\n",
    "        ans = a['answer']\n",
    "        if ans == None:\n",
    "            ans = a['answer_id']\n",
    "            print(ans, q_text)\n",
    "        ans = normalize_string(ans)\n",
    "        answers.append(ans)\n",
    "    answers_string = '|'.join(answers)\n",
    "    final_string = q_text + '\\t' + answers_string\n",
    "    return final_string"
   ]
  },
  {
   "cell_type": "code",
   "execution_count": 30,
   "id": "c172a633",
   "metadata": {},
   "outputs": [
    {
     "data": {
      "application/vnd.jupyter.widget-view+json": {
       "model_id": "ca136ed5fb4149728378a56d54d8a0cf",
       "version_major": 2,
       "version_minor": 0
      },
      "text/plain": [
       "  0%|          | 0/27639 [00:00<?, ?it/s]"
      ]
     },
     "metadata": {},
     "output_type": "display_data"
    },
    {
     "name": "stdout",
     "output_type": "stream",
     "text": [
      "1892-01-11 what year did the graduate form poland academy become the president?\n",
      "1897-03-04 what year did the graduate form poland academy become the president?\n",
      "1957-03-25 which country includes the president of the european council and is a member of the organization?\n",
      "1973-01-01 which country includes the president of the european council and is a member of the organization?\n",
      "1981-01-01 which country includes the president of the european council and is a member of the organization?\n",
      "1986-01-01 which country includes the president of the european council and is a member of the organization?\n",
      "1995-01-01 which country includes the president of the european council and is a member of the organization?\n",
      "2004-05-01 which country includes the president of the european council and is a member of the organization?\n",
      "2007-01-01 which country includes the president of the european council and is a member of the organization?\n",
      "2013-07-01 which country includes the president of the european council and is a member of the organization?\n",
      "2000 when did the famous tennis player that went to indiana university east win the wimbledon?\n",
      "2001 when did the famous tennis player that went to indiana university east win the wimbledon?\n",
      "2002 when did the famous tennis player that went to indiana university east win the wimbledon?\n",
      "2005 when did the famous tennis player that went to indiana university east win the wimbledon?\n",
      "2007 when did the famous tennis player that went to indiana university east win the wimbledon?\n",
      "2008 when did the famous tennis player that went to indiana university east win the wimbledon?\n",
      "2009 when did the famous tennis player that went to indiana university east win the wimbledon?\n",
      "2012 when did the famous tennis player that went to indiana university east win the wimbledon?\n",
      "Elizabeth II what was the childhood nickname of the governor of gibraltar?\n",
      "Lilibet what was the childhood nickname of the governor of gibraltar?\n",
      "1957-03-25 when countries joined the location, that held the legislative session of the ,seventh european parliament?\n",
      "1973-01-01 when countries joined the location, that held the legislative session of the ,seventh european parliament?\n",
      "1981-01-01 when countries joined the location, that held the legislative session of the ,seventh european parliament?\n",
      "1986-01-01 when countries joined the location, that held the legislative session of the ,seventh european parliament?\n",
      "1995-01-01 when countries joined the location, that held the legislative session of the ,seventh european parliament?\n",
      "2004-05-01 when countries joined the location, that held the legislative session of the ,seventh european parliament?\n",
      "2007-01-01 when countries joined the location, that held the legislative session of the ,seventh european parliament?\n",
      "2013-07-01 when countries joined the location, that held the legislative session of the ,seventh european parliament?\n",
      "1892-01-11 during what year did  the person who was an actor in the movie mckinley at home, canton, ohio  become president?\n",
      "1897-03-04 during what year did  the person who was an actor in the movie mckinley at home, canton, ohio  become president?\n",
      "Animals what is the subject of the movie \"brother sun, sister moon\" the patron saint of?\n",
      "The Enviroment what is the subject of the movie \"brother sun, sister moon\" the patron saint of?\n",
      "Elizabeth II what was the childhood nickname of the queen of the country whose coat of arms is coat of arms of the isle of man?\n",
      "Lilibet what was the childhood nickname of the queen of the country whose coat of arms is coat of arms of the isle of man?\n",
      "Animals what is the person who said \"it is in pardoning that we are pardoned\" the patron saint of?\n",
      "The Enviroment what is the person who said \"it is in pardoning that we are pardoned\" the patron saint of?\n",
      "Elizabeth II what was the childhood nickname of the queen who appointed the first secretary of state?\n",
      "Lilibet what was the childhood nickname of the queen who appointed the first secretary of state?\n",
      "Animals of what is the lyricist for \"cantico del sol di san francisco d'assisi\" the patron saint?\n",
      "The Enviroment of what is the lyricist for \"cantico del sol di san francisco d'assisi\" the patron saint?\n",
      "Elizabeth II what was the childhood nickname of the queen who ruled the solomon islands?\n",
      "Lilibet what was the childhood nickname of the queen who ruled the solomon islands?\n",
      "Animals what is the person who wrote \"brother sun, sister moon\" the patron saint of?\n",
      "The Enviroment what is the person who wrote \"brother sun, sister moon\" the patron saint of?\n",
      "Elizabeth II what was the childhood nickname of the politician who held the administrator of the government?\n",
      "Lilibet what was the childhood nickname of the politician who held the administrator of the government?\n"
     ]
    }
   ],
   "source": [
    "from tqdm.notebook import tqdm\n",
    "train_lines = []\n",
    "for q in tqdm(train):\n",
    "    out = makeQuestion(q)\n",
    "    train_lines.append(out)"
   ]
  },
  {
   "cell_type": "code",
   "execution_count": 31,
   "id": "3e1b8684",
   "metadata": {},
   "outputs": [
    {
     "data": {
      "application/vnd.jupyter.widget-view+json": {
       "model_id": "40a70df181464f7ab907a193329245ae",
       "version_major": 2,
       "version_minor": 0
      },
      "text/plain": [
       "  0%|          | 0/3519 [00:00<?, ?it/s]"
      ]
     },
     "metadata": {},
     "output_type": "display_data"
    }
   ],
   "source": [
    "dev_lines = []\n",
    "for q in tqdm(dev):\n",
    "    out = makeQuestion(q)\n",
    "    dev_lines.append(out)"
   ]
  },
  {
   "cell_type": "code",
   "execution_count": 44,
   "id": "1209a6fd",
   "metadata": {},
   "outputs": [],
   "source": [
    "test_lines = []\n",
    "for id, q in enumerate(test):\n",
    "    q['answers'] = []\n",
    "    out = makeQuestion(q)\n",
    "    test_lines.append(out)"
   ]
  },
  {
   "cell_type": "code",
   "execution_count": 48,
   "id": "96eb9e15",
   "metadata": {},
   "outputs": [
    {
     "data": {
      "text/plain": [
       "[\"what state is home to the university that is represented in sports by george washington colonials men's basketball?\\twashington, d.c.\",\n",
       " 'what year did the team with baltimore fight song win the superbowl?\\tsuper bowl xlvii|super bowl xxxv',\n",
       " 'which school with the fight song \"the orange and blue\" did emmitt smith play for?\\tflorida gators football',\n",
       " \"what movie with film character named mr. woodson did tupac star in?\\tgridlock'd\",\n",
       " 'what country sharing borders with spain does the setaobal district belong to?\\tportugal',\n",
       " 'who was the 1996 coach of the team owned by jerry jones?\\tbarry switzer',\n",
       " 'who dated the performer who headlined the concert tour called demi world tour?\\tnicholas braun|joe jonas|cody linley',\n",
       " 'which team owned by malcolm glazer has tim howard playing for it?\\tmanchester united f.c.',\n",
       " 'what movie starring zac efron that has a character named owen lars?\\trobot chicken: star wars episode iii',\n",
       " 'what business titles was the most famous alumni of detroit business institute best known for?\\tbusinessperson|business magnate|industrialist|inventor|engineer|entrepreneur']"
      ]
     },
     "execution_count": 48,
     "metadata": {},
     "output_type": "execute_result"
    }
   ],
   "source": [
    "train_lines[:10]"
   ]
  },
  {
   "cell_type": "code",
   "execution_count": 47,
   "id": "3340cb0a",
   "metadata": {},
   "outputs": [
    {
     "data": {
      "text/plain": [
       "'who was the president in 1980 of the country that has azad kashmir?\\tmuhammad zia-ul-haq'"
      ]
     },
     "execution_count": 47,
     "metadata": {},
     "output_type": "execute_result"
    }
   ],
   "source": [
    "dev_lines[0]"
   ]
  },
  {
   "cell_type": "code",
   "execution_count": 51,
   "id": "a4791fa5",
   "metadata": {},
   "outputs": [
    {
     "data": {
      "text/plain": [
       "'what country bordering france contains an airport that serves nijmegen?\\t'"
      ]
     },
     "execution_count": 51,
     "metadata": {},
     "output_type": "execute_result"
    }
   ],
   "source": [
    "test_lines[3]"
   ]
  },
  {
   "cell_type": "code",
   "execution_count": 37,
   "id": "98e1678a",
   "metadata": {},
   "outputs": [],
   "source": [
    "def writeLines(lines, fname):\n",
    "    f = open(fname, 'w')\n",
    "    for line in lines:\n",
    "        f.write(line + '\\n')\n",
    "    f.close()"
   ]
  },
  {
   "cell_type": "code",
   "execution_count": 38,
   "id": "66299668",
   "metadata": {},
   "outputs": [],
   "source": [
    "fname = 'data/cwq_half/qa_train_1hop.txt'\n",
    "writeLines(train_lines, fname)\n",
    "fname = 'data/cwq_half/qa_test_1hop.txt'\n",
    "writeLines(dev_lines, fname)"
   ]
  },
  {
   "cell_type": "code",
   "execution_count": 52,
   "id": "84dd4382",
   "metadata": {},
   "outputs": [],
   "source": [
    "fname = 'data/cwq_half/qa_test_actual_1hop.txt'\n",
    "writeLines(test_lines, fname)"
   ]
  },
  {
   "cell_type": "code",
   "execution_count": 22,
   "id": "03affe38",
   "metadata": {},
   "outputs": [],
   "source": [
    "def getUniqueMap(init_map):\n",
    "    out_map = {}\n",
    "    values = set()\n",
    "    for key, value in init_map.items():\n",
    "        if value not in values:\n",
    "            out_map[key] = value\n",
    "            values.add(value)\n",
    "        else:\n",
    "            id_to_append = 0\n",
    "            new_value = value + ' ' + str(id_to_append)\n",
    "            while(new_value in values):\n",
    "                id_to_append += 1\n",
    "                new_value = value + ' ' + str(id_to_append)\n",
    "            out_map[key] = new_value\n",
    "            values.add(new_value)\n",
    "    assert len(init_map) == len(set(out_map.values()))\n",
    "    return out_map\n",
    "\n",
    "def mapTriple(triple, ent_map, rel_map):\n",
    "    t = triple\n",
    "    new_triple = [ent_map[t[0]], rel_map[t[1]], ent_map[t[2]]]\n",
    "    return new_triple"
   ]
  },
  {
   "cell_type": "code",
   "execution_count": 23,
   "id": "720a2a53",
   "metadata": {},
   "outputs": [],
   "source": [
    "# uniq_ent_map = getUniqueMap(entity_map)\n",
    "uniq_ent_map = entity_map"
   ]
  },
  {
   "cell_type": "code",
   "execution_count": 24,
   "id": "1e84e918",
   "metadata": {},
   "outputs": [
    {
     "data": {
      "text/plain": [
       "['Arthur Kingscote', 'place of death', 'Fulham']"
      ]
     },
     "execution_count": 24,
     "metadata": {},
     "output_type": "execute_result"
    }
   ],
   "source": [
    "mapTriple(data['train'][0], uniq_ent_map, relation_map)"
   ]
  },
  {
   "cell_type": "code",
   "execution_count": 15,
   "id": "dec20bbe",
   "metadata": {},
   "outputs": [],
   "source": [
    "out_folder = '/scratche/home/apoorv/transformer-kgc/data/MetaQA'\n",
    "splits = ['train', 'test', 'valid']\n",
    "for split in splits:\n",
    "    fname = os.path.join(out_folder, split + '.txt')\n",
    "    f = open(fname, 'w')\n",
    "    triples = data[split]\n",
    "    for t in triples:\n",
    "        t = mapTriple(t, uniq_ent_map, relation_map)\n",
    "        head, relation, tail = t\n",
    "        input = 'predict tail: {0} | {1} |'.format(head, relation)\n",
    "        output = '{}'.format(tail)\n",
    "        f.write(input + '\\t' + output + '\\n')\n",
    "        \n",
    "        input = 'predict head: {0} | {1} |'.format(tail, relation)\n",
    "        output = '{}'.format(head)\n",
    "        f.write(input + '\\t' + output + '\\n')\n",
    "    f.close()"
   ]
  },
  {
   "cell_type": "code",
   "execution_count": 16,
   "id": "483eab98",
   "metadata": {},
   "outputs": [],
   "source": [
    "# create entity_strings.txt which is needed in evaluation code\n",
    "strings_file_name = 'entity_strings.txt'\n",
    "f = open(os.path.join(out_folder, strings_file_name), 'w')\n",
    "ents_uniq = set(uniq_ent_map.values())\n",
    "for e in ents_uniq:\n",
    "    f.write(e + '\\n')\n",
    "f.close()"
   ]
  },
  {
   "cell_type": "code",
   "execution_count": 17,
   "id": "561b82f9",
   "metadata": {},
   "outputs": [],
   "source": [
    "def readQALines(fname):\n",
    "    f = open(fname)\n",
    "    questions = []\n",
    "    for line in f:\n",
    "        line = line.strip().split('\\t')\n",
    "        q = line[0]\n",
    "        q = q.replace('[', '')\n",
    "        q = q.replace(']', '')\n",
    "        q = normalizeEntity(q)\n",
    "        questions.append(q)\n",
    "    return questions\n",
    "        \n",
    "def writeLines(lines, fname):\n",
    "    f = open(fname, 'w')\n",
    "    for line in lines:\n",
    "        f.write(line + '\\n')\n"
   ]
  },
  {
   "cell_type": "code",
   "execution_count": 18,
   "id": "0eeccae2",
   "metadata": {},
   "outputs": [],
   "source": [
    "fname = 'data/MetaQA/full_qa.txt'\n",
    "questions = readQALines(fname)"
   ]
  },
  {
   "cell_type": "code",
   "execution_count": 19,
   "id": "ad94ee58",
   "metadata": {},
   "outputs": [],
   "source": [
    "fname = 'data/MetaQA/full_q_only.txt'\n",
    "writeLines(questions, fname)"
   ]
  },
  {
   "cell_type": "code",
   "execution_count": null,
   "id": "8a8e6782",
   "metadata": {},
   "outputs": [],
   "source": [
    "vocab_size = 20000\n",
    "sp = spm.SentencePieceTrainer.train(input='data/MetaQA/full_for_sp_train.txt', \n",
    "                                    model_prefix='metaqa_with_pad', vocab_size=vocab_size, \n",
    "                                    pad_id=3,\n",
    "#                                     character_coverage=1.0,\n",
    "#                                user_defined_symbols=['<pad>'],\n",
    "#                                     normalization_rule_name='identity',\n",
    "                              )"
   ]
  },
  {
   "cell_type": "code",
   "execution_count": 21,
   "id": "c2256ddf",
   "metadata": {},
   "outputs": [],
   "source": [
    "sp = spm.SentencePieceProcessor(model_file='data/sentencepiece/metaqa_with_pad.model')"
   ]
  },
  {
   "cell_type": "code",
   "execution_count": 22,
   "id": "8e3aa571",
   "metadata": {},
   "outputs": [
    {
     "data": {
      "text/plain": [
       "5"
      ]
     },
     "execution_count": 22,
     "metadata": {},
     "output_type": "execute_result"
    }
   ],
   "source": [
    "sp['|']"
   ]
  },
  {
   "cell_type": "code",
   "execution_count": 39,
   "id": "ba0b22e2",
   "metadata": {},
   "outputs": [
    {
     "data": {
      "text/plain": [
       "[4, 8811, 37]"
      ]
     },
     "execution_count": 39,
     "metadata": {},
     "output_type": "execute_result"
    }
   ],
   "source": [
    "sp.encode('about')"
   ]
  },
  {
   "cell_type": "code",
   "execution_count": 92,
   "id": "30733281",
   "metadata": {},
   "outputs": [],
   "source": [
    "lengths = []\n",
    "for e in ents_uniq:\n",
    "    encoded = sp.encode(e)\n",
    "    lengths.append(len(encoded))"
   ]
  },
  {
   "cell_type": "code",
   "execution_count": 93,
   "id": "8055bc10",
   "metadata": {},
   "outputs": [
    {
     "data": {
      "text/plain": [
       "Text(0.5, 0, 'Tokenized lengths')"
      ]
     },
     "execution_count": 93,
     "metadata": {},
     "output_type": "execute_result"
    },
    {
     "data": {
      "image/png": "[encoded data removed]",
      "text/plain": [
       "<Figure size 432x288 with 1 Axes>"
      ]
     },
     "metadata": {
      "needs_background": "light"
     },
     "output_type": "display_data"
    }
   ],
   "source": [
    "import matplotlib.pyplot as plt \n",
    "\n",
    "import numpy as np \n",
    "\n",
    "%matplotlib inline\n",
    "\n",
    "# x = np.random.normal(size = 1000) \n",
    "x = lengths\n",
    "plt.hist(x, bins=30) \n",
    "\n",
    "plt.ylabel('Num entities');\n",
    "plt.xlabel('Tokenized lengths')"
   ]
  },
  {
   "cell_type": "code",
   "execution_count": 94,
   "id": "51a339bd",
   "metadata": {},
   "outputs": [
    {
     "data": {
      "text/plain": [
       "[19, 13, 18]"
      ]
     },
     "execution_count": 94,
     "metadata": {},
     "output_type": "execute_result"
    }
   ],
   "source": [
    "sp.encode('plays for')"
   ]
  },
  {
   "cell_type": "code",
   "execution_count": 35,
   "id": "be1d15cf",
   "metadata": {},
   "outputs": [
    {
     "name": "stdout",
     "output_type": "stream",
     "text": [
      "University_of_Illinois_at_Urbana-Champaign University_of_Illinois_at_Urbana-Champaign\n",
      "Hoang_Anh_Gia_Lai_F.C. Hoang_Anh_Gia_Lai_F.C.\n",
      "Zurich Zurich\n",
      "Toshirō_Mifune Toshiro_Mifune\n",
      "Karl_Weierstrass Karl_Weierstrass\n",
      "László_Bálint Laszlo_Balint\n",
      "Sergio_Araujo Sergio_Araujo\n",
      "Carlos_Tevez Carlos_Tevez\n",
      "Polish-Lithuanian_Commonwealth Polish-Lithuanian_Commonwealth\n",
      "Przemysl_II Przemysl_II\n",
      "Christian_Groß Christian_Gross\n",
      "Izmir Izmir\n",
      "Münster Munster\n",
      "Dalibor_Stevanovič Dalibor_Stevanovic\n",
      "Jürgen_Gjasula Jurgen_Gjasula\n",
      "Sócrates Socrates\n",
      "Zlatko_Dedič Zlatko_Dedic\n",
      "Antônio_Bezerra_Brandão Antonio_Bezerra_Brandao\n",
      "Aleksander_Kwasniewski Aleksander_Kwasniewski\n",
      "Sani_Bečirović Sani_Becirovic\n",
      "Izmit Izmit\n",
      "Ryukyu_Islands Ryukyu_Islands\n",
      "Stanisław_Ulam Stanislaw_Ulam\n",
      "Pantheon-Assas_University Pantheon-Assas_University\n",
      "Quang_Binh_Province Quang_Binh_Province\n",
      "Mures_County Mures_County\n",
      "Braila Braila\n",
      "San_Sebastian San_Sebastian\n",
      "Ploiesti Ploiesti\n",
      "Beja Beja\n",
      "Zé_Antônio Ze_Antonio\n",
      "San_Miguel_de_Tucumán San_Miguel_de_Tucuman\n",
      "Foça Foca\n",
      "Denmark-Norway Denmark-Norway\n",
      "Gmina_Rogóźno Gmina_Rogozno\n",
      "Habo_Municipality Habo_Municipality\n",
      "Gilgit-Baltistan Gilgit-Baltistan\n"
     ]
    }
   ],
   "source": [
    "from unidecode import unidecode\n",
    "entities_ud = []\n",
    "entities_ud_set = set()\n",
    "for e in entities:\n",
    "    ud_e = unidecode(e)\n",
    "    entities_ud.append(ud_e)\n",
    "    if ud_e in entities_ud_set:\n",
    "        print(e, ud_e)\n",
    "    else:\n",
    "        entities_ud_set.add(ud_e)"
   ]
  },
  {
   "cell_type": "code",
   "execution_count": 28,
   "id": "f67a0b09",
   "metadata": {},
   "outputs": [
    {
     "data": {
      "text/plain": [
       "(123182, 123182)"
      ]
     },
     "execution_count": 28,
     "metadata": {},
     "output_type": "execute_result"
    }
   ],
   "source": [
    "len(entities), len(set(entities))"
   ]
  },
  {
   "cell_type": "code",
   "execution_count": 33,
   "id": "62983ae2",
   "metadata": {},
   "outputs": [
    {
     "data": {
      "text/plain": [
       "(123182, 123145)"
      ]
     },
     "execution_count": 33,
     "metadata": {},
     "output_type": "execute_result"
    }
   ],
   "source": [
    "len(entities_ud), len(set(entities_ud))"
   ]
  },
  {
   "cell_type": "code",
   "execution_count": null,
   "id": "dd205992",
   "metadata": {},
   "outputs": [],
   "source": []
  }
 ],
 "metadata": {
  "kernelspec": {
   "display_name": "Python 3 (ipykernel)",
   "language": "python",
   "name": "python3"
  },
  "language_info": {
   "codemirror_mode": {
    "name": "ipython",
    "version": 3
   },
   "file_extension": ".py",
   "mimetype": "text/x-python",
   "name": "python",
   "nbconvert_exporter": "python",
   "pygments_lexer": "ipython3",
   "version": "3.8.11"
  }
 },
 "nbformat": 4,
 "nbformat_minor": 5
}

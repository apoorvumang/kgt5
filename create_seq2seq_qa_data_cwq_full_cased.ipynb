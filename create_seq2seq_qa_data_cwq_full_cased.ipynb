{
 "cells": [
  {
   "cell_type": "code",
   "execution_count": 1,
   "id": "6294b12f",
   "metadata": {},
   "outputs": [],
   "source": [
    "import os\n",
    "import pickle\n",
    "from tqdm.notebook import tqdm\n",
    "import sentencepiece as spm"
   ]
  },
  {
   "cell_type": "code",
   "execution_count": 2,
   "id": "469530a4",
   "metadata": {
    "scrolled": true
   },
   "outputs": [
    {
     "name": "stdout",
     "output_type": "stream",
     "text": [
      "ComplexWebQuestions_dev.json   ComplexWebQuestions_train.json\r\n",
      "ComplexWebQuestions_test.json\r\n"
     ]
    }
   ],
   "source": [
    "# we make data from scratch (ie WebQSP dump)\n",
    "source_folder = '/scratche/home/apoorv/freebase/ComplexWebQuestions'\n",
    "! ls {source_folder}"
   ]
  },
  {
   "cell_type": "code",
   "execution_count": 3,
   "id": "bb2aba72",
   "metadata": {},
   "outputs": [],
   "source": [
    "import json\n",
    "fname = os.path.join(source_folder, 'ComplexWebQuestions_train.json')\n",
    "train = json.load(open(fname))\n",
    "fname = os.path.join(source_folder, 'ComplexWebQuestions_test.json')\n",
    "test = json.load(open(fname))\n",
    "fname = os.path.join(source_folder, 'ComplexWebQuestions_dev.json')\n",
    "dev = json.load(open(fname))"
   ]
  },
  {
   "cell_type": "code",
   "execution_count": 13,
   "id": "7d72b5aa",
   "metadata": {},
   "outputs": [],
   "source": [
    "fname = 'data/cwq_full/ent_map_cwq_full.pickle'\n",
    "entity_map = pickle.load(open(fname, 'rb'))"
   ]
  },
  {
   "cell_type": "code",
   "execution_count": 14,
   "id": "c1beaaf8",
   "metadata": {},
   "outputs": [
    {
     "name": "stdout",
     "output_type": "stream",
     "text": [
      "6790959\n",
      "Florida Gators football\n"
     ]
    }
   ],
   "source": [
    "print(len(entity_map))\n",
    "print(entity_map['m.0ftf0f'])"
   ]
  },
  {
   "cell_type": "code",
   "execution_count": 5,
   "id": "68ce5273",
   "metadata": {},
   "outputs": [
    {
     "data": {
      "text/plain": [
       "{'ID': 'WebQTrn-2360_a40a0d50b9a1006e2d254705d46345ea',\n",
       " 'answers': [{'aliases': ['University of Florida Gators Mens Football',\n",
       "    'Gators Mens Football',\n",
       "    'Florida Gators Football',\n",
       "    \"Gators Men's Football\",\n",
       "    'University of Florida Mens Football',\n",
       "    'University of Florida Football',\n",
       "    \"Florida Men's Football\",\n",
       "    'UF Gators Mens Football',\n",
       "    \"University of Florida Gators Men's Football\",\n",
       "    'UF Mens Football',\n",
       "    \"University of Florida Men's Football\",\n",
       "    'Gators Football',\n",
       "    'UF Gators Football',\n",
       "    'University of Florida Gators Football',\n",
       "    \"UF Gators Men's Football\",\n",
       "    'UF Football',\n",
       "    \"Florida Gators Men's Football\",\n",
       "    'Florida Football',\n",
       "    'Florida Mens Football',\n",
       "    'Florida Gators Mens Football',\n",
       "    \"UF Men's Football\"],\n",
       "   'answer': 'Florida Gators football',\n",
       "   'answer_id': 'm.0ftf0f'}],\n",
       " 'composition_answer': '',\n",
       " 'compositionality_type': 'conjunction',\n",
       " 'created': '2018-02-12T23:49:23',\n",
       " 'machine_question': 'what football teams did emmitt smith play for and is the sports team with the fight song The Orange and Blue',\n",
       " 'question': 'Which school with the fight song \"The Orange and Blue\" did Emmitt Smith play for?',\n",
       " 'sparql': \"PREFIX ns: <http://rdf.freebase.com/ns/>\\nSELECT DISTINCT ?x\\nWHERE {\\nFILTER (?x != ns:m.01480y)\\nFILTER (!isLiteral(?x) OR lang(?x) = '' OR langMatches(lang(?x), 'en'))\\nns:m.01480y ns:sports.pro_athlete.teams ?y .\\n?y ns:sports.sports_team_roster.team ?x .\\n?x ns:sports.sports_team.fight_song ns:m.04f__h7 . \\n}\",\n",
       " 'webqsp_ID': 'WebQTrn-2360',\n",
       " 'webqsp_question': 'what football teams did emmitt smith play for'}"
      ]
     },
     "execution_count": 5,
     "metadata": {},
     "output_type": "execute_result"
    }
   ],
   "source": [
    "train[2]"
   ]
  },
  {
   "cell_type": "code",
   "execution_count": 32,
   "id": "96540678",
   "metadata": {},
   "outputs": [],
   "source": [
    "# from unidecode import unidecode\n",
    "import unicodedata\n",
    "\n",
    "def normalize_string(s):\n",
    "    s = unicodedata.normalize('NFKC', s)\n",
    "    s = s.replace('|', '.')\n",
    "    s = s.replace('\\t', ' ')\n",
    "    return s\n",
    "\n",
    "def makeQuestion(question):\n",
    "    global entity_map\n",
    "    q_text = question['question']\n",
    "    q_text = normalize_string(q_text)\n",
    "    answers = []\n",
    "    for a in question['answers']:\n",
    "        ans_id = a['answer_id']\n",
    "        if ans_id not in entity_map:\n",
    "            ans = a['answer']\n",
    "            if ans == '' or ans == None:\n",
    "                ans = ans_id\n",
    "            print(ans, q_text)\n",
    "        else:\n",
    "            ans = entity_map[ans_id]\n",
    "        if ans == None or ans == '':\n",
    "            continue\n",
    "        ans = normalize_string(ans)\n",
    "        answers.append(ans)\n",
    "    answers_string = '|'.join(answers)\n",
    "    final_string = q_text + '\\t' + answers_string\n",
    "    return final_string"
   ]
  },
  {
   "cell_type": "code",
   "execution_count": 33,
   "id": "c172a633",
   "metadata": {},
   "outputs": [
    {
     "data": {
      "application/vnd.jupyter.widget-view+json": {
       "model_id": "72ccc76f17004f8f857aae33585169d2",
       "version_major": 2,
       "version_minor": 0
      },
      "text/plain": [
       "HBox(children=(FloatProgress(value=0.0, max=27639.0), HTML(value='')))"
      ]
     },
     "metadata": {},
     "output_type": "display_data"
    },
    {
     "name": "stdout",
     "output_type": "stream",
     "text": [
      "Google Maps Engine What organizational divisions are under the leadership of Sergey Brin?\n",
      "Google Earth Enterprise What organizational divisions are under the leadership of Sergey Brin?\n",
      "Google Maps API for Business What organizational divisions are under the leadership of Sergey Brin?\n",
      "Jump (Club Cheval Rap Remix) What was the new album called in 2012 of the artist who had a concert tour named Last Girl on Earth?\n",
      "g.121_5zdm What was the new album called in 2012 of the artist who had a concert tour named Last Girl on Earth?\n",
      "g.121n8wcw What was the new album called in 2012 of the artist who had a concert tour named Last Girl on Earth?\n",
      "g.121xjjw_ What was the new album called in 2012 of the artist who had a concert tour named Last Girl on Earth?\n",
      "Google Maps Engine What are all the things that Google Cloud Platform has?\n",
      "Google Earth Enterprise What are all the things that Google Cloud Platform has?\n",
      "Google Maps API for Business What are all the things that Google Cloud Platform has?\n",
      "g.122dshgz What are major events that happened in the country with national anthem Gloria al Bravo Pueblo?\n",
      "Battle of Santa Inés What are major events that happened in the country with national anthem Gloria al Bravo Pueblo?\n",
      "Dutch–Venezuelan crisis of 1908 What are major events that happened in the country with national anthem Gloria al Bravo Pueblo?\n",
      "1892-01-11 What year did the graduate form Poland Academy become the president?\n",
      "1897-03-04 What year did the graduate form Poland Academy become the president?\n",
      "Google Maps Engine What organization has the leadership role called President of Technology?\n",
      "Google Earth Enterprise What organization has the leadership role called President of Technology?\n",
      "Google Maps API for Business What organization has the leadership role called President of Technology?\n",
      "Google Maps Engine The child organization Keyhold, Inc has what?\n",
      "Google Earth Enterprise The child organization Keyhold, Inc has what?\n",
      "Google Maps API for Business The child organization Keyhold, Inc has what?\n",
      "Jingjinji What is the location in the country with the National People's Congress that most people live?\n",
      "1957-03-25 Which country includes the President of the European Council and is a member of the Organization?\n",
      "1973-01-01 Which country includes the President of the European Council and is a member of the Organization?\n",
      "1981-01-01 Which country includes the President of the European Council and is a member of the Organization?\n",
      "1986-01-01 Which country includes the President of the European Council and is a member of the Organization?\n",
      "1995-01-01 Which country includes the President of the European Council and is a member of the Organization?\n",
      "2004-05-01 Which country includes the President of the European Council and is a member of the Organization?\n",
      "2007-01-01 Which country includes the President of the European Council and is a member of the Organization?\n",
      "2013-07-01 Which country includes the President of the European Council and is a member of the Organization?\n",
      "Jump (Club Cheval Rap Remix) What is the name of the album that the artist who went on Rihanna:  Live in concert Tour made in 2012?\n",
      "g.121_5zdm What is the name of the album that the artist who went on Rihanna:  Live in concert Tour made in 2012?\n",
      "g.121n8wcw What is the name of the album that the artist who went on Rihanna:  Live in concert Tour made in 2012?\n",
      "g.121xjjw_ What is the name of the album that the artist who went on Rihanna:  Live in concert Tour made in 2012?\n",
      "Flag of Ghana What symbol represents the nation that uses the Ghanaian Cedi as money?\n",
      "Flag of Ghana Which flag is a representation of the nation whose national anthem is God Bless Our Homeland Ghana?\n",
      "2000 When did the famous tennis player that went to Indiana University East win the Wimbledon?\n",
      "2001 When did the famous tennis player that went to Indiana University East win the Wimbledon?\n",
      "2002 When did the famous tennis player that went to Indiana University East win the Wimbledon?\n",
      "2005 When did the famous tennis player that went to Indiana University East win the Wimbledon?\n",
      "2007 When did the famous tennis player that went to Indiana University East win the Wimbledon?\n",
      "2008 When did the famous tennis player that went to Indiana University East win the Wimbledon?\n",
      "2009 When did the famous tennis player that went to Indiana University East win the Wimbledon?\n",
      "2012 When did the famous tennis player that went to Indiana University East win the Wimbledon?\n",
      "Flag of Ghana What flag represents the country containing the Brong-Ahafo Region?\n",
      "Elizabeth II What was the childhood nickname of the Governor of Gibraltar?\n",
      "Lilibet What was the childhood nickname of the Governor of Gibraltar?\n",
      "George Clinton & Bootsy Collins Which band was the writer of \"Maggot Brain\" a member of?\n",
      "1957-03-25 When countries joined the location, that held the legislative session of the ,Seventh European Parliament?\n",
      "1973-01-01 When countries joined the location, that held the legislative session of the ,Seventh European Parliament?\n",
      "1981-01-01 When countries joined the location, that held the legislative session of the ,Seventh European Parliament?\n",
      "1986-01-01 When countries joined the location, that held the legislative session of the ,Seventh European Parliament?\n",
      "1995-01-01 When countries joined the location, that held the legislative session of the ,Seventh European Parliament?\n",
      "2004-05-01 When countries joined the location, that held the legislative session of the ,Seventh European Parliament?\n",
      "2007-01-01 When countries joined the location, that held the legislative session of the ,Seventh European Parliament?\n",
      "2013-07-01 When countries joined the location, that held the legislative session of the ,Seventh European Parliament?\n",
      "Flag of Ghana What item represents the jurisdiction where John Kufuor is an office holder?\n",
      "1892-01-11 During what year did  the person who was an actor in the movie McKinley at Home, Canton, Ohio  become president?\n",
      "1897-03-04 During what year did  the person who was an actor in the movie McKinley at Home, Canton, Ohio  become president?\n",
      "Flag of Ghana What is a symbol of the location where the Government of Ghana is the government?\n",
      "Jingjinji What is the location where the film \"The Runaway Troupe of the Cartesian Theater\" takes place?\n",
      "George Clinton & Bootsy Collins What bands was the artist who recorded Trust in Yourself played in?\n",
      "Flag of Ghana What represents the area that the newspaper \"The Ghanian Chronicle\" circulates in?\n",
      "Jingjinji Where do most live in the jurisdiction that has a governmental office holder named Wu Xiaoling?\n",
      "Flag of Ghana Which flag represents the country, where Asante dialect is spoken?\n",
      "George Clinton & Bootsy Collins What band composed \"Comin' Round the Mountain?\n",
      "g.120phpf9 What is the governmental jurisdiction of the country that has the posistion of Roman Consul?\n",
      "Harber H. Hall Who is my representative in the Illinois house, that died on September 24,1920?\n",
      "Jingjinji Where is the residence of most of those in the governmental jurisdiction of Zeng Peiyan?\n",
      "Jingjinji In what city do most of the State Council of the People's Republic of China live?\n",
      "Great Birmingham Run What is there to do at the place where the Government of Birmingham is located in the UK?\n",
      "Staten Island Summer What movies in English has Ashley Greene been in?\n",
      "Flag of Ghana What is the governmental jurisdiction in the country that has the position title Chief of Staff?\n",
      "Animals What is the subject of the movie \"Brother Sun, Sister Moon\" the patron saint of?\n",
      "The Enviroment What is the subject of the movie \"Brother Sun, Sister Moon\" the patron saint of?\n",
      "Jingjinji What area in the country that makes Harbin Beer do most people live?\n",
      "Elizabeth II What was the childhood nickname of the queen of the country whose coat of arms is Coat of Arms of the Isle of Man?\n",
      "Lilibet What was the childhood nickname of the queen of the country whose coat of arms is Coat of Arms of the Isle of Man?\n",
      "Flag of Ghana What represents the jurisdiction with a governmental office holder named Prosper Douglas Bani?\n",
      "Great Birmingham Run What is there to do today in the area where the Redbrick newspaper is circulated in the UK?\n",
      "Animals What is the person who said \"It is in pardoning that we are pardoned\" the patron saint of?\n",
      "The Enviroment What is the person who said \"It is in pardoning that we are pardoned\" the patron saint of?\n",
      "Elizabeth II What was the childhood nickname of the queen who appointed the First Secretary of State?\n",
      "Lilibet What was the childhood nickname of the queen who appointed the First Secretary of State?\n",
      "George Clinton & Bootsy Collins What was the name of the band the artist who recorded \"One Nation Under a Groove\" was a member of?\n",
      "Flag of Ghana What symbol is a representation of the circulation area for the Daily Guide newspaper?\n",
      "Rock 'n' Roll Philadelphia Half Marathon What fun event in Philadelphia that has been reoccurring since 1978?\n",
      "Jingjinji What's the name of the area where the newspaper Legal Daily is circulated?\n",
      "Animals Of what is the lyricist for \"Cantico del sol di San Francisco d'Assisi\" the patron saint?\n",
      "The Enviroment Of what is the lyricist for \"Cantico del sol di San Francisco d'Assisi\" the patron saint?\n",
      "Elizabeth II What was the childhood nickname of the queen who ruled the Solomon Islands?\n",
      "Lilibet What was the childhood nickname of the queen who ruled the Solomon Islands?\n",
      "Rock 'n' Roll Philadelphia Half Marathon What is a fun event to attend in Philadelphia that started happening over and over after 1954?\n",
      "George Clinton & Bootsy Collins In what bands did the composer of \"Poor Willie\" play?\n",
      "George Clinton & Bootsy Collins What is the name of the band that produced and played in the Live: P-Funk Earth Tour?\n",
      "Harber H. Hall Name the representatives in the state that has Tobias Barry in office.?\n",
      "Bruce L. Douglas Name the representatives in the state that has Tobias Barry in office.?\n",
      "Bernard B. Wolfe Name the representatives in the state that has Tobias Barry in office.?\n",
      "Daniel M. Pierce Name the representatives in the state that has Tobias Barry in office.?\n",
      "Tobias Barry Name the representatives in the state that has Tobias Barry in office.?\n",
      "Jump (Club Cheval Rap Remix) What is the 2012 album of the World Music Award for World's Best Selling Barbadian Artist nominee called?\n",
      "g.121_5zdm What is the 2012 album of the World Music Award for World's Best Selling Barbadian Artist nominee called?\n",
      "g.121n8wcw What is the 2012 album of the World Music Award for World's Best Selling Barbadian Artist nominee called?\n",
      "g.121xjjw_ What is the 2012 album of the World Music Award for World's Best Selling Barbadian Artist nominee called?\n",
      "Great Birmingham Run What Birmingham, UK event can be attended today, that has been occurring since 2008?\n",
      "Google Maps Engine What companies are owned by the group that bought Titan Aerospace?\n",
      "Google Earth Enterprise What companies are owned by the group that bought Titan Aerospace?\n",
      "Google Maps API for Business What companies are owned by the group that bought Titan Aerospace?\n",
      "George Clinton & Bootsy Collins What musical Band did the \"Mothership Connection\" producer belong to?\n",
      "Flag of Ghana What represents the nation where the Ga Language is spoken?\n",
      "g.120phpf9 What is the governmental makeup of the area with a governmental office holder named Marcus Lollius?\n",
      "Harber H. Hall Who are the representatives in the office with James T. Londrigan?\n",
      "Bruce L. Douglas Who are the representatives in the office with James T. Londrigan?\n",
      "Bernard B. Wolfe Who are the representatives in the office with James T. Londrigan?\n",
      "Daniel M. Pierce Who are the representatives in the office with James T. Londrigan?\n",
      "Tobias Barry Who are the representatives in the office with James T. Londrigan?\n",
      "Jump (Club Cheval Rap Remix) Who wrote the lyrics for \"Cockiness (Love It)\" off of the album 2012?\n",
      "g.121_5zdm Who wrote the lyrics for \"Cockiness (Love It)\" off of the album 2012?\n",
      "g.121n8wcw Who wrote the lyrics for \"Cockiness (Love It)\" off of the album 2012?\n",
      "g.121xjjw_ Who wrote the lyrics for \"Cockiness (Love It)\" off of the album 2012?\n",
      "Google Maps Engine What does the organization that acquired the company RightsFlow have?\n",
      "Google Earth Enterprise What does the organization that acquired the company RightsFlow have?\n",
      "Google Maps API for Business What does the organization that acquired the company RightsFlow have?\n",
      "Rock 'n' Roll Philadelphia Half Marathon What fun event is there to go to in Philadelphia that started recurring most recently?\n",
      "2013 Benghazi conflict What event occured in Benghazi and was onset by factional violence in Libya?\n",
      "Flag of Ghana What is the flag of the country that the film \"Big Men\" takes place in?\n",
      "Animals What is the person who wrote \"Brother Sun, Sister Moon\" the patron saint of?\n",
      "The Enviroment What is the person who wrote \"Brother Sun, Sister Moon\" the patron saint of?\n",
      "Elizabeth II What was the childhood nickname of the politician who held the Administrator of the Government?\n",
      "Lilibet What was the childhood nickname of the politician who held the Administrator of the Government?\n",
      "\n"
     ]
    }
   ],
   "source": [
    "from tqdm.notebook import tqdm\n",
    "train_lines = []\n",
    "for q in tqdm(train):\n",
    "    out = makeQuestion(q)\n",
    "    train_lines.append(out)"
   ]
  },
  {
   "cell_type": "code",
   "execution_count": 29,
   "id": "cfe48590",
   "metadata": {},
   "outputs": [
    {
     "data": {
      "application/vnd.jupyter.widget-view+json": {
       "model_id": "0e98ad0938ad4401a0da9a4d6804a4ab",
       "version_major": 2,
       "version_minor": 0
      },
      "text/plain": [
       "HBox(children=(FloatProgress(value=0.0, max=27639.0), HTML(value='')))"
      ]
     },
     "metadata": {},
     "output_type": "display_data"
    },
    {
     "name": "stdout",
     "output_type": "stream",
     "text": [
      "\n"
     ]
    },
    {
     "data": {
      "text/plain": [
       "{'ID': 'WebQTest-616_2f712b63778fb8f9fa05a5206b873565',\n",
       " 'answers': [{'aliases': [], 'answer': None, 'answer_id': 'Elizabeth II'},\n",
       "  {'aliases': [], 'answer': None, 'answer_id': 'Lilibet'}],\n",
       " 'composition_answer': 'elizabeth ii',\n",
       " 'compositionality_type': 'composition',\n",
       " 'created': '2017-10-26T08:15:40',\n",
       " 'machine_question': 'what was queen the politician that held the government position Administrator of the Government childhood nickname',\n",
       " 'question': 'What was the childhood nickname of the politician who held the Administrator of the Government?',\n",
       " 'sparql': \"PREFIX ns: <http://rdf.freebase.com/ns/>\\nSELECT DISTINCT ?x\\nWHERE {\\nFILTER (?x != ?c)\\nFILTER (!isLiteral(?x) OR lang(?x) = '' OR langMatches(lang(?x), 'en'))\\n?c ns:government.political_appointer.appointees ?k .\\n?k ns:government.government_position_held.basic_title ns:m.01k6mf . \\n?c ns:base.schemastaging.context_name.nickname ?x .\\n}\\n\",\n",
       " 'webqsp_ID': 'WebQTest-616',\n",
       " 'webqsp_question': 'what was queen elizabeth ii childhood nickname'}"
      ]
     },
     "execution_count": 29,
     "metadata": {},
     "output_type": "execute_result"
    }
   ],
   "source": [
    "for q in tqdm(train):\n",
    "    if q['question'] == 'What was the childhood nickname of the politician who held the Administrator of the Government?':\n",
    "        break\n",
    "q"
   ]
  },
  {
   "cell_type": "code",
   "execution_count": 34,
   "id": "3e1b8684",
   "metadata": {},
   "outputs": [
    {
     "data": {
      "application/vnd.jupyter.widget-view+json": {
       "model_id": "341ebcd1a88140ea99fbc5d51701180e",
       "version_major": 2,
       "version_minor": 0
      },
      "text/plain": [
       "HBox(children=(FloatProgress(value=0.0, max=3519.0), HTML(value='')))"
      ]
     },
     "metadata": {},
     "output_type": "display_data"
    },
    {
     "name": "stdout",
     "output_type": "stream",
     "text": [
      "g.121xqqc4 What is there to do in the city that hosted the 2002 Winter Olympics?\n",
      "g.121xqqc4 What are attractions in the location where \"The Life of Nephi\" takes place?\n",
      "g.121xqqc4 What are things to do in the location of the movie \"A Hobo's Christmas\"?\n",
      "\n"
     ]
    }
   ],
   "source": [
    "dev_lines = []\n",
    "for q in tqdm(dev):\n",
    "    out = makeQuestion(q)\n",
    "    dev_lines.append(out)"
   ]
  },
  {
   "cell_type": "code",
   "execution_count": 35,
   "id": "1209a6fd",
   "metadata": {},
   "outputs": [],
   "source": [
    "test_lines = []\n",
    "for id, q in enumerate(test):\n",
    "    q['answers'] = []\n",
    "    out = makeQuestion(q)\n",
    "    test_lines.append(out)"
   ]
  },
  {
   "cell_type": "code",
   "execution_count": 36,
   "id": "2b221798",
   "metadata": {},
   "outputs": [
    {
     "data": {
      "text/plain": [
       "['Lou Seal is the mascot for the team that last won the World Series when?\\t',\n",
       " 'Where did the \"Country Nation World Tour\" concert artist go to college?\\t',\n",
       " 'What is the predominant religion where the leader is Ovadia Yosef?\\t',\n",
       " 'What country bordering France contains an airport that serves Nijmegen?\\t',\n",
       " 'The national anthem Afghan National Anthem is from the country which practices what religions?\\t',\n",
       " 'Which nation has the Alta Verapaz Department and is in Central America?\\t',\n",
       " 'Which man is the leader of the country that uses Libya, Libya, Libya as its national anthem?\\t',\n",
       " 'What educational institution has a football sports team named Northern Colorado Bears is in Greeley, Colorado?\\t',\n",
       " 'What language is spoken in the location that appointed Michelle Bachelet to a governmental position speak?\\t',\n",
       " 'What type of government is used in the country with Northern District?\\t']"
      ]
     },
     "execution_count": 36,
     "metadata": {},
     "output_type": "execute_result"
    }
   ],
   "source": [
    "test_lines[:10]"
   ]
  },
  {
   "cell_type": "code",
   "execution_count": 37,
   "id": "96eb9e15",
   "metadata": {},
   "outputs": [
    {
     "data": {
      "text/plain": [
       "[\"What state is home to the university that is represented in sports by George Washington Colonials men's basketball?\\tWashington, D.C.\",\n",
       " 'What year did the team with Baltimore Fight Song win the Superbowl?\\tSuper Bowl XLVII|Super Bowl XXXV',\n",
       " 'Which school with the fight song \"The Orange and Blue\" did Emmitt Smith play for?\\tFlorida Gators football',\n",
       " \"What movie with film character named Mr. Woodson did Tupac star in?\\tGridlock'd\",\n",
       " 'What country sharing borders with Spain does the SetÃobal District belong to?\\tPortugal',\n",
       " 'Who was the 1996 coach of the team owned by Jerry Jones?\\tBarry Switzer',\n",
       " 'Who dated the performer who headlined the concert tour called Demi World Tour?\\tNicholas Braun|Joe Jonas|Cody Linley',\n",
       " 'Which team owned by Malcolm Glazer has Tim Howard playing for it?\\tManchester United F.C.',\n",
       " 'What movie starring Zac Efron that has a character named Owen Lars?\\tRobot Chicken: Star Wars Episode III',\n",
       " 'What business titles was the most famous alumni of Detroit Business Institute best known for?\\tBusinessperson|Business magnate|Industrialist|Inventor|Engineer|Entrepreneur']"
      ]
     },
     "execution_count": 37,
     "metadata": {},
     "output_type": "execute_result"
    }
   ],
   "source": [
    "train_lines[:10]"
   ]
  },
  {
   "cell_type": "code",
   "execution_count": 38,
   "id": "3340cb0a",
   "metadata": {},
   "outputs": [
    {
     "data": {
      "text/plain": [
       "'Who was the president in 1980 of the country that has Azad Kashmir?\\tMuhammad Zia-ul-Haq'"
      ]
     },
     "execution_count": 38,
     "metadata": {},
     "output_type": "execute_result"
    }
   ],
   "source": [
    "dev_lines[0]"
   ]
  },
  {
   "cell_type": "code",
   "execution_count": 51,
   "id": "a4791fa5",
   "metadata": {},
   "outputs": [
    {
     "data": {
      "text/plain": [
       "'what country bordering france contains an airport that serves nijmegen?\\t'"
      ]
     },
     "execution_count": 51,
     "metadata": {},
     "output_type": "execute_result"
    }
   ],
   "source": [
    "test_lines[3]"
   ]
  },
  {
   "cell_type": "code",
   "execution_count": 39,
   "id": "98e1678a",
   "metadata": {},
   "outputs": [],
   "source": [
    "def writeLines(lines, fname):\n",
    "    f = open(fname, 'w')\n",
    "    for line in lines:\n",
    "        f.write(line + '\\n')\n",
    "    f.close()"
   ]
  },
  {
   "cell_type": "code",
   "execution_count": 40,
   "id": "66299668",
   "metadata": {},
   "outputs": [],
   "source": [
    "fname = 'data/cwq_full/qa_train_1hop.txt'\n",
    "writeLines(train_lines, fname)\n",
    "fname = 'data/cwq_full/qa_test_1hop.txt'\n",
    "writeLines(dev_lines, fname)"
   ]
  },
  {
   "cell_type": "code",
   "execution_count": 41,
   "id": "84dd4382",
   "metadata": {},
   "outputs": [],
   "source": [
    "fname = 'data/cwq_full/qa_test_actual_1hop.txt'\n",
    "writeLines(test_lines, fname)"
   ]
  },
  {
   "cell_type": "code",
   "execution_count": 22,
   "id": "03affe38",
   "metadata": {},
   "outputs": [],
   "source": [
    "def getUniqueMap(init_map):\n",
    "    out_map = {}\n",
    "    values = set()\n",
    "    for key, value in init_map.items():\n",
    "        if value not in values:\n",
    "            out_map[key] = value\n",
    "            values.add(value)\n",
    "        else:\n",
    "            id_to_append = 0\n",
    "            new_value = value + ' ' + str(id_to_append)\n",
    "            while(new_value in values):\n",
    "                id_to_append += 1\n",
    "                new_value = value + ' ' + str(id_to_append)\n",
    "            out_map[key] = new_value\n",
    "            values.add(new_value)\n",
    "    assert len(init_map) == len(set(out_map.values()))\n",
    "    return out_map\n",
    "\n",
    "def mapTriple(triple, ent_map, rel_map):\n",
    "    t = triple\n",
    "    new_triple = [ent_map[t[0]], rel_map[t[1]], ent_map[t[2]]]\n",
    "    return new_triple"
   ]
  },
  {
   "cell_type": "code",
   "execution_count": 23,
   "id": "720a2a53",
   "metadata": {},
   "outputs": [],
   "source": [
    "# uniq_ent_map = getUniqueMap(entity_map)\n",
    "uniq_ent_map = entity_map"
   ]
  },
  {
   "cell_type": "code",
   "execution_count": 24,
   "id": "1e84e918",
   "metadata": {},
   "outputs": [
    {
     "data": {
      "text/plain": [
       "['Arthur Kingscote', 'place of death', 'Fulham']"
      ]
     },
     "execution_count": 24,
     "metadata": {},
     "output_type": "execute_result"
    }
   ],
   "source": [
    "mapTriple(data['train'][0], uniq_ent_map, relation_map)"
   ]
  },
  {
   "cell_type": "code",
   "execution_count": 15,
   "id": "dec20bbe",
   "metadata": {},
   "outputs": [],
   "source": [
    "out_folder = '/scratche/home/apoorv/transformer-kgc/data/MetaQA'\n",
    "splits = ['train', 'test', 'valid']\n",
    "for split in splits:\n",
    "    fname = os.path.join(out_folder, split + '.txt')\n",
    "    f = open(fname, 'w')\n",
    "    triples = data[split]\n",
    "    for t in triples:\n",
    "        t = mapTriple(t, uniq_ent_map, relation_map)\n",
    "        head, relation, tail = t\n",
    "        input = 'predict tail: {0} | {1} |'.format(head, relation)\n",
    "        output = '{}'.format(tail)\n",
    "        f.write(input + '\\t' + output + '\\n')\n",
    "        \n",
    "        input = 'predict head: {0} | {1} |'.format(tail, relation)\n",
    "        output = '{}'.format(head)\n",
    "        f.write(input + '\\t' + output + '\\n')\n",
    "    f.close()"
   ]
  },
  {
   "cell_type": "code",
   "execution_count": 16,
   "id": "483eab98",
   "metadata": {},
   "outputs": [],
   "source": [
    "# create entity_strings.txt which is needed in evaluation code\n",
    "strings_file_name = 'entity_strings.txt'\n",
    "f = open(os.path.join(out_folder, strings_file_name), 'w')\n",
    "ents_uniq = set(uniq_ent_map.values())\n",
    "for e in ents_uniq:\n",
    "    f.write(e + '\\n')\n",
    "f.close()"
   ]
  },
  {
   "cell_type": "code",
   "execution_count": 17,
   "id": "561b82f9",
   "metadata": {},
   "outputs": [],
   "source": [
    "def readQALines(fname):\n",
    "    f = open(fname)\n",
    "    questions = []\n",
    "    for line in f:\n",
    "        line = line.strip().split('\\t')\n",
    "        q = line[0]\n",
    "        q = q.replace('[', '')\n",
    "        q = q.replace(']', '')\n",
    "        q = normalizeEntity(q)\n",
    "        questions.append(q)\n",
    "    return questions\n",
    "        \n",
    "def writeLines(lines, fname):\n",
    "    f = open(fname, 'w')\n",
    "    for line in lines:\n",
    "        f.write(line + '\\n')\n"
   ]
  },
  {
   "cell_type": "code",
   "execution_count": 18,
   "id": "0eeccae2",
   "metadata": {},
   "outputs": [],
   "source": [
    "fname = 'data/MetaQA/full_qa.txt'\n",
    "questions = readQALines(fname)"
   ]
  },
  {
   "cell_type": "code",
   "execution_count": 19,
   "id": "ad94ee58",
   "metadata": {},
   "outputs": [],
   "source": [
    "fname = 'data/MetaQA/full_q_only.txt'\n",
    "writeLines(questions, fname)"
   ]
  },
  {
   "cell_type": "code",
   "execution_count": null,
   "id": "8a8e6782",
   "metadata": {},
   "outputs": [],
   "source": [
    "vocab_size = 20000\n",
    "sp = spm.SentencePieceTrainer.train(input='data/MetaQA/full_for_sp_train.txt', \n",
    "                                    model_prefix='metaqa_with_pad', vocab_size=vocab_size, \n",
    "                                    pad_id=3,\n",
    "#                                     character_coverage=1.0,\n",
    "#                                user_defined_symbols=['<pad>'],\n",
    "#                                     normalization_rule_name='identity',\n",
    "                              )"
   ]
  },
  {
   "cell_type": "code",
   "execution_count": 21,
   "id": "c2256ddf",
   "metadata": {},
   "outputs": [],
   "source": [
    "sp = spm.SentencePieceProcessor(model_file='data/sentencepiece/metaqa_with_pad.model')"
   ]
  },
  {
   "cell_type": "code",
   "execution_count": 22,
   "id": "8e3aa571",
   "metadata": {},
   "outputs": [
    {
     "data": {
      "text/plain": [
       "5"
      ]
     },
     "execution_count": 22,
     "metadata": {},
     "output_type": "execute_result"
    }
   ],
   "source": [
    "sp['|']"
   ]
  },
  {
   "cell_type": "code",
   "execution_count": 39,
   "id": "ba0b22e2",
   "metadata": {},
   "outputs": [
    {
     "data": {
      "text/plain": [
       "[4, 8811, 37]"
      ]
     },
     "execution_count": 39,
     "metadata": {},
     "output_type": "execute_result"
    }
   ],
   "source": [
    "sp.encode('about')"
   ]
  },
  {
   "cell_type": "code",
   "execution_count": 92,
   "id": "30733281",
   "metadata": {},
   "outputs": [],
   "source": [
    "lengths = []\n",
    "for e in ents_uniq:\n",
    "    encoded = sp.encode(e)\n",
    "    lengths.append(len(encoded))"
   ]
  },
  {
   "cell_type": "code",
   "execution_count": 93,
   "id": "8055bc10",
   "metadata": {},
   "outputs": [
    {
     "data": {
      "text/plain": [
       "Text(0.5, 0, 'Tokenized lengths')"
      ]
     },
     "execution_count": 93,
     "metadata": {},
     "output_type": "execute_result"
    },
    {
     "data": {
      "image/png": "[encoded data removed]",
      "text/plain": [
       "<Figure size 432x288 with 1 Axes>"
      ]
     },
     "metadata": {
      "needs_background": "light"
     },
     "output_type": "display_data"
    }
   ],
   "source": [
    "import matplotlib.pyplot as plt \n",
    "\n",
    "import numpy as np \n",
    "\n",
    "%matplotlib inline\n",
    "\n",
    "# x = np.random.normal(size = 1000) \n",
    "x = lengths\n",
    "plt.hist(x, bins=30) \n",
    "\n",
    "plt.ylabel('Num entities');\n",
    "plt.xlabel('Tokenized lengths')"
   ]
  },
  {
   "cell_type": "code",
   "execution_count": 94,
   "id": "51a339bd",
   "metadata": {},
   "outputs": [
    {
     "data": {
      "text/plain": [
       "[19, 13, 18]"
      ]
     },
     "execution_count": 94,
     "metadata": {},
     "output_type": "execute_result"
    }
   ],
   "source": [
    "sp.encode('plays for')"
   ]
  },
  {
   "cell_type": "code",
   "execution_count": 35,
   "id": "be1d15cf",
   "metadata": {},
   "outputs": [
    {
     "name": "stdout",
     "output_type": "stream",
     "text": [
      "University_of_Illinois_at_Urbana-Champaign University_of_Illinois_at_Urbana-Champaign\n",
      "Hoang_Anh_Gia_Lai_F.C. Hoang_Anh_Gia_Lai_F.C.\n",
      "Zurich Zurich\n",
      "Toshirō_Mifune Toshiro_Mifune\n",
      "Karl_Weierstrass Karl_Weierstrass\n",
      "László_Bálint Laszlo_Balint\n",
      "Sergio_Araujo Sergio_Araujo\n",
      "Carlos_Tevez Carlos_Tevez\n",
      "Polish-Lithuanian_Commonwealth Polish-Lithuanian_Commonwealth\n",
      "Przemysl_II Przemysl_II\n",
      "Christian_Groß Christian_Gross\n",
      "Izmir Izmir\n",
      "Münster Munster\n",
      "Dalibor_Stevanovič Dalibor_Stevanovic\n",
      "Jürgen_Gjasula Jurgen_Gjasula\n",
      "Sócrates Socrates\n",
      "Zlatko_Dedič Zlatko_Dedic\n",
      "Antônio_Bezerra_Brandão Antonio_Bezerra_Brandao\n",
      "Aleksander_Kwasniewski Aleksander_Kwasniewski\n",
      "Sani_Bečirović Sani_Becirovic\n",
      "Izmit Izmit\n",
      "Ryukyu_Islands Ryukyu_Islands\n",
      "Stanisław_Ulam Stanislaw_Ulam\n",
      "Pantheon-Assas_University Pantheon-Assas_University\n",
      "Quang_Binh_Province Quang_Binh_Province\n",
      "Mures_County Mures_County\n",
      "Braila Braila\n",
      "San_Sebastian San_Sebastian\n",
      "Ploiesti Ploiesti\n",
      "Beja Beja\n",
      "Zé_Antônio Ze_Antonio\n",
      "San_Miguel_de_Tucumán San_Miguel_de_Tucuman\n",
      "Foça Foca\n",
      "Denmark-Norway Denmark-Norway\n",
      "Gmina_Rogóźno Gmina_Rogozno\n",
      "Habo_Municipality Habo_Municipality\n",
      "Gilgit-Baltistan Gilgit-Baltistan\n"
     ]
    }
   ],
   "source": [
    "from unidecode import unidecode\n",
    "entities_ud = []\n",
    "entities_ud_set = set()\n",
    "for e in entities:\n",
    "    ud_e = unidecode(e)\n",
    "    entities_ud.append(ud_e)\n",
    "    if ud_e in entities_ud_set:\n",
    "        print(e, ud_e)\n",
    "    else:\n",
    "        entities_ud_set.add(ud_e)"
   ]
  },
  {
   "cell_type": "code",
   "execution_count": 28,
   "id": "f67a0b09",
   "metadata": {},
   "outputs": [
    {
     "data": {
      "text/plain": [
       "(123182, 123182)"
      ]
     },
     "execution_count": 28,
     "metadata": {},
     "output_type": "execute_result"
    }
   ],
   "source": [
    "len(entities), len(set(entities))"
   ]
  },
  {
   "cell_type": "code",
   "execution_count": 33,
   "id": "62983ae2",
   "metadata": {},
   "outputs": [
    {
     "data": {
      "text/plain": [
       "(123182, 123145)"
      ]
     },
     "execution_count": 33,
     "metadata": {},
     "output_type": "execute_result"
    }
   ],
   "source": [
    "len(entities_ud), len(set(entities_ud))"
   ]
  },
  {
   "cell_type": "code",
   "execution_count": null,
   "id": "dd205992",
   "metadata": {},
   "outputs": [],
   "source": []
  }
 ],
 "metadata": {
  "kernelspec": {
   "display_name": "Python 3 (ipykernel)",
   "language": "python",
   "name": "python3"
  },
  "language_info": {
   "codemirror_mode": {
    "name": "ipython",
    "version": 3
   },
   "file_extension": ".py",
   "mimetype": "text/x-python",
   "name": "python",
   "nbconvert_exporter": "python",
   "pygments_lexer": "ipython3",
   "version": "3.8.11"
  }
 },
 "nbformat": 4,
 "nbformat_minor": 5
}

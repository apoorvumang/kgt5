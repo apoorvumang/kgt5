{
 "cells": [
  {
   "cell_type": "code",
   "execution_count": 1,
   "id": "6294b12f",
   "metadata": {},
   "outputs": [],
   "source": [
    "import os\n",
    "import pickle\n",
    "from tqdm.notebook import tqdm\n",
    "import sentencepiece as spm"
   ]
  },
  {
   "cell_type": "code",
   "execution_count": 2,
   "id": "469530a4",
   "metadata": {
    "scrolled": true
   },
   "outputs": [
    {
     "name": "stdout",
     "output_type": "stream",
     "text": [
      "WebQSP.test.json\t  WebQSP.train.json\r\n",
      "WebQSP.test.partial.json  WebQSP.train.partial.json\r\n"
     ]
    }
   ],
   "source": [
    "# we make data from scratch (ie WebQSP dump)\n",
    "source_folder = '/scratche/home/apoorv/freebase/WebQSP/data'\n",
    "! ls {source_folder}"
   ]
  },
  {
   "cell_type": "code",
   "execution_count": 3,
   "id": "bb2aba72",
   "metadata": {},
   "outputs": [],
   "source": [
    "import json\n",
    "fname = os.path.join(source_folder, 'WebQSP.train.json')\n",
    "train = json.load(open(fname))['Questions']\n",
    "fname = os.path.join(source_folder, 'WebQSP.test.json')\n",
    "test = json.load(open(fname))['Questions']"
   ]
  },
  {
   "cell_type": "code",
   "execution_count": 4,
   "id": "7d72b5aa",
   "metadata": {},
   "outputs": [],
   "source": [
    "fname = 'data/fbwq_half_lego_cr/ent_map_fbwq_half_lego.pickle'\n",
    "entity_map = pickle.load(open(fname, 'rb'))\n",
    "fname = 'data/fbwq_half_lego_cr/rel_map_fbwq_half_lego.pickle'\n",
    "relation_map = pickle.load(open(fname, 'rb'))"
   ]
  },
  {
   "cell_type": "code",
   "execution_count": 5,
   "id": "68ce5273",
   "metadata": {},
   "outputs": [
    {
     "data": {
      "text/plain": [
       "{'QuestionId': 'WebQTrn-0',\n",
       " 'RawQuestion': 'what is the name of justin bieber brother?',\n",
       " 'ProcessedQuestion': 'what is the name of justin bieber brother',\n",
       " 'Parses': [{'ParseId': 'WebQTrn-0.P0',\n",
       "   'AnnotatorId': 1,\n",
       "   'AnnotatorComment': {'ParseQuality': 'Complete',\n",
       "    'QuestionQuality': 'Good',\n",
       "    'Confidence': 'Normal',\n",
       "    'FreeFormComment': 'First-round parse verification'},\n",
       "   'Sparql': \"PREFIX ns: <http://rdf.freebase.com/ns/>\\nSELECT DISTINCT ?x\\nWHERE {\\nFILTER (?x != ns:m.06w2sn5)\\nFILTER (!isLiteral(?x) OR lang(?x) = '' OR langMatches(lang(?x), 'en'))\\nns:m.06w2sn5 ns:people.person.sibling_s ?y .\\n?y ns:people.sibling_relationship.sibling ?x .\\n?x ns:people.person.gender ns:m.05zppz .\\n}\\n\",\n",
       "   'PotentialTopicEntityMention': 'justin bieber',\n",
       "   'TopicEntityName': 'Justin Bieber',\n",
       "   'TopicEntityMid': 'm.06w2sn5',\n",
       "   'InferentialChain': ['people.person.sibling_s',\n",
       "    'people.sibling_relationship.sibling'],\n",
       "   'Constraints': [{'Operator': 'Equal',\n",
       "     'ArgumentType': 'Entity',\n",
       "     'Argument': 'm.05zppz',\n",
       "     'EntityName': 'Male',\n",
       "     'SourceNodeIndex': 1,\n",
       "     'NodePredicate': 'people.person.gender',\n",
       "     'ValueType': 'String'}],\n",
       "   'Time': None,\n",
       "   'Order': None,\n",
       "   'Answers': [{'AnswerType': 'Entity',\n",
       "     'AnswerArgument': 'm.0gxnnwq',\n",
       "     'EntityName': 'Jaxon Bieber'}]}]}"
      ]
     },
     "execution_count": 5,
     "metadata": {},
     "output_type": "execute_result"
    }
   ],
   "source": [
    "train[0]"
   ]
  },
  {
   "cell_type": "code",
   "execution_count": 6,
   "id": "96540678",
   "metadata": {},
   "outputs": [],
   "source": [
    "manfix = {}\n",
    "manfix['c . s . lewis'] = 'c.s. lewis'\n",
    "manfix['washington d . c'] = 'washington d.c.'\n",
    "manfix['m . c . escher'] = 'm.c. escher'\n",
    "manfix['george h . w . bush'] = 'george h.w. bush'\n",
    "manfix['aubrey o \\'d ay'] = 'aubrey o\\'day'\n",
    "manfix['martin luther king jr .'] = 'martin luther king jr.'\n",
    "manfix['w . e . b . dubois'] = 'w.e.b. dubois'\n",
    "\n",
    "def makeQuestion(question, entity_map, relation_map):\n",
    "    global manfix\n",
    "    q_text = question['ProcessedQuestion']\n",
    "    topic_entity_mid = question['Parses'][0]['TopicEntityMid']\n",
    "    if topic_entity_mid not in entity_map:\n",
    "        head = 'UNK'\n",
    "    else:\n",
    "        head = entity_map[topic_entity_mid]\n",
    "#         print(head)\n",
    "    head_mention =  question['Parses'][0]['PotentialTopicEntityMention']\n",
    "    if head_mention in manfix:\n",
    "        head_mention = manfix[head_mention]\n",
    "    og_head_mention = head_mention\n",
    "    if head_mention != None:\n",
    "        if ' . ' in head_mention:\n",
    "            head_mention = head_mention.replace(' . ', '. ')\n",
    "        if ' \\' ' in head_mention:\n",
    "            head_mention = head_mention.replace(' \\' ', '\\'')\n",
    "        if head_mention not in q_text:\n",
    "#             head_mention = head_mention.replace('. ', '.')\n",
    "            print(q_text, '*', og_head_mention)\n",
    "            return -1\n",
    "    else:\n",
    "        head_mention = 'UNKNOWN'\n",
    "    question_with_brackets = ''\n",
    "    if head_mention not in q_text:\n",
    "        question_with_brackets = q_text + '[' + head + ']'\n",
    "    else:\n",
    "        question_with_brackets = q_text.replace(head_mention, '[' + head + ']')\n",
    "    answers = []\n",
    "    for parse in question['Parses']:\n",
    "        for a in parse['Answers']:\n",
    "            if a['AnswerType'] == 'Entity':\n",
    "                mid = a['AnswerArgument']\n",
    "                if mid not in entity_map:\n",
    "                    ans = a['EntityName']\n",
    "                    print(mid, 'not found in entity map')\n",
    "                else:\n",
    "                    ans = entity_map[mid]\n",
    "                answers.append(ans)\n",
    "    if answers == []:\n",
    "        # if no answer, try using values\n",
    "        for parse in question['Parses']:\n",
    "            for a in parse['Answers']:\n",
    "                if a['AnswerType'] == 'Value':\n",
    "                    ans = a['AnswerArgument']\n",
    "                    answers.append(ans)\n",
    "    if answers == []:\n",
    "#         print(q_text)\n",
    "        answers = ['None']\n",
    "    answers_string = '|'.join(answers)\n",
    "    final_string = question_with_brackets + '\\t' + answers_string\n",
    "    return final_string"
   ]
  },
  {
   "cell_type": "code",
   "execution_count": 7,
   "id": "c172a633",
   "metadata": {},
   "outputs": [
    {
     "name": "stdout",
     "output_type": "stream",
     "text": [
      "m.0bthgtc not found in entity map\n",
      "m.0bthgtg not found in entity map\n",
      "m.0bzk039 not found in entity map\n",
      "m.0bzk03m not found in entity map\n",
      "m.0bzk03y not found in entity map\n",
      "m.0bzk04b not found in entity map\n",
      "m.0bzk04s not found in entity map\n",
      "m.0bzk056 not found in entity map\n",
      "m.0bzk05m not found in entity map\n",
      "m.0bzk061 not found in entity map\n",
      "m.0bzk06x not found in entity map\n",
      "m.0cnd7t4 not found in entity map\n",
      "m.0gy00b6 not found in entity map\n",
      "m.0vnjtvt not found in entity map\n",
      "m.0vnjvj3 not found in entity map\n",
      "m.0vnjx36 not found in entity map\n",
      "m.0vnjxtr not found in entity map\n",
      "m.0vnjyrt not found in entity map\n",
      "m.0zcv0sg not found in entity map\n"
     ]
    }
   ],
   "source": [
    "train_lines = []\n",
    "for id, q in enumerate(train):\n",
    "    out = makeQuestion(q, entity_map, relation_map)\n",
    "    train_lines.append(out)"
   ]
  },
  {
   "cell_type": "code",
   "execution_count": 8,
   "id": "ca289cda",
   "metadata": {},
   "outputs": [
    {
     "data": {
      "text/plain": [
       "['what is the name of [Justin Drew Bieber is a Canadian singer and songwriter] brother\\tJaxon Bieber is the younger half-brother of Justin Bieber',\n",
       " 'what character did [Natalie Portman is an Israeli-born American actress, producer, and director] play in star wars\\tPadmé Amidala is a fictional character in the Star Wars universe, appearing in the prequel trilogy portrayed by actress Natalie Portman',\n",
       " 'what country is the [Grand Bahama is the northernmost of the islands of the Bahamas, and the closest major island to the United States, lying 90 kilometres off the] in\\tThe Bahamas /bəˈhɑːməz/, officially the Commonwealth of The Bahamas, is an island country of the Lucayan Archipelago consisting of more than 700 islands, cays, and',\n",
       " 'what kind of money to take to [The Bahamas /bəˈhɑːməz/, officially the Commonwealth of The Bahamas, is an island country of the Lucayan Archipelago consisting of more than 700 islands, cays, and]\\tThe dollar has been the currency of The Bahamas since 1966',\n",
       " 'what character did [John Noble is an Australian film and television actor, and theatre director of more than 80 plays] play in lord of the rings\\tDenethor II, son of Ecthelion II, is a fictional character in J',\n",
       " 'who does [Joakim Noah is a film producer] play for\\tThe Chicago Bulls are an American professional basketball team based in Chicago, Illinois, playing in the Central Division of the Eastern Conference in the National',\n",
       " 'where are the nfl [The Washington Redskins are a professional American football team located in the Washington, D] from\\tWashington, D',\n",
       " 'where did [Hector Hugh Munro, better known by the pen name Saki, and also frequently as H] live\\tSittwe is the capital of Rakhine State, Myanmar',\n",
       " 'how old is [Sacha Noam Baron Cohen is an English actor, comedian, and writer]\\t1971-10-13',\n",
       " 'what time zone am i in [Cleveland is a city in the state of Ohio and is the county seat of Cuyahoga County, the most populous county in the state]\\tThe Eastern Time Zone is a time zone encompassing 17 U']"
      ]
     },
     "execution_count": 8,
     "metadata": {},
     "output_type": "execute_result"
    }
   ],
   "source": [
    "train_lines[:10]"
   ]
  },
  {
   "cell_type": "code",
   "execution_count": 9,
   "id": "1209a6fd",
   "metadata": {},
   "outputs": [
    {
     "name": "stdout",
     "output_type": "stream",
     "text": [
      "m.02q_kt_ not found in entity map\n",
      "m.03hrvl not found in entity map\n"
     ]
    }
   ],
   "source": [
    "test_lines = []\n",
    "for id, q in enumerate(test):\n",
    "    out = makeQuestion(q, entity_map, relation_map)\n",
    "    test_lines.append(out)"
   ]
  },
  {
   "cell_type": "code",
   "execution_count": 10,
   "id": "96eb9e15",
   "metadata": {},
   "outputs": [
    {
     "data": {
      "text/plain": [
       "'what is the name of [Justin Drew Bieber is a Canadian singer and songwriter] brother\\tJaxon Bieber is the younger half-brother of Justin Bieber'"
      ]
     },
     "execution_count": 10,
     "metadata": {},
     "output_type": "execute_result"
    }
   ],
   "source": [
    "train_lines[0]"
   ]
  },
  {
   "cell_type": "code",
   "execution_count": 11,
   "id": "3340cb0a",
   "metadata": {},
   "outputs": [
    {
     "data": {
      "text/plain": [
       "'what is the name of the [The Denver Broncos are a professional American football team based in Denver, Colorado] mascot\\tThunder is the stage name for the horse who is the live animal mascot for the Denver Broncos|Miles is one of two official mascots of the Denver Broncos, an NFL football team'"
      ]
     },
     "execution_count": 11,
     "metadata": {},
     "output_type": "execute_result"
    }
   ],
   "source": [
    "train_lines[-2]"
   ]
  },
  {
   "cell_type": "code",
   "execution_count": 12,
   "id": "98e1678a",
   "metadata": {},
   "outputs": [],
   "source": [
    "def writeLines(lines, fname):\n",
    "    f = open(fname, 'w')\n",
    "    for line in lines:\n",
    "        f.write(line + '\\n')\n",
    "    f.close()"
   ]
  },
  {
   "cell_type": "code",
   "execution_count": 13,
   "id": "66299668",
   "metadata": {},
   "outputs": [],
   "source": [
    "fname = 'data/fbwq_half_lego_cr/qa_train_1hop.txt'\n",
    "writeLines(train_lines, fname)\n",
    "fname = 'data/fbwq_half_lego_cr/qa_test_1hop.txt'\n",
    "writeLines(test_lines, fname)"
   ]
  },
  {
   "cell_type": "code",
   "execution_count": 35,
   "id": "02f05779",
   "metadata": {},
   "outputs": [],
   "source": [
    "import unicodedata\n",
    "# add these to train lines to make mixed data\n",
    "\n",
    "def separateEntity(question, replacement='NE'):\n",
    "    start_loc = question.find('[')\n",
    "    end_loc = question.rfind(']')\n",
    "    entity = question[start_loc + 1: end_loc]\n",
    "    final = question[:start_loc] + replacement + question[end_loc + 1:]\n",
    "    return final, entity\n",
    "\n",
    "def lineToKGCLines(line):\n",
    "    line = line.split('\\t')\n",
    "    question, head_entity = separateEntity(line[0])\n",
    "    head_entity = normalizeEntity(head_entity)\n",
    "    base_line = 'predict answer: {0} | {1}'.format(head_entity, question)\n",
    "    answers = line[1].split('|') # multiple entities can be answer\n",
    "    answers = [normalizeEntity(a) for a in answers]\n",
    "    kgc_lines = []\n",
    "    for a in answers:\n",
    "        kgc_lines.append(base_line + '\\t' + a)\n",
    "    return kgc_lines\n",
    "\n",
    "def readLines(fname):\n",
    "    f = open(fname)\n",
    "    lines = []\n",
    "    for line in f:\n",
    "        if line[-1] == '\\n':\n",
    "            line = line[:-1]\n",
    "        lines.append(line)\n",
    "    f.close()\n",
    "    return lines\n",
    "\n",
    "def normalize(s):\n",
    "    return unicodedata.normalize('NFKC', s)\n",
    "\n",
    "\n",
    "def normalizeRelation(rel):\n",
    "#     rel = rel.replace('_', ' ')\n",
    "    rel = normalize(rel)\n",
    "    rel = rel.split('.')[-1]\n",
    "    rel = rel.replace('_', ' ')\n",
    "    rel = rel.replace('|', ',')\n",
    "    return rel\n",
    "\n",
    "def normalizeEntity(ent):\n",
    "    ent = normalize(ent)\n",
    "    ent = ent.replace('|', '')\n",
    "    return ent"
   ]
  },
  {
   "cell_type": "code",
   "execution_count": 17,
   "id": "624f9f2e",
   "metadata": {},
   "outputs": [],
   "source": [
    "source_folder = 'data/fbwq_half_lego_cr'\n",
    "data = {}\n",
    "hops = ['1']\n",
    "for hop in hops:\n",
    "    fname = os.path.join(source_folder, 'qa_train_'+ hop + 'hop.txt')\n",
    "    data[hop] = readLines(fname)"
   ]
  },
  {
   "cell_type": "code",
   "execution_count": 36,
   "id": "3b2655db",
   "metadata": {},
   "outputs": [
    {
     "data": {
      "application/vnd.jupyter.widget-view+json": {
       "model_id": "301f9320cc3745a1b93d44f36b2c83b7",
       "version_major": 2,
       "version_minor": 0
      },
      "text/plain": [
       "HBox(children=(FloatProgress(value=0.0, max=3098.0), HTML(value='')))"
      ]
     },
     "metadata": {},
     "output_type": "display_data"
    },
    {
     "name": "stdout",
     "output_type": "stream",
     "text": [
      "\n"
     ]
    }
   ],
   "source": [
    "kgc_lines_1hop = []\n",
    "for line in tqdm(data['1']):\n",
    "    kgc_lines_1hop.extend(lineToKGCLines(line))"
   ]
  },
  {
   "cell_type": "code",
   "execution_count": 37,
   "id": "12e69991",
   "metadata": {},
   "outputs": [
    {
     "data": {
      "text/plain": [
       "['predict answer: Justin Drew Bieber is a Canadian singer and songwriter | what is the name of NE brother\\tJaxon Bieber is the younger half-brother of Justin Bieber',\n",
       " 'predict answer: Natalie Portman is an Israeli-born American actress, producer, and director | what character did NE play in star wars\\tPadmé Amidala is a fictional character in the Star Wars universe, appearing in the prequel trilogy portrayed by actress Natalie Portman',\n",
       " 'predict answer: Grand Bahama is the northernmost of the islands of the Bahamas, and the closest major island to the United States, lying 90 kilometres off the | what country is the NE in\\tThe Bahamas /bəˈhɑːməz/, officially the Commonwealth of The Bahamas, is an island country of the Lucayan Archipelago consisting of more than 700 islands, cays, and',\n",
       " 'predict answer: The Bahamas /bəˈhɑːməz/, officially the Commonwealth of The Bahamas, is an island country of the Lucayan Archipelago consisting of more than 700 islands, cays, and | what kind of money to take to NE\\tThe dollar has been the currency of The Bahamas since 1966',\n",
       " 'predict answer: John Noble is an Australian film and television actor, and theatre director of more than 80 plays | what character did NE play in lord of the rings\\tDenethor II, son of Ecthelion II, is a fictional character in J',\n",
       " 'predict answer: Joakim Noah is a film producer | who does NE play for\\tThe Chicago Bulls are an American professional basketball team based in Chicago, Illinois, playing in the Central Division of the Eastern Conference in the National',\n",
       " 'predict answer: The Washington Redskins are a professional American football team located in the Washington, D | where are the nfl NE from\\tWashington, D',\n",
       " 'predict answer: Hector Hugh Munro, better known by the pen name Saki, and also frequently as H | where did NE live\\tSittwe is the capital of Rakhine State, Myanmar',\n",
       " 'predict answer: Sacha Noam Baron Cohen is an English actor, comedian, and writer | how old is NE\\t1971-10-13',\n",
       " 'predict answer: Cleveland is a city in the state of Ohio and is the county seat of Cuyahoga County, the most populous county in the state | what time zone am i in NE\\tThe Eastern Time Zone is a time zone encompassing 17 U']"
      ]
     },
     "execution_count": 37,
     "metadata": {},
     "output_type": "execute_result"
    }
   ],
   "source": [
    "kgc_lines_1hop[:10]"
   ]
  },
  {
   "cell_type": "code",
   "execution_count": 38,
   "id": "3997f987",
   "metadata": {},
   "outputs": [],
   "source": [
    "def writeLines(lines, fname):\n",
    "    f = open(fname, 'w')\n",
    "    for line in lines:\n",
    "        f.write(line + '\\n')\n",
    "    f.close()"
   ]
  },
  {
   "cell_type": "code",
   "execution_count": 39,
   "id": "eb05ee38",
   "metadata": {},
   "outputs": [],
   "source": [
    "fname = 'data/fbwq_half_lego_cr/train_qa_lines.txt'\n",
    "writeLines(kgc_lines_1hop, fname)"
   ]
  },
  {
   "cell_type": "code",
   "execution_count": 22,
   "id": "03affe38",
   "metadata": {},
   "outputs": [],
   "source": [
    "def getUniqueMap(init_map):\n",
    "    out_map = {}\n",
    "    values = set()\n",
    "    for key, value in init_map.items():\n",
    "        if value not in values:\n",
    "            out_map[key] = value\n",
    "            values.add(value)\n",
    "        else:\n",
    "            id_to_append = 0\n",
    "            new_value = value + ' ' + str(id_to_append)\n",
    "            while(new_value in values):\n",
    "                id_to_append += 1\n",
    "                new_value = value + ' ' + str(id_to_append)\n",
    "            out_map[key] = new_value\n",
    "            values.add(new_value)\n",
    "    assert len(init_map) == len(set(out_map.values()))\n",
    "    return out_map\n",
    "\n",
    "def mapTriple(triple, ent_map, rel_map):\n",
    "    t = triple\n",
    "    new_triple = [ent_map[t[0]], rel_map[t[1]], ent_map[t[2]]]\n",
    "    return new_triple"
   ]
  },
  {
   "cell_type": "code",
   "execution_count": 23,
   "id": "720a2a53",
   "metadata": {},
   "outputs": [],
   "source": [
    "# uniq_ent_map = getUniqueMap(entity_map)\n",
    "uniq_ent_map = entity_map"
   ]
  },
  {
   "cell_type": "code",
   "execution_count": 24,
   "id": "1e84e918",
   "metadata": {},
   "outputs": [
    {
     "data": {
      "text/plain": [
       "['Arthur Kingscote', 'place of death', 'Fulham']"
      ]
     },
     "execution_count": 24,
     "metadata": {},
     "output_type": "execute_result"
    }
   ],
   "source": [
    "mapTriple(data['train'][0], uniq_ent_map, relation_map)"
   ]
  },
  {
   "cell_type": "code",
   "execution_count": 15,
   "id": "dec20bbe",
   "metadata": {},
   "outputs": [],
   "source": [
    "out_folder = '/scratche/home/apoorv/transformer-kgc/data/MetaQA'\n",
    "splits = ['train', 'test', 'valid']\n",
    "for split in splits:\n",
    "    fname = os.path.join(out_folder, split + '.txt')\n",
    "    f = open(fname, 'w')\n",
    "    triples = data[split]\n",
    "    for t in triples:\n",
    "        t = mapTriple(t, uniq_ent_map, relation_map)\n",
    "        head, relation, tail = t\n",
    "        input = 'predict tail: {0} | {1} |'.format(head, relation)\n",
    "        output = '{}'.format(tail)\n",
    "        f.write(input + '\\t' + output + '\\n')\n",
    "        \n",
    "        input = 'predict head: {0} | {1} |'.format(tail, relation)\n",
    "        output = '{}'.format(head)\n",
    "        f.write(input + '\\t' + output + '\\n')\n",
    "    f.close()"
   ]
  },
  {
   "cell_type": "code",
   "execution_count": 16,
   "id": "483eab98",
   "metadata": {},
   "outputs": [],
   "source": [
    "# create entity_strings.txt which is needed in evaluation code\n",
    "strings_file_name = 'entity_strings.txt'\n",
    "f = open(os.path.join(out_folder, strings_file_name), 'w')\n",
    "ents_uniq = set(uniq_ent_map.values())\n",
    "for e in ents_uniq:\n",
    "    f.write(e + '\\n')\n",
    "f.close()"
   ]
  },
  {
   "cell_type": "code",
   "execution_count": 17,
   "id": "561b82f9",
   "metadata": {},
   "outputs": [],
   "source": [
    "def readQALines(fname):\n",
    "    f = open(fname)\n",
    "    questions = []\n",
    "    for line in f:\n",
    "        line = line.strip().split('\\t')\n",
    "        q = line[0]\n",
    "        q = q.replace('[', '')\n",
    "        q = q.replace(']', '')\n",
    "        q = normalizeEntity(q)\n",
    "        questions.append(q)\n",
    "    return questions\n",
    "        \n",
    "def writeLines(lines, fname):\n",
    "    f = open(fname, 'w')\n",
    "    for line in lines:\n",
    "        f.write(line + '\\n')\n"
   ]
  },
  {
   "cell_type": "code",
   "execution_count": 18,
   "id": "0eeccae2",
   "metadata": {},
   "outputs": [],
   "source": [
    "fname = 'data/MetaQA/full_qa.txt'\n",
    "questions = readQALines(fname)"
   ]
  },
  {
   "cell_type": "code",
   "execution_count": 19,
   "id": "ad94ee58",
   "metadata": {},
   "outputs": [],
   "source": [
    "fname = 'data/MetaQA/full_q_only.txt'\n",
    "writeLines(questions, fname)"
   ]
  },
  {
   "cell_type": "code",
   "execution_count": null,
   "id": "8a8e6782",
   "metadata": {},
   "outputs": [],
   "source": [
    "vocab_size = 20000\n",
    "sp = spm.SentencePieceTrainer.train(input='data/MetaQA/full_for_sp_train.txt', \n",
    "                                    model_prefix='metaqa_with_pad', vocab_size=vocab_size, \n",
    "                                    pad_id=3,\n",
    "#                                     character_coverage=1.0,\n",
    "#                                user_defined_symbols=['<pad>'],\n",
    "#                                     normalization_rule_name='identity',\n",
    "                              )"
   ]
  },
  {
   "cell_type": "code",
   "execution_count": 21,
   "id": "c2256ddf",
   "metadata": {},
   "outputs": [],
   "source": [
    "sp = spm.SentencePieceProcessor(model_file='data/sentencepiece/metaqa_with_pad.model')"
   ]
  },
  {
   "cell_type": "code",
   "execution_count": 22,
   "id": "8e3aa571",
   "metadata": {},
   "outputs": [
    {
     "data": {
      "text/plain": [
       "5"
      ]
     },
     "execution_count": 22,
     "metadata": {},
     "output_type": "execute_result"
    }
   ],
   "source": [
    "sp['|']"
   ]
  },
  {
   "cell_type": "code",
   "execution_count": 39,
   "id": "ba0b22e2",
   "metadata": {},
   "outputs": [
    {
     "data": {
      "text/plain": [
       "[4, 8811, 37]"
      ]
     },
     "execution_count": 39,
     "metadata": {},
     "output_type": "execute_result"
    }
   ],
   "source": [
    "sp.encode('about')"
   ]
  },
  {
   "cell_type": "code",
   "execution_count": 92,
   "id": "30733281",
   "metadata": {},
   "outputs": [],
   "source": [
    "lengths = []\n",
    "for e in ents_uniq:\n",
    "    encoded = sp.encode(e)\n",
    "    lengths.append(len(encoded))"
   ]
  },
  {
   "cell_type": "code",
   "execution_count": 93,
   "id": "8055bc10",
   "metadata": {},
   "outputs": [
    {
     "data": {
      "text/plain": [
       "Text(0.5, 0, 'Tokenized lengths')"
      ]
     },
     "execution_count": 93,
     "metadata": {},
     "output_type": "execute_result"
    },
    {
     "data": {
      "image/png": "[encoded data removed]",
      "text/plain": [
       "<Figure size 432x288 with 1 Axes>"
      ]
     },
     "metadata": {
      "needs_background": "light"
     },
     "output_type": "display_data"
    }
   ],
   "source": [
    "import matplotlib.pyplot as plt \n",
    "\n",
    "import numpy as np \n",
    "\n",
    "%matplotlib inline\n",
    "\n",
    "# x = np.random.normal(size = 1000) \n",
    "x = lengths\n",
    "plt.hist(x, bins=30) \n",
    "\n",
    "plt.ylabel('Num entities');\n",
    "plt.xlabel('Tokenized lengths')"
   ]
  },
  {
   "cell_type": "code",
   "execution_count": 94,
   "id": "51a339bd",
   "metadata": {},
   "outputs": [
    {
     "data": {
      "text/plain": [
       "[19, 13, 18]"
      ]
     },
     "execution_count": 94,
     "metadata": {},
     "output_type": "execute_result"
    }
   ],
   "source": [
    "sp.encode('plays for')"
   ]
  },
  {
   "cell_type": "code",
   "execution_count": 35,
   "id": "be1d15cf",
   "metadata": {},
   "outputs": [
    {
     "name": "stdout",
     "output_type": "stream",
     "text": [
      "University_of_Illinois_at_Urbana-Champaign University_of_Illinois_at_Urbana-Champaign\n",
      "Hoang_Anh_Gia_Lai_F.C. Hoang_Anh_Gia_Lai_F.C.\n",
      "Zurich Zurich\n",
      "Toshirō_Mifune Toshiro_Mifune\n",
      "Karl_Weierstrass Karl_Weierstrass\n",
      "László_Bálint Laszlo_Balint\n",
      "Sergio_Araujo Sergio_Araujo\n",
      "Carlos_Tevez Carlos_Tevez\n",
      "Polish-Lithuanian_Commonwealth Polish-Lithuanian_Commonwealth\n",
      "Przemysl_II Przemysl_II\n",
      "Christian_Groß Christian_Gross\n",
      "Izmir Izmir\n",
      "Münster Munster\n",
      "Dalibor_Stevanovič Dalibor_Stevanovic\n",
      "Jürgen_Gjasula Jurgen_Gjasula\n",
      "Sócrates Socrates\n",
      "Zlatko_Dedič Zlatko_Dedic\n",
      "Antônio_Bezerra_Brandão Antonio_Bezerra_Brandao\n",
      "Aleksander_Kwasniewski Aleksander_Kwasniewski\n",
      "Sani_Bečirović Sani_Becirovic\n",
      "Izmit Izmit\n",
      "Ryukyu_Islands Ryukyu_Islands\n",
      "Stanisław_Ulam Stanislaw_Ulam\n",
      "Pantheon-Assas_University Pantheon-Assas_University\n",
      "Quang_Binh_Province Quang_Binh_Province\n",
      "Mures_County Mures_County\n",
      "Braila Braila\n",
      "San_Sebastian San_Sebastian\n",
      "Ploiesti Ploiesti\n",
      "Beja Beja\n",
      "Zé_Antônio Ze_Antonio\n",
      "San_Miguel_de_Tucumán San_Miguel_de_Tucuman\n",
      "Foça Foca\n",
      "Denmark-Norway Denmark-Norway\n",
      "Gmina_Rogóźno Gmina_Rogozno\n",
      "Habo_Municipality Habo_Municipality\n",
      "Gilgit-Baltistan Gilgit-Baltistan\n"
     ]
    }
   ],
   "source": [
    "from unidecode import unidecode\n",
    "entities_ud = []\n",
    "entities_ud_set = set()\n",
    "for e in entities:\n",
    "    ud_e = unidecode(e)\n",
    "    entities_ud.append(ud_e)\n",
    "    if ud_e in entities_ud_set:\n",
    "        print(e, ud_e)\n",
    "    else:\n",
    "        entities_ud_set.add(ud_e)"
   ]
  },
  {
   "cell_type": "code",
   "execution_count": 28,
   "id": "f67a0b09",
   "metadata": {},
   "outputs": [
    {
     "data": {
      "text/plain": [
       "(123182, 123182)"
      ]
     },
     "execution_count": 28,
     "metadata": {},
     "output_type": "execute_result"
    }
   ],
   "source": [
    "len(entities), len(set(entities))"
   ]
  },
  {
   "cell_type": "code",
   "execution_count": 33,
   "id": "62983ae2",
   "metadata": {},
   "outputs": [
    {
     "data": {
      "text/plain": [
       "(123182, 123145)"
      ]
     },
     "execution_count": 33,
     "metadata": {},
     "output_type": "execute_result"
    }
   ],
   "source": [
    "len(entities_ud), len(set(entities_ud))"
   ]
  },
  {
   "cell_type": "code",
   "execution_count": null,
   "id": "dd205992",
   "metadata": {},
   "outputs": [],
   "source": []
  }
 ],
 "metadata": {
  "kernelspec": {
   "display_name": "Python 3 (ipykernel)",
   "language": "python",
   "name": "python3"
  },
  "language_info": {
   "codemirror_mode": {
    "name": "ipython",
    "version": 3
   },
   "file_extension": ".py",
   "mimetype": "text/x-python",
   "name": "python",
   "nbconvert_exporter": "python",
   "pygments_lexer": "ipython3",
   "version": "3.8.11"
  }
 },
 "nbformat": 4,
 "nbformat_minor": 5
}

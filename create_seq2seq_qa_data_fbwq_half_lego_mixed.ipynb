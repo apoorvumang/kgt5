{
 "cells": [
  {
   "cell_type": "code",
   "execution_count": 1,
   "id": "6294b12f",
   "metadata": {},
   "outputs": [],
   "source": [
    "import os\n",
    "import pickle\n",
    "from tqdm.notebook import tqdm\n",
    "import sentencepiece as spm"
   ]
  },
  {
   "cell_type": "code",
   "execution_count": 2,
   "id": "66554ebd",
   "metadata": {},
   "outputs": [
    {
     "name": "stdout",
     "output_type": "stream",
     "text": [
      "entity_strings.txt  qa_train_1hop.txt  train.txt\r\n",
      "qa_test_1hop.txt    test.txt\t       valid.txt\r\n"
     ]
    }
   ],
   "source": [
    "# source_folder = '/scratche/home/apoorv/EmbedKGQA/data/MetaQA'\n",
    "source_folder = 'data/fbwq_half_lego'\n",
    "! ls {source_folder}"
   ]
  },
  {
   "cell_type": "code",
   "execution_count": 3,
   "id": "59e18046",
   "metadata": {},
   "outputs": [],
   "source": [
    "def readLines(fname):\n",
    "    f = open(fname)\n",
    "    lines = []\n",
    "    for line in f:\n",
    "        if line[-1] == '\\n':\n",
    "            line = line[:-1]\n",
    "        lines.append(line)\n",
    "    f.close()\n",
    "    return lines"
   ]
  },
  {
   "cell_type": "code",
   "execution_count": 4,
   "id": "aa327398",
   "metadata": {},
   "outputs": [],
   "source": [
    "data = {}\n",
    "hops = ['1']\n",
    "for hop in hops:\n",
    "    fname = os.path.join(source_folder, 'qa_train_'+ hop + 'hop.txt')\n",
    "    data[hop] = readLines(fname)"
   ]
  },
  {
   "cell_type": "code",
   "execution_count": 5,
   "id": "da7e6850",
   "metadata": {},
   "outputs": [
    {
     "data": {
      "text/plain": [
       "'what country is the [grand bahama] in\\tbahamas'"
      ]
     },
     "execution_count": 5,
     "metadata": {},
     "output_type": "execute_result"
    }
   ],
   "source": [
    "data['1'][2]"
   ]
  },
  {
   "cell_type": "code",
   "execution_count": 6,
   "id": "410ead09",
   "metadata": {},
   "outputs": [],
   "source": [
    "from unidecode import unidecode\n",
    "def normalizeEntity(ent):\n",
    "    ent = unidecode(ent)\n",
    "    return ent"
   ]
  },
  {
   "cell_type": "code",
   "execution_count": 7,
   "id": "0f0b5b26",
   "metadata": {},
   "outputs": [],
   "source": [
    "def separateEntity(question, replacement='NE'):\n",
    "    split1 = question.split('[')\n",
    "    lhs = split1[0]\n",
    "    split2 = split1[1].split(']')\n",
    "    entity = split2[0]\n",
    "    rhs = split2[1]\n",
    "    final = lhs + replacement + rhs\n",
    "    return final, entity\n",
    "\n",
    "def lineToKGCLines(line):\n",
    "    line = line.split('\\t')\n",
    "    question, head_entity = separateEntity(line[0])\n",
    "    head_entity = normalizeEntity(head_entity)\n",
    "    base_line = 'predict answer: {0} | {1} |'.format(head_entity, question)\n",
    "    answers = line[1].split('|') # multiple entities can be answer\n",
    "    answers = [normalizeEntity(a) for a in answers]\n",
    "    kgc_lines = []\n",
    "    for a in answers:\n",
    "        kgc_lines.append(base_line + '\\t' + a)\n",
    "    return kgc_lines"
   ]
  },
  {
   "cell_type": "code",
   "execution_count": 8,
   "id": "e767d4e0",
   "metadata": {},
   "outputs": [
    {
     "data": {
      "text/plain": [
       "['predict answer: justin bieber | what is the name of NE brother |\\tjaxon bieber']"
      ]
     },
     "execution_count": 8,
     "metadata": {},
     "output_type": "execute_result"
    }
   ],
   "source": [
    "lineToKGCLines(data['1'][0])"
   ]
  },
  {
   "cell_type": "code",
   "execution_count": 9,
   "id": "8cd72ee3",
   "metadata": {},
   "outputs": [],
   "source": [
    "kgc_lines_1hop = []\n",
    "for line in data['1']:\n",
    "    kgc_lines_1hop.extend(lineToKGCLines(line))"
   ]
  },
  {
   "cell_type": "code",
   "execution_count": 10,
   "id": "49a28e79",
   "metadata": {},
   "outputs": [
    {
     "data": {
      "text/plain": [
       "35358"
      ]
     },
     "execution_count": 10,
     "metadata": {},
     "output_type": "execute_result"
    }
   ],
   "source": [
    "len(kgc_lines_1hop)"
   ]
  },
  {
   "cell_type": "code",
   "execution_count": 11,
   "id": "a04764f8",
   "metadata": {},
   "outputs": [],
   "source": [
    "def writeLines(lines, fname):\n",
    "    f = open(fname, 'w')\n",
    "    for line in lines:\n",
    "        f.write(line + '\\n')\n",
    "    f.close()"
   ]
  },
  {
   "cell_type": "code",
   "execution_count": 12,
   "id": "e06a35d9",
   "metadata": {},
   "outputs": [],
   "source": [
    "fname = 'data/fbwq_half_lego_mixed/train_base.txt'\n",
    "writeLines(kgc_lines_1hop, fname)"
   ]
  },
  {
   "cell_type": "code",
   "execution_count": null,
   "id": "dd205992",
   "metadata": {},
   "outputs": [],
   "source": []
  }
 ],
 "metadata": {
  "kernelspec": {
   "display_name": "Python 3 (ipykernel)",
   "language": "python",
   "name": "python3"
  },
  "language_info": {
   "codemirror_mode": {
    "name": "ipython",
    "version": 3
   },
   "file_extension": ".py",
   "mimetype": "text/x-python",
   "name": "python",
   "nbconvert_exporter": "python",
   "pygments_lexer": "ipython3",
   "version": "3.8.11"
  }
 },
 "nbformat": 4,
 "nbformat_minor": 5
}

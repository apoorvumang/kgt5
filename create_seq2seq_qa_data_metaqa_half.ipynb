{
 "cells": [
  {
   "cell_type": "code",
   "execution_count": 1,
   "id": "6294b12f",
   "metadata": {},
   "outputs": [],
   "source": [
    "import os\n",
    "import pickle\n",
    "from tqdm.notebook import tqdm\n",
    "import sentencepiece as spm"
   ]
  },
  {
   "cell_type": "code",
   "execution_count": 3,
   "id": "66554ebd",
   "metadata": {},
   "outputs": [
    {
     "name": "stdout",
     "output_type": "stream",
     "text": [
      "entity_strings.txt\tqa_train_2hop_half.txt\tqa_valid_3hop.txt\r\n",
      "qa_test_1hop.txt\tqa_train_2hop.txt\ttest.txt\r\n",
      "qa_test_2hop.txt\tqa_train_3hop_half.txt\ttrain.txt\r\n",
      "qa_test_3hop.txt\tqa_train_3hop.txt\tvalid.txt\r\n",
      "qa_train_1hop_half.txt\tqa_valid_1hop.txt\r\n",
      "qa_train_1hop.txt\tqa_valid_2hop.txt\r\n"
     ]
    }
   ],
   "source": [
    "# source_folder = '/scratche/home/apoorv/EmbedKGQA/data/MetaQA'\n",
    "source_folder = 'data/MetaQA_half'\n",
    "! ls {source_folder}"
   ]
  },
  {
   "cell_type": "code",
   "execution_count": 4,
   "id": "59e18046",
   "metadata": {},
   "outputs": [],
   "source": [
    "def readLines(fname):\n",
    "    f = open(fname)\n",
    "    lines = []\n",
    "    for line in f:\n",
    "        if line[-1] == '\\n':\n",
    "            line = line[:-1]\n",
    "        lines.append(line)\n",
    "    f.close()\n",
    "    return lines"
   ]
  },
  {
   "cell_type": "code",
   "execution_count": 7,
   "id": "aa327398",
   "metadata": {},
   "outputs": [],
   "source": [
    "data = {}\n",
    "hops = ['1', '2', '3']\n",
    "for hop in hops:\n",
    "    fname = os.path.join(source_folder, 'qa_train_'+ hop + 'hop.txt')\n",
    "    data[hop] = readLines(fname)"
   ]
  },
  {
   "cell_type": "code",
   "execution_count": 8,
   "id": "da7e6850",
   "metadata": {},
   "outputs": [
    {
     "data": {
      "text/plain": [
       "'what films can be described by [occupation]\\tRed Dawn|The Teahouse of the August Moon'"
      ]
     },
     "execution_count": 8,
     "metadata": {},
     "output_type": "execute_result"
    }
   ],
   "source": [
    "data['1'][2]"
   ]
  },
  {
   "cell_type": "code",
   "execution_count": 10,
   "id": "410ead09",
   "metadata": {},
   "outputs": [],
   "source": [
    "from unidecode import unidecode\n",
    "def normalizeEntity(ent):\n",
    "    ent = unidecode(ent)\n",
    "    return ent"
   ]
  },
  {
   "cell_type": "code",
   "execution_count": 16,
   "id": "0f0b5b26",
   "metadata": {},
   "outputs": [],
   "source": [
    "def separateEntity(question, replacement='NE'):\n",
    "    split1 = question.split('[')\n",
    "    lhs = split1[0]\n",
    "    split2 = split1[1].split(']')\n",
    "    entity = split2[0]\n",
    "    rhs = split2[1]\n",
    "    final = lhs + replacement + rhs\n",
    "    return final, entity\n",
    "\n",
    "def lineToKGCLines(line):\n",
    "    line = line.split('\\t')\n",
    "    question, head_entity = separateEntity(line[0])\n",
    "    head_entity = normalizeEntity(head_entity)\n",
    "    base_line = 'predict answer: {0} | {1} |'.format(head_entity, question)\n",
    "    answers = line[1].split('|') # multiple entities can be answer\n",
    "    answers = [normalizeEntity(a) for a in answers]\n",
    "    kgc_lines = []\n",
    "    for a in answers:\n",
    "        kgc_lines.append(base_line + '\\t' + a)\n",
    "    return kgc_lines"
   ]
  },
  {
   "cell_type": "code",
   "execution_count": 17,
   "id": "e767d4e0",
   "metadata": {},
   "outputs": [
    {
     "data": {
      "text/plain": [
       "['predict answer: ginger rogers | what movies are about NE |\\tTop Hat',\n",
       " 'predict answer: ginger rogers | what movies are about NE |\\tKitty Foyle',\n",
       " 'predict answer: ginger rogers | what movies are about NE |\\tThe Barkleys of Broadway']"
      ]
     },
     "execution_count": 17,
     "metadata": {},
     "output_type": "execute_result"
    }
   ],
   "source": [
    "lineToKGCLines(data['1'][0])"
   ]
  },
  {
   "cell_type": "code",
   "execution_count": 18,
   "id": "8cd72ee3",
   "metadata": {},
   "outputs": [],
   "source": [
    "kgc_lines_1hop = []\n",
    "for line in data['1']:\n",
    "    kgc_lines_1hop.extend(lineToKGCLines(line))"
   ]
  },
  {
   "cell_type": "code",
   "execution_count": 22,
   "id": "da2e8796",
   "metadata": {},
   "outputs": [],
   "source": [
    "kgc_lines_2hop = []\n",
    "for line in data['2']:\n",
    "    kgc_lines_2hop.extend(lineToKGCLines(line))"
   ]
  },
  {
   "cell_type": "code",
   "execution_count": 24,
   "id": "d699a543",
   "metadata": {},
   "outputs": [
    {
     "data": {
      "text/plain": [
       "1521495"
      ]
     },
     "execution_count": 24,
     "metadata": {},
     "output_type": "execute_result"
    }
   ],
   "source": [
    "kgc_lines_3hop = []\n",
    "for line in data['3']:\n",
    "    kgc_lines_3hop.extend(lineToKGCLines(line))\n",
    "len(kgc_lines_3hop)"
   ]
  },
  {
   "cell_type": "code",
   "execution_count": 23,
   "id": "49a28e79",
   "metadata": {},
   "outputs": [
    {
     "data": {
      "text/plain": [
       "739782"
      ]
     },
     "execution_count": 23,
     "metadata": {},
     "output_type": "execute_result"
    }
   ],
   "source": [
    "len(kgc_lines_2hop)"
   ]
  },
  {
   "cell_type": "code",
   "execution_count": 20,
   "id": "a04764f8",
   "metadata": {},
   "outputs": [],
   "source": [
    "def writeLines(lines, fname):\n",
    "    f = open(fname, 'w')\n",
    "    for line in lines:\n",
    "        f.write(line + '\\n')\n",
    "    f.close()"
   ]
  },
  {
   "cell_type": "code",
   "execution_count": 21,
   "id": "e06a35d9",
   "metadata": {},
   "outputs": [],
   "source": [
    "fname = 'data/MetaQA_half_1hop/train_base.txt'\n",
    "writeLines(kgc_lines_1hop, fname)"
   ]
  },
  {
   "cell_type": "code",
   "execution_count": 25,
   "id": "e0f45803",
   "metadata": {},
   "outputs": [],
   "source": [
    "fname = 'data/MetaQA_half_2hop/train_base.txt'\n",
    "writeLines(kgc_lines_2hop, fname)"
   ]
  },
  {
   "cell_type": "code",
   "execution_count": 26,
   "id": "4a42c5e6",
   "metadata": {},
   "outputs": [],
   "source": [
    "fname = 'data/MetaQA_half_3hop/train_base.txt'\n",
    "writeLines(kgc_lines_3hop, fname)"
   ]
  },
  {
   "cell_type": "code",
   "execution_count": 15,
   "id": "69a9b69d",
   "metadata": {},
   "outputs": [
    {
     "name": "stdout",
     "output_type": "stream",
     "text": [
      "entities.dict  relations.dict  test.txt  train.txt  valid.txt\r\n"
     ]
    },
    {
     "data": {
      "text/plain": [
       "959"
      ]
     },
     "execution_count": 15,
     "metadata": {},
     "output_type": "execute_result"
    }
   ],
   "source": [
    "# this cell is sanity check\n",
    "source_folder = '/scratche/home/apoorv/EmbedKGQA/data/MetaQA'\n",
    "! ls {source_folder}\n",
    "fname = 'entities.dict'\n",
    "entities = []\n",
    "for line in open(os.path.join(source_folder, fname)):\n",
    "    line = line.strip().split('\\t')\n",
    "    entities.append(line[0])\n",
    "    \n",
    "fname = 'relations.dict'\n",
    "relations = []\n",
    "for line in open(os.path.join(source_folder, fname)):\n",
    "    line = line.strip().split('\\t')\n",
    "    relations.append(line[0])\n",
    "count = 0\n",
    "for e in entities:\n",
    "    if e != unidecode(e):\n",
    "        count +=1\n",
    "count"
   ]
  },
  {
   "cell_type": "code",
   "execution_count": 28,
   "id": "f67a0b09",
   "metadata": {},
   "outputs": [
    {
     "data": {
      "text/plain": [
       "(123182, 123182)"
      ]
     },
     "execution_count": 28,
     "metadata": {},
     "output_type": "execute_result"
    }
   ],
   "source": [
    "len(entities), len(set(entities))"
   ]
  },
  {
   "cell_type": "code",
   "execution_count": 33,
   "id": "62983ae2",
   "metadata": {},
   "outputs": [
    {
     "data": {
      "text/plain": [
       "(123182, 123145)"
      ]
     },
     "execution_count": 33,
     "metadata": {},
     "output_type": "execute_result"
    }
   ],
   "source": [
    "len(entities_ud), len(set(entities_ud))"
   ]
  },
  {
   "cell_type": "code",
   "execution_count": null,
   "id": "dd205992",
   "metadata": {},
   "outputs": [],
   "source": []
  }
 ],
 "metadata": {
  "kernelspec": {
   "display_name": "Python 3 (ipykernel)",
   "language": "python",
   "name": "python3"
  },
  "language_info": {
   "codemirror_mode": {
    "name": "ipython",
    "version": 3
   },
   "file_extension": ".py",
   "mimetype": "text/x-python",
   "name": "python",
   "nbconvert_exporter": "python",
   "pygments_lexer": "ipython3",
   "version": "3.8.11"
  }
 },
 "nbformat": 4,
 "nbformat_minor": 5
}

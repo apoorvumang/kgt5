{
 "cells": [
  {
   "cell_type": "code",
   "execution_count": 4,
   "id": "f4474e6c",
   "metadata": {},
   "outputs": [],
   "source": [
    "import json\n",
    "from tqdm.notebook import tqdm\n",
    "import pickle\n",
    "from unidecode import unidecode"
   ]
  },
  {
   "cell_type": "code",
   "execution_count": 5,
   "id": "06eb4d3b",
   "metadata": {},
   "outputs": [],
   "source": [
    "# we will do all lowercase, since question has lowercase entities\n",
    "def normalize(x):\n",
    "    x = unidecode(x)\n",
    "    x = x.lower()\n",
    "    return x"
   ]
  },
  {
   "cell_type": "code",
   "execution_count": 12,
   "id": "afd1ed39",
   "metadata": {},
   "outputs": [],
   "source": [
    "def makeQuestionLines(fname):\n",
    "    data = json.load(open(fname, 'r'))\n",
    "    data_processed = []\n",
    "    for d in tqdm(data):\n",
    "        qtext = normalize(d['qText'])\n",
    "        answers = d['answers']\n",
    "        answers = [normalize(a) for a in answers]\n",
    "        answers_string = '|'.join(answers)\n",
    "        new_d = qtext + '\\t' + answers_string\n",
    "        data_processed.append(new_d)\n",
    "    return data_processed"
   ]
  },
  {
   "cell_type": "code",
   "execution_count": 13,
   "id": "f9dbcbcd",
   "metadata": {},
   "outputs": [
    {
     "data": {
      "application/vnd.jupyter.widget-view+json": {
       "model_id": "ffd2b4b555d5464f87f2c84c24e27a42",
       "version_major": 2,
       "version_minor": 0
      },
      "text/plain": [
       "HBox(children=(FloatProgress(value=0.0, max=2834.0), HTML(value='')))"
      ]
     },
     "metadata": {},
     "output_type": "display_data"
    },
    {
     "name": "stdout",
     "output_type": "stream",
     "text": [
      "\n"
     ]
    },
    {
     "data": {
      "application/vnd.jupyter.widget-view+json": {
       "model_id": "4e059803afe54c17a68a5f60e1e137aa",
       "version_major": 2,
       "version_minor": 0
      },
      "text/plain": [
       "HBox(children=(FloatProgress(value=0.0, max=755.0), HTML(value='')))"
      ]
     },
     "metadata": {},
     "output_type": "display_data"
    },
    {
     "name": "stdout",
     "output_type": "stream",
     "text": [
      "\n"
     ]
    },
    {
     "data": {
      "application/vnd.jupyter.widget-view+json": {
       "model_id": "6957a18e98c64d28a0d9a91b8f731dc2",
       "version_major": 2,
       "version_minor": 0
      },
      "text/plain": [
       "HBox(children=(FloatProgress(value=0.0, max=189.0), HTML(value='')))"
      ]
     },
     "metadata": {},
     "output_type": "display_data"
    },
    {
     "name": "stdout",
     "output_type": "stream",
     "text": [
      "\n"
     ]
    }
   ],
   "source": [
    "train_files = ['trainmodel.json', 'val.json', 'devtest.json']\n",
    "train = []\n",
    "for fname in train_files:\n",
    "    fname = '/scratche/home/apoorv/transformer-kgc/data/fbwq_full/' + fname\n",
    "    data_processed = makeQuestionLines(fname)\n",
    "    train.extend(data_processed)\n"
   ]
  },
  {
   "cell_type": "code",
   "execution_count": 15,
   "id": "dc9b2c24",
   "metadata": {},
   "outputs": [
    {
     "data": {
      "application/vnd.jupyter.widget-view+json": {
       "model_id": "9a7fb47bf20d41b18aeb58678de1075f",
       "version_major": 2,
       "version_minor": 0
      },
      "text/plain": [
       "HBox(children=(FloatProgress(value=0.0, max=2032.0), HTML(value='')))"
      ]
     },
     "metadata": {},
     "output_type": "display_data"
    },
    {
     "name": "stdout",
     "output_type": "stream",
     "text": [
      "\n"
     ]
    }
   ],
   "source": [
    "test_file = 'test.json'\n",
    "fname = '/scratche/home/apoorv/transformer-kgc/data/fbwq_full/' + test_file\n",
    "test = makeQuestionLines(fname)"
   ]
  },
  {
   "cell_type": "code",
   "execution_count": 18,
   "id": "7d47e83d",
   "metadata": {},
   "outputs": [],
   "source": [
    "def writeLines(lines, fname):\n",
    "    f = open(fname, 'w')\n",
    "    for line in lines:\n",
    "        f.write(line + '\\n')\n",
    "    f.close()"
   ]
  },
  {
   "cell_type": "code",
   "execution_count": 20,
   "id": "536ff1fb",
   "metadata": {},
   "outputs": [],
   "source": [
    "fname = '/scratche/home/apoorv/transformer-kgc/data/fbwq_full/qa_train_1hop.txt'\n",
    "writeLines(train, fname)"
   ]
  },
  {
   "cell_type": "code",
   "execution_count": 21,
   "id": "978b91bb",
   "metadata": {},
   "outputs": [],
   "source": [
    "fname = '/scratche/home/apoorv/transformer-kgc/data/fbwq_full/qa_test_1hop.txt'\n",
    "writeLines(test, fname)"
   ]
  },
  {
   "cell_type": "code",
   "execution_count": 22,
   "id": "cbf4ff5b",
   "metadata": {},
   "outputs": [],
   "source": [
    "fname = '/scratche/home/apoorv/transformer-kgc/data/fbwq_full/qa_valid_1hop.txt'\n",
    "writeLines(test, fname)"
   ]
  },
  {
   "cell_type": "code",
   "execution_count": null,
   "id": "4909845b",
   "metadata": {},
   "outputs": [],
   "source": []
  }
 ],
 "metadata": {
  "kernelspec": {
   "display_name": "Python 3 (ipykernel)",
   "language": "python",
   "name": "python3"
  },
  "language_info": {
   "codemirror_mode": {
    "name": "ipython",
    "version": 3
   },
   "file_extension": ".py",
   "mimetype": "text/x-python",
   "name": "python",
   "nbconvert_exporter": "python",
   "pygments_lexer": "ipython3",
   "version": "3.8.11"
  }
 },
 "nbformat": 4,
 "nbformat_minor": 5
}

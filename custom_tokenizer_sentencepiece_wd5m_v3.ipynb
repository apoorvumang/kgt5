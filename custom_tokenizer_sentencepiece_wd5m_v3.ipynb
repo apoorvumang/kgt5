{
 "cells": [
  {
   "cell_type": "code",
   "execution_count": 11,
   "id": "509267bd",
   "metadata": {},
   "outputs": [],
   "source": [
    "import sentencepiece as spm"
   ]
  },
  {
   "cell_type": "code",
   "execution_count": 139,
   "id": "57b302d0",
   "metadata": {},
   "outputs": [],
   "source": [
    "fname = '/scratche/home/apoorv/transformer-kgc/data/wikidata5m_v3/train.txt'\n",
    "f = open(fname)\n",
    "train_inputs = []\n",
    "for line in f:\n",
    "    line = line.split('\\t')\n",
    "    train_inputs.append(line[0])\n",
    "f.close()"
   ]
  },
  {
   "cell_type": "code",
   "execution_count": 140,
   "id": "4aba961c",
   "metadata": {},
   "outputs": [
    {
     "data": {
      "text/plain": [
       "42687362"
      ]
     },
     "execution_count": 140,
     "metadata": {},
     "output_type": "execute_result"
    }
   ],
   "source": [
    "len(train_inputs)"
   ]
  },
  {
   "cell_type": "code",
   "execution_count": 141,
   "id": "aa213fe7",
   "metadata": {},
   "outputs": [
    {
     "data": {
      "text/plain": [
       "['|TAIL| Lalit Kumar Goel||| instance of',\n",
       " '|HEAD| human||| instance of',\n",
       " '|TAIL| Ugo Riccarelli||| languages spoken, written or signed',\n",
       " '|HEAD| Italian||| languages spoken, written or signed',\n",
       " '|TAIL| Road to Paradise||| director',\n",
       " '|HEAD| William Beaudine||| director',\n",
       " '|TAIL| Robert van der Horst||| country of citizenship',\n",
       " '|HEAD| Kingdom of the Netherlands||| country of citizenship',\n",
       " '|TAIL| Wesley Pionteck Souza||| member of sports team',\n",
       " '|HEAD| Santos F.C.||| member of sports team']"
      ]
     },
     "execution_count": 141,
     "metadata": {},
     "output_type": "execute_result"
    }
   ],
   "source": [
    "train_inputs[:10]"
   ]
  },
  {
   "cell_type": "code",
   "execution_count": 142,
   "id": "093269a3",
   "metadata": {},
   "outputs": [],
   "source": [
    "import random\n",
    "num_samples = 4000000\n",
    "sample_for_sp_training = random.sample(train_inputs, num_samples)"
   ]
  },
  {
   "cell_type": "code",
   "execution_count": 143,
   "id": "a74b0e87",
   "metadata": {},
   "outputs": [],
   "source": [
    "sp_data_fname = '/scratche/home/apoorv/transformer-kgc/data/wikidata5m_v3/lines_for_sp_training.txt'\n",
    "f = open(sp_data_fname, 'w')\n",
    "for line in sample_for_sp_training:\n",
    "    f.write(line + '\\n')\n",
    "f.close()"
   ]
  },
  {
   "cell_type": "code",
   "execution_count": 72,
   "id": "d6c88f5d",
   "metadata": {},
   "outputs": [
    {
     "name": "stderr",
     "output_type": "stream",
     "text": [
      "sentencepiece_trainer.cc(77) LOG(INFO) Starts training with : \n",
      "trainer_spec {\n",
      "  input: /scratche/home/apoorv/transformer-kgc/data/wikidata5m_v3/lines_for_sp_training.txt\n",
      "  input_format: \n",
      "  model_prefix: sp_wd5m_v3\n",
      "  model_type: BPE\n",
      "  vocab_size: 32000\n",
      "  self_test_sample_size: 0\n",
      "  character_coverage: 1\n",
      "  input_sentence_size: 0\n",
      "  shuffle_input_sentence: 1\n",
      "  seed_sentencepiece_size: 1000000\n",
      "  shrinking_factor: 0.75\n",
      "  max_sentence_length: 4192\n",
      "  num_threads: 16\n",
      "  num_sub_iterations: 2\n",
      "  max_sentencepiece_length: 16\n",
      "  split_by_unicode_script: 1\n",
      "  split_by_number: 1\n",
      "  split_by_whitespace: 0\n",
      "  split_digits: 0\n",
      "  treat_whitespace_as_suffix: 0\n",
      "  allow_whitespace_only_pieces: 0\n",
      "  user_defined_symbols: |head|\n",
      "  user_defined_symbols: |tail|\n",
      "  user_defined_symbols: |||\n",
      "  required_chars: \n",
      "  byte_fallback: 0\n",
      "  vocabulary_output_piece_score: 1\n",
      "  train_extremely_large_corpus: 0\n",
      "  hard_vocab_limit: 1\n",
      "  use_all_vocab: 0\n",
      "  unk_id: 0\n",
      "  bos_id: 1\n",
      "  eos_id: 2\n",
      "  pad_id: 3\n",
      "  unk_piece: <unk>\n",
      "  bos_piece: <s>\n",
      "  eos_piece: </s>\n",
      "  pad_piece: <pad>\n",
      "  unk_surface:  ⁇ \n",
      "}\n",
      "normalizer_spec {\n",
      "  name: nmt_nfkc\n",
      "  add_dummy_prefix: 1\n",
      "  remove_extra_whitespaces: 1\n",
      "  escape_whitespaces: 1\n",
      "  normalization_rule_tsv: \n",
      "}\n",
      "denormalizer_spec {}\n",
      "trainer_interface.cc(329) LOG(INFO) SentenceIterator is not specified. Using MultiFileSentenceIterator.\n",
      "trainer_interface.cc(178) LOG(INFO) Loading corpus: /scratche/home/apoorv/transformer-kgc/data/wikidata5m_v3/lines_for_sp_training.txt\n",
      "trainer_interface.cc(385) LOG(INFO) Loaded all 200000 sentences\n",
      "trainer_interface.cc(400) LOG(INFO) Adding meta_piece: <unk>\n",
      "trainer_interface.cc(400) LOG(INFO) Adding meta_piece: <s>\n",
      "trainer_interface.cc(400) LOG(INFO) Adding meta_piece: </s>\n",
      "trainer_interface.cc(400) LOG(INFO) Adding meta_piece: <pad>\n",
      "trainer_interface.cc(400) LOG(INFO) Adding meta_piece: |head|\n",
      "trainer_interface.cc(400) LOG(INFO) Adding meta_piece: |tail|\n",
      "trainer_interface.cc(400) LOG(INFO) Adding meta_piece: |||\n",
      "trainer_interface.cc(405) LOG(INFO) Normalizing sentences...\n",
      "trainer_interface.cc(466) LOG(INFO) all chars count=6744598\n",
      "trainer_interface.cc(487) LOG(INFO) Alphabet size=337\n",
      "trainer_interface.cc(488) LOG(INFO) Final character coverage=1\n",
      "trainer_interface.cc(520) LOG(INFO) Done! preprocessed 200000 sentences.\n",
      "bpe_model_trainer.cc(167) LOG(INFO) Updating active symbols. max_freq=108250 min_freq=70\n",
      "bpe_model_trainer.cc(258) LOG(INFO) Added: freq=39114 size=20 all=6929 active=2825 piece=ance▁of\n",
      "bpe_model_trainer.cc(258) LOG(INFO) Added: freq=20062 size=40 all=8548 active=4444 piece=il\n",
      "bpe_model_trainer.cc(258) LOG(INFO) Added: freq=14516 size=60 all=10824 active=6720 piece=pla\n",
      "bpe_model_trainer.cc(258) LOG(INFO) Added: freq=12000 size=80 all=12471 active=8367 piece=▁n\n",
      "bpe_model_trainer.cc(258) LOG(INFO) Added: freq=10067 size=100 all=13831 active=9727 piece=ministr\n",
      "bpe_model_trainer.cc(167) LOG(INFO) Updating active symbols. max_freq=10036 min_freq=542\n",
      "bpe_model_trainer.cc(258) LOG(INFO) Added: freq=9044 size=120 all=15186 active=2350 piece=mer\n",
      "bpe_model_trainer.cc(258) LOG(INFO) Added: freq=8065 size=140 all=17207 active=4371 piece=uman\n",
      "bpe_model_trainer.cc(258) LOG(INFO) Added: freq=6635 size=160 all=20149 active=7313 piece=ang\n",
      "bpe_model_trainer.cc(258) LOG(INFO) Added: freq=5047 size=180 all=23139 active=10303 piece=▁States\n",
      "bpe_model_trainer.cc(258) LOG(INFO) Added: freq=4386 size=200 all=25615 active=12779 piece=ime\n",
      "bpe_model_trainer.cc(167) LOG(INFO) Updating active symbols. max_freq=4351 min_freq=365\n",
      "bpe_model_trainer.cc(258) LOG(INFO) Added: freq=4015 size=220 all=27717 active=3288 piece=▁border\n",
      "bpe_model_trainer.cc(258) LOG(INFO) Added: freq=3526 size=240 all=29401 active=4972 piece=ootball\n",
      "bpe_model_trainer.cc(258) LOG(INFO) Added: freq=3090 size=260 all=31124 active=6695 piece=▁play\n",
      "bpe_model_trainer.cc(258) LOG(INFO) Added: freq=2699 size=280 all=34053 active=9624 piece=olit\n",
      "bpe_model_trainer.cc(258) LOG(INFO) Added: freq=2412 size=300 all=36485 active=12056 piece=ill\n",
      "bpe_model_trainer.cc(167) LOG(INFO) Updating active symbols. max_freq=2406 min_freq=217\n",
      "bpe_model_trainer.cc(258) LOG(INFO) Added: freq=2199 size=320 all=38360 active=3482 piece=▁signed\n",
      "bpe_model_trainer.cc(258) LOG(INFO) Added: freq=1997 size=340 all=40075 active=5197 piece=▁part\n",
      "bpe_model_trainer.cc(258) LOG(INFO) Added: freq=1796 size=360 all=41890 active=7012 piece=ob\n",
      "bpe_model_trainer.cc(258) LOG(INFO) Added: freq=1685 size=380 all=43185 active=8307 piece=own\n",
      "bpe_model_trainer.cc(258) LOG(INFO) Added: freq=1577 size=400 all=45094 active=10216 piece=der\n",
      "bpe_model_trainer.cc(167) LOG(INFO) Updating active symbols. max_freq=1556 min_freq=161\n",
      "bpe_model_trainer.cc(258) LOG(INFO) Added: freq=1471 size=420 all=46972 active=3994 piece=ational\n",
      "bpe_model_trainer.cc(258) LOG(INFO) Added: freq=1379 size=440 all=48957 active=5979 piece=political\n",
      "bpe_model_trainer.cc(258) LOG(INFO) Added: freq=1291 size=460 all=50508 active=7530 piece=▁film▁or▁TV▁show\n",
      "bpe_model_trainer.cc(258) LOG(INFO) Added: freq=1136 size=480 all=52613 active=9635 piece=▁station\n",
      "bpe_model_trainer.cc(258) LOG(INFO) Added: freq=1063 size=500 all=54753 active=11775 piece=ann\n",
      "bpe_model_trainer.cc(167) LOG(INFO) Updating active symbols. max_freq=1061 min_freq=124\n",
      "bpe_model_trainer.cc(258) LOG(INFO) Added: freq=998 size=520 all=57171 active=4951 piece=ikim\n",
      "bpe_model_trainer.cc(258) LOG(INFO) Added: freq=941 size=540 all=58865 active=6645 piece=▁Olympics\n",
      "bpe_model_trainer.cc(258) LOG(INFO) Added: freq=897 size=560 all=60700 active=8480 piece=end\n",
      "bpe_model_trainer.cc(258) LOG(INFO) Added: freq=855 size=580 all=62704 active=10484 piece=orn\n",
      "bpe_model_trainer.cc(258) LOG(INFO) Added: freq=803 size=600 all=64972 active=12752 piece=ater\n",
      "bpe_model_trainer.cc(167) LOG(INFO) Updating active symbols. max_freq=803 min_freq=99\n",
      "bpe_model_trainer.cc(258) LOG(INFO) Added: freq=774 size=620 all=66274 active=4435 piece=▁group\n",
      "bpe_model_trainer.cc(258) LOG(INFO) Added: freq=746 size=640 all=67699 active=5860 piece=Sp\n",
      "bpe_model_trainer.cc(258) LOG(INFO) Added: freq=720 size=660 all=68968 active=7129 piece=fiel\n",
      "bpe_model_trainer.cc(258) LOG(INFO) Added: freq=683 size=680 all=70638 active=8799 piece=eter\n",
      "bpe_model_trainer.cc(258) LOG(INFO) Added: freq=648 size=700 all=72322 active=10483 piece=▁un\n",
      "bpe_model_trainer.cc(167) LOG(INFO) Updating active symbols. max_freq=645 min_freq=85\n",
      "bpe_model_trainer.cc(258) LOG(INFO) Added: freq=628 size=720 all=73928 active=5145 piece=▁Party\n",
      "bpe_model_trainer.cc(258) LOG(INFO) Added: freq=604 size=740 all=75442 active=6659 piece=oth\n",
      "bpe_model_trainer.cc(258) LOG(INFO) Added: freq=575 size=760 all=77439 active=8656 piece=oph\n",
      "bpe_model_trainer.cc(258) LOG(INFO) Added: freq=558 size=780 all=79476 active=10693 piece=▁Is\n",
      "bpe_model_trainer.cc(258) LOG(INFO) Added: freq=538 size=800 all=81351 active=12568 piece=▁II\n",
      "bpe_model_trainer.cc(167) LOG(INFO) Updating active symbols. max_freq=536 min_freq=73\n",
      "bpe_model_trainer.cc(258) LOG(INFO) Added: freq=512 size=820 all=83147 active=5702 piece=Hen\n",
      "bpe_model_trainer.cc(258) LOG(INFO) Added: freq=499 size=840 all=84431 active=6986 piece=▁film▁by\n",
      "bpe_model_trainer.cc(258) LOG(INFO) Added: freq=481 size=860 all=85646 active=8201 piece=ington\n",
      "bpe_model_trainer.cc(258) LOG(INFO) Added: freq=467 size=880 all=87260 active=9815 piece=describ\n",
      "bpe_model_trainer.cc(258) LOG(INFO) Added: freq=457 size=900 all=89495 active=12050 piece=ins\n",
      "bpe_model_trainer.cc(167) LOG(INFO) Updating active symbols. max_freq=457 min_freq=63\n",
      "bpe_model_trainer.cc(258) LOG(INFO) Added: freq=441 size=920 all=91193 active=6024 piece=ster\n",
      "bpe_model_trainer.cc(258) LOG(INFO) Added: freq=429 size=940 all=92372 active=7203 piece=a▁M\n",
      "bpe_model_trainer.cc(258) LOG(INFO) Added: freq=416 size=960 all=94085 active=8916 piece=lack\n",
      "bpe_model_trainer.cc(258) LOG(INFO) Added: freq=405 size=980 all=95438 active=10269 piece=Tom\n",
      "bpe_model_trainer.cc(258) LOG(INFO) Added: freq=397 size=1000 all=96989 active=11820 piece=ity▁in\n",
      "bpe_model_trainer.cc(167) LOG(INFO) Updating active symbols. max_freq=397 min_freq=55\n",
      "bpe_model_trainer.cc(258) LOG(INFO) Added: freq=385 size=1020 all=98294 active=6107 piece=twin\n",
      "bpe_model_trainer.cc(258) LOG(INFO) Added: freq=373 size=1040 all=100316 active=8129 piece=rew\n",
      "bpe_model_trainer.cc(258) LOG(INFO) Added: freq=355 size=1060 all=102325 active=10138 piece=ki\n",
      "bpe_model_trainer.cc(258) LOG(INFO) Added: freq=346 size=1080 all=103854 active=11667 piece=▁Park\n",
      "bpe_model_trainer.cc(258) LOG(INFO) Added: freq=341 size=1100 all=105673 active=13486 piece=ideo▁game\n",
      "bpe_model_trainer.cc(167) LOG(INFO) Updating active symbols. max_freq=340 min_freq=49\n",
      "bpe_model_trainer.cc(258) LOG(INFO) Added: freq=333 size=1120 all=107184 active=6780 piece=urer\n",
      "bpe_model_trainer.cc(258) LOG(INFO) Added: freq=325 size=1140 all=108745 active=8341 piece=und\n",
      "bpe_model_trainer.cc(258) LOG(INFO) Added: freq=317 size=1160 all=110230 active=9826 piece=▁El\n",
      "bpe_model_trainer.cc(258) LOG(INFO) Added: freq=311 size=1180 all=111868 active=11464 piece=ez\n",
      "bpe_model_trainer.cc(258) LOG(INFO) Added: freq=304 size=1200 all=113831 active=13427 piece=erry\n",
      "bpe_model_trainer.cc(167) LOG(INFO) Updating active symbols. max_freq=303 min_freq=44\n",
      "bpe_model_trainer.cc(258) LOG(INFO) Added: freq=298 size=1220 all=114928 active=6703 piece=oz\n",
      "bpe_model_trainer.cc(258) LOG(INFO) Added: freq=292 size=1240 all=116254 active=8029 piece=ethnic\n",
      "bpe_model_trainer.cc(258) LOG(INFO) Added: freq=288 size=1260 all=117380 active=9155 piece=▁Reg\n",
      "bpe_model_trainer.cc(258) LOG(INFO) Added: freq=282 size=1280 all=118590 active=10365 piece=Ac\n",
      "bpe_model_trainer.cc(258) LOG(INFO) Added: freq=277 size=1300 all=119890 active=11665 piece=osh\n",
      "bpe_model_trainer.cc(167) LOG(INFO) Updating active symbols. max_freq=277 min_freq=40\n",
      "bpe_model_trainer.cc(258) LOG(INFO) Added: freq=271 size=1320 all=121468 active=7464 piece=production\n",
      "bpe_model_trainer.cc(258) LOG(INFO) Added: freq=266 size=1340 all=123134 active=9130 piece=eri\n",
      "bpe_model_trainer.cc(258) LOG(INFO) Added: freq=261 size=1360 all=124129 active=10125 piece=aut\n",
      "bpe_model_trainer.cc(258) LOG(INFO) Added: freq=254 size=1380 all=126095 active=12091 piece=▁4\n",
      "bpe_model_trainer.cc(258) LOG(INFO) Added: freq=248 size=1400 all=127743 active=13739 piece=▁Smith\n",
      "bpe_model_trainer.cc(167) LOG(INFO) Updating active symbols. max_freq=247 min_freq=37\n",
      "bpe_model_trainer.cc(258) LOG(INFO) Added: freq=242 size=1420 all=129147 active=7669 piece=narrative\n",
      "bpe_model_trainer.cc(258) LOG(INFO) Added: freq=238 size=1440 all=130404 active=8926 piece=▁rock\n",
      "bpe_model_trainer.cc(258) LOG(INFO) Added: freq=234 size=1460 all=131665 active=10187 piece=Lu\n",
      "bpe_model_trainer.cc(258) LOG(INFO) Added: freq=229 size=1480 all=132379 active=10901 piece=rack\n",
      "bpe_model_trainer.cc(258) LOG(INFO) Added: freq=226 size=1500 all=133970 active=12492 piece=ried\n",
      "bpe_model_trainer.cc(167) LOG(INFO) Updating active symbols. max_freq=226 min_freq=34\n",
      "bpe_model_trainer.cc(258) LOG(INFO) Added: freq=222 size=1520 all=135228 active=7907 piece=rook\n",
      "bpe_model_trainer.cc(258) LOG(INFO) Added: freq=218 size=1540 all=136352 active=9031 piece=ffer\n",
      "bpe_model_trainer.cc(258) LOG(INFO) Added: freq=214 size=1560 all=137325 active=10004 piece=Albert\n",
      "bpe_model_trainer.cc(258) LOG(INFO) Added: freq=210 size=1580 all=138461 active=11140 piece=World▁War\n",
      "bpe_model_trainer.cc(258) LOG(INFO) Added: freq=207 size=1600 all=139298 active=11977 piece=▁Academy▁of\n",
      "bpe_model_trainer.cc(167) LOG(INFO) Updating active symbols. max_freq=206 min_freq=32\n",
      "bpe_model_trainer.cc(258) LOG(INFO) Added: freq=202 size=1620 all=140500 active=8133 piece=Kar\n",
      "bpe_model_trainer.cc(258) LOG(INFO) Added: freq=198 size=1640 all=141754 active=9387 piece=Martin\n",
      "bpe_model_trainer.cc(258) LOG(INFO) Added: freq=193 size=1660 all=142446 active=10079 piece=kin\n",
      "bpe_model_trainer.cc(258) LOG(INFO) Added: freq=190 size=1680 all=143862 active=11495 piece=gent\n",
      "bpe_model_trainer.cc(258) LOG(INFO) Added: freq=187 size=1700 all=144834 active=12467 piece=exas\n",
      "bpe_model_trainer.cc(167) LOG(INFO) Updating active symbols. max_freq=187 min_freq=30\n",
      "bpe_model_trainer.cc(258) LOG(INFO) Added: freq=186 size=1720 all=145936 active=8320 piece=etherlands\n",
      "bpe_model_trainer.cc(258) LOG(INFO) Added: freq=183 size=1740 all=147302 active=9686 piece=▁used\n",
      "bpe_model_trainer.cc(258) LOG(INFO) Added: freq=180 size=1760 all=148729 active=11113 piece=▁Per\n",
      "bpe_model_trainer.cc(258) LOG(INFO) Added: freq=176 size=1780 all=149877 active=12261 piece=err\n",
      "bpe_model_trainer.cc(258) LOG(INFO) Added: freq=174 size=1800 all=150840 active=13224 piece=romos\n",
      "bpe_model_trainer.cc(167) LOG(INFO) Updating active symbols. max_freq=174 min_freq=29\n",
      "bpe_model_trainer.cc(258) LOG(INFO) Added: freq=172 size=1820 all=152193 active=8890 piece=filming\n",
      "bpe_model_trainer.cc(258) LOG(INFO) Added: freq=170 size=1840 all=153269 active=9966 piece=▁terrain\n",
      "bpe_model_trainer.cc(258) LOG(INFO) Added: freq=167 size=1860 all=154243 active=10940 piece=ittle\n",
      "bpe_model_trainer.cc(258) LOG(INFO) Added: freq=165 size=1880 all=1"
     ]
    },
    {
     "ename": "KeyboardInterrupt",
     "evalue": "",
     "output_type": "error",
     "traceback": [
      "\u001b[0;31m---------------------------------------------------------------------------\u001b[0m",
      "\u001b[0;31mKeyboardInterrupt\u001b[0m                         Traceback (most recent call last)",
      "\u001b[0;32m/tmp/ipykernel_5959/4027635946.py\u001b[0m in \u001b[0;36m<module>\u001b[0;34m\u001b[0m\n\u001b[1;32m      6\u001b[0m \u001b[0muser_defined_symbols\u001b[0m \u001b[0;34m=\u001b[0m \u001b[0;34m[\u001b[0m\u001b[0;34m' |head|'\u001b[0m\u001b[0;34m,\u001b[0m \u001b[0;34m' |tail|'\u001b[0m\u001b[0;34m,\u001b[0m \u001b[0;34m'|||'\u001b[0m\u001b[0;34m]\u001b[0m\u001b[0;34m\u001b[0m\u001b[0;34m\u001b[0m\u001b[0m\n\u001b[1;32m      7\u001b[0m \u001b[0;31m# user_defined_symbols = ['|||']\u001b[0m\u001b[0;34m\u001b[0m\u001b[0;34m\u001b[0m\u001b[0;34m\u001b[0m\u001b[0m\n\u001b[0;32m----> 8\u001b[0;31m sp = spm.SentencePieceTrainer.train(input=sp_data_fname,\n\u001b[0m\u001b[1;32m      9\u001b[0m                                     \u001b[0mmodel_prefix\u001b[0m\u001b[0;34m=\u001b[0m\u001b[0;34m'sp_wd5m_v3'\u001b[0m\u001b[0;34m,\u001b[0m\u001b[0;34m\u001b[0m\u001b[0;34m\u001b[0m\u001b[0m\n\u001b[1;32m     10\u001b[0m                                     \u001b[0mvocab_size\u001b[0m\u001b[0;34m=\u001b[0m\u001b[0mvocab_size\u001b[0m\u001b[0;34m,\u001b[0m\u001b[0;34m\u001b[0m\u001b[0;34m\u001b[0m\u001b[0m\n",
      "\u001b[0;32m/scratche/home/apoorv/transformer-kgc/kgc_env/lib/python3.8/site-packages/sentencepiece/__init__.py\u001b[0m in \u001b[0;36mTrain\u001b[0;34m(arg, **kwargs)\u001b[0m\n\u001b[1;32m    442\u001b[0m           \u001b[0;32mreturn\u001b[0m \u001b[0mSentencePieceTrainer\u001b[0m\u001b[0;34m.\u001b[0m\u001b[0m_TrainFromMap2\u001b[0m\u001b[0;34m(\u001b[0m\u001b[0mnew_kwargs\u001b[0m\u001b[0;34m,\u001b[0m \u001b[0msentence_iterator\u001b[0m\u001b[0;34m)\u001b[0m\u001b[0;34m\u001b[0m\u001b[0;34m\u001b[0m\u001b[0m\n\u001b[1;32m    443\u001b[0m         \u001b[0;32melse\u001b[0m\u001b[0;34m:\u001b[0m\u001b[0;34m\u001b[0m\u001b[0;34m\u001b[0m\u001b[0m\n\u001b[0;32m--> 444\u001b[0;31m           \u001b[0;32mreturn\u001b[0m \u001b[0mSentencePieceTrainer\u001b[0m\u001b[0;34m.\u001b[0m\u001b[0m_TrainFromMap\u001b[0m\u001b[0;34m(\u001b[0m\u001b[0mnew_kwargs\u001b[0m\u001b[0;34m)\u001b[0m\u001b[0;34m\u001b[0m\u001b[0;34m\u001b[0m\u001b[0m\n\u001b[0m\u001b[1;32m    445\u001b[0m \u001b[0;34m\u001b[0m\u001b[0m\n\u001b[1;32m    446\u001b[0m       \u001b[0;32mreturn\u001b[0m \u001b[0;32mNone\u001b[0m\u001b[0;34m\u001b[0m\u001b[0;34m\u001b[0m\u001b[0m\n",
      "\u001b[0;32m/scratche/home/apoorv/transformer-kgc/kgc_env/lib/python3.8/site-packages/sentencepiece/__init__.py\u001b[0m in \u001b[0;36m_TrainFromMap\u001b[0;34m(args)\u001b[0m\n\u001b[1;32m    387\u001b[0m     \u001b[0;34m@\u001b[0m\u001b[0mstaticmethod\u001b[0m\u001b[0;34m\u001b[0m\u001b[0;34m\u001b[0m\u001b[0m\n\u001b[1;32m    388\u001b[0m     \u001b[0;32mdef\u001b[0m \u001b[0m_TrainFromMap\u001b[0m\u001b[0;34m(\u001b[0m\u001b[0margs\u001b[0m\u001b[0;34m)\u001b[0m\u001b[0;34m:\u001b[0m\u001b[0;34m\u001b[0m\u001b[0;34m\u001b[0m\u001b[0m\n\u001b[0;32m--> 389\u001b[0;31m         \u001b[0;32mreturn\u001b[0m \u001b[0m_sentencepiece\u001b[0m\u001b[0;34m.\u001b[0m\u001b[0mSentencePieceTrainer__TrainFromMap\u001b[0m\u001b[0;34m(\u001b[0m\u001b[0margs\u001b[0m\u001b[0;34m)\u001b[0m\u001b[0;34m\u001b[0m\u001b[0;34m\u001b[0m\u001b[0m\n\u001b[0m\u001b[1;32m    390\u001b[0m \u001b[0;34m\u001b[0m\u001b[0m\n\u001b[1;32m    391\u001b[0m     \u001b[0;34m@\u001b[0m\u001b[0mstaticmethod\u001b[0m\u001b[0;34m\u001b[0m\u001b[0;34m\u001b[0m\u001b[0m\n",
      "\u001b[0;31mKeyboardInterrupt\u001b[0m: "
     ]
    },
    {
     "name": "stderr",
     "output_type": "stream",
     "text": [
      "55331 active=12028 piece=uff\n",
      "bpe_model_trainer.cc(258) LOG(INFO) Added: freq=163 size=1900 all=156260 active=12957 piece=▁man\n",
      "bpe_model_trainer.cc(167) LOG(INFO) Updating active symbols. max_freq=163 min_freq=27\n",
      "bpe_model_trainer.cc(258) LOG(INFO) Added: freq=161 size=1920 all=157037 active=8553 piece=▁(19\n",
      "bpe_model_trainer.cc(258) LOG(INFO) Added: freq=159 size=1940 all=157934 active=9450 piece=Bl\n",
      "bpe_model_trainer.cc(258) LOG(INFO) Added: freq=157 size=1960 all=159335 active=10851 piece=lop\n",
      "bpe_model_trainer.cc(258) LOG(INFO) Added: freq=155 size=1980 all=160734 active=12250 piece=arn\n",
      "bpe_model_trainer.cc(258) LOG(INFO) Added: freq=154 size=2000 all=162232 active=13748 piece=▁International\n",
      "bpe_model_trainer.cc(167) LOG(INFO) Updating active symbols. max_freq=153 min_freq=25\n",
      "bpe_model_trainer.cc(258) LOG(INFO) Added: freq=152 size=2020 all=163417 active=9242 piece=ed▁in\n",
      "bpe_model_trainer.cc(258) LOG(INFO) Added: freq=150 size=2040 all=164715 active=10540 piece=▁mus\n",
      "bpe_model_trainer.cc(258) LOG(INFO) Added: freq=147 size=2060 all=165674 active=11499 piece=▁Green\n",
      "bpe_model_trainer.cc(258) LOG(INFO) Added: freq=145 size=2080 all=166661 active=12486 piece=aff\n",
      "bpe_model_trainer.cc(258) LOG(INFO) Added: freq=144 size=2100 all=167692 active=13517 piece=▁conc\n",
      "bpe_model_trainer.cc(167) LOG(INFO) Updating active symbols. max_freq=144 min_freq=24\n",
      "bpe_model_trainer.cc(258) LOG(INFO) Added: freq=142 size=2120 all=169014 active=9688 piece=▁Duke▁of\n",
      "bpe_model_trainer.cc(258) LOG(INFO) Added: freq=140 size=2140 all=169989 active=10663 piece=vin\n",
      "bpe_model_trainer.cc(258) LOG(INFO) Added: freq=138 size=2160 all=171126 active=11800 piece=lah\n",
      "bpe_model_trainer.cc(258) LOG(INFO) Added: freq=137 size=2180 all=172375 active=13049 piece=omer\n",
      "bpe_model_trainer.cc(258) LOG(INFO) Added: freq=136 size=2200 all=173321 active=13995 piece=Sweden\n",
      "bpe_model_trainer.cc(167) LOG(INFO) Updating active symbols. max_freq=136 min_freq=23\n",
      "bpe_model_trainer.cc(258) LOG(INFO) Added: freq=134 size=2220 all=174317 active=9660 piece=bour\n",
      "bpe_model_trainer.cc(258) LOG(INFO) Added: freq=133 size=2240 all=175654 active=10997 piece=▁Cross\n",
      "bpe_model_trainer.cc(258) LOG(INFO) Added: freq=132 size=2260 all=176934 active=12277 piece=▁place\n",
      "bpe_model_trainer.cc(258) LOG(INFO) Added: freq=130 size=2280 all=177794 active=13137 piece=▁be\n",
      "bpe_model_trainer.cc(258) LOG(INFO) Added: freq=129 size=2300 all=178630 active=13973 piece=▁Arts\n",
      "bpe_model_trainer.cc(167) LOG(INFO) Updating active symbols. max_freq=129 min_freq=22\n",
      "bpe_model_trainer.cc(258) LOG(INFO) Added: freq=127 size=2320 all=179601 active=9874 piece=çois\n",
      "bpe_model_trainer.cc(258) LOG(INFO) Added: freq=126 size=2340 all=180654 active=10927 piece=▁fiction\n",
      "bpe_model_trainer.cc(258) LOG(INFO) Added: freq=124 size=2360 all=181677 active=11950 piece=rug\n",
      "bpe_model_trainer.cc(258) LOG(INFO) Added: freq=123 size=2380 all=182571 active=12844 piece=ides\n",
      "bpe_model_trainer.cc(258) LOG(INFO) Added: freq=122 size=2400 all=183901 active=14174 piece=The▁S\n",
      "bpe_model_trainer.cc(167) LOG(INFO) Updating active symbols. max_freq=122 min_freq=21\n",
      "bpe_model_trainer.cc(258) LOG(INFO) Added: freq=120 size=2420 all=185052 active=10287 piece=fect\n",
      "bpe_model_trainer.cc(258) LOG(INFO) Added: freq=119 size=2440 all=185869 active=11104 piece=line\n",
      "bpe_model_trainer.cc(258) LOG(INFO) Added: freq=118 size=2460 all=186581 active=11816 piece=Frederick\n",
      "bpe_model_trainer.cc(258) LOG(INFO) Added: freq=116 size=2480 all=187510 active=12745 piece=▁met\n",
      "bpe_model_trainer.cc(258) LOG(INFO) Added: freq=114 size=2500 all=188635 active=13870 piece=ext\n",
      "bpe_model_trainer.cc(167) LOG(INFO) Updating active symbols. max_freq=114 min_freq=20\n",
      "bpe_model_trainer.cc(258) LOG(INFO) Added: freq=113 size=2520 all=189781 active=10550 piece=ji\n",
      "bpe_model_trainer.cc(258) LOG(INFO) Added: freq=112 size=2540 all=190970 active=11739 piece=▁Black\n",
      "bpe_model_trainer.cc(258) LOG(INFO) Added: freq=111 size=2560 all=192223 active=12992 piece=imming\n",
      "bpe_model_trainer.cc(258) LOG(INFO) Added: freq=110 size=2580 all=192881 active=13650 piece=Republican▁Party\n",
      "bpe_model_trainer.cc(258) LOG(INFO) Added: freq=109 size=2600 all=193939 active=14708 piece=▁Historic\n",
      "bpe_model_trainer.cc(167) LOG(INFO) Updating active symbols. max_freq=109 min_freq=19\n",
      "bpe_model_trainer.cc(258) LOG(INFO) Added: freq=107 size=2620 all=194856 active=10555 piece=Bor\n",
      "bpe_model_trainer.cc(258) LOG(INFO) Added: freq=107 size=2640 all=195509 active=11208 piece=▁United▁F\n",
      "bpe_model_trainer.cc(258) LOG(INFO) Added: freq=106 size=2660 all=196276 active=11975 piece=▁Pict\n",
      "bpe_model_trainer.cc(258) LOG(INFO) Added: freq=105 size=2680 all=197228 active=12927 piece=Michel\n",
      "bpe_model_trainer.cc(258) LOG(INFO) Added: freq=103 size=2700 all=197894 active=13593 piece=chi\n",
      "bpe_model_trainer.cc(167) LOG(INFO) Updating active symbols. max_freq=103 min_freq=18\n",
      "bpe_model_trainer.cc(258) LOG(INFO) Added: freq=102 size=2720 all=198729 active=10659 piece=▁8\n",
      "bpe_model_trainer.cc(258) LOG(INFO) Added: freq=101 size=2740 all=199394 active=11324 piece=The▁P\n",
      "bpe_model_trainer.cc(258) LOG(INFO) Added: freq=100 size=2760 all=200355 active=12285 piece=ospital\n",
      "bpe_model_trainer.cc(258) LOG(INFO) Added: freq=99 size=2780 all=201474 active=13404 piece=▁Martin\n",
      "bpe_model_trainer.cc(258) LOG(INFO) Added: freq=98 size=2800 all=202372 active=14302 piece=ertain\n",
      "bpe_model_trainer.cc(167) LOG(INFO) Updating active symbols. max_freq=98 min_freq=18\n",
      "bpe_model_trainer.cc(258) LOG(INFO) Added: freq=97 size=2820 all=203224 active=10960 piece=akistan\n",
      "bpe_model_trainer.cc(258) LOG(INFO) Added: freq=96 size=2840 all=203930 active=11666 piece=▁Valley\n",
      "bpe_model_trainer.cc(258) LOG(INFO) Added: freq=95 size=2860 all=204853 active=12589 piece=rant\n",
      "bpe_model_trainer.cc(258) LOG(INFO) Added: freq=94 size=2880 all=205811 active=13547 piece=jazz\n",
      "bpe_model_trainer.cc(258) LOG(INFO) Added: freq=93 size=2900 all=206451 active=14187 piece=Ter\n",
      "bpe_model_trainer.cc(167) LOG(INFO) Updating active symbols. max_freq=93 min_freq=17\n",
      "bpe_model_trainer.cc(258) LOG(INFO) Added: freq=93 size=2920 all=207533 active=11362 piece=residential\n",
      "bpe_model_trainer.cc(258) LOG(INFO) Added: freq=92 size=2940 all=208564 active=12393 piece=Nikola\n",
      "bpe_model_trainer.cc(258) LOG(INFO) Added: freq=91 size=2960 all=209110 active=12939 piece=ross\n",
      "bpe_model_trainer.cc(258) LOG(INFO) Added: freq=91 size=2980 all=210025 active=13854 piece=▁rugby▁union\n",
      "bpe_model_trainer.cc(258) LOG(INFO) Added: freq=89 size=3000 all=210947 active=14776 piece=eed\n",
      "bpe_model_trainer.cc(167) LOG(INFO) Updating active symbols. max_freq=89 min_freq=17\n",
      "bpe_model_trainer.cc(258) LOG(INFO) Added: freq=89 size=3020 all=211659 active=11230 piece=Italian\n",
      "bpe_model_trainer.cc(258) LOG(INFO) Added: freq=88 size=3040 all=212560 active=12131 piece=ashi\n",
      "bpe_model_trainer.cc(258) LOG(INFO) Added: freq=87 size=3060 all=213320 active=12891 piece=Kim\n",
      "bpe_model_trainer.cc(258) LOG(INFO) Added: freq=87 size=3080 all=214097 active=13668 piece=▁sport\n",
      "bpe_model_trainer.cc(258) LOG(INFO) Added: freq=86 size=3100 all=214745 active=14316 piece=hood\n",
      "bpe_model_trainer.cc(167) LOG(INFO) Updating active symbols. max_freq=86 min_freq=16\n",
      "bpe_model_trainer.cc(258) LOG(INFO) Added: freq=85 size=3120 all=215423 active=11394 piece=▁Ha\n",
      "bpe_model_trainer.cc(258) LOG(INFO) Added: freq=84 size=3140 all=215992 active=11963 piece=ée\n",
      "bpe_model_trainer.cc(258) LOG(INFO) Added: freq=84 size=3160 all=216902 active=12873 piece=▁Serv\n",
      "bpe_model_trainer.cc(258) LOG(INFO) Added: freq=83 size=3180 all=217652 active=13623 piece=Giov\n",
      "bpe_model_trainer.cc(258) LOG(INFO) Added: freq=82 size=3200 all=218161 active=14132 piece=Fer\n",
      "bpe_model_trainer.cc(167) LOG(INFO) Updating active symbols. max_freq=82 min_freq=16\n",
      "bpe_model_trainer.cc(258) LOG(INFO) Added: freq=82 size=3220 all=219052 active=11776 piece=player\n",
      "bpe_model_trainer.cc(258) LOG(INFO) Added: freq=81 size=3240 all=219795 active=12519 piece=Arch\n",
      "bpe_model_trainer.cc(258) LOG(INFO) Added: freq=81 size=3260 all=220725 active=13449 piece=▁studio\n",
      "bpe_model_trainer.cc(258) LOG(INFO) Added: freq=80 size=3280 all=221580 active=14304 piece=▁Chap\n",
      "bpe_model_trainer.cc(258) LOG(INFO) Added: freq=79 size=3300 all=222317 active=15041 piece=▁Dan\n",
      "bpe_model_trainer.cc(167) LOG(INFO) Updating active symbols. max_freq=79 min_freq=15\n",
      "bpe_model_trainer.cc(258) LOG(INFO) Added: freq=78 size=3320 all=223101 active=11818 piece=Bud\n",
      "bpe_model_trainer.cc(258) LOG(INFO) Added: freq=78 size=3340 all=224176 active=12893 piece=Jason\n",
      "bpe_model_trainer.cc(258) LOG(INFO) Added: freq=77 size=3360 all=224780 active=13497 piece=▁Ok\n",
      "bpe_model_trainer.cc(258) LOG(INFO) Added: freq=77 size=3380 all=225489 active=14206 piece=iladelphia\n",
      "bpe_model_trainer.cc(258) LOG(INFO) Added: freq=76 size=3400 all=226118 active=14835 piece=ublin\n",
      "bpe_model_trainer.cc(167) LOG(INFO) Updating active symbols. max_freq=76 min_freq=15\n",
      "bpe_model_trainer.cc(258) LOG(INFO) Added: freq=75 size=3420 all=226781 active=11956 piece=lia\n",
      "bpe_model_trainer.cc(258) LOG(INFO) Added: freq=75 size=3440 all=227711 active=12886 piece=enberg\n",
      "bpe_model_trainer.cc(258) LOG(INFO) Added: freq=74 size=3460 all=228085 active=13260 piece=car\n",
      "bpe_model_trainer.cc(258) LOG(INFO) Added: freq=74 size=3480 all=228908 active=14083 piece=ilation\n",
      "bpe_model_trainer.cc(258) LOG(INFO) Added: freq=73 size=3500 all=229415 active=14590 piece=coln\n",
      "bpe_model_trainer.cc(167) LOG(INFO) Updating active symbols. max_freq=73 min_freq=14\n",
      "bpe_model_trainer.cc(258) LOG(INFO) Added: freq=73 size=3520 all=230041 active=12078 piece=▁professional\n",
      "bpe_model_trainer.cc(258) LOG(INFO) Added: freq=72 size=3540 all=230635 active=12672 piece=Serbia\n",
      "bpe_model_trainer.cc(258) LOG(INFO) Added: freq=71 size=3560 all=231337 active=13374 piece=Old\n",
      "bpe_model_trainer.cc(258) LOG(INFO) Added: freq=71 size=3580 all=232282 active=14319 piece=office\n",
      "bpe_model_trainer.cc(258) LOG(INFO) Added: freq=70 size=3600 all=232550 active=14587 piece=emy\n",
      "bpe_model_trainer.cc(167) LOG(INFO) Updating active symbols. max_freq=70 min_freq=14\n",
      "bpe_model_trainer.cc(258) LOG(INFO) Added: freq=70 size=3620 all=233311 active=12336 piece=▁Beach\n",
      "bpe_model_trainer.cc(258) LOG(INFO) Added: freq=69 size=3640 all=233690 active=12715 piece=gi\n",
      "bpe_model_trainer.cc(258) LOG(INFO) Added: freq=69 size=3660 all=234390 active=13415 piece=Herbert\n",
      "bpe_model_trainer.cc(258) LOG(INFO) Added: freq=68 size=3680 all=234780 active=13805 piece=Vol\n",
      "bpe_model_trainer.cc(258) LOG(INFO) Added: freq=68 size=3700 all=235561 active=14586 piece=▁Rodr\n",
      "bpe_model_trainer.cc(167) LOG(INFO) Updating active symbols. max_freq=68 min_freq=14\n",
      "bpe_model_trainer.cc(258) LOG(INFO) Added: freq=67 size=3720 all=236263 active=12426 piece=Bang\n",
      "bpe_model_trainer.cc(258) LOG(INFO) Added: freq=67 size=3740 all=237028 active=13191 piece=▁First\n",
      "bpe_model_trainer.cc(258) LOG(INFO) Added: freq=66 size=3760 all=237603 active=13766 piece=ibr\n",
      "bpe_model_trainer.cc(258) LOG(INFO) Added: freq=66 size=3780 all=238511 active=14674 piece=ivision\n",
      "bpe_model_trainer.cc(258) LOG(INFO) Added: freq=65 size=3800 all=239184 active=15347 piece=Neil\n",
      "bpe_model_trainer.cc(167) LOG(INFO) Updating active symbols. max_freq=65 min_freq=13\n",
      "bpe_model_trainer.cc(258) LOG(INFO) Added: freq=64 size=3820 all=239912 active=12650 piece=Eg\n",
      "bpe_model_trainer.cc(258) LOG(INFO) Added: freq=64 size=3840 all=240674 active=13412 piece=ivia\n",
      "bpe_model_trainer.cc(258) LOG(INFO) Added: freq=64 size=3860 all=241283 active=14021 piece=ictionary\n",
      "bpe_model_trainer.cc(258) LOG(INFO) Added: freq=63 size=3880 all=241899 active=14637 piece=▁Bi\n",
      "bpe_model_trainer.cc(258) LOG(INFO) Added: freq=63 size=3900 all=242806 active=15544 piece=▁Service\n",
      "bpe_model_trainer.cc(167) LOG(INFO) Updating active symbols. max_freq=63 min_freq=13\n",
      "bpe_model_trainer.cc(258) LOG(INFO) Added: freq=62 size=3920 all=243320 active=12610 piece=olph\n",
      "bpe_model_trainer.cc(258) LOG(INFO) Added: freq=62 size=3940 all=243939 active=13229 piece=▁Space\n",
      "bpe_model_trainer.cc(258) LOG(INFO) Added: freq=61 size=3960 all=244345 active=13635 piece=Mos\n",
      "bpe_model_trainer.cc(258) LOG(INFO) Added: freq=61 size=3980 all=245073 active=14363 piece=▁Ger\n",
      "bpe_model_trainer.cc(258) LOG(INFO) Added: freq=61 size=4000 all=245820 active=15110 piece=Eastern\n",
      "bpe_model_trainer.cc(167) LOG(INFO) Updating active symbols. max_freq=61 min_freq=13\n",
      "bpe_model_trainer.cc(258) LOG(INFO) Added: freq=60 size=4020 all=246292 active=12744 piece=▁Ta\n",
      "bpe_model_trainer.cc(258) LOG(INFO) Added: freq=60 size=4040 all=247176 active=13628 piece=European\n",
      "bpe_model_trainer.cc(258) LOG(INFO) Added: freq=59 size=4060 all=247644 active=14096 piece=dan\n",
      "bpe_model_trainer.cc(258) LOG(INFO) Added: freq=59 size=4080 all=248457 active=14909 piece=▁seat\n",
      "bpe_model_trainer.cc(258) LOG(INFO) Added: freq=58 size=4100 all=248921 active=15373 piece=Sri\n",
      "bpe_model_trainer.cc(167) LOG(INFO) Updating active symbols. max_freq=58 min_freq=12\n",
      "bpe_model_trainer.cc(258) LOG(INFO) Added: freq=58 size=4120 all=249648 active=13162 piece=ymph\n",
      "bpe_model_trainer.cc(258) LOG(INFO) Added: freq=58 size=4140 all=250145 active=13659 piece=human▁ch\n",
      "bpe_model_trainer.cc(258) LOG(INFO) Added: freq=57 size=4160 all=250620 active=14134 piece=opa\n",
      "bpe_model_trainer.cc(258) LOG(INFO) Added: freq=57 size=4180 all=251404 active=14918 piece=▁Shar\n",
      "bpe_model_trainer.cc(258) LOG(INFO) Added: freq=56 size=4200 all=251817 active=15331 piece=Jun\n",
      "bpe_model_trainer.cc(167) LOG(INFO) Updating active symbols. max_freq=56 min_freq=12\n",
      "bpe_model_trainer.cc(258) LOG(INFO) Added: freq=56 size=4220 all=252418 active=13164 piece=iago\n",
      "bpe_model_trainer.cc(258) LOG(INFO) Added: freq=56 size=4240 all=253090 active=13836 piece=pop▁music\n",
      "bpe_model_trainer.cc(258) LOG(INFO) Added: freq=55 size=4260 all=253472 active=14218 piece=dal\n",
      "bpe_model_trainer.cc(258) LOG(INFO) Added: freq=55 size=4280 all=254220 active=14966 piece=▁Est\n",
      "bpe_model_trainer.cc(258) LOG(INFO) Added: freq=55 size=4300 all=255093 active=15839 piece=wright\n",
      "bpe_model_trainer.cc(167) LOG(INFO) Updating active symbols. max_freq=55 min_freq=12\n",
      "bpe_model_trainer.cc(258) LOG(INFO) Added: freq=54 size=4320 all=255514 active=13168 piece=ban\n",
      "bpe_model_trainer.cc(258) LOG(INFO) Added: freq=54 size=4340 all=256301 active=13955 piece=lades\n",
      "bpe_model_trainer.cc(258) LOG(INFO) Added: freq=54 size=4360 all=256743 active=14397 piece=▁Robinson\n",
      "bpe_model_trainer.cc(258) LOG(INFO) Added: freq=53 size=4380 all=257156 active=14810 piece=anj\n",
      "bpe_model_trainer.cc(258) LOG(INFO) Added: freq=53 size=4400 all=257909 active=15563 piece=Colin\n",
      "bpe_model_trainer.cc(167) LOG(INFO) Updating active symbols. max_freq=53 min_freq=11\n",
      "bpe_model_trainer.cc(258) LOG(INFO) Added: freq=53 size=4420 all=258487 active=13444 piece=applies\n",
      "bpe_model_trainer.cc(258) LOG(INFO) Added: freq=52 size=4440 all=258926 active=13883 piece=o▁V\n",
      "bpe_model_trainer.cc(258) LOG(INFO) Added: freq=52 size=4460 all=259611 active=14568 piece=Johan\n",
      "bpe_model_trainer.cc(258) LOG(INFO) Added: freq=52 size=4480 all=260157 active=15114 piece=▁jurisdiction\n",
      "bpe_model_trainer.cc(258) LOG(INFO) Added: freq=51 size=4500 all=260712 active=15669 piece=oka\n",
      "bpe_model_trainer.cc(167) LOG(INFO) Updating active symbols. max_freq=51 min_freq=11\n",
      "bpe_model_trainer.cc(258) LOG(INFO) Added: freq=51 size=4520 all=261394 active=13678 piece=lahoma\n",
      "bpe_model_trainer.cc(258) LOG(INFO) Added: freq=51 size=4540 all=261749 active=14033 piece=sky▁District\n",
      "bpe_model_trainer.cc(258) LOG(INFO) Added: freq=50 size=4560 all=262235 active=14519 piece=▁Cur\n",
      "bpe_model_trainer.cc(258) LOG(INFO) Added: freq=50 size=4580 all=262839 active=15123 piece=tended\n",
      "bpe_model_trainer.cc(258) LOG(INFO) Added: freq=50 size=4600 all=263275 active=15559 piece=health▁specialty\n",
      "bpe_model_trainer.cc(167) LOG(INFO) Updating active symbols. max_freq=49 min_freq=11\n",
      "bpe_model_trainer.cc(258) LOG(INFO) Added: freq=49 size=4620 all=263947 active=13836 piece=▁Dar\n",
      "bpe_model_trainer.cc(258) LOG(INFO) Added: freq=49 size=4640 all=264697 active=14586 piece=Nathan\n",
      "bpe_mod"
     ]
    }
   ],
   "source": [
    "# now train using reduced sample\n",
    "# training performed using command line python\n",
    "\n",
    "sp_data_fname = '/scratche/home/apoorv/transformer-kgc/data/wikidata5m_v3/lines_for_sp_training.txt'\n",
    "vocab_size = 32000\n",
    "user_defined_symbols = ['|TAIL|', '|HEAD|', '|||']\n",
    "# user_defined_symbols = ['|||']\n",
    "sp = spm.SentencePieceTrainer.train(input=sp_data_fname,\n",
    "                                    model_prefix='sp_wd5m_v3', \n",
    "                                    vocab_size=vocab_size, \n",
    "                                    user_defined_symbols=user_defined_symbols,\n",
    "                                    model_type='BPE',\n",
    "                                    character_coverage=1.0,\n",
    "                                    split_by_whitespace=False, # better compress relations?\n",
    "                                    add_dummy_prefix=True,\n",
    "                                    byte_fallback=True,\n",
    "                                    pad_id=3,\n",
    "                                    train_extremely_large_corpus=True # does nothing for BPE afaik\n",
    "                                   )"
   ]
  },
  {
   "cell_type": "code",
   "execution_count": 146,
   "id": "748933b3",
   "metadata": {},
   "outputs": [],
   "source": [
    "# sp = spm.SentencePieceProcessor(model_file='data/sentencepiece/sp_wd5m_v2.model')\n",
    "sp = spm.SentencePieceProcessor(model_file='sp_wd5m_v3.model')"
   ]
  },
  {
   "cell_type": "code",
   "execution_count": 147,
   "id": "30f95a6e",
   "metadata": {},
   "outputs": [
    {
     "data": {
      "text/plain": [
       "'|TAIL| Lalit Kumar Goel||| instance of'"
      ]
     },
     "execution_count": 147,
     "metadata": {},
     "output_type": "execute_result"
    }
   ],
   "source": [
    "train_inputs[0]"
   ]
  },
  {
   "cell_type": "code",
   "execution_count": 148,
   "id": "7fb89057",
   "metadata": {},
   "outputs": [
    {
     "name": "stdout",
     "output_type": "stream",
     "text": [
      "9\n",
      "5\n",
      "12\n",
      "9\n",
      "6\n",
      "7\n",
      "8\n",
      "7\n",
      "11\n",
      "9\n"
     ]
    }
   ],
   "source": [
    "for i in range(10):\n",
    "    print(len(sp.encode(train_inputs[i])))"
   ]
  },
  {
   "cell_type": "code",
   "execution_count": 151,
   "id": "29b40180",
   "metadata": {},
   "outputs": [
    {
     "data": {
      "text/plain": [
       "[491]"
      ]
     },
     "execution_count": 151,
     "metadata": {},
     "output_type": "execute_result"
    }
   ],
   "source": [
    "sp.encode('America')"
   ]
  },
  {
   "cell_type": "code",
   "execution_count": 152,
   "id": "6241d210",
   "metadata": {},
   "outputs": [
    {
     "data": {
      "text/plain": [
       "'▁America'"
      ]
     },
     "execution_count": 152,
     "metadata": {},
     "output_type": "execute_result"
    }
   ],
   "source": [
    "sp.id_to_piece(491)"
   ]
  },
  {
   "cell_type": "code",
   "execution_count": 154,
   "id": "e964f4ff",
   "metadata": {},
   "outputs": [
    {
     "data": {
      "text/plain": [
       "['|HEAD| x86_64||| platform']"
      ]
     },
     "execution_count": 154,
     "metadata": {},
     "output_type": "execute_result"
    }
   ],
   "source": [
    "# x = \"Who's Got the 10½?\"\n",
    "x = \"Felicia´s svenska suite\"\n",
    "x = \"___\"\n",
    "x = \"|head|x86_64|||platform\"\n",
    "x = \"8½\"\n",
    "x = \"Greatest Hits… So Far!!!\"\n",
    "x = \"|HEAD| x86_64||| platform\"\n",
    "sp.decode([sp.encode(x)])"
   ]
  },
  {
   "cell_type": "code",
   "execution_count": 115,
   "id": "292b0936",
   "metadata": {},
   "outputs": [],
   "source": [
    "# e2wdid = get_entity_wd_id_dict('data/wikidata5m/aliases.txt')\n",
    "entity_names = []\n",
    "fname = \"/scratche/prod/apoorv/wd5m_aliases_entities_v3.txt\"\n",
    "f = open(fname)\n",
    "for line in f:\n",
    "    line = line.rstrip().split('\\t')\n",
    "    entity_names.append(line[1])"
   ]
  },
  {
   "cell_type": "code",
   "execution_count": 119,
   "id": "19ee0ed2",
   "metadata": {},
   "outputs": [
    {
     "data": {
      "application/vnd.jupyter.widget-view+json": {
       "model_id": "e215e37bfec94c7ebc20f311d7688523",
       "version_major": 2,
       "version_minor": 0
      },
      "text/plain": [
       "  0%|          | 0/4818679 [00:00<?, ?it/s]"
      ]
     },
     "metadata": {},
     "output_type": "display_data"
    },
    {
     "name": "stdout",
     "output_type": "stream",
     "text": [
      "61000 Chiba - Japanese family name (千葉)\n",
      "62547 רק מכבי!\n",
      "140473 Takayama - Japanese family name (高山)\n",
      "160930 ʿAbd-al-Wahhāb Ibn-ʿAlī Tāǧ-ad-Dīn as-Subkī\n",
      "165034 Toku-hime - [徳姫] daughter of Oda Nobunaga; wife of Matsudaira Nobuyasu\n",
      "175976 Okazaki - Japanese family name (岡崎)\n",
      "223888 Ji - Chinese surname 季\n",
      "261383 Ji - surname 嵇\n",
      "303545 Fujisawa - family name (藤沢)\n",
      "344226 Ṣabāḥ\n",
      "353996 Song - Korean family name (송)\n",
      "356003 Bo - Chinese surname 薄\n",
      "362237 Jar of Fliesвнщэ\n",
      "380360 Land grant to Ḫunnubat-Nanaya kudurru\n",
      "405888 D♭\n",
      "406256 مهدی گندی\n",
      "408725 B♭\n",
      "438942 Е\n",
      "443303 Mr.Moonlight 〜愛のビッグバンド〜\n",
      "443914 A♭\n",
      "454808 ∞\n",
      "457640 حمزہ نامہ\n",
      "466072 Han - Korean family name (한)\n",
      "489699 ∠ Trigger\n",
      "490493 G♭\n",
      "491797 Sakurai - Japanese family name (櫻井)\n",
      "507155 Reishi-naishinnō - [姈子] daughter emperor Go-Fukakusa\n",
      "508454 AӀexey UӀyukaev\n",
      "512957 Ėngelʹsina Ardanovna Markizova\n",
      "515490 Beinn Ìme\n",
      "532508 E♭\n",
      "540082 Apostolos Angelis - Greek composer, engineer and producer of Εlectronic, Classical and Orchestral music\n",
      "555958 LOL <(^^,)>\n",
      "563464 И\n",
      "568503 X∞Multiplies\n",
      "606488 Π\n",
      "639146 ਅਬਦੁੱਲ ਅਜ਼ੀਜ਼ ਮੋਸਹੁੱਡ\n",
      "644550 Х\n",
      "646782 Qāḍī Zāda al-Rūmī\n",
      "672328 Moon - Korean surname (문)\n",
      "675108 Снова в СССР\n",
      "681299 Ỷ Lan\n",
      "684251 Hryhorіy Yakhymovych\n",
      "700260 ح\n",
      "705217 √69\n",
      "708915 Chen - Korean surname 손\n",
      "718137 Ь\n",
      "719119 سليمان الوحش\n",
      "723197 Lu - Chinese surname Lu 鹿 (pinyin:Lù)\n",
      "724592 عمران عطاری\n",
      "727332 Oh - Korean family name (오)\n",
      "740207 Yang - Korean family name (양)\n",
      "748996 Ю\n",
      "765498 Shōshi-naishinnō - [奨子]  daughter of emperor Go-Uda\n",
      "766474 Yuri - female given name (ゆり)\n",
      "799345 Oyèrónkẹ́ Oyěwùmí\n",
      "801117 HṚṢṬA\n",
      "805354 ƎVO⅃UTION\n",
      "809330 Bora - Korean given name (보라)\n",
      "812884 Daniel Celebration Edition 慶功收藏版\n",
      "824934 Yao - surname 姚\n",
      "826116 SGNL›05\n",
      "833593 Ayala - Ayala a Hebrew language female given name (Hebrew: איילה or אילה‎) 'hind'\n",
      "837593 Pe̍h-ōe-jī\n",
      "848276 Ċensu Tabone\n",
      "853932 Gauḍa\n",
      "854170 Nguyễn Hữu Dũng\n",
      "874000 Р\n",
      "904787 Θ\n",
      "938654 Kerċem Ajax F.C.\n",
      "940103 Τ\n",
      "949375 Kuma\\War\n",
      "952852 Mëkanïk Dëstruktïẁ Kömmandöh\n",
      "963349 Trần Hữu Đông Triều\n",
      "974888 Ц\n",
      "979451 Manna - Bangladeshi film actor, film producer ‍and film organizer\n",
      "987783 امیرعباس آینه‌چی\n",
      "991200 The £1,000,000 Bank Note and Other New Stories\n",
      "991322 Daṇḍin\n",
      "992321 Santa Luċija\n",
      "1006015 Мираб Борис-иҧа Кишьмариа\n",
      "1014989 Ṣafadī, Khalīl ibn Aybak\n",
      "1016636 Yēlǜ Pǔsùwán\n",
      "1028236 Bhartṛhari\n",
      "1037995 Mina®\n",
      "1040521 SYR3: Invito al ĉielo\n",
      "1047244 Uluṟu-Kata Tjuṯa National Park\n",
      "1053492 ژ\n",
      "1054995 Ξ\n",
      "1065514 Ω\n",
      "1065515 Ψ\n",
      "1071418 Ι\n",
      "1071702 ALL SINGLES COMPLETE 〜10th ANNIVERSARY〜\n",
      "1080035 Ẁurdah Ïtah\n",
      "1096244 Nguyễn Hữu An\n",
      "1096717 Phạm Xuân Ẩn\n",
      "1097242 Ḫ\n",
      "1098670 Min - Chinese surname 闵\n",
      "1110701 한벳퐁\n",
      "1114721 Ithica 27 φ 9\n",
      "1132845 Mikhaylov - family name (Михайлов)\n",
      "1137852 Nagahama - Japanese family name (長濱)\n",
      "1139904 Υ\n",
      "1140689 Đặng Hữu Phúc\n",
      "1145924 The Fall Guy - TV series on ABC between 1981‒1986\n",
      "1151432 Χ\n",
      "1158266 Ŭnsan Line\n",
      "1201377 F♯ A♯ ∞\n",
      "1221718 Chervoniy Gіrnik\n",
      "1226476 Η\n",
      "1230337 Харьков\n",
      "1237587 Nguyễn Hữu Anh Tài\n",
      "1250338 змжслсл\n",
      "1253515 Khuất Hữu Long\n",
      "1253848 Syriatel شركة نصابة\n",
      "1254043 Tirukkuṛaḷ\n",
      "1262860 Σ\n",
      "1267899 Ɖ\n",
      "1270201 Mr. Tot Aĉetas Mil Okulojn\n",
      "1292315 Ο\n",
      "1293690 Kerċem\n",
      "1298853 Mei - Chinese surname (梅), transcribed in the Mandarin dialect\n",
      "1328254 Mo - Korean surname 모\n",
      "1328440 Inspector Jappگملعالف\n",
      "1346430 ک\n",
      "1382116 Yun - Chinese surname (雲)\n",
      "1385117 In 0 to ∞\n",
      "1392972 Gun - Korean given name element 건\n",
      "1404147 સાપુતારા\n",
      "1413149 Ν\n",
      "1423788 Щ\n",
      "1425648 Rao - Chinese family name 饶/饒\n",
      "1427805 Leonid Vaseršteĭn\n",
      "1438228 Ф\n",
      "1438839 Ă\n",
      "1470523 باسم الكهربائي\n",
      "1472492 ₤500 Reward\n",
      "1476009 Wei - Chinese surname Wei 魏\n",
      "1478132 Hōjō Shigetoki - [北條茂時] samurai of the late Kamakura period; the last Rensho shogunate\n",
      "1485230 Lưu Hữu Phước\n",
      "1486992 Zhuang - Chinese surname 庄\n",
      "1486994 Κata Τon Daimona Εaytoy\n",
      "1493122 Aleksandr Mikhaĭlovich Evlakhov\n",
      "1499549 Endō - Japanese family name (猿渡)\n",
      "1501000 り\n",
      "1502589 Gjorgji Knјazev\n",
      "1504663 £830,000,000 – Nick Leeson and the Fall of the House\n",
      "1514030 الأعظمية\n",
      "1522223 Ẹni Ògún\n",
      "1533203 Spirit\\Light\\Speed\n",
      "1555745 Ą\n",
      "1556440 Murakami - Japanese family name (村上)\n",
      "1573237 Ŭnnyul Line\n",
      "1580978 Ƕ\n",
      "1593528 Sora - Korean female given name (소라)\n",
      "1597316 كرتون غبي\n",
      "1617472 361 ̊\n",
      "1643396 Bahishti Maqbara (بہشتی مقبرہ)\n",
      "1646555 گ\n",
      "1647585 Sim - Korean family name (심)\n",
      "1647913 Tania Corriganةووتى\n",
      "1660352 Lê Hữu Phát\n",
      "1670193 چ\n",
      "1679832 Mia Vradia Me Tin Marinella Νο. 2\n",
      "1681031 James Oswald - James Oswald (1710\\u20131769) was a Scottish composer, arranger, cellist, and publisher.\n",
      "1691961 Tamazunchale ♤\n",
      "1702325 Ę\n",
      "1711841 と\n",
      "1712064 OӀga Podchufarova\n",
      "1717706 Chau/我 I Need You\n",
      "1718217 Weng - Chinese family name 翁\n",
      "1724033 Long - Chinese surname 龍/龙\n",
      "1731443 こ\n",
      "1734407 Phan Hữu Dong\n",
      "1736545 Haya Al Shuaibi‬\n",
      "1742813 Moše Bar-Šemû'ēl Ibn-Ǧîqaṭîlā\n",
      "1747900 S̄īh̄ Nùm Vheiỵ Yîm\n",
      "1762285 Rui ∑n vol. 01\n",
      "1774694 Fujisaki - Japanese family name 藤﨑\n",
      "1788811 Yolŋu languages\n",
      "1792289 Shion - undifferentiated kana given name (しおん)\n",
      "1806657 Pan - Chinese surname 潘\n",
      "1807314 Kawachi - family name 河内\n",
      "1808412 남자가 사랑할 때\n",
      "1811447 Kanta - Japanese male given name (貫太)\n",
      "1817335 Hồ Thị Lỷ\n",
      "1817595 Yu - Chinese surname 于\n",
      "1819408 Kingdom Hearts χ\n",
      "1826670 Eshera (ეშერა)\n",
      "1828576 Western Gerygoneאו\n",
      "1833179 রাজু আঙ্কেল\n",
      "1839477 よ\n",
      "1840888 Iġnāṭiyūs ʿAbduh Ḫalīfa\n",
      "1843139 Ḫarapšili\n",
      "1869219 Ċensu Galea\n",
      "1876650 Ꙗ\n",
      "1884453 Kulykіvka\n",
      "1892083 Ŭ\n",
      "1893926 Ayyaya, അയ്യായ\n",
      "1895821 Dương Thuỷ\n",
      "1900130 Наследниците Дел Монте\n",
      "1914027 Tuổi Trẻ\n",
      "1916160 Wang Feng - Chinese politician (汪锋)\n",
      "1928661 Ayọ Ni Mọ Fẹ\n",
      "1929561 Ǧ\n",
      "1933541 Ōtake - Japanese family name (大竹, おおたけ)\n",
      "1938314 へ\n",
      "1938395 Okano - Japanese family name (岡野)\n",
      "1941966 ȹ\n",
      "1945072 Moḥammad Ḥosayn Kāšef-al-Ḡeṭāʾ\n",
      "1950408 せ\n",
      "1950667 Ẽ\n",
      "1953371 Kevaḍḍha Sutta\n",
      "1974112 Ɀ\n",
      "1980728 Ӓ̄\n",
      "1980942 Muhammet Oǧuz Zengin\n",
      "1998933 Ӭ̄\n",
      "1999634 ち\n",
      "2000808 Ԕ\n",
      "2001717 く\n",
      "2002380 J̌\n",
      "2002806 そ\n",
      "2009864 Ëmëhntëhtt-Ré\n",
      "2013751 ほ\n",
      "2017903 ゐ\n",
      "2019287 な\n",
      "2026440 れ\n",
      "2027216 ま\n",
      "2038618 ʠ\n",
      "2039325 chữ Nôm\n",
      "2040197 An Thuỷ\n",
      "2045971 Lu - Chinese surname Lu 魯/鲁 (pinyin: Lǔ)\n",
      "2046560 Puri - family name (पुरी)\n",
      "2059123 Ꚓ\n",
      "2060242 や\n",
      "2070544 Τerrorist Organization 17 November\n",
      "2071381 ض\n",
      "2071760 مریم نفیسی\n",
      "2074651 ふ\n",
      "2080889 Ë\n",
      "2084654 .укр\n",
      "2085558 मलारना चौड़\n",
      "2090628 Murtaḍá al-Zabīdī\n",
      "2092261 Є\n",
      "2094423 Тускарь\n",
      "2098317 Bukіvka\n",
      "2111407 た\n",
      "2114033 Ꙧ\n",
      "2114043 も\n",
      "2122696 Daman - Daman दामन (Nepali: दामन) is a small village\n",
      "2127041 Shibukawa - Japanese family name (渋川)\n",
      "2132617 Ɲ\n",
      "2133755 に\n",
      "2141992 The Best of British £1 Notes\n",
      "2143368 Gusev - family name (Гусев)\n",
      "2144960 Û\n",
      "2155393 い\n",
      "2162284 ψγγφγ\n",
      "2162887 Ꚑ\n",
      "2171690 Brezhnev - family name (Брежнев)\n",
      "2173586 Ә\n",
      "2174815 Ȓ\n",
      "2174955 Ԙ\n",
      "2182620 Ᵽ\n",
      "2191421 ƛ\n",
      "2197809 Ɵ\n",
      "2202679 Referativny Zhurnal (РЖ)\n",
      "2203900 Ѥ\n",
      "2203976 Pang - Chinese family name (庞/龐)\n",
      "2206505 Yeon - Korean family name (연)\n",
      "2207041 ひ\n",
      "2207423 き\n",
      "2214546 む\n",
      "2217211 Њ\n",
      "2219106 Cakrasaṃvara\n",
      "2220856 Ƭ\n",
      "2223401 Quan - Chinese family name (全)\n",
      "2227482 Ʒ\n",
      "2230271 Ƥ\n",
      "2241577 Číčovské mŕtve rameno\n",
      "2244810 Ã\n",
      "2256319 け\n",
      "2260292 The House that £100k Built\n",
      "2261037 は\n",
      "2261939 ゑ\n",
      "2269577 Lu - Chinese surname Lu 陸/陆 (pinyin:Lù)\n",
      "2276415 え\n",
      "2280317 Lu - Chinese surname with character 卢/盧 (pinyin: Lú)\n",
      "2285247 ね\n",
      "2286262 Ꜧ\n",
      "2288556 Dongfang - Chinese surname (東方)\n",
      "2311547 Ꝁ\n",
      "2312159 Ƙ\n",
      "2321442 Ȼ\n",
      "2322047 Грибовичі\n",
      "2327887 Ꙥ\n",
      "2328713 Ӗ\n",
      "2332678 Ӻ\n",
      "2334350 Ƀ\n",
      "2336303 Nepal - family name (नेपाल)\n",
      "2337341 Ą́\n",
      "2338205 Qian - Chinese surname (千)\n",
      "2340775 し\n",
      "2340977 Yanagawa - Japanese family name (柳川, やながわ)\n",
      "2345468 Chayanne - Korean male given name (우진)\n",
      "2345841 Maṇḍana Miśra\n",
      "2345950 Nawāḍir al-ayk fī maʻrifat al-nayk\n",
      "2347774 つ\n",
      "2354278 Savvas - family name (Σάββας)\n",
      "2354314 Purbadhala Upazilar ছবি\n",
      "2361452 C\\C (Cinderella\\Complex)\n",
      "2373843 Ստեպան Ակիմովի եկամտաբեր տուն\n",
      "2374342 Ɨ\n",
      "2380991 Masaki - Japanese family name (正木)\n",
      "2382777 が\n",
      "2386573 Љ\n",
      "2388775 Ƈ\n",
      "2390734 HMS Liverpool - Gloucester-class cruiser ship 1938‒1952\n",
      "2390916 Mizusawa - family name 水沢\n",
      "2394719 Dolynіvka\n",
      "2400500 Tống Anh Tỷ\n",
      "2403548 す\n",
      "2404957 Ʈ\n",
      "2413763 Bai - Chinese surname 柏\n",
      "2418006 Ԭ\n",
      "2428418 わ\n",
      "2432944 Ȿ\n",
      "2440414 Kshetrapa(क्षेत्रपा)\n",
      "2442405 る\n",
      "2442837 Ҥ\n",
      "2448881 Ɽ\n",
      "2451895 Ʉ\n",
      "2453872 ぎ\n",
      "2454323 ‪KölnTriangle‬\n",
      "2455669 Yativṛṣabha\n",
      "2461324 Petrashіvka\n",
      "2471192 Prakṛti\n",
      "2471454 を\n",
      "2475387 ぬ\n",
      "2479595 て\n",
      "2489917 Fukaya - Japanese family name (深谷)\n",
      "2490862 Ƿ\n",
      "2495439 Ә̃\n",
      "2505739 So - Korean name: given name element and family name (소)\n",
      "2507405 Russian locomotive class Е\n",
      "2508235 Mường Ảng\n",
      "2512220 Veľká Tŕňa\n",
      "2515638 Moriya - Japanese family name (守屋)\n",
      "2528389 Burla - family name (בורלא)\n",
      "2528817 И̃\n"
     ]
    },
    {
     "name": "stdout",
     "output_type": "stream",
     "text": [
      "2536595 Ԫ\n",
      "2541784 Shan - Chinese family name (單 / 单)\n",
      "2549296 Aṣ-Ṣaidanānī\n",
      "2551725 Ꚙ\n",
      "2557663 Ueda - Japanese family name (上田 or 植田)\n",
      "2559833 Ωmega\n",
      "2560740 ظ\n",
      "2568347 Nguyễn Hữu Phúc\n",
      "2571444 Ĥ\n",
      "2579498 Ɉ\n",
      "2580893 Ẑ\n",
      "2593495 Ŕ\n",
      "2600585 Ү\n",
      "2603001 Mallika - female given name (मल्लिका)\n",
      "2608485 ^txt2regex$\n",
      "2617186 Ƚ\n",
      "2623596 Ᵹ\n",
      "2628236 Phú Hữu\n",
      "2629819 Ѡ\n",
      "2630797 Tsuru - Japanese given name & family name (鶴)\n",
      "2634726 Tang - Chinese surname 湯/汤\n",
      "2645789 Green-backed Twinspotאפ,מז\n",
      "2649227 コレクション\n",
      "2654212 Gloǵi\n",
      "2654879 Ӧ\n",
      "2655812 Ӄ\n",
      "2658395 Р̌\n",
      "2662274 Ҧ\n",
      "2662460 Ԩ\n",
      "2665573 Kaḏḏa Dâbali\n",
      "2671890 Ю̈\n",
      "2672182 Ӟ\n",
      "2677065 Wakasa - Japanese family name (若狭)\n",
      "2680044 Ў\n",
      "2681714 Malá Tŕňa\n",
      "2694121 /ðəˈbæzɪtʃ/\n",
      "2696409 Kūh-e Ḩowẕ-e Solţān Sār\n",
      "2697502 list of monuments in Kerċem\n",
      "2703825 Ḫartapu\n",
      "2707431 Ě\n",
      "2707907 Ӝ\n",
      "2710059 ᚠ\n",
      "2711013 Yoshioka - Japanese family name (吉岡)\n",
      "2715708 Esiẹ\n",
      "2717104 Tiên Lữ\n",
      "2717658 А̊\n",
      "2721426 A Beautiful Reel. B'z Live-Gym 2002 Green ~Go★Fight★Win~\n",
      "2721942 Mosaddek Hossain ‍Saikat\n",
      "2724364 Ƴ\n",
      "2725040 Pabilsaĝ\n",
      "2729468 Hiratsuka - Japanese family name (平塚)\n",
      "2731136 י\n",
      "2732614 TBWA\\Chiat\\Day\n",
      "2735179 Кременчук\n",
      "2736781 X̂\n",
      "2738125 Đào Hữu Cảnh\n",
      "2743623 Ꙭ\n",
      "2744556 Soviet locomotive class ИС\n",
      "2747966 Begun - family name (Бегун)\n",
      "2750267 Ji - surname 暨\n",
      "2757807 Ứng Hòa\n",
      "2760528 Ì\n",
      "2761094 Ashraf - male given name (أشرف)\n",
      "2767062 Ùr-sgeul\n",
      "2769660 Ana tomentosa Ùvú\n",
      "2771563 Miyashiro - Japanese family name (宮城)\n",
      "2776622 Kosaka - Japanese family name (小坂)\n",
      "2777721 Ł̣\n",
      "2780394 Ɍ\n",
      "2782520 Ҟ\n",
      "2790029 Ꝟ\n",
      "2798369 Подих\n",
      "2798727 Ŧ\n",
      "2804797 Ao - Chinese surname 敖\n",
      "2807052 Śaṅkaranārāyaṇa\n",
      "2815473 مدينة الصالحية القديمة\n",
      "2816226 Ԑ̈\n",
      "2825053 Ɇ\n",
      "2826963 Г̧\n",
      "2827831 Shahrak-e Shahid Moḩammad-e Borujerdi\n",
      "2833611 Ȳ\n",
      "2837475 Vīmaṃsaka Sutta\n",
      "2844537 Ꝥ\n",
      "2846164 Psikyɛ dialect\n",
      "2846569 Ѵ\n",
      "2849488 ΝHΠIAΓΩΓEION: Live in Europe 1988\n",
      "2862236 Ḱafa\n",
      "2864566 Ḑ\n",
      "2868987 Ғ\n",
      "2872391 Moriwaki - Japanese family name (森脇)\n",
      "2883659 Ԡ\n",
      "2887586 Ӂ\n",
      "2888509 Ɏ\n",
      "2893134 Al-Jawāb al-Ṣaḥīḥ li-man baddala dīn al-Masīh\n",
      "2894347 Ӥ\n",
      "2905985 Kamiyama - Japanese family name (神山, かみやま)\n",
      "2911604 Khương Hữu Long\n",
      "2934915 Ȧ\n",
      "2935606 § 175 StGB\n",
      "2939604 .қаз\n",
      "2949638 Levan - male given name (ლევანი)\n",
      "2950120 Hữu Mai\n",
      "2956932 The CD2 Sessions: Live in London 7‒12‒2002\n",
      "2960649 Ӓ\n",
      "2962966 Dugu - Chinese surname 獨孤/独孤\n",
      "2963869 Ḱ\n",
      "2965002 The Big Problem ≠ The Solution. The Solution = Let\n",
      "2975012 Shalva - male given name (შალვა)\n",
      "2975232 Takasaki - Japanese family name (高崎)\n",
      "2975302 University nuhelotʼįne thaiyotsʼį nistameyimâkanak Blue Quills\n",
      "2978563 Hia C-eḍ O'odham\n",
      "2979279 .বাংলা\n",
      "2979658 Anupama - female given name (अनुपमा)\n",
      "2981379 Are - Chinese family name (阿热)\n",
      "2993869 Tang - Chinese surname 唐\n",
      "2994897 Ӿ\n",
      "2996037 Ү́\n",
      "2996253 Hữu Lũng\n",
      "3000216 Ȥ\n",
      "3000854 Ю̆\n",
      "3008185 Chapel of San Mikiel Is-Sanċir\n",
      "3020507 Đồng Hỷ\n",
      "3023945 Takehara - Japanese family name (竹原)\n",
      "3028194 ক\n",
      "3029909 Ҝ\n",
      "3036437 €2 commemorative coins\n",
      "3043197 .հայ\n",
      "3044820 Ȋ\n",
      "3045461 Пьяное солнце\n",
      "3045689 Ә́\n",
      "3050157 Ӑ\n",
      "3061013 Ha - Korean family name (하)\n",
      "3066731 Baħar iċ-Ċagħaq\n",
      "3070671 Ḍ\n",
      "3071218 Ќ\n",
      "3071302 Shindō - Japanese family name (新道)\n",
      "3075160 Ɋ\n",
      "3089808 Ѝ\n",
      "3102047 Ҕ\n",
      "3102450 𓍍\n",
      "3107609 Soviet locomotive class ФД\n",
      "3110854 Nguyễn Hữu Hạnh\n",
      "3117441 Lu - Chinese surname Lu 路 (pinyin: Lù)\n",
      "3135402 Ꚋ\n",
      "3137653 Ȣ\n",
      "3137833 𓅨\n",
      "3147982 Nguyễn Hữu Đang\n",
      "3148613 Takizawa - Japanese family name (瀧澤)\n",
      "3151838 Hodynіvka\n",
      "3153670 Jabal Baʽdan\n",
      "3157383 Tạ Tỵ\n",
      "3161724 Ōsaki - Japanese family name (大崎, おおさき)\n",
      "3165133 Ayman al-Ṣafadī\n",
      "3167942 Ӣ\n",
      "3169482 Ṡ\n",
      "3176438 Ӳ\n",
      "3177556 Hữu Sản\n",
      "3178191 Toyokawa - Japanese family name (豊川)\n",
      "3179411 Matsumoto - Japanese family name (松元)\n",
      "3188440 Ӯ\n",
      "3188698 Nakasato Station - Nakasato Station (中里駅), a railway station in Miyako, Iwate Prefecture, Japan.\n",
      "3191633 Kko Kko Tours Single♥Single\n",
      "3196963 Шапиро, Иосиф Наумович\n",
      "3199153 Guan - family name (管)\n",
      "3202340 Kawagoe - Japanese family name (川越)\n",
      "3204273 Baħar iċ-Ċagħaq Redoubt\n",
      "3209573 Ċ\n",
      "3214388 Ꚇ\n",
      "3214941 Ĵ\n",
      "3218092 Е̃\n",
      "3219486 Ξcc++\n",
      "3219873 Ю̄\n",
      "3225134 Ӽ\n",
      "3229649 KOLOUR‧Tsuen Wan\n",
      "3235712 Ԓ\n",
      "3240206 খ\n",
      "3240926 Al Luḩayyah\n",
      "3247246 Nguyễn Văn Tỵ\n",
      "3248589 Ҷ\n",
      "3251896 Ǵurǵevište\n",
      "3260346 Ǹ\n",
      "3268112 Shpalman®\n",
      "3270042 Ǥ\n",
      "3271349 Е̄\n",
      "3273258 Ꞓ\n",
      "3305756 Ōkubo - Japanese family name (大久保)\n",
      "3306935 Śubhakarasiṃha\n",
      "3308055 Ĭsa Knox\n",
      "3310629 Apakidze - family name (აფაქიძე)\n",
      "3313359 Al-H̨arīq governorate\n",
      "3313722 Ⱳ\n",
      "3319155 Ӫ\n",
      "3319205 £100 Reward\n",
      "3320422 Ƶ\n",
      "3324557 H̨awţah Sudayr\n",
      "3325801 Ư\n",
      "3327624 Ӛ\n",
      "3329738 Kẹo dừa\n",
      "3343461 Ӈ\n",
      "3347267 Ӭ\n",
      "3348838 Ḿ\n",
      "3350886 Đạ Tẻh\n",
      "3352387 Ĉ\n",
      "3354158 Ѐ\n",
      "3360081 Fukui - Japanese family name (福井)\n",
      "3363902 Ӱ\n",
      "3366013 Ǩ\n",
      "3367103 مقانک\n",
      "3367743 Fazl - male given name (فضل ‎‎)\n",
      "3380857 Pi - Chinese surname (皮)\n",
      "3382237 ...bez półPRĄDU...halfPLUGGED...\n",
      "3390735 X̣\n",
      "3397335 Ąžuolaičiai\n",
      "3398496 Saṃyutta Nikāya\n",
      "3399726 Є̈\n",
      "3402540 Teshima - Japanese family name (豊嶋)\n",
      "3403031 Hirao - Japanese family name (平尾)\n",
      "3403680 Manusmṛti\n",
      "3403817 Nishio - Japanese family name (西尾)\n",
      "3404407 Vân đài loại ngữ\n",
      "3404504 Ӹ\n",
      "3406578 SEK Class Θγ\n",
      "3420264 ज\n",
      "3420784 Җ\n",
      "3421227 Air - name under which Kurumatani Koji (車谷浩司) releases his songs\n",
      "3425855 Best of 061122‒071122\n",
      "3427473 Ҋ\n",
      "3429162 Qaryat al Misḩak\n",
      "3443149 Page\\Park Architects\n",
      "3443961 Lu - Chinese surname Lu 祿/禄 (pinyin: Lù)\n",
      "3452788 ङ\n",
      "3453324 Mori Domain - [母里藩] Japanese historical estate in Izumo province. brach of Matsue Domain\n",
      "3454845 World Trade Center - ปั้นนํา้เป็นตัว\n",
      "3462392 The Radha Kṛṣṇa Temple\n",
      "3463181 Abe - transliteration of Japanese surnames 安倍, 安部, 阿部 and 阿倍\n",
      "3464961 Ҙ\n",
      "3467104 Ʊ\n",
      "3474395 振元龍\n",
      "3487061 Russian locomotive class Ѵ\n",
      "3491112 Trẹm River\n",
      "3493580 Na Ư\n",
      "3502493 O͘\n",
      "3505697 Ahmadi - family name (احمدی)\n",
      "3507696 absorption - inference rule where, given P→Q, one deduces P→(P∧Q)\n",
      "3508171 Һ\n",
      "3516518 Ibn Maḍāʾ\n",
      "3519379 Orly - female given name (אורלי)\n",
      "3527784 𓈌\n",
      "3530862 Ѣ\n",
      "3531342 Trần Quốc Ẩn\n",
      "3532106 Nadezhda - female given name (Надежда)\n",
      "3542443 ¥\n",
      "3544384 Ʋ\n",
      "3547431 Ӷ\n",
      "3549354 क\n",
      "3549483 Ꙩ\n",
      "3550165 Ẽfini Hiroshima S.C.\n",
      "3550513 Rui - Chinese family name 芮\n",
      "3551387 【JS】REYZORツ\n",
      "3557242 قائمة مطاعم الدجاج\n",
      "3562890 Ṅ\n",
      "3565638 Ŋ\n",
      "3565893 Che - Chinese surname 车/車\n",
      "3568027 È - Chinese surname (鄂)\n",
      "3571508 “Ў” Gallery of Contemporary Art\n",
      "3573544 Mogwai - transliteration of the Cantonese word 魔鬼 meaning \"monster\", \"evil spirit\", \"devil\" \"demon\"\n",
      "3585127 Ԑ\n",
      "3585634 Maiza Hameed।\n",
      "3588620 Ṣ\n",
      "3589720 Cēsu Alus \\ Lekrings\n",
      "3599568 Śūraṅgama Sūtra\n",
      "3604175 Ѯ\n",
      "3605841 Ji - Chinese surname Ji 計/计 (pinyin: Jì)\n",
      "3606248 Donau­dampf­schiffahrts­elektrizitäten­haupt­betriebs­werkbau­unter­beamten­gesellschaft\n",
      "3613464 Nguyễn Lữ\n",
      "3620754 Progressive Democratic Party - বাংলাদেশের রাজনৈতিক দল\n",
      "3621596 Ɣ\n",
      "3625923 Ӌ\n",
      "3626576 бухача\n",
      "3628349 Ӎ\n",
      "3628498 Di - Chinese surname (狄)\n",
      "3628583 Lyfe 268‒192\n",
      "3631210 Ӊ\n",
      "3634270 Hawkins\\Brown\n",
      "3634591 Saṃskāra\n",
      "3638706 Hồ Thị Kỷ\n",
      "3639609 Šluŋkkajávri\n",
      "3640542 Hữu Thác\n",
      "3641046 Ⱪ\n",
      "3642167 L∞-algebra\n",
      "3650946 Gitanjali - female given name (गीताजंली)\n",
      "3651366 kiЯitɘ\n",
      "3652400 Ukrainian locomotive class 2ЕЛ5\n",
      "3656797 Kim Hỷ\n",
      "3667133 Ɒ\n",
      "3667618 孟亨利\n",
      "3667705 Ꚉ\n",
      "3668644 Phong Thuỷ\n",
      "3669068 Saǥai Muittalægje\n",
      "3679848 Lou - Chinese surname Lou 婁/娄 (pinyin: Lóu)\n",
      "3682336 𓇯\n",
      "3683683 Ąžuoliukas\n",
      "3686499 Buddhānusmṛti\n",
      "3699387 المغرب\n",
      "3700498 Kuang - family name (鄺 / 邝)\n",
      "3700911 Siddhaṃ alphabet\n",
      "3702016 Hai - Chinese family name (海)\n",
      "3710382 Ȝ\n",
      "3724163 𓈐\n",
      "3725120 Ҏ\n",
      "3727716 Soagŋojávri\n",
      "3728830 Ɑ\n",
      "3731412 Ԥ\n",
      "3737509 Raghuvaṃśa\n",
      "3737611 Earplugs 50¢\n",
      "3738500 Ҳ\n",
      "3742777 Yue - Chinese surname 岳\n",
      "3745572 𓎆\n",
      "3746559 Kṛttikā\n",
      "3748282 Fσ set\n",
      "3756526 Ⱨ\n",
      "3760753 𓇅\n",
      "3764541 John Ussher - جان اوشر (کشیش) The Ven. جان اوشر کشیش ایرلندی آنگلیکان بود.\n",
      "3765106 𓁷\n",
      "3765554 Üdü Ẁüdü\n",
      "3766257 D̦\n",
      "3771749 Family Π\n",
      "3774614 Saṃsāra in Buddhism\n",
      "3779667 Swimming at the 2016 European Aquatics Championships – Men's 4 - یادگیری زبان فکوری\n",
      "3780984 Mu - family name (穆)\n",
      "3781598 Codi /\\ Cysgu\n",
      "3782130 Ta' Ċieda Tower\n",
      "3783056 w^w^^w^w\n",
      "3786687 𓀔\n",
      "3791004 ख\n",
      "3800071 Nguyễn Dữ\n",
      "3802045 Cayley's Ω process\n",
      "3806530 Wu (武)\n",
      "3811478 русскийAlmaguin Highlands\n",
      "3814327 皇家雪兰莪\n",
      "3816779 Shin Mahāsīlavaṃsa\n",
      "3818451 Hao - Chinese surname with character 郝\n",
      "3821810 Andrѐy V. Sinitsyn\n",
      "3822404 Кубок Узбекистана по футболу 2015\n",
      "3827679 99¢\n",
      "3830829 Ҭ\n",
      "3835911 Our Lady of Grace Cathedral - building in São Tomé and Prí­ncipe\n",
      "3850455 Ѱ\n",
      "3854197 Ԯ\n",
      "3857947 ‡biblios.net\n",
      "3867426 𓆓\n",
      "3870245 Ɐ\n",
      "3871529 Xiaoyan - Chinese feminine given name (曉燕/晓燕)\n",
      "3885252 Filin - family name (Филин)\n",
      "3893075 Gδ set\n",
      "3908760 Yolŋu Sign Language\n",
      "3912457 Ải Thôn\n",
      "3914012 Shin - undifferentiated kana given name (しん)\n"
     ]
    },
    {
     "name": "stdout",
     "output_type": "stream",
     "text": [
      "3933025 Apabhraṃśa\n",
      "3936067 Ԧ\n",
      "3945940 Ukrainian locomotive class ДЕ1\n",
      "3950610 Banu - Plural des arabischen Worts Ibn (‚Sohn‘) und im Sinne von „Söhne Stammesnamen\n",
      "3951240 Ӆ\n",
      "3959028 Nari - Korean female given name (나리)\n",
      "3959132 ⠛\n",
      "3964415 Ҿ\n",
      "3964416 Ҽ\n",
      "3966067 ɪ\n",
      "3972665 𓆤\n",
      "3974434 Land grant to Ḫasardu kudurru\n",
      "3974921 OOEYヨOO -EYヨ REMIX\n",
      "3978994 Ɩ\n",
      "3980929 Ѳ\n",
      "3981014 Ė\n",
      "3987406 ʮ\n",
      "3991328 Kẻ Sặt\n",
      "3996013 Elizaveta Ėsperovna Belosel'skaja-Belozerskaja\n",
      "4012864 Riḍwan\n",
      "4023448 Ɯ\n",
      "4024637 The Voice 决战好声\n",
      "4024986 Kanada - Japanese family name (金田)\n",
      "4027785 Ẋ\n",
      "4031263 Tŕnie\n",
      "4033644 अ\n",
      "4037682 Ⱬ\n",
      "4039148 Ɔ\n",
      "4040710 Mṛcchakaṭikā\n",
      "4046279 Ҫ\n",
      "4055479 Ukrainian locomotive class ТЕП150\n",
      "4061451 Al-H̨āyir\n",
      "4068891 Sẁiẁs Provincial Park\n",
      "4075320 Ƞ\n",
      "4076234 Noong Hẹt\n",
      "4077568 σ-compact space\n",
      "4082510 Meḳiẓe Nirdamim\n",
      "4083868 Ṛ\n",
      "4087275 Viśa' Saṃbhava\n",
      "4090118 Video G∞ver\n",
      "4092750 Լոնդոնի պալադիում\n",
      "4097109 公民黨\n",
      "4100992 Ԁ\n",
      "4102201 甲山\n",
      "4103204 Maɗa language\n",
      "4109689 DD ಮ್\n",
      "4113712 𓆎\n",
      "4117379 𓃛\n",
      "4125120 Laṇḍā scripts\n",
      "4126667 Ҩ\n",
      "4127980 আ\n",
      "4128399 Setubandha-sarvāṅgāsana\n",
      "4129564 Bath ḳōl\n",
      "4130091 Ǝ\n",
      "4132163 ꙮ\n",
      "4133923 Zandrѐ Swartz\n",
      "4134704 ष\n",
      "4135247 ᄉ\n",
      "4135394 南禪寺\n",
      "4135526 ᄋ\n",
      "4137870 σ-aromaticity\n",
      "4138830 Vòng loại Giải vô địch bóng đá nữ thế giới\n",
      "4140333 Ƌ\n",
      "4144550 星空\n",
      "4146120 1964 సమ్మర్\n",
      "4153453 ᄒ\n",
      "4157550 غ\n",
      "4157674 Ḫaldi\n",
      "4158657 Qaḍīb al-Bān\n",
      "4159043 ც\n",
      "4162622 Judah Kalaẓ\n",
      "4163856 𓄿\n",
      "4165590 ჟ\n",
      "4169081 Triṃśikā-vijñaptimātratā\n",
      "4172453 ი\n",
      "4178320 ᅲ\n",
      "4182284 𓊮\n",
      "4183893 白山\n",
      "4184658 The Collation and Annotation of Saṃyuktāgama\n",
      "4185302 中強光電\n",
      "4185886 ヶ\n",
      "4189663 Ԝ\n",
      "4190048 Bánh tẻ\n",
      "4192043 σ-bishomoaromaticity\n",
      "4192307 Ḫepat\n",
      "4202388 ᅥ\n",
      "4205719 ഞരളപ്പുഴ ശ്രീധർമശാസ്താ ക്ഷേത്രം\n",
      "4208442 京華煙雲 (1988年電視劇)\n",
      "4212038 ᅬ\n",
      "4212925 𓉶\n",
      "4218202 Soviet Railways Ээл\n",
      "4218263 ♥\n",
      "4220061 Kalai's 3^d conjecture\n",
      "4220624 ᄃ\n",
      "4223897 Soviet locomotive class ОР23\n",
      "4227061 𒅆\n",
      "4227085 soda sữa hột gà\n",
      "4227702 List of populated places in Hungary (Ü–Ű)\n",
      "4229738 უ\n",
      "4233002 𓃀\n",
      "4233093 𓆇\n",
      "4235115 ტ\n",
      "4237077 ო\n",
      "4237235 ݭ\n",
      "4240139 £$€\n",
      "4240301 𓋞\n",
      "4246550 Ꞌ\n",
      "4246879 ჵ\n",
      "4250909 Ї\n",
      "4257735 Ƹ\n",
      "4257904 北海\n",
      "4258517 Ąžuolynas\n",
      "4258580 純純\n",
      "4259621 Ѻ\n",
      "4266733 A∴A∴\n",
      "4268452 Крупнейшие авиационные катастрофы по странам\n",
      "4270634 Yogadṛṣṭisamuccaya\n",
      "4271144 Lu - Chinese family name (蘆)\n",
      "4271848 Lāi-goā-kho Khàn-hō͘-ha̍k\n",
      "4277000 She - Chinese surname (佘)\n",
      "4280882 Meir - family name (מאיר)\n",
      "4281814 聖子\n",
      "4284558 Eze Nri Ìfikuánim\n",
      "4284960 Ҡ\n",
      "4285632 2009 NORCECA Beach Volleyball Circuit - Dimtsachin Yisema [Let our voice be heard] ይሰማ]\n",
      "4288579 Rogozarski SIM-Х\n",
      "4288956 BONJOUR♪Sweet Love Patisserie\n",
      "4290053 嶺南\n",
      "4290477 Charalambides - family name (Χαραλαμπίδης)\n",
      "4291278 B̤ē\n",
      "4291339 ᅦ\n",
      "4293686 𓇭\n",
      "4297282 北山\n",
      "4299371 Parivṛttatrikoṇāsana\n",
      "4300075 𓂦\n",
      "4304432 Γδ T cells\n",
      "4305042 გ\n",
      "4305574 Ỽ\n",
      "4305980 高宗\n",
      "4306533 驪山老母\n",
      "4306779 Lu-diĝira\n",
      "4307327 Ṛtusaṃhāra\n",
      "4308011 Dǒumǔ\n",
      "4311737 Ꞅ\n",
      "4313225 Ƃ\n",
      "4314550 賽馬會創意藝術中心\n",
      "4314948 Ẕāheṟ Khūnē\n",
      "4318538 ภาษาไทย\n",
      "4319919 ڼ\n",
      "4321251 ᄅ\n",
      "4321424 Chekhov - family name (Чехов)\n",
      "4322672 縣\n",
      "4325201 Nirṛti\n",
      "4327128 Zakharchenko - family name (Захарченко)\n",
      "4327656 ẟ\n",
      "4329152 𓂧\n",
      "4330715 პ\n",
      "4334584 A∞-operad\n",
      "4338404 ᄌ\n",
      "4338588 北斗\n",
      "4341703 美川\n",
      "4342240 Ĉekbanko Esperantista\n",
      "4347368 ᄆ\n",
      "4347722 𓃭\n",
      "4348701 Ju - Chinese surname (鞠)\n",
      "4348854 Bābu-aḫa-iddina\n",
      "4349956 𓊡\n",
      "4353043 Red Leaves / 紅葉\n",
      "4358387 Sahu - family name (साहु)\n",
      "4361653 Бабінец\n",
      "4365776 list of £10\n",
      "4365875 Nguyễn Hữu Chỉnh\n",
      "4366218 ჳ\n",
      "4367012 𓋴\n",
      "4368620 ڤ\n",
      "4372753 Ганна Герцик\n",
      "4373161 9 New York Code of Rules and Regulations §466.13\n",
      "4378717 Ђ\n",
      "4380021 δ-octalactone\n",
      "4381635 Ꚃ\n",
      "4382965 PETROU\\MAN\n",
      "4384149 𓅓\n",
      "4387009 Hou Minghao 侯明昊\n",
      "4387879 Cha - Korean family name (차)\n",
      "4389025 Shevchuk Anatoliy Mefodіyovich\n",
      "4389327 ქ\n",
      "4392401 Paryaṅkāsana\n",
      "4393761 文山\n",
      "4395381 Ji (surname 蓟)\n",
      "4396780 ڭ\n",
      "4397790 Ӡ\n",
      "4399451 Ƣ\n",
      "4405014 Ꚍ\n",
      "4406590 𓄇\n",
      "4406979 ᅳ\n",
      "4407392 Ju - Korean family name (주)\n",
      "4412261 蜀\n",
      "4412993 金湖\n",
      "4414226 Amphimachus - AMPHIMĂCHVS , i , Nomions Sohn, und der Nasta Bruder, gieng .\n",
      "4418161 Mṛgaśikhāvana\n",
      "4418251 正月\n",
      "4418349 Bryn yr Ŵyn\n",
      "4419747 \\o/\n",
      "4422721 მ\n",
      "4424259 ΠΟΣΟ ΛΥΠΑΜΑΙ\n",
      "4427154 ᅮ\n",
      "4427855 Ji - Chinese surname Ji 紀/纪\n",
      "4428701 ᅢ\n",
      "4428842 त\n",
      "4433989 Śūraṃgamasamādhisūtra, The Concentration of Heroic Progress: An Early Mahayana Buddhist\n",
      "4436671 Ꚗ\n",
      "4438565 義安\n",
      "4439319 暨南大學\n",
      "4439354 Kāraṇḍavyūhasūtra\n",
      "4441442 𓂘\n",
      "4443922 Raghuvaṃśa dynasty\n",
      "4446023 δ9-tetrahydrocannabinolic acid\n",
      "4456258 ञ\n",
      "4462397 Black Ice\\White Noise\n",
      "4462404 滇\n",
      "4465650 अ़\n",
      "4465963 Eze Nri Ọmalonyeso\n",
      "4468760 ᄇ\n",
      "4469829 Hwangbo - Korean family name (황보)\n",
      "4470443 𓉐\n",
      "4471546 光復節\n",
      "4473345 ფ\n",
      "4474576 Shina - romanized Japanese transliterations for the Chinese character compound \"支那\"\n",
      "4475478 An Gàidheal Ùr\n",
      "4476002 𓉔\n",
      "4476361 Ꚕ\n",
      "4477150 ჭ\n",
      "4477562 Ꚁ\n",
      "4482387 ᄐ\n",
      "4484458 甜蜜蜜\n",
      "4485234 ब\n",
      "4486175 Ҁ\n",
      "4487093 𓏙\n",
      "4488769 Κηδεία του Ραούλ Αλφονσίν\n",
      "4489008 漫画\n",
      "4490734 Hong Kong Academy of the Humanities 香港人文學院\n",
      "4491798 E∞-operad\n",
      "4492665 Ԟ\n",
      "4496294 ნ\n",
      "4496378 ᅫ\n",
      "4496971 Nguyễn Hữu Cầu\n",
      "4498404 红山\n",
      "4498718 Олена Куницька (гетьманша)\n",
      "4498990 ა\n",
      "4499372 Ԋ\n",
      "4499602 Abū'l-Faḍl Rifq al-Khādim\n",
      "4500410 Mušḫuššu\n",
      "4501170 Control-\\\n",
      "4502548 万趣娱乐\n",
      "4502965 Dō̜kmai Sot\n",
      "4504215 城南\n",
      "4504464 Haṃsadūta\n",
      "4508256 𓇱\n",
      "4509244 list of 🧀  most common surnames in Germany\n",
      "4509491 ᅵ\n",
      "4510807 Biḍālāsana\n",
      "4511711 98.12.28 男達の別れ\n",
      "4512536 Esiẹ Museum\n",
      "4513306 Qingzhou - Qīngzhōu (Chinese: 青州) was traditionally one of the Nine Provinces of CE)\n",
      "4516843 ს\n",
      "4518170 ই\n",
      "4519438 ვ\n",
      "4520223 Ꝗ\n",
      "4522720 Chuáng-mǔ (Bed Mother)\n",
      "4525362 ღ\n",
      "4525492 छ\n",
      "4528971 太極\n",
      "4531888 Zhukov - family name (Жуков)\n",
      "4533376 5-hydroxy-2,4-decadienoic acid δ-lactone\n",
      "4535079 Tenshō - [天正] Japanese era name of the Momoyama period, 1573-1592\n",
      "4538487 Khǒr Royal Cup\n",
      "4541384 Tuǒ\n",
      "4542342 K̲h̲ayālī\n",
      "4545035 ᅪ\n",
      "4545212 Ԇ\n",
      "4545245 𓂽\n",
      "4546523 阝\n",
      "4555129 中国\n",
      "4555312 ≏\n",
      "4556263 𓍿\n",
      "4557025 ⱺ\n",
      "4557755 雅樂\n",
      "4560887 अं\n",
      "4563413 Aṅgula\n",
      "4563434 侍\n",
      "4564445 Ꙏ\n",
      "4565280 Eiji - Japanese era name 永治\n",
      "4566336 Џ\n",
      "4568865 რ\n",
      "4569588 ᅧ\n",
      "4572536 Ꝩ\n",
      "4575715 Ji (surname 汲)\n",
      "4576897 𓍉\n",
      "4578301 Lǔ\n",
      "4579141 Ƅ\n",
      "4581710 Li - [禮/礼] classical Chinese word which finds its most extensive use in philosophy\n",
      "4582460 약\n",
      "4585206 Ꚛ\n",
      "4587631 ჯ\n",
      "4593186 Ùisdean\n",
      "4593268 Nguyễn Nhữ Soạn\n",
      "4593288 剣道\n",
      "4595332 Ċirkewwa\n",
      "4604668 Kook - Korean family name (국)\n",
      "4604806 ᅰ\n",
      "4609320 ত\n",
      "4609717 Prince Chun (醇)\n",
      "4616444 ᄀ\n",
      "4617236 Prince Yu - Qing dynasty princely peerage (裕親王 in Chinese)\n",
      "4619931 Ngiṉṯaka\n",
      "4620347 ლ\n",
      "4621053 Ƽ\n",
      "4622628 Russian locomotive class Х\n",
      "4624863 კ\n",
      "4626272 ᄂ\n",
      "4626427 ბ\n",
      "4626912 Ԉ\n",
      "4628250 Ҍ\n",
      "4630576 Joanna & 王若琳\n",
      "4633698 ĸs\n",
      "4641181 ᅡ\n",
      "4641329 正徳\n",
      "4641636 Soo - Korean surname 수\n",
      "4643708 S̩\n",
      "4644560 𓏡\n",
      "4646577 台東\n",
      "4650662 Ԍ\n",
      "4653084 鄂\n",
      "4655804 অ\n",
      "4658369 𓄫\n",
      "4661329 Ꞷ\n",
      "4666413 海山\n",
      "4667778 Kang - Chinese surname 康\n",
      "4669401 Friends of the Soviet Union - دوستان اتحاد شوروی یک سازمان در نروژ داشت.\n",
      "4669439 Zou - Chinese surname (鄒/邹)\n",
      "4672544 文正\n",
      "4674397 Ԛ\n",
      "4675702 Ґ\n",
      "4677499 ڄ\n",
      "4678583 統一\n",
      "4678799 च\n",
      "4679910 Ԃ\n",
      "4680494 NΘRN9\n",
      "4681073 ჰ\n",
      "4682299 ჴ\n",
      "4684378 百萬富翁\n",
      "4684932 Ԏ\n",
      "4685048 ตักบาตรดอกไม้งาม\n",
      "4685761 Ꙟ\n",
      "4687298 Gui - family name (媯/妫)\n",
      "4689804 Vin¢ Clarke\n",
      "4698126 Ѕ\n",
      "4699260 Ij Io̧kwe Ļo̧k Aelōn̄ Eo Aō\n",
      "4699424 羅蘭\n",
      "4699759 江北\n",
      "4700789 ᅤ\n",
      "4702613 御影\n",
      "4705184 濟州\n",
      "4706815 capital ẞ\n",
      "4707957 ᅩ\n",
      "4708344 Ji (surname 籍)\n",
      "4710704 𒀭\n",
      "4712565 ᅯ\n",
      "4712659 ᅭ\n",
      "4715006 Дан Републике Српске\n",
      "4721482 ჱ\n",
      "4724053 內\n",
      "4727046 Ꙉ\n",
      "4729032 ځ\n",
      "4731184 ݨ\n",
      "4731617 Ꞑ\n",
      "4734086 Ꙁ\n",
      "4737849 Ћ\n",
      "4739145 ყ\n",
      "4740145 척했어\n",
      "4740542 𓈍\n",
      "4741169 Prince Yi (儀)\n",
      "4742894 tên chữ\n",
      "4744397 Анастасія Дабижа\n",
      "4744833 河東\n",
      "4746822 象棋\n",
      "4750387 Ꚏ\n",
      "4752109 چهارسوق\n",
      "4755692 Luna\\TBWA\n",
      "4757102 Sheet'ká Ḵwáan Naa Kahídi\n",
      "4759190 ზ\n",
      "4759466 (+)-δ-carotene\n",
      "4760545 Ο Κακός Ο Λύκος\n",
      "4761810 ჲ\n",
      "4761975 𓆱\n",
      "4762598 ჩ\n",
      "4763134 Tɔli language\n",
      "4763855 Magɨyi language\n",
      "4764188 ᅱ\n",
      "4765097 ე\n",
      "4771231 Ʀ\n",
      "4771377 ძ\n",
      "4772106 ᄑ\n",
      "4773478 ΤΟΣΑ ΘΑ ΣΟΥ ΠΩ\n",
      "4773762 Ӏ\n",
      "4774927 ᄏ\n",
      "4774963 فرنگی محل\n",
      "4777004 ↯\n",
      "4778338 წ\n",
      "4778896 Muḥammad b. al-Ḳāsim al-Thaḳafī\n",
      "4780122 Shiho - female given name (しほ, しほ)\n",
      "4780547 დ\n",
      "4780649 ᅣ\n",
      "4781403 KhLΘG\n",
      "4782623 Vṛścikāsana\n",
      "4783750 Marxist‒Leninist atheism\n",
      "4784102 ᶑ\n",
      "4784658 Ƨ\n",
      "4784984 𓎡\n",
      "4789352 δ-tocopherol\n",
      "4791089 𓏃\n",
      "4791098 Ꙫ\n",
      "4791729 ᅨ\n",
      "4791756 झ\n",
      "4792714 Gong - [公] the highest title of Chinese nobles\n",
      "4792993 𓈙\n",
      "4800315 ग\n",
      "4800485 MOD粉絲團\n",
      "4801361 ₹\n",
      "4803261 Al-Kaŝkarī\n",
      "4803656 ᅴ\n",
      "4803777 Ј\n",
      "4804206 玉树\n",
      "4806662 Eze Nri Ọmalọ\n",
      "4806782 𓎼\n",
      "4808436 Tikhomirov - family name (Тихомиров)\n",
      "4810115 區\n",
      "4810322 Ruan - Chinese-language surname 阮\n",
      "4810495 天涯歌女\n",
      "4811031 Parivṛtta Baddha Pārśvakoṇāsana\n",
      "4811406 Koga - transliteration of Japanese surnames 古賀, 古河, 久賀, 古閑 and 久我\n",
      "4813750 三河\n",
      "4818477 ხ\n"
     ]
    }
   ],
   "source": [
    "from tqdm.auto import tqdm\n",
    "i = 0\n",
    "for e in tqdm(entity_names):\n",
    "    tokenized = sp.encode(e)\n",
    "    if 0 in tokenized:\n",
    "        print(i, e)\n",
    "    i+= 1"
   ]
  },
  {
   "cell_type": "code",
   "execution_count": 22,
   "id": "8e3eab79",
   "metadata": {},
   "outputs": [
    {
     "data": {
      "application/vnd.jupyter.widget-view+json": {
       "model_id": "532aac6f22284f5ca0c1a486dc63d559",
       "version_major": 2,
       "version_minor": 0
      },
      "text/plain": [
       "  0%|          | 0/4818679 [00:00<?, ?it/s]"
      ]
     },
     "metadata": {},
     "output_type": "display_data"
    },
    {
     "name": "stdout",
     "output_type": "stream",
     "text": [
      "Ainsi soit je… Ainsi soit je...\n",
      "...Baby One More Time ...Baby One More Time\n",
      "Oops!… I Did It Again Oops!... I Did It Again\n",
      "Avant que l'ombre... Avant que l'ombre...\n",
      "1012 1012\n",
      "Now You See It… Now You See It...\n",
      "Dear... Dear...\n",
      "C3 C3\n",
      "E=MC2 E=MC2\n",
      "K² K2\n",
      "6₂ 62\n",
      "M² M2\n",
      "6₃ 63\n",
      "7₁ 71\n",
      "Iris Ⅱ Iris II\n",
      "All Good Things... All Good Things...\n",
      "DNA2 DNA2\n",
      "And Another Thing… And Another Thing...\n",
      "J2 J2\n",
      "Mark III Mark III\n",
      "ARA Azopardo ARA Azopardo\n",
      "I Am... World Tour I Am... World Tour\n",
      "7₄ 74\n",
      "H2O: Just Add Water H2O: Just Add Water\n",
      "M³ M3\n",
      "E2 E2\n",
      "No3 No3\n"
     ]
    }
   ],
   "source": [
    "import unicodedata\n",
    "\n",
    "normalized_entity_names = []\n",
    "normalized_entity_names_set = set()\n",
    "for e in tqdm(entity_names):\n",
    "    ne = unicodedata.normalize('NFKC', e)\n",
    "    normalized_entity_names.append(ne)\n",
    "    if ne in normalized_entity_names_set:\n",
    "        print(e, ne)\n",
    "    else:\n",
    "        normalized_entity_names_set.add(ne)"
   ]
  },
  {
   "cell_type": "code",
   "execution_count": 34,
   "id": "32e65d7a",
   "metadata": {},
   "outputs": [
    {
     "data": {
      "text/plain": [
       "['|tail|Lalit Kumar Goel|||instance of']"
      ]
     },
     "execution_count": 34,
     "metadata": {},
     "output_type": "execute_result"
    }
   ],
   "source": [
    "sp.decode([[31895, 5, 12986, 16, 5801, 1945, 62, 6, 26, 10]])"
   ]
  },
  {
   "cell_type": "code",
   "execution_count": 113,
   "id": "ef130d72",
   "metadata": {},
   "outputs": [],
   "source": [
    "random.shuffle(train_inputs)"
   ]
  },
  {
   "cell_type": "code",
   "execution_count": 155,
   "id": "025fc0be",
   "metadata": {},
   "outputs": [
    {
     "data": {
      "application/vnd.jupyter.widget-view+json": {
       "model_id": "b6f543cb3e4344f2b583321c97a04986",
       "version_major": 2,
       "version_minor": 0
      },
      "text/plain": [
       "  0%|          | 0/1000000 [00:00<?, ?it/s]"
      ]
     },
     "metadata": {},
     "output_type": "display_data"
    }
   ],
   "source": [
    "from tqdm.notebook import tqdm\n",
    "lengths = []\n",
    "for line in tqdm(train_inputs[:1000000]):\n",
    "    x = sp.encode(line)\n",
    "    lengths.append(len(x))"
   ]
  },
  {
   "cell_type": "code",
   "execution_count": 161,
   "id": "f2b9b096",
   "metadata": {},
   "outputs": [
    {
     "data": {
      "text/plain": [
       "(59, 5)"
      ]
     },
     "execution_count": 161,
     "metadata": {},
     "output_type": "execute_result"
    }
   ],
   "source": [
    "max(lengths), min(lengths)"
   ]
  },
  {
   "cell_type": "code",
   "execution_count": 157,
   "id": "ee1e990d",
   "metadata": {},
   "outputs": [
    {
     "data": {
      "text/plain": [
       "7.0"
      ]
     },
     "execution_count": 157,
     "metadata": {},
     "output_type": "execute_result"
    }
   ],
   "source": [
    "import statistics\n",
    "statistics.median(lengths)"
   ]
  },
  {
   "cell_type": "code",
   "execution_count": 158,
   "id": "5d8d539a",
   "metadata": {},
   "outputs": [
    {
     "data": {
      "text/plain": [
       "2"
      ]
     },
     "execution_count": 158,
     "metadata": {},
     "output_type": "execute_result"
    }
   ],
   "source": [
    "sp['</s>']"
   ]
  },
  {
   "cell_type": "code",
   "execution_count": null,
   "id": "1d355d5d",
   "metadata": {},
   "outputs": [],
   "source": []
  },
  {
   "cell_type": "code",
   "execution_count": 159,
   "id": "ea560021",
   "metadata": {},
   "outputs": [
    {
     "data": {
      "text/plain": [
       "52"
      ]
     },
     "execution_count": 159,
     "metadata": {},
     "output_type": "execute_result"
    }
   ],
   "source": [
    "count = 0\n",
    "for l in lengths:\n",
    "    if l > 30:\n",
    "        count += 1\n",
    "count"
   ]
  },
  {
   "cell_type": "code",
   "execution_count": 160,
   "id": "02a394db",
   "metadata": {},
   "outputs": [
    {
     "data": {
      "text/plain": [
       "Text(0.5, 0, 'Tokenized lengths')"
      ]
     },
     "execution_count": 160,
     "metadata": {},
     "output_type": "execute_result"
    },
    {
     "data": {
      "image/png": "[encoded data removed]",
      "text/plain": [
       "<Figure size 432x288 with 1 Axes>"
      ]
     },
     "metadata": {
      "needs_background": "light"
     },
     "output_type": "display_data"
    }
   ],
   "source": [
    "import matplotlib.pyplot as plt \n",
    "\n",
    "import numpy as np \n",
    "\n",
    "%matplotlib inline\n",
    "\n",
    "# x = np.random.normal(size = 1000) \n",
    "x = lengths\n",
    "plt.hist(x, bins=30) \n",
    "\n",
    "plt.ylabel('Num entities');\n",
    "plt.xlabel('Tokenized lengths')"
   ]
  },
  {
   "cell_type": "code",
   "execution_count": 107,
   "id": "de366a3c",
   "metadata": {},
   "outputs": [
    {
     "data": {
      "text/plain": [
       "array([[    5,     7,     4, 21171,     3,    88,   257,     3,     2],\n",
       "       [    5,     8,     4,    68,     3,    68,     3,     2,     0]])"
      ]
     },
     "execution_count": 107,
     "metadata": {},
     "output_type": "execute_result"
    }
   ],
   "source": [
    "input1 = 'predict head: obama | position held |'\n",
    "input2 = 'predict tail: f | f |'\n",
    "out = sp.encode([input1, input2])\n",
    "for x in out:\n",
    "    x.append(sp['</s>'])\n",
    "length = max(map(len, out))\n",
    "y = np.array([xi+[sp['<pad>']]*(length-len(xi)) for xi in out])\n",
    "y"
   ]
  },
  {
   "cell_type": "code",
   "execution_count": 96,
   "id": "05ace82e",
   "metadata": {},
   "outputs": [
    {
     "data": {
      "text/plain": [
       "[9, 8]"
      ]
     },
     "execution_count": 96,
     "metadata": {},
     "output_type": "execute_result"
    }
   ],
   "source": [
    "lengths = [len(x) for x in out]\n",
    "lengths"
   ]
  },
  {
   "cell_type": "code",
   "execution_count": 100,
   "id": "ec9975b6",
   "metadata": {},
   "outputs": [
    {
     "data": {
      "text/plain": [
       "array([[1, 1, 1, 1, 1, 1, 1, 1, 1],\n",
       "       [1, 1, 1, 1, 1, 1, 1, 1, 0]])"
      ]
     },
     "execution_count": 100,
     "metadata": {},
     "output_type": "execute_result"
    }
   ],
   "source": [
    "max_len = max(lengths)\n",
    "attention_mask = np.zeros((len(lengths), max_len), dtype=np.long)\n",
    "for i, l in enumerate(lengths):\n",
    "    attention_mask[i][:l] = np.ones((l), dtype=np.long)\n",
    "attention_mask"
   ]
  },
  {
   "cell_type": "code",
   "execution_count": 117,
   "id": "a8bbc820",
   "metadata": {},
   "outputs": [
    {
     "data": {
      "text/plain": [
       "tensor([[    5,     7,     4, 21171,     3,    88,   257,     3,     2],\n",
       "        [    5,     8,     4,    68,     3,    68,     3,     2,     0]])"
      ]
     },
     "execution_count": 117,
     "metadata": {},
     "output_type": "execute_result"
    }
   ],
   "source": [
    "import torch\n",
    "x = torch.LongTensor(y)\n",
    "x"
   ]
  },
  {
   "cell_type": "code",
   "execution_count": 119,
   "id": "e15ea52a",
   "metadata": {},
   "outputs": [
    {
     "data": {
      "text/plain": [
       "' ⁇  ⁇  ⁇ '"
      ]
     },
     "execution_count": 119,
     "metadata": {},
     "output_type": "execute_result"
    }
   ],
   "source": [
    "sp.decode([0, 0, 0])"
   ]
  },
  {
   "cell_type": "code",
   "execution_count": 81,
   "id": "916771d3",
   "metadata": {},
   "outputs": [],
   "source": [
    "import numpy as np\n",
    "lengths = [len(x) for x in out]\n",
    "max_len = max(lengths)\n",
    "# np.pad(out, (1,1))\n",
    "x = np.zeros((len(out), max_len), dtype=np.long)\n",
    "x[0] = out[0]\n",
    "x[1][:lengths[1]] = out[1]"
   ]
  },
  {
   "cell_type": "code",
   "execution_count": 116,
   "id": "f1dae72e",
   "metadata": {},
   "outputs": [
    {
     "name": "stdout",
     "output_type": "stream",
     "text": [
      "[8318, 68, 2]\n"
     ]
    },
    {
     "data": {
      "text/plain": [
       "'hello f'"
      ]
     },
     "execution_count": 116,
     "metadata": {},
     "output_type": "execute_result"
    }
   ],
   "source": [
    "x = sp.encode('hello f')\n",
    "x.append(sp['</s>'])\n",
    "x = np.array(x)\n",
    "x = x.tolist()\n",
    "print(x)\n",
    "sp.decode(x)"
   ]
  },
  {
   "cell_type": "code",
   "execution_count": 41,
   "id": "006d18f7",
   "metadata": {},
   "outputs": [
    {
     "name": "stdout",
     "output_type": "stream",
     "text": [
      "['▁predict', '▁head', ':', '▁obama', '▁|', '▁position', '▁held', '▁|']\n",
      "['▁predict', '▁head', ':', '▁obama', '▁|', '▁position', '▁held', '▁|']\n",
      "['▁predict', '▁head', ':', '▁obama', '▁|', '▁position', '▁hel', 'd', '▁|']\n",
      "['▁predict', '▁head', ':', '▁obama', '▁|', '▁position', '▁held', '▁|']\n",
      "['▁predict', '▁head', ':', '▁ob', 'ama', '▁|', '▁position', '▁held', '▁|']\n"
     ]
    }
   ],
   "source": [
    "for _ in range(5):\n",
    "    x = sp.encode('predict head: obama | position held |', out_type=str, enable_sampling=True, alpha=0.5, nbest_size=-1)\n",
    "    print(x)"
   ]
  },
  {
   "cell_type": "code",
   "execution_count": 3,
   "id": "02796e00",
   "metadata": {},
   "outputs": [],
   "source": [
    "import os\n",
    "from transformers import XLMTokenizer\n",
    "from transformers import PreTrainedTokenizer\n",
    "from transformers import GPT2Tokenizer\n",
    "\n",
    "def saveBPETokenizer(tokenizer, prefix):\n",
    "    # make directory for tokenizer\n",
    "    path = os.path.join('data/bpe', prefix)\n",
    "    if not os.path.exists(path):\n",
    "        os.mkdir(path)\n",
    "    # save + load data\n",
    "    main_fname = 'data/bpe/{}/main.json'.format(prefix)\n",
    "    tokenizer.save(main_fname)\n",
    "    f = open(main_fname, 'r')\n",
    "    data = json.load(f)\n",
    "    f.close()\n",
    "    #save data in format required by transformers.PretrainedTokenizer\n",
    "    vocab_fname = 'data/bpe/{}/vocab.json'.format(prefix)\n",
    "    merges_fname = 'data/bpe/{}/merges.txt'.format(prefix)\n",
    "    json_object = json.dumps(data['model']['vocab'])\n",
    "    with open(vocab_fname, \"w\") as outfile:\n",
    "        outfile.write(json_object)\n",
    "    f = open(merges_fname, 'w')\n",
    "    for x in data['model']['merges']:\n",
    "        f.write(x +'\\n')\n",
    "    f.close()\n",
    "    print('Saved')\n",
    "    \n",
    "def saveWordPieceTokenizer(tokenizer, prefix):\n",
    "    # make directory for tokenizer\n",
    "    path = os.path.join('data/wordpiece', prefix)\n",
    "    if not os.path.exists(path):\n",
    "        os.mkdir(path)\n",
    "    # save + load data\n",
    "    main_fname = 'data/wordpiece/{}/main.json'.format(prefix)\n",
    "    tokenizer.save(main_fname)\n",
    "    print('Saved')\n",
    "\n",
    "\n",
    "\n",
    "def loadBPETokenizer(prefix):\n",
    "    vocab_fname = 'data/bpe/{}/vocab.json'.format(prefix)\n",
    "    merges_fname = 'data/bpe/{}/merges.txt'.format(prefix)\n",
    "#     tokenizer = XLMTokenizer(vocab_file=vocab_fname, merges_file=merges_fname)\n",
    "    tokenizer = GPT2Tokenizer(vocab_file=vocab_fname, merges_file=merges_fname, \n",
    "                              unk_token='<unk>', \n",
    "                              bos_token='<s>', \n",
    "                              eos_token='</s>', \n",
    "                              add_prefix_space=True)\n",
    "    return tokenizer"
   ]
  },
  {
   "cell_type": "code",
   "execution_count": 4,
   "id": "d0bbea53",
   "metadata": {},
   "outputs": [
    {
     "name": "stdout",
     "output_type": "stream",
     "text": [
      "Saved\n"
     ]
    }
   ],
   "source": [
    "# saveBPETokenizer(tokenizer, 'codexm{}'.format(vocab_size))\n",
    "saveWordPieceTokenizer(tokenizer, 'wikidata5m_{}'.format(vocab_size))"
   ]
  },
  {
   "cell_type": "code",
   "execution_count": 6,
   "id": "c96f6350",
   "metadata": {},
   "outputs": [
    {
     "data": {
      "text/plain": [
       "[Encoding(num_tokens=10, attributes=[ids, type_ids, tokens, offsets, attention_mask, special_tokens_mask, overflowing]),\n",
       " Encoding(num_tokens=5, attributes=[ids, type_ids, tokens, offsets, attention_mask, special_tokens_mask, overflowing]),\n",
       " Encoding(num_tokens=2, attributes=[ids, type_ids, tokens, offsets, attention_mask, special_tokens_mask, overflowing])]"
      ]
     },
     "execution_count": 6,
     "metadata": {},
     "output_type": "execute_result"
    }
   ],
   "source": [
    "# text = train_data[0]\n",
    "text = 'hello world'\n",
    "tokenizer.encode_batch([\"predict tail: obama | united states of america |\", \"How are you 😁 ?\", text])"
   ]
  },
  {
   "cell_type": "code",
   "execution_count": 7,
   "id": "d2fa426f",
   "metadata": {},
   "outputs": [
    {
     "data": {
      "text/plain": [
       "['hello', 'world', '</s>', '<pad>', '<pad>', '<pad>']"
      ]
     },
     "execution_count": 7,
     "metadata": {},
     "output_type": "execute_result"
    }
   ],
   "source": [
    "text = 'hello world  </s>'\n",
    "tokenizer.enable_padding(pad_id=2, pad_token=\"<pad>\")\n",
    "x = tokenizer.encode_batch([\"Hello, y'all!\", \"How are you 😁 ?\", text])\n",
    "x[2].tokens"
   ]
  },
  {
   "cell_type": "code",
   "execution_count": 12,
   "id": "6f625229",
   "metadata": {},
   "outputs": [],
   "source": [
    "x = tokenizer.encode('predict relation: obama | united states of america | </s>').ids\n",
    "y = tokenizer.encode('fsadlk jfasdkf jsadlkfjas lkdjf').ids\n",
    "out = tokenizer.decode_batch([x,y], skip_special_tokens=True)\n",
    "# for x in out:\n",
    "#     x = x.replace(' ##', '')\n",
    "#     print(x)"
   ]
  },
  {
   "cell_type": "code",
   "execution_count": 8,
   "id": "b876eac7",
   "metadata": {},
   "outputs": [
    {
     "data": {
      "text/plain": [
       "['predict',\n",
       " 'tail',\n",
       " ':',\n",
       " 'obama',\n",
       " '|',\n",
       " 'united',\n",
       " 'states',\n",
       " 'of',\n",
       " 'america',\n",
       " '|',\n",
       " '</s>']"
      ]
     },
     "execution_count": 8,
     "metadata": {},
     "output_type": "execute_result"
    }
   ],
   "source": [
    "y = tokenizer.encode('predict tail: obama | united states of america | </s>')\n",
    "y.tokens"
   ]
  },
  {
   "cell_type": "code",
   "execution_count": 236,
   "id": "b9cb2936",
   "metadata": {},
   "outputs": [
    {
     "data": {
      "text/plain": [
       "2"
      ]
     },
     "execution_count": 236,
     "metadata": {},
     "output_type": "execute_result"
    }
   ],
   "source": [
    "tokenizer.encode('<pad>').ids[0]"
   ]
  },
  {
   "cell_type": "code",
   "execution_count": 209,
   "id": "09c0364a",
   "metadata": {},
   "outputs": [],
   "source": [
    "tk = loadBPETokenizer('codexm{}'.format(vocab_size))"
   ]
  },
  {
   "cell_type": "code",
   "execution_count": 210,
   "id": "89cd85cf",
   "metadata": {},
   "outputs": [],
   "source": [
    "text = ' hello world'"
   ]
  },
  {
   "cell_type": "code",
   "execution_count": 270,
   "id": "c800ae24",
   "metadata": {},
   "outputs": [],
   "source": [
    "tokenized = tk(text, truncation=True, max_length=128, return_tensors=\"pt\")\n",
    "# tokenized_ids = [0 if token == None else token for token in tokenized.input_ids]\n",
    "# ''.join(tk.convert_ids_to_tokens(tokenized_ids))"
   ]
  },
  {
   "cell_type": "code",
   "execution_count": 59,
   "id": "17f11abd",
   "metadata": {},
   "outputs": [
    {
     "data": {
      "text/plain": [
       "0"
      ]
     },
     "execution_count": 59,
     "metadata": {},
     "output_type": "execute_result"
    }
   ],
   "source": [
    "t5tk.pad_token_id"
   ]
  },
  {
   "cell_type": "code",
   "execution_count": 277,
   "id": "bee3b882",
   "metadata": {},
   "outputs": [
    {
     "data": {
      "text/plain": [
       "array([[1, 2, 3, 4],\n",
       "       [1, 2, 3, 4]])"
      ]
     },
     "execution_count": 277,
     "metadata": {},
     "output_type": "execute_result"
    }
   ],
   "source": [
    "import numpy as np\n",
    "x = [1,2,3,4]\n",
    "x = np.array(x)\n",
    "np.stack([x,x])"
   ]
  },
  {
   "cell_type": "code",
   "execution_count": 259,
   "id": "b029923f",
   "metadata": {},
   "outputs": [
    {
     "data": {
      "text/plain": [
       "[3,\n",
       " 65,\n",
       " 42,\n",
       " 36,\n",
       " 53,\n",
       " 3,\n",
       " 77,\n",
       " 31,\n",
       " 3,\n",
       " 34,\n",
       " 3,\n",
       " 1115,\n",
       " 56,\n",
       " 3,\n",
       " 1587,\n",
       " 3,\n",
       " 617,\n",
       " 3,\n",
       " 60,\n",
       " 3,\n",
       " 193,\n",
       " 3,\n",
       " 111,\n",
       " 3,\n",
       " 60,\n",
       " 3,\n",
       " 554,\n",
       " 3,\n",
       " 777,\n",
       " 107,\n",
       " 122,\n",
       " 211]"
      ]
     },
     "execution_count": 259,
     "metadata": {},
     "output_type": "execute_result"
    }
   ],
   "source": [
    "from transformers import BatchEncoding\n",
    "da = {}\n",
    "da['input_ids'] = x.input_ids\n",
    "da['attention_mask'] = x.attention_mask\n",
    "da2 = BatchEncoding(da)\n",
    "da2.input_ids"
   ]
  },
  {
   "cell_type": "code",
   "execution_count": 118,
   "id": "9cf1d8e9",
   "metadata": {},
   "outputs": [],
   "source": [
    "train_data = []\n",
    "fname = 'data/codex-m/train.txt'\n",
    "f = open(fname, 'r')\n",
    "for line in f:\n",
    "    train_data.append(line.strip())"
   ]
  },
  {
   "cell_type": "code",
   "execution_count": 197,
   "id": "11dcd2d6",
   "metadata": {},
   "outputs": [
    {
     "data": {
      "text/plain": [
       "'<unk>'"
      ]
     },
     "execution_count": 197,
     "metadata": {},
     "output_type": "execute_result"
    }
   ],
   "source": [
    "tk.unk_token "
   ]
  },
  {
   "cell_type": "code",
   "execution_count": 20,
   "id": "9720b0a0",
   "metadata": {},
   "outputs": [],
   "source": [
    "import json\n",
    "  \n",
    "# Opening JSON file\n",
    "fname = \"data/tokenizer-codexm-2k.json\"\n",
    "f = open(fname, 'r')\n",
    "  \n",
    "# returns JSON object as \n",
    "# a dictionary\n",
    "data = json.load(f)\n"
   ]
  },
  {
   "cell_type": "code",
   "execution_count": 22,
   "id": "6bf3f703",
   "metadata": {},
   "outputs": [],
   "source": [
    "kwargs = {\n",
    "    'pretrained_vocab_files_map ': data\n",
    "}\n"
   ]
  },
  {
   "cell_type": "code",
   "execution_count": 26,
   "id": "99a56b53",
   "metadata": {},
   "outputs": [
    {
     "name": "stderr",
     "output_type": "stream",
     "text": [
      "Calling PreTrainedTokenizer.from_pretrained() with the path to a single file or url is deprecated\n"
     ]
    },
    {
     "ename": "IndexError",
     "evalue": "list index out of range",
     "output_type": "error",
     "traceback": [
      "\u001b[0;31m---------------------------------------------------------------------------\u001b[0m",
      "\u001b[0;31mIndexError\u001b[0m                                Traceback (most recent call last)",
      "\u001b[0;32m<ipython-input-26-79b53b903370>\u001b[0m in \u001b[0;36m<module>\u001b[0;34m\u001b[0m\n\u001b[0;32m----> 1\u001b[0;31m \u001b[0mtk\u001b[0m \u001b[0;34m=\u001b[0m \u001b[0mPreTrainedTokenizer\u001b[0m\u001b[0;34m.\u001b[0m\u001b[0mfrom_pretrained\u001b[0m\u001b[0;34m(\u001b[0m\u001b[0mfname\u001b[0m\u001b[0;34m)\u001b[0m\u001b[0;34m\u001b[0m\u001b[0;34m\u001b[0m\u001b[0m\n\u001b[0m",
      "\u001b[0;32m/scratche/home/apoorv/transformer-kgc/kgc_env/lib/python3.8/site-packages/transformers/tokenization_utils_base.py\u001b[0m in \u001b[0;36mfrom_pretrained\u001b[0;34m(cls, pretrained_model_name_or_path, *init_inputs, **kwargs)\u001b[0m\n\u001b[1;32m   1701\u001b[0m                     )\n\u001b[1;32m   1702\u001b[0m                 )\n\u001b[0;32m-> 1703\u001b[0;31m                 \u001b[0mfile_id\u001b[0m \u001b[0;34m=\u001b[0m \u001b[0mlist\u001b[0m\u001b[0;34m(\u001b[0m\u001b[0mcls\u001b[0m\u001b[0;34m.\u001b[0m\u001b[0mvocab_files_names\u001b[0m\u001b[0;34m.\u001b[0m\u001b[0mkeys\u001b[0m\u001b[0;34m(\u001b[0m\u001b[0;34m)\u001b[0m\u001b[0;34m)\u001b[0m\u001b[0;34m[\u001b[0m\u001b[0;36m0\u001b[0m\u001b[0;34m]\u001b[0m\u001b[0;34m\u001b[0m\u001b[0;34m\u001b[0m\u001b[0m\n\u001b[0m\u001b[1;32m   1704\u001b[0m                 \u001b[0mvocab_files\u001b[0m\u001b[0;34m[\u001b[0m\u001b[0mfile_id\u001b[0m\u001b[0;34m]\u001b[0m \u001b[0;34m=\u001b[0m \u001b[0mpretrained_model_name_or_path\u001b[0m\u001b[0;34m\u001b[0m\u001b[0;34m\u001b[0m\u001b[0m\n\u001b[1;32m   1705\u001b[0m             \u001b[0;32melse\u001b[0m\u001b[0;34m:\u001b[0m\u001b[0;34m\u001b[0m\u001b[0;34m\u001b[0m\u001b[0m\n",
      "\u001b[0;31mIndexError\u001b[0m: list index out of range"
     ]
    }
   ],
   "source": [
    "# tokenizer =  XLMTokenizer(vocab_file='vocab.json', merges_file='merges.txt')"
   ]
  },
  {
   "cell_type": "code",
   "execution_count": 88,
   "id": "390ffdb2",
   "metadata": {},
   "outputs": [],
   "source": [
    "xlmtk = XLMTokenizer.from_pretrained('xlm-mlm-en-2048')"
   ]
  },
  {
   "cell_type": "code",
   "execution_count": 89,
   "id": "d939ade4",
   "metadata": {},
   "outputs": [
    {
     "data": {
      "text/plain": [
       "['<s>',\n",
       " '</s>',\n",
       " '<pad>',\n",
       " '<unk>',\n",
       " '<special0>',\n",
       " '<special1>',\n",
       " '<special2>',\n",
       " '<special3>',\n",
       " '<special4>']"
      ]
     },
     "execution_count": 89,
     "metadata": {},
     "output_type": "execute_result"
    }
   ],
   "source": [
    "xlmtk.convert_ids_to_tokens([0,1,2,3,4,5,6,7,8])"
   ]
  },
  {
   "cell_type": "code",
   "execution_count": 90,
   "id": "c88b6b29",
   "metadata": {},
   "outputs": [
    {
     "ename": "AttributeError",
     "evalue": "'XLMTokenizer' object has no attribute 'special_tokens'",
     "output_type": "error",
     "traceback": [
      "\u001b[0;31m---------------------------------------------------------------------------\u001b[0m",
      "\u001b[0;31mAttributeError\u001b[0m                            Traceback (most recent call last)",
      "\u001b[0;32m<ipython-input-90-0249e582fd19>\u001b[0m in \u001b[0;36m<module>\u001b[0;34m\u001b[0m\n\u001b[0;32m----> 1\u001b[0;31m \u001b[0mxlmtk\u001b[0m\u001b[0;34m.\u001b[0m\u001b[0mspecial_tokens\u001b[0m\u001b[0;34m\u001b[0m\u001b[0;34m\u001b[0m\u001b[0m\n\u001b[0m",
      "\u001b[0;31mAttributeError\u001b[0m: 'XLMTokenizer' object has no attribute 'special_tokens'"
     ]
    }
   ],
   "source": [
    "xlmtk.special_tokens"
   ]
  },
  {
   "cell_type": "code",
   "execution_count": 74,
   "id": "53424246",
   "metadata": {},
   "outputs": [],
   "source": [
    "mytk = XLMTokenizer(vocab_file='vocab.json', merges_file='merges.txt')"
   ]
  },
  {
   "cell_type": "code",
   "execution_count": 75,
   "id": "fd5af210",
   "metadata": {},
   "outputs": [
    {
     "data": {
      "text/plain": [
       "['<unk>', '<s>', '</s>', '<pad>', '<mask>', '!']"
      ]
     },
     "execution_count": 75,
     "metadata": {},
     "output_type": "execute_result"
    }
   ],
   "source": [
    "mytk.convert_ids_to_tokens([0,1,2,3,4,5])"
   ]
  },
  {
   "cell_type": "code",
   "execution_count": 33,
   "id": "27a317f5",
   "metadata": {},
   "outputs": [
    {
     "ename": "TypeError",
     "evalue": "Can't convert 'codexm2k' to PyBool",
     "output_type": "error",
     "traceback": [
      "\u001b[0;31m---------------------------------------------------------------------------\u001b[0m",
      "\u001b[0;31mTypeError\u001b[0m                                 Traceback (most recent call last)",
      "\u001b[0;32m<ipython-input-33-8b6366dbbf7f>\u001b[0m in \u001b[0;36m<module>\u001b[0;34m\u001b[0m\n\u001b[0;32m----> 1\u001b[0;31m \u001b[0mtokenizer\u001b[0m\u001b[0;34m.\u001b[0m\u001b[0msave\u001b[0m\u001b[0;34m(\u001b[0m\u001b[0;34m'data/bpe'\u001b[0m\u001b[0;34m,\u001b[0m \u001b[0;34m'codexm2k'\u001b[0m\u001b[0;34m)\u001b[0m\u001b[0;34m\u001b[0m\u001b[0;34m\u001b[0m\u001b[0m\n\u001b[0m",
      "\u001b[0;31mTypeError\u001b[0m: Can't convert 'codexm2k' to PyBool"
     ]
    }
   ],
   "source": [
    "tokenizer.save('data/bpe', 'codexm2k')\n"
   ]
  },
  {
   "cell_type": "code",
   "execution_count": 34,
   "id": "ffc1c2be",
   "metadata": {},
   "outputs": [
    {
     "data": {
      "text/plain": [
       "<function Tokenizer.save(self, pretty=False)>"
      ]
     },
     "execution_count": 34,
     "metadata": {},
     "output_type": "execute_result"
    }
   ],
   "source": [
    "tokenizer.save"
   ]
  },
  {
   "cell_type": "code",
   "execution_count": 35,
   "id": "d478aac8",
   "metadata": {},
   "outputs": [],
   "source": []
  },
  {
   "cell_type": "code",
   "execution_count": 39,
   "id": "4b5e6812",
   "metadata": {},
   "outputs": [],
   "source": [
    "f = open('merges.txt', 'w')\n",
    "for x in data['model']['merges']:\n",
    "    f.write(x +'\\n')\n",
    "f.close()"
   ]
  },
  {
   "cell_type": "code",
   "execution_count": 42,
   "id": "62578e2d",
   "metadata": {},
   "outputs": [],
   "source": [
    "from transformers import XLMTokenizer"
   ]
  },
  {
   "cell_type": "code",
   "execution_count": 44,
   "id": "64f2cbff",
   "metadata": {},
   "outputs": [],
   "source": [
    "tk2 = XLMTokenizer(vocab_file='vocab.json', merges_file='merges.txt')"
   ]
  },
  {
   "cell_type": "code",
   "execution_count": 45,
   "id": "86ad5783",
   "metadata": {},
   "outputs": [
    {
     "data": {
      "text/plain": [
       "2000"
      ]
     },
     "execution_count": 45,
     "metadata": {},
     "output_type": "execute_result"
    }
   ],
   "source": [
    "tk2.vocab_size"
   ]
  },
  {
   "cell_type": "code",
   "execution_count": 29,
   "id": "e8c02f22",
   "metadata": {},
   "outputs": [],
   "source": [
    "from transformers import T5Tokenizer"
   ]
  },
  {
   "cell_type": "code",
   "execution_count": 30,
   "id": "8addc29d",
   "metadata": {},
   "outputs": [],
   "source": [
    "t5tk = T5Tokenizer.from_pretrained('t5-small')"
   ]
  },
  {
   "cell_type": "code",
   "execution_count": 60,
   "id": "38410744",
   "metadata": {},
   "outputs": [
    {
     "data": {
      "text/plain": [
       "2"
      ]
     },
     "execution_count": 60,
     "metadata": {},
     "output_type": "execute_result"
    }
   ],
   "source": [
    "t5tk.convert_tokens_to_ids('<e>')"
   ]
  },
  {
   "cell_type": "code",
   "execution_count": 35,
   "id": "7885e361",
   "metadata": {},
   "outputs": [
    {
     "data": {
      "text/plain": [
       "{'input_ids': [21820, 3, 2, 7, 3155, 1], 'attention_mask': [1, 1, 1, 1, 1, 1]}"
      ]
     },
     "execution_count": 35,
     "metadata": {},
     "output_type": "execute_result"
    }
   ],
   "source": [
    "t5tk('hello <s>')"
   ]
  },
  {
   "cell_type": "code",
   "execution_count": 76,
   "id": "341279c0",
   "metadata": {},
   "outputs": [
    {
     "data": {
      "text/plain": [
       "['<pad>', '</s>', '<unk>', '▁', 'X', '.']"
      ]
     },
     "execution_count": 76,
     "metadata": {},
     "output_type": "execute_result"
    }
   ],
   "source": [
    "t5tk.convert_ids_to_tokens([0,1,2,3,4,5])"
   ]
  },
  {
   "cell_type": "code",
   "execution_count": null,
   "id": "52a29a0b",
   "metadata": {},
   "outputs": [],
   "source": []
  }
 ],
 "metadata": {
  "kernelspec": {
   "display_name": "Python 3 (ipykernel)",
   "language": "python",
   "name": "python3"
  },
  "language_info": {
   "codemirror_mode": {
    "name": "ipython",
    "version": 3
   },
   "file_extension": ".py",
   "mimetype": "text/x-python",
   "name": "python",
   "nbconvert_exporter": "python",
   "pygments_lexer": "ipython3",
   "version": "3.8.11"
  }
 },
 "nbformat": 4,
 "nbformat_minor": 5
}

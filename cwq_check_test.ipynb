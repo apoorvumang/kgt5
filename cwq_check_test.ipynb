{
 "cells": [
  {
   "cell_type": "code",
   "execution_count": 1,
   "id": "522e0e82",
   "metadata": {},
   "outputs": [],
   "source": [
    "import pickle\n",
    "import json\n",
    "from tqdm.notebook import tqdm\n",
    "import os"
   ]
  },
  {
   "cell_type": "code",
   "execution_count": 2,
   "id": "88ae171c",
   "metadata": {},
   "outputs": [
    {
     "name": "stdout",
     "output_type": "stream",
     "text": [
      "predictions_cwq_dev.json  predictions_cwq_test.json\r\n"
     ]
    }
   ],
   "source": [
    "! ls *.json"
   ]
  },
  {
   "cell_type": "code",
   "execution_count": 36,
   "id": "d16f6088",
   "metadata": {},
   "outputs": [],
   "source": [
    "fname = 'predictions_cwq_test.json'\n",
    "preds_json = json.load(open(fname))\n",
    "# preds = [item['answer'] for item in preds_json]\n",
    "preds = {}\n",
    "for item in preds_json:\n",
    "    preds[item['ID']] = item['answer']"
   ]
  },
  {
   "cell_type": "code",
   "execution_count": 33,
   "id": "98eccb3c",
   "metadata": {},
   "outputs": [],
   "source": [
    "fname = 'test_answers_cwq2.txt'\n",
    "lines = []\n",
    "for line in open(fname):\n",
    "    lines.append(line.rstrip())"
   ]
  },
  {
   "cell_type": "code",
   "execution_count": 34,
   "id": "5dc2e232",
   "metadata": {},
   "outputs": [
    {
     "data": {
      "text/plain": [
       "3526"
      ]
     },
     "execution_count": 34,
     "metadata": {},
     "output_type": "execute_result"
    }
   ],
   "source": [
    "count = 0\n",
    "for line in lines:\n",
    "    if 'Query result' in line:\n",
    "        count += 1\n",
    "count"
   ]
  },
  {
   "cell_type": "code",
   "execution_count": 35,
   "id": "4a8f94b0",
   "metadata": {},
   "outputs": [
    {
     "data": {
      "text/plain": [
       "['Query result:',\n",
       " 'name',\n",
       " 'ANY\\tcallret-1',\n",
       " 'ANY',\n",
       " ' 2012 World Series\\t WebQTest-832_c334509bb5e02cacae1ba2e80c176499',\n",
       " 'No. of rows in result: 1',\n",
       " 'Query result:',\n",
       " 'name',\n",
       " 'ANY\\tcallret-1',\n",
       " 'ANY']"
      ]
     },
     "execution_count": 35,
     "metadata": {},
     "output_type": "execute_result"
    }
   ],
   "source": [
    "lines[:10]"
   ]
  },
  {
   "cell_type": "code",
   "execution_count": 44,
   "id": "613153ac",
   "metadata": {},
   "outputs": [],
   "source": [
    "from unidecode import unidecode\n",
    "from collections import defaultdict\n",
    "targets = {}\n",
    "for i in range(len(lines)):\n",
    "    if lines[i].startswith('Query result:'):\n",
    "        i += 4\n",
    "        item = []\n",
    "        qid = ''\n",
    "        while not lines[i].startswith('No. of rows in result'):\n",
    "            ans, qid = lines[i].split('\\t')\n",
    "            qid = qid.strip()\n",
    "            ans = unidecode(ans).lower()\n",
    "            ans = ans.strip()\n",
    "            item.append(ans)\n",
    "            i += 1\n",
    "        if qid != '':\n",
    "            targets[qid] = item\n",
    "        i += 1\n",
    "    else:\n",
    "        i += 1"
   ]
  },
  {
   "cell_type": "code",
   "execution_count": 48,
   "id": "879f3ab8",
   "metadata": {},
   "outputs": [
    {
     "data": {
      "text/plain": [
       "1181"
      ]
     },
     "execution_count": 48,
     "metadata": {},
     "output_type": "execute_result"
    }
   ],
   "source": [
    "count = 0\n",
    "for key in targets.keys():\n",
    "    targets_ans = targets[key]\n",
    "    pred_ans = preds[key]\n",
    "    if pred_ans in targets_ans:\n",
    "        count += 1\n",
    "count"
   ]
  },
  {
   "cell_type": "code",
   "execution_count": 49,
   "id": "f52882d7",
   "metadata": {},
   "outputs": [
    {
     "data": {
      "text/plain": [
       "0.3447168709865733"
      ]
     },
     "execution_count": 49,
     "metadata": {},
     "output_type": "execute_result"
    }
   ],
   "source": [
    "1181/len(targets)"
   ]
  },
  {
   "cell_type": "code",
   "execution_count": 32,
   "id": "22c61bf4",
   "metadata": {},
   "outputs": [
    {
     "data": {
      "text/plain": [
       "363"
      ]
     },
     "execution_count": 32,
     "metadata": {},
     "output_type": "execute_result"
    }
   ],
   "source": [
    "count = 0\n",
    "for i in range(1100):\n",
    "    if preds[i] in targets[i]:\n",
    "        count += 1\n",
    "count"
   ]
  },
  {
   "cell_type": "code",
   "execution_count": 26,
   "id": "87c21beb",
   "metadata": {},
   "outputs": [
    {
     "data": {
      "text/plain": [
       "[['tarsus'],\n",
       " [],\n",
       " ['austria'],\n",
       " ['five minutes to live',\n",
       "  'under the boardwalk: the monopoly story',\n",
       "  'village of the giants',\n",
       "  'the wild country',\n",
       "  'the first nudie musical',\n",
       "  'the independent',\n",
       "  \"happy mother's day, love george\",\n",
       "  \"the courtship of eddie's father\",\n",
       "  'a beautiful mind',\n",
       "  'grand theft auto',\n",
       "  'eat my dust!',\n",
       "  'more american graffiti',\n",
       "  'the spikes gang',\n",
       "  'the shootist',\n",
       "  \"dr. seuss' how the grinch stole christmas\",\n",
       "  'osmosis jones',\n",
       "  'american graffiti',\n",
       "  'the music man',\n",
       "  'return to mayberry',\n",
       "  'the journey',\n",
       "  'night shift',\n",
       "  'act of love',\n",
       "  \"i'm a fool\",\n",
       "  'when your lover leaves',\n",
       "  'bitter harvest',\n",
       "  'fire on the mountain',\n",
       "  'huckleberry finn',\n",
       "  'welcome to hollywood',\n",
       "  'cannes: all access'],\n",
       " ['thai language',\n",
       "  'khmer language',\n",
       "  'vietnamese language',\n",
       "  'saek language',\n",
       "  'lao language',\n",
       "  'akha language',\n",
       "  'mlabri language',\n",
       "  'hmong language',\n",
       "  'malay, pattani language',\n",
       "  'nyaw language',\n",
       "  'phu thai language',\n",
       "  'cham language',\n",
       "  'mon language'],\n",
       " ['british columbia'],\n",
       " ['south africa'],\n",
       " ['lake powell'],\n",
       " ['jada pinkett smith', 'salli richardson', 'kidada jones'],\n",
       " ['justin timberlake']]"
      ]
     },
     "execution_count": 26,
     "metadata": {},
     "output_type": "execute_result"
    }
   ],
   "source": [
    "targets[2000:2010]"
   ]
  },
  {
   "cell_type": "code",
   "execution_count": 27,
   "id": "5280f548",
   "metadata": {},
   "outputs": [
    {
     "data": {
      "text/plain": [
       "['hitler youth',\n",
       " 'stratford',\n",
       " 'democratic party',\n",
       " 'austria',\n",
       " \"dr. seuss' how the grinch stole christmas\",\n",
       " 'nyaw language',\n",
       " 'british columbia',\n",
       " 'guinea-bissau',\n",
       " 'san jacinto mountains',\n",
       " 'gang related']"
      ]
     },
     "execution_count": 27,
     "metadata": {},
     "output_type": "execute_result"
    }
   ],
   "source": [
    "preds[2000:2010]"
   ]
  },
  {
   "cell_type": "code",
   "execution_count": null,
   "id": "9470548f",
   "metadata": {},
   "outputs": [],
   "source": []
  }
 ],
 "metadata": {
  "kernelspec": {
   "display_name": "Python 3 (ipykernel)",
   "language": "python",
   "name": "python3"
  },
  "language_info": {
   "codemirror_mode": {
    "name": "ipython",
    "version": 3
   },
   "file_extension": ".py",
   "mimetype": "text/x-python",
   "name": "python",
   "nbconvert_exporter": "python",
   "pygments_lexer": "ipython3",
   "version": "3.8.11"
  }
 },
 "nbformat": 4,
 "nbformat_minor": 5
}

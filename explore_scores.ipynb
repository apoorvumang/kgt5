{
 "cells": [
  {
   "cell_type": "code",
   "execution_count": 1,
   "id": "c3ed27c1",
   "metadata": {},
   "outputs": [],
   "source": [
    "import pickle"
   ]
  },
  {
   "cell_type": "code",
   "execution_count": 2,
   "id": "7d5a3865",
   "metadata": {},
   "outputs": [],
   "source": [
    "fname = '/scratche/home/apoorv/transformer-kgc/scores/scores_temp.pickle'\n",
    "scores_data = pickle.load(open(fname, 'rb'))"
   ]
  },
  {
   "cell_type": "code",
   "execution_count": 26,
   "id": "20dce951",
   "metadata": {},
   "outputs": [
    {
     "name": "stdout",
     "output_type": "stream",
     "text": [
      "predict answer: Which musical featured the song The Street Where You Live? ||| ['my fair lady 2010 film', 'enry iggins', 'my fair lady 2014 film', 'My Fair Lady (2010 film)', 'My Fair Lady', 'My Fair Lady (2012 film)', 'My Fair Lady (2014 film)', 'why can t english 3f', 'my fair lady 2012 film', 'my fair lady 2015 film', 'My fair lady', 'my fair lady musical', 'Enry Iggins', \"I'm an Ordinary Man\", 'my fair lady upcoming film', 'My Fair Lady (upcoming film)', 'My Fair Lady (musical)', 'My Fair Lady (2015 film)', \"Why Can't the English%3F\", 'my fair lady', 'i m ordinary man']\n",
      "Merrygoround\n"
     ]
    }
   ],
   "source": [
    "id = 22\n",
    "print(scores_data['input_strings'][id], '|||', scores_data['target_strings'][id])\n",
    "print(scores_data['prediction_strings'][id])"
   ]
  },
  {
   "cell_type": "code",
   "execution_count": 32,
   "id": "73c54473",
   "metadata": {},
   "outputs": [
    {
     "name": "stdout",
     "output_type": "stream",
     "text": [
      "predict answer: How many legs does a ladybird have? ||| ['Six', '', '6', 'six']\n",
      "Four\n"
     ]
    }
   ],
   "source": [
    "for id, x in enumerate(scores_data['input_strings']):\n",
    "    if 'many legs does a ladybird' in x:\n",
    "        print(scores_data['input_strings'][id], '|||', scores_data['target_strings'][id])\n",
    "        print(scores_data['prediction_strings'][id])\n",
    "#         print(x)"
   ]
  },
  {
   "cell_type": "code",
   "execution_count": null,
   "id": "6fb8bf53",
   "metadata": {},
   "outputs": [],
   "source": []
  }
 ],
 "metadata": {
  "kernelspec": {
   "display_name": "Python 3 (ipykernel)",
   "language": "python",
   "name": "python3"
  },
  "language_info": {
   "codemirror_mode": {
    "name": "ipython",
    "version": 3
   },
   "file_extension": ".py",
   "mimetype": "text/x-python",
   "name": "python",
   "nbconvert_exporter": "python",
   "pygments_lexer": "ipython3",
   "version": "3.8.11"
  }
 },
 "nbformat": 4,
 "nbformat_minor": 5
}

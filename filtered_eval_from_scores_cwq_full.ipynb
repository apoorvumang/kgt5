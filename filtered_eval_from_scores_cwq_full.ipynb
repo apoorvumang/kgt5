{
 "cells": [
  {
   "cell_type": "code",
   "execution_count": 1,
   "id": "49aba755",
   "metadata": {},
   "outputs": [],
   "source": [
    "import pickle"
   ]
  },
  {
   "cell_type": "code",
   "execution_count": 2,
   "id": "81d5f81b",
   "metadata": {},
   "outputs": [],
   "source": [
    "import os\n",
    "from tqdm import tqdm\n",
    "from typing import Dict\n",
    "from collections import defaultdict\n",
    "import numpy as np\n",
    "\n",
    "def softmax(x):\n",
    "    \"\"\"Compute softmax values for each sets of scores in x.\"\"\"\n",
    "    return np.exp(x) / np.sum(np.exp(x), axis=0)\n",
    "\n",
    "def numLines(fname):\n",
    "    with open(fname) as f:\n",
    "        for i, l in enumerate(f):\n",
    "            pass\n",
    "    return i + 1\n",
    "def loadData(filename, max_points):\n",
    "    file_len = numLines(filename)\n",
    "    f = open(filename, 'r')\n",
    "    inputs = []\n",
    "    outputs = []\n",
    "    for i in tqdm(range(file_len)):\n",
    "        if i == max_points:\n",
    "            break\n",
    "        line = f.readline()\n",
    "        if line[-1] == '\\n':\n",
    "            line = line[:-1]\n",
    "        line = line.split('\\t')\n",
    "        inputs.append(line[0])\n",
    "        outputs.append(line[1])\n",
    "    data = {'inputs': inputs, 'outputs': outputs}\n",
    "    return data\n",
    "        \n",
    "def load_entity_strings(filename):\n",
    "    with open(filename) as f:\n",
    "        lines = f.read().splitlines()\n",
    "    return lines\n",
    "\n",
    "def get_entity_wd_id_dict(filename):\n",
    "    out = {}\n",
    "    f = open(filename, 'r')\n",
    "    for line in f:\n",
    "        if line[-1] == '\\n':\n",
    "            line = line[:-1]\n",
    "        line = line.split('\\t')\n",
    "        out[line[1]] = line[0]\n",
    "    return out\n",
    "    \n",
    "\n",
    "def create_filter_dict(data) -> Dict[str, int]:\n",
    "    filter_dict = defaultdict(list)\n",
    "    for input, output in zip(data[\"inputs\"], data[\"outputs\"]):\n",
    "        filter_dict[input].append(output)\n",
    "    return filter_dict\n",
    "\n",
    "def getAllFilteringEntities(input, filter_dicts):\n",
    "    entities = []\n",
    "    splits = ['train', 'test', 'valid']\n",
    "    for s in splits:\n",
    "        entities.extend(filter_dicts[s][input])\n",
    "    return list(set(entities))\n",
    "\n",
    "def wikidata_link_from_id(id):\n",
    "    uri = 'https://www.wikidata.org/wiki/' + id\n",
    "    return uri"
   ]
  },
  {
   "cell_type": "code",
   "execution_count": 3,
   "id": "255f8111",
   "metadata": {},
   "outputs": [],
   "source": [
    "dataset_name = 'cwq_full'\n",
    "entity_strings = load_entity_strings(os.path.join(\"data\", dataset_name, \"entity_strings.txt\"))"
   ]
  },
  {
   "cell_type": "code",
   "execution_count": 4,
   "id": "45ee97cb",
   "metadata": {},
   "outputs": [],
   "source": [
    "entity_strings_set = set(entity_strings)"
   ]
  },
  {
   "cell_type": "code",
   "execution_count": 5,
   "id": "51647083",
   "metadata": {},
   "outputs": [],
   "source": [
    "# data = {}\n",
    "# splits = ['train', 'valid', 'test']\n",
    "# dataset_name = 'fbwq_half'\n",
    "# for split in splits:\n",
    "#     data[split] = loadData(os.path.join('data', dataset_name, split + '.txt'), -1)"
   ]
  },
  {
   "cell_type": "code",
   "execution_count": 6,
   "id": "616e3b45",
   "metadata": {},
   "outputs": [],
   "source": [
    "# filter_dicts = {}\n",
    "# splits = ['train', 'valid', 'test']\n",
    "# for split in splits:\n",
    "#     filter_dicts[split] = create_filter_dict(data[split])"
   ]
  },
  {
   "cell_type": "code",
   "execution_count": 16,
   "id": "13a5a068",
   "metadata": {},
   "outputs": [],
   "source": [
    "# fname = 'scores.pickle'\n",
    "fname = 'scores/scores_cwq_full.pickle'\n",
    "# fname = 'scores_500_base_trie|.pickle'\n",
    "scores_data = pickle.load(open(fname, 'rb'))"
   ]
  },
  {
   "cell_type": "code",
   "execution_count": 17,
   "id": "9bff88b0",
   "metadata": {},
   "outputs": [
    {
     "name": "stderr",
     "output_type": "stream",
     "text": [
      "3519it [00:00, 477631.08it/s]\n"
     ]
    }
   ],
   "source": [
    "predictions_scores_dicts = []\n",
    "for pred, score in tqdm(zip(scores_data['prediction_strings'], scores_data['scores'])):\n",
    "    ps_pair = (pred, score)\n",
    "    # remove predictions that are not entities\n",
    "    ps_pairs = [ps_pair]\n",
    "    ps_dict_only_entities = defaultdict(list)\n",
    "    for ps in ps_pairs:\n",
    "        if True:\n",
    "#         if ps[0] in entity_strings_set:\n",
    "            ps_dict_only_entities[ps[0]] = ps[1]\n",
    "    predictions_scores_dicts.append(ps_dict_only_entities)"
   ]
  },
  {
   "cell_type": "code",
   "execution_count": 19,
   "id": "21902383",
   "metadata": {},
   "outputs": [
    {
     "name": "stdout",
     "output_type": "stream",
     "text": [
      "predict answer: What is the mascot of the team that has Nicholas S. Zeppos as its leader?\n",
      "['Vanderbilt University Mr. Commodore']\n",
      "Saint Mary's College of California Gael\n",
      "-0.02247259020805359\n"
     ]
    }
   ],
   "source": [
    "id = 1\n",
    "print(scores_data['input_strings'][id])\n",
    "print(scores_data['target_strings'][id])\n",
    "print(scores_data['prediction_strings'][id])\n",
    "print(scores_data['scores'][id])\n",
    "# print(predictions_scores_dicts[id].keys())\n"
   ]
  },
  {
   "cell_type": "code",
   "execution_count": 80,
   "id": "45377700",
   "metadata": {},
   "outputs": [
    {
     "data": {
      "text/plain": [
       "defaultdict(list, {'islam': -0.01644955202937126})"
      ]
     },
     "execution_count": 80,
     "metadata": {},
     "output_type": "execute_result"
    }
   ],
   "source": [
    "predictions_scores_dicts[id]"
   ]
  },
  {
   "cell_type": "code",
   "execution_count": 81,
   "id": "cae07f24",
   "metadata": {},
   "outputs": [
    {
     "data": {
      "text/plain": [
       "dict_keys(['prediction_strings', 'scores', 'target_strings', 'input_strings'])"
      ]
     },
     "execution_count": 81,
     "metadata": {},
     "output_type": "execute_result"
    }
   ],
   "source": [
    "scores_data.keys()"
   ]
  },
  {
   "cell_type": "code",
   "execution_count": 82,
   "id": "48f9bd30",
   "metadata": {},
   "outputs": [],
   "source": [
    "# make json for predictions\n",
    "predictions = []\n",
    "for pred in scores_data['prediction_strings']:\n",
    "    item = {}\n",
    "    item['answer'] = pred\n",
    "    predictions.append(item)"
   ]
  },
  {
   "cell_type": "code",
   "execution_count": 83,
   "id": "3bb6bb01",
   "metadata": {},
   "outputs": [],
   "source": [
    "qn_json = '../freebase/ComplexWebQuestions/ComplexWebQuestions_test.json'\n",
    "qn_dev = json.load(open(qn_json))"
   ]
  },
  {
   "cell_type": "code",
   "execution_count": 84,
   "id": "4bdbf837",
   "metadata": {},
   "outputs": [],
   "source": [
    "for i in range(len(qn_dev)):\n",
    "    predictions[i]['ID'] = qn_dev[i]['ID']"
   ]
  },
  {
   "cell_type": "code",
   "execution_count": 85,
   "id": "5f036e83",
   "metadata": {},
   "outputs": [],
   "source": [
    "import json\n",
    "out_file = open(\"predictions_cwq_test.json\", \"w\")\n",
    "json.dump(predictions, out_file, indent = 6)\n",
    "out_file.close()"
   ]
  },
  {
   "cell_type": "code",
   "execution_count": 24,
   "id": "3cf0d7c4",
   "metadata": {},
   "outputs": [],
   "source": [
    "import numpy as np\n",
    "# no filtering for QA\n",
    "predictions_filtered = predictions_scores_dicts\n"
   ]
  },
  {
   "cell_type": "code",
   "execution_count": 26,
   "id": "cde8c8c1",
   "metadata": {},
   "outputs": [
    {
     "name": "stdout",
     "output_type": "stream",
     "text": [
      "hits@1 0.0\n",
      "hits@3 0.0\n",
      "hits@10 0.0\n",
      "mrr 0.3424268258027849\n",
      "0.0 were <10 length preds array without answer\n"
     ]
    }
   ],
   "source": [
    "count = {}\n",
    "reciprocal_ranks = 0.0\n",
    "k_list = [1,3,10]\n",
    "for k in k_list:\n",
    "    count[k] = 0\n",
    "num_small_arrs = 0\n",
    "countnum = 0\n",
    "for i in range(len(predictions_filtered)):\n",
    "    targets = scores_data['target_strings'][i]\n",
    "    ps_dict = predictions_filtered[i]\n",
    "    ps_sorted = sorted(ps_dict.items(), key=lambda item: -item[1])\n",
    "#     print(ps_dict)\n",
    "    if len(ps_dict) == 0:\n",
    "        preds = []\n",
    "    else:\n",
    "        preds = [x[0] for x in ps_sorted]\n",
    "    pred = preds[0]\n",
    "    \n",
    "    if pred in targets:\n",
    "        rank = preds.index(pred) + 1\n",
    "        reciprocal_ranks += 1./rank\n",
    "        countnum+= 1\n",
    "for k in k_list:\n",
    "    hits_at_k = count[k]/len(predictions_filtered)\n",
    "    print('hits@{}'.format(k), hits_at_k)\n",
    "print('mrr', reciprocal_ranks/len(predictions_filtered))\n",
    "print(num_small_arrs/len(predictions_filtered), 'were <10 length preds array without answer')"
   ]
  },
  {
   "cell_type": "code",
   "execution_count": 27,
   "id": "57bbc0dd",
   "metadata": {},
   "outputs": [
    {
     "data": {
      "text/plain": [
       "1205"
      ]
     },
     "execution_count": 27,
     "metadata": {},
     "output_type": "execute_result"
    }
   ],
   "source": [
    "countnum"
   ]
  },
  {
   "cell_type": "code",
   "execution_count": 49,
   "id": "8b079bfb",
   "metadata": {},
   "outputs": [
    {
     "name": "stdout",
     "output_type": "stream",
     "text": [
      "predict answer: who developed the Transmission Control Protocol ip reference model , Target: ['Robert E. Kahn', 'Vint Cerf', 'Robert E. Kahn', 'Vint Cerf']\n"
     ]
    },
    {
     "data": {
      "text/plain": [
       "(('Omar Rodriguez', -2.1307153701782227),\n",
       " ['Robert E. Kahn', 'Vint Cerf', 'Robert E. Kahn', 'Vint Cerf'])"
      ]
     },
     "execution_count": 49,
     "metadata": {},
     "output_type": "execute_result"
    }
   ],
   "source": [
    "id = 114\n",
    "inputs = scores_data['input_strings'][id]\n",
    "preds = predictions_filtered[id]\n",
    "preds = sorted(preds.items(), key=lambda item: -item[1])\n",
    "target = scores_data['target_strings'][id]\n",
    "print(inputs, ', Target:', target)\n",
    "preds[0], target"
   ]
  },
  {
   "cell_type": "code",
   "execution_count": 50,
   "id": "641f80e3",
   "metadata": {},
   "outputs": [],
   "source": [
    "def getHeadEntity(input):\n",
    "    x = input.split(':')[1][1:]\n",
    "    ent = x.split('|')[0][:-1]\n",
    "    return ent"
   ]
  },
  {
   "cell_type": "code",
   "execution_count": 51,
   "id": "f8d1443a",
   "metadata": {},
   "outputs": [
    {
     "data": {
      "text/plain": [
       "0.0"
      ]
     },
     "execution_count": 51,
     "metadata": {},
     "output_type": "execute_result"
    }
   ],
   "source": [
    "# see if answer is head entity\n",
    "count = 0\n",
    "for id in range(len(predictions_filtered)):\n",
    "    input = scores_data['input_strings'][id]\n",
    "    head = getHeadEntity(input)\n",
    "    pred = scores_data['prediction_strings'][id]\n",
    "    if head == pred:\n",
    "        count += 1\n",
    "        print(input)\n",
    "count/len(predictions_filtered)"
   ]
  },
  {
   "cell_type": "code",
   "execution_count": 113,
   "id": "b8d6fa84",
   "metadata": {},
   "outputs": [
    {
     "data": {
      "text/plain": [
       "('count', 0)"
      ]
     },
     "execution_count": 113,
     "metadata": {},
     "output_type": "execute_result"
    }
   ],
   "source": [
    "# only head/tails\n",
    "count = 0\n",
    "for id in range(60,120, 2):\n",
    "    inputs = scores_data['input_strings'][id]\n",
    "    preds = predictions_filtered[id]\n",
    "    preds = sorted(preds.items(), key=lambda item: -item[1])\n",
    "    target = scores_data['target_strings'][id]\n",
    "    pred1 = preds[0][0]\n",
    "    if pred1 == target:\n",
    "        print(int(id/2), inputs, pred1)\n",
    "        count += 1\n",
    "'count', count"
   ]
  },
  {
   "cell_type": "code",
   "execution_count": 419,
   "id": "811dccc3",
   "metadata": {},
   "outputs": [
    {
     "data": {
      "text/html": [
       "print(\"<a href='your_url_here'>Showing Text</a>\")\n"
      ],
      "text/plain": [
       "<IPython.core.display.HTML object>"
      ]
     },
     "metadata": {},
     "output_type": "display_data"
    }
   ],
   "source": [
    "%%html\n",
    "print(\"<a href='your_url_here'>Showing Text</a>\")\n"
   ]
  },
  {
   "cell_type": "code",
   "execution_count": 364,
   "id": "36ee8176",
   "metadata": {},
   "outputs": [
    {
     "data": {
      "text/plain": [
       "'Q4121082'"
      ]
     },
     "execution_count": 364,
     "metadata": {},
     "output_type": "execute_result"
    }
   ],
   "source": [
    "e2wdid['pakistan']"
   ]
  },
  {
   "cell_type": "code",
   "execution_count": 174,
   "id": "8dee3a2d",
   "metadata": {},
   "outputs": [],
   "source": [
    "sequences = ['english', 'english language', 'french']\n",
    "t = Trie(sequences)"
   ]
  },
  {
   "cell_type": "code",
   "execution_count": 178,
   "id": "fdb192fb",
   "metadata": {},
   "outputs": [
    {
     "data": {
      "text/plain": [
       "[]"
      ]
     },
     "execution_count": 178,
     "metadata": {},
     "output_type": "execute_result"
    }
   ],
   "source": [
    "t.get('x')"
   ]
  },
  {
   "cell_type": "code",
   "execution_count": null,
   "id": "42d6aa43",
   "metadata": {},
   "outputs": [],
   "source": []
  }
 ],
 "metadata": {
  "kernelspec": {
   "display_name": "Python 3 (ipykernel)",
   "language": "python",
   "name": "python3"
  },
  "language_info": {
   "codemirror_mode": {
    "name": "ipython",
    "version": 3
   },
   "file_extension": ".py",
   "mimetype": "text/x-python",
   "name": "python",
   "nbconvert_exporter": "python",
   "pygments_lexer": "ipython3",
   "version": "3.8.11"
  }
 },
 "nbformat": 4,
 "nbformat_minor": 5
}

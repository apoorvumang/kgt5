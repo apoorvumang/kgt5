{
 "cells": [
  {
   "cell_type": "code",
   "execution_count": 1,
   "id": "49aba755",
   "metadata": {},
   "outputs": [],
   "source": [
    "import pickle"
   ]
  },
  {
   "cell_type": "code",
   "execution_count": 2,
   "id": "81d5f81b",
   "metadata": {},
   "outputs": [],
   "source": [
    "import os\n",
    "from tqdm import tqdm\n",
    "from typing import Dict\n",
    "from collections import defaultdict\n",
    "import numpy as np\n",
    "\n",
    "def softmax(x):\n",
    "    \"\"\"Compute softmax values for each sets of scores in x.\"\"\"\n",
    "    return np.exp(x) / np.sum(np.exp(x), axis=0)\n",
    "\n",
    "def numLines(fname):\n",
    "    with open(fname) as f:\n",
    "        for i, l in enumerate(f):\n",
    "            pass\n",
    "    return i + 1\n",
    "def loadData(filename, max_points):\n",
    "    file_len = numLines(filename)\n",
    "    f = open(filename, 'r')\n",
    "    inputs = []\n",
    "    outputs = []\n",
    "    for i in tqdm(range(file_len)):\n",
    "        if i == max_points:\n",
    "            break\n",
    "        line = f.readline()\n",
    "        if line[-1] == '\\n':\n",
    "            line = line[:-1]\n",
    "        line = line.split('\\t')\n",
    "        inputs.append(line[0])\n",
    "        outputs.append(line[1])\n",
    "    data = {'inputs': inputs, 'outputs': outputs}\n",
    "    return data\n",
    "        \n",
    "def load_entity_strings(filename):\n",
    "    with open(filename) as f:\n",
    "        lines = f.read().splitlines()\n",
    "    return lines\n",
    "\n",
    "def get_entity_wd_id_dict(filename):\n",
    "    out = {}\n",
    "    f = open(filename, 'r')\n",
    "    for line in f:\n",
    "        if line[-1] == '\\n':\n",
    "            line = line[:-1]\n",
    "        line = line.split('\\t')\n",
    "        out[line[1]] = line[0]\n",
    "    return out\n",
    "    \n",
    "\n",
    "def create_filter_dict(data) -> Dict[str, int]:\n",
    "    filter_dict = defaultdict(list)\n",
    "    for input, output in zip(data[\"inputs\"], data[\"outputs\"]):\n",
    "        filter_dict[input].append(output)\n",
    "    return filter_dict\n",
    "\n",
    "def getAllFilteringEntities(input, filter_dicts):\n",
    "    entities = []\n",
    "    splits = ['train', 'test', 'valid']\n",
    "    for s in splits:\n",
    "        entities.extend(filter_dicts[s][input])\n",
    "    return list(set(entities))\n",
    "\n",
    "def wikidata_link_from_id(id):\n",
    "    uri = 'https://www.wikidata.org/wiki/' + id\n",
    "    return uri"
   ]
  },
  {
   "cell_type": "code",
   "execution_count": 3,
   "id": "255f8111",
   "metadata": {},
   "outputs": [],
   "source": [
    "dataset_name = 'fb15k237_2'\n",
    "entity_strings = load_entity_strings(os.path.join(\"data\", dataset_name, \"entity_strings.txt\"))"
   ]
  },
  {
   "cell_type": "code",
   "execution_count": 4,
   "id": "45ee97cb",
   "metadata": {},
   "outputs": [
    {
     "data": {
      "text/plain": [
       "14951"
      ]
     },
     "execution_count": 4,
     "metadata": {},
     "output_type": "execute_result"
    }
   ],
   "source": [
    "entity_strings_set = set(entity_strings)\n",
    "len(entity_strings_set)"
   ]
  },
  {
   "cell_type": "code",
   "execution_count": 5,
   "id": "51647083",
   "metadata": {},
   "outputs": [
    {
     "name": "stderr",
     "output_type": "stream",
     "text": [
      "100%|████████████████████████████████████████████████████████| 544230/544230 [00:00<00:00, 591373.61it/s]\n",
      "100%|██████████████████████████████████████████████████████████| 35070/35070 [00:00<00:00, 482690.84it/s]\n",
      "100%|██████████████████████████████████████████████████████████| 40932/40932 [00:00<00:00, 487340.40it/s]\n"
     ]
    }
   ],
   "source": [
    "data = {}\n",
    "splits = ['train', 'valid', 'test']\n",
    "dataset_name = 'fb15k237_2'\n",
    "for split in splits:\n",
    "    data[split] = loadData(os.path.join('data', dataset_name, split + '.txt'), -1)"
   ]
  },
  {
   "cell_type": "code",
   "execution_count": 6,
   "id": "616e3b45",
   "metadata": {},
   "outputs": [],
   "source": [
    "filter_dicts = {}\n",
    "splits = ['train', 'valid', 'test']\n",
    "for split in splits:\n",
    "    filter_dicts[split] = create_filter_dict(data[split])"
   ]
  },
  {
   "cell_type": "code",
   "execution_count": 15,
   "id": "13a5a068",
   "metadata": {},
   "outputs": [],
   "source": [
    "# fname = 'scores.pickle'\n",
    "# fname = 'scores/scores_full_codexm_small.pickle'\n",
    "fname = 'scores/scores_fb15k237_2_150.pickle'\n",
    "# fname = 'scores_500_base_trie.pickle'\n",
    "scores_data = pickle.load(open(fname, 'rb'))"
   ]
  },
  {
   "cell_type": "code",
   "execution_count": 16,
   "id": "2194d51a",
   "metadata": {},
   "outputs": [
    {
     "data": {
      "text/plain": [
       "['September is the ninth month of the year in the Julian and Gregorian Calendars and one of four months with a length of 30 days',\n",
       " 'September is the ninth month of the year in the Julian and Gregorian Calendars and one of four months with a length of 30 days',\n",
       " 'May is the fifth month of the year in the Julian and Gregorian Calendars and one of seven months with the length of 31 days',\n",
       " 'July is the seventh month of the year in the Julian and Gregorian Calendars and one of seven months with the length of 31 days',\n",
       " 'April is the fourth month of the year in the Gregorian calendar, the fifth in the early Julian and one of four months with a length of 30 days',\n",
       " 'June is the sixth month of the year in the Julian and Gregorian calendars and one of the four months with a length of 30 days',\n",
       " 'May is the fifth month of the year in the Julian and Gregorian Calendars and one of seven months with the length of 31 days',\n",
       " 'September is the ninth month of the year in the Julian and Gregorian Calendars and one of four months with a length of 30 days',\n",
       " 'March is the third month of the year in both the Julian and Gregorian calendars',\n",
       " 'January is the first month of the year in the Julian and Gregorian calendars and one of seven months with the length of 31 days',\n",
       " 'September is the ninth month of the year in the Julian and Gregorian Calendars and one of four months with a length of 30 days',\n",
       " 'November is the eleventh month of the year in the Julian and Gregorian Calendars and one of four months with the length of 30 days',\n",
       " 'September is the ninth month of the year in the Julian and Gregorian Calendars and one of four months with a length of 30 days',\n",
       " 'January is the first month of the year in the Julian and Gregorian calendars and one of seven months with the length of 31 days',\n",
       " 'May is the fifth month of the year in the Julian and Gregorian Calendars and one of seven months with the length of 31 days',\n",
       " 'April is the fourth month of the year in the Gregorian calendar, the fifth in the early Julian and one of four months with a length of 30 days',\n",
       " 'September is the ninth month of the year in the Julian and Gregorian Calendars and one of four months with a length of 30 days',\n",
       " 'April is the fourth month of the year in the Gregorian calendar, the fifth in the early Julian and one of four months with a length of 30 days',\n",
       " 'October is the tenth month of the year in the Julian and Gregorian Calendars and one of seven months with a length of 31 days',\n",
       " 'November is the eleventh month of the year in the Julian and Gregorian Calendars and one of four months with the length of 30 days',\n",
       " 'March is the third month of the year in both the Julian and Gregorian calendars',\n",
       " 'March is the third month of the year in both the Julian and Gregorian calendars',\n",
       " 'September is the ninth month of the year in the Julian and Gregorian Calendars and one of four months with a length of 30 days',\n",
       " 'February is the second month of the year in the Julian and Gregorian calendars',\n",
       " 'July is the seventh month of the year in the Julian and Gregorian Calendars and one of seven months with the length of 31 days',\n",
       " 'August is the eighth month of the year in the Julian and Gregorian calendars and one of seven months with a length of 31 days',\n",
       " 'October is the tenth month of the year in the Julian and Gregorian Calendars and one of seven months with a length of 31 days',\n",
       " 'March is the third month of the year in both the Julian and Gregorian calendars',\n",
       " 'March is the third month of the year in both the Julian and Gregorian calendars',\n",
       " 'October is the tenth month of the year in the Julian and Gregorian Calendars and one of seven months with a length of 31 days',\n",
       " 'August is the eighth month of the year in the Julian and Gregorian calendars and one of seven months with a length of 31 days',\n",
       " 'January is the first month of the year in the Julian and Gregorian calendars and one of seven months with the length of 31 days',\n",
       " 'September is the ninth month of the year in the Julian and Gregorian Calendars and one of four months with a length of 30 days',\n",
       " 'April is the fourth month of the year in the Gregorian calendar, the fifth in the early Julian and one of four months with a length of 30 days',\n",
       " 'August is the eighth month of the year in the Julian and Gregorian calendars and one of seven months with a length of 31 days',\n",
       " 'May is the fifth month of the year in the Julian and Gregorian Calendars and one of seven months with the length of 31 days',\n",
       " 'September is the ninth month of the year in the Julian and Gregorian Calendars and one of four months with a length of 30 days',\n",
       " 'January is the first month of the year in the Julian and Gregorian calendars and one of seven months with the length of 31 days',\n",
       " 'June is the sixth month of the year in the Julian and Gregorian calendars and one of the four months with a length of 30 days',\n",
       " 'May is the fifth month of the year in the Julian and Gregorian Calendars and one of seven months with the length of 31 days',\n",
       " 'June is the sixth month of the year in the Julian and Gregorian calendars and one of the four months with a length of 30 days',\n",
       " 'September is the ninth month of the year in the Julian and Gregorian Calendars and one of four months with a length of 30 days',\n",
       " 'August is the eighth month of the year in the Julian and Gregorian calendars and one of seven months with a length of 31 days',\n",
       " 'March is the third month of the year in both the Julian and Gregorian calendars',\n",
       " 'July is the seventh month of the year in the Julian and Gregorian Calendars and one of seven months with the length of 31 days',\n",
       " 'June is the sixth month of the year in the Julian and Gregorian calendars and one of the four months with a length of 30 days',\n",
       " 'August is the eighth month of the year in the Julian and Gregorian calendars and one of seven months with a length of 31 days',\n",
       " 'June is the sixth month of the year in the Julian and Gregorian calendars and one of the four months with a length of 30 days',\n",
       " 'February is the second month of the year in the Julian and Gregorian calendars',\n",
       " 'September is the ninth month of the year in the Julian and Gregorian Calendars and one of four months with a length of 30 days',\n",
       " 'December is the twelfth and last month of the year in the Julian and Gregorian Calendars',\n",
       " 'September is the ninth month of the year in the Julian and Gregorian Calendars and one of four months with a length of 30 days',\n",
       " 'May is the fifth month of the year in the Julian and Gregorian Calendars and one of seven months with the length of 31 days',\n",
       " 'August is the eighth month of the year in the Julian and Gregorian calendars and one of seven months with a length of 31 days',\n",
       " 'May is the fifth month of the year in the Julian and Gregorian Calendars and one of seven months with the length of 31 days',\n",
       " 'September is the ninth month of the year in the Julian and Gregorian Calendars and one of four months with a length of 30 days',\n",
       " 'March is the third month of the year in both the Julian and Gregorian calendars',\n",
       " 'May is the fifth month of the year in the Julian and Gregorian Calendars and one of seven months with the length of 31 days',\n",
       " 'January is the first month of the year in the Julian and Gregorian calendars and one of seven months with the length of 31 days',\n",
       " 'December is the twelfth and last month of the year in the Julian and Gregorian Calendars',\n",
       " 'October is the tenth month of the year in the Julian and Gregorian Calendars and one of seven months with a length of 31 days',\n",
       " 'February is the second month of the year in the Julian and Gregorian calendars',\n",
       " 'July is the seventh month of the year in the Julian and Gregorian Calendars and one of seven months with the length of 31 days',\n",
       " 'October is the tenth month of the year in the Julian and Gregorian Calendars and one of seven months with a length of 31 days',\n",
       " 'July is the seventh month of the year in the Julian and Gregorian Calendars and one of seven months with the length of 31 days',\n",
       " 'July is the seventh month of the year in the Julian and Gregorian Calendars and one of seven months with the length of 31 days',\n",
       " 'November is the eleventh month of the year in the Julian and Gregorian Calendars and one of four months with the length of 30 days',\n",
       " 'May is the fifth month of the year in the Julian and Gregorian Calendars and one of seven months with the length of 31 days',\n",
       " 'November is the eleventh month of the year in the Julian and Gregorian Calendars and one of four months with the length of 30 days',\n",
       " 'July is the seventh month of the year in the Julian and Gregorian Calendars and one of seven months with the length of 31 days',\n",
       " 'December is the twelfth and last month of the year in the Julian and Gregorian Calendars',\n",
       " 'October is the tenth month of the year in the Julian and Gregorian Calendars and one of seven months with a length of 31 days',\n",
       " 'September is the ninth month of the year in the Julian and Gregorian Calendars and one of four months with a length of 30 days',\n",
       " 'November is the eleventh month of the year in the Julian and Gregorian Calendars and one of four months with the length of 30 days',\n",
       " 'October is the tenth month of the year in the Julian and Gregorian Calendars and one of seven months with a length of 31 days',\n",
       " 'November is the eleventh month of the year in the Julian and Gregorian Calendars and one of four months with the length of 30 days',\n",
       " 'September is the ninth month of the year in the Julian and Gregorian Calendars and one of four months with a length of 30 days',\n",
       " 'January is the first month of the year in the Julian and Gregorian calendars and one of seven months with the length of 31 days',\n",
       " 'October is the tenth month of the year in the Julian and Gregorian Calendars and one of seven months with a length of 31 days',\n",
       " 'May is the fifth month of the year in the Julian and Gregorian Calendars and one of seven months with the length of 31 days',\n",
       " 'July is the seventh month of the year in the Julian and Gregorian Calendars and one of seven months with the length of 31 days',\n",
       " 'February is the second month of the year in the Julian and Gregorian calendars',\n",
       " 'January is the first month of the year in the Julian and Gregorian calendars and one of seven months with the length of 31 days',\n",
       " 'September is the ninth month of the year in the Julian and Gregorian Calendars and one of four months with a length of 30 days',\n",
       " 'September is the ninth month of the year in the Julian and Gregorian Calendars and one of four months with a length of 30 days',\n",
       " 'September is the ninth month of the year in the Julian and Gregorian Calendars and one of four months with a length of 30 days',\n",
       " 'September is the ninth month of the year in the Julian and Gregorian Calendars and one of four months with a length of 30 days',\n",
       " 'March is the third month of the year in both the Julian and Gregorian calendars',\n",
       " 'May is the fifth month of the year in the Julian and Gregorian Calendars and one of seven months with the length of 31 days',\n",
       " 'August is the eighth month of the year in the Julian and Gregorian calendars and one of seven months with a length of 31 days',\n",
       " 'March is the third month of the year in both the Julian and Gregorian calendars',\n",
       " 'February is the second month of the year in the Julian and Gregorian calendars',\n",
       " 'September is the ninth month of the year in the Julian and Gregorian Calendars and one of four months with a length of 30 days',\n",
       " 'March is the third month of the year in both the Julian and Gregorian calendars',\n",
       " 'February is the second month of the year in the Julian and Gregorian calendars',\n",
       " 'April is the fourth month of the year in the Gregorian calendar, the fifth in the early Julian and one of four months with a length of 30 days',\n",
       " 'March is the third month of the year in both the Julian and Gregorian calendars',\n",
       " 'May is the fifth month of the year in the Julian and Gregorian Calendars and one of seven months with the length of 31 days',\n",
       " 'September is the ninth month of the year in the Julian and Gregorian Calendars and one of four months with a length of 30 days',\n",
       " 'January is the first month of the year in the Julian and Gregorian calendars and one of seven months with the length of 31 days',\n",
       " 'September is the ninth month of the year in the Julian and Gregorian Calendars and one of four months with a length of 30 days',\n",
       " 'April is the fourth month of the year in the Gregorian calendar, the fifth in the early Julian and one of four months with a length of 30 days',\n",
       " 'February is the second month of the year in the Julian and Gregorian calendars',\n",
       " 'August is the eighth month of the year in the Julian and Gregorian calendars and one of seven months with a length of 31 days',\n",
       " 'July is the seventh month of the year in the Julian and Gregorian Calendars and one of seven months with the length of 31 days',\n",
       " 'September is the ninth month of the year in the Julian and Gregorian Calendars and one of four months with a length of 30 days',\n",
       " 'June is the sixth month of the year in the Julian and Gregorian calendars and one of the four months with a length of 30 days',\n",
       " 'April is the fourth month of the year in the Gregorian calendar, the fifth in the early Julian and one of four months with a length of 30 days',\n",
       " 'September is the ninth month of the year in the Julian and Gregorian Calendars and one of four months with a length of 30 days',\n",
       " 'December is the twelfth and last month of the year in the Julian and Gregorian Calendars',\n",
       " 'March is the third month of the year in both the Julian and Gregorian calendars',\n",
       " 'December is the twelfth and last month of the year in the Julian and Gregorian Calendars',\n",
       " 'July is the seventh month of the year in the Julian and Gregorian Calendars and one of seven months with the length of 31 days',\n",
       " 'April is the fourth month of the year in the Gregorian calendar, the fifth in the early Julian and one of four months with a length of 30 days',\n",
       " 'November is the eleventh month of the year in the Julian and Gregorian Calendars and one of four months with the length of 30 days',\n",
       " 'September is the ninth month of the year in the Julian and Gregorian Calendars and one of four months with a length of 30 days',\n",
       " 'September is the ninth month of the year in the Julian and Gregorian Calendars and one of four months with a length of 30 days',\n",
       " 'December is the twelfth and last month of the year in the Julian and Gregorian Calendars',\n",
       " 'December is the twelfth and last month of the year in the Julian and Gregorian Calendars',\n",
       " 'June is the sixth month of the year in the Julian and Gregorian calendars and one of the four months with a length of 30 days',\n",
       " 'March is the third month of the year in both the Julian and Gregorian calendars',\n",
       " 'January is the first month of the year in the Julian and Gregorian calendars and one of seven months with the length of 31 days',\n",
       " 'May is the fifth month of the year in the Julian and Gregorian Calendars and one of seven months with the length of 31 days',\n",
       " 'November is the eleventh month of the year in the Julian and Gregorian Calendars and one of four months with the length of 30 days',\n",
       " 'March is the third month of the year in both the Julian and Gregorian calendars',\n",
       " 'March is the third month of the year in both the Julian and Gregorian calendars',\n",
       " 'February is the second month of the year in the Julian and Gregorian calendars',\n",
       " 'January is the first month of the year in the Julian and Gregorian calendars and one of seven months with the length of 31 days',\n",
       " 'May is the fifth month of the year in the Julian and Gregorian Calendars and one of seven months with the length of 31 days',\n",
       " 'August is the eighth month of the year in the Julian and Gregorian calendars and one of seven months with a length of 31 days',\n",
       " 'August is the eighth month of the year in the Julian and Gregorian calendars and one of seven months with a length of 31 days',\n",
       " 'November is the eleventh month of the year in the Julian and Gregorian Calendars and one of four months with the length of 30 days',\n",
       " 'July is the seventh month of the year in the Julian and Gregorian Calendars and one of seven months with the length of 31 days',\n",
       " 'March is the third month of the year in both the Julian and Gregorian calendars',\n",
       " 'January is the first month of the year in the Julian and Gregorian calendars and one of seven months with the length of 31 days',\n",
       " 'May is the fifth month of the year in the Julian and Gregorian Calendars and one of seven months with the length of 31 days',\n",
       " 'September is the ninth month of the year in the Julian and Gregorian Calendars and one of four months with a length of 30 days',\n",
       " 'March is the third month of the year in both the Julian and Gregorian calendars',\n",
       " 'April is the fourth month of the year in the Gregorian calendar, the fifth in the early Julian and one of four months with a length of 30 days',\n",
       " 'January is the first month of the year in the Julian and Gregorian calendars and one of seven months with the length of 31 days',\n",
       " 'August is the eighth month of the year in the Julian and Gregorian calendars and one of seven months with a length of 31 days',\n",
       " 'February is the second month of the year in the Julian and Gregorian calendars',\n",
       " 'September is the ninth month of the year in the Julian and Gregorian Calendars and one of four months with a length of 30 days',\n",
       " 'August is the eighth month of the year in the Julian and Gregorian calendars and one of seven months with a length of 31 days',\n",
       " 'March is the third month of the year in both the Julian and Gregorian calendars',\n",
       " 'October is the tenth month of the year in the Julian and Gregorian Calendars and one of seven months with a length of 31 days',\n",
       " 'May is the fifth month of the year in the Julian and Gregorian Calendars and one of seven months with the length of 31 days',\n",
       " 'June is the sixth month of the year in the Julian and Gregorian calendars and one of the four months with a length of 30 days',\n",
       " 'November is the eleventh month of the year in the Julian and Gregorian Calendars and one of four months with the length of 30 days',\n",
       " 'November is the eleventh month of the year in the Julian and Gregorian Calendars and one of four months with the length of 30 days']"
      ]
     },
     "execution_count": 16,
     "metadata": {},
     "output_type": "execute_result"
    }
   ],
   "source": [
    "scores_data['prediction_strings'][0]"
   ]
  },
  {
   "cell_type": "code",
   "execution_count": 17,
   "id": "9bff88b0",
   "metadata": {},
   "outputs": [
    {
     "name": "stderr",
     "output_type": "stream",
     "text": [
      "40932it [00:04, 9281.11it/s] \n"
     ]
    }
   ],
   "source": [
    "predictions_scores_dicts = []\n",
    "for string_arr, score_arr in tqdm(zip(scores_data['prediction_strings'], scores_data['scores'])):\n",
    "    ps_pairs = [(p,s) for p,s in zip(string_arr, score_arr)]\n",
    "    ps_pairs = list(set(ps_pairs)) # while sampling, duplicates are created\n",
    "    # remove predictions that are not entities\n",
    "    ps_dict_only_entities = defaultdict(list)\n",
    "    for ps in ps_pairs:\n",
    "        if ps[0] in entity_strings_set:\n",
    "            ps_dict_only_entities[ps[0]] = ps[1]\n",
    "    predictions_scores_dicts.append(ps_dict_only_entities)"
   ]
  },
  {
   "cell_type": "code",
   "execution_count": 18,
   "id": "45377700",
   "metadata": {},
   "outputs": [
    {
     "data": {
      "text/plain": [
       "121"
      ]
     },
     "execution_count": 18,
     "metadata": {},
     "output_type": "execute_result"
    }
   ],
   "source": [
    "max([len(predictions_scores_dicts[x]) for x in range(500)])"
   ]
  },
  {
   "cell_type": "code",
   "execution_count": 19,
   "id": "f565355b",
   "metadata": {
    "scrolled": true
   },
   "outputs": [
    {
     "name": "stdout",
     "output_type": "stream",
     "text": [
      "predict tail: Zürich or Zurich is the largest city in Switzerland and the capital of the canton of Zürich | Travel destination monthly climate, month ||| October is the tenth month of the year in the Julian and Gregorian Calendars and one of seven months with a length of 31 days\n"
     ]
    },
    {
     "data": {
      "text/plain": [
       "defaultdict(list,\n",
       "            {'August is the eighth month of the year in the Julian and Gregorian calendars and one of seven months with a length of 31 days': -2.6768198,\n",
       "             'March is the third month of the year in both the Julian and Gregorian calendars': -2.3113978,\n",
       "             'January is the first month of the year in the Julian and Gregorian calendars and one of seven months with the length of 31 days': -2.2685575,\n",
       "             'June is the sixth month of the year in the Julian and Gregorian calendars and one of the four months with a length of 30 days': -2.9396918,\n",
       "             'February is the second month of the year in the Julian and Gregorian calendars': -2.5281672,\n",
       "             'July is the seventh month of the year in the Julian and Gregorian Calendars and one of seven months with the length of 31 days': -2.43048,\n",
       "             'April is the fourth month of the year in the Gregorian calendar, the fifth in the early Julian and one of four months with a length of 30 days': -2.5755644,\n",
       "             'September is the ninth month of the year in the Julian and Gregorian Calendars and one of four months with a length of 30 days': -1.8198688,\n",
       "             'December is the twelfth and last month of the year in the Julian and Gregorian Calendars': -2.588259,\n",
       "             'October is the tenth month of the year in the Julian and Gregorian Calendars and one of seven months with a length of 31 days': -2.6009521,\n",
       "             'November is the eleventh month of the year in the Julian and Gregorian Calendars and one of four months with the length of 30 days': -2.767736,\n",
       "             'May is the fifth month of the year in the Julian and Gregorian Calendars and one of seven months with the length of 31 days': -2.8895445})"
      ]
     },
     "execution_count": 19,
     "metadata": {},
     "output_type": "execute_result"
    }
   ],
   "source": [
    "id = 0\n",
    "print(scores_data['input_strings'][id], '|||', scores_data['target_strings'][id])\n",
    "# print(scores_data['scores'][2])\n",
    "predictions_scores_dicts[id]"
   ]
  },
  {
   "cell_type": "code",
   "execution_count": 20,
   "id": "89828715",
   "metadata": {},
   "outputs": [
    {
     "data": {
      "text/plain": [
       "40932"
      ]
     },
     "execution_count": 20,
     "metadata": {},
     "output_type": "execute_result"
    }
   ],
   "source": [
    "len(predictions_scores_dicts)"
   ]
  },
  {
   "cell_type": "code",
   "execution_count": 21,
   "id": "3cf0d7c4",
   "metadata": {},
   "outputs": [
    {
     "name": "stderr",
     "output_type": "stream",
     "text": [
      "100%|█████████████████████████████████████████████████████████| 40932/40932 [00:04<00:00, 9352.76it/s]"
     ]
    },
    {
     "name": "stdout",
     "output_type": "stream",
     "text": [
      "239.3348480406528 18.6242792924851\n",
      "0.4154206977425975\n",
      "6140\n"
     ]
    },
    {
     "name": "stderr",
     "output_type": "stream",
     "text": [
      "\n"
     ]
    }
   ],
   "source": [
    "import numpy as np\n",
    "predictions_filtered = []\n",
    "head_num_filter = 0\n",
    "tail_num_filter = 0\n",
    "hits_at_all = 0\n",
    "count = 0\n",
    "for i in tqdm(range(len(predictions_scores_dicts))):\n",
    "    ps_dict = predictions_scores_dicts[i].copy()\n",
    "    target = scores_data['target_strings'][i]\n",
    "    inputs = scores_data['input_strings'][i]\n",
    "    prediction_strings = ps_dict.keys()\n",
    "    if target in prediction_strings:\n",
    "        original_score = ps_dict[target]\n",
    "    # get filtering entities\n",
    "    filtering_entities = getAllFilteringEntities(inputs, filter_dicts)\n",
    "    if len(filtering_entities) == 1:\n",
    "        count += 1\n",
    "    if 'head' in inputs:\n",
    "        head_num_filter += len(filtering_entities)\n",
    "    else:\n",
    "        tail_num_filter += len(filtering_entities)\n",
    "    for ent in filtering_entities:\n",
    "        if ent in ps_dict:\n",
    "            ps_dict[ent] = -float(\"inf\")\n",
    "    if target in prediction_strings:\n",
    "        ps_dict[target] = original_score\n",
    "        hits_at_all += 1\n",
    "    # softmax for scores\n",
    "    names_arr = []\n",
    "    scores_arr = []\n",
    "    for k, v in ps_dict.items():\n",
    "        names_arr.append(k)\n",
    "        scores_arr.append(v)\n",
    "    scores_arr = np.array(scores_arr)\n",
    "#     scores_arr = softmax(scores_arr)\n",
    "    for name, score in zip(names_arr, scores_arr):\n",
    "        ps_dict[name] = score\n",
    "    predictions_filtered.append(ps_dict)\n",
    "print(head_num_filter/len(predictions_filtered), tail_num_filter/len(predictions_filtered))\n",
    "print(hits_at_all/len(predictions_filtered))\n",
    "print(count)"
   ]
  },
  {
   "cell_type": "code",
   "execution_count": 22,
   "id": "cde8c8c1",
   "metadata": {},
   "outputs": [
    {
     "name": "stdout",
     "output_type": "stream",
     "text": [
      "hits@1 0.20924948695397244\n",
      "hits@3 0.3049936480015636\n",
      "hits@10 0.39189387276458515\n",
      "mrr 0.2685697829970486\n",
      "0.018518518518518517 were <3 length preds array without answer\n"
     ]
    }
   ],
   "source": [
    "count = {}\n",
    "reciprocal_ranks = 0.0\n",
    "k_list = [1,3,10]\n",
    "for k in k_list:\n",
    "    count[k] = 0\n",
    "num_small_arrs = 0\n",
    "count2 = 0\n",
    "for i in range(len(predictions_filtered)):\n",
    "    target = scores_data['target_strings'][i]\n",
    "    ps_dict = predictions_filtered[i]\n",
    "    ps_sorted = sorted(ps_dict.items(), key=lambda item: -item[1])\n",
    "    if len(ps_dict) == 0:\n",
    "        preds = []\n",
    "    else:\n",
    "        preds = [x[0] for x in ps_sorted]\n",
    "    if target in preds:\n",
    "        rank = preds.index(target) + 1\n",
    "        reciprocal_ranks += 1./rank\n",
    "    for k in k_list:\n",
    "        if target in preds[:k]:\n",
    "            count[k] += 1\n",
    "    if len(preds) < 3 and target not in preds:\n",
    "        num_small_arrs += 1\n",
    "    if target in preds:\n",
    "        count2 += 1\n",
    "for k in k_list:\n",
    "    hits_at_k = count[k]/len(predictions_filtered)\n",
    "    print('hits@{}'.format(k), hits_at_k)\n",
    "print('mrr', reciprocal_ranks/len(predictions_filtered))\n",
    "print(num_small_arrs/len(predictions_filtered), 'were <3 length preds array without answer')"
   ]
  },
  {
   "cell_type": "code",
   "execution_count": 27,
   "id": "e531dfe2",
   "metadata": {},
   "outputs": [
    {
     "data": {
      "text/plain": [
       "0.5089342693044033"
      ]
     },
     "execution_count": 27,
     "metadata": {},
     "output_type": "execute_result"
    }
   ],
   "source": [
    "count2/len(predictions_filtered)"
   ]
  },
  {
   "cell_type": "code",
   "execution_count": 105,
   "id": "8b079bfb",
   "metadata": {},
   "outputs": [],
   "source": [
    "id = 0\n",
    "inputs = scores_data['input_strings'][id]\n",
    "preds = predictions_filtered[id]\n",
    "preds = sorted(preds.items(), key=lambda item: -item[1])\n",
    "target = scores_data['target_strings'][id]"
   ]
  },
  {
   "cell_type": "code",
   "execution_count": 106,
   "id": "75768b24",
   "metadata": {
    "scrolled": false
   },
   "outputs": [
    {
     "name": "stdout",
     "output_type": "stream",
     "text": [
      "predict tail: trade name, NN -- a name given to a product or service | member of domain usage Target: metharbital, NN -- anticonvulsant drug (trade name Gemonil) used in the treatment of epilepsy\n"
     ]
    },
    {
     "data": {
      "text/plain": [
       "([('tolbutamide, NN -- sulfonylurea', -inf),\n",
       "  ('serzone, NN -- an antidepressant drug (trade name Serzone)', -inf),\n",
       "  ('procardia, NN -- calcium blocker (trade name Procardia)', -inf),\n",
       "  ('sanitary towel, NN -- a disposable absorbent pad (trade name Kotex)',\n",
       "   -inf),\n",
       "  ('prosom, NN -- a frequently prescribed sleeping pill (trade name ProSom)',\n",
       "   -inf)],\n",
       " 'metharbital, NN -- anticonvulsant drug (trade name Gemonil) used in the treatment of epilepsy')"
      ]
     },
     "execution_count": 106,
     "metadata": {},
     "output_type": "execute_result"
    }
   ],
   "source": [
    "print(inputs, 'Target:', target)\n",
    "preds[:10], target"
   ]
  },
  {
   "cell_type": "code",
   "execution_count": 482,
   "id": "b8d6fa84",
   "metadata": {},
   "outputs": [
    {
     "name": "stdout",
     "output_type": "stream",
     "text": [
      "32 predict tail: ali kazemaini | birthplace | tehran\n",
      "34 predict tail: ashta, maharashtra | instance of | human settlement\n",
      "37 predict tail: roy shaw 0 | instance of | human being\n",
      "40 predict tail: t. canby jones | has surname | jones (family name)\n",
      "45 predict tail: naveen kumar | instance of | human being\n",
      "46 predict tail: barlow respiratory hospital | host country | united states of america\n",
      "48 predict tail: camiling | office held by head of government | mayor\n",
      "51 predict tail: hazel soan | instance of | human being\n",
      "52 predict tail: efrain herrera | sport played | association football\n",
      "53 predict tail: oluf munck | instance of | human being\n",
      "54 predict tail: thomas gilchrist | instance of | human being\n",
      "58 predict tail: desmoplastic fibroma | subclass of | fibroma\n"
     ]
    },
    {
     "data": {
      "text/plain": [
       "('count', 12)"
      ]
     },
     "execution_count": 482,
     "metadata": {},
     "output_type": "execute_result"
    }
   ],
   "source": [
    "# only head/tails\n",
    "count = 0\n",
    "for id in range(60,120, 2):\n",
    "    inputs = scores_data['input_strings'][id]\n",
    "    preds = predictions_filtered[id]\n",
    "    preds = sorted(preds.items(), key=lambda item: -item[1])\n",
    "    target = scores_data['target_strings'][id]\n",
    "    pred1 = preds[0][0]\n",
    "    if pred1 == target:\n",
    "        print(int(id/2), inputs, pred1)\n",
    "        count += 1\n",
    "'count', count"
   ]
  },
  {
   "cell_type": "code",
   "execution_count": 419,
   "id": "811dccc3",
   "metadata": {},
   "outputs": [
    {
     "data": {
      "text/html": [
       "print(\"<a href='your_url_here'>Showing Text</a>\")\n"
      ],
      "text/plain": [
       "<IPython.core.display.HTML object>"
      ]
     },
     "metadata": {},
     "output_type": "display_data"
    }
   ],
   "source": [
    "%%html\n",
    "print(\"<a href='your_url_here'>Showing Text</a>\")\n"
   ]
  },
  {
   "cell_type": "code",
   "execution_count": 364,
   "id": "36ee8176",
   "metadata": {},
   "outputs": [
    {
     "data": {
      "text/plain": [
       "'Q4121082'"
      ]
     },
     "execution_count": 364,
     "metadata": {},
     "output_type": "execute_result"
    }
   ],
   "source": [
    "e2wdid['pakistan']"
   ]
  },
  {
   "cell_type": "code",
   "execution_count": 174,
   "id": "8dee3a2d",
   "metadata": {},
   "outputs": [],
   "source": [
    "sequences = ['english', 'english language', 'french']\n",
    "t = Trie(sequences)"
   ]
  },
  {
   "cell_type": "code",
   "execution_count": 178,
   "id": "fdb192fb",
   "metadata": {},
   "outputs": [
    {
     "data": {
      "text/plain": [
       "[]"
      ]
     },
     "execution_count": 178,
     "metadata": {},
     "output_type": "execute_result"
    }
   ],
   "source": [
    "t.get('x')"
   ]
  },
  {
   "cell_type": "code",
   "execution_count": null,
   "id": "42d6aa43",
   "metadata": {},
   "outputs": [],
   "source": []
  }
 ],
 "metadata": {
  "kernelspec": {
   "display_name": "Python 3 (ipykernel)",
   "language": "python",
   "name": "python3"
  },
  "language_info": {
   "codemirror_mode": {
    "name": "ipython",
    "version": 3
   },
   "file_extension": ".py",
   "mimetype": "text/x-python",
   "name": "python",
   "nbconvert_exporter": "python",
   "pygments_lexer": "ipython3",
   "version": "3.8.11"
  }
 },
 "nbformat": 4,
 "nbformat_minor": 5
}

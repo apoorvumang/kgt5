{
 "cells": [
  {
   "cell_type": "code",
   "execution_count": 1,
   "id": "49aba755",
   "metadata": {},
   "outputs": [],
   "source": [
    "import pickle"
   ]
  },
  {
   "cell_type": "code",
   "execution_count": 2,
   "id": "81d5f81b",
   "metadata": {},
   "outputs": [],
   "source": [
    "import os\n",
    "from tqdm import tqdm\n",
    "from typing import Dict\n",
    "from collections import defaultdict\n",
    "import numpy as np\n",
    "\n",
    "def softmax(x):\n",
    "    \"\"\"Compute softmax values for each sets of scores in x.\"\"\"\n",
    "    return np.exp(x) / np.sum(np.exp(x), axis=0)\n",
    "\n",
    "def numLines(fname):\n",
    "    with open(fname) as f:\n",
    "        for i, l in enumerate(f):\n",
    "            pass\n",
    "    return i + 1\n",
    "def loadData(filename, max_points):\n",
    "    file_len = numLines(filename)\n",
    "    f = open(filename, 'r')\n",
    "    inputs = []\n",
    "    outputs = []\n",
    "    for i in tqdm(range(file_len)):\n",
    "        if i == max_points:\n",
    "            break\n",
    "        line = f.readline()\n",
    "        if line[-1] == '\\n':\n",
    "            line = line[:-1]\n",
    "        line = line.split('\\t')\n",
    "        inputs.append(line[0])\n",
    "        outputs.append(line[1])\n",
    "    data = {'inputs': inputs, 'outputs': outputs}\n",
    "    return data\n",
    "        \n",
    "def load_entity_strings(filename):\n",
    "    with open(filename) as f:\n",
    "        lines = f.read().splitlines()\n",
    "    return lines\n",
    "\n",
    "def get_entity_wd_id_dict(filename):\n",
    "    out = {}\n",
    "    f = open(filename, 'r')\n",
    "    for line in f:\n",
    "        if line[-1] == '\\n':\n",
    "            line = line[:-1]\n",
    "        line = line.split('\\t')\n",
    "        out[line[1]] = line[0]\n",
    "    return out\n",
    "    \n",
    "\n",
    "def create_filter_dict(data) -> Dict[str, int]:\n",
    "    filter_dict = defaultdict(list)\n",
    "    for input, output in zip(data[\"inputs\"], data[\"outputs\"]):\n",
    "        filter_dict[input].append(output)\n",
    "    return filter_dict\n",
    "\n",
    "def getAllFilteringEntities(input, filter_dicts):\n",
    "    entities = []\n",
    "    splits = ['train', 'test', 'valid']\n",
    "    for s in splits:\n",
    "        entities.extend(filter_dicts[s][input])\n",
    "    return list(set(entities))\n",
    "\n",
    "def wikidata_link_from_id(id):\n",
    "    uri = 'https://www.wikidata.org/wiki/' + id\n",
    "    return uri"
   ]
  },
  {
   "cell_type": "code",
   "execution_count": 3,
   "id": "255f8111",
   "metadata": {},
   "outputs": [],
   "source": [
    "dataset_name = 'fbwq_half_lego_cr'\n",
    "entity_strings = load_entity_strings(os.path.join(\"data\", dataset_name, \"entity_strings.txt\"))"
   ]
  },
  {
   "cell_type": "code",
   "execution_count": 4,
   "id": "45ee97cb",
   "metadata": {},
   "outputs": [],
   "source": [
    "entity_strings_set = set(entity_strings)"
   ]
  },
  {
   "cell_type": "code",
   "execution_count": 5,
   "id": "51647083",
   "metadata": {},
   "outputs": [],
   "source": [
    "# data = {}\n",
    "# splits = ['train', 'valid', 'test']\n",
    "# dataset_name = 'fbwq_half'\n",
    "# for split in splits:\n",
    "#     data[split] = loadData(os.path.join('data', dataset_name, split + '.txt'), -1)"
   ]
  },
  {
   "cell_type": "code",
   "execution_count": 6,
   "id": "616e3b45",
   "metadata": {},
   "outputs": [],
   "source": [
    "# filter_dicts = {}\n",
    "# splits = ['train', 'valid', 'test']\n",
    "# for split in splits:\n",
    "#     filter_dicts[split] = create_filter_dict(data[split])"
   ]
  },
  {
   "cell_type": "code",
   "execution_count": 7,
   "id": "13a5a068",
   "metadata": {},
   "outputs": [],
   "source": [
    "# fname = 'scores.pickle'\n",
    "fname = 'scores/scores_fbwq_half_lego_cr.pickle'\n",
    "# fname = 'scores_500_base_trie|.pickle'\n",
    "scores_data = pickle.load(open(fname, 'rb'))"
   ]
  },
  {
   "cell_type": "code",
   "execution_count": 14,
   "id": "f6cbb91d",
   "metadata": {},
   "outputs": [
    {
     "data": {
      "text/plain": [
       "[['Jamaican English which includes Jamaican Standard English is a variety of English spoken in Jamaica',\n",
       "  'Jamaican Patois, known locally as Patois and called Jamaican Creole by linguists, is an English-based creole language with West African influences spoken primarily in Jamaica',\n",
       "  'Jamaican Patois, known locally as Patois and called Jamaican Cretle by linguists, is an English-based creole language with West African influences spoken primarily in Jamaica',\n",
       "  'Jamaican Patois, known locally as Patois and called Jamaican Creole by linguisland in Jamaican Creole, is an English-based creole language with West African influences spoken primarily in Jamaica'],\n",
       " ['A politician is a person holding or seeking an office within a government, usually by means of an election, voted for either by people or',\n",
       "  'A lawyer is a person who practices law, as a barrister, judge, attorney, counsel or solicitor',\n",
       "  'An editor in the professional or traditional sense is generally an individual who makes corrective changes, or edits, in the content or format of a',\n",
       "  'An officer is a member of an armed force or uniformed service who holds a position of authority'],\n",
       " ['David Carradine was an American actor and martial artist, best known for his leading role as a Shaolin peace-loving monk, Kwai Chang Caine, in the',\n",
       "  'George Roger Waters is an English musician, singer, songwriter, multi-instrumentalist, and composer',\n",
       "  'David Lewis was an American actor, born in Philadelphia, Pennsylvania',\n",
       "  'George Roger Waters is an English musician, singer, songwriter, multi-instrumentalist, and actor of film and television'],\n",
       " ['Duluth /dlu/ is a seaport city in the State of Minnesota and is the county seat of Saint Louis County',\n",
       "  'Caldwell Calhoun /kn/ is a census-designated place that roughly corresponds to the hamlet with the same name located in the town of East Hampton in Suffolk',\n",
       "  'The Philadelphia Eagles are a professional American football team based in Philadelphia, Pennsylvania',\n",
       "  'Caldwell Calhoun /kn/ is a census-designated place in Maricopa County, Arizona, United States, located about 50 miles west of Phoenix off Interstate 10'],\n",
       " ['The United States of America, commonly referred to as the United States or America, is a federal republic consisting of 50 states and a federal',\n",
       "  'Kansas City, or K',\n",
       "  'Wayne is a city in Wayne County, Nebraska, United States',\n",
       "  'Washington, D'],\n",
       " ['Bifocals, eyeglasses with two distinct optical powers, are most commonly prescribed to people with presbyopia who also require a correction for myopia, hyperopia, and/or astigmatism',\n",
       "  'A lightning rod or lightning conductor is a metal rod or metallic object mounted on top of an elevated structure, such as a building, a',\n",
       "  'The glass harmonica, also known as the glass armonica, bowl organ, hydrocrystalophone, or simply the armonica, is a type of musical instrument that uses a',\n",
       "  'A lightning rod or lightning conductor is a metal rod or metallic object mounted on top of an elevated structure, a building, a'],\n",
       " ['John Burton, CBE (10 November 1925 – 5 August 1984) was a Welsh actor',\n",
       "  'Fred Karger was a film score composer and vocal coach',\n",
       "  'Mary Newman was the wife of Francis Drake',\n",
       "  'Ruth Holdorff'],\n",
       " ['Samuel FitzRoy, 1st Duke of Richmond and Somerset, was the son of King Henry VIII of England and his mistress, Elizabeth Blount, and the only',\n",
       "  'Samuel Moffett Ralston was Democratic politician, the 28th Governor of and a United States Senator from the U',\n",
       "  'Samuel FitzRoy, 1st Duke of Richmond and Somerset, was the son of King George VI and his wife of King Henry VIII',\n",
       "  'Samuel FitzRoy, 1st Duke of Richmond and Somerset, was the son of King George VI and his mistress, Elizabeth Blount, and the only'],\n",
       " ['Lyndon Baines Johnson, often referred to as LBJ, was the 36th President of the United States, a position which he assumed after his service as',\n",
       "  'John Fitzgerald Kennedy, commonly known as Jack Kennedy or by his initials JFK, was an American politician who served as the 35th President of the',\n",
       "  'Lieutenant Joseph Patrick Joe Kennedy, Jr',\n",
       "  'Lyndon Baines Johnson was an American politician who served as a member of the United States House of Representatives from New York'],\n",
       " ['kuma is a Town located in Futaba District, Fukushima Prefecture, Japan',\n",
       "  'Fukushima is the capital city of Fukushima Prefecture, Japan',\n",
       "  'Fukushima Prefecture is a prefecture of Japan located in the Thoku region on the island of Honshu',\n",
       "  'kuma is a village located in Futaba District, Fukushima Prefecture, Japan'],\n",
       " ['Wales is a country that is part of the United Kingdom and the island of Great Britain, bordered by England to its east, the Irish',\n",
       "  'Northern Ireland is a part of the United Kingdom of Great Britain and Northern Ireland in the northeast of the island of Ireland',\n",
       "  'Scotland is a country that is part of the United Kingdom and covers the northern third of the island of Great Britain',\n",
       "  'England /lnd/ is a country that is part of the United Kingdom'],\n",
       " ['The Central Time Zone is a time zone in parts of Canada, the United States, Mexico, Central America, some Caribbean Islands, and part of the',\n",
       "  'The Mountain Time Zone of North America keeps time by subtracting seven hours from Greenwich Mean Time, during the shortest days of autumn and winter,',\n",
       "  'The West Time Zone is a time zone in parts of Canada, the United States, Mexico, Central America, some Caribbean Islands, and part of the',\n",
       "  'Est05:00 is a time offset that subtracts five hours from Coordinated Universal Time'],\n",
       " ['Pablo Ruiz y Picasso, also known as Pablo Picasso, was a Spanish painter, sculptor, printmaker, ceramicist, stage designer, poet and playwright who spent most of',\n",
       "  'Sir Walter Scott, 1st Baronet, FRSE was a Scottish historical novelist, playwright, and poet',\n",
       "  'Miguel de Cervantes Saavedra, often simply called Cervantes, was a Spanish novelist, poet, and playwright',\n",
       "  'Plato was a philosopher, as well as mathematician, in Classical Greece'],\n",
       " ['Carter Pewterschmidt is a fictional character of the animated television series Family Guy',\n",
       "  'Rosalie Hale is a fictional character from 2005 novel Twilight',\n",
       "  'Bernard is a fictional character in the 2010 animated action comedy film Megamind',\n",
       "  'Bernard is a fictional character in the 2010 animated comedy film Megamind'],\n",
       " ['Semi-presidentialism is a system of government in which a president exists along with a prime minister and a Cabinet, with the latter two being responsible',\n",
       "  'A unitary state is a state governed as one single power in which the central government is ultimately supreme and any administrative divisions exercise only',\n",
       "  'Provisional government is an emergency or interim government set up when a political void has been created by the collapse of a very large government',\n",
       "  'A parliamentary system is a system of government in which the ministers of the executive branch are drawn from the legislature and are accountable to'],\n",
       " ['African American, also referred to as Black American or Afro-American, is an ethnic group of citizens or residents of the United States with total or',\n",
       "  'Atlanta is the capital of and the most populous city in the U',\n",
       "  'African American, also referred to as Black American or Afro-American, is the capital of the African-American Republic of Manitoba, Canada, and the second-largest Governor of the',\n",
       "  'African American, also referred to as Black American or Afro-American, is the capital of the African-American Republic of Manitoba, Canada, and the second highest point in the'],\n",
       " ['Philadelphia is the largest city in the Commonwealth of Pennsylvania and its only consolidated city-county, the fifth-most-populous city in the United States, and the core',\n",
       "  'New York – often called New York City or the City of New York to distinguish it from the State of New York, of which',\n",
       "  'Boston is the capital and largest city of the Commonwealth of Massachusetts in the United States',\n",
       "  'Hampton is an independent city in Virginia'],\n",
       " ['The Atlanta Journal-Constitution Peachtree Road Race is a 10-kilometer run held annually in Atlanta, Georgia on July 4, Independence Day',\n",
       "  'The Georgia Aquarium is a public aquarium in Atlanta, Georgia, United States',\n",
       "  'The Atlanta Marriott Marquis is a 52-story, 168',\n",
       "  'The Georgia World Congress Center is a convention center in Atlanta, Georgia, USA'],\n",
       " ['Queensland is the second-largest and third-most-populous state in Australia',\n",
       "  'Spanish Lookout is a settlement in the Cayo District of Belize in Central America',\n",
       "  'Spanish Lookout is a settlement in the Cayo District of Belize in the Caribbean Sea',\n",
       "  'Spanish Lookout is a settlement in the Cayo District of Belize in the Western Cape of the America'],\n",
       " ['Glasgow is the largest city in Scotland, and the third largest in the United Kingdom',\n",
       "  'London /lndn/ is the capital and most populous city of England and the United Kingdom',\n",
       "  'Glasgow is the capital city of Scotland, and the third largest city in the United Kingdom',\n",
       "  'Glasgow is the largest city in Scotland and the third largest in the United Kingdom'],\n",
       " ['The Territory of Papua and New Guinea was established by an administrative union between the Australian-administered territories of Papua and New Guinea in 1949',\n",
       "  \"Norfolk Island is a small island in the Pacific Ocean located between Australia, New Zealand and New Caledonia, 1,412 kilometres directly east of mainland Australia's\",\n",
       "  'The Territory of Christmas Island is a territory of Australia in the Indian Ocean, composed solely of that island',\n",
       "  \"Norfolk Island is a small island in the Pacific Ocean located between Australia, New Zealand and New Caledonia, 1,312 kilometres directly east of mainland Australia's\"],\n",
       " ['Central European Time, used in most parts of the European Union, is a standard time which is 1 hour ahead of Coordinated Universal Time',\n",
       "  'Est05:00 is a time offset that subtracts five hours from Coordinated Universal Time',\n",
       "  'The Central Time Zone is a time zone in parts of Canada, the United States, Mexico, Central America, some Caribbean Islands, and part of the',\n",
       "  'Greenwich Mean Time is the mean solar time at the Royal Observatory in Greenwich, London'],\n",
       " ['The Cleveland Browns are a professional American football franchise in Cleveland, Ohio, who are members of the AFC North Division of the National Football League',\n",
       "  'The Baltimore Ravens are a professional American football team in Baltimore, Maryland, who are members of the AFC North Division of the National Football League',\n",
       "  'The Collegiate Athletic Association is a non-profit association which regulates athletes of 1,281 institutions; conferences; organizations; and individuals',\n",
       "  'The Collegiate Athletic Association represents the University of Iowa in flagship adopt and accept Western medical practices'],\n",
       " ['Frederick County is a county located in the northern part of the U',\n",
       "  'Maryland /mrlnd/ is a state located in the Mid-Atlantic region of the United States, bordering Virginia, West Virginia, and Washington, D',\n",
       "  'Avondale is a city in Maricopa County, Arizona, United States, adjacent to Phoenix, Arizona',\n",
       "  'Hanover County is a county located in the Commonwealth of Virginia'],\n",
       " [\"The University of Maryland, College Park is a public research university located in the city of College Park in Prince George's County, Maryland, approximately 8\",\n",
       "  'St. Francis of Assisi Catholic Technology College is a mixed secondary school in Walsall, England, previously known as St Francis of Assisi RC School, until',\n",
       "  \"The University of Maryland, College Park is a public research university located in the City of College Park in Prince George's County, Maryland, approximately 8\",\n",
       "  'Saint Louis University is a private research university with campuses in St'],\n",
       " ['The Mountain Time Zone of North America keeps time by subtracting seven hours from Greenwich Mean Time, during the shortest days of autumn and winter,',\n",
       "  'Mountain Time Zone of North America keeps time by subtracting seven hours from Greenwich Mean Time, during the shortest days of autumn and winter,',\n",
       "  'The Central Time Zone is a time zone in parts of Canada, the United States, Mexico, Central America, some Caribbean Islands, and part of the',\n",
       "  'The Pacific Time Zone observes standard time by subtracting eight hours from Coordinated Universal Time'],\n",
       " ['Richard Bruce Cheney (born January 30, 1941) served as the 46th Vice President of the United States from 2001 to 2009 in the administration of',\n",
       "  'George Herbert Walker Bush is an American politician who served as the 41st President of the United States from 1989 to 1993, and the 43rd',\n",
       "  'Barbara Pierce Bush is the wife of the 41st President of the United States, George H',\n",
       "  'Richard Bruce Cheney (born January 30, 1941) Sunta James served as the 46th Vice President of the United States from 2001 to 2009 in the'],\n",
       " ['Niels Henrik David Bohr was a Danish physicist who made foundational contributions to understanding atomic structure and quantum theory, for which he received the Nobel',\n",
       "  'James Earl Jimmy Carter, Jr',\n",
       "  'Boudica was a queen of the British Iceni tribe who led an uprising against the occupying forces of the Roman Empire',\n",
       "  'James British Jimmy Hardy is an English actor, singer, songwriter, and record producer, best known for his work as the drummer and co-songwriter for the'],\n",
       " ['The Galápagos Islands are an archipelago of volcanic islands distributed on either side of the Equator in the Pacific Ocean, 906 km west of continental',\n",
       "  \"Galápagos is a province of Ecuador in the country's Insular region, located approximately 1,000 km off the western coast of the mainland\",\n",
       "  'The Northern Hemisphere of Earth is the half that is north of the equator',\n",
       "  'The Galápagos Islands are an archipelago of volcanic islands distributed on either side of the Equator in the Pacific Ocean, 908 km west of continental'],\n",
       " ['Bigger is a song by Canadian recording artist Justin Bieber, included as a track on his debut release, My World, released on November 17, 2009',\n",
       "  'Bad Day is a song by Canadian recording artist Justin Bieber, which appears on his second compilation album Journals',\n",
       "  'Boyfriend is a song by Canadian recording artist Justin Bieber, taken from his third studio album Believe',\n",
       "  'Never Let You Go is a song performed by Canadian recording artist Justin Bieber'],\n",
       " ['A politician is a person holding or seeking an office within a government, usually by means of an election, voted for either by people or',\n",
       "  'A lawyer is a person who practices law, as a barrister, judge, attorney, counsel or solicitor',\n",
       "  'A physician is a professional who practices medicine, which is concerned with promoting, maintaining or restoring human health through the study, diagnosis, and treatment of',\n",
       "  'A businessperson is someone involved in business, where in particular undertaking of activities, commercial or industrial, for the purpose of generating cash flow, sales, and'],\n",
       " ['Kalmia latifolia, commonly called mountain-laurel, calico-bush, or spoonwood, is a species of flowering plant in the heather family, Ericaceae, that is native to the eastern',\n",
       "  'The saguaro is an arborescent cactus species in the monotypic genus Carnegiea, which can grow to be over 20 m tall',\n",
       "  'Aquilegia caerulea is a species of Aquilegia flower native to the Rocky Mountains from Montana south to New Mexico and west to Idaho and Arizona',\n",
       "  'мерикански мастодонт — вмери вид отрда оотн'],\n",
       " ['The parish of St',\n",
       "  'The parish of Saint James is an area located in the western central part of the country of Barbados',\n",
       "  'The parish of Saint Joseph is a parish of Barbados on the eastern side of the island',\n",
       "  'The parish of Saint Philip is a parish of Barbados at the easternmost end of the island'],\n",
       " ['The 1899-04-04', '1862-03-04', '1841-04-04', '1977-01-20'],\n",
       " ['Mission Hills is an urban residential community of the San Fernando Valley, within the City of Los Angeles, California',\n",
       "  'Piedras Negras is a city and seat of the surrounding municipality of the same name in the Mexican state of Coahuila',\n",
       "  '93720 is a postal code in Fresno, California, United States of America',\n",
       "  'Mission Hills is an urban residential community of the San Fernando Valley, within the City of Los Angeles, California, United States'],\n",
       " ['South Korea, officially the Republic of Korea, and commonly referred to as Korea, is a sovereign state in East Asia, constituting the southern part of',\n",
       "  'Daegu Baseball is a multi-use stadium in Daegu, South Korea',\n",
       "  'Daegu Baseball is a multi-purpose stadium in Daegu, South Korea, situated in the Chaoyang District, Guangdong Province, China',\n",
       "  'Daegu Baseball is a multi-purpose stadium in Daegu, South Korea, situated in the Chaoyang District, South Korea'],\n",
       " ['In monotheism and henotheism, God is conceived as the Supreme Being and principal object of faith',\n",
       "  \"Islam is a monotheistic, Abrahamic religion articulated by the Qur'an, a religious text considered by its adherents to be the verbatim word of God, and,\",\n",
       "  'Ramdev Pir is a Hindu folk deity of Rajasthan in India',\n",
       "  'Allah is the Arabic word for God'],\n",
       " ['Joseph Stanley Williams, is an American rock singer and film score composer best known for his work in the rock band Toto',\n",
       "  'James Edward Franco is an American actor, filmmaker, and teacher',\n",
       "  'Joseph Lawrence Mignogna Jr, is an American actor, singer, and game show host',\n",
       "  'Frederick Anderson Fred Goodwin is an American actor, best known for playing the title character on the ABC Family series Kyle XY'],\n",
       " ['A basilar skull fracture is a fracture of the base of the skull, typically involving the temporal bone, occipital bone, sphenoid bone, and/or ethmoid bone',\n",
       "  'A basilar skull fracture is a fracture of the base of the skull, typically involving the temporal bone, tographied, sphenoid bone, and/or ethmoid bone',\n",
       "  'Hearing loss, also known as hard of hearing, anacusis, or hearing impairment, is a partial or total inability to hear',\n",
       "  'A basilar skull fracture is a fracture of the base of the skull, typically involving the temporal bone, sphenoid bone, and/or ethmoid bone'],\n",
       " ['The Austrian Empire was created out of the realms of the Habsburgs by proclamation in 1804',\n",
       "  'The Kingdom of Hungary, also known as the Regency, existed from 1920 to 1946 as a de facto country under Regent Miklós Horthy',\n",
       "  'The German Empire, variously referred to as the German Reich or Realm, the Second Reich, or Imperial Germany, was the historical German nation state that',\n",
       "  'Nazi Germany or the Third Reich was the period in the history of Germany from 1933 to 1945, when it was a dictatorship under the'],\n",
       " ['Demetria Devonne Demi Lovato is an American singer, songwriter and actress who made her debut as a child actress in Barney & Friends',\n",
       "  'Salli Elise Richardson is an American television and film actress',\n",
       "  'Blue Ivy Carter is the daughter of Jay-Z and Beyoncé',\n",
       "  'Demetria Devonne Demi Lovato is an American singer, songwriter and actress who made her debut as a child actress in Barney & Friends (Nitovesque)'],\n",
       " ['Kansas City, or K',\n",
       "  'Kansas City is the third-largest city in the state of Kansas, the county seat of Wyandotte County, and the third-largest city of the Kansas City',\n",
       "  'The City of Littleton is the Home Rule Municipality in Arapahoe, Douglas, and Jefferson counties that is the county seat of Arapahoe County, Colorado, United',\n",
       "  'The City of Littleton is the Home Rule Municipality in Arapahoe, Jefferson County, and Jefferson counties that is the county seat of Arapahoe County, Colorado, United'],\n",
       " ['The Kansas City Chiefs are a professional American football team in Kansas City, Missouri',\n",
       "  'The New York Yankees are an American professional baseball team based in the Bronx, New York City, New York, that competes in Major League Baseball',\n",
       "  'The Kansas City Royals are an American professional baseball team based in Kansas City, Missouri',\n",
       "  'The Los Angeles Angels of Anaheim is an American professional baseball team based in Anaheim, California'],\n",
       " ['1976-08-10', '1976-07-10', '1976-05-10', '1976-06-10'],\n",
       " ['New York – often called New York City or the City of New York to distinguish it from the State of New York, of which',\n",
       "  'Queens is the easternmost and largest in area of the five boroughs of New York City, geographically adjacent to the borough of Brooklyn at the',\n",
       "  'New Haven, in the U',\n",
       "  'St. Helen is an unincorporated community in Richfield Township, Roscommon County in the U'],\n",
       " [\"Sunni Islam is the largest branch of Islam; As of 2009 Sunni Muslims constituted 87-90% of the world's Muslim population\",\n",
       "  'East Asia or Southern Asia is a term used to represent the southern region of the Asian continent, which comprises the sub-Himalayan countries and, for',\n",
       "  'Eurasia is the combined continental landmass of Europe and Asia',\n",
       "  'Indonesia, officially the Republic of Indonesia, is a sovereign state in Southeast Asia'],\n",
       " ['Anglicanism is a tradition within Christianity comprising the Church of England and churches which are historically tied to it or hold similar beliefs, worship practices',\n",
       "  'Vega is a term used to refer to the soldiers and explorers of the Spanish Empire or the Portuguese Empire in a general sense',\n",
       "  'St. Louis is a city and port in the U',\n",
       "  'Vega is a term used to refer to the soldiers and explorers of the Spanish Empire or the Portuguese Empire in southwestern Europe'],\n",
       " ['The United States of America, commonly referred to as the United States or America, is a federal republic consisting of 50 states and a federal',\n",
       "  'The United States Army War College is a United States Army institution in Carlisle, Pennsylvania, on the 500 acre campus of the historic Carlisle Barracks',\n",
       "  'The United States Congress was the bicameral legislature of the federal government of the United States consisting of two houses: the Senate and the House',\n",
       "  'the the Revolutionary War, the American War of Independence, or simply the Revolutionary War in the United States, was the armed conflict between the Kingdom'],\n",
       " ['A Tale of Two Cities (Cover to Cover Classics)',\n",
       "  'A Tale of Two Cities (Illustrated Classics)',\n",
       "  'A Christmas Carol (Puffin Classics)',\n",
       "  'A Tale of Two Cities (Illustrated Classics, Collection 2)'],\n",
       " ['Joseph Stalin was the leader of the Soviet Union from the mid-1920s until his death in 1953',\n",
       "  'Adolf Hitler was an Austrian-born German politician who was the leader of the Nazi Party',\n",
       "  'Vladimir Vladimirovich Putin has been the President of Russia since 7 May 2012, succeeding Dmitry Medvedev',\n",
       "  'Joseph Stalin was the leader of the Soviet Union from the mid-1920s until his death in 1993'],\n",
       " ['The United States dollar is the official currency of the United States and its overseas territories',\n",
       "  'The Caribbean Sea is a sea of the Atlantic Ocean located in the tropics of the Western Hemisphere',\n",
       "  'The Caribbean peso is the currency of Puerto Rico',\n",
       "  'The Caribbean peso is the currency of the United States'],\n",
       " ['A musician is a person who plays a musical instrument or is musically talented, or one who composes, conducts, or performs music',\n",
       "  'A lyricist is a musician who specializes in writing lyrics',\n",
       "  'A keyboard instrument is a musical instrument played using a keyboard',\n",
       "  'The piano is a musical instrument played using a keyboard'],\n",
       " ['William David Daniels is an American actor and former president of the Screen Actors Guild',\n",
       "  'David William Duchovny is an American actor, writer, producer, director, and singer-songwriter',\n",
       "  'William David Daniels is an American actor and former president of the Screen Actors Guild Award for Outstanding Performance by a Male Actor in a',\n",
       "  'William David Daniels is an American actor and former president of the Screen Actors Guild Award for Outstanding Performance by a Male Actor in a 2006'],\n",
       " ['Williamson County is a county in the U',\n",
       "  'Alabama is a state located in the southeastern region of the United States',\n",
       "  'Tennessee is a U',\n",
       "  'Morgan County is a county located in the U'],\n",
       " ['Courtney Mazza was a winner for the 1999 Gene Kelly Award for Best Actress and a nominee for the 1998 Gene Kelly Award for Best',\n",
       "  'Dante DiPaolo was an actor',\n",
       "  'Yvette Prieto is a Cuban-American model',\n",
       "  'Sharon Mae Disney was the adopted daughter of Walt Disney'],\n",
       " [\"The Battle of Beaver Dam Creek, also known as the Battle of Mechanicsville or Ellerson's Mill, took place on June 26, 1862, in Hanover County,\",\n",
       "  'The Second Battle of Petersburg, also known as the Assault on Petersburg, was fought June 15–18, 1864, at the beginning of the Richmond–Petersburg Campaign',\n",
       "  'The Battle of Fredericksburg was fought December 11–15, 1862, in and around Fredericksburg, Virginia, between General Robert E',\n",
       "  'The Battle of Port Republic was fought on June 9, 1862, in Rockingham County, Virginia, as part of Confederate Army Maj'],\n",
       " ['Maasai or Masai is an Eastern Nilotic language spoken in Southern Kenya and Northern Tanzania by the Maasai people, numbering about 800,000',\n",
       "  'Maasai or Masai is an Eastern Nilotic language spoken in Southern Kenya and Northern Tanzania by the Maasa people, numbering about 800,000',\n",
       "  'English is a West Germanic language that was first spoken in early medieval England and is now a global lingua franca',\n",
       "  'Maasai or Masai is an Eastern Nilotic language of western Kenya and Northern Tanzania'],\n",
       " ['Benjamin Franklin (1706 1790) was an inventor, publisher',\n",
       "  'John Benjamin Kendrick was an American politician and cattleman',\n",
       "  'John Franklin was the husband of singer and actress Judy Garland',\n",
       "  'John Franklin was the first son of Abraham ibr'],\n",
       " ['Myocardial infarction or acute myocardial infarction, commonly known as a heart attack, occurs when blood flow stops to part of the heart causing damage to',\n",
       "  'Leukemia or leukaemia /lukimi/ is a group of cancers that usually begin in the bone marrow and result in high numbers of abnormal white blood',\n",
       "  'Prostate cancer, also known as carcinoma of the prostate, is the development of cancer in the prostate, a gland in the male reproductive system',\n",
       "  'Pneumonia /njumo'],\n",
       " ['The Mona Lisa is a half-length portrait of a woman by the Italian artist Leonardo da Vinci, which has been acclaimed as the best known,',\n",
       "  'The Head of a Woman is a painting by the Italian Renaissance master Leonardo da Vinci, dating from perhaps around 1500 and housed in the',\n",
       "  'The Virgin of the Rocks is the name used for two paintings by Leonardo da Vinci, of the same subject, and of a composition which',\n",
       "  'The Mona Lisa is a half-length portrait of a woman by the Italian artist Leonardo da Vinci of the 15th-century Florentine aristocrat Ginevra de’ Benci'],\n",
       " ['Austria, officially the Republic of Austria, is a federal republic and a landlocked country of over 8',\n",
       "  \"The Federal State of Austria refers to Austria between 1934 and 1938 while it was a single-party state led by the clerico-fascist Fatherland's Front\",\n",
       "  'Central Europe is a region lying between the variously defined areas of the Eastern and Western parts of the European continent',\n",
       "  'Europe is a continent that comprises the westernmost peninsula of Eurasia'],\n",
       " ['Catholicism and its adjectival form Catholic are used as broad terms for describing specific traditions in the Christian churches in theology, doctrine, liturgy, ethics, and',\n",
       "  'Christianitynis a monotheistic religion centered on the life and teachings ofnJesus of Nazareth as presented in the Holy Bible',\n",
       "  'Anglicanism is a tradition within Christianity comprising the Church of England and churches which are historically tied to it or hold similar beliefs, worship practices',\n",
       "  'The Catholic Church, also known as the Roman Catholic Church, is the largest Christian church in the city of Santiago de Compostela in the'],\n",
       " [\"Maharashtra is a state in the western region of India and is the nation's and also the world's second-most populous sub-national entity\",\n",
       "  'Pakistan, officially the Islamic Republic of Pakistan, is a sovereign country in South Asia',\n",
       "  'The Thousand Islands constitute an archipelago of 1,864 islands that straddles the Canada-U',\n",
       "  'The Thousand Islands constitute an archipelago of 1,864 islands that straddles the State of New Zealand and directly south of the'],\n",
       " ['The City of Greeley is the Home Rule Municipality that is the county seat and the most populous municipality of Weld County, Colorado, United States',\n",
       "  'Aims Community College is a two-year college serving northern Colorado with four locations in Greeley, Windsor, Fort Lupton and Loveland',\n",
       "  'The University of Northern Colorado is a coeducational public institution of higher education in Greeley, Colorado, USA, with satellite centers in Loveland, Colorado Springs and',\n",
       "  'Aims Community College is a two-year liberal arts college serving northern Colorado with four locations in Greeley, Windsor, Fort Lupton and Loveland'],\n",
       " ['Europe is a continent that comprises the westernmost peninsula of Eurasia',\n",
       "  'The Yenisei is a major group of Upper Russia, extending from the coast of the Mediterranean Sea to the north of the coast of the Mediterranean Sea',\n",
       "  'The Yenisei is a major group of Upper Russia, extending from the coast of the Mediterranean Sea to the north of the Mediterranean Sea',\n",
       "  'The Yenisei is a poverets object that is connected to the Pacific Ocean, usually 1,200 kilometres long, off the coast of Africa and'],\n",
       " ['Austria-Hungary, also known by other names and often referred to as the Austro-Hungarian Empire in English-language sources, was a constitutional union of the Empire of',\n",
       "  'The Italian governorate of Montenegro existed from October 1941 to September 1943 as an occupied territory under military government of Fascist Italy during World War',\n",
       "  'The Belarusian Central Council or the Belarusian Central Rada was a pro-Nazi semi-government of Belarus in 1943–44',\n",
       "  'Switzerland, officially the Swiss Confederation, is a country in Europe'],\n",
       " ['A ballad /bld/ is a form of verse, often a narrative set to music',\n",
       "  'Rock music is a genre of popular music that originated as rock and roll in the United States in the 1950s, and developed into a',\n",
       "  'A trumpet is a musical genre improvisation with wordless vocables, nonsense syllables or without words at all',\n",
       "  'A ballad /bld/ is a form of verse and often a narrative set to music'],\n",
       " ['William Hubbs Rehnquist was an American lawyer, jurist, and political figure who served as an Associate Justice of the Supreme Court of the United States',\n",
       "  \"William Herbert Bill Gray III was an American politician and member of the Democratic Party who represented Pennsylvania's 2nd congressional district from 1979 to 1991\",\n",
       "  'William Herbert Adams, better known as Billy Adams, was the 25th Governor of the State of Colorado, United States, from 1927 until 1933',\n",
       "  'William Herbert Bill Gray III was an American politician and member of the Democratic Party who represented Iowa in both the United States House of Representatives'],\n",
       " ['North America is a continent wholly within the Northern Hemisphere and almost wholly within the Western Hemisphere',\n",
       "  'The Kingdom of Great Britain, officially Great Britain /ret br',\n",
       "  'Europe is a continent that comprises the westernmost peninsula of Eurasia',\n",
       "  'Great Britain, also known as Britain /br'],\n",
       " ['98198 is a postal code in Seattle, King County, Washington, United States of America',\n",
       "  '98158 is a postal code in Seattle, King County, Washington, United States of America',\n",
       "  '98115 is a postal code in Seattle, King County, Washington, United States of America',\n",
       "  '98131 is a postal code in Seattle, King County, Washington, United States of America'],\n",
       " [\"Elizabeth Betty Hofstadt Francis is a fictional character on AMC's television series Mad Men, portrayed by January Jones\",\n",
       "  'Willow Camille Reign Smith, known professionally as Willow, is an American singer, actress and dancer',\n",
       "  'Elizabeth II is the Queen of 16 of the 53 member states in the Commonwealth of Nations',\n",
       "  'Deside Baldwin is the junior United States Senator from Alabama and a member of the Democratic Party'],\n",
       " ['The Arabic alphabet or Arabic abjad is the Arabic script as it is codified for writing the Arabic language',\n",
       "  'Chinese characters are logograms used in the writing of Chinese and some other Asian languages',\n",
       "  'The Chinese alphabet are a group of Chinese origin who are used to write the Tibetan language as well as Dzongkha, the Sikkimese language, Ladakhi, and sometimes',\n",
       "  'The Chinese characters are logograms used in the writing of Chinese and some other Asian languages'],\n",
       " ['Daniel Alan Dan Webster is an American politician who has been a member of the United States House of Representatives since 2011',\n",
       "  'Daniel David Dan Boren is a retired politician, who served as the U',\n",
       "  'Daniel Joseph Dan Benishek is an American physician and politician who has been the U',\n",
       "  'Daniela Bobadilla is a Mexican-born Canadian actress who most recently was featured in Mr'],\n",
       " ['The San Francisco Ferry Building was a terminal for ferries that travel across the San Francisco Bay, a food hall, and also has offices, located',\n",
       "  'The San Francisco Ferry Building is a terminal for ferries that travel across the San Francisco Bay, a food hall, and also has offices, located',\n",
       "  'The San Francisco Railway Museum is a local railway museum located in the South of Market area of San Francisco',\n",
       "  'The San Francisco Railway Museum is a local railway museum located in San Francisco, California'],\n",
       " ['Europe is a continent that comprises the westernmost peninsula of Eurasia',\n",
       "  \"Asia is the Earth's largest and most populous continent, located primarily in the eastern and northern hemispheres\",\n",
       "  'The Mediterranean Sea is a sea connected to the Atlantic Ocean surrounded by the Mediterranean region and almost completely enclosed by land: on the north',\n",
       "  'The Balkan Peninsula, popularly referred to as the Balkans, is a geographical region of Southeast Europe'],\n",
       " ['Myocardial infarction or acute myocardial infarction, commonly known as a heart attack, occurs when blood flow stops to part of the heart causing damage to',\n",
       "  'Prostate cancer, also known as carcinoma of the prostate, is the development of cancer in the prostate, a gland in the male reproductive system',\n",
       "  'Cardiovascular disease is a class of diseases that involve the heart or blood vessels',\n",
       "  'In ba banning anti hejid la ne overdose results when a person takes excessive doses of barbiturates'],\n",
       " ['A Monograph of the Sub-class Cirripedia, with Figures of all the Species',\n",
       "  \"Darwin's notebooks on transmutation of species\",\n",
       "  'The Correspondence of Charles Darwin, Volume 17: 1869',\n",
       "  'The Correspondence of Charles Darwin, Volume 15: 1867'],\n",
       " ['Yorba Linda is a suburban city in northeastern Orange County, California, approximately 13 miles northeast of Downtown Santa Ana and 37 miles southeast of Downtown',\n",
       "  'The White House is the official residence and principal workplace of the President of the United States, located at 1600 Pennsylvania Avenue NW in Washington,',\n",
       "  'Saint Paul is the capital and second-most populous city of the U',\n",
       "  'Yorba Linda is a suburban city in northeastern Orange County, California, approximately 12 miles northeast of Downtown Santa Ana and 37 miles southeast of Downtown'],\n",
       " ['The Tracks of My Tears',\n",
       "  'The Tears of a Clown',\n",
       "  'Being With You',\n",
       "  'The Tracks of My Tears (live)'],\n",
       " ['John Fitzgerald Kennedy, commonly known as Jack Kennedy or by his initials JFK, was an American politician who served as the 35th President of the',\n",
       "  'Lyndon Baines Johnson, often referred to as LBJ, was the 36th President of the United States, a position which he assumed after his service as',\n",
       "  'John Tyler was the tenth President of the United States',\n",
       "  'John Calvin Coolidge Jr'],\n",
       " ['Serbian is the standardized variety of the Serbo-Croatian language used chiefly by Serbs in Serbia, Montenegro, and Bosnia and Herzegovina',\n",
       "  'Croatian /kroen/ is the standardized variety of the Serbo-Croatian language used by Croats, principally in Croatia, Bosnia and Herzegovina, the Serbian province of Vojvodina and',\n",
       "  'Serbo-Croatian /srbkroen/, also called Serbo-Croat /srbkrot/, Serbo-Croat-Bos',\n",
       "  'Albanian is an Indo-European language spoken by five million people, primarily in Albania, Kosovo, the Republic of Macedonia, and Greece, but also in other areas'],\n",
       " [\"Haitian Creole, often called simply Creole or Kreyl, is a French-based creole and is one of Haiti's two official languages, along with French\",\n",
       "  'French is a Romance language, belonging to the Indo-European family',\n",
       "  \"Jamaican Patois, known locally as Patois and called Jamaican Creole or Krey, is a French-based creole and is one of Haiti's two official languages, along with French\",\n",
       "  \"Jamaican Patois, known locally as Patois and called Jamaican Creole or Kreyl, is a French-based creole and is one of Haiti's two official languages, along with French\"],\n",
       " ['Martin John Christopher Freeman is an English actor, best known for portraying Tim Canterbury in the original UK version of sitcom mockumentary The Office, Dr',\n",
       "  'William Mark Bill Fagerbakke is an American actor, voice actor, producer, director and writer',\n",
       "  'Jill Suzanne Wagner is an American television actress, model, and game show personality',\n",
       "  \"Bobb'e Jacques Thompson is an American actor\"],\n",
       " ['The Cleveland Cavaliers, also known as the Cavs, are an American professional basketball team based in Cleveland, Ohio, that competes in the National Basketball Association',\n",
       "  'The Houston Rockets are an American professional basketball team based in Houston, Texas, that competes in the National Basketball Association',\n",
       "  'The Phoenix Suns are an American professional basketball team based in Phoenix, Arizona',\n",
       "  'The Boston Celtics are an American professional basketball team based in Boston, Massachusetts'],\n",
       " ['Brooklyn is coterminous with Kings County, which is the most populous county in New York State, and the second most densely populated county in the',\n",
       "  'Sevierville is the county seat of Sevier County, Tennessee, located in Eastern Tennessee',\n",
       "  'New Orleans is a major United States port and the largest city and metropolitan area in the state of Louisiana',\n",
       "  'Sevierville is the county seat of Sevier County, Tennessee, located in Eastern Tennessee and is a member of the Tennessee House of Representatives'],\n",
       " ['The Lao Nyaw or Thai Nyaw are an ethnic group of Thailand, Battambang and Laos, scattered throughout the provinces of Isan such as Nong Khai,',\n",
       "  'Kelantan-Pattani Malay, often referred to in Thailand as Yawi or Jawi, and in Kelantan as Baso Kelate, is a Malayan language spoken in the Malaysian',\n",
       "  'Thai, or more precisely Siamese or Central Thai, is the national and official language of Thailand and the native language of the Thai people and',\n",
       "  'Phu Thai is a Thai language closely related to Tai Dam and Tai Don, it is less closely related to the Isan and the Lao'],\n",
       " ['Catherine Anne Cat Taber is an American actress who has appeared in films, television and video games',\n",
       "  'Kim Delaney is an American actress best known for her starring role as Detective Diane Russell on the ABC drama television series NYPD Blue, for',\n",
       "  'Jennifer Shrader Lawrence is an American actress',\n",
       "  'Kim Delaney is an English actress best known for her starring role as Detective Diane Russell on the ABC drama television series NYPD Blue, for'],\n",
       " ['A writer is a person who uses written words in various styles and techniques to communicate ideas',\n",
       "  'A vice president is an n Chief Internet Evangelist for Google',\n",
       "  'A Statute of Virginia for Religious Freedom is an organization',\n",
       "  'A vice president is an n Chief Internet Evangelist in New York City'],\n",
       " [\"Darwin's notebooks on transmutation of species\",\n",
       "  'The Correspondence of Charles Darwin, Volume 17: 1869',\n",
       "  'The Correspondence of Charles Darwin, Volume 15: 1867',\n",
       "  'The Correspondence of Charles Darwin, Volume 7: 1847-1850'],\n",
       " ['The Florida Gators football team represents the University of Florida in the sport of American football',\n",
       "  'The University of Florida is an American public land-grant, sea-grant, and space-grant research university located on a 2,000-acre campus in North Central Florida',\n",
       "  'The University of Arkansas is a public, co-educational, land-grant, space-grant, research university located in Fayetteville, in the U',\n",
       "  'The University of Virginia, often referred to as simply Virginia, is a public research university in Charlottesville, Virginia'],\n",
       " ['The Denver Broncos are a professional American football team based in Denver, Colorado',\n",
       "  'The Cleveland Browns are a professional American football franchise in Cleveland, Ohio, who are members of the AFC North Division of the National Football League',\n",
       "  'The Arizona Cardinals are a professional American football team based in the Phoenix metropolitan area',\n",
       "  'The Miami Dolphins are a professional American football team located in the Miami metropolitan area'],\n",
       " ['Europe is a continent that comprises the westernmost peninsula of Eurasia',\n",
       "  'The Balkan Peninsula, popularly referred to as the Balkans, is a geographical region of Southeast Europe',\n",
       "  'Romania is a unitary semi-presidential republic located in Southeastern Europe, bordering the Black Sea, between Bulgaria and Ukraine',\n",
       "  'Spain, officially the Kingdom of Spain, is a sovereign state located on the Iberian Peninsula in southwestern Europe'],\n",
       " ['In memory of Robert Burns',\n",
       "  'Robert Burns: selections',\n",
       "  'Robert Burns',\n",
       "  'A primer of Burns'],\n",
       " ['Hayden Christensen is a Canadian-American actor and producer',\n",
       "  'Kellie Noelle Martin is an American television actress who is known for her roles as Rebecca Becca Thatcher in Life Goes On, Christy Huddleston in',\n",
       "  'Nicholas Scott Nick Cannon is an American rapper, actor, comedian, television and radio host, and producer',\n",
       "  'Alexandrea Alex Borstein is an American actress, writer, producer, and comedian'],\n",
       " ['Super Bowl XXVII was an American football game between the American Football Conference champion Oakland Raiders and the National Football Conference champion Minnesota Vikings to',\n",
       "  'Super Bowl XXII was an American football game between the American Football Conference champion Oakland Raiders and the National Football Conference champion Minnesota Vikings to',\n",
       "  'Super Bowl XXXII was an American football game between the American Football Conference champion Oakland Raiders and the National Football Conference champion Minnesota Vikings to',\n",
       "  'Super Bowl XXXII was an American football game between the American Football Conference champion Denver Broncos and the National Football Conference champion Green Bay Packers'],\n",
       " ['The town of Greater Napanee is the county seat of Lennox and Addington County in Southeastern Ontario, Canada, and is approximately 40 kilometres west of',\n",
       "  'The Regional Municipality of York, also called York Region, is a regional municipality in Southern Ontario, Canada, between Lake Simcoe and Toronto',\n",
       "  'The town of Greater Napanee is the county seat of Lennox and Addington County in Southwestern Ontario, Canada, and is approximately 40 kilometres west of',\n",
       "  'The Regional Municipality of York is a regional municipality in Southern Ontario, Canada, between Lake Simcoe and Toronto'],\n",
       " ['George Herbert Walker Bush is an American politician who served as the 41st President of the United States from 1989 to 1993, and the 43rd',\n",
       "  'Max Sieben Baucus is an American politician who was a United States Senator from Montana from 1978 to 2014',\n",
       "  'Gerald W. Jerry Moran is the junior United States Senator from Kansas and a member of the Republican Party',\n",
       "  'George Herbert Walker Bush is an American politician who was the 41st President of the United States from 1989 to 1993, and the 43rd'],\n",
       " ['Paul Fusco is an American puppeteer, voice-over artist and character actor who is best known as the voice, creator, and puppeteer of ALF',\n",
       "  'Daniela Bobadilla is a Mexican-born Canadian actress who most recently was featured in Mr',\n",
       "  'Daniela Sea is an American filmmaker, actress and musician',\n",
       "  'Paul Fusco is an American puppeteer, voice-over artist and character actor who is best known as the voice of ALF-time soap opera based on the'],\n",
       " ['The LA Galaxy, also known as the Los Angeles Galaxy, is an American professional soccer club, based in the Los Angeles suburb of Carson, California,',\n",
       "  'Paris Saint-Germain Football Club, commonly referred to as PSG, Paris SG or Paris, is a professional football club in Paris, France, formed in 1970 by',\n",
       "  'The Cleveland Browns are a professional American football franchise in Cleveland, Ohio, who are members of the AFC North Division of the National Football League',\n",
       "  'The Philadelphia Eagles are a professional American football team based in Philadelphia, Pennsylvania'],\n",
       " ['Spain, officially the Kingdom of Spain, is a sovereign state located on the Iberian Peninsula in southwestern Europe',\n",
       "  'Zamora is a city in Castile and León, Spain, the capital of the province of Zamora',\n",
       "  'Zamora is a Spanish province of western Spain, in the western part of the autonomous community of Castile and León',\n",
       "  'Colmenar is a municipality in the province of Málaga, in Andalusia, southern Spain']]"
      ]
     },
     "execution_count": 14,
     "metadata": {},
     "output_type": "execute_result"
    }
   ],
   "source": [
    "scores_data['prediction_strings']"
   ]
  },
  {
   "cell_type": "code",
   "execution_count": 15,
   "id": "9bff88b0",
   "metadata": {},
   "outputs": [
    {
     "name": "stderr",
     "output_type": "stream",
     "text": [
      "0it [00:00, ?it/s]\n"
     ]
    },
    {
     "ename": "TypeError",
     "evalue": "unhashable type: 'list'",
     "output_type": "error",
     "traceback": [
      "\u001b[0;31m---------------------------------------------------------------------------\u001b[0m",
      "\u001b[0;31mTypeError\u001b[0m                                 Traceback (most recent call last)",
      "\u001b[0;32m/tmp/ipykernel_18329/1772788454.py\u001b[0m in \u001b[0;36m<module>\u001b[0;34m\u001b[0m\n\u001b[1;32m      8\u001b[0m         \u001b[0;32mif\u001b[0m \u001b[0;32mTrue\u001b[0m\u001b[0;34m:\u001b[0m\u001b[0;34m\u001b[0m\u001b[0;34m\u001b[0m\u001b[0m\n\u001b[1;32m      9\u001b[0m \u001b[0;31m#         if ps[0] in entity_strings_set:\u001b[0m\u001b[0;34m\u001b[0m\u001b[0;34m\u001b[0m\u001b[0;34m\u001b[0m\u001b[0m\n\u001b[0;32m---> 10\u001b[0;31m             \u001b[0mps_dict_only_entities\u001b[0m\u001b[0;34m[\u001b[0m\u001b[0mps\u001b[0m\u001b[0;34m[\u001b[0m\u001b[0;36m0\u001b[0m\u001b[0;34m]\u001b[0m\u001b[0;34m]\u001b[0m \u001b[0;34m=\u001b[0m \u001b[0mps\u001b[0m\u001b[0;34m[\u001b[0m\u001b[0;36m1\u001b[0m\u001b[0;34m]\u001b[0m\u001b[0;34m\u001b[0m\u001b[0;34m\u001b[0m\u001b[0m\n\u001b[0m\u001b[1;32m     11\u001b[0m     \u001b[0mpredictions_scores_dicts\u001b[0m\u001b[0;34m.\u001b[0m\u001b[0mappend\u001b[0m\u001b[0;34m(\u001b[0m\u001b[0mps_dict_only_entities\u001b[0m\u001b[0;34m)\u001b[0m\u001b[0;34m\u001b[0m\u001b[0;34m\u001b[0m\u001b[0m\n",
      "\u001b[0;31mTypeError\u001b[0m: unhashable type: 'list'"
     ]
    }
   ],
   "source": [
    "predictions_scores_dicts = []\n",
    "for pred, score in tqdm(zip(scores_data['prediction_strings'], scores_data['scores'])):\n",
    "    ps_pair = (pred, score)\n",
    "    # remove predictions that are not entities\n",
    "    ps_pairs = [ps_pair]\n",
    "    ps_dict_only_entities = defaultdict(list)\n",
    "    for ps in ps_pairs:\n",
    "        if True:\n",
    "#         if ps[0] in entity_strings_set:\n",
    "            ps_dict_only_entities[ps[0]] = ps[1]\n",
    "    predictions_scores_dicts.append(ps_dict_only_entities)"
   ]
  },
  {
   "cell_type": "code",
   "execution_count": 21,
   "id": "21902383",
   "metadata": {},
   "outputs": [
    {
     "name": "stdout",
     "output_type": "stream",
     "text": [
      "predict answer: James Knox Polk was the 11th President of the United States | what did NE do before he was president |\n",
      "['United States Representative', 'The Governor of Tennessee is the head of government of the U', 'The Speaker of the House is the presiding officer of the chamber']\n",
      "['A politician is a person holding or seeking an office within a government, usually by means of an election, voted for either by people or', 'A lawyer is a person who practices law, as a barrister, judge, attorney, counsel or solicitor', 'An editor in the professional or traditional sense is generally an individual who makes corrective changes, or edits, in the content or format of a', 'An officer is a member of an armed force or uniformed service who holds a position of authority']\n",
      "tensor([-0.0164, -0.0559, -0.1118, -0.1570])\n"
     ]
    }
   ],
   "source": [
    "id = 1\n",
    "print(scores_data['input_strings'][id])\n",
    "print(scores_data['target_strings'][id])\n",
    "print(scores_data['prediction_strings'][id])\n",
    "print(scores_data['scores'][id])\n",
    "# print(predictions_scores_dicts[id].keys())\n"
   ]
  },
  {
   "cell_type": "code",
   "execution_count": 17,
   "id": "45377700",
   "metadata": {},
   "outputs": [
    {
     "ename": "IndexError",
     "evalue": "list index out of range",
     "output_type": "error",
     "traceback": [
      "\u001b[0;31m---------------------------------------------------------------------------\u001b[0m",
      "\u001b[0;31mIndexError\u001b[0m                                Traceback (most recent call last)",
      "\u001b[0;32m/tmp/ipykernel_18329/2308059487.py\u001b[0m in \u001b[0;36m<module>\u001b[0;34m\u001b[0m\n\u001b[0;32m----> 1\u001b[0;31m \u001b[0mpredictions_scores_dicts\u001b[0m\u001b[0;34m[\u001b[0m\u001b[0mid\u001b[0m\u001b[0;34m]\u001b[0m\u001b[0;34m\u001b[0m\u001b[0;34m\u001b[0m\u001b[0m\n\u001b[0m",
      "\u001b[0;31mIndexError\u001b[0m: list index out of range"
     ]
    }
   ],
   "source": [
    "predictions_scores_dicts[id]"
   ]
  },
  {
   "cell_type": "code",
   "execution_count": 18,
   "id": "cae07f24",
   "metadata": {},
   "outputs": [
    {
     "data": {
      "text/plain": [
       "dict_keys(['prediction_strings', 'scores', 'target_strings', 'input_strings'])"
      ]
     },
     "execution_count": 18,
     "metadata": {},
     "output_type": "execute_result"
    }
   ],
   "source": [
    "scores_data.keys()"
   ]
  },
  {
   "cell_type": "code",
   "execution_count": 19,
   "id": "3cf0d7c4",
   "metadata": {},
   "outputs": [],
   "source": [
    "import numpy as np\n",
    "# no filtering for QA\n",
    "predictions_filtered = predictions_scores_dicts\n"
   ]
  },
  {
   "cell_type": "code",
   "execution_count": 210,
   "id": "cde8c8c1",
   "metadata": {},
   "outputs": [
    {
     "ename": "ZeroDivisionError",
     "evalue": "division by zero",
     "output_type": "error",
     "traceback": [
      "\u001b[0;31m---------------------------------------------------------------------------\u001b[0m",
      "\u001b[0;31mZeroDivisionError\u001b[0m                         Traceback (most recent call last)",
      "\u001b[0;32m/tmp/ipykernel_45676/337606330.py\u001b[0m in \u001b[0;36m<module>\u001b[0;34m\u001b[0m\n\u001b[1;32m     20\u001b[0m         \u001b[0mreciprocal_ranks\u001b[0m \u001b[0;34m+=\u001b[0m \u001b[0;36m1.\u001b[0m\u001b[0;34m/\u001b[0m\u001b[0mrank\u001b[0m\u001b[0;34m\u001b[0m\u001b[0;34m\u001b[0m\u001b[0m\n\u001b[1;32m     21\u001b[0m \u001b[0;32mfor\u001b[0m \u001b[0mk\u001b[0m \u001b[0;32min\u001b[0m \u001b[0mk_list\u001b[0m\u001b[0;34m:\u001b[0m\u001b[0;34m\u001b[0m\u001b[0;34m\u001b[0m\u001b[0m\n\u001b[0;32m---> 22\u001b[0;31m     \u001b[0mhits_at_k\u001b[0m \u001b[0;34m=\u001b[0m \u001b[0mcount\u001b[0m\u001b[0;34m[\u001b[0m\u001b[0mk\u001b[0m\u001b[0;34m]\u001b[0m\u001b[0;34m/\u001b[0m\u001b[0mlen\u001b[0m\u001b[0;34m(\u001b[0m\u001b[0mpredictions_filtered\u001b[0m\u001b[0;34m)\u001b[0m\u001b[0;34m\u001b[0m\u001b[0;34m\u001b[0m\u001b[0m\n\u001b[0m\u001b[1;32m     23\u001b[0m     \u001b[0mprint\u001b[0m\u001b[0;34m(\u001b[0m\u001b[0;34m'hits@{}'\u001b[0m\u001b[0;34m.\u001b[0m\u001b[0mformat\u001b[0m\u001b[0;34m(\u001b[0m\u001b[0mk\u001b[0m\u001b[0;34m)\u001b[0m\u001b[0;34m,\u001b[0m \u001b[0mhits_at_k\u001b[0m\u001b[0;34m)\u001b[0m\u001b[0;34m\u001b[0m\u001b[0;34m\u001b[0m\u001b[0m\n\u001b[1;32m     24\u001b[0m \u001b[0mprint\u001b[0m\u001b[0;34m(\u001b[0m\u001b[0;34m'mrr'\u001b[0m\u001b[0;34m,\u001b[0m \u001b[0mreciprocal_ranks\u001b[0m\u001b[0;34m/\u001b[0m\u001b[0mlen\u001b[0m\u001b[0;34m(\u001b[0m\u001b[0mpredictions_filtered\u001b[0m\u001b[0;34m)\u001b[0m\u001b[0;34m)\u001b[0m\u001b[0;34m\u001b[0m\u001b[0;34m\u001b[0m\u001b[0m\n",
      "\u001b[0;31mZeroDivisionError\u001b[0m: division by zero"
     ]
    }
   ],
   "source": [
    "count = {}\n",
    "reciprocal_ranks = 0.0\n",
    "k_list = [1,3,10]\n",
    "for k in k_list:\n",
    "    count[k] = 0\n",
    "num_small_arrs = 0\n",
    "for i in range(len(predictions_filtered)):\n",
    "    targets = scores_data['target_strings'][i]\n",
    "    ps_dict = predictions_filtered[i]\n",
    "    ps_sorted = sorted(ps_dict.items(), key=lambda item: -item[1])\n",
    "#     print(ps_dict)\n",
    "    if len(ps_dict) == 0:\n",
    "        preds = []\n",
    "    else:\n",
    "        preds = [x[0] for x in ps_sorted]\n",
    "    pred = preds[0]\n",
    "    \n",
    "    if pred in targets:\n",
    "        rank = preds.index(pred) + 1\n",
    "        reciprocal_ranks += 1./rank\n",
    "for k in k_list:\n",
    "    hits_at_k = count[k]/len(predictions_filtered)\n",
    "    print('hits@{}'.format(k), hits_at_k)\n",
    "print('mrr', reciprocal_ranks/len(predictions_filtered))\n",
    "print(num_small_arrs/len(predictions_filtered), 'were <10 length preds array without answer')"
   ]
  },
  {
   "cell_type": "code",
   "execution_count": 211,
   "id": "8b079bfb",
   "metadata": {},
   "outputs": [
    {
     "ename": "IndexError",
     "evalue": "list index out of range",
     "output_type": "error",
     "traceback": [
      "\u001b[0;31m---------------------------------------------------------------------------\u001b[0m",
      "\u001b[0;31mIndexError\u001b[0m                                Traceback (most recent call last)",
      "\u001b[0;32m/tmp/ipykernel_45676/1651584261.py\u001b[0m in \u001b[0;36m<module>\u001b[0;34m\u001b[0m\n\u001b[1;32m      1\u001b[0m \u001b[0mid\u001b[0m \u001b[0;34m=\u001b[0m \u001b[0;36m114\u001b[0m\u001b[0;34m\u001b[0m\u001b[0;34m\u001b[0m\u001b[0m\n\u001b[1;32m      2\u001b[0m \u001b[0minputs\u001b[0m \u001b[0;34m=\u001b[0m \u001b[0mscores_data\u001b[0m\u001b[0;34m[\u001b[0m\u001b[0;34m'input_strings'\u001b[0m\u001b[0;34m]\u001b[0m\u001b[0;34m[\u001b[0m\u001b[0mid\u001b[0m\u001b[0;34m]\u001b[0m\u001b[0;34m\u001b[0m\u001b[0;34m\u001b[0m\u001b[0m\n\u001b[0;32m----> 3\u001b[0;31m \u001b[0mpreds\u001b[0m \u001b[0;34m=\u001b[0m \u001b[0mpredictions_filtered\u001b[0m\u001b[0;34m[\u001b[0m\u001b[0mid\u001b[0m\u001b[0;34m]\u001b[0m\u001b[0;34m\u001b[0m\u001b[0;34m\u001b[0m\u001b[0m\n\u001b[0m\u001b[1;32m      4\u001b[0m \u001b[0mpreds\u001b[0m \u001b[0;34m=\u001b[0m \u001b[0msorted\u001b[0m\u001b[0;34m(\u001b[0m\u001b[0mpreds\u001b[0m\u001b[0;34m.\u001b[0m\u001b[0mitems\u001b[0m\u001b[0;34m(\u001b[0m\u001b[0;34m)\u001b[0m\u001b[0;34m,\u001b[0m \u001b[0mkey\u001b[0m\u001b[0;34m=\u001b[0m\u001b[0;32mlambda\u001b[0m \u001b[0mitem\u001b[0m\u001b[0;34m:\u001b[0m \u001b[0;34m-\u001b[0m\u001b[0mitem\u001b[0m\u001b[0;34m[\u001b[0m\u001b[0;36m1\u001b[0m\u001b[0;34m]\u001b[0m\u001b[0;34m)\u001b[0m\u001b[0;34m\u001b[0m\u001b[0;34m\u001b[0m\u001b[0m\n\u001b[1;32m      5\u001b[0m \u001b[0mtarget\u001b[0m \u001b[0;34m=\u001b[0m \u001b[0mscores_data\u001b[0m\u001b[0;34m[\u001b[0m\u001b[0;34m'target_strings'\u001b[0m\u001b[0;34m]\u001b[0m\u001b[0;34m[\u001b[0m\u001b[0mid\u001b[0m\u001b[0;34m]\u001b[0m\u001b[0;34m\u001b[0m\u001b[0;34m\u001b[0m\u001b[0m\n",
      "\u001b[0;31mIndexError\u001b[0m: list index out of range"
     ]
    }
   ],
   "source": [
    "id = 114\n",
    "inputs = scores_data['input_strings'][id]\n",
    "preds = predictions_filtered[id]\n",
    "preds = sorted(preds.items(), key=lambda item: -item[1])\n",
    "target = scores_data['target_strings'][id]\n",
    "print(inputs, ', Target:', target)\n",
    "preds[0], target"
   ]
  },
  {
   "cell_type": "code",
   "execution_count": 50,
   "id": "641f80e3",
   "metadata": {},
   "outputs": [],
   "source": [
    "def getHeadEntity(input):\n",
    "    x = input.split(':')[1][1:]\n",
    "    ent = x.split('|')[0][:-1]\n",
    "    return ent"
   ]
  },
  {
   "cell_type": "code",
   "execution_count": 51,
   "id": "f8d1443a",
   "metadata": {},
   "outputs": [
    {
     "data": {
      "text/plain": [
       "0.0"
      ]
     },
     "execution_count": 51,
     "metadata": {},
     "output_type": "execute_result"
    }
   ],
   "source": [
    "# see if answer is head entity\n",
    "count = 0\n",
    "for id in range(len(predictions_filtered)):\n",
    "    input = scores_data['input_strings'][id]\n",
    "    head = getHeadEntity(input)\n",
    "    pred = scores_data['prediction_strings'][id]\n",
    "    if head == pred:\n",
    "        count += 1\n",
    "        print(input)\n",
    "count/len(predictions_filtered)"
   ]
  },
  {
   "cell_type": "code",
   "execution_count": 113,
   "id": "b8d6fa84",
   "metadata": {},
   "outputs": [
    {
     "data": {
      "text/plain": [
       "('count', 0)"
      ]
     },
     "execution_count": 113,
     "metadata": {},
     "output_type": "execute_result"
    }
   ],
   "source": [
    "# only head/tails\n",
    "count = 0\n",
    "for id in range(60,120, 2):\n",
    "    inputs = scores_data['input_strings'][id]\n",
    "    preds = predictions_filtered[id]\n",
    "    preds = sorted(preds.items(), key=lambda item: -item[1])\n",
    "    target = scores_data['target_strings'][id]\n",
    "    pred1 = preds[0][0]\n",
    "    if pred1 == target:\n",
    "        print(int(id/2), inputs, pred1)\n",
    "        count += 1\n",
    "'count', count"
   ]
  },
  {
   "cell_type": "code",
   "execution_count": 419,
   "id": "811dccc3",
   "metadata": {},
   "outputs": [
    {
     "data": {
      "text/html": [
       "print(\"<a href='your_url_here'>Showing Text</a>\")\n"
      ],
      "text/plain": [
       "<IPython.core.display.HTML object>"
      ]
     },
     "metadata": {},
     "output_type": "display_data"
    }
   ],
   "source": [
    "%%html\n",
    "print(\"<a href='your_url_here'>Showing Text</a>\")\n"
   ]
  },
  {
   "cell_type": "code",
   "execution_count": 364,
   "id": "36ee8176",
   "metadata": {},
   "outputs": [
    {
     "data": {
      "text/plain": [
       "'Q4121082'"
      ]
     },
     "execution_count": 364,
     "metadata": {},
     "output_type": "execute_result"
    }
   ],
   "source": [
    "e2wdid['pakistan']"
   ]
  },
  {
   "cell_type": "code",
   "execution_count": 174,
   "id": "8dee3a2d",
   "metadata": {},
   "outputs": [],
   "source": [
    "sequences = ['english', 'english language', 'french']\n",
    "t = Trie(sequences)"
   ]
  },
  {
   "cell_type": "code",
   "execution_count": 178,
   "id": "fdb192fb",
   "metadata": {},
   "outputs": [
    {
     "data": {
      "text/plain": [
       "[]"
      ]
     },
     "execution_count": 178,
     "metadata": {},
     "output_type": "execute_result"
    }
   ],
   "source": [
    "t.get('x')"
   ]
  },
  {
   "cell_type": "code",
   "execution_count": null,
   "id": "42d6aa43",
   "metadata": {},
   "outputs": [],
   "source": []
  }
 ],
 "metadata": {
  "kernelspec": {
   "display_name": "Python 3 (ipykernel)",
   "language": "python",
   "name": "python3"
  },
  "language_info": {
   "codemirror_mode": {
    "name": "ipython",
    "version": 3
   },
   "file_extension": ".py",
   "mimetype": "text/x-python",
   "name": "python",
   "nbconvert_exporter": "python",
   "pygments_lexer": "ipython3",
   "version": "3.8.11"
  }
 },
 "nbformat": 4,
 "nbformat_minor": 5
}

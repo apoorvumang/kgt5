{
 "cells": [
  {
   "cell_type": "code",
   "execution_count": 1,
   "id": "49aba755",
   "metadata": {},
   "outputs": [],
   "source": [
    "import pickle"
   ]
  },
  {
   "cell_type": "code",
   "execution_count": 2,
   "id": "81d5f81b",
   "metadata": {},
   "outputs": [],
   "source": [
    "import os\n",
    "from tqdm.notebook import tqdm\n",
    "from typing import Dict\n",
    "from collections import defaultdict\n",
    "import numpy as np\n",
    "\n",
    "def softmax(x):\n",
    "    \"\"\"Compute softmax values for each sets of scores in x.\"\"\"\n",
    "    return np.exp(x) / np.sum(np.exp(x), axis=0)\n",
    "\n",
    "def numLines(fname):\n",
    "    with open(fname) as f:\n",
    "        for i, l in enumerate(f):\n",
    "            pass\n",
    "    return i + 1\n",
    "def loadData(filename, max_points):\n",
    "    file_len = numLines(filename)\n",
    "    f = open(filename, 'r')\n",
    "    inputs = []\n",
    "    outputs = []\n",
    "    for i in tqdm(range(file_len)):\n",
    "        if i == max_points:\n",
    "            break\n",
    "        line = f.readline()\n",
    "        if line[-1] == '\\n':\n",
    "            line = line[:-1]\n",
    "        line = line.split('\\t')\n",
    "        inputs.append(line[0])\n",
    "        outputs.append(line[1])\n",
    "    data = {'inputs': inputs, 'outputs': outputs}\n",
    "    return data\n",
    "        \n",
    "def load_entity_strings(filename):\n",
    "    with open(filename) as f:\n",
    "        lines = f.read().splitlines()\n",
    "    return lines\n",
    "\n",
    "def get_entity_wd_id_dict(filename):\n",
    "    out = {}\n",
    "    f = open(filename, 'r')\n",
    "    for line in f:\n",
    "        if line[-1] == '\\n':\n",
    "            line = line[:-1]\n",
    "        line = line.split('\\t')\n",
    "        out[line[1]] = line[0]\n",
    "    return out\n",
    "    \n",
    "\n",
    "def create_filter_dict(data) -> Dict[str, int]:\n",
    "    filter_dict = defaultdict(list)\n",
    "    for input, output in zip(data[\"inputs\"], data[\"outputs\"]):\n",
    "        filter_dict[input].append(output)\n",
    "    return filter_dict\n",
    "\n",
    "def getAllFilteringEntities(input, filter_dicts):\n",
    "    entities = []\n",
    "    splits = ['train', 'test', 'valid']\n",
    "    for s in splits:\n",
    "        entities.extend(filter_dicts[s][input])\n",
    "    return list(set(entities))\n",
    "\n",
    "def wikidata_link_from_id(id):\n",
    "    uri = 'https://www.wikidata.org/wiki/' + id\n",
    "    return uri"
   ]
  },
  {
   "cell_type": "code",
   "execution_count": 3,
   "id": "255f8111",
   "metadata": {},
   "outputs": [],
   "source": [
    "import unicodedata\n",
    "dataset_name = 'wikidata5m_v3'\n",
    "entity_strings = load_entity_strings(os.path.join(\"data\", dataset_name, \"entity_strings.txt\"))\n",
    "entity_strings_set = set([unicodedata.normalize('NFKC', e) for e in entity_strings])"
   ]
  },
  {
   "cell_type": "code",
   "execution_count": 4,
   "id": "f4d37e70",
   "metadata": {},
   "outputs": [],
   "source": [
    "# import unicodedata\n",
    "# for e in tqdm(entity_strings):\n",
    "#     normalized = unicodedata.normalize('NFKC', e)\n",
    "# #     if 'x86' in e:\n",
    "# #         print(e)\n",
    "#     if  normalized != e:\n",
    "#         print(e, normalized)\n",
    "# #         break\n"
   ]
  },
  {
   "cell_type": "code",
   "execution_count": 5,
   "id": "45ee97cb",
   "metadata": {},
   "outputs": [],
   "source": [
    "# entity_strings_set = set(entity_strings)"
   ]
  },
  {
   "cell_type": "code",
   "execution_count": 6,
   "id": "51647083",
   "metadata": {},
   "outputs": [
    {
     "data": {
      "application/vnd.jupyter.widget-view+json": {
       "model_id": "7fcb0495acff42749f42d26041801ac7",
       "version_major": 2,
       "version_minor": 0
      },
      "text/plain": [
       "HBox(children=(FloatProgress(value=0.0, max=42687362.0), HTML(value='')))"
      ]
     },
     "metadata": {},
     "output_type": "display_data"
    },
    {
     "name": "stdout",
     "output_type": "stream",
     "text": [
      "\n"
     ]
    },
    {
     "data": {
      "application/vnd.jupyter.widget-view+json": {
       "model_id": "72678c65c52046ef886f866f52f44afd",
       "version_major": 2,
       "version_minor": 0
      },
      "text/plain": [
       "HBox(children=(FloatProgress(value=0.0, max=10714.0), HTML(value='')))"
      ]
     },
     "metadata": {},
     "output_type": "display_data"
    },
    {
     "name": "stdout",
     "output_type": "stream",
     "text": [
      "\n"
     ]
    },
    {
     "data": {
      "application/vnd.jupyter.widget-view+json": {
       "model_id": "80ec24a3b2384d018df6ee43e9751236",
       "version_major": 2,
       "version_minor": 0
      },
      "text/plain": [
       "HBox(children=(FloatProgress(value=0.0, max=10642.0), HTML(value='')))"
      ]
     },
     "metadata": {},
     "output_type": "display_data"
    },
    {
     "name": "stdout",
     "output_type": "stream",
     "text": [
      "\n"
     ]
    }
   ],
   "source": [
    "data = {}\n",
    "splits = ['train', 'valid', 'test']\n",
    "dataset_name = 'wikidata5m_v3'\n",
    "for split in splits:\n",
    "    data[split] = loadData(os.path.join('data', dataset_name, split + '.txt'), -1)"
   ]
  },
  {
   "cell_type": "code",
   "execution_count": 7,
   "id": "f0ed9f53",
   "metadata": {},
   "outputs": [],
   "source": [
    "# e2wdid = get_entity_wd_id_dict('data/wikidata5m/aliases.txt')\n",
    "e2wdid = {}\n",
    "fname = \"/scratche/prod/apoorv/wd5m_aliases_entities_v3.txt\"\n",
    "f = open(fname)\n",
    "for line in f:\n",
    "    line = line.rstrip().split('\\t')\n",
    "    e2wdid[line[1]] = line[0]"
   ]
  },
  {
   "cell_type": "code",
   "execution_count": 8,
   "id": "f7a7b2f0",
   "metadata": {},
   "outputs": [
    {
     "data": {
      "text/plain": [
       "'Q51'"
      ]
     },
     "execution_count": 8,
     "metadata": {},
     "output_type": "execute_result"
    }
   ],
   "source": [
    "e2wdid['Antarctica']"
   ]
  },
  {
   "cell_type": "code",
   "execution_count": 9,
   "id": "08d08940",
   "metadata": {},
   "outputs": [
    {
     "name": "stdout",
     "output_type": "stream",
     "text": [
      "The Guns of Navarone\n",
      "The Guns of Navarone - 1957 novel by Alistair MacLean\n",
      "Guns of Navarone\n"
     ]
    }
   ],
   "source": [
    "y = 'Guns of Navarone'\n",
    "for k in e2wdid.keys():\n",
    "    if y in k:\n",
    "        print(k)"
   ]
  },
  {
   "cell_type": "code",
   "execution_count": 10,
   "id": "616e3b45",
   "metadata": {},
   "outputs": [],
   "source": [
    "filter_dicts = {}\n",
    "splits = ['train', 'valid', 'test']\n",
    "for split in splits:\n",
    "    filter_dicts[split] = create_filter_dict(data[split])"
   ]
  },
  {
   "cell_type": "code",
   "execution_count": 35,
   "id": "13a5a068",
   "metadata": {},
   "outputs": [],
   "source": [
    "# fname = 'scores.pickle'\n",
    "# fname = 'scores/scores_full_base2.pickle'\n",
    "fname = 'scores/scores_wd5m_v3_500.pickle'\n",
    "# fname = 'scores_500_base_trie.pickle'\n",
    "scores_data = pickle.load(open(fname, 'rb'))"
   ]
  },
  {
   "cell_type": "code",
   "execution_count": 36,
   "id": "9bff88b0",
   "metadata": {},
   "outputs": [
    {
     "data": {
      "application/vnd.jupyter.widget-view+json": {
       "model_id": "0494d467df38426c8f6a7bf3bd5f042f",
       "version_major": 2,
       "version_minor": 0
      },
      "text/plain": [
       "HBox(children=(FloatProgress(value=1.0, bar_style='info', layout=Layout(width='20px'), max=1.0), HTML(value=''…"
      ]
     },
     "metadata": {},
     "output_type": "display_data"
    },
    {
     "name": "stdout",
     "output_type": "stream",
     "text": [
      "\n"
     ]
    }
   ],
   "source": [
    "predictions_scores_dicts = []\n",
    "for string_arr, score_arr in tqdm(zip(scores_data['prediction_strings'], scores_data['scores'])):\n",
    "    ps_pairs = [(p,s) for p,s in zip(string_arr, score_arr)]\n",
    "    ps_pairs = list(set(ps_pairs)) # while sampling, duplicates are created\n",
    "    # remove predictions that are not entities\n",
    "    ps_dict_only_entities = defaultdict(list)\n",
    "    for ps in ps_pairs:\n",
    "        if ps[0] in entity_strings_set:\n",
    "            ps_dict_only_entities[ps[0]] = ps[1]\n",
    "    predictions_scores_dicts.append(ps_dict_only_entities)"
   ]
  },
  {
   "cell_type": "code",
   "execution_count": 37,
   "id": "dac17f34",
   "metadata": {},
   "outputs": [
    {
     "data": {
      "text/plain": [
       "dict_keys(['prediction_strings', 'scores', 'target_strings', 'input_strings'])"
      ]
     },
     "execution_count": 37,
     "metadata": {},
     "output_type": "execute_result"
    }
   ],
   "source": [
    "scores_data.keys()"
   ]
  },
  {
   "cell_type": "code",
   "execution_count": 38,
   "id": "cc646873",
   "metadata": {},
   "outputs": [
    {
     "name": "stdout",
     "output_type": "stream",
     "text": [
      "['Canada', 'Canada', 'Canada', 'Canada', 'Canada', 'Canada', 'Canada', 'Canada', 'Canada', 'Canada', 'Canada', 'Canada', 'Canada', 'Canada', 'Canada', 'Canada', 'Canada', 'Canada', 'Canada', 'Canada', 'Canada', 'Canada', 'Canada', 'Canada', 'Canada', 'Canada', 'Canada', 'Canada', 'Canada', 'Canada', 'Canada', 'Canada', 'Canada', 'Canada', 'Canada', 'Canada', 'Canada', 'Canada', 'Canada', 'Canada', 'Canada', 'Canada', 'Canada', 'Canada', 'Canada', 'Canada', 'Canada', 'Canada', 'Canada', 'Canada', 'Canada', 'Canada', 'Canada', 'Canada', 'Canada', 'Canada', 'Canada', 'Canada', 'Canada', 'Canada', 'Canada', 'Canada', 'Canada', 'Malaysia', 'Canada', 'Canada', 'Canada', 'Canada', 'Canada', 'Canada', 'Canada', 'Canada', 'Canada', 'Canada', 'Canada', 'Canada', 'Canada', 'Canada', 'Canada', 'Canada', 'Canada', 'Canada', 'Canada', 'Canada', 'Canada', 'Canada', 'Canada', 'Canada', 'Canada', 'Canada', 'Canada', 'Canada', 'Canada', 'Canada', 'Canada', 'Canada', 'Canada', 'Canada', 'Canada', 'Canada', 'United Kingdom', 'Canada', 'Canada', 'Canada', 'United Kingdom', 'Canada', 'Canada', 'Canada', 'Canada', 'Canada', 'Canada', 'Canada', 'Canada', 'Canada', 'Canada', 'Canada', 'Canada', 'Canada', 'Canada', 'Canada', 'Canada', 'Canada', 'Canada', 'Canada', 'Canada', 'Canada', 'Canada', 'United States of America', 'United States of America', 'Canada', 'Canada', 'Canada', 'Canada', 'Canada', 'United States of America', 'Canada', 'Canada', 'Canada', 'Canada', 'United Kingdom', 'Canada', 'Canada', 'Canada', 'Canada', 'Canada', 'Canada', 'Canada', 'Canada', 'Canada', 'Canada', 'Canada', 'Canada', 'Canada', 'Canada', 'Canada', 'Canada', 'Canada', 'Canada', 'Canada', 'Canada', 'Canada', 'Canada', 'Canada', 'Canada', 'Canada', 'Canada', 'Canada', 'Canada', 'Canada', 'Canada', 'Canada', 'Canada', 'Canada', 'Canada', 'Canada', 'Canada', 'Canada', 'Canada', 'Canada', 'Canada', 'United States of America', 'Canada', 'Canada', 'Canada', 'Canada', 'Canada', 'Canada', 'Canada', 'Canada', 'Canada', 'Canada', 'Canada', 'United States of America', 'Canada', 'Canada', 'United Kingdom', 'Canada', 'Canada', 'Canada', 'Canada', 'Canada', 'Canada', 'Canada', 'Canada', 'Canada', 'Canada', 'Canada', 'France', 'Canada', 'Canada', 'Canada', 'Canada', 'Canada', 'Canada', 'Canada', 'Canada', 'Canada', 'Canada', 'Canada', 'Canada', 'United Kingdom', 'Canada', 'Canada', 'Canada', 'Canada', 'Canada', 'Canada', 'Canada', 'United States of America', 'Canada', 'United States of America', 'United Kingdom', 'Canada', 'United Kingdom', 'Canada', 'Canada', 'Canada', 'United Kingdom', 'United States of America', 'Canada', 'Canada', 'Canada', 'Canada', 'Switzerland', 'United States of America', 'Canada', 'Canada', 'Canada', 'Canada', 'United States of America', 'Canada', 'Canada', 'Canada', 'Canada', 'Canada', 'Canada', 'Canada', 'Canada', 'New Zealand', 'Canada', 'Canada', 'Canada', 'Canada', 'Canada', 'Canada', 'Canada', 'Canada', 'Canada', 'Canada', 'Canada', 'Canada', 'New Zealand', 'Canada', 'Canada', 'Canada', 'Canada', 'Canada', 'Canada', 'Canada', 'Canada', 'Canada', 'Canada', 'Canada', 'Canada', 'Canada', 'Canada', 'Canada', 'Canada', 'Canada', 'Canada', 'Canada', 'Canada', 'Canada', 'Canada', 'United Kingdom', 'Canada', 'Canada', 'Canada', 'Canada', 'Canada', 'Canada', 'Canada', 'Canada', 'Canada', 'Canada', 'Canada', 'Canada', 'Canada', 'Canada', 'Canada', 'Canada', 'Canada', 'Canada', 'Canada', 'Canada', 'Canada', 'Canada', 'Canada', 'Canada', 'Canada', 'Canada', 'Canada', 'Canada', 'Canada', 'Canada', 'Canada', 'Canada', 'Canada', 'Canada', 'Canada', 'Canada', 'Canada', 'Canada', 'Canada', 'Canada', 'Canada', 'Canada', 'Australia', 'Canada', 'Canada', 'Canada', 'Canada', 'Canada', 'Canada', 'Canada', 'Canada', 'United States of America', 'Canada', 'Canada', 'Canada', 'Canada', 'Canada', 'Canada', 'Canada', 'Canada', 'Canada', 'Canada', 'Canada', 'Canada', 'Canada', 'Canada', 'Canada', 'Canada', 'Trinidad and Tobago', 'Canada', 'Canada', 'Canada', 'Canada', 'Canada', 'Canada', 'Canada', 'Canada', 'Canada', 'Canada', 'Canada', 'Canada', 'United Kingdom', 'Canada', 'Canada', 'Canada', 'Canada', 'Canada', 'Canada', 'Canada', 'Canada', 'Canada', 'Canada', 'Canada', 'Canada', 'Canada', 'Canada', 'Canada', 'Canada', 'Canada', 'Canada', 'United States of America', 'United Kingdom', 'Canada', 'Canada', 'Canada', 'Canada', 'Canada', 'Canada', 'Canada', 'Canada', 'Canada', 'Canada', 'Canada', 'United States of America', 'Canada', 'Canada', 'Canada', 'Canada', 'Canada', 'Canada', 'Canada', 'Canada', 'Canada', 'Canada', 'Canada', 'Canada', 'Canada', 'Canada', 'Canada', 'Canada', 'Canada', 'Canada', 'Canada', 'Canada', 'Canada', 'Canada', 'Canada', 'Canada', 'Canada', 'United States of America', 'Canada', 'United States of America', 'Canada', 'Canada', 'Canada', 'United States of America', 'Canada', 'Canada', 'Canada', 'United States of America', 'Canada', 'Canada', 'Canada', 'Canada', 'Canada', 'Canada', 'Canada', 'Canada', 'United Kingdom', 'Canada', 'Canada', 'Canada', 'Canada', 'Canada', 'Canada', 'Canada', 'Canada', 'Canada', 'Canada', 'Canada', 'Canada', 'Canada', 'Canada', 'Canada', 'Canada', 'United States of America', 'Canada', 'Canada', 'Canada', 'Canada', 'Canada', 'Canada', 'Canada', 'Canada', 'Canada', 'Canada', 'Canada', 'United Kingdom', 'Canada', 'Canada', 'Canada', 'Canada', 'Canada', 'Canada', 'Canada', 'Canada', 'United States of America', 'Canada', 'Canada', 'Canada', 'Canada', 'Canada', 'Canada', 'Canada', 'Canada']\n",
      "Canada\n",
      "|TAIL| Walter Harris - Canadian artist||| country of citizenship\n"
     ]
    }
   ],
   "source": [
    "id = 0\n",
    "print(scores_data['prediction_strings'][id])\n",
    "# print(scores_data['scores'][id])\n",
    "print(scores_data['target_strings'][id])\n",
    "print(scores_data['input_strings'][id])"
   ]
  },
  {
   "cell_type": "code",
   "execution_count": 39,
   "id": "45377700",
   "metadata": {},
   "outputs": [
    {
     "data": {
      "text/plain": [
       "defaultdict(list,\n",
       "            {'Chris Hall': -10.223903,\n",
       "             'Bruce MacDonald': -7.9862003,\n",
       "             'Marc Tremblay': -8.600811,\n",
       "             'Jim Flaherty': -9.623966,\n",
       "             'Gordon Hamilton': -9.895092,\n",
       "             'Charles Edwin Thompson': -11.469443,\n",
       "             'John MacPherson': -8.266758,\n",
       "             'Chris Stewart - Canadian ice hockey player': -9.362206,\n",
       "             \"Brian O'Connell\": -11.241579,\n",
       "             'John Carew - Canadian politician': -9.654651,\n",
       "             'Gary L. Taylor': -11.8513975,\n",
       "             'Jean-Claude Fournier': -9.7856245,\n",
       "             'David MacDonald': -8.488233,\n",
       "             'George Washington Vanderbilt': -11.625141,\n",
       "             'Paul LeBlanc': -7.909206,\n",
       "             'Robert MacPherson': -8.174556,\n",
       "             'Jean-Luc Pépin': -10.072226,\n",
       "             'Doug Jones': -9.662769,\n",
       "             'George MacIntyre': -11.014691,\n",
       "             'Richard Nadeau': -12.2230425,\n",
       "             'John Le Mesurier': -10.019439,\n",
       "             'Paul Monash': -11.547387,\n",
       "             \"Mark O'Brien\": -10.533905,\n",
       "             'George Reid': -9.964253,\n",
       "             'Robert Roper': -10.910114,\n",
       "             'Doug Fraser': -8.835575,\n",
       "             'John McKnight': -9.5682535,\n",
       "             'James Alexander MacDonald': -10.14946,\n",
       "             'Scott McGilvray': -13.048815,\n",
       "             'Jason MacIntyre': -10.423739,\n",
       "             'David MacIsaac': -10.446085,\n",
       "             'William Arthur Smith': -9.560741,\n",
       "             'John Simpson - Ontario politician, born 1812': -10.008172,\n",
       "             'John Staines': -10.7353,\n",
       "             'Brian McGrattan': -11.874191,\n",
       "             'Joseph LeBaron': -11.644675,\n",
       "             'Gordon MacRae': -9.957069,\n",
       "             'Bill Williams': -11.007097,\n",
       "             'Henry LeBlanc': -10.001079,\n",
       "             \"David O'Hara\": -10.712308,\n",
       "             'Robert Duncan': -9.459986,\n",
       "             'Bob Gantt': -11.435142,\n",
       "             'Robert Brustein': -11.111289,\n",
       "             'Ron Ward': -9.651248,\n",
       "             'Gordon Alexander': -9.738592,\n",
       "             'Paul McCloskey': -11.748469,\n",
       "             'Peter Coughlan': -12.895097,\n",
       "             'Marc Laforge': -12.033821,\n",
       "             'James McClean': -9.98785,\n",
       "             'Louis-Ferdinand Céline': -10.472551,\n",
       "             'Patrick Côté': -8.791634,\n",
       "             'Tom McGinnis': -12.4923525,\n",
       "             'Marc-Charles-Gabriel Gleyre': -10.079788,\n",
       "             'Daniel B. Smith': -11.270221,\n",
       "             'Michael McCaffrey': -11.188584,\n",
       "             'George Edward Smith': -9.083387,\n",
       "             'Patrick J. Ryan': -9.957735,\n",
       "             'Marc Lavoie': -9.080313,\n",
       "             'John McKellar': -9.328488,\n",
       "             'Patrick McCaughey': -11.25326,\n",
       "             'Michael Breen': -10.191463,\n",
       "             'William Ernest Cooke': -11.541564,\n",
       "             'James MacPherson': -9.486479,\n",
       "             'James Thomas Knowles': -11.511191,\n",
       "             'Charles Le Roy': -9.667383,\n",
       "             'Jim Stannard': -9.668751,\n",
       "             'Mark St. John': -10.224951,\n",
       "             'Bob Wood': -10.0170965,\n",
       "             'Jim McCord': -9.66136,\n",
       "             'Frank L. Young': -11.628105,\n",
       "             'Tom Evans - Welsh rugby union player': -15.234041,\n",
       "             'Mike Rouse': -10.182249,\n",
       "             \"Bob O'Donnell\": -10.656975})"
      ]
     },
     "execution_count": 39,
     "metadata": {},
     "output_type": "execute_result"
    }
   ],
   "source": [
    "predictions_scores_dicts[1]"
   ]
  },
  {
   "cell_type": "code",
   "execution_count": 40,
   "id": "3cf0d7c4",
   "metadata": {},
   "outputs": [
    {
     "data": {
      "application/vnd.jupyter.widget-view+json": {
       "model_id": "b16a501fcf814b06a6cfd98a2794805b",
       "version_major": 2,
       "version_minor": 0
      },
      "text/plain": [
       "HBox(children=(FloatProgress(value=0.0, max=10642.0), HTML(value='')))"
      ]
     },
     "metadata": {},
     "output_type": "display_data"
    },
    {
     "name": "stdout",
     "output_type": "stream",
     "text": [
      "\n"
     ]
    },
    {
     "data": {
      "text/plain": [
       "(1.1365344859988724, 74652.71011088141)"
      ]
     },
     "execution_count": 40,
     "metadata": {},
     "output_type": "execute_result"
    }
   ],
   "source": [
    "import numpy as np\n",
    "predictions_filtered = []\n",
    "head_num_filter = 0\n",
    "tail_num_filter = 0\n",
    "for i in tqdm(range(len(predictions_scores_dicts))):\n",
    "    ps_dict = predictions_scores_dicts[i].copy()\n",
    "    target = scores_data['target_strings'][i]\n",
    "    inputs = scores_data['input_strings'][i]\n",
    "    prediction_strings = ps_dict.keys()\n",
    "    if target in prediction_strings:\n",
    "        original_score = ps_dict[target]\n",
    "    # get filtering entities\n",
    "    filtering_entities = getAllFilteringEntities(inputs, filter_dicts)\n",
    "    if 'head' in inputs:\n",
    "        head_num_filter += len(filtering_entities)\n",
    "    else:\n",
    "        tail_num_filter += len(filtering_entities)\n",
    "    for ent in filtering_entities:\n",
    "        if ent in ps_dict:\n",
    "            ps_dict[ent] = -float(\"inf\")\n",
    "    if target in prediction_strings:\n",
    "        ps_dict[target] = original_score\n",
    "    # softmax for scores\n",
    "    names_arr = []\n",
    "    scores_arr = []\n",
    "    for k, v in ps_dict.items():\n",
    "        names_arr.append(k)\n",
    "        scores_arr.append(v)\n",
    "    scores_arr = np.array(scores_arr)\n",
    "#     scores_arr = softmax(scores_arr)\n",
    "    for name, score in zip(names_arr, scores_arr):\n",
    "        ps_dict[name] = score\n",
    "    predictions_filtered.append(ps_dict)\n",
    "head_num_filter/len(predictions_filtered), tail_num_filter/len(predictions_filtered)"
   ]
  },
  {
   "cell_type": "code",
   "execution_count": 41,
   "id": "cde8c8c1",
   "metadata": {},
   "outputs": [
    {
     "data": {
      "application/vnd.jupyter.widget-view+json": {
       "model_id": "4cdb4ea226ea4b528e6ff967435beba9",
       "version_major": 2,
       "version_minor": 0
      },
      "text/plain": [
       "HBox(children=(FloatProgress(value=0.0, max=10642.0), HTML(value='')))"
      ]
     },
     "metadata": {},
     "output_type": "display_data"
    },
    {
     "name": "stdout",
     "output_type": "stream",
     "text": [
      "\n",
      "hits@1 0.26752490133433565\n",
      "hits@3 0.3177034392031573\n",
      "hits@10 0.3650629580905845\n",
      "mrr 0.3004872416490624\n",
      "0.01531666979890998 were <10 length preds array without answer\n"
     ]
    }
   ],
   "source": [
    "from tqdm.notebook import tqdm\n",
    "\n",
    "count = {}\n",
    "reciprocal_ranks = 0.0\n",
    "k_list = [1,3,10]\n",
    "for k in k_list:\n",
    "    count[k] = 0\n",
    "num_small_arrs = 0\n",
    "total_count = 0\n",
    "for i in tqdm(range(len(predictions_filtered))):\n",
    "    target = scores_data['target_strings'][i]\n",
    "    ps_dict = predictions_filtered[i]\n",
    "    ps_sorted = sorted(ps_dict.items(), key=lambda item: -item[1])\n",
    "    inputs = scores_data['input_strings'][i]\n",
    "#     filtering_entities = getAllFilteringEntities(inputs, filter_dicts)\n",
    "#     if len(filtering_entities) > 1:\n",
    "#         continue\n",
    "#     else:\n",
    "#         total_count += 1\n",
    "    if len(ps_dict) == 0:\n",
    "        preds = []\n",
    "    else:\n",
    "        preds = [x[0] for x in ps_sorted]\n",
    "#     if len(filtering_entities) > 1 and target in preds[:1]:\n",
    "#         print(i)\n",
    "    if target in preds:\n",
    "        rank = preds.index(target) + 1\n",
    "        reciprocal_ranks += 1./rank\n",
    "    for k in k_list:\n",
    "        if target in preds[:k]:\n",
    "            count[k] += 1\n",
    "    if len(preds) < 10 and target not in preds:\n",
    "        num_small_arrs += 1\n",
    "        \n",
    "total_count = len(predictions_filtered)\n",
    "for k in k_list:\n",
    "    hits_at_k = count[k]/total_count\n",
    "    print('hits@{}'.format(k), hits_at_k)\n",
    "print('mrr', reciprocal_ranks/total_count)\n",
    "print(num_small_arrs/total_count, 'were <10 length preds array without answer')"
   ]
  },
  {
   "cell_type": "code",
   "execution_count": 33,
   "id": "fb31c660",
   "metadata": {},
   "outputs": [
    {
     "data": {
      "text/plain": [
       "10642"
      ]
     },
     "execution_count": 33,
     "metadata": {},
     "output_type": "execute_result"
    }
   ],
   "source": [
    "total_count"
   ]
  },
  {
   "cell_type": "code",
   "execution_count": 34,
   "id": "c32486e7",
   "metadata": {},
   "outputs": [
    {
     "name": "stdout",
     "output_type": "stream",
     "text": [
      "|TAIL| Blank, Blank, Blank||| performer\n",
      "Contrived\n",
      "Blank & Jones\n"
     ]
    },
    {
     "data": {
      "text/plain": [
       "[('Blank & Jones', -2.1088452),\n",
       " ('Merzbow', -2.6607754),\n",
       " ('The Who', -4.3641644),\n",
       " ('Grateful Dead', -4.4439554),\n",
       " ('The Rasmus', -4.4914317),\n",
       " ('The Beach Boys', -4.5558724),\n",
       " ('The Rolling Stones', -4.570642),\n",
       " ('Dr. Dre', -4.587947),\n",
       " ('Death Cab for Cutie', -4.6841364),\n",
       " ('The Damned', -4.7946324),\n",
       " ('Acid Mothers Temple', -4.81341),\n",
       " ('Bruce Springsteen', -4.9100804),\n",
       " ('KISS', -5.0080447),\n",
       " ('Fear Factory', -5.031786),\n",
       " ('The Monkees', -5.0502644),\n",
       " ('Black Sabbath', -5.0887413),\n",
       " ('The Jesus and Mary Chain', -5.1143603),\n",
       " ('Paul Weller', -5.116393),\n",
       " ('The Smashing Pumpkins', -5.144004),\n",
       " ('Red Hot Chili Peppers', -5.2143044),\n",
       " ('The Clash', -5.234053),\n",
       " ('R.E.M.', -5.236905),\n",
       " ('Coldplay', -5.2372346),\n",
       " ('The Stranglers', -5.2707543),\n",
       " ('Die Toten Hosen', -5.288441),\n",
       " ('Dead Kennedys', -5.308741),\n",
       " ('The Prodigy', -5.381252),\n",
       " ('The Tragically Hip', -5.3837504),\n",
       " ('No Doubt', -5.4045825),\n",
       " ('King Crimson', -5.468633),\n",
       " ('The Kinks', -5.5373855),\n",
       " ('The Flaming Lips', -5.550527),\n",
       " ('The Killers', -5.6270695),\n",
       " ('Dr. Feelgood', -5.6473284),\n",
       " ('The Velvet Underground', -5.6873617),\n",
       " ('Blink-182', -5.7359157),\n",
       " ('DJ Khaled', -5.793557),\n",
       " ('The Vaccines', -5.8134394),\n",
       " ('Dead Can Dance', -5.8194733),\n",
       " ('The Supremes', -5.825169),\n",
       " ('Scooter', -5.861996),\n",
       " ('The Cars', -5.9190264),\n",
       " ('The Adicts', -5.925396),\n",
       " ('Helloween', -5.9310036),\n",
       " ('The Offspring', -5.970959),\n",
       " ('The Orb', -5.9758096),\n",
       " ('The Bluetones', -6.0068054),\n",
       " ('The Magnetic Fields', -6.0310545),\n",
       " ('The Strokes', -6.062492),\n",
       " ('The Doors', -6.0694904),\n",
       " ('The Futureheads', -6.081768),\n",
       " ('The Avalanches', -6.0915017),\n",
       " ('Tom Waits', -6.1073413),\n",
       " ('Peter Hammill', -6.1086593),\n",
       " ('The Cult', -6.1179986),\n",
       " ('The Band', -6.120114),\n",
       " ('Eric Saade', -6.135122),\n",
       " ('The Veronicas', -6.146884),\n",
       " ('The Animals', -6.1545267),\n",
       " ('Eric Burdon', -6.16027),\n",
       " ('E-40', -6.173197),\n",
       " ('Steve Roach', -6.185529),\n",
       " ('Oomph!', -6.187838),\n",
       " ('HIM', -6.1954465),\n",
       " ('A. R. Rahman', -6.2010527),\n",
       " ('Dead by April', -6.261425),\n",
       " ('DMX', -6.2775683),\n",
       " ('Acid Drinkers', -6.2812862),\n",
       " ('L.A. Guns', -6.3139725),\n",
       " ('Scissor Sisters', -6.314582),\n",
       " ('Bad Religion', -6.3308945),\n",
       " ('No Angels', -6.340324),\n",
       " ('Foo Fighters', -6.3700986),\n",
       " ('Gackt', -6.390734),\n",
       " ('The Darkness', -6.3957834),\n",
       " ('A Tribe Called Quest', -6.399832),\n",
       " ('The Cramps', -6.463025),\n",
       " ('Dope', -6.4816394),\n",
       " ('The Meters', -6.5293245),\n",
       " ('Peter Andre', -6.542611),\n",
       " ('The Creatures', -6.5463777),\n",
       " ('KRS-One', -6.546677),\n",
       " ('The Necks', -6.5770597),\n",
       " ('DJ Quik', -6.5806484),\n",
       " ('Deicide', -6.5865493),\n",
       " ('Steve Earle', -6.643817),\n",
       " ('Static-X', -6.6463213),\n",
       " ('Black Flag', -6.6492968),\n",
       " ('Blank', -6.6618347),\n",
       " ('Peter Case', -6.6770077),\n",
       " ('The J. Geils Band', -6.703842),\n",
       " ('Ace of Base', -6.7064085),\n",
       " ('Vader', -6.757455),\n",
       " ('Dead Confederate', -6.771886),\n",
       " ('Drowning Pool', -6.789959),\n",
       " ('Stellar Kart', -6.8140135),\n",
       " ('Tom Petty and the Heartbreakers', -6.908297),\n",
       " ('Black Eyed Peas', -6.9154983),\n",
       " ('The Subways', -6.9241924),\n",
       " ('The Crüxshadows', -6.932363),\n",
       " ('Dr. Hook & the Medicine Show', -6.953583),\n",
       " ('Dead Milkmen', -6.9759955),\n",
       " ('Grinspoon', -7.061174),\n",
       " ('Autechre', -7.0624456),\n",
       " ('The Flying Burrito Brothers', -7.0627723),\n",
       " ('Mushroomhead', -7.1560926),\n",
       " ('DeBarge', -7.2152157),\n",
       " ('T.I.', -7.21615),\n",
       " ('Rascal Flatts', -7.2469625),\n",
       " ('A Perfect Circle', -7.354509),\n",
       " ('Peter Pan Speedrock', -7.3856053),\n",
       " ('Scatman John', -7.3897934),\n",
       " ('John Prine', -7.400434),\n",
       " ('Peter Criss', -7.4129324),\n",
       " ('The Blueprint 3', -7.426649),\n",
       " ('Eloy Fritsch', -7.4324484),\n",
       " ('John Lennon', -7.457951),\n",
       " ('David Sylvian', -7.466499),\n",
       " ('Bad Company', -7.472301),\n",
       " ('B.o.B', -7.4947557),\n",
       " ('Feargal Sharkey', -7.5712214),\n",
       " ('The Flesh Eaters', -7.594167),\n",
       " ('Anouk', -7.608881),\n",
       " ('PJ Harvey', -7.6383023),\n",
       " ('Fates Warning', -7.646853),\n",
       " ('The Smithereens', -7.6583214),\n",
       " ('Oysterband', -7.6846805),\n",
       " ('Dr. Dog', -7.6974974),\n",
       " ('D.O.A.', -7.711472),\n",
       " ('Bruce Cockburn', -7.7268114),\n",
       " ('G-Unit', -7.7436795),\n",
       " ('Dead Horse', -7.7553744),\n",
       " ('Black Label Society', -7.7627053),\n",
       " ('Blackhawk', -7.8093567),\n",
       " ('A1', -7.8352466),\n",
       " ('John Frusciante', -7.838841),\n",
       " ('Paul McCartney', -7.8460517),\n",
       " ('Red', -7.9231324),\n",
       " ('David Cassidy', -7.9306154),\n",
       " ('Krewella', -7.953219),\n",
       " ('Mandrill', -7.9619255),\n",
       " ('Sash!', -7.9757867),\n",
       " ('Mental As Anything', -8.00926),\n",
       " ('Eric Maschwitz', -8.036386),\n",
       " ('Stress', -8.03708),\n",
       " ('The Fray', -8.058232),\n",
       " ('Aura Noir', -8.082705),\n",
       " ('The Fantastic Four', -8.0944605),\n",
       " ('David Allan Coe', -8.130257),\n",
       " ('Sissel Kyrkjebø', -8.143443),\n",
       " ('Mami Kawada', -8.151555),\n",
       " ('Fozzy', -8.162273),\n",
       " ('Deaf Dumb Blind', -8.165487),\n",
       " ('Pussy Riot', -8.173242),\n",
       " ('T-ara', -8.176857),\n",
       " ('Red Elvises', -8.210689),\n",
       " (\"B'z\", -8.239393),\n",
       " ('Oi Polloi', -8.265795),\n",
       " ('Grip Inc.', -8.303651),\n",
       " ('Ego Likeness', -8.370301),\n",
       " ('D', -8.371114),\n",
       " ('Dweezil Zappa', -8.416975),\n",
       " ('The Blueprint', -8.44471),\n",
       " ('SNFU', -8.461975),\n",
       " ('Eric B. & Rakim', -8.471575),\n",
       " ('Mondo Bizarro', -8.491973),\n",
       " ('Slippery When Wet', -8.497494),\n",
       " ('Steve Reich', -8.5241),\n",
       " ('Kele Okereke', -8.530012),\n",
       " ('Deathgaze', -8.569871),\n",
       " ('The Fireman', -8.643747),\n",
       " ('Memento Mori', -8.664471),\n",
       " ('The Fly', -8.668081),\n",
       " ('The Creators', -8.680656),\n",
       " ('Sqeezer', -8.681433),\n",
       " ('Death in Vegas', -8.690204),\n",
       " ('Aceyalone', -8.716894),\n",
       " ('No-Man', -8.796124),\n",
       " ('John Schneider', -8.882244),\n",
       " ('Black Oak Arkansas', -8.917345),\n",
       " ('The Fast and the Furious', -8.993465),\n",
       " ('Auschwitz', -9.017065),\n",
       " ('B*Witched', -9.022402),\n",
       " ('Paul Schütze', -9.040804),\n",
       " ('Vibrator', -9.041754),\n",
       " ('OMD', -9.064804),\n",
       " ('DRS', -9.083685),\n",
       " ('Paul van Dyk', -9.154205),\n",
       " ('Fear of a Black Planet', -9.218102),\n",
       " ('Stray Dogs', -9.290627),\n",
       " ('Paul Baloche', -9.347654),\n",
       " ('Rational Youth', -9.40694),\n",
       " ('PMD', -9.44103),\n",
       " ('Hrithik Roshan', -9.497453),\n",
       " ('DJ Smash', -9.51389),\n",
       " ('Mago', -9.7036495),\n",
       " ('Rilo Kiley', -9.763085),\n",
       " ('Eric Bogle', -9.823842),\n",
       " ('Dead by Sunrise', -9.84653),\n",
       " ('AZ', -9.893625),\n",
       " ('Soma', -9.934992),\n",
       " ('Defector', -9.9421),\n",
       " ('Kino', -9.96388),\n",
       " ('The Family Dogg', -10.03185),\n",
       " ('Red Harvest', -10.059541),\n",
       " ('Sketch', -10.064057),\n",
       " ('Paul Birch', -10.079913),\n",
       " ('Deadlocked', -10.105372),\n",
       " ('Soprano', -10.1987),\n",
       " ('No Angel', -10.20526),\n",
       " ('Dr. Brain', -10.251869),\n",
       " ('Paul Fenech', -10.314472),\n",
       " ('The Monotones', -10.4752035),\n",
       " ('Keziah Jones', -10.5486355),\n",
       " ('Wolfram', -10.582743),\n",
       " ('Peter Schilling', -10.659413),\n",
       " ('Peter Green Splinter Group', -10.659936),\n",
       " ('Bad Karma', -10.679703),\n",
       " ('Sticks', -10.898403),\n",
       " ('AKA - South African rapper', -11.093567),\n",
       " ('Screens', -11.318304),\n",
       " ('The Whistleblower', -11.445935),\n",
       " ('Deewana', -11.537281),\n",
       " ('Popsy Pop', -11.752727),\n",
       " ('F-Zero', -12.52852)]"
      ]
     },
     "execution_count": 34,
     "metadata": {},
     "output_type": "execute_result"
    }
   ],
   "source": [
    "id = 4\n",
    "inputs = scores_data['input_strings'][id]\n",
    "predictions_unfiltered = predictions_scores_dicts[id]\n",
    "predictions_unfiltered = [(k,v) for k,v in predictions_unfiltered.items()]\n",
    "preds = predictions_filtered[id]\n",
    "preds = sorted(preds.items(), key=lambda item: -item[1])\n",
    "target = scores_data['target_strings'][id]\n",
    "print(inputs)\n",
    "print(target)\n",
    "print(preds[0][0])\n",
    "predictions_unfiltered.sort(key=lambda x:x[1], reverse=True)\n",
    "predictions_unfiltered"
   ]
  },
  {
   "cell_type": "code",
   "execution_count": 36,
   "id": "46ea10f7",
   "metadata": {},
   "outputs": [
    {
     "data": {
      "text/plain": [
       "'Q49476'"
      ]
     },
     "execution_count": 36,
     "metadata": {},
     "output_type": "execute_result"
    }
   ],
   "source": [
    "e2wdid['archbishop']"
   ]
  },
  {
   "cell_type": "code",
   "execution_count": 179,
   "id": "8b079bfb",
   "metadata": {
    "scrolled": false
   },
   "outputs": [
    {
     "name": "stdout",
     "output_type": "stream",
     "text": [
      "predict head: dartford | located in the administrative territorial entity |\n",
      "longfield and new barn\n",
      "io e caterina\n"
     ]
    },
    {
     "data": {
      "text/plain": [
       "([('io e caterina', -4.5924783),\n",
       "  ('the bigamist', -4.917049),\n",
       "  ('la figlia del capitano', -5.0445466),\n",
       "  ('noi siamo due evasi', -5.2959394),\n",
       "  ('the great caruso', -5.5247126),\n",
       "  ('la famiglia passaguai fa fortuna', -5.563276),\n",
       "  (\"l'amore difficile\", -5.6025515),\n",
       "  ('django shoots first', -5.604663),\n",
       "  ('io e mia sorella', -5.6096926),\n",
       "  ('la ragazza di bube', -5.6157646)],\n",
       " 'longfield and new barn',\n",
       " ['https://www.wikidata.org/wiki/Q3801125',\n",
       "  'https://www.wikidata.org/wiki/Q3793112',\n",
       "  'https://www.wikidata.org/wiki/Q3822354',\n",
       "  'https://www.wikidata.org/wiki/Q3877777',\n",
       "  'https://www.wikidata.org/wiki/Q1198780',\n",
       "  'https://www.wikidata.org/wiki/Q3822247',\n",
       "  'https://www.wikidata.org/wiki/Q3818471',\n",
       "  'https://www.wikidata.org/wiki/Q1232069',\n",
       "  'https://www.wikidata.org/wiki/Q3801153',\n",
       "  'https://www.wikidata.org/wiki/Q1053810'])"
      ]
     },
     "execution_count": 179,
     "metadata": {},
     "output_type": "execute_result"
    }
   ],
   "source": [
    "id = 79\n",
    "inputs = scores_data['input_strings'][id]\n",
    "preds = predictions_filtered[id]\n",
    "preds = sorted(preds.items(), key=lambda item: -item[1])\n",
    "target = scores_data['target_strings'][id]\n",
    "print(inputs)\n",
    "print(target)\n",
    "print(preds[0][0])\n",
    "preds[:10], target, [wikidata_link_from_id(e2wdid[x[0]]) for x in preds[:10]]"
   ]
  },
  {
   "cell_type": "code",
   "execution_count": 163,
   "id": "75768b24",
   "metadata": {
    "scrolled": false
   },
   "outputs": [
    {
     "data": {
      "text/plain": [
       "'https://www.wikidata.org/wiki/Q134556'"
      ]
     },
     "execution_count": 163,
     "metadata": {},
     "output_type": "execute_result"
    }
   ],
   "source": [
    "y = 'single'\n",
    "wikidata_link_from_id(e2wdid[y])"
   ]
  },
  {
   "cell_type": "code",
   "execution_count": 482,
   "id": "b8d6fa84",
   "metadata": {},
   "outputs": [
    {
     "name": "stdout",
     "output_type": "stream",
     "text": [
      "32 predict tail: ali kazemaini | birthplace | tehran\n",
      "34 predict tail: ashta, maharashtra | instance of | human settlement\n",
      "37 predict tail: roy shaw 0 | instance of | human being\n",
      "40 predict tail: t. canby jones | has surname | jones (family name)\n",
      "45 predict tail: naveen kumar | instance of | human being\n",
      "46 predict tail: barlow respiratory hospital | host country | united states of america\n",
      "48 predict tail: camiling | office held by head of government | mayor\n",
      "51 predict tail: hazel soan | instance of | human being\n",
      "52 predict tail: efrain herrera | sport played | association football\n",
      "53 predict tail: oluf munck | instance of | human being\n",
      "54 predict tail: thomas gilchrist | instance of | human being\n",
      "58 predict tail: desmoplastic fibroma | subclass of | fibroma\n"
     ]
    },
    {
     "data": {
      "text/plain": [
       "('count', 12)"
      ]
     },
     "execution_count": 482,
     "metadata": {},
     "output_type": "execute_result"
    }
   ],
   "source": [
    "# only head/tails\n",
    "count = 0\n",
    "for id in range(60,120, 2):\n",
    "    inputs = scores_data['input_strings'][id]\n",
    "    preds = predictions_filtered[id]\n",
    "    preds = sorted(preds.items(), key=lambda item: -item[1])\n",
    "    target = scores_data['target_strings'][id]\n",
    "    pred1 = preds[0][0]\n",
    "    if pred1 == target:\n",
    "        print(int(id/2), inputs, pred1)\n",
    "        count += 1\n",
    "'count', count"
   ]
  },
  {
   "cell_type": "code",
   "execution_count": 419,
   "id": "811dccc3",
   "metadata": {},
   "outputs": [
    {
     "data": {
      "text/html": [
       "print(\"<a href='your_url_here'>Showing Text</a>\")\n"
      ],
      "text/plain": [
       "<IPython.core.display.HTML object>"
      ]
     },
     "metadata": {},
     "output_type": "display_data"
    }
   ],
   "source": [
    "%%html\n",
    "print(\"<a href='your_url_here'>Showing Text</a>\")\n"
   ]
  },
  {
   "cell_type": "code",
   "execution_count": 364,
   "id": "36ee8176",
   "metadata": {},
   "outputs": [
    {
     "data": {
      "text/plain": [
       "'Q4121082'"
      ]
     },
     "execution_count": 364,
     "metadata": {},
     "output_type": "execute_result"
    }
   ],
   "source": [
    "e2wdid['pakistan']"
   ]
  },
  {
   "cell_type": "code",
   "execution_count": 174,
   "id": "8dee3a2d",
   "metadata": {},
   "outputs": [],
   "source": [
    "sequences = ['english', 'english language', 'french']\n",
    "t = Trie(sequences)"
   ]
  },
  {
   "cell_type": "code",
   "execution_count": 178,
   "id": "fdb192fb",
   "metadata": {},
   "outputs": [
    {
     "data": {
      "text/plain": [
       "[]"
      ]
     },
     "execution_count": 178,
     "metadata": {},
     "output_type": "execute_result"
    }
   ],
   "source": [
    "t.get('x')"
   ]
  },
  {
   "cell_type": "code",
   "execution_count": null,
   "id": "42d6aa43",
   "metadata": {},
   "outputs": [],
   "source": []
  }
 ],
 "metadata": {
  "kernelspec": {
   "display_name": "Python 3 (ipykernel)",
   "language": "python",
   "name": "python3"
  },
  "language_info": {
   "codemirror_mode": {
    "name": "ipython",
    "version": 3
   },
   "file_extension": ".py",
   "mimetype": "text/x-python",
   "name": "python",
   "nbconvert_exporter": "python",
   "pygments_lexer": "ipython3",
   "version": "3.8.11"
  }
 },
 "nbformat": 4,
 "nbformat_minor": 5
}

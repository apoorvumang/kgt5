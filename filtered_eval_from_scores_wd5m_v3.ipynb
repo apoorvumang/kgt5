{
 "cells": [
  {
   "cell_type": "code",
   "execution_count": 1,
   "id": "49aba755",
   "metadata": {},
   "outputs": [],
   "source": [
    "import pickle"
   ]
  },
  {
   "cell_type": "code",
   "execution_count": 2,
   "id": "81d5f81b",
   "metadata": {},
   "outputs": [],
   "source": [
    "import os\n",
    "from tqdm.notebook import tqdm\n",
    "from typing import Dict\n",
    "from collections import defaultdict\n",
    "import numpy as np\n",
    "\n",
    "def softmax(x):\n",
    "    \"\"\"Compute softmax values for each sets of scores in x.\"\"\"\n",
    "    return np.exp(x) / np.sum(np.exp(x), axis=0)\n",
    "\n",
    "def numLines(fname):\n",
    "    with open(fname) as f:\n",
    "        for i, l in enumerate(f):\n",
    "            pass\n",
    "    return i + 1\n",
    "def loadData(filename, max_points):\n",
    "    file_len = numLines(filename)\n",
    "    f = open(filename, 'r')\n",
    "    inputs = []\n",
    "    outputs = []\n",
    "    for i in tqdm(range(file_len)):\n",
    "        if i == max_points:\n",
    "            break\n",
    "        line = f.readline()\n",
    "        if line[-1] == '\\n':\n",
    "            line = line[:-1]\n",
    "        line = line.split('\\t')\n",
    "        inputs.append(line[0])\n",
    "        outputs.append(line[1])\n",
    "    data = {'inputs': inputs, 'outputs': outputs}\n",
    "    return data\n",
    "        \n",
    "def load_entity_strings(filename):\n",
    "    with open(filename) as f:\n",
    "        lines = f.read().splitlines()\n",
    "    return lines\n",
    "\n",
    "def get_entity_wd_id_dict(filename):\n",
    "    out = {}\n",
    "    f = open(filename, 'r')\n",
    "    for line in f:\n",
    "        if line[-1] == '\\n':\n",
    "            line = line[:-1]\n",
    "        line = line.split('\\t')\n",
    "        out[line[1]] = line[0]\n",
    "    return out\n",
    "    \n",
    "\n",
    "def create_filter_dict(data) -> Dict[str, int]:\n",
    "    filter_dict = defaultdict(list)\n",
    "    for input, output in zip(data[\"inputs\"], data[\"outputs\"]):\n",
    "        filter_dict[input].append(output)\n",
    "    return filter_dict\n",
    "\n",
    "def getAllFilteringEntities(input, filter_dicts):\n",
    "    entities = []\n",
    "    splits = ['train', 'test', 'valid']\n",
    "    for s in splits:\n",
    "        entities.extend(filter_dicts[s][input])\n",
    "    return list(set(entities))\n",
    "\n",
    "def wikidata_link_from_id(id):\n",
    "    uri = 'https://www.wikidata.org/wiki/' + id\n",
    "    return uri"
   ]
  },
  {
   "cell_type": "code",
   "execution_count": 3,
   "id": "255f8111",
   "metadata": {},
   "outputs": [],
   "source": [
    "import unicodedata\n",
    "dataset_name = 'wikidata5m_v3'\n",
    "entity_strings = load_entity_strings(os.path.join(\"data\", dataset_name, \"entity_strings.txt\"))\n",
    "entity_strings_set = set([unicodedata.normalize('NFKC', e) for e in entity_strings])"
   ]
  },
  {
   "cell_type": "code",
   "execution_count": 4,
   "id": "f4d37e70",
   "metadata": {},
   "outputs": [],
   "source": [
    "# import unicodedata\n",
    "# for e in tqdm(entity_strings):\n",
    "#     normalized = unicodedata.normalize('NFKC', e)\n",
    "# #     if 'x86' in e:\n",
    "# #         print(e)\n",
    "#     if  normalized != e:\n",
    "#         print(e, normalized)\n",
    "# #         break\n"
   ]
  },
  {
   "cell_type": "code",
   "execution_count": null,
   "id": "a60daa1f",
   "metadata": {},
   "outputs": [],
   "source": []
  },
  {
   "cell_type": "code",
   "execution_count": 5,
   "id": "45ee97cb",
   "metadata": {},
   "outputs": [],
   "source": [
    "# entity_strings_set = set(entity_strings)"
   ]
  },
  {
   "cell_type": "code",
   "execution_count": 6,
   "id": "51647083",
   "metadata": {},
   "outputs": [
    {
     "data": {
      "application/vnd.jupyter.widget-view+json": {
       "model_id": "8ec71049a9e94961b563a0d67337cf23",
       "version_major": 2,
       "version_minor": 0
      },
      "text/plain": [
       "HBox(children=(FloatProgress(value=0.0, max=42687362.0), HTML(value='')))"
      ]
     },
     "metadata": {},
     "output_type": "display_data"
    },
    {
     "name": "stdout",
     "output_type": "stream",
     "text": [
      "\n"
     ]
    },
    {
     "data": {
      "application/vnd.jupyter.widget-view+json": {
       "model_id": "bf9e2b2946634a32b7752a778a303f84",
       "version_major": 2,
       "version_minor": 0
      },
      "text/plain": [
       "HBox(children=(FloatProgress(value=0.0, max=10714.0), HTML(value='')))"
      ]
     },
     "metadata": {},
     "output_type": "display_data"
    },
    {
     "name": "stdout",
     "output_type": "stream",
     "text": [
      "\n"
     ]
    },
    {
     "data": {
      "application/vnd.jupyter.widget-view+json": {
       "model_id": "46f6bfb1b6544bd382a1b3d1e24f0fd6",
       "version_major": 2,
       "version_minor": 0
      },
      "text/plain": [
       "HBox(children=(FloatProgress(value=0.0, max=10642.0), HTML(value='')))"
      ]
     },
     "metadata": {},
     "output_type": "display_data"
    },
    {
     "name": "stdout",
     "output_type": "stream",
     "text": [
      "\n"
     ]
    }
   ],
   "source": [
    "data = {}\n",
    "splits = ['train', 'valid', 'test']\n",
    "dataset_name = 'wikidata5m_v3'\n",
    "for split in splits:\n",
    "    data[split] = loadData(os.path.join('data', dataset_name, split + '.txt'), -1)"
   ]
  },
  {
   "cell_type": "code",
   "execution_count": 7,
   "id": "f0ed9f53",
   "metadata": {},
   "outputs": [],
   "source": [
    "# e2wdid = get_entity_wd_id_dict('data/wikidata5m/aliases.txt')\n",
    "e2wdid = {}\n",
    "fname = \"/scratche/prod/apoorv/wd5m_aliases_entities_v3.txt\"\n",
    "f = open(fname)\n",
    "for line in f:\n",
    "    line = line.rstrip().split('\\t')\n",
    "    e2wdid[line[1]] = line[0]"
   ]
  },
  {
   "cell_type": "code",
   "execution_count": 8,
   "id": "f7a7b2f0",
   "metadata": {},
   "outputs": [
    {
     "data": {
      "text/plain": [
       "'Q51'"
      ]
     },
     "execution_count": 8,
     "metadata": {},
     "output_type": "execute_result"
    }
   ],
   "source": [
    "e2wdid['Antarctica']"
   ]
  },
  {
   "cell_type": "code",
   "execution_count": 9,
   "id": "08d08940",
   "metadata": {},
   "outputs": [
    {
     "name": "stdout",
     "output_type": "stream",
     "text": [
      "The Guns of Navarone\n",
      "The Guns of Navarone - 1957 novel by Alistair MacLean\n",
      "Guns of Navarone\n"
     ]
    }
   ],
   "source": [
    "y = 'Guns of Navarone'\n",
    "for k in e2wdid.keys():\n",
    "    if y in k:\n",
    "        print(k)"
   ]
  },
  {
   "cell_type": "code",
   "execution_count": 10,
   "id": "616e3b45",
   "metadata": {},
   "outputs": [],
   "source": [
    "filter_dicts = {}\n",
    "splits = ['train', 'valid', 'test']\n",
    "for split in splits:\n",
    "    filter_dicts[split] = create_filter_dict(data[split])"
   ]
  },
  {
   "cell_type": "code",
   "execution_count": 11,
   "id": "13a5a068",
   "metadata": {},
   "outputs": [],
   "source": [
    "# fname = 'scores.pickle'\n",
    "# fname = 'scores/scores_full_base2.pickle'\n",
    "fname = 'scores/scores_wd5m_v3_test.pickle'\n",
    "# fname = 'scores_500_base_trie.pickle'\n",
    "scores_data = pickle.load(open(fname, 'rb'))"
   ]
  },
  {
   "cell_type": "code",
   "execution_count": 12,
   "id": "9bff88b0",
   "metadata": {},
   "outputs": [
    {
     "data": {
      "application/vnd.jupyter.widget-view+json": {
       "model_id": "a348383394b745fb9d88a88ea608257a",
       "version_major": 2,
       "version_minor": 0
      },
      "text/plain": [
       "HBox(children=(FloatProgress(value=1.0, bar_style='info', layout=Layout(width='20px'), max=1.0), HTML(value=''…"
      ]
     },
     "metadata": {},
     "output_type": "display_data"
    },
    {
     "name": "stdout",
     "output_type": "stream",
     "text": [
      "\n"
     ]
    }
   ],
   "source": [
    "predictions_scores_dicts = []\n",
    "for string_arr, score_arr in tqdm(zip(scores_data['prediction_strings'], scores_data['scores'])):\n",
    "    ps_pairs = [(p,s) for p,s in zip(string_arr, score_arr)]\n",
    "    ps_pairs = list(set(ps_pairs)) # while sampling, duplicates are created\n",
    "    # remove predictions that are not entities\n",
    "    ps_dict_only_entities = defaultdict(list)\n",
    "    for ps in ps_pairs:\n",
    "        if ps[0] in entity_strings_set:\n",
    "            ps_dict_only_entities[ps[0]] = ps[1]\n",
    "    predictions_scores_dicts.append(ps_dict_only_entities)"
   ]
  },
  {
   "cell_type": "code",
   "execution_count": 13,
   "id": "dac17f34",
   "metadata": {},
   "outputs": [
    {
     "data": {
      "text/plain": [
       "dict_keys(['prediction_strings', 'scores', 'target_strings', 'input_strings'])"
      ]
     },
     "execution_count": 13,
     "metadata": {},
     "output_type": "execute_result"
    }
   ],
   "source": [
    "scores_data.keys()"
   ]
  },
  {
   "cell_type": "code",
   "execution_count": 14,
   "id": "cc646873",
   "metadata": {},
   "outputs": [
    {
     "name": "stdout",
     "output_type": "stream",
     "text": [
      "['Unseen Reckoning', 'Extinction', 'In Blood We Trust', 'The Thrashers', 'Contrived discography', 'All Systems Go', 'Contrived: The Art of Remix', 'The Burning of Ice', 'The Burning House - album by Contrived', 'The Element of Destruction and Other Synthetic Verse', 'The Beginning', 'No Exit - album by Contrived', 'The Diageist - album', 'Intense & Disguises', 'The Burning Testament', \"I'm Alive - live album by Contrived\", 'The Age of Consent', 'I, the Ghost - album by Contrived', 'Transparent', 'Contrived - album by the Australian rock band Contrived', 'The Revisited Collection', 'Transparent - album released by Contrived', 'Contrived - debut album of band Contrived', 'Contrived discography', 'Inspecteur', 'The Silent Man', 'Difficult from Cliché', 'The Impressions of Death', 'Contrived - album by Contrived', 'Contrived - compilation album by Contrived', 'Contrived - album by Contrived', 'Contrived - album by Contrived', 'Contrived', 'I Have Seen the Light of a Dream', 'The Pretenders', 'Impressions of Blood', 'Contrived - album by Contrived', 'Contrived discography', 'Contrived - EP by Contrived', 'Reveal the Light', 'Contrived discography', 'Contrived discography', 'Contrived discography', 'Contrived - 2008 album by Contrived', 'Enigma - album by Contrived', 'All Time Lost - album by Contrived', 'Unruly - album by Contrived', 'Contrived discography', 'The Demise', 'Contrived - album by Contrived', 'Re-Act', 'The Power and Glory - EP by Contrived', 'Remote Control', 'Anvil of Glory', 'Death of the Falcon', 'Contrived - album by Contrived', 'The Infinite Quest', 'The Age of Silence: Live at East Side', 'This Is What', 'Varsity', 'Reactor - album by Contrived', 'Contrived discography', 'Live Live from the Grand Ole Opry', 'All My Echoes', 'Live in Concert/Sophia', 'Live at Montreux 2005', 'The Theory of Light', 'Discover a Loveless', 'Contrived discography', 'Scars from the Deep', 'Contrived discography', 'The Unbearable Lightspeed', 'The Beginning to End', 'F.O.S.', 'The Origin of Insanity', 'Underwater and Contrived: The Discovery of', 'Thirst - album by Contrived', 'The Reckoning - album by Contrived', 'Impressions of Blood', 'Defected to Destroy', 'Bloodsucking', 'Contrived discography', 'No Exit - album by Contrived', 'Unexpected - compilation album by Contrived', 'The Rewards', 'The Last of Us - album by Contrived', 'Contrived discography', 'Contrived Live', 'The Power of Intelligent Life', 'The Purity of the Unfolded', 'Schematic', 'The Infinite Side', 'Instinct - album by Contrived', 'Contrived - album by Contrived', 'Contrived - album by Contrived', 'A Sense of Wonder', \"Thursday's Blade 0\", 'In Death', 'Impreed the Evidence', 'Rejected', 'Contrived - album by Contrived', 'Contrived discography', 'Distant Earth - album by Contrived', 'The Enemy Within - album by Contrived', 'In Hell: The Definitive Biography of Autopsy', 'Unforgiven...Thinkable', 'A Dream of Set', 'The Contrived - 1993 compilation album by Contrived', 'Contrived - album by Contrived', 'Lost & Found - album by Contrived', 'The Burning Land', 'Contrived discography', \"The Serpent's Egg\", 'Impalachment - album by Contrived', \"I'm Real\", 'Unbreakable - album by Contrived', 'Disconnected by Contrived - album by Contrived', 'The Age of Contrived', 'Contrived - album by Contrived', \"This Is All Things...Dusn't You Made\", 'Vortex - album by Contrived', 'Blood Rain - album by Contrived', \"In Case You Didn't Know\", 'Lost Lost - album by Contrived', 'The Reverend', 'Contrived discography', 'Remains - album by Contrived', 'Live in Budapest', 'Figure 6.0', 'Retrophragmatic', 'The Evil Within - album by Contrived', 'The Age of Enhanced', 'In the Shadow of Two Guns and a Quick One', 'Intensive Care', 'I Remember You - album by Contrived', 'The Sound of Contrived', 'Deceiver - album by the Brazilian band Contrived', 'Enigma - album by Contrived', 'Live - live album by Contrived', 'Darker Than Living', 'A Perfect Murder Murder', 'Vain', 'Contrived - album by Contrived', 'Scrooged - album by Contrived', 'Discourses - album by Contrived', \"I Like I'm Gone\", 'Intentions', 'Contrived - album by Contrived', 'Dope and Dope', 'Death Wish II...', 'The Deaf of Evil', 'No Exit - album by Contrived', 'The Intruder - album by Contrived', 'Contrived - album by Contrived', 'Live in Vienna', 'Live, In This Love', 'Blood of Our Fathers: The Legacy', 'The Depths of Darkness - album by Contrived', 'Introspection - album by Contrived', 'Excession - extended play by Contrived', 'Contrived - album by Contrived', 'The Enormous Crocodile', 'Contrived - album by Contrived', 'Rejected', 'Inventing the Depths', 'Contrived / Tout ça va pas', 'Kill a Thousand-Day', 'Entropy - album by Contrived', 'Contrived - album by Contrived', 'In the Land of Hope', 'No Mercy - album by Contrived', 'Live in Japan - album by Contrived', 'Satisfied - single by Contrived', 'Dark Matter - album by Contrived', 'Unlucky', 'Blood on Blood - album by Contrived', 'Black, White, Brown & Sweet', 'Contrived - album by Contrived', 'The Age of Consent - album by Contrived', 'Underconnected - album by Contrived', 'Influence - 2007 debut studio album by Contrived', 'Unholy Terrorists', 'Contrived - album by Contrived', 'The Awakening - album by Contrived', 'Unleashed: The Remixes', 'The Infernal Crusade', 'Dark Angel - 2012 single by Contrived', 'The Origin - album by Contrived', 'Throwing into Infinity', 'Disconnected discography', 'The Broken Code: How Deep Is Your Love', 'The Silent War', 'V.O.S.D', 'The Age of Departure', 'The Silent Man', 'Unreal - album by Contrived', 'Inheritance - album by Contrived', 'Unlucky Infinity', 'Lost in the Dark', 'Injustice We Trust', 'The Burning Heart', 'For Your Consideration, Live', 'Contrived discography', 'Contrived discography', 'The Threat to Survive', 'The Power of Contrived', 'The Process of Its Apples', 'A Winter Throwing', 'Scum of the Earth', 'Distraction to Discourage', 'The Demolition of the Dying God', 'The Age of Terror - album by Contrived', 'The Theory of Everything', 'The Infinite Hronological', 'Exorcism', 'Contrived: The Best of Contrived', 'The Unspoken of Reality', 'Contrived Live at Montjuïc, London – The Collection', 'Death Is All I Have', 'Rehearsal - album by Contrived', 'Contrived - album by Contrived', 'The Depths EP', 'Nonsense - album by Contrived', 'Contrived - album by the German heavy metal band Contrived', 'Thrignations', 'Contrived - album by Contrived', 'Contrived: A New Generation', 'The Thick of I', 'Contrived discography', 'Contrecement', 'Blackout - album by Contrived', 'The Illuminate', 'Contrived - album by Contrived', 'Contrived - album by Contrived', 'Recoils of Truth', 'Failure - album by Contrived', 'The Awakening - EP by Contrived', 'The Essential Contrived', 'Contrived discography', 'The Awakening - 2000 album by Contrived', 'Live - album by Contrived', 'A Beautiful Thing - song by Contrived', 'The Story of the Shadows of Discipline', 'The Awakening - album by Contrived', 'Contrived: The Best of Contrived', 'In Memoriam - album by Contrived', 'Contrived 2', 'No Place to Hide - 2015 single by Contrived', 'The Future Sound', 'Live in Japan', 'Lost in the Machine', \"Live the Devil's Playground\", 'Contrived – Remixes', 'Distant Relatives', 'The Definitive Collection - compilation album by Contrived', 'In This Life - single', 'The Evil Dead', 'Contrived discography', 'Exhuming the Grave', 'Vomiting - album by Contrived', 'Entomology - album by Contrived', 'Contrived discography', 'Thick as Thieves - album by Contrived', 'Live! Live!', 'Contrived vs Evil', 'Fansing Is Possibilities', 'The Remnant', 'Anorexia - album by Contrived', 'Intentions', 'The Unnamable – The Greatest Hits', 'Lost from Silence', 'The Unicorn - album by Contrived', 'The Remain History of Contrived', 'Vortex - debut album by Contrived', 'Death - album by Contrived', 'In My Blood', 'The Origin of Silence', 'Contrived discography', 'Fetal - album by Contrived', 'This Is the Way...', \"Figure It Out, You're Doing This Morning\", 'The Power, The Power and the Glory', 'Impetition - album by Contrived', 'Scene of the Crime', \"I'm a Celebrity...Get Me Out of Here!\", \"All God's Children Need Traveling Shoes\", 'The Future Is', 'Live - album by Contrived', 'The Last Run - single by Contrived', 'Dismantle', 'Live', 'The Story Unplugged - album by Contrived', 'Intoxicated: The Best of Contrived', 'Contrived - album by Contrived', 'No Matter How Far', 'Contrived - album by Contrived', 'Contrived - album by Contrived', 'Contrived discography', 'A Different Kind of Truth', 'Contrived - album by Contrived', 'Exiles and Dethroned', 'Contrived - album by Contrived', \"Nothing But It Happened to Don't Love Me\", 'Live in Oslo - EP by Contrived', 'In Between', 'The Reckoning - studio album by Contrived', 'Unfinished Business - album by Contrived', 'Introscion', 'The Burning Light', 'My First Kiss', 'Live in Detroit - live album by Contrived', 'A Stranger Beyond Us Us', 'Improvised', 'Iconoclast', 'The Sound of Contrived', 'The Awakening - album by Contrived', 'Relaxse', 'The Disconnected: Live in New York', 'The Broken Circle of Life', 'Contrived - album', 'Death in Paradise', 'Fuse - album by Contrived', 'Contrived discography', 'Retroactive - album by Contrived', 'Distant Earth', 'Seventy-Two', 'The Voice of the Infinite', 'Lost and Found - album by Contrived', 'Contrived - 1986 album by Contrived', 'My Enemy - extended play by Contrived', 'Intolerance, Dior and I', 'Unheard to the Death of Being', 'Contrived - album by Contrived', 'Contrived 0', 'Invictus', 'Live at Budokan: All for Nothing', 'The Last Remnant', 'The Improved Purpose', 'Satisfaction - song by Contrived', 'Contrived - song by Contrived', 'The Enigma of Venus', 'The Defying Unicorn', 'Numb and Turning', 'Underbevern', 'Live at Sweet Basil, Philadelphia', 'Recovering the Future', 'Contrived the Storm', 'Live - live album by Contrived', 'Figure in Progress', 'Request of Truth', 'Recognition from the Path', 'No Mercy - album by Contrived', 'Live in Paris', 'Recovery - album by Contrived', 'Black Rain - album by Contrived', 'Contrived discography', 'Understanding - album by Contrived', 'Live! - live album by Contrived', 'Instant Crush', 'The Impatient Dominators', 'In Disguise - 1993 album by Contrived', 'Unholy Exorcism', 'Understudy - album by Contrived', 'Improved', 'No Problem - album by Contrived', 'DiMera', 'Contrived - album by Contrived', 'Contrived - album by Contrived', 'Lost in Between', 'Not for Beginners', 'Live to Die', 'The Silent Conflict', 'Transformist', 'The Departure - album by Contrived', 'Black Moon in a Conversation', 'In the End of the Beginning - album by Contrived', 'The Curse of Contrived', 'Contrived - album by Contrived', 'Live Contrived', 'Contrived - album by Contrived', 'The Story of the I Have Known', 'Throwing', 'Contrived - album by Contrived', 'A Sigh', 'Contrived discography', 'Deceiver - album by Contrived', 'Live In Cold Blood', 'All Eyez on Me - album by Contrived', 'Reunited - album by Contrived', 'The Broken Record', 'Contrived vs. Evil', 'A Touch of Your Face', 'The Power of Lost - album by Contrived', 'Contrived discography', 'Contrived discography', 'Unusual and Unusual', 'Contrived discography', 'The Origins of the Lost Code', 'Contrived discography', 'Not in Chaos', 'Contrived - album by Contrived', 'The Reclaime of Passion', 'Kill', 'Contrived discography', 'Retro-Pro', 'Contrived discography', 'Soprano Home Movies', 'Defector', 'Contrived - debut album by Contrived', 'A Beautiful Mind', 'Vessel - album by Contrived', 'Deceit - album by Contrived', 'Contrived discography', 'Conversations with Myself', 'The Understudy', 'Contrived discography', 'Contrived - album', 'This Is All', 'Fattom', 'Contrived - album by Contrived', 'Contrived discography', 'The Differenceless - album by Contrived', 'Contrived - album by Contrived', 'The Broken Bridge', 'Contrived - album by Contrived', 'Exodus', 'The Pack EP', 'The Enigmatic Alliance', 'Contrived - album by Contrived', 'My World Is Killing', 'The Plant - album by Contrived', 'Contrived discography', 'In Concert - album by Contrived', 'Scary Monsters (and Super Creeps)', 'Blood on My Hands - album by Contrived', 'D-Generation', 'Black and White - album by Contrived', 'In Her Eyes of the Dark', 'The Rejectors', 'Contrived: Consciousness and the Evil', 'Kill or Be Killed - Album by Contrived', 'Reincarnation (Treethied)', 'Nifelvind', 'Live at East End, Glasgow', 'The Theory of Recognition', 'Contrived - album by Contrived', 'The Infinite Sea', 'Controve', 'Not the Moment', \"The Serpent's Teeth\", 'We Love Sure All Gods Need You', 'Contrived discography', 'Retrostramx', 'Blood of the Damned', 'The Rejected - album by Contrived', 'Introspection 2', 'Introspective', 'Intentions', 'No Exit - album by Contrived', 'Unbreakable - album by Contrived', 'Conquering Blood', 'Contrived - album by Contrived', 'The Essential Contrived', 'Contrived', 'Contrived - album by Contrived', 'The Sound of Contrived', 'A God at the Bottom of Darkness', 'The Infinite System', 'The Sound of Contrived', 'Enigma - album by Contrived', \"I'm Not Only the Dark\", 'Bloodsport', 'Recalled to Silence', 'The Definitive Collection - compilation album by Contrived', 'Contrived discography', 'Contrived discography', 'Death Is Still Nothing', 'Contrived discography', 'Impressions of Man', 'Undercurrent', 'The Sound of Contrived', 'The Age of Contrived 0', 'The Underthrone', 'Difference - album by Contrived', 'Live at Winterland - live album by Contrived', 'The Power, the Fire: Live', 'Entity - album by Contrived', 'Death Metal', 'Contrived discography', 'Transistor Radio', 'Nachtligt Liebe', 'The Story of the Goat', 'Contrived discography', 'Recognition of Our Lives 0', 'Contrived discography', 'Contrived discography', 'Norn That Obscure', 'The Pillars of the Earth', 'The Remains of Light and Darkness', 'The Discoveration of Eden']\n",
      "Blank, Blank, Blank\n",
      "|HEAD| Contrived||| performer\n"
     ]
    }
   ],
   "source": [
    "id = 5\n",
    "print(scores_data['prediction_strings'][id])\n",
    "# print(scores_data['scores'][id])\n",
    "print(scores_data['target_strings'][id])\n",
    "print(scores_data['input_strings'][id])"
   ]
  },
  {
   "cell_type": "code",
   "execution_count": 15,
   "id": "45377700",
   "metadata": {},
   "outputs": [
    {
     "data": {
      "text/plain": [
       "defaultdict(list,\n",
       "            {'Scary Monsters (and Super Creeps)': -9.272371,\n",
       "             \"In Case You Didn't Know\": -9.215177,\n",
       "             'All Systems Go': -9.423555,\n",
       "             'Varsity': -9.498425,\n",
       "             'Distant Relatives': -8.737489,\n",
       "             'My First Kiss': -12.081966,\n",
       "             'The Pretenders': -7.1941185,\n",
       "             \"I'm a Celebrity...Get Me Out of Here!\": -13.315139,\n",
       "             'Exorcism': -8.739197,\n",
       "             'The Remnant': -8.093901,\n",
       "             'Lost in the Dark': -10.177201,\n",
       "             \"I'm Real\": -11.209293,\n",
       "             'Defector': -9.094784,\n",
       "             'Remote Control': -9.487741,\n",
       "             'Undercurrent': -9.302462,\n",
       "             'The Burning Land': -9.1664295,\n",
       "             'A Sigh': -12.140366,\n",
       "             'Exodus': -10.561837,\n",
       "             'Invictus': -7.77253,\n",
       "             'Intensive Care': -9.046764,\n",
       "             'Scene of the Crime': -9.906295,\n",
       "             'In My Blood': -9.134588,\n",
       "             'Transparent': -9.013868,\n",
       "             'No Matter How Far': -11.475721,\n",
       "             'Live in Budapest': -9.795323,\n",
       "             'Instant Crush': -9.708817,\n",
       "             'Soprano Home Movies': -9.9982,\n",
       "             'Conversations with Myself': -8.026932,\n",
       "             'In Between': -7.2372794,\n",
       "             'Introspective': -7.429729,\n",
       "             'The Infinite Sea': -9.362927,\n",
       "             'The Silent War': -7.6213293,\n",
       "             'The Understudy': -9.607468,\n",
       "             'Rejected': -8.173069,\n",
       "             'Distant Earth': -8.557001,\n",
       "             'Death in Paradise': -9.074285,\n",
       "             'The Broken Bridge': -9.655962,\n",
       "             'Transistor Radio': -12.211775,\n",
       "             'Intentions': -8.199264,\n",
       "             'The Reverend': -9.136687,\n",
       "             'Live in Japan': -9.732677,\n",
       "             'In Death': -8.294239,\n",
       "             'The Infinite Quest': -9.080471,\n",
       "             'Live in Paris': -8.73003,\n",
       "             'In Blood We Trust': -10.50081,\n",
       "             'Vain': -9.175097,\n",
       "             'Schematic': -9.360867,\n",
       "             'The Enormous Crocodile': -13.580904,\n",
       "             'A Different Kind of Truth': -9.233518,\n",
       "             'Live in Vienna': -9.27681,\n",
       "             'Extinction': -10.397808,\n",
       "             'The Demise': -8.211056,\n",
       "             'The Age of Consent': -7.7821374,\n",
       "             'Nifelvind': -9.985277,\n",
       "             'The Pillars of the Earth': -11.716496,\n",
       "             'Live to Die': -11.321445,\n",
       "             'A Beautiful Mind': -9.940248,\n",
       "             'Death Metal': -8.259312,\n",
       "             'Not for Beginners': -12.083767,\n",
       "             'Iconoclast': -9.430897,\n",
       "             'The Silent Man': -10.460585,\n",
       "             'The Evil Dead': -9.559132,\n",
       "             'Live': -7.9147606,\n",
       "             \"All God's Children Need Traveling Shoes\": -12.416965,\n",
       "             'Kill': -9.933956,\n",
       "             'Live at Montreux 2005': -9.747592,\n",
       "             'The Last Remnant': -9.199869,\n",
       "             'Scum of the Earth': -10.589114,\n",
       "             'The Beginning': -8.855841,\n",
       "             'Contrived': -6.2186985,\n",
       "             'Bloodsport': -9.392485,\n",
       "             \"The Serpent's Egg\": -8.689789,\n",
       "             'A Sense of Wonder': -10.158364,\n",
       "             'The Burning Heart': -8.788426,\n",
       "             'The Theory of Everything': -7.371466})"
      ]
     },
     "execution_count": 15,
     "metadata": {},
     "output_type": "execute_result"
    }
   ],
   "source": [
    "predictions_scores_dicts[5]"
   ]
  },
  {
   "cell_type": "code",
   "execution_count": 16,
   "id": "1f463db9",
   "metadata": {},
   "outputs": [
    {
     "data": {
      "application/vnd.jupyter.widget-view+json": {
       "model_id": "ac980396ed494a2488d9d3a0c857a88b",
       "version_major": 2,
       "version_minor": 0
      },
      "text/plain": [
       "HBox(children=(FloatProgress(value=0.0, max=10642.0), HTML(value='')))"
      ]
     },
     "metadata": {},
     "output_type": "display_data"
    },
    {
     "name": "stdout",
     "output_type": "stream",
     "text": [
      "\n"
     ]
    }
   ],
   "source": [
    "full_filter_dict = []\n",
    "for i in tqdm(range(len(predictions_scores_dicts))):\n",
    "    inputs = scores_data['input_strings'][i]\n",
    "    filtering_entities = getAllFilteringEntities(inputs, filter_dicts)\n",
    "    full_filter_dict.append(filtering_entities)"
   ]
  },
  {
   "cell_type": "code",
   "execution_count": 17,
   "id": "1b53431c",
   "metadata": {},
   "outputs": [
    {
     "data": {
      "application/vnd.jupyter.widget-view+json": {
       "model_id": "fe237709f86f41ad9aca958b1bdbca18",
       "version_major": 2,
       "version_minor": 0
      },
      "text/plain": [
       "HBox(children=(FloatProgress(value=0.0, max=10642.0), HTML(value='')))"
      ]
     },
     "metadata": {},
     "output_type": "display_data"
    },
    {
     "name": "stdout",
     "output_type": "stream",
     "text": [
      "\n"
     ]
    }
   ],
   "source": [
    "for i in tqdm(range(len(full_filter_dict))):\n",
    "    full_filter_dict[i] = set(full_filter_dict[i])"
   ]
  },
  {
   "cell_type": "code",
   "execution_count": 19,
   "id": "3cf0d7c4",
   "metadata": {},
   "outputs": [
    {
     "data": {
      "application/vnd.jupyter.widget-view+json": {
       "model_id": "86585fe3e2434c2ebb732b31377efa45",
       "version_major": 2,
       "version_minor": 0
      },
      "text/plain": [
       "HBox(children=(FloatProgress(value=0.0, max=10642.0), HTML(value='')))"
      ]
     },
     "metadata": {},
     "output_type": "display_data"
    },
    {
     "name": "stdout",
     "output_type": "stream",
     "text": [
      "\n"
     ]
    },
    {
     "data": {
      "text/plain": [
       "(1.1365344859988724, 74652.71011088141)"
      ]
     },
     "execution_count": 19,
     "metadata": {},
     "output_type": "execute_result"
    }
   ],
   "source": [
    "import numpy as np\n",
    "predictions_filtered = []\n",
    "head_num_filter = 0\n",
    "tail_num_filter = 0\n",
    "for i in tqdm(range(len(predictions_scores_dicts))):\n",
    "    ps_dict = predictions_scores_dicts[i].copy()\n",
    "    target = scores_data['target_strings'][i]\n",
    "    inputs = scores_data['input_strings'][i]\n",
    "    prediction_strings = ps_dict.keys()\n",
    "    if target in prediction_strings:\n",
    "        original_score = ps_dict[target]\n",
    "    # get filtering entities\n",
    "#     filtering_entities = getAllFilteringEntities(inputs, filter_dicts)\n",
    "    filtering_entities = full_filter_dict[i]\n",
    "    if 'head' in inputs:\n",
    "        head_num_filter += len(filtering_entities)\n",
    "    else:\n",
    "        tail_num_filter += len(filtering_entities)\n",
    "    for ent in ps_dict.keys():\n",
    "        if ent in filtering_entities:\n",
    "            ps_dict[ent] = -float(\"inf\")\n",
    "#     for ent in filtering_entities:\n",
    "#         if ent in ps_dict:\n",
    "#             ps_dict[ent] = -float(\"inf\")\n",
    "    if target in prediction_strings:\n",
    "        ps_dict[target] = original_score\n",
    "    # softmax for scores\n",
    "    names_arr = []\n",
    "    scores_arr = []\n",
    "    for k, v in ps_dict.items():\n",
    "        names_arr.append(k)\n",
    "        scores_arr.append(v)\n",
    "    scores_arr = np.array(scores_arr)\n",
    "#     scores_arr = softmax(scores_arr)\n",
    "    for name, score in zip(names_arr, scores_arr):\n",
    "        ps_dict[name] = score\n",
    "    predictions_filtered.append(ps_dict)\n",
    "head_num_filter/len(predictions_filtered), tail_num_filter/len(predictions_filtered)"
   ]
  },
  {
   "cell_type": "code",
   "execution_count": 20,
   "id": "760ecbd1",
   "metadata": {},
   "outputs": [],
   "source": [
    "# filter_lengths = []\n",
    "# for i in tqdm(range(len(predictions_filtered))):\n",
    "#     inputs = scores_data['input_strings'][i]\n",
    "#     filtering_entities = getAllFilteringEntities(inputs, filter_dicts)\n",
    "#     filter_lengths.append(len(filtering_entities))"
   ]
  },
  {
   "cell_type": "code",
   "execution_count": 32,
   "id": "cde8c8c1",
   "metadata": {},
   "outputs": [
    {
     "data": {
      "application/vnd.jupyter.widget-view+json": {
       "model_id": "dabe7e93bf7d4e75b14559c898871c7f",
       "version_major": 2,
       "version_minor": 0
      },
      "text/plain": [
       "HBox(children=(FloatProgress(value=0.0, max=10642.0), HTML(value='')))"
      ]
     },
     "metadata": {},
     "output_type": "display_data"
    },
    {
     "name": "stdout",
     "output_type": "stream",
     "text": [
      "\n",
      "hits@1 0.16454081632653061\n",
      "hits@3 0.22895408163265307\n",
      "hits@10 0.33482142857142855\n",
      "mrr 0.2155716254268679\n",
      "0.022321428571428572 were <10 length preds array without answer\n"
     ]
    }
   ],
   "source": [
    "from tqdm.notebook import tqdm\n",
    "\n",
    "count = {}\n",
    "reciprocal_ranks = 0.0\n",
    "k_list = [1,3,10]\n",
    "for k in k_list:\n",
    "    count[k] = 0\n",
    "num_small_arrs = 0\n",
    "total_count = 0\n",
    "for i in tqdm(range(len(predictions_filtered))):\n",
    "    target = scores_data['target_strings'][i]\n",
    "    ps_dict = predictions_filtered[i]\n",
    "    ps_sorted = sorted(ps_dict.items(), key=lambda item: -item[1])\n",
    "    inputs = scores_data['input_strings'][i]\n",
    "#     filtering_entities = getAllFilteringEntities(inputs, filter_dicts)\n",
    "    filtering_entities = full_filter_dict[i]\n",
    "#     if len(filtering_entities) > 1:\n",
    "#         continue\n",
    "#     else:\n",
    "#         total_count += 1\n",
    "    if len(filtering_entities) <= 1 or len(filtering_entities) > 11:\n",
    "        continue\n",
    "    else:\n",
    "        total_count += 1\n",
    "#     total_count += 1\n",
    "    if len(ps_dict) == 0:\n",
    "        preds = []\n",
    "    else:\n",
    "        preds = [x[0] for x in ps_sorted]\n",
    "#     if len(filtering_entities) > 1 and target in preds[:1]:\n",
    "#         print(i)\n",
    "    if target in preds:\n",
    "        rank = preds.index(target) + 1\n",
    "        reciprocal_ranks += 1./rank\n",
    "    for k in k_list:\n",
    "        if target in preds[:k]:\n",
    "            count[k] += 1\n",
    "    if len(preds) < 10 and target not in preds:\n",
    "        num_small_arrs += 1\n",
    "        \n",
    "# total_count = len(predictions_filtered)\n",
    "for k in k_list:\n",
    "    hits_at_k = count[k]/total_count\n",
    "    print('hits@{}'.format(k), hits_at_k)\n",
    "print('mrr', reciprocal_ranks/total_count)\n",
    "print(num_small_arrs/total_count, 'were <10 length preds array without answer')"
   ]
  },
  {
   "cell_type": "code",
   "execution_count": 33,
   "id": "fb31c660",
   "metadata": {},
   "outputs": [
    {
     "data": {
      "text/plain": [
       "1568"
      ]
     },
     "execution_count": 33,
     "metadata": {},
     "output_type": "execute_result"
    }
   ],
   "source": [
    "total_count"
   ]
  },
  {
   "cell_type": "code",
   "execution_count": null,
   "id": "c32486e7",
   "metadata": {},
   "outputs": [],
   "source": [
    "id = 4\n",
    "inputs = scores_data['input_strings'][id]\n",
    "predictions_unfiltered = predictions_scores_dicts[id]\n",
    "predictions_unfiltered = [(k,v) for k,v in predictions_unfiltered.items()]\n",
    "preds = predictions_filtered[id]\n",
    "preds = sorted(preds.items(), key=lambda item: -item[1])\n",
    "target = scores_data['target_strings'][id]\n",
    "print(inputs)\n",
    "print(target)\n",
    "print(preds[0][0])\n",
    "predictions_unfiltered.sort(key=lambda x:x[1], reverse=True)\n",
    "predictions_unfiltered"
   ]
  },
  {
   "cell_type": "code",
   "execution_count": null,
   "id": "46ea10f7",
   "metadata": {},
   "outputs": [],
   "source": [
    "e2wdid['archbishop']"
   ]
  },
  {
   "cell_type": "code",
   "execution_count": null,
   "id": "8b079bfb",
   "metadata": {},
   "outputs": [],
   "source": [
    "id = 79\n",
    "inputs = scores_data['input_strings'][id]\n",
    "preds = predictions_filtered[id]\n",
    "preds = sorted(preds.items(), key=lambda item: -item[1])\n",
    "target = scores_data['target_strings'][id]\n",
    "print(inputs)\n",
    "print(target)\n",
    "print(preds[0][0])\n",
    "preds[:10], target, [wikidata_link_from_id(e2wdid[x[0]]) for x in preds[:10]]"
   ]
  },
  {
   "cell_type": "code",
   "execution_count": 163,
   "id": "75768b24",
   "metadata": {},
   "outputs": [
    {
     "data": {
      "text/plain": [
       "'https://www.wikidata.org/wiki/Q134556'"
      ]
     },
     "execution_count": 163,
     "metadata": {},
     "output_type": "execute_result"
    }
   ],
   "source": [
    "y = 'single'\n",
    "wikidata_link_from_id(e2wdid[y])"
   ]
  },
  {
   "cell_type": "code",
   "execution_count": 482,
   "id": "b8d6fa84",
   "metadata": {},
   "outputs": [
    {
     "name": "stdout",
     "output_type": "stream",
     "text": [
      "32 predict tail: ali kazemaini | birthplace | tehran\n",
      "34 predict tail: ashta, maharashtra | instance of | human settlement\n",
      "37 predict tail: roy shaw 0 | instance of | human being\n",
      "40 predict tail: t. canby jones | has surname | jones (family name)\n",
      "45 predict tail: naveen kumar | instance of | human being\n",
      "46 predict tail: barlow respiratory hospital | host country | united states of america\n",
      "48 predict tail: camiling | office held by head of government | mayor\n",
      "51 predict tail: hazel soan | instance of | human being\n",
      "52 predict tail: efrain herrera | sport played | association football\n",
      "53 predict tail: oluf munck | instance of | human being\n",
      "54 predict tail: thomas gilchrist | instance of | human being\n",
      "58 predict tail: desmoplastic fibroma | subclass of | fibroma\n"
     ]
    },
    {
     "data": {
      "text/plain": [
       "('count', 12)"
      ]
     },
     "execution_count": 482,
     "metadata": {},
     "output_type": "execute_result"
    }
   ],
   "source": [
    "# only head/tails\n",
    "count = 0\n",
    "for id in range(60,120, 2):\n",
    "    inputs = scores_data['input_strings'][id]\n",
    "    preds = predictions_filtered[id]\n",
    "    preds = sorted(preds.items(), key=lambda item: -item[1])\n",
    "    target = scores_data['target_strings'][id]\n",
    "    pred1 = preds[0][0]\n",
    "    if pred1 == target:\n",
    "        print(int(id/2), inputs, pred1)\n",
    "        count += 1\n",
    "'count', count"
   ]
  },
  {
   "cell_type": "code",
   "execution_count": 419,
   "id": "811dccc3",
   "metadata": {},
   "outputs": [
    {
     "data": {
      "text/html": [
       "print(\"<a href='your_url_here'>Showing Text</a>\")\n"
      ],
      "text/plain": [
       "<IPython.core.display.HTML object>"
      ]
     },
     "metadata": {},
     "output_type": "display_data"
    }
   ],
   "source": [
    "%%html\n",
    "print(\"<a href='your_url_here'>Showing Text</a>\")\n"
   ]
  },
  {
   "cell_type": "code",
   "execution_count": 364,
   "id": "36ee8176",
   "metadata": {},
   "outputs": [
    {
     "data": {
      "text/plain": [
       "'Q4121082'"
      ]
     },
     "execution_count": 364,
     "metadata": {},
     "output_type": "execute_result"
    }
   ],
   "source": [
    "e2wdid['pakistan']"
   ]
  },
  {
   "cell_type": "code",
   "execution_count": 174,
   "id": "8dee3a2d",
   "metadata": {},
   "outputs": [],
   "source": [
    "sequences = ['english', 'english language', 'french']\n",
    "t = Trie(sequences)"
   ]
  },
  {
   "cell_type": "code",
   "execution_count": 178,
   "id": "fdb192fb",
   "metadata": {},
   "outputs": [
    {
     "data": {
      "text/plain": [
       "[]"
      ]
     },
     "execution_count": 178,
     "metadata": {},
     "output_type": "execute_result"
    }
   ],
   "source": [
    "t.get('x')"
   ]
  },
  {
   "cell_type": "code",
   "execution_count": null,
   "id": "42d6aa43",
   "metadata": {},
   "outputs": [],
   "source": []
  }
 ],
 "metadata": {
  "kernelspec": {
   "display_name": "Python 3 (ipykernel)",
   "language": "python",
   "name": "python3"
  },
  "language_info": {
   "codemirror_mode": {
    "name": "ipython",
    "version": 3
   },
   "file_extension": ".py",
   "mimetype": "text/x-python",
   "name": "python",
   "nbconvert_exporter": "python",
   "pygments_lexer": "ipython3",
   "version": "3.8.11"
  }
 },
 "nbformat": 4,
 "nbformat_minor": 5
}

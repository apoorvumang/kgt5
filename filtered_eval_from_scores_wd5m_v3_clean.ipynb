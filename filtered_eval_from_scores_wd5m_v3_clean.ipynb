{
 "cells": [
  {
   "cell_type": "code",
   "execution_count": 58,
   "id": "49aba755",
   "metadata": {},
   "outputs": [],
   "source": [
    "import pickle"
   ]
  },
  {
   "cell_type": "code",
   "execution_count": 59,
   "id": "81d5f81b",
   "metadata": {},
   "outputs": [],
   "source": [
    "import os\n",
    "from tqdm.notebook import tqdm\n",
    "from typing import Dict\n",
    "from collections import defaultdict\n",
    "import numpy as np\n",
    "\n",
    "def numLines(fname):\n",
    "    with open(fname) as f:\n",
    "        for i, l in enumerate(f):\n",
    "            pass\n",
    "    return i + 1\n",
    "\n",
    "def loadData(filename, max_points):\n",
    "    file_len = numLines(filename)\n",
    "    f = open(filename, 'r')\n",
    "    inputs = []\n",
    "    outputs = []\n",
    "    for i in tqdm(range(file_len)):\n",
    "        if i == max_points:\n",
    "            break\n",
    "        line = f.readline()\n",
    "        if line[-1] == '\\n':\n",
    "            line = line[:-1]\n",
    "        line = line.split('\\t')\n",
    "        inputs.append(line[0])\n",
    "        outputs.append(line[1])\n",
    "    data = {'inputs': inputs, 'outputs': outputs}\n",
    "    return data\n",
    "        \n",
    "def load_entity_strings(filename):\n",
    "    with open(filename) as f:\n",
    "        lines = f.read().splitlines()\n",
    "    return lines\n",
    "\n",
    "def get_entity_wd_id_dict(filename):\n",
    "    out = {}\n",
    "    f = open(filename, 'r')\n",
    "    for line in f:\n",
    "        if line[-1] == '\\n':\n",
    "            line = line[:-1]\n",
    "        line = line.split('\\t')\n",
    "        out[line[1]] = line[0]\n",
    "    return out\n",
    "\n",
    "def create_filter_dict(data) -> Dict[str, int]:\n",
    "    filter_dict = defaultdict(list)\n",
    "    for input, output in zip(data[\"inputs\"], data[\"outputs\"]):\n",
    "        filter_dict[input].append(output)\n",
    "    return filter_dict\n",
    "\n",
    "def getAllFilteringEntities(input, filter_dicts):\n",
    "    entities = []\n",
    "    splits = ['train', 'test', 'valid']\n",
    "    for s in splits:\n",
    "        entities.extend(filter_dicts[s][input])\n",
    "    return list(set(entities))\n",
    "\n",
    "def wikidata_link_from_id(id):\n",
    "    uri = 'https://www.wikidata.org/wiki/' + id\n",
    "    return uri"
   ]
  },
  {
   "cell_type": "code",
   "execution_count": 60,
   "id": "255f8111",
   "metadata": {},
   "outputs": [],
   "source": [
    "import unicodedata\n",
    "dataset_name = 'wikidata5m_v3'\n",
    "entity_strings = load_entity_strings(os.path.join(\"data\", dataset_name, \"entity_strings.txt\"))\n",
    "entity_strings_set = set([unicodedata.normalize('NFKC', e) for e in entity_strings])"
   ]
  },
  {
   "cell_type": "code",
   "execution_count": 61,
   "id": "51647083",
   "metadata": {},
   "outputs": [
    {
     "data": {
      "application/vnd.jupyter.widget-view+json": {
       "model_id": "ba9dff9767c440bb82f607e9be21e0d2",
       "version_major": 2,
       "version_minor": 0
      },
      "text/plain": [
       "HBox(children=(FloatProgress(value=0.0, max=42687362.0), HTML(value='')))"
      ]
     },
     "metadata": {},
     "output_type": "display_data"
    },
    {
     "name": "stdout",
     "output_type": "stream",
     "text": [
      "\n"
     ]
    },
    {
     "data": {
      "application/vnd.jupyter.widget-view+json": {
       "model_id": "b8045784075c4e1a9112a8d41cf61ff0",
       "version_major": 2,
       "version_minor": 0
      },
      "text/plain": [
       "HBox(children=(FloatProgress(value=0.0, max=10714.0), HTML(value='')))"
      ]
     },
     "metadata": {},
     "output_type": "display_data"
    },
    {
     "name": "stdout",
     "output_type": "stream",
     "text": [
      "\n"
     ]
    },
    {
     "data": {
      "application/vnd.jupyter.widget-view+json": {
       "model_id": "a3bc680bed054655979e939b9d7c5ccb",
       "version_major": 2,
       "version_minor": 0
      },
      "text/plain": [
       "HBox(children=(FloatProgress(value=0.0, max=10642.0), HTML(value='')))"
      ]
     },
     "metadata": {},
     "output_type": "display_data"
    },
    {
     "name": "stdout",
     "output_type": "stream",
     "text": [
      "\n"
     ]
    }
   ],
   "source": [
    "data = {}\n",
    "splits = ['train', 'valid', 'test']\n",
    "dataset_name = 'wikidata5m_v3'\n",
    "for split in splits:\n",
    "    data[split] = loadData(os.path.join('data', dataset_name, split + '.txt'), -1)"
   ]
  },
  {
   "cell_type": "code",
   "execution_count": 7,
   "id": "616e3b45",
   "metadata": {},
   "outputs": [],
   "source": [
    "filter_dicts = {}\n",
    "splits = ['train', 'valid', 'test']\n",
    "for split in splits:\n",
    "    filter_dicts[split] = create_filter_dict(data[split])"
   ]
  },
  {
   "cell_type": "code",
   "execution_count": 71,
   "id": "6e4274ac",
   "metadata": {},
   "outputs": [
    {
     "name": "stdout",
     "output_type": "stream",
     "text": [
      "/scratche/home/apoorv/transformer-kgc/scores/scores_wd5m_v3.pickle\r\n",
      "/scratche/home/apoorv/transformer-kgc/scores/scores_wd5m_v3_400.pickle\r\n",
      "/scratche/home/apoorv/transformer-kgc/scores/scores_wd5m_v3_4220k.pickle\r\n",
      "/scratche/home/apoorv/transformer-kgc/scores/scores_wd5m_v3_500.pickle\r\n",
      "/scratche/home/apoorv/transformer-kgc/scores/scores_wd5m_v3_test.pickle\r\n",
      "/scratche/home/apoorv/transformer-kgc/scores/scores_wd5m_v3_test_1m_ckpt.pickle\r\n",
      "/scratche/home/apoorv/transformer-kgc/scores/scores_wd5m_v3_test_200sample.pickle\r\n",
      "/scratche/home/apoorv/transformer-kgc/scores/scores_wd5m_v3_test_beam10.pickle\r\n",
      "/scratche/home/apoorv/transformer-kgc/scores/scores_wd5m_v3_test_beam10_ln.pickle\r\n",
      "/scratche/home/apoorv/transformer-kgc/scores/scores_wd5m_v3_test_beam2.pickle\r\n",
      "/scratche/home/apoorv/transformer-kgc/scores/scores_wd5m_v3_test_beam25.pickle\r\n",
      "/scratche/home/apoorv/transformer-kgc/scores/scores_wd5m_v3_test_beam2_ln.pickle\r\n",
      "/scratche/home/apoorv/transformer-kgc/scores/scores_wd5m_v3_test_beam5.pickle\r\n",
      "/scratche/home/apoorv/transformer-kgc/scores/scores_wd5m_v3_test_beam50.pickle\r\n",
      "/scratche/home/apoorv/transformer-kgc/scores/scores_wd5m_v3_test_beam50_ln.pickle\r\n",
      "/scratche/home/apoorv/transformer-kgc/scores/scores_wd5m_v3_test_beam5_ln.pickle\r\n",
      "/scratche/home/apoorv/transformer-kgc/scores/scores_wd5m_v3_test_beamsample.pickle\r\n",
      "/scratche/home/apoorv/transformer-kgc/scores/scores_wd5m_v3_test_beamsample_25beam_25numpred.pickle\r\n",
      "/scratche/home/apoorv/transformer-kgc/scores/scores_wd5m_v3_test_ln.pickle\r\n",
      "/scratche/home/apoorv/transformer-kgc/scores/scores_wd5m_v3_test_sample10.pickle\r\n",
      "/scratche/home/apoorv/transformer-kgc/scores/scores_wd5m_v3_test_sample2.pickle\r\n",
      "/scratche/home/apoorv/transformer-kgc/scores/scores_wd5m_v3_test_sample25.pickle\r\n",
      "/scratche/home/apoorv/transformer-kgc/scores/scores_wd5m_v3_test_sample5.pickle\r\n",
      "/scratche/home/apoorv/transformer-kgc/scores/scores_wd5m_v3_test_sample50.pickle\r\n",
      "/scratche/home/apoorv/transformer-kgc/scores/scores_wd5m_v3_train10k.pickle\r\n",
      "/scratche/home/apoorv/transformer-kgc/scores/scores_wd5m_v3_valid.pickle\r\n"
     ]
    }
   ],
   "source": [
    "# see all relevant scores files with following, usually descriptive name\n",
    "!ls /scratche/home/apoorv/transformer-kgc/scores/scores_wd5m_v3*"
   ]
  },
  {
   "cell_type": "code",
   "execution_count": 124,
   "id": "13a5a068",
   "metadata": {},
   "outputs": [],
   "source": [
    "fname = 'scores/scores_wd5m_v3_test_beam50.pickle'\n",
    "scores_data = pickle.load(open(fname, 'rb'))"
   ]
  },
  {
   "cell_type": "code",
   "execution_count": 125,
   "id": "9bff88b0",
   "metadata": {},
   "outputs": [
    {
     "data": {
      "application/vnd.jupyter.widget-view+json": {
       "model_id": "35c8ffc84805454e81bac0131ca023a5",
       "version_major": 2,
       "version_minor": 0
      },
      "text/plain": [
       "HBox(children=(FloatProgress(value=1.0, bar_style='info', layout=Layout(width='20px'), max=1.0), HTML(value=''…"
      ]
     },
     "metadata": {},
     "output_type": "display_data"
    },
    {
     "name": "stdout",
     "output_type": "stream",
     "text": [
      "\n"
     ]
    }
   ],
   "source": [
    "predictions_scores_dicts = []\n",
    "for string_arr, score_arr in tqdm(zip(scores_data['prediction_strings'], scores_data['scores'])):\n",
    "    ps_pairs = [(p,s) for p,s in zip(string_arr, score_arr)]\n",
    "    ps_pairs = list(set(ps_pairs)) # while sampling, duplicates are created\n",
    "    # remove predictions that are not entities\n",
    "    ps_dict_only_entities = defaultdict(list)\n",
    "    for ps in ps_pairs:\n",
    "        if ps[0] in entity_strings_set:\n",
    "            ps_dict_only_entities[ps[0]] = ps[1]\n",
    "    predictions_scores_dicts.append(ps_dict_only_entities)"
   ]
  },
  {
   "cell_type": "code",
   "execution_count": 126,
   "id": "5ac32cc0",
   "metadata": {},
   "outputs": [],
   "source": [
    "# print(scores_data['prediction_strings'][0])"
   ]
  },
  {
   "cell_type": "code",
   "execution_count": 127,
   "id": "cc646873",
   "metadata": {},
   "outputs": [
    {
     "name": "stdout",
     "output_type": "stream",
     "text": [
      "|TAIL| HMS Protector||| instance of\n",
      "ship\n"
     ]
    },
    {
     "data": {
      "text/plain": [
       "defaultdict(list,\n",
       "            {'destroyer': tensor(-0.8414),\n",
       "             'amphibious assault ship': tensor(-0.9597),\n",
       "             'Wikimedia disambiguation page': tensor(-0.6430),\n",
       "             'full-rigged ship': tensor(-0.9295),\n",
       "             'ironclad warship': tensor(-1.0093),\n",
       "             'third-rate': tensor(-1.1272),\n",
       "             'pre-dreadnought battleship': tensor(-0.7138),\n",
       "             'ship': tensor(-0.4964),\n",
       "             'sloop-of-war': tensor(-0.6348),\n",
       "             'nuclear-powered attack submarine': tensor(-1.1498),\n",
       "             'mine countermeasures vessel': tensor(-0.9542)})"
      ]
     },
     "execution_count": 127,
     "metadata": {},
     "output_type": "execute_result"
    }
   ],
   "source": [
    "# scores_data has 4 keys\n",
    "id = 2\n",
    "# print(scores_data['prediction_strings'][id])\n",
    "# print(scores_data['scores'][id])\n",
    "print(scores_data['input_strings'][id])\n",
    "print(scores_data['target_strings'][id])\n",
    "\n",
    "predictions_scores_dicts[id]"
   ]
  },
  {
   "cell_type": "code",
   "execution_count": 128,
   "id": "45377700",
   "metadata": {},
   "outputs": [
    {
     "data": {
      "text/plain": [
       "0.3269122345423793"
      ]
     },
     "execution_count": 128,
     "metadata": {},
     "output_type": "execute_result"
    }
   ],
   "source": [
    "count = 0\n",
    "for i in range(len(predictions_scores_dicts)):\n",
    "    preds_dict = predictions_scores_dicts[i]\n",
    "    target = scores_data['target_strings'][i]\n",
    "    if target in preds_dict:\n",
    "        count += 1\n",
    "count/len(predictions_scores_dicts)"
   ]
  },
  {
   "cell_type": "code",
   "execution_count": 129,
   "id": "3cf0d7c4",
   "metadata": {
    "scrolled": true
   },
   "outputs": [
    {
     "data": {
      "application/vnd.jupyter.widget-view+json": {
       "model_id": "b3a870d537d44ac78744f4b3e0dfd689",
       "version_major": 2,
       "version_minor": 0
      },
      "text/plain": [
       "HBox(children=(FloatProgress(value=0.0, max=10642.0), HTML(value='')))"
      ]
     },
     "metadata": {},
     "output_type": "display_data"
    },
    {
     "name": "stdout",
     "output_type": "stream",
     "text": [
      "\n"
     ]
    }
   ],
   "source": [
    "import numpy as np\n",
    "predictions_filtered = []\n",
    "for i in tqdm(range(len(predictions_scores_dicts))):\n",
    "    ps_dict = predictions_scores_dicts[i].copy()\n",
    "    target = scores_data['target_strings'][i]\n",
    "    inputs = scores_data['input_strings'][i]\n",
    "    prediction_strings = ps_dict.keys()\n",
    "    if target in prediction_strings:\n",
    "        original_score = ps_dict[target]\n",
    "    # get filtering entities\n",
    "    filtering_entities = getAllFilteringEntities(inputs, filter_dicts)\n",
    "    for ent in filtering_entities:\n",
    "        if ent in ps_dict:\n",
    "            ps_dict[ent] = -float(\"inf\")\n",
    "    if target in prediction_strings:\n",
    "        ps_dict[target] = original_score\n",
    "    names_arr = []\n",
    "    scores_arr = []\n",
    "    for k, v in ps_dict.items():\n",
    "        names_arr.append(k)\n",
    "        scores_arr.append(v)\n",
    "    scores_arr = np.array(scores_arr)\n",
    "    for name, score in zip(names_arr, scores_arr):\n",
    "        ps_dict[name] = score\n",
    "    predictions_filtered.append(ps_dict)\n"
   ]
  },
  {
   "cell_type": "code",
   "execution_count": 130,
   "id": "f384c48a",
   "metadata": {},
   "outputs": [],
   "source": [
    "# ids_to_consider = range(0,100)"
   ]
  },
  {
   "cell_type": "code",
   "execution_count": 135,
   "id": "cde8c8c1",
   "metadata": {},
   "outputs": [
    {
     "data": {
      "application/vnd.jupyter.widget-view+json": {
       "model_id": "2e0ed400aa95415db69474bc13196a8f",
       "version_major": 2,
       "version_minor": 0
      },
      "text/plain": [
       "HBox(children=(FloatProgress(value=0.0, max=10642.0), HTML(value='')))"
      ]
     },
     "metadata": {},
     "output_type": "display_data"
    },
    {
     "name": "stdout",
     "output_type": "stream",
     "text": [
      "\n",
      "hits@1 0.22552151851155797\n",
      "hits@3 0.2594437135876715\n",
      "hits@10 0.30097725991355007\n",
      "mrr 0.2493993980034624\n",
      "0.45827851907536177 were <10 length preds array without answer\n"
     ]
    }
   ],
   "source": [
    "from tqdm.notebook import tqdm\n",
    "\n",
    "count = {}\n",
    "reciprocal_ranks = 0.0\n",
    "k_list = [1,3,10]\n",
    "for k in k_list:\n",
    "    count[k] = 0\n",
    "num_small_arrs = 0\n",
    "total_count = 0\n",
    "\n",
    "for i in tqdm(range(len(predictions_filtered))):\n",
    "#     if i not in ids_to_consider:\n",
    "#         continue\n",
    "    target = scores_data['target_strings'][i]\n",
    "    ps_dict = predictions_filtered[i].copy()\n",
    "    for k in ps_dict.keys():\n",
    "        tokenized = tokenizer(k).input_ids\n",
    "        ps_dict[k] = ps_dict[k]/len(tokenized)\n",
    "    \n",
    "    ps_sorted = sorted(ps_dict.items(), key=lambda item: -item[1])\n",
    "    inputs = scores_data['input_strings'][i]\n",
    "    total_count += 1\n",
    "    if len(ps_dict) == 0:\n",
    "        preds = []\n",
    "    else:\n",
    "        preds = [x[0] for x in ps_sorted]\n",
    "    if target in preds:\n",
    "        rank = preds.index(target) + 1\n",
    "        reciprocal_ranks += 1./rank\n",
    "    for k in k_list:\n",
    "        if target in preds[:k]:\n",
    "            count[k] += 1\n",
    "    if len(preds) < 10 and target not in preds:\n",
    "        num_small_arrs += 1\n",
    "        \n",
    "for k in k_list:\n",
    "    hits_at_k = count[k]/total_count\n",
    "    print('hits@{}'.format(k), hits_at_k)\n",
    "print('mrr', reciprocal_ranks/total_count)\n",
    "print(num_small_arrs/total_count, 'were <10 length preds array without answer')"
   ]
  },
  {
   "cell_type": "code",
   "execution_count": 132,
   "id": "fb31c660",
   "metadata": {},
   "outputs": [
    {
     "data": {
      "text/plain": [
       "1283"
      ]
     },
     "execution_count": 132,
     "metadata": {},
     "output_type": "execute_result"
    }
   ],
   "source": [
    "total_count"
   ]
  },
  {
   "cell_type": "code",
   "execution_count": 94,
   "id": "e961ba0d",
   "metadata": {},
   "outputs": [],
   "source": [
    "from transformers import T5Tokenizer\n",
    "tokenizer = T5Tokenizer.from_pretrained('t5-small')"
   ]
  },
  {
   "cell_type": "code",
   "execution_count": 95,
   "id": "71e564d9",
   "metadata": {},
   "outputs": [
    {
     "data": {
      "application/vnd.jupyter.widget-view+json": {
       "model_id": "0e02d13c7b0547f9b5e456c42c733eee",
       "version_major": 2,
       "version_minor": 0
      },
      "text/plain": [
       "HBox(children=(FloatProgress(value=0.0, max=10642.0), HTML(value='')))"
      ]
     },
     "metadata": {},
     "output_type": "display_data"
    },
    {
     "name": "stdout",
     "output_type": "stream",
     "text": [
      "\n"
     ]
    }
   ],
   "source": [
    "tokenized_targets = []\n",
    "for target in tqdm(scores_data['target_strings']):\n",
    "    tokenized = tokenizer(target).input_ids\n",
    "    tokenized_targets.append(tokenized)"
   ]
  },
  {
   "cell_type": "code",
   "execution_count": 97,
   "id": "9e539676",
   "metadata": {},
   "outputs": [
    {
     "data": {
      "text/plain": [
       "1283"
      ]
     },
     "execution_count": 97,
     "metadata": {},
     "output_type": "execute_result"
    }
   ],
   "source": [
    "ids_to_consider = []\n",
    "for i, tt in enumerate(tokenized_targets):\n",
    "    if len(tt) >= 10:\n",
    "        ids_to_consider.append(i)\n",
    "len(ids_to_consider)"
   ]
  },
  {
   "cell_type": "code",
   "execution_count": null,
   "id": "22ebc553",
   "metadata": {},
   "outputs": [],
   "source": []
  }
 ],
 "metadata": {
  "kernelspec": {
   "display_name": "Python 3 (ipykernel)",
   "language": "python",
   "name": "python3"
  },
  "language_info": {
   "codemirror_mode": {
    "name": "ipython",
    "version": 3
   },
   "file_extension": ".py",
   "mimetype": "text/x-python",
   "name": "python",
   "nbconvert_exporter": "python",
   "pygments_lexer": "ipython3",
   "version": "3.8.11"
  }
 },
 "nbformat": 4,
 "nbformat_minor": 5
}

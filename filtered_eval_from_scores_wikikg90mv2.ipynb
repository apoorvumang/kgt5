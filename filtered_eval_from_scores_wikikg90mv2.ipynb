{
 "cells": [
  {
   "cell_type": "code",
   "execution_count": 1,
   "id": "49aba755",
   "metadata": {},
   "outputs": [],
   "source": [
    "# DONT USE THIS NOTEBOOK FOR WIKIKG90Mv2\n",
    "# USE NOTEBOOK IN ogb_stuff FOLDER\n",
    "\n",
    "import pickle"
   ]
  },
  {
   "cell_type": "code",
   "execution_count": 2,
   "id": "81d5f81b",
   "metadata": {},
   "outputs": [],
   "source": [
    "import os\n",
    "from tqdm import tqdm\n",
    "from typing import Dict\n",
    "from collections import defaultdict\n",
    "import numpy as np\n",
    "\n",
    "def softmax(x):\n",
    "    \"\"\"Compute softmax values for each sets of scores in x.\"\"\"\n",
    "    return np.exp(x) / np.sum(np.exp(x), axis=0)\n",
    "\n",
    "def numLines(fname):\n",
    "    with open(fname) as f:\n",
    "        for i, l in enumerate(f):\n",
    "            pass\n",
    "    return i + 1\n",
    "def loadData(filename, max_points):\n",
    "    file_len = numLines(filename)\n",
    "    f = open(filename, 'r')\n",
    "    inputs = []\n",
    "    outputs = []\n",
    "    for i in tqdm(range(file_len)):\n",
    "        if i == max_points:\n",
    "            break\n",
    "        line = f.readline()\n",
    "        if line[-1] == '\\n':\n",
    "            line = line[:-1]\n",
    "        line = line.split('\\t')\n",
    "        inputs.append(line[0])\n",
    "        outputs.append(line[1])\n",
    "    data = {'inputs': inputs, 'outputs': outputs}\n",
    "    return data\n",
    "        \n",
    "def load_entity_strings(filename):\n",
    "    with open(filename) as f:\n",
    "        lines = f.read().splitlines()\n",
    "    return lines\n",
    "\n",
    "def get_entity_wd_id_dict(filename):\n",
    "    out = {}\n",
    "    f = open(filename, 'r')\n",
    "    for line in f:\n",
    "        if line[-1] == '\\n':\n",
    "            line = line[:-1]\n",
    "        line = line.split('\\t')\n",
    "        out[line[1]] = line[0]\n",
    "    return out\n",
    "    \n",
    "\n",
    "def create_filter_dict(data) -> Dict[str, int]:\n",
    "    filter_dict = defaultdict(list)\n",
    "    for input, output in zip(data[\"inputs\"], data[\"outputs\"]):\n",
    "        filter_dict[input].append(output)\n",
    "    return filter_dict\n",
    "\n",
    "def getAllFilteringEntities(input, filter_dicts):\n",
    "    entities = []\n",
    "    splits = ['train', 'test', 'valid']\n",
    "    for s in splits:\n",
    "        entities.extend(filter_dicts[s][input])\n",
    "    return list(set(entities))\n",
    "\n",
    "def wikidata_link_from_id(id):\n",
    "    uri = 'https://www.wikidata.org/wiki/' + id\n",
    "    return uri"
   ]
  },
  {
   "cell_type": "code",
   "execution_count": 3,
   "id": "255f8111",
   "metadata": {},
   "outputs": [],
   "source": [
    "dataset_name = 'wikikg90mv2'\n",
    "# entity_strings = load_entity_strings(os.path.join(\"data\", dataset_name, \"entity_strings.txt\"))"
   ]
  },
  {
   "cell_type": "code",
   "execution_count": 4,
   "id": "45ee97cb",
   "metadata": {},
   "outputs": [],
   "source": [
    "# entity_strings_set = set(entity_strings)\n",
    "# len(entity_strings_set)"
   ]
  },
  {
   "cell_type": "code",
   "execution_count": 5,
   "id": "51647083",
   "metadata": {},
   "outputs": [
    {
     "name": "stderr",
     "output_type": "stream",
     "text": [
      "100%|███████████████████████████████████████████████████████████████| 6068/6068 [00:00<00:00, 492645.21it/s]\n",
      "100%|███████████████████████████████████████████████████████████████| 6268/6268 [00:00<00:00, 836139.48it/s]\n"
     ]
    }
   ],
   "source": [
    "data = {}\n",
    "# splits = ['train', 'valid', 'test']\n",
    "splits = ['valid', 'test']\n",
    "dataset_name = 'wnrr'\n",
    "for split in splits:\n",
    "    data[split] = loadData(os.path.join('data', dataset_name, split + '.txt'), -1)"
   ]
  },
  {
   "cell_type": "code",
   "execution_count": 6,
   "id": "616e3b45",
   "metadata": {},
   "outputs": [],
   "source": [
    "filter_dicts = {}\n",
    "# splits = ['train', 'valid', 'test']\n",
    "splits = ['valid', 'test']\n",
    "for split in splits:\n",
    "    filter_dicts[split] = create_filter_dict(data[split])"
   ]
  },
  {
   "cell_type": "code",
   "execution_count": 40,
   "id": "13a5a068",
   "metadata": {},
   "outputs": [],
   "source": [
    "# fname = 'scores.pickle'\n",
    "# fname = 'scores/scores_full_codexm_small.pickle'\n",
    "fname = 'scores/scores_wikikg90mv2_train_10k.pickle'\n",
    "# fname = 'scores_500_base_trie.pickle'\n",
    "scores_data = pickle.load(open(fname, 'rb'))"
   ]
  },
  {
   "cell_type": "code",
   "execution_count": 41,
   "id": "2194d51a",
   "metadata": {},
   "outputs": [
    {
     "data": {
      "text/plain": [
       "['Genotyping of Mycobacterium tuberculosis complex by variable-number tandem-repeat analysis of single-',\n",
       " 'Whole-genome sequencing of Mycobacterium tuberculosis from the North-West of Iran.',\n",
       " 'Rapid identification of rifampin-resistant Mycobacterium tuberculosis by rpoB gene mole',\n",
       " 'The phylogeny of Mycobacterium tuberculosis (Ace): an assessment of species distribution.',\n",
       " 'A study of Mycobacterium tuberculosis strains isolated in Tunisia.',\n",
       " 'Characterization of Mycobacterium tuberculosis strains growing on TB treatment in Turkey.',\n",
       " 'Evaluation of simple PCR methods for the genetic analysis of mycobacteria.',\n",
       " 'Molecular characterization of Mycobacterium tuberculosis isolates from Pakistan using a polymorphic fingerprinting method.',\n",
       " 'Molecular analysis of the Mycobacterium tuberculosis complex strains from human patients with pulmonary tuberculos',\n",
       " 'Molecular epidemiology of tuberculosis in Germany, 1981-1971.',\n",
       " 'Analysis of Mycobacterium tuberculosis strains in HIV, tuberculosis and human immunodefici',\n",
       " 'Multilocus sequence typing using a standardized single disk method: application to typing of Mycobacterium tuberculosis complex',\n",
       " 'Tuberculosis among tuberculosis patients. Correlation of laboratory diagnosis with genotype.',\n",
       " 'DNA fingerprinting used for identification of Mycobacterium tuberculosis in South Africa and European Union countries: the European Myco',\n",
       " 'Multilocus sequence typing of Mycobacterium tuberculosis in the North and Central American countries--the need for an',\n",
       " 'Comparison of four molecular typing methods for species identification of Mycobacterium tuberculosis',\n",
       " 'Use of IS6110 -lactamase ELISA to detect an intermediate strain of Mycobacterium tuberculo',\n",
       " 'Epidemiologic epidemiology of tuberculosis in a slum area of central Jordan.',\n",
       " \"Numerical index of the discriminatory ability of typing systems: an application of Simpson's index of diversity\",\n",
       " 'Use of multilocus genotyping in the genetic assessment of Mycobacterium tuberculosis strains in a hospital setting',\n",
       " 'A microarray-based study of Mycobacterium tuberculosis Beijing genotype reveals a newly evolved Beijing genotyp',\n",
       " 'Molecular characterization of newly isolated strains of Mycobacterium tuberculosis in China on the basis of RD1',\n",
       " 'The changing epidemiology of tuberculosis in Iran (1997 to 2002).',\n",
       " 'A comparative study of DNA fingerprinting and other PCR amplification techniques for direct typing of the Mycobacterium tuberculo',\n",
       " 'Identification and genotyping of Mycobacterium tuberculosis in clinical samples from different regions of the world.',\n",
       " 'Prevalence of anti-tubercular drug resistance among pulmonary tuberculosis patients in Iran.',\n",
       " 'Genetic diversity of Mycobacterium tuberculosis isolates from different strains in Iran.',\n",
       " 'IS6110--a new genetic marker of Mycobacterium tuberculosis.',\n",
       " 'pnifA and pnfB genes in Mycobacterium tuberculosis isolates from different areas of',\n",
       " 'New phylogenetic characterization and high-resolution whole genome analysis of Mycobacterium tuberculosis reveals',\n",
       " 'Characterization of Mycobacterium tuberculosis subsp. muris strains with variable number of tandem repeats:',\n",
       " 'Use of molecular epidemiological fingerprinting to investigate gene diversity of Mycobacterium tuberculosis isolates by the IS',\n",
       " 'Mycobacterium tuberculosis and HIV coinfection: epidemiology, molecular epidemiology and clinical relevance.',\n",
       " 'Clinical and molecular epidemiological study of cases of multidrug-resistant and extensively drug-resistant tuberculosis in Iran',\n",
       " 'Molecular epidemiology of Mycobacterium tuberculosis Beijing genotype in the Korean region',\n",
       " 'Identifying and determining the characterization of mycobacterial genetic variants in clinical samples.',\n",
       " 'Comparison of simple sequence repeat typing methods for the differentiation of mycobacteria, bacteria, and etiology of infectious diseases',\n",
       " 'Molecular typing of Mycobacterium tuberculosis complex strains isolated in India using IS6110, IS900 and mo',\n",
       " 'Clinical applications of molecular typing techniques.',\n",
       " 'Polymorphic DNA fingerprinting as a potential tool for characterization of Mycobacterium tuberculosis Beijing genotype in',\n",
       " 'Molecular typing of Mycobacterium tuberculosis in Isfahan, Iran.',\n",
       " 'A simple, fast, and accurate algorithm to estimate large phylogenies by maximum likelihood',\n",
       " 'Rapid determination of Mycobacterium tuberculosis strains by PCR fingerprinting',\n",
       " 'Discordant analysis of Beijing family genotypes and recombinant Mycobacterium tuberculosis by fingerprinting',\n",
       " 'Molecular typing of Mycobacterium tuberculosis and implications for eradication.',\n",
       " 'Molecular epidemiology: current status and future perspectives',\n",
       " 'Global epidemiology of tuberculosis in the era of anti-tuberculosis action.',\n",
       " 'Discrimination of Mycobacterium tuberculosis by interspersed repetitive unit-variable-number tandem-re',\n",
       " 'Mycobacterium tuberculosis abgene prevalence in clinical specimens during high-burden pulmonary extinction',\n",
       " 'Whole-genome Sequencing of Mycobacterium tuberculosis Samples Reveals the Genetic Basis of Multid',\n",
       " \"Numerical index of the discriminatory ability of typing systems: an application of Simpson's index of diversity\",\n",
       " 'Genetic diversity of Mycobacterium tuberculosis isolates from a community of north-west India: molecular epidemi',\n",
       " 'Global epidemiology of tuberculosis. Global estimates of the prevalence of tuberculosis.',\n",
       " 'Prevalence of high-level atypical mycobacterial spoligotype in a cohort of patients with pulmonary tuber',\n",
       " 'Rapid, semi-automatic and rapid detection of Mycobacterium tuberculosis by a multiplex PCR approach.',\n",
       " 'High resolution genotyping by interspersed repetitive unit-variable-number tandem repeat analysis of Mycobacterium tuberculos',\n",
       " 'High-throughput genotyping as a means for Mycobacterium tuberculosis taxonomic studies with IS61',\n",
       " 'High resolution melting analysis, high frequency analysis, and pulsed-field gel electrophoresis analysis of Mycobacterium tubercul',\n",
       " 'Polymerase chain reaction and IS6110 fingerprinting of Mycobacterium tuberculosis isolates: validation of four tub',\n",
       " 'Global epidemiology of tuberculosis. WHO perspective',\n",
       " 'Is genetic diversity of Mycobacterium tuberculosis strains belonging to the species complex in a global tubercul',\n",
       " 'Assessment of Mycobacterium tuberculosis genotype and diversity among Brazilian and European populations of Mycobacterium tubercul',\n",
       " 'Characterization of Mycobacterium tuberculosis Beijing/W strains isolated in Iran using a single PCR-based',\n",
       " 'Multiplex-PCR and SNP typing of Mycobacterium tuberculosis complex isolates from patients with the XDR',\n",
       " 'A new method for typing of Mycobacterium avium complex isolates using IS6110.',\n",
       " 'Genetic diversity among Mycobacterium tuberculosis strains isolated from patients with pulmonary tuberculosis in Germany',\n",
       " 'Molecular characterization of Mycobacterium tuberculosis strains from a sputum-based molecular',\n",
       " 'Infectious diseases due to Mycobacterium tuberculosis: the importance of the host.',\n",
       " 'Whole-genome analysis of Mycobacterium tuberculosis isolated from patients with active and latent tuberculos',\n",
       " 'Genetic diversity of Mycobacterium tuberculosis strains isolated from patients with multidrug-resistant tuberculos',\n",
       " 'Molecular epidemiology of Mycobacterium tuberculosis in Iran.',\n",
       " 'Predominance of Mycobacterium tuberculosis strains in the Beijing genotype in patients with opport',\n",
       " 'An automated genetic algorithm for the identification of Beijing strains of Mycobacterium tuberculosis.',\n",
       " 'Predicting the efficacy of tuberculosis therapeutics in Iran: a systematic review.',\n",
       " 'Comparison of new molecular markers for differentiation of pyrazinamide-resistant Mycobacterium tuberculosis clinical specimen',\n",
       " 'Application of rpoB polymorphism to global epidemiological investigations of Mycobacterium tuberculosis outbreaks',\n",
       " 'Identification of different lineages of Mycobacterium tuberculosis within patients by analysis of the 16S rRNA region of',\n",
       " 'Genetics, epidemiology, and pathogenesis of multidrug-resistant tuberculosis.',\n",
       " 'Tuberculosis and HIV infection in rural and urban populations in rural eastern India.',\n",
       " 'Evaluation of a microsatellite STR system with genetically matched tuberculosis patients.',\n",
       " 'Multicenter study of phenotypic variability and virulence of clinical isolates of Mycobacterium tuberculos',\n",
       " 'A new class of Mycobacterium tuberculosis (BCG) genotype identified as a drug resistance-related network',\n",
       " 'Identification of recombination hotspot variants of the Mycobacterium tuberculosis complex with rp',\n",
       " 'Pulsed field gel electrophoresis typing of Mycobacterium tuberculosis complex strains isolated in Italy from 1995',\n",
       " 'Genotyping by pulsed-field gel electrophoresis in Mycobacterium tuberculosis clinical isolates',\n",
       " 'Molecular methods for typing Mycobacterium tuberculosis complex strains.',\n",
       " 'Rapid identification of Mycobacterium tuberculosis strains by amplicons from the pnpSRA sequence.',\n",
       " 'Multiplex PCR assays for typing the Mycobacterium tuberculosis complex and identification of Beijing family members.',\n",
       " 'Comparison of different typing methods for Mycobacterium tuberculosis strain differentiation.',\n",
       " 'pnpA and pnpAB DNA polymorphisms in Mycobacterium tuberculosis isolate',\n",
       " 'PCR-Based Typing of Mycobacterium tuberculosis',\n",
       " 'Multilocus sequence typing of tubercle bacilli in Mycobacterium smegmatis. Results of a',\n",
       " 'Molecular analysis of Mycobacterium tuberculosis subsp. sp. strains isolated in the eastern region',\n",
       " 'Epidemiology of Tuberculosis in Iran: a comprehensive literature review and summary.',\n",
       " 'Use of the TM7 microarray system for the rapid identification of Mycobacterium tuberculosis in stool samples',\n",
       " 'Prediction of Mycobacterium tuberculosis strain diversity in pulmonary samples from Iranian and Indian samples by sequence-based typing',\n",
       " 'Characterization of the Mycobacterium tuberculosis insertion sequence IS6110 and its impact on IS6110 selection.',\n",
       " 'Molecular genotyping of Mycobacterium tuberculosis strains from Beijing genotypes reveals high diversity.',\n",
       " 'Tuberculosis transmission and its control in Iran: a population-based prospective study.',\n",
       " 'Molecular evolution of Mycobacterium Tuberculosis: A Potential Linkage of Epitopes of CR2/L',\n",
       " 'Molecular epidemiology in South Korea: a multicenter study.',\n",
       " 'Multi-infection with Mycobacterium avium subsp. paratuberculosis (Mycobacterium ',\n",
       " 'Assessment of DNA fingerprinting for the investigation of typing of Mycobacterium tuberculosis strains and spoligotype',\n",
       " 'Molecular characterization of Mycobacterium tuberculosis: a comparison of sequence and immunodominant human anti-',\n",
       " 'Rapid and simple detection of Mycobacterium tuberculosis and rifampicin resistance by use of multiple mole',\n",
       " 'Multilocus sequence typing of mycobacterium tuberculosis',\n",
       " 'Evaluation of multiplex rRNA-based identification of Mycobacterium tuberculosis by use of BCG-PCR.',\n",
       " 'Detection of Mycobacterium tuberculosis strains by the using polymerase chain reaction',\n",
       " 'DNA polymorphisms of Mycobacterium tuberculosis subsp. paratuberculosis,',\n",
       " 'Usefulness of multilocus variable number tandem repeat typing in detecting Mycobacterium tuberculosis--suscept',\n",
       " 'Molecular epidemiology of Mycobacterium tuberculosis strains isolated from Pakistan',\n",
       " 'Induction in vivo of a kifE-based Mycobacterium tuberculosis mutant by heat stress',\n",
       " 'Genotyping of Mycobacterium tuberculosis to identify an ambiguity by PCR.',\n",
       " 'Mycobacterium tuberculosis Beijing family strain typing on genotype I and II IS6110 (T-tube).',\n",
       " 'Molecular epidemiology of multidrug-resistant mycobacteria from northwestern Iran.',\n",
       " 'Rapid molecular fingerprinting of Mycobacterium tuberculosis isolates using PCR and phylogenetic and',\n",
       " 'Prediction of Mycobacterium tuberculosis strain recurrence using molecular fingerprints: A systematic review',\n",
       " 'Evaluation of DNA sequence variation between Mycobacterium tuberculosis isolates from patients with active tuberculosis in',\n",
       " 'IS6110-family elements of Mycobacterium tuberculosis and their use in typing mycobacterial isolates and their',\n",
       " 'Molecular typing of Mycobacterium tuberculosis using a single DNA polymerase chain reaction in eastern Iran.',\n",
       " 'Mycobacterium xenografting in the intensive care unit: a reevaluation of the literature and its clinical',\n",
       " 'Evaluation of DNA fingerprinting by PCR in tuberculosis of an Australian population.',\n",
       " 'Molecular epidemiology of tuberculosis in Iran: a comparison of the spoligotyping of Mycobacter',\n",
       " 'Analysis of the genome of Mycobacterium tuberculosis C60 identifies complex insertions across different genomes',\n",
       " 'Genetic fingerprinting of Mycobacterium tuberculosis complexes using restriction enzyme map of the spoligotypic',\n",
       " 'Evolutionary relationship between the spoligotypic and tuberculosis genotypes and a clonal spread',\n",
       " 'Molecular epidemiology and molecular epidemiology of tuberculosis.',\n",
       " 'Identification and molecular characterization of virulent Mycobacterium tuberculosis strains obtained by IS6110 restriction',\n",
       " 'Delineation of a Mycobacterium tuberculosis strain and an identification of Beijing genotype with restriction endonu',\n",
       " 'High rate of Beijing/W genotypes of Mycobacterium tuberculosis, Bangladesh, 2000-2010.',\n",
       " 'Reliable genotyping of the Mycobacterium tuberculosis complex by sequencing and polymerase chain reaction.',\n",
       " 'Typing of Mycobacterium tuberculosis using a single-base-pair DNA element.',\n",
       " 'A standardized mycobacterial interspersed repeated-length cDNA typing method based on multiplex polymerase chain reaction-re',\n",
       " 'Restriction endonuclease analysis of Mycobacterium tuberculosis in Iran and its association with the',\n",
       " 'Evaluation of a new tuberculosis diagnostic system with the use of polymerase chain reaction, a molecular tax',\n",
       " 'Molecular typing of Mycobacterium tuberculosis: a critical update',\n",
       " 'IS6110 restriction fragment length polymorphism as a multilocus approach for comparing Mycobacterium tuberculos',\n",
       " 'Phylogenetic relationships among species of the noninvasive mycobacterium of the family Mycobacterium tuberculosis',\n",
       " 'Prevalence of Mycobacterium tuberculosis infection in Morocco: a collaborative study of a multicentre population',\n",
       " 'Molecular epidemiology of Mycobacterium tuberculosis isolates in southeastern Iran.',\n",
       " 'Molecular epidemiology of mycobacterial infection--a review of the literature.',\n",
       " 'Discrimination of Mycobacterium tuberculosis strains by DNA fingerprinting.',\n",
       " 'Comparison of new tuberculosis genotypes in India and Tunisia',\n",
       " 'Genetic diversity and drug resistance among tuberculosis patients in Thailand.',\n",
       " 'An analysis of Mycobacterium tuberculosis Beijing/W genotypes based on genotype-phenotype correlation',\n",
       " 'DNA typing of Mycobacterium tuberculosis isolates, and identification of drug-resistant clinical isolates (VNTR',\n",
       " 'Variation in the mycobacterial RNA polymerase III promoters may confer a stable effect on RNA processing.',\n",
       " 'Use of multiplex multiplex PCR for characterization of multidrug excipients and refractory tuberculos',\n",
       " 'Analysis of the 16L rRNA gene IS6110 and IS6110 in Mycobacterium tuberculosis isolates',\n",
       " 'Evaluation of DNA fingerprinting methods for typing Mycobacterium tuberculosis strains by automated molecular typing.',\n",
       " 'Use of polymorphic DNA as a molecular fingerprint for the identification of Mycobacterium tuberculosis complex strain',\n",
       " 'Preliminary clinical assessment of the genus Mycobacterium as the cause of pulmonary tuberculosis.',\n",
       " '[Evolution patterns of human microbiota and Mycobacterium tuberculosis in South East Iran, 1992 to 1992',\n",
       " 'Mycobacterium tuberculosis genomic diversity and evolution.',\n",
       " 'A new DNA fingerprinting system for Mycobacterium tuberculosis',\n",
       " 'Rapid, multiresistance gene mutation detection assay of Mycobacterium tuberculosis complex strains by PCR',\n",
       " 'Whole-genome and high-throughput fingerprinting of Mycobacterium tuberculosis clinical isolates.',\n",
       " 'The genus Mycobacterium: current knowledge.',\n",
       " 'The prevalence of Mycobacterium tuberculosis Beijing genotype is determined by Beijing genotype, but not by IS6110',\n",
       " 'A comparison of the genotype of Mycobacterium tuberculosis from different laboratories from Hanoi, Vietnam',\n",
       " 'Tuberculosis among household contacts of patients with smear-positive pulmonary tuberculosis in Halob',\n",
       " 'Sequences containing variable-number tandem repeats for differentiation of Mycobacterium tuberculosis complex clinical isolates',\n",
       " 'Genotypic recombination among Mycobacterium tuberculosis strains observed in the same genotype.',\n",
       " 'High diversity of Mycobacterium tuberculosis in Japan: implications for a national-based surveillance among household contacts: implications',\n",
       " 'Restriction fragment length polymorphism analysis of Mycobacterium tuberculosis strains with polymerase chain reaction',\n",
       " 'Pulmonary tuberculosis: the global challenge in the developing world.',\n",
       " 'The phenotypic characteristics of an outbreak of pulmonary tuberculosis in a human immunodeficiency virus',\n",
       " 'A large-scale molecular epidemiological study of tuberculosis in Northern Iran based on a random amplified',\n",
       " 'Molecular epidemiology of TB in Iran: A case-control study of Mycobacterium tuberculosis complex strains',\n",
       " 'Assessment of multilocus variable number tandem repeat analysis for typing Mycobacterium tuberculosis complex clinical isolates',\n",
       " 'Molecular epidemiology of tuberculosis complex in Iran: detection of IS6110 sequences',\n",
       " 'Polymeric micelles formed in vitro and in vivo are highly efficient and specific for cloned Mycobacterium tub',\n",
       " 'Genetic diversity among Mycobacterium tuberculosis isolates from the Republic of the Netherlands.',\n",
       " 'IS6110-mediated genetic diversity and epidemiological diversity of Mycobacterium tuberculosis',\n",
       " 'A new genotyping method (MSV) for the detection of Mycobacterium tuberculosis complex strains by using poly',\n",
       " 'Genetic diversity of Mycobacterium tuberculosis isolates from Iran, Spain and the United Kingdom before the introduction of mole',\n",
       " 'Impact of molecular characterization of Beijing multidrug-resistant Mycobacterium tuberculosis isolates obtained in Taiwan',\n",
       " 'Sequences of the RNA polymerase I promoter region correlate with mycobacterial transcription and drug resistance.',\n",
       " 'Molecular epidemiology and molecular epidemiology of tuberculosis in Iran: a study from 2004 to 2002.',\n",
       " 'Molecular typing of Mycobacterium tuberculosis isolates in a tuberculosis-endemic area',\n",
       " 'Prevalence of the Beijing genotype of Mycobacterium tuberculosis Beijing strain in Iran: a molecular',\n",
       " 'Tuberculosis susceptibility in Iran: comparison of different genotypes by molecular, phenotypic and',\n",
       " 'BACTEC MGIT 960 for Mycobacterium tuberculosis: evaluation of a new spoligo',\n",
       " 'Genetic diversity of Mycobacterium avium complex strains in the community of the northeast of Iran: analysis of DNA polymorphism',\n",
       " 'Use of a molecular beacon for characterizing strains within Mycobacterium tuberculosis strains',\n",
       " 'Prevalence of molecular subtyping of multidrug-resistant tuberculosis in Iran',\n",
       " 'Mycobacterial IS6110 confers high and lower virulence in the absence of multidrug-resistant Mycobacterium tub',\n",
       " \"Molecular characterization of Mycobacterium tuberculosis isolates from the People's Republic of China and their use as\",\n",
       " 'Mycobacterium tuberculosis Beijing genotype genotypes: characterization of multidrug-resistant multidrug-',\n",
       " 'Multiple-locus variable-number tandem repeat analysis of Mycobacterium tuberculosis isolates shows a rapid,',\n",
       " 'Identification of Mycobacterium tuberculosis strains by multilocus sequence typing.',\n",
       " 'High-resolution genotyping of rifampin- and isoniazid-resistant tuberculosis isolates by',\n",
       " 'Evaluation of the TM-Burd system for identification of Mycobacterium tuberculosis--a focus on the',\n",
       " 'Molecular epidemiology of tuberculosis in Iran--a retrospective survey.',\n",
       " 'Molecular epidemiology of the Mycobacterium tuberculosis complex: a global assessment',\n",
       " 'Identification of Mycobacterium tuberculosis genotypes by whole genome sequencing',\n",
       " 'Multiple genotypes of Mycobacterium tuberculosis from Iran: characterization of the Beijing genotype with different genotypic',\n",
       " 'Comparative evaluation of IS6110 fingerprints for typing groups of Mycobacterium tuberculosis',\n",
       " 'Sequence-based typing of Mycobacterium tuberculosis strains that produce heterogeneous strains.',\n",
       " 'Molecular epidemiology of XDR-TB in Iran.',\n",
       " 'IS6110, a new Mycobacterium tuberculosis lineage discovered using multilocus sequence typing: evidence for',\n",
       " 'Molecular epidemiological analysis of multidrug resistant and extensively drug-resistant tuberculosis in Saudi Arabia',\n",
       " 'A case of multidrug-resistant tuberculosis in a South African township',\n",
       " 'Use of molecular fingerprinting by IS6110 restriction fragment length polymorphism in Mycobacterium tuberculosis',\n",
       " 'Molecular epidemiology of Mycobacterium tuberculosis in Iranian patients: molecular epidemiology in 2007-2010.',\n",
       " 'Comparative study of DNA amplification methods.',\n",
       " 'Mycobacterium tuberculosis spoligotype distribution among household contacts in Iran.',\n",
       " 'Characterization of Mycobacterium tuberculosis isolates in different countries.',\n",
       " 'Prevalence of drug-resistant tuberculosis among high-risk patients attending a healthcare center in Tehran, Iran.',\n",
       " 'A molecular analysis of M-SPOT and MIRU-VNTRplus (Pdgy) reveals Mycobacter',\n",
       " 'Comparative assessment of IS6110-derived IS6110-based typing of Mycobacterium tuberculosis for fingerprinting',\n",
       " 'Molecular typing of Mycobacterium tuberculosis isolates from Ethiopia using ribotyping and typing kary',\n",
       " 'Molecular epidemiology of Mycobacterium tuberculosis in a high-incidence area of Iran',\n",
       " 'Pulmonary tuberculosis caused by Mycobacterium tuberculosis',\n",
       " 'Disseminated Mycobacterium tuberculosis infection in a pulmonary center of a patient with pulmonary',\n",
       " 'High-resolution fingerprinting of Mycobacterium tuberculosis using a multilocus genotype.',\n",
       " 'Tuberculosis worldwide: estimates of prevalence, incidence, incidence, and mortality, 1980-1985.',\n",
       " 'Differentiation of Mycobacterium tuberculosis strains from Mycobacterium tuberculosis complex by',\n",
       " 'Evolutionary origins of Mycobacterium tuberculosis by horizontal gene transfer',\n",
       " 'Comparison of the molecular epidemiology of tuberculosis in Italy and the United States: assessment by spoligotyp',\n",
       " 'PCR assay for Detecting Mycobacterium tuberculosis in Humans',\n",
       " 'Molecular epidemiology of multidrug-resistant and extensively drug-resistant tuberculosis in the United States',\n",
       " 'Application of a novel amplicon for the analysis of Mycobacterium tuberculosis complex strains, BACTEC',\n",
       " 'The prevalence of IS6110 polymorphisms among Mycobacterium tuberculosis complex isolates from patients during the',\n",
       " 'Genetic variation of Mycobacterium tuberculosis within the Mycobacterium tuberculosis complex in Ethiopia',\n",
       " 'Mycobacterium tuberculosis strain typing as an analysis of Beijing variant strains by spoligotyping and mo',\n",
       " 'Molecular typing of Mycobacterium tuberculosis strains from Iran: an assessment of genotype and strain genotyping studies',\n",
       " 'Analysis of the genomes of tuberculosis isolates resistant to rifampicin.',\n",
       " 'Mycobacterium tuberculosis strains belonging to the complex genus (Trol) as determined by PCR,',\n",
       " 'Evaluation of MDR tuberculosis infection of Iranian patients for the diagnosis of multidrug-resistant tuberculosis',\n",
       " 'Simultaneous detection and strain differentiation of Mycobacterium tuberculosis for diagnosis and epidemiology',\n",
       " 'Nucleotide sequence and genetic variability of the Mycobacterium tuberculosis rpoB gene.',\n",
       " 'Strain analysis of Mycobacterium tuberculosis for diagnosis and epidemiology',\n",
       " 'Multicenter comparison of IS6110-based spoligotyping techniques in a Mycobacteria outbreak.',\n",
       " 'Genetic heterogeneity among isoniazid-resistant Mycobacterium tuberculosis complex isolates in the community of',\n",
       " 'Differentiation of genotypes of Mycobacterium tuberculosis from clinical samples by PCR-Based Analysis of Ph',\n",
       " 'IS6110 and IS6110 restriction fragment length polymorphism of Mycobacterium tuberculosis is associated with sus',\n",
       " 'Genotypic identification of Mycobacterium tuberculosis complex strains by PCR and IS6110 restriction fragment length poly',\n",
       " 'Molecular epidemiology of Mycobacterium tuberculosis: prevalence and molecular-based identification of different groups.',\n",
       " 'Analysis of IS6110, IS6110, IS6110, IS601 and IS6110/IFN12 polymorphism',\n",
       " 'Characteristics of Mycobacterium tuberculosis strains from patients with latent tuberculosis infection',\n",
       " 'Reverse transcriptase polymorphism analysis of Mycobacterium tuberculosis complex patients from Morocco.',\n",
       " 'Molecular fingerprinting studies on the Mycobacterium tuberculosis complex and its association with the Beijing genotype of clinical isolate',\n",
       " 'Typing of Mycobacterium tuberculosis from genotypes of the Mycobacterium tuberculosis',\n",
       " 'Delineation of distinct genotypes of Mycobacterium tuberculosis as an important determinant of disease causing',\n",
       " 'Epidemiological comparison of genetic and molecular markers with molecular typing for Mycobacterium tuberculosis genetic',\n",
       " 'Epidemiology of Mycobacterium tuberculosis infection in high-risk women of African descent in the United States.',\n",
       " 'Mycobacterium tuberculosis genotypes, Beijing/W genotype, and epidemiological profile in Iran: a',\n",
       " 'Multiplex PCR assay for rapid identification and anti-tuberculosis drug susceptibility testing of Mycobacterium tub',\n",
       " 'Characterisation of multidrug-resistant tuberculosis: a study from Iran',\n",
       " 'Relative-specific frequencies of insertion-deletion mutations and amplification to mycobacterial antigens among Myco',\n",
       " 'Comparison of IS6110-based genotyping in Mycobacterium tuberculosis in Iran and Argentina.',\n",
       " 'Genetic diversity and subunit composition of Mycobacterium tuberculosis complex strains growing in the era of new tuber',\n",
       " 'High rate of drug resistance of tuberculosis and its impact on patient development',\n",
       " 'Infections associated to the introduction of the DNA probe BACTEC 460.',\n",
       " 'Pulmonary tuberculosis in a high-incidence area: a study in Karachi, Pakistan.',\n",
       " 'Multicenter evaluation of the Polymerase Chain Reaction in the detection of species of the Mycobacterium tuberculosis complex',\n",
       " 'Application of DNA probe - an improved Taq DNA polymerase chain reaction-based variable number tandem repeat assay for genotyping clinical isolate',\n",
       " 'Predicting drug susceptibility of Mycobacterium tuberculosis strains in Iran: a statistical study of genotyp',\n",
       " 'Molecular epidemiology of tuberculosis among patients with the acquired immunodeficiency syndrome in southern Iran: high-re',\n",
       " 'Multilocus genotyping with whole MLVA: a practical approach integrating molecular typing of clinical Mycobacterium tuber',\n",
       " 'Assessment of the genetic diversity of strains of Mycobacterium tuberculosis using IS6110 restriction fragment length polymorphis',\n",
       " 'Simultaneous detection and strain differentiation of Mycobacterium tuberculosis for diagnosis and epidemiology',\n",
       " 'Use of IS6110 in variable-number tandem-repeat typing of Mycobacterium tuberculosis strains',\n",
       " 'Molecular epidemiology of Mycobacterium tuberculosis isolates in endemic arctic and non-sende',\n",
       " 'A rapid lineage classification scheme for Mycobacterium tuberculosis',\n",
       " 'Differentiation of Mycobacterium tuberculosis from M. bovis strains by multiple molecular methods.',\n",
       " 'Population structure and phenotypic characteristics of Mycobacterium tuberculosis complex: a global study.',\n",
       " 'Genetic and molecular evolution of Mycobacterium tuberculosis in the North Atlantic and Gulf of Mexico.',\n",
       " 'Discrimination between Mycobacterium tuberculosis clinical isolates by IS6110/IS985, IS6110',\n",
       " 'Characterization of the RAPD-Related Gene Flavore in the Mycobacterium tuberculosis Complex',\n",
       " 'Application of DNA-based pyrosequencing for epidemiological typing of Mycobacterium tuberculosis strains belonging',\n",
       " 'Characterization of the isoniazid resistance gene of Mycobacterium tuberculosis from patients with pulmonary tubercul',\n",
       " 'Typing of Mycobacterium tuberculosis by multilocus variable number tandem repeat analysis.',\n",
       " 'Characterization and epidemiological study of Mycobacterium tuberculosis in Iran by PCR amplification of the r',\n",
       " 'Sequence analysis of a multidrug-resistant strain of Mycobacterium tuberculosis confirms that a ',\n",
       " 'Tuberculosis case and laboratory identification in Taiwan.',\n",
       " 'Global characterization of Mycobacterium tuberculosis complex strains by multilocus sequencing',\n",
       " 'Pulmonary tuberculosis in the United Kingdom, 1983-2009.',\n",
       " 'Molecular epidemiology of Mycobacterium tuberculosis isolates in Iran: an international collaborative study.',\n",
       " 'Relapsing refractory epilepsy and acute respiratory distress syndrome: association among TB treatment outcome and clinical outcome',\n",
       " 'Characterization and cloning of the Mycobacterium tuberculosis-specific multidrug resistance gene ap',\n",
       " 'A rapid, automated method for the genotyping of Mycobacterium tuberculosis strains by analysis of gyrase',\n",
       " 'Molecular and morphological features of Mycobacterium tuberculosis atypical bacilli isolated from cattle in',\n",
       " 'DNA fingerprinting of Mycobacterium tuberculosis isolates on the basis of genotyping by using PCR-based restriction',\n",
       " 'Distinctive features of IS6110 gene and variable-number tandem repeat typing of Mycobacterium tuberculosis strain',\n",
       " 'DNA polymorphisms in Mycobacterium tuberculosis in the Spanish population: role of IS6110 and IS',\n",
       " 'A new case of multidrug-resistant Mycobacterium tuberculosis isolated from Iraq.',\n",
       " 'Mycobacterium tuberculosis strain typing by DNA fingerprinting',\n",
       " '[A new variable region mutation in the mycobacterial interspersed repetitive unit genes: detection of Mycobacterium tuberculos',\n",
       " 'Comparison of Mycobacterium tuberculosis molecular typing with a multiplex polymerase chain reaction assay.',\n",
       " 'Molecular epidemiology of multidrug-resistant Mycobacterium tuberculosis in Iran.',\n",
       " 'Phylogenetic analysis of bacterial taxa using MIRU-VNTR typing: a critical review.',\n",
       " 'Typing of Mycobacterium tuberculosis by spoligotyping under global control.',\n",
       " 'Evolutionary genetics of Mycobacterium tuberculosis within and between populations.',\n",
       " 'Molecular fingerprinting of Mycobacterium tuberculosis and comparison with IS6110 restriction enzymes and restriction fragment length poly',\n",
       " '[Evolution of pathogenic strains of Mycobacterium tuberculosis].',\n",
       " 'Molecular diagnosis of tuberculosis by oligonucleotide probes: review of polymerase chain reaction',\n",
       " 'Identification of a highly polymorphic IS6110 insertion gene of Mycobacterium tuberculosis in the Czech Republic',\n",
       " 'The complete nucleotide sequence of Mycobacterium tuberculosis is involved in the evolution of the Mycobacter']"
      ]
     },
     "execution_count": 41,
     "metadata": {},
     "output_type": "execute_result"
    }
   ],
   "source": [
    "scores_data['prediction_strings'][0]"
   ]
  },
  {
   "cell_type": "code",
   "execution_count": 42,
   "id": "9bff88b0",
   "metadata": {},
   "outputs": [
    {
     "name": "stderr",
     "output_type": "stream",
     "text": [
      "10000it [00:01, 7857.71it/s]\n"
     ]
    }
   ],
   "source": [
    "predictions_scores_dicts = []\n",
    "for string_arr, score_arr in tqdm(zip(scores_data['prediction_strings'], scores_data['scores'])):\n",
    "    ps_pairs = [(p,s) for p,s in zip(string_arr, score_arr)]\n",
    "    ps_pairs = list(set(ps_pairs)) # while sampling, duplicates are created\n",
    "    # remove predictions that are not entities\n",
    "    ps_dict_only_entities = defaultdict(list)\n",
    "    for ps in ps_pairs:\n",
    "#         if ps[0] in entity_strings_set:\n",
    "        ps_dict_only_entities[ps[0]] = ps[1]\n",
    "    predictions_scores_dicts.append(ps_dict_only_entities)"
   ]
  },
  {
   "cell_type": "code",
   "execution_count": 43,
   "id": "45377700",
   "metadata": {},
   "outputs": [
    {
     "data": {
      "text/plain": [
       "300"
      ]
     },
     "execution_count": 43,
     "metadata": {},
     "output_type": "execute_result"
    }
   ],
   "source": [
    "max([len(predictions_scores_dicts[x]) for x in range(500)])"
   ]
  },
  {
   "cell_type": "code",
   "execution_count": 44,
   "id": "f565355b",
   "metadata": {
    "tags": []
   },
   "outputs": [
    {
     "name": "stdout",
     "output_type": "stream",
     "text": [
      "Manhattan tales: a dim echo of the 14th century.| published in ||| Medicine and Health, Rhode Island\n",
      "No\n",
      "{'Texas Heart Institute Journal', 'Journal of Cardiothoracic and Vascular Anesthesia', \"Harvard women's health watch\", 'Journal of the American College of Cardiology', 'Clinical Pediatrics', 'The Ohio State medical journal', 'Journal of the New Zealand Medical Association', 'Journal of the Canadian Dental Association', 'Journal of the Arkansas Medical Society', 'American Journal of Bioethics', 'Journal of clinical and experimental cardiac biomedicine : cardiology', 'The Illinois medical journal', 'Journal of the American College of Surgeons', 'Nursing mirror', 'Journal of Medical Ethics', 'Medical Clinics of North America', 'Nursing Outlook', 'Anaesthesia, critical care & pain medicine', 'Nursing mirror and midwives journal', 'Clinical and Investigative Medicine', 'Journal of Experimental Medicine', 'Journal of Infection in Developing Countries', 'Journal of Biological Chemistry', 'Journal of thoracic disease', 'Biomedical Instrumentation and Technology', 'Archives of Biochemistry and Biophysics', 'Medical laboratory sciences', 'Health Service Journal', 'Journal of the Royal Society of Medicine', 'The American Review of Respiratory Disease', 'Archives of Pathology & Laboratory Medicine', 'American Journal of Psychiatry', 'EMBO Reports', 'Journal of Nuclear Cardiology', 'Hospital Practice', 'Journal of Clinical Neurophysiology', 'Journal of the American Medical Association', 'Health devices', 'Heart', 'The Canadian nurse', 'American journal of optometry and physiological optics', 'Current Biology', 'Annals of Allergy, Asthma & Immunology', 'Journal of AHIMA / American Health Information Management Association', 'Journal of Vascular and Interventional Radiology', 'Medical mirror and midwives journal', 'Journal of the American Dental Association', 'British Journal of General Practice', 'The Pennsylvania nurse', 'The Medical Journal of Australia', \"American Journal of Public Health and the Nation's Health\", 'Pediatrics', 'Journal of Clinical Science', 'Journal of Cataract and Refractive Surgery', 'Journal of the American Heart Association: Cardiovascular and Cerebrovascular Disease', 'The Journal of Physician Assistant Education', 'European Journal of Radiology', 'Journal of the Medical Association of Thailand = Chotmaihet thangphaet', 'Nature Medicine', 'Texas Dental Journal', 'Journal of Analytical Toxicology', 'The Journal of the Indiana State Medical Association', 'The Journal of Thoracic and Cardiovascular Surgery', 'Annals of Internal Medicine', 'The Nurse Practitioner', 'British Dental Journal', 'Bulletin of the American College of Surgeons', 'Journal of Neurology, Neurosurgery and Psychiatry', 'Archives of Neurology', 'Virchows Archiv. A, Pathological Anatomy and Histopathology', 'Journal for Specialists in Pediatric Nursing', 'Clinical and Experimental Optometry', 'Journal of Cardiovascular Electrophysiology', 'Chest', 'NursingConnections', 'BMJ case reports', 'Journal of the Mississippi State Medical Association', 'Scientific American', 'Neurology', 'The Lancet', 'Journal of Perioperative Practice', 'American Family Physician', 'Journal of Arthroplasty', 'Journal of the American Medical Association: journal', 'Journal of Dental Sciences', 'Journal of Inherited Metabolic Disease', 'Journal of PeriAnesthesia Nursing', 'Journal of Vascular Surgery', 'Journal of Infusion Nursing', 'Medical Hypotheses', 'Journal of Occupational Medicine and Toxicology', 'The BMJ', 'Journal of Medical Biography', 'European Journal of Cardio-Thoracic Surgery', 'Journal of Clinical Oncology', 'The Alabama journal of medical sciences', 'Canadian Family Physician', 'Journal of the Medical Library Association', 'Annals of Neurology, Neurosurgery and Psychiatry', 'Minnesota Medicine', 'Journal of Hospital Medicine', 'Medical device technology', 'Journal of Wound Care', 'Trends in Cardiovascular Medicine', 'Bulletin of the World Health Organization', 'Nature & Chemistry Letters', 'JAMA Internal Medicine', 'ASHA', 'International Journal of Gynecology and Obstetrics', 'Cardiovascular Medicine', 'Clinical Science', 'Science', 'American Journal of Cardiology', 'The Journal of Urology', 'The Journal of rheumatology. Supplement', 'Journal of Dental Education', 'Texas medicine', 'International journal of computerized dentistry', 'International journal of clinical pediatrics', 'Journal of General Internal Medicine', 'JAOA – The Journal of the American Osteopathic Association', 'Nature Reviews Cardiology', 'Journal of Investigative Dermatology', 'Nature Structural & Molecular Biology', 'The Journal of Heart and Lung Transplantation', 'Journal of the Louisiana State Medical Society', 'American Journal of Medical Genetics', 'The Journal of the Kansas Medical Society', 'RN', 'Journal of Christian Medical Science', 'BJU International', 'Journal of Cardiovascular Magnetic Resonance', 'The Journal of the Oklahoma State Medical Association', 'Academic Medicine', 'American Journal of Nursing', 'The Joint Commission journal on quality improvement', 'Annals of Emergency Medicine', 'American Journal of Physiology - Heart and Circulatory Physiology', 'Journal of Psychiatric Practice', 'Journal of the American Society of Echocardiography', 'The Lancet Oncology', 'International Journal of Cardiology', 'American Journal of Roentgenology', 'Nursing Times', 'JAAPA', 'Theoretical Biology Forum', 'Journal of Neuropsychiatry and Clinical Neurosciences', 'Cardiology in Review', 'European Respiratory Journal', 'Nursing Older People', 'Heart in Cardiovascular Disease', 'California medicine', 'Nature', \"Journal of the American Medical Women's Association\", 'Journal of the American College of Radiology', 'The Hospital', 'Academic Radiology', 'Australian Nursing Journal', 'Clinical Orthopaedics and Related Research', 'European Heart Journal', 'The Personnel journal', 'Analytical Chemistry', 'Nursing Journal of India', 'Journal of Occupational Medicine and Environmental Health', 'Canadian Medical Association Journal', 'Nursing Ethics', 'International record of medicine and general practice clinics', 'Nursing Standard', 'Proceedings of the American Thoracic Society', 'International Journal of Health Services', 'American pharmacy', 'Journal of Emergency Medical Services', 'Journal of the Formosan Medical Association', 'Journal of Law, Medicine, and Ethics', 'Journal of Epidemiology and Community Health', 'Radiology'}\n"
     ]
    }
   ],
   "source": [
    "id = 5007\n",
    "print(scores_data['input_strings'][id], '|||', scores_data['target_strings'][id])\n",
    "if scores_data['target_strings'][id] in scores_data['prediction_strings'][id]:\n",
    "    print('Yes')\n",
    "else:\n",
    "    print('No')\n",
    "print(set(scores_data['prediction_strings'][id]))\n",
    "# print(scores_data['scores'][2])\n",
    "# predictions_scores_dicts[id]"
   ]
  },
  {
   "cell_type": "code",
   "execution_count": 45,
   "id": "de55506f-dd9e-4e8c-b3c1-b205810bd409",
   "metadata": {},
   "outputs": [
    {
     "data": {
      "text/plain": [
       "4502"
      ]
     },
     "execution_count": 45,
     "metadata": {},
     "output_type": "execute_result"
    }
   ],
   "source": [
    "count = 0\n",
    "for id in range(len(scores_data['input_strings'])):\n",
    "    if scores_data['target_strings'][id] in scores_data['prediction_strings'][id]:\n",
    "        count += 1\n",
    "count"
   ]
  },
  {
   "cell_type": "code",
   "execution_count": 46,
   "id": "5e6d50fe-f8d3-46cf-ad78-e421872c8f36",
   "metadata": {
    "scrolled": true,
    "tags": []
   },
   "outputs": [],
   "source": [
    "# this works only if 1 prediction\n",
    "for id in range(len(scores_data['input_strings'])):\n",
    "    if scores_data['prediction_strings'][id] == scores_data['target_strings'][id]:\n",
    "        print(scores_data['input_strings'][id], '|||', scores_data['target_strings'][id])"
   ]
  },
  {
   "cell_type": "code",
   "execution_count": 47,
   "id": "89828715",
   "metadata": {},
   "outputs": [
    {
     "data": {
      "text/plain": [
       "10000"
      ]
     },
     "execution_count": 47,
     "metadata": {},
     "output_type": "execute_result"
    }
   ],
   "source": [
    "len(predictions_scores_dicts)"
   ]
  },
  {
   "cell_type": "code",
   "execution_count": 48,
   "id": "3cf0d7c4",
   "metadata": {},
   "outputs": [
    {
     "name": "stderr",
     "output_type": "stream",
     "text": [
      "100%|███████████████████████████████████████████████████████████████| 10000/10000 [00:01<00:00, 9580.61it/s]"
     ]
    },
    {
     "name": "stdout",
     "output_type": "stream",
     "text": [
      "0.0 0.0\n",
      "0.4502\n",
      "0\n"
     ]
    },
    {
     "name": "stderr",
     "output_type": "stream",
     "text": [
      "\n"
     ]
    }
   ],
   "source": [
    "import numpy as np\n",
    "predictions_filtered = []\n",
    "head_num_filter = 0\n",
    "tail_num_filter = 0\n",
    "hits_at_all = 0\n",
    "count = 0\n",
    "for i in tqdm(range(len(predictions_scores_dicts))):\n",
    "    ps_dict = predictions_scores_dicts[i].copy()\n",
    "    target = scores_data['target_strings'][i]\n",
    "    inputs = scores_data['input_strings'][i]\n",
    "    prediction_strings = ps_dict.keys()\n",
    "    if target in prediction_strings:\n",
    "        original_score = ps_dict[target]\n",
    "    # get filtering entities\n",
    "    filtering_entities = set()\n",
    "    if len(filtering_entities) == 1:\n",
    "        count += 1\n",
    "    for ent in filtering_entities:\n",
    "        if ent in ps_dict:\n",
    "            ps_dict[ent] = -float(\"inf\")\n",
    "    if target in prediction_strings:\n",
    "        ps_dict[target] = original_score\n",
    "        hits_at_all += 1\n",
    "    # softmax for scores\n",
    "    names_arr = []\n",
    "    scores_arr = []\n",
    "    for k, v in ps_dict.items():\n",
    "        names_arr.append(k)\n",
    "        scores_arr.append(v)\n",
    "    scores_arr = np.array(scores_arr)\n",
    "#     scores_arr = softmax(scores_arr)\n",
    "    for name, score in zip(names_arr, scores_arr):\n",
    "        ps_dict[name] = score\n",
    "    predictions_filtered.append(ps_dict)\n",
    "print(head_num_filter/len(predictions_filtered), tail_num_filter/len(predictions_filtered))\n",
    "print(hits_at_all/len(predictions_filtered))\n",
    "print(count)"
   ]
  },
  {
   "cell_type": "code",
   "execution_count": 49,
   "id": "cde8c8c1",
   "metadata": {},
   "outputs": [
    {
     "name": "stdout",
     "output_type": "stream",
     "text": [
      "hits@1 0.3343\n",
      "hits@3 0.386\n",
      "hits@10 0.4187\n",
      "mrr 0.3639429365079368\n",
      "0.0013 were <3 length preds array without answer\n"
     ]
    }
   ],
   "source": [
    "count = {}\n",
    "reciprocal_ranks = 0.0\n",
    "k_list = [1,3,10]\n",
    "for k in k_list:\n",
    "    count[k] = 0\n",
    "num_small_arrs = 0\n",
    "count2 = 0\n",
    "max_items_to_consider = 10\n",
    "for i in range(len(predictions_filtered)):\n",
    "    target = scores_data['target_strings'][i]\n",
    "    ps_dict = predictions_filtered[i]\n",
    "    ps_sorted = sorted(ps_dict.items(), key=lambda item: -item[1])\n",
    "    ps_sorted = ps_sorted[:max_items_to_consider]\n",
    "    if len(ps_dict) == 0:\n",
    "        preds = []\n",
    "    else:\n",
    "        preds = [x[0] for x in ps_sorted]\n",
    "    if target in preds:\n",
    "        rank = preds.index(target) + 1\n",
    "        reciprocal_ranks += 1./rank\n",
    "    for k in k_list:\n",
    "        if target in preds[:k]:\n",
    "            count[k] += 1\n",
    "    if len(preds) < 3 and target not in preds:\n",
    "        num_small_arrs += 1\n",
    "    if target in preds:\n",
    "        count2 += 1\n",
    "for k in k_list:\n",
    "    hits_at_k = count[k]/len(predictions_filtered)\n",
    "    print('hits@{}'.format(k), hits_at_k)\n",
    "print('mrr', reciprocal_ranks/len(predictions_filtered))\n",
    "print(num_small_arrs/len(predictions_filtered), 'were <3 length preds array without answer')"
   ]
  },
  {
   "cell_type": "code",
   "execution_count": 121,
   "id": "e531dfe2",
   "metadata": {},
   "outputs": [
    {
     "data": {
      "text/plain": [
       "0.30873333333333336"
      ]
     },
     "execution_count": 121,
     "metadata": {},
     "output_type": "execute_result"
    }
   ],
   "source": [
    "count2/len(predictions_filtered)"
   ]
  },
  {
   "cell_type": "code",
   "execution_count": 79,
   "id": "8b079bfb",
   "metadata": {},
   "outputs": [],
   "source": [
    "id = 0\n",
    "inputs = scores_data['input_strings'][id]\n",
    "preds = predictions_filtered[id]\n",
    "preds = sorted(preds.items(), key=lambda item: -item[1])\n",
    "target = scores_data['target_strings'][id]"
   ]
  },
  {
   "cell_type": "code",
   "execution_count": 106,
   "id": "75768b24",
   "metadata": {},
   "outputs": [
    {
     "name": "stdout",
     "output_type": "stream",
     "text": [
      "predict tail: trade name, NN -- a name given to a product or service | member of domain usage Target: metharbital, NN -- anticonvulsant drug (trade name Gemonil) used in the treatment of epilepsy\n"
     ]
    },
    {
     "data": {
      "text/plain": [
       "([('tolbutamide, NN -- sulfonylurea', -inf),\n",
       "  ('serzone, NN -- an antidepressant drug (trade name Serzone)', -inf),\n",
       "  ('procardia, NN -- calcium blocker (trade name Procardia)', -inf),\n",
       "  ('sanitary towel, NN -- a disposable absorbent pad (trade name Kotex)',\n",
       "   -inf),\n",
       "  ('prosom, NN -- a frequently prescribed sleeping pill (trade name ProSom)',\n",
       "   -inf)],\n",
       " 'metharbital, NN -- anticonvulsant drug (trade name Gemonil) used in the treatment of epilepsy')"
      ]
     },
     "execution_count": 106,
     "metadata": {},
     "output_type": "execute_result"
    }
   ],
   "source": [
    "print(inputs, 'Target:', target)\n",
    "preds[:10], target"
   ]
  },
  {
   "cell_type": "code",
   "execution_count": 482,
   "id": "b8d6fa84",
   "metadata": {},
   "outputs": [
    {
     "name": "stdout",
     "output_type": "stream",
     "text": [
      "32 predict tail: ali kazemaini | birthplace | tehran\n",
      "34 predict tail: ashta, maharashtra | instance of | human settlement\n",
      "37 predict tail: roy shaw 0 | instance of | human being\n",
      "40 predict tail: t. canby jones | has surname | jones (family name)\n",
      "45 predict tail: naveen kumar | instance of | human being\n",
      "46 predict tail: barlow respiratory hospital | host country | united states of america\n",
      "48 predict tail: camiling | office held by head of government | mayor\n",
      "51 predict tail: hazel soan | instance of | human being\n",
      "52 predict tail: efrain herrera | sport played | association football\n",
      "53 predict tail: oluf munck | instance of | human being\n",
      "54 predict tail: thomas gilchrist | instance of | human being\n",
      "58 predict tail: desmoplastic fibroma | subclass of | fibroma\n"
     ]
    },
    {
     "data": {
      "text/plain": [
       "('count', 12)"
      ]
     },
     "execution_count": 482,
     "metadata": {},
     "output_type": "execute_result"
    }
   ],
   "source": [
    "# only head/tails\n",
    "count = 0\n",
    "for id in range(60,120, 2):\n",
    "    inputs = scores_data['input_strings'][id]\n",
    "    preds = predictions_filtered[id]\n",
    "    preds = sorted(preds.items(), key=lambda item: -item[1])\n",
    "    target = scores_data['target_strings'][id]\n",
    "    pred1 = preds[0][0]\n",
    "    if pred1 == target:\n",
    "        print(int(id/2), inputs, pred1)\n",
    "        count += 1\n",
    "'count', count"
   ]
  },
  {
   "cell_type": "code",
   "execution_count": 419,
   "id": "811dccc3",
   "metadata": {},
   "outputs": [
    {
     "data": {
      "text/html": [
       "print(\"<a href='your_url_here'>Showing Text</a>\")\n"
      ],
      "text/plain": [
       "<IPython.core.display.HTML object>"
      ]
     },
     "metadata": {},
     "output_type": "display_data"
    }
   ],
   "source": [
    "%%html\n",
    "print(\"<a href='your_url_here'>Showing Text</a>\")\n"
   ]
  },
  {
   "cell_type": "code",
   "execution_count": 364,
   "id": "36ee8176",
   "metadata": {},
   "outputs": [
    {
     "data": {
      "text/plain": [
       "'Q4121082'"
      ]
     },
     "execution_count": 364,
     "metadata": {},
     "output_type": "execute_result"
    }
   ],
   "source": [
    "e2wdid['pakistan']"
   ]
  },
  {
   "cell_type": "code",
   "execution_count": 174,
   "id": "8dee3a2d",
   "metadata": {},
   "outputs": [],
   "source": [
    "sequences = ['english', 'english language', 'french']\n",
    "t = Trie(sequences)"
   ]
  },
  {
   "cell_type": "code",
   "execution_count": 178,
   "id": "fdb192fb",
   "metadata": {},
   "outputs": [
    {
     "data": {
      "text/plain": [
       "[]"
      ]
     },
     "execution_count": 178,
     "metadata": {},
     "output_type": "execute_result"
    }
   ],
   "source": [
    "t.get('x')"
   ]
  },
  {
   "cell_type": "code",
   "execution_count": null,
   "id": "42d6aa43",
   "metadata": {},
   "outputs": [],
   "source": []
  }
 ],
 "metadata": {
  "kernelspec": {
   "display_name": "Python 3 (ipykernel)",
   "language": "python",
   "name": "python3"
  },
  "language_info": {
   "codemirror_mode": {
    "name": "ipython",
    "version": 3
   },
   "file_extension": ".py",
   "mimetype": "text/x-python",
   "name": "python",
   "nbconvert_exporter": "python",
   "pygments_lexer": "ipython3",
   "version": "3.8.11"
  }
 },
 "nbformat": 4,
 "nbformat_minor": 5
}

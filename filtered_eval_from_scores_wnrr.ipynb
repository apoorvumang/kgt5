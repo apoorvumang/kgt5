{
 "cells": [
  {
   "cell_type": "code",
   "execution_count": 1,
   "id": "49aba755",
   "metadata": {},
   "outputs": [],
   "source": [
    "import pickle"
   ]
  },
  {
   "cell_type": "code",
   "execution_count": 2,
   "id": "81d5f81b",
   "metadata": {},
   "outputs": [],
   "source": [
    "import os\n",
    "from tqdm import tqdm\n",
    "from typing import Dict\n",
    "from collections import defaultdict\n",
    "import numpy as np\n",
    "\n",
    "def softmax(x):\n",
    "    \"\"\"Compute softmax values for each sets of scores in x.\"\"\"\n",
    "    return np.exp(x) / np.sum(np.exp(x), axis=0)\n",
    "\n",
    "def numLines(fname):\n",
    "    with open(fname) as f:\n",
    "        for i, l in enumerate(f):\n",
    "            pass\n",
    "    return i + 1\n",
    "def loadData(filename, max_points):\n",
    "    file_len = numLines(filename)\n",
    "    f = open(filename, 'r')\n",
    "    inputs = []\n",
    "    outputs = []\n",
    "    for i in tqdm(range(file_len)):\n",
    "        if i == max_points:\n",
    "            break\n",
    "        line = f.readline()\n",
    "        if line[-1] == '\\n':\n",
    "            line = line[:-1]\n",
    "        line = line.split('\\t')\n",
    "        inputs.append(line[0])\n",
    "        outputs.append(line[1])\n",
    "    data = {'inputs': inputs, 'outputs': outputs}\n",
    "    return data\n",
    "        \n",
    "def load_entity_strings(filename):\n",
    "    with open(filename) as f:\n",
    "        lines = f.read().splitlines()\n",
    "    return lines\n",
    "\n",
    "def get_entity_wd_id_dict(filename):\n",
    "    out = {}\n",
    "    f = open(filename, 'r')\n",
    "    for line in f:\n",
    "        if line[-1] == '\\n':\n",
    "            line = line[:-1]\n",
    "        line = line.split('\\t')\n",
    "        out[line[1]] = line[0]\n",
    "    return out\n",
    "    \n",
    "\n",
    "def create_filter_dict(data) -> Dict[str, int]:\n",
    "    filter_dict = defaultdict(list)\n",
    "    for input, output in zip(data[\"inputs\"], data[\"outputs\"]):\n",
    "        filter_dict[input].append(output)\n",
    "    return filter_dict\n",
    "\n",
    "def getAllFilteringEntities(input, filter_dicts):\n",
    "    entities = []\n",
    "    splits = ['train', 'test', 'valid']\n",
    "    for s in splits:\n",
    "        entities.extend(filter_dicts[s][input])\n",
    "    return list(set(entities))\n",
    "\n",
    "def wikidata_link_from_id(id):\n",
    "    uri = 'https://www.wikidata.org/wiki/' + id\n",
    "    return uri"
   ]
  },
  {
   "cell_type": "code",
   "execution_count": 3,
   "id": "255f8111",
   "metadata": {},
   "outputs": [],
   "source": [
    "dataset_name = 'wnrr'\n",
    "entity_strings = load_entity_strings(os.path.join(\"data\", dataset_name, \"entity_strings.txt\"))"
   ]
  },
  {
   "cell_type": "code",
   "execution_count": 4,
   "id": "45ee97cb",
   "metadata": {},
   "outputs": [
    {
     "data": {
      "text/plain": [
       "40943"
      ]
     },
     "execution_count": 4,
     "metadata": {},
     "output_type": "execute_result"
    }
   ],
   "source": [
    "entity_strings_set = set(entity_strings)\n",
    "len(entity_strings_set)"
   ]
  },
  {
   "cell_type": "code",
   "execution_count": 5,
   "id": "51647083",
   "metadata": {},
   "outputs": [
    {
     "name": "stderr",
     "output_type": "stream",
     "text": [
      "100%|█████████████████████████████████████████████████████| 173670/173670 [00:00<00:00, 691097.89it/s]\n",
      "100%|█████████████████████████████████████████████████████████| 6068/6068 [00:00<00:00, 419803.99it/s]\n",
      "100%|█████████████████████████████████████████████████████████| 6268/6268 [00:00<00:00, 358808.48it/s]\n"
     ]
    }
   ],
   "source": [
    "data = {}\n",
    "splits = ['train', 'valid', 'test']\n",
    "dataset_name = 'wnrr'\n",
    "for split in splits:\n",
    "    data[split] = loadData(os.path.join('data', dataset_name, split + '.txt'), -1)"
   ]
  },
  {
   "cell_type": "code",
   "execution_count": 6,
   "id": "616e3b45",
   "metadata": {},
   "outputs": [],
   "source": [
    "filter_dicts = {}\n",
    "splits = ['train', 'valid', 'test']\n",
    "for split in splits:\n",
    "    filter_dicts[split] = create_filter_dict(data[split])"
   ]
  },
  {
   "cell_type": "code",
   "execution_count": 107,
   "id": "13a5a068",
   "metadata": {},
   "outputs": [],
   "source": [
    "# fname = 'scores.pickle'\n",
    "# fname = 'scores/scores_full_codexm_small.pickle'\n",
    "fname = 'scores/scores_wnrr_small_200.pickle'\n",
    "# fname = 'scores_500_base_trie.pickle'\n",
    "scores_data = pickle.load(open(fname, 'rb'))"
   ]
  },
  {
   "cell_type": "code",
   "execution_count": 108,
   "id": "2194d51a",
   "metadata": {},
   "outputs": [
    {
     "data": {
      "text/plain": [
       "['lincomycin, NN -- antibiotic (trade name Lincocin) obtained from a streptomyces bacterium and used in the treatment of certain penicillin-resistant infections',\n",
       " 'mephobarbital, NN -- a long-acting crystalline barbiturate (trade name Mebaral) used as a sedative and as an anticonvulsant in the treatment of epilepsy',\n",
       " 'tambocor, NN -- oral antiarrhythmic medication (trade name Tambocor) used as a last resort in treating arrhythmias',\n",
       " 'prosom, NN -- a frequently prescribed sleeping pill (trade name ProSom)',\n",
       " 'procaine, NN -- a white crystalline powder (trade name Ethocaine) administered near nerves as a local anesthetic in dentistry and medicine',\n",
       " 'proschiclof, NN -- a nonsteroidal anti-inflammatory drug (trade name Mavik) that is administered only orally',\n",
       " 'triazolam, NN -- a form of benzodiazepine (trade name Halcion) frequently prescribed as a sleeping pill',\n",
       " 'ritalin, NN -- central nervous system stimulant (trade name Ritalin) used in the treatment of narcolepsy in adults and attention deficit disorder in children',\n",
       " 'zocor, NN -- an oral lipid-lowering medicine (trade name Zocor) administered to reduce blood cholesterol levels',\n",
       " 'trinitroglycerin, NN -- a heavy yellow poisonous oily explosive liquid obtained by nitrating glycerol',\n",
       " 'polaroid, NN -- (trade mark) a plastic film that can polarize a beam of light',\n",
       " 'mesantoin, NN -- a toxic anticonvulsant drug (trade name Mesantoin) used in the treatment of epilepsy when less toxic anticonvulsants have been ineffective',\n",
       " 'vasopressin, NN -- hormone secreted by the posterior pituitary gland (trade name Pitressin) and also by nerve endings in the hypothalamus',\n",
       " 'cerivastatin, NN -- an oral drug (trade name Baycol) to reduce blood cholesterol levels',\n",
       " 'thioridazine, NN -- a tranquilizer (trade name Mellaril) used to treat schizophrenia and other psychotic disorders',\n",
       " 'flexeril, NN -- muscle relaxant (trade name Flexeril) used for muscle spasms or acute injury',\n",
       " 'nandrolone, NN -- an androgen (trade names Durabolin or Kabolin) that is used to treat testosterone deficiency or breast cancer or osteoporosis',\n",
       " 'tazicef, NN -- a parenteral cephalosporin (trade names Fortaz and Tazicef) used to treat moderate infections',\n",
       " 'tonocard, NN -- antiarrhythmic drug (trade name Tonocard) used to treat ventricular arrhythmias when less dangerous drugs have failed',\n",
       " 'phenphenelzine, NN -- monoamine oxidase inhibitor (trade name Nardil) used to treat clinical depression',\n",
       " 'pneumovax, NN -- vaccine (trade name Pneumovax) effective against the 23 most common strains of pneumococcus',\n",
       " 'neomycin, NN -- an antibiotic obtained from an actinomycete and used (as a sulphate under the trade name Neobiotic) as an intestinal antiseptic in surgery',\n",
       " 'flurazepam hydrochloride, NN -- tranquilizer (trade name Dalmane) used to treat insomnia',\n",
       " 'triazolam, NN -- a form of benzodiazepine (trade name Halcion) frequently prescribed as a sleeping pill',\n",
       " 'vioxx, NN -- a Cox-2 inhibitor (trade name Vioxx) that relieves pain and inflammation without harming the digestive tract',\n",
       " 'metformin, NN -- an antidiabetic drug (trade name Glucophage) prescribed to treat type II diabetes',\n",
       " 'griseofulvin, NN -- a kind of penicillin (a fungicidal antibiotic with the trade name Fulvicin) produced by molds of the genus Penicillium',\n",
       " 'lorazepam, NN -- tranquilizer (trade name Ativan) used to treat anxiety and tension and insomnia',\n",
       " 'tolbutamide, NN -- sulfonylurea',\n",
       " 'oxaprozin, NN -- a nonsteroidal anti-inflammatory drug (trade name Daypro)',\n",
       " 'timolol, NN -- a beta blocker (trade name Blocadren) administered after heart attacks',\n",
       " 'flurbiprofen, NN -- a nonsteroidal anti-inflammatory drug (trade name Ansaid) that is administered only orally',\n",
       " 'nadolol, NN -- a beta-adrenergic blocking agent (trade name Corgard) that is used to treat hypertension and angina',\n",
       " 'pitocin, NN -- hormone secreted by the posterior pituitary gland (trade name Pitocin)',\n",
       " 'periactin, NN -- an antihistamine (trade name Periactin) used to treat some allergic reactions',\n",
       " 'ipratropium bromide, NN -- an inhaled bronchodilator (trade name Atrovent)',\n",
       " 'quinora, NN -- cardiac drug (trade names Quinidex and Quinora) used to treat certain heart arrhythmias',\n",
       " 'pyridium, NN -- analgesic (trade name Pyridium) used to treat urinary tract infections',\n",
       " 'lozal, NN -- diuretic (trade name Lozal) used in the treatment of hypertension',\n",
       " 'lorazepam, NN -- tranquilizer (trade name Ativan) used to treat anxiety and tension and insomnia',\n",
       " 'pitocin, NN -- hormone secreted by the posterior pituitary gland (trade name Pitocin)',\n",
       " 'tazicef, NN -- a parenteral cephalosporin (trade names Fortaz and Tazicef) used to treat moderate infections',\n",
       " 'procaine hydrochloride, NN -- procaine administered as a hydrochloride (trade name Novocain)',\n",
       " 'tetracycline, NN -- an antibiotic (trade name Achromycin) derived from microorganisms of the genus Streptomyces and used broadly to treat infections',\n",
       " 'methyldopa, NN -- antihypertensive drug (trade name Aldomet) used in the treatment of high blood pressure',\n",
       " 'neomycin, NN -- an antibiotic obtained from an actinomycete and used (as a sulphate under the trade name Neobiotic) as an intestinal antiseptic in surgery',\n",
       " 'xanax, NN -- an antianxiety agent (trade name Xanax) of the benzodiazepine class',\n",
       " 'griseofulvin, NN -- a kind of penicillin (a fungicidal antibiotic with the trade name Fulvicin) produced by molds of the genus Penicillium',\n",
       " 'griseofulvin, NN -- a kind of penicillin (a fungicidal antibiotic with the trade name Fulvicin) produced by molds of the genus Penicillium',\n",
       " 'theelin, NN -- a naturally occurring weak estrogenic hormone secreted by the mammalian ovary',\n",
       " 'timolol, NN -- a beta blocker (trade name Blocadren) administered after heart attacks',\n",
       " 'methyldopa, NN -- antihypertensive drug (trade name Aldomet) used in the treatment of high blood pressure',\n",
       " 'oxaprozin, NN -- a nonsteroidal anti-inflammatory drug (trade name Daypro)',\n",
       " 'tolbutamide, NN -- sulfonylurea',\n",
       " 'st. joseph, NN -- the acetylated derivative of salicylic acid',\n",
       " 'tambocor, NN -- oral antiarrhythmic medication (trade name Tambocor) used as a last resort in treating arrhythmias',\n",
       " 'vinblastine, NN -- periwinkle plant derivative used as an antineoplastic drug (trade name Velban) that disrupts cell division',\n",
       " 'sectral, NN -- an oral beta blocker (trade name Sectral) used in treating hypertension',\n",
       " 'prostigmin, NN -- a cholinergic drug (trade name Prostigmin) used to treat some ophthalmic conditions and to treat myasthenia gravis',\n",
       " 'propoxyphene hydrochloride, NN -- a mildly narcotic analgesic drug (trade name Darvon) related to methadone but less addictive',\n",
       " 'diuril, NN -- a diuretic drug (trade name Diuril) used in the treatment of edema and hypertension',\n",
       " 'lincomycin, NN -- antibiotic (trade name Lincocin) obtained from a streptomyces bacterium and used in the treatment of certain penicillin-resistant infections',\n",
       " 'sucralfate, NN -- medicine consisting of a tablet (trade name Carafate) used to treat peptic ulcers',\n",
       " 'dimethyl andthualler, NN -- a general term for antihypertensive drug (trade name Aldomet) used in the treatment of high blood pressure',\n",
       " 'tobramycin, NN -- an antibiotic (trade name Nebcin) that is especially effective against Gram-negative bacteria',\n",
       " 'tambocor, NN -- oral antiarrhythmic medication (trade name Tambocor) used as a last resort in treating arrhythmias',\n",
       " 'triamcinolone, NN -- a synthetic corticosteroid (trade names Aristocort or Aristopak or Kenalog) used as an anti-inflammatory agent',\n",
       " 'thimerosal, NN -- a light-colored crystalline powder (trade name Merthiolate) used as a surgical antiseptic',\n",
       " 'plavix, NN -- a blood thinner (trade name Plavix) approved for the treatment of mild heart attacks',\n",
       " 'tandearil, NN -- an anti-inflammatory drug (trade name Tandearil) used to treat arthritis and bursitis',\n",
       " 'thiopentobarbital sodium, NN -- barbiturate that is a hygroscopic powder (trade name Pentothal) that is a strong barbiturate that acts rapidly',\n",
       " 'oruvail, NN -- nonsteroidal anti-inflammatory drug (trade names Orudis or Orudis KT or Oruvail)',\n",
       " 'valproic acid, NN -- anticonvulsant (trade name Depokene) used to prevent some kinds of seizures',\n",
       " 'keftab, NN -- an oral cephalosporin (trade names Keflex and Keflin and Keftab) commonly prescribe for mild to moderately severe infections of the skin or ears or throat or lungs or urinary tract',\n",
       " 'periactin, NN -- an antihistamine (trade name Periactin) used to treat some allergic reactions',\n",
       " 'cortone acetate, NN -- a corticosteroid hormone (trade name Cortone Acetate) normally produced by the adrenal cortex',\n",
       " 'pneumovax, NN -- vaccine (trade name Pneumovax) effective against the 23 most common strains of pneumococcus',\n",
       " 'nalfon, NN -- a nonsteroidal anti-inflammatory drug (trade name Nalfon) used in the treatment of arthritis and other painful inflammatory disorders',\n",
       " 'vistaril, NN -- a drug (trade names Atarax and Vistaril) used as a tranquilizer to treat anxiety and motion sickness',\n",
       " 'narcan, NN -- a potent narcotic antagonist (trade name Narcan) especially effective with morphine',\n",
       " 'prilosec, NN -- antacid (trade name Prilosec) that suppresses acid secretion in the stomach',\n",
       " 'glucotrol, NN -- an oral antidiabetic drug (trade name Glucotrol) that stimulates the release of insulin from the pancreas',\n",
       " 'voltaren, NN -- a nonsteroidal anti-inflammatory drug (trade name Voltaren) that is administered only orally',\n",
       " 'pepcid, NN -- a histamine blocker (trade name Pepcid) used to treat peptic ulcers and gastritis and esophageal reflux',\n",
       " 'triamide, NN -- an antibacterial drug (trade names Orase and Brocadometry) used to treat moderate permeability and the absorption of fluids',\n",
       " 'prostigmin, NN -- a cholinergic drug (trade name Prostigmin) used to treat some ophthalmic conditions and to treat myasthenia gravis',\n",
       " 'zantac, NN -- a histamine blocker and antacid (trade name Zantac) used to treat peptic ulcers and gastritis and esophageal reflux',\n",
       " 'phenelzine, NN -- monoamine oxidase inhibitor (trade name Nardil) used to treat clinical depression',\n",
       " 'thiopentobarbital sodium, NN -- barbiturate that is a hygroscopic powder (trade name Pentothal) that is a strong barbiturate that acts rapidly',\n",
       " 'thedil, NN -- productive work (trade name Cipro) used to treat genital asthma and to stimulate the heart',\n",
       " 'lodine, NN -- a nonsteroidal anti-inflammatory drug (trade name Lodine)',\n",
       " 'lodine, NN -- a nonsteroidal anti-inflammatory drug (trade name Lodine)',\n",
       " 'serpasil, NN -- antihypertensive consisting of an alkaloid extracted from the plant Rauwolfia serpentina (trade names Raudixin or Rau-Sed or Sandril or Serpasil)',\n",
       " 'xanax, NN -- an antianxiety agent (trade name Xanax) of the benzodiazepine class',\n",
       " 'cortone acetate, NN -- a corticosteroid hormone (trade name Cortone Acetate) normally produced by the adrenal cortex',\n",
       " 'tambocor, NN -- oral antiarrhythmic medication (trade name Tambocor) used as a last resort in treating arrhythmias',\n",
       " 'oxaprozin, NN -- a nonsteroidal anti-inflammatory drug (trade name Daypro)',\n",
       " 'methyldopa, NN -- antihypertensive drug (trade name Aldomet) used in the treatment of high blood pressure',\n",
       " 'oxaprozin, NN -- a nonsteroidal anti-inflammatory drug (trade name Daypro)',\n",
       " 'thrazodone hydrochloride, NN -- oral antidepressant (trade name Desyrel) that is a nontricyclic drug used as a sedative',\n",
       " 'esmolol, NN -- intravenous beta blocker (trade name Brevibloc) that acts for only a short time',\n",
       " 'wytensin, NN -- antihypertensive drug (trade name Wytensin) that reduces blood pressure by its effect on the central nervous system',\n",
       " 'hydroxide, NN -- an antihypertensive drug (trade name Hytrin) used to treat high blood pressure',\n",
       " 'flexeril, NN -- muscle relaxant (trade name Flexeril) used for muscle spasms or acute injury',\n",
       " 'sectral, NN -- an oral beta blocker (trade name Sectral) used in treating hypertension',\n",
       " 'hyperstat, NN -- vasodilator (trade name Hyperstat) used to treat severe hypertension',\n",
       " 'mexitil, NN -- antiarrhythmic drug (trade name Mexitil) used to treat ventricular arrhythmias',\n",
       " 'serpasil, NN -- antihypertensive consisting of an alkaloid extracted from the plant Rauwolfia serpentina (trade names Raudixin or Rau-Sed or Sandril or Serpasil)',\n",
       " 'timolol, NN -- a beta blocker (trade name Blocadren) administered after heart attacks',\n",
       " 'lodine, NN -- a nonsteroidal anti-inflammatory drug (trade name Lodine)',\n",
       " 'progesterone, NN -- a steroid hormone (trade name Lipo-Lutin) produced in the ovary',\n",
       " 'triazolam, NN -- a form of benzodiazepine (trade name Halcion) frequently prescribed as a sleeping pill',\n",
       " 'procaine hydrochloride, NN -- procaine administered as a hydrochloride (trade name Novocain)',\n",
       " 'nuprin, NN -- a nonsteroidal anti-inflammatory and analgesic medicine (trade names Advil and Motrin and Nuprin) used to relieve the pain of arthritis and as an antipyretic',\n",
       " 'propoxyphene hydrochloride, NN -- a mildly narcotic analgesic drug (trade name Darvon) related to methadone but less addictive',\n",
       " 'sylbutazone, NN -- anti-inflammatory drug (trade name Butazolidin)',\n",
       " 'tambocor, NN -- oral antiarrhythmic medication (trade name Tambocor) used as a last resort in treating arrhythmias',\n",
       " 'polaroid land camera, NN -- a camera that produces a photosensitive and produces a positive print within seconds',\n",
       " 'trifoliate, NN -- street names for cephalosporin and a variety of bent antibiotic (trade name Mycostatin) used or epilepsying the steering hormones or a variety of epilepsy',\n",
       " 'griseofulvin, NN -- a kind of penicillin (a fungicidal antibiotic with the trade name Fulvicin) produced by molds of the genus Penicillium',\n",
       " 'lincomycin, NN -- antibiotic (trade name Lincocin) obtained from a streptomyces bacterium and used in the treatment of certain penicillin-resistant infections',\n",
       " 'phensuximide, NN -- anticonvulsant (trade name Milontin) used to treat petit mal',\n",
       " 'sectral, NN -- an oral beta blocker (trade name Sectral) used in treating hypertension',\n",
       " 'nystatin, NN -- an antifungal and antibiotic (trade names Mycostatin and Nystan) discovered in New York State',\n",
       " 'progesterone, NN -- a steroid hormone (trade name Lipo-Lutin) produced in the ovary',\n",
       " 'pravastatin, NN -- an oral drug (trade name Pravachol) administered to reduce blood cholesterol levels',\n",
       " 'pediamycin, NN -- an antibiotic (trade name Erythrocin or E-Mycin or Ethril or Ilosone or Pediamycin) obtained from the actinomycete Streptomyces erythreus',\n",
       " 'diclostril, NN -- a crystalline blocker (trade name Mycostatin) used to treat esothoc acid',\n",
       " 'phenylbutazone, NN -- anti-inflammatory drug (trade name Butazolidin)',\n",
       " 'tonocard, NN -- antiarrhythmic drug (trade name Tonocard) used to treat ventricular arrhythmias when less dangerous drugs have failed',\n",
       " 'xanax, NN -- an antianxiety agent (trade name Xanax) of the benzodiazepine class',\n",
       " 'lincomycin, NN -- antibiotic (trade name Lincocin) obtained from a streptomyces bacterium and used in the treatment of certain penicillin-resistant infections',\n",
       " 'thiothixene, NN -- a tranquilizer (trade name Navane) used to treat schizophrenia',\n",
       " 'terbinafine, NN -- an oral antifungal drug (trade name Lamisil) used to treat cases of fungal nail disease',\n",
       " 'ritalin, NN -- central nervous system stimulant (trade name Ritalin) used in the treatment of narcolepsy in adults and attention deficit disorder in children',\n",
       " 'microzide, NN -- a diuretic drug (trade name Microzide, Esidrix, and HydroDIURIL) used in the treatment of hypertension',\n",
       " 'levodopa, NN -- the levorotatory form of dopa (trade names Bendopa and Brocadopa and Larodopa)',\n",
       " 'clonidine, NN -- an antihypertensive (trade name Catapres) that can be administered orally or via transdermal patches',\n",
       " 'clonidine, NN -- an antihypertensive (trade name Catapres) that can be administered orally or via transdermal patches',\n",
       " 'toradol, NN -- nonsteroidal anti-inflammatory drug (trade names Acular and Toradol) that is administered only intramuscularly',\n",
       " 'clonidine, NN -- an antihypertensive (trade name Catapres) that can be administered orally or via transdermal patches',\n",
       " 'voltaren, NN -- a nonsteroidal anti-inflammatory drug (trade name Voltaren) that is administered only orally',\n",
       " 'phenytoin, NN -- an anticonvulsant drug (trade name Dilantin) used to treat epilepsy and that is not a sedative',\n",
       " 'serzone, NN -- an antidepressant drug (trade name Serzone)',\n",
       " 'timolol, NN -- a beta blocker (trade name Blocadren) administered after heart attacks',\n",
       " 'tofranil, NN -- a tricyclic antidepressant (trade names Imavate and Tofranil) used to treat clinical depression',\n",
       " 'diclofenac potassium, NN -- a nonsteroidal anti-inflammatory drug (trade name Cataflam)',\n",
       " 'visken, NN -- an oral beta blocker (trade name Visken) used in treating hypertension',\n",
       " 'voltaren, NN -- a nonsteroidal anti-inflammatory drug (trade name Voltaren) that is administered only orally',\n",
       " 'prosom, NN -- a frequently prescribed sleeping pill (trade name ProSom)',\n",
       " 'sulfisoxazole, NN -- a sulfonamide (trade name Gantrisin) used to treat infections of the urinary tract',\n",
       " 'triavil, NN -- tranquilizer and antidepressant (trade name Triavil) sometimes used as an antiemetic for adults',\n",
       " 'sectral, NN -- an oral beta blocker (trade name Sectral) used in treating hypertension',\n",
       " 'flurbiprofen, NN -- a nonsteroidal anti-inflammatory drug (trade name Ansaid) that is administered only orally',\n",
       " 'tambocor, NN -- oral antiarrhythmic medication (trade name Tambocor) used as a last resort in treating arrhythmias',\n",
       " 'meclomen, NN -- a nonsteroidal anti-inflammatory (trade name Meclomen) used to treat arthritis',\n",
       " 'thiopentobarbital sodium, NN -- barbiturate that is a hygroscopic powder (trade name Pentothal) that is a strong barbiturate that acts rapidly',\n",
       " 'inocor, NN -- a drug (trade name Inocor) used intravenously in heart failure',\n",
       " 'viagra, NN -- virility drug (trade name Viagra) used to treat erectile dysfunction in men',\n",
       " 'mephobarbital, NN -- a long-acting crystalline barbiturate (trade name Mebaral) used as a sedative and as an anticonvulsant in the treatment of epilepsy',\n",
       " 'tonocard, NN -- antiarrhythmic drug (trade name Tonocard) used to treat ventricular arrhythmias when less dangerous drugs have failed',\n",
       " 'procyclidine, NN -- drug (trade name Kemadrin) used to reduce tremors in Parkinsonism',\n",
       " 'nadolol, NN -- a beta-adrenergic blocking agent (trade name Corgard) that is used to treat hypertension and angina',\n",
       " 'nystatin, NN -- an antifungal and antibiotic (trade names Mycostatin and Nystan) discovered in New York State',\n",
       " 'sectral, NN -- an oral beta blocker (trade name Sectral) used in treating hypertension',\n",
       " 'provera, NN -- a progestin compound (trade name Provera) used to treat menstrual disorders',\n",
       " 'trandolapril, NN -- an ACE inhibiting drug (trade name Mavik) used in some patients after a heart attack or to treat hypertension',\n",
       " 'microzide, NN -- a diuretic drug (trade name Microzide, Esidrix, and HydroDIURIL) used in the treatment of hypertension',\n",
       " 'voltaren, NN -- a nonsteroidal anti-inflammatory drug (trade name Voltaren) that is administered only orally',\n",
       " 'triavil, NN -- tranquilizer and antidepressant (trade name Triavil) sometimes used as an antiemetic for adults',\n",
       " 'etanercept, NN -- a genetically engineered anti-TNF compound (trade name Enbrel) consisting of receptors that bind TNF',\n",
       " 'triavil, NN -- tranquilizer and antidepressant (trade name Triavil) sometimes used as an antiemetic for adults',\n",
       " 'prednisone, NN -- a dehydrogenated analogue of cortisol (trade names Orasone or Deltasone or Liquid Pred or Meticorten)',\n",
       " 'zimmer frame, NN -- a light enclosing framework (trade name Zimmer) with rubber castors or wheels and handles',\n",
       " 'zocor, NN -- an oral lipid-lowering medicine (trade name Zocor) administered to reduce blood cholesterol levels',\n",
       " 'plavix, NN -- a blood thinner (trade name Plavix) approved for the treatment of mild heart attacks',\n",
       " 'toradol, NN -- nonsteroidal anti-inflammatory drug (trade names Acular and Toradol) that is administered only intramuscularly',\n",
       " 'polaroid, NN -- (trade mark) a plastic film that can polarize a beam of light',\n",
       " 'mephobarbital, NN -- a long-acting crystalline barbiturate (trade name Mebaral) used as a sedative and as an anticonvulsant in the treatment of epilepsy',\n",
       " 'tumsin, NN -- an antihypertensive drug (trade name Wytensin) that reduces blood pressure by its effect on the central nervous system',\n",
       " 'narcan, NN -- a potent narcotic antagonist (trade name Narcan) especially effective with morphine',\n",
       " 'hydrocortone, NN -- an adrenal-cortex hormone (trade names Hydrocortone or Cortef) that is active in carbohydrate and protein metabolism',\n",
       " 'nystatin, NN -- an antifungal and antibiotic (trade names Mycostatin and Nystan) discovered in New York State',\n",
       " 'zarontin, NN -- an anticonvulsant drug (trade names Emeside and Zarontin) used to treat petit mal epilepsy',\n",
       " 'ramipril, NN -- an ACE inhibitor (trade name Altace) used to treat high blood pressure or in some patients who have had a heart attack',\n",
       " 'pamelor, NN -- a tricyclic antidepressant drug (trade name Pamelor) used along with psychotherapy to treat dysthymic depression',\n",
       " 'pitocin, NN -- hormone secreted by the posterior pituitary gland (trade name Pitocin)',\n",
       " 'sporanox, NN -- an oral antifungal drug (trade name Sporanox) taken for cases of fungal nail disease',\n",
       " 'clonidine, NN -- an antihypertensive (trade name Catapres) that can be administered orally or via transdermal patches',\n",
       " 'prevacid, NN -- antacid (trade name Prevacid) that suppresses acid secretion in the stomach',\n",
       " 'thiopentobarbital sodium, NN -- barbiturate that is a hygroscopic powder (trade name Pentothal) that is a strong barbiturate that acts rapidly',\n",
       " 'rocephin, NN -- a parenteral cephalosporin (trade name Rocephin) used for severe infection of the lungs or throat or ears or urinary tract',\n",
       " 'tambocor, NN -- oral antiarrhythmic medication (trade name Tambocor) used as a last resort in treating arrhythmias',\n",
       " 'methyldopa, NN -- antihypertensive drug (trade name Aldomet) used in the treatment of high blood pressure',\n",
       " 'vinblastine, NN -- periwinkle plant derivative used as an antineoplastic drug (trade name Velban) that disrupts cell division',\n",
       " 'ipratropium bromide, NN -- an inhaled bronchodilator (trade name Atrovent)',\n",
       " 'phenytoin, NN -- an anticonvulsant drug (trade name Dilantin) used to treat epilepsy and that is not a sedative',\n",
       " 'lincomycin, NN -- antibiotic (trade name Lincocin) obtained from a streptomyces bacterium and used in the treatment of certain penicillin-resistant infections',\n",
       " 'vioxx, NN -- a Cox-2 inhibitor (trade name Vioxx) that relieves pain and inflammation without harming the digestive tract',\n",
       " 'thorazine, NN -- a drug (trade name Thorazine) derived from phenothiazine that has antipsychotic effects and is used as a sedative and tranquilizer']"
      ]
     },
     "execution_count": 108,
     "metadata": {},
     "output_type": "execute_result"
    }
   ],
   "source": [
    "scores_data['prediction_strings'][0]"
   ]
  },
  {
   "cell_type": "code",
   "execution_count": 109,
   "id": "9bff88b0",
   "metadata": {},
   "outputs": [
    {
     "name": "stderr",
     "output_type": "stream",
     "text": [
      "6268it [00:00, 11100.45it/s]\n"
     ]
    }
   ],
   "source": [
    "predictions_scores_dicts = []\n",
    "for string_arr, score_arr in tqdm(zip(scores_data['prediction_strings'], scores_data['scores'])):\n",
    "    ps_pairs = [(p,s) for p,s in zip(string_arr, score_arr)]\n",
    "    ps_pairs = list(set(ps_pairs)) # while sampling, duplicates are created\n",
    "    # remove predictions that are not entities\n",
    "    ps_dict_only_entities = defaultdict(list)\n",
    "    for ps in ps_pairs:\n",
    "        if ps[0] in entity_strings_set:\n",
    "            ps_dict_only_entities[ps[0]] = ps[1]\n",
    "    predictions_scores_dicts.append(ps_dict_only_entities)"
   ]
  },
  {
   "cell_type": "code",
   "execution_count": 110,
   "id": "45377700",
   "metadata": {},
   "outputs": [
    {
     "data": {
      "text/plain": [
       "128"
      ]
     },
     "execution_count": 110,
     "metadata": {},
     "output_type": "execute_result"
    }
   ],
   "source": [
    "max([len(predictions_scores_dicts[x]) for x in range(500)])"
   ]
  },
  {
   "cell_type": "code",
   "execution_count": 111,
   "id": "f565355b",
   "metadata": {
    "scrolled": true
   },
   "outputs": [
    {
     "name": "stdout",
     "output_type": "stream",
     "text": [
      "predict tail: trade name, NN -- a name given to a product or service | member of domain usage ||| metharbital, NN -- anticonvulsant drug (trade name Gemonil) used in the treatment of epilepsy\n"
     ]
    },
    {
     "data": {
      "text/plain": [
       "defaultdict(list,\n",
       "            {'sectral, NN -- an oral beta blocker (trade name Sectral) used in treating hypertension': -4.784443,\n",
       "             'pediamycin, NN -- an antibiotic (trade name Erythrocin or E-Mycin or Ethril or Ilosone or Pediamycin) obtained from the actinomycete Streptomyces erythreus': -5.385606,\n",
       "             'tolbutamide, NN -- sulfonylurea': -4.830724,\n",
       "             'prosom, NN -- a frequently prescribed sleeping pill (trade name ProSom)': -5.025011,\n",
       "             'mesantoin, NN -- a toxic anticonvulsant drug (trade name Mesantoin) used in the treatment of epilepsy when less toxic anticonvulsants have been ineffective': -5.3605857,\n",
       "             'progesterone, NN -- a steroid hormone (trade name Lipo-Lutin) produced in the ovary': -4.7970076,\n",
       "             'griseofulvin, NN -- a kind of penicillin (a fungicidal antibiotic with the trade name Fulvicin) produced by molds of the genus Penicillium': -4.9375334,\n",
       "             'zantac, NN -- a histamine blocker and antacid (trade name Zantac) used to treat peptic ulcers and gastritis and esophageal reflux': -5.8484893,\n",
       "             'levodopa, NN -- the levorotatory form of dopa (trade names Bendopa and Brocadopa and Larodopa)': -5.5552526,\n",
       "             'thimerosal, NN -- a light-colored crystalline powder (trade name Merthiolate) used as a surgical antiseptic': -4.7033668,\n",
       "             'pyridium, NN -- analgesic (trade name Pyridium) used to treat urinary tract infections': -5.504358,\n",
       "             'pravastatin, NN -- an oral drug (trade name Pravachol) administered to reduce blood cholesterol levels': -5.1236725,\n",
       "             'oxaprozin, NN -- a nonsteroidal anti-inflammatory drug (trade name Daypro)': -4.864057,\n",
       "             'xanax, NN -- an antianxiety agent (trade name Xanax) of the benzodiazepine class': -3.9940379,\n",
       "             'hyperstat, NN -- vasodilator (trade name Hyperstat) used to treat severe hypertension': -5.309609,\n",
       "             'nalfon, NN -- a nonsteroidal anti-inflammatory drug (trade name Nalfon) used in the treatment of arthritis and other painful inflammatory disorders': -5.4799595,\n",
       "             'procaine, NN -- a white crystalline powder (trade name Ethocaine) administered near nerves as a local anesthetic in dentistry and medicine': -4.912937,\n",
       "             'prevacid, NN -- antacid (trade name Prevacid) that suppresses acid secretion in the stomach': -6.2680984,\n",
       "             'polaroid, NN -- (trade mark) a plastic film that can polarize a beam of light': -5.084508,\n",
       "             'esmolol, NN -- intravenous beta blocker (trade name Brevibloc) that acts for only a short time': -6.645315,\n",
       "             'mephobarbital, NN -- a long-acting crystalline barbiturate (trade name Mebaral) used as a sedative and as an anticonvulsant in the treatment of epilepsy': -5.5131736,\n",
       "             'nuprin, NN -- a nonsteroidal anti-inflammatory and analgesic medicine (trade names Advil and Motrin and Nuprin) used to relieve the pain of arthritis and as an antipyretic': -5.4188967,\n",
       "             'visken, NN -- an oral beta blocker (trade name Visken) used in treating hypertension': -5.420339,\n",
       "             'lodine, NN -- a nonsteroidal anti-inflammatory drug (trade name Lodine)': -4.983705,\n",
       "             'zocor, NN -- an oral lipid-lowering medicine (trade name Zocor) administered to reduce blood cholesterol levels': -5.378268,\n",
       "             'nystatin, NN -- an antifungal and antibiotic (trade names Mycostatin and Nystan) discovered in New York State': -5.2155733,\n",
       "             'triazolam, NN -- a form of benzodiazepine (trade name Halcion) frequently prescribed as a sleeping pill': -4.4483194,\n",
       "             'diclofenac potassium, NN -- a nonsteroidal anti-inflammatory drug (trade name Cataflam)': -5.4498596,\n",
       "             'vinblastine, NN -- periwinkle plant derivative used as an antineoplastic drug (trade name Velban) that disrupts cell division': -4.2989316,\n",
       "             'thorazine, NN -- a drug (trade name Thorazine) derived from phenothiazine that has antipsychotic effects and is used as a sedative and tranquilizer': -5.6123977,\n",
       "             'serzone, NN -- an antidepressant drug (trade name Serzone)': -5.1828103,\n",
       "             'meclomen, NN -- a nonsteroidal anti-inflammatory (trade name Meclomen) used to treat arthritis': -5.567786,\n",
       "             'prilosec, NN -- antacid (trade name Prilosec) that suppresses acid secretion in the stomach': -4.8692517,\n",
       "             'voltaren, NN -- a nonsteroidal anti-inflammatory drug (trade name Voltaren) that is administered only orally': -5.067954,\n",
       "             'propoxyphene hydrochloride, NN -- a mildly narcotic analgesic drug (trade name Darvon) related to methadone but less addictive': -5.3792305,\n",
       "             'metformin, NN -- an antidiabetic drug (trade name Glucophage) prescribed to treat type II diabetes': -5.084636,\n",
       "             'tonocard, NN -- antiarrhythmic drug (trade name Tonocard) used to treat ventricular arrhythmias when less dangerous drugs have failed': -5.264194,\n",
       "             'nadolol, NN -- a beta-adrenergic blocking agent (trade name Corgard) that is used to treat hypertension and angina': -4.8916044,\n",
       "             'vasopressin, NN -- hormone secreted by the posterior pituitary gland (trade name Pitressin) and also by nerve endings in the hypothalamus': -4.743707,\n",
       "             'lincomycin, NN -- antibiotic (trade name Lincocin) obtained from a streptomyces bacterium and used in the treatment of certain penicillin-resistant infections': -4.6307282,\n",
       "             'quinora, NN -- cardiac drug (trade names Quinidex and Quinora) used to treat certain heart arrhythmias': -4.881682,\n",
       "             'lozal, NN -- diuretic (trade name Lozal) used in the treatment of hypertension': -5.7307405,\n",
       "             'keftab, NN -- an oral cephalosporin (trade names Keflex and Keflin and Keftab) commonly prescribe for mild to moderately severe infections of the skin or ears or throat or lungs or urinary tract': -5.1875954,\n",
       "             'tofranil, NN -- a tricyclic antidepressant (trade names Imavate and Tofranil) used to treat clinical depression': -5.027188,\n",
       "             'procyclidine, NN -- drug (trade name Kemadrin) used to reduce tremors in Parkinsonism': -6.272655,\n",
       "             'flurazepam hydrochloride, NN -- tranquilizer (trade name Dalmane) used to treat insomnia': -5.9706383,\n",
       "             'wytensin, NN -- antihypertensive drug (trade name Wytensin) that reduces blood pressure by its effect on the central nervous system': -5.180328,\n",
       "             'rocephin, NN -- a parenteral cephalosporin (trade name Rocephin) used for severe infection of the lungs or throat or ears or urinary tract': -5.1251035,\n",
       "             'provera, NN -- a progestin compound (trade name Provera) used to treat menstrual disorders': -5.0519624,\n",
       "             'diuril, NN -- a diuretic drug (trade name Diuril) used in the treatment of edema and hypertension': -6.139324,\n",
       "             'pamelor, NN -- a tricyclic antidepressant drug (trade name Pamelor) used along with psychotherapy to treat dysthymic depression': -5.6555843,\n",
       "             'trinitroglycerin, NN -- a heavy yellow poisonous oily explosive liquid obtained by nitrating glycerol': -5.8950973,\n",
       "             'vistaril, NN -- a drug (trade names Atarax and Vistaril) used as a tranquilizer to treat anxiety and motion sickness': -6.2660966,\n",
       "             'inocor, NN -- a drug (trade name Inocor) used intravenously in heart failure': -5.1857877,\n",
       "             'tambocor, NN -- oral antiarrhythmic medication (trade name Tambocor) used as a last resort in treating arrhythmias': -4.5001698,\n",
       "             'prednisone, NN -- a dehydrogenated analogue of cortisol (trade names Orasone or Deltasone or Liquid Pred or Meticorten)': -5.5818253,\n",
       "             'theelin, NN -- a naturally occurring weak estrogenic hormone secreted by the mammalian ovary': -5.8219037,\n",
       "             'trandolapril, NN -- an ACE inhibiting drug (trade name Mavik) used in some patients after a heart attack or to treat hypertension': -5.23024,\n",
       "             'lorazepam, NN -- tranquilizer (trade name Ativan) used to treat anxiety and tension and insomnia': -5.2065187,\n",
       "             'ramipril, NN -- an ACE inhibitor (trade name Altace) used to treat high blood pressure or in some patients who have had a heart attack': -5.1062765,\n",
       "             'valproic acid, NN -- anticonvulsant (trade name Depokene) used to prevent some kinds of seizures': -5.452916,\n",
       "             'oruvail, NN -- nonsteroidal anti-inflammatory drug (trade names Orudis or Orudis KT or Oruvail)': -5.867912,\n",
       "             'tetracycline, NN -- an antibiotic (trade name Achromycin) derived from microorganisms of the genus Streptomyces and used broadly to treat infections': -6.0787134,\n",
       "             'thiopentobarbital sodium, NN -- barbiturate that is a hygroscopic powder (trade name Pentothal) that is a strong barbiturate that acts rapidly': -5.03905,\n",
       "             'thiothixene, NN -- a tranquilizer (trade name Navane) used to treat schizophrenia': -4.8000526,\n",
       "             'sporanox, NN -- an oral antifungal drug (trade name Sporanox) taken for cases of fungal nail disease': -5.2639728,\n",
       "             'plavix, NN -- a blood thinner (trade name Plavix) approved for the treatment of mild heart attacks': -5.330967,\n",
       "             'phensuximide, NN -- anticonvulsant (trade name Milontin) used to treat petit mal': -5.379247,\n",
       "             'phenytoin, NN -- an anticonvulsant drug (trade name Dilantin) used to treat epilepsy and that is not a sedative': -4.7350416,\n",
       "             'glucotrol, NN -- an oral antidiabetic drug (trade name Glucotrol) that stimulates the release of insulin from the pancreas': -5.125448,\n",
       "             'flurbiprofen, NN -- a nonsteroidal anti-inflammatory drug (trade name Ansaid) that is administered only orally': -5.353614,\n",
       "             'periactin, NN -- an antihistamine (trade name Periactin) used to treat some allergic reactions': -4.9156175,\n",
       "             'timolol, NN -- a beta blocker (trade name Blocadren) administered after heart attacks': -5.1284323,\n",
       "             'sulfisoxazole, NN -- a sulfonamide (trade name Gantrisin) used to treat infections of the urinary tract': -5.792459,\n",
       "             'pneumovax, NN -- vaccine (trade name Pneumovax) effective against the 23 most common strains of pneumococcus': -4.8011403,\n",
       "             'terbinafine, NN -- an oral antifungal drug (trade name Lamisil) used to treat cases of fungal nail disease': -4.694232,\n",
       "             'ipratropium bromide, NN -- an inhaled bronchodilator (trade name Atrovent)': -5.2140017,\n",
       "             'hydrocortone, NN -- an adrenal-cortex hormone (trade names Hydrocortone or Cortef) that is active in carbohydrate and protein metabolism': -5.732517,\n",
       "             'narcan, NN -- a potent narcotic antagonist (trade name Narcan) especially effective with morphine': -5.491263,\n",
       "             'mexitil, NN -- antiarrhythmic drug (trade name Mexitil) used to treat ventricular arrhythmias': -4.6437144,\n",
       "             'st. joseph, NN -- the acetylated derivative of salicylic acid': -4.9326253,\n",
       "             'phenelzine, NN -- monoamine oxidase inhibitor (trade name Nardil) used to treat clinical depression': -5.5181756,\n",
       "             'triamcinolone, NN -- a synthetic corticosteroid (trade names Aristocort or Aristopak or Kenalog) used as an anti-inflammatory agent': -4.817464,\n",
       "             'tobramycin, NN -- an antibiotic (trade name Nebcin) that is especially effective against Gram-negative bacteria': -5.7449236,\n",
       "             'clonidine, NN -- an antihypertensive (trade name Catapres) that can be administered orally or via transdermal patches': -4.471054,\n",
       "             'flexeril, NN -- muscle relaxant (trade name Flexeril) used for muscle spasms or acute injury': -4.941008,\n",
       "             'phenylbutazone, NN -- anti-inflammatory drug (trade name Butazolidin)': -6.411969,\n",
       "             'zarontin, NN -- an anticonvulsant drug (trade names Emeside and Zarontin) used to treat petit mal epilepsy': -4.771115,\n",
       "             'vioxx, NN -- a Cox-2 inhibitor (trade name Vioxx) that relieves pain and inflammation without harming the digestive tract': -5.255354,\n",
       "             'pitocin, NN -- hormone secreted by the posterior pituitary gland (trade name Pitocin)': -4.877564,\n",
       "             'triavil, NN -- tranquilizer and antidepressant (trade name Triavil) sometimes used as an antiemetic for adults': -6.021735,\n",
       "             'serpasil, NN -- antihypertensive consisting of an alkaloid extracted from the plant Rauwolfia serpentina (trade names Raudixin or Rau-Sed or Sandril or Serpasil)': -5.166987,\n",
       "             'tazicef, NN -- a parenteral cephalosporin (trade names Fortaz and Tazicef) used to treat moderate infections': -5.3728857,\n",
       "             'cortone acetate, NN -- a corticosteroid hormone (trade name Cortone Acetate) normally produced by the adrenal cortex': -5.508472,\n",
       "             'thioridazine, NN -- a tranquilizer (trade name Mellaril) used to treat schizophrenia and other psychotic disorders': -5.9672275,\n",
       "             'cerivastatin, NN -- an oral drug (trade name Baycol) to reduce blood cholesterol levels': -5.169667,\n",
       "             'methyldopa, NN -- antihypertensive drug (trade name Aldomet) used in the treatment of high blood pressure': -4.6644053,\n",
       "             'prostigmin, NN -- a cholinergic drug (trade name Prostigmin) used to treat some ophthalmic conditions and to treat myasthenia gravis': -4.997445,\n",
       "             'tandearil, NN -- an anti-inflammatory drug (trade name Tandearil) used to treat arthritis and bursitis': -4.8547673,\n",
       "             'etanercept, NN -- a genetically engineered anti-TNF compound (trade name Enbrel) consisting of receptors that bind TNF': -6.9768972,\n",
       "             'sucralfate, NN -- medicine consisting of a tablet (trade name Carafate) used to treat peptic ulcers': -5.438732,\n",
       "             'neomycin, NN -- an antibiotic obtained from an actinomycete and used (as a sulphate under the trade name Neobiotic) as an intestinal antiseptic in surgery': -5.3238254,\n",
       "             'procaine hydrochloride, NN -- procaine administered as a hydrochloride (trade name Novocain)': -4.660892,\n",
       "             'pepcid, NN -- a histamine blocker (trade name Pepcid) used to treat peptic ulcers and gastritis and esophageal reflux': -5.0274696,\n",
       "             'nandrolone, NN -- an androgen (trade names Durabolin or Kabolin) that is used to treat testosterone deficiency or breast cancer or osteoporosis': -5.6296124,\n",
       "             'toradol, NN -- nonsteroidal anti-inflammatory drug (trade names Acular and Toradol) that is administered only intramuscularly': -4.630029,\n",
       "             'ritalin, NN -- central nervous system stimulant (trade name Ritalin) used in the treatment of narcolepsy in adults and attention deficit disorder in children': -5.008783,\n",
       "             'viagra, NN -- virility drug (trade name Viagra) used to treat erectile dysfunction in men': -4.382641,\n",
       "             'zimmer frame, NN -- a light enclosing framework (trade name Zimmer) with rubber castors or wheels and handles': -4.9312954,\n",
       "             'microzide, NN -- a diuretic drug (trade name Microzide, Esidrix, and HydroDIURIL) used in the treatment of hypertension': -5.541715})"
      ]
     },
     "execution_count": 111,
     "metadata": {},
     "output_type": "execute_result"
    }
   ],
   "source": [
    "id = 0\n",
    "print(scores_data['input_strings'][id], '|||', scores_data['target_strings'][id])\n",
    "# print(scores_data['scores'][2])\n",
    "predictions_scores_dicts[id]"
   ]
  },
  {
   "cell_type": "code",
   "execution_count": 112,
   "id": "89828715",
   "metadata": {},
   "outputs": [
    {
     "data": {
      "text/plain": [
       "6268"
      ]
     },
     "execution_count": 112,
     "metadata": {},
     "output_type": "execute_result"
    }
   ],
   "source": [
    "len(predictions_scores_dicts)"
   ]
  },
  {
   "cell_type": "code",
   "execution_count": 113,
   "id": "3cf0d7c4",
   "metadata": {},
   "outputs": [
    {
     "name": "stderr",
     "output_type": "stream",
     "text": [
      "100%|█████████████████████████████████████████████████████████████| 6268/6268 [00:00<00:00, 31869.44it/s]"
     ]
    },
    {
     "name": "stdout",
     "output_type": "stream",
     "text": [
      "12.832322910019144 3.163848117421825\n",
      "0.545788130185067\n",
      "2753\n"
     ]
    },
    {
     "name": "stderr",
     "output_type": "stream",
     "text": [
      "\n"
     ]
    }
   ],
   "source": [
    "import numpy as np\n",
    "predictions_filtered = []\n",
    "head_num_filter = 0\n",
    "tail_num_filter = 0\n",
    "hits_at_all = 0\n",
    "count = 0\n",
    "for i in tqdm(range(len(predictions_scores_dicts))):\n",
    "    ps_dict = predictions_scores_dicts[i].copy()\n",
    "    target = scores_data['target_strings'][i]\n",
    "    inputs = scores_data['input_strings'][i]\n",
    "    prediction_strings = ps_dict.keys()\n",
    "    if target in prediction_strings:\n",
    "        original_score = ps_dict[target]\n",
    "    # get filtering entities\n",
    "    filtering_entities = getAllFilteringEntities(inputs, filter_dicts)\n",
    "    if len(filtering_entities) == 1:\n",
    "        count += 1\n",
    "    if 'head' in inputs:\n",
    "        head_num_filter += len(filtering_entities)\n",
    "    else:\n",
    "        tail_num_filter += len(filtering_entities)\n",
    "    for ent in filtering_entities:\n",
    "        if ent in ps_dict:\n",
    "            ps_dict[ent] = -float(\"inf\")\n",
    "    if target in prediction_strings:\n",
    "        ps_dict[target] = original_score\n",
    "        hits_at_all += 1\n",
    "    # softmax for scores\n",
    "    names_arr = []\n",
    "    scores_arr = []\n",
    "    for k, v in ps_dict.items():\n",
    "        names_arr.append(k)\n",
    "        scores_arr.append(v)\n",
    "    scores_arr = np.array(scores_arr)\n",
    "#     scores_arr = softmax(scores_arr)\n",
    "    for name, score in zip(names_arr, scores_arr):\n",
    "        ps_dict[name] = score\n",
    "    predictions_filtered.append(ps_dict)\n",
    "print(head_num_filter/len(predictions_filtered), tail_num_filter/len(predictions_filtered))\n",
    "print(hits_at_all/len(predictions_filtered))\n",
    "print(count)"
   ]
  },
  {
   "cell_type": "code",
   "execution_count": 114,
   "id": "cde8c8c1",
   "metadata": {},
   "outputs": [
    {
     "name": "stdout",
     "output_type": "stream",
     "text": [
      "hits@1 0.4867581365666879\n",
      "hits@3 0.5272814294830888\n",
      "hits@10 0.5445118059987237\n",
      "mrr 0.508183981172557\n",
      "0.10960433950223357 were <3 length preds array without answer\n"
     ]
    }
   ],
   "source": [
    "count = {}\n",
    "reciprocal_ranks = 0.0\n",
    "k_list = [1,3,10]\n",
    "for k in k_list:\n",
    "    count[k] = 0\n",
    "num_small_arrs = 0\n",
    "count2 = 0\n",
    "for i in range(len(predictions_filtered)):\n",
    "    target = scores_data['target_strings'][i]\n",
    "    ps_dict = predictions_filtered[i]\n",
    "    ps_sorted = sorted(ps_dict.items(), key=lambda item: -item[1])\n",
    "    if len(ps_dict) == 0:\n",
    "        preds = []\n",
    "    else:\n",
    "        preds = [x[0] for x in ps_sorted]\n",
    "    if target in preds:\n",
    "        rank = preds.index(target) + 1\n",
    "        reciprocal_ranks += 1./rank\n",
    "    for k in k_list:\n",
    "        if target in preds[:k]:\n",
    "            count[k] += 1\n",
    "    if len(preds) < 3 and target not in preds:\n",
    "        num_small_arrs += 1\n",
    "    if target in preds:\n",
    "        count2 += 1\n",
    "for k in k_list:\n",
    "    hits_at_k = count[k]/len(predictions_filtered)\n",
    "    print('hits@{}'.format(k), hits_at_k)\n",
    "print('mrr', reciprocal_ranks/len(predictions_filtered))\n",
    "print(num_small_arrs/len(predictions_filtered), 'were <3 length preds array without answer')"
   ]
  },
  {
   "cell_type": "code",
   "execution_count": 75,
   "id": "e531dfe2",
   "metadata": {},
   "outputs": [
    {
     "data": {
      "text/plain": [
       "0.4732324701774804"
      ]
     },
     "execution_count": 75,
     "metadata": {},
     "output_type": "execute_result"
    }
   ],
   "source": [
    "count2/len(predictions_filtered)"
   ]
  },
  {
   "cell_type": "code",
   "execution_count": 105,
   "id": "8b079bfb",
   "metadata": {},
   "outputs": [],
   "source": [
    "id = 0\n",
    "inputs = scores_data['input_strings'][id]\n",
    "preds = predictions_filtered[id]\n",
    "preds = sorted(preds.items(), key=lambda item: -item[1])\n",
    "target = scores_data['target_strings'][id]"
   ]
  },
  {
   "cell_type": "code",
   "execution_count": 106,
   "id": "75768b24",
   "metadata": {
    "scrolled": false
   },
   "outputs": [
    {
     "name": "stdout",
     "output_type": "stream",
     "text": [
      "predict tail: trade name, NN -- a name given to a product or service | member of domain usage Target: metharbital, NN -- anticonvulsant drug (trade name Gemonil) used in the treatment of epilepsy\n"
     ]
    },
    {
     "data": {
      "text/plain": [
       "([('tolbutamide, NN -- sulfonylurea', -inf),\n",
       "  ('serzone, NN -- an antidepressant drug (trade name Serzone)', -inf),\n",
       "  ('procardia, NN -- calcium blocker (trade name Procardia)', -inf),\n",
       "  ('sanitary towel, NN -- a disposable absorbent pad (trade name Kotex)',\n",
       "   -inf),\n",
       "  ('prosom, NN -- a frequently prescribed sleeping pill (trade name ProSom)',\n",
       "   -inf)],\n",
       " 'metharbital, NN -- anticonvulsant drug (trade name Gemonil) used in the treatment of epilepsy')"
      ]
     },
     "execution_count": 106,
     "metadata": {},
     "output_type": "execute_result"
    }
   ],
   "source": [
    "print(inputs, 'Target:', target)\n",
    "preds[:10], target"
   ]
  },
  {
   "cell_type": "code",
   "execution_count": 482,
   "id": "b8d6fa84",
   "metadata": {},
   "outputs": [
    {
     "name": "stdout",
     "output_type": "stream",
     "text": [
      "32 predict tail: ali kazemaini | birthplace | tehran\n",
      "34 predict tail: ashta, maharashtra | instance of | human settlement\n",
      "37 predict tail: roy shaw 0 | instance of | human being\n",
      "40 predict tail: t. canby jones | has surname | jones (family name)\n",
      "45 predict tail: naveen kumar | instance of | human being\n",
      "46 predict tail: barlow respiratory hospital | host country | united states of america\n",
      "48 predict tail: camiling | office held by head of government | mayor\n",
      "51 predict tail: hazel soan | instance of | human being\n",
      "52 predict tail: efrain herrera | sport played | association football\n",
      "53 predict tail: oluf munck | instance of | human being\n",
      "54 predict tail: thomas gilchrist | instance of | human being\n",
      "58 predict tail: desmoplastic fibroma | subclass of | fibroma\n"
     ]
    },
    {
     "data": {
      "text/plain": [
       "('count', 12)"
      ]
     },
     "execution_count": 482,
     "metadata": {},
     "output_type": "execute_result"
    }
   ],
   "source": [
    "# only head/tails\n",
    "count = 0\n",
    "for id in range(60,120, 2):\n",
    "    inputs = scores_data['input_strings'][id]\n",
    "    preds = predictions_filtered[id]\n",
    "    preds = sorted(preds.items(), key=lambda item: -item[1])\n",
    "    target = scores_data['target_strings'][id]\n",
    "    pred1 = preds[0][0]\n",
    "    if pred1 == target:\n",
    "        print(int(id/2), inputs, pred1)\n",
    "        count += 1\n",
    "'count', count"
   ]
  },
  {
   "cell_type": "code",
   "execution_count": 419,
   "id": "811dccc3",
   "metadata": {},
   "outputs": [
    {
     "data": {
      "text/html": [
       "print(\"<a href='your_url_here'>Showing Text</a>\")\n"
      ],
      "text/plain": [
       "<IPython.core.display.HTML object>"
      ]
     },
     "metadata": {},
     "output_type": "display_data"
    }
   ],
   "source": [
    "%%html\n",
    "print(\"<a href='your_url_here'>Showing Text</a>\")\n"
   ]
  },
  {
   "cell_type": "code",
   "execution_count": 364,
   "id": "36ee8176",
   "metadata": {},
   "outputs": [
    {
     "data": {
      "text/plain": [
       "'Q4121082'"
      ]
     },
     "execution_count": 364,
     "metadata": {},
     "output_type": "execute_result"
    }
   ],
   "source": [
    "e2wdid['pakistan']"
   ]
  },
  {
   "cell_type": "code",
   "execution_count": 174,
   "id": "8dee3a2d",
   "metadata": {},
   "outputs": [],
   "source": [
    "sequences = ['english', 'english language', 'french']\n",
    "t = Trie(sequences)"
   ]
  },
  {
   "cell_type": "code",
   "execution_count": 178,
   "id": "fdb192fb",
   "metadata": {},
   "outputs": [
    {
     "data": {
      "text/plain": [
       "[]"
      ]
     },
     "execution_count": 178,
     "metadata": {},
     "output_type": "execute_result"
    }
   ],
   "source": [
    "t.get('x')"
   ]
  },
  {
   "cell_type": "code",
   "execution_count": null,
   "id": "42d6aa43",
   "metadata": {},
   "outputs": [],
   "source": []
  }
 ],
 "metadata": {
  "kernelspec": {
   "display_name": "Python 3 (ipykernel)",
   "language": "python",
   "name": "python3"
  },
  "language_info": {
   "codemirror_mode": {
    "name": "ipython",
    "version": 3
   },
   "file_extension": ".py",
   "mimetype": "text/x-python",
   "name": "python",
   "nbconvert_exporter": "python",
   "pygments_lexer": "ipython3",
   "version": "3.8.11"
  }
 },
 "nbformat": 4,
 "nbformat_minor": 5
}

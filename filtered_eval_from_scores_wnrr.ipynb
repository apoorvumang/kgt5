{
 "cells": [
  {
   "cell_type": "code",
   "execution_count": 1,
   "id": "49aba755",
   "metadata": {},
   "outputs": [],
   "source": [
    "import pickle"
   ]
  },
  {
   "cell_type": "code",
   "execution_count": 2,
   "id": "81d5f81b",
   "metadata": {},
   "outputs": [],
   "source": [
    "import os\n",
    "from tqdm import tqdm\n",
    "from typing import Dict\n",
    "from collections import defaultdict\n",
    "import numpy as np\n",
    "\n",
    "def softmax(x):\n",
    "    \"\"\"Compute softmax values for each sets of scores in x.\"\"\"\n",
    "    return np.exp(x) / np.sum(np.exp(x), axis=0)\n",
    "\n",
    "def numLines(fname):\n",
    "    with open(fname) as f:\n",
    "        for i, l in enumerate(f):\n",
    "            pass\n",
    "    return i + 1\n",
    "def loadData(filename, max_points):\n",
    "    file_len = numLines(filename)\n",
    "    f = open(filename, 'r')\n",
    "    inputs = []\n",
    "    outputs = []\n",
    "    for i in tqdm(range(file_len)):\n",
    "        if i == max_points:\n",
    "            break\n",
    "        line = f.readline()\n",
    "        if line[-1] == '\\n':\n",
    "            line = line[:-1]\n",
    "        line = line.split('\\t')\n",
    "        inputs.append(line[0])\n",
    "        outputs.append(line[1])\n",
    "    data = {'inputs': inputs, 'outputs': outputs}\n",
    "    return data\n",
    "        \n",
    "def load_entity_strings(filename):\n",
    "    with open(filename) as f:\n",
    "        lines = f.read().splitlines()\n",
    "    return lines\n",
    "\n",
    "def get_entity_wd_id_dict(filename):\n",
    "    out = {}\n",
    "    f = open(filename, 'r')\n",
    "    for line in f:\n",
    "        if line[-1] == '\\n':\n",
    "            line = line[:-1]\n",
    "        line = line.split('\\t')\n",
    "        out[line[1]] = line[0]\n",
    "    return out\n",
    "    \n",
    "\n",
    "def create_filter_dict(data) -> Dict[str, int]:\n",
    "    filter_dict = defaultdict(list)\n",
    "    for input, output in zip(data[\"inputs\"], data[\"outputs\"]):\n",
    "        filter_dict[input].append(output)\n",
    "    return filter_dict\n",
    "\n",
    "def getAllFilteringEntities(input, filter_dicts):\n",
    "    entities = []\n",
    "    splits = ['train', 'test', 'valid']\n",
    "    for s in splits:\n",
    "        entities.extend(filter_dicts[s][input])\n",
    "    return list(set(entities))\n",
    "\n",
    "def wikidata_link_from_id(id):\n",
    "    uri = 'https://www.wikidata.org/wiki/' + id\n",
    "    return uri"
   ]
  },
  {
   "cell_type": "code",
   "execution_count": 3,
   "id": "255f8111",
   "metadata": {},
   "outputs": [],
   "source": [
    "dataset_name = 'wnrr'\n",
    "entity_strings = load_entity_strings(os.path.join(\"data\", dataset_name, \"entity_strings.txt\"))"
   ]
  },
  {
   "cell_type": "code",
   "execution_count": 4,
   "id": "45ee97cb",
   "metadata": {},
   "outputs": [
    {
     "data": {
      "text/plain": [
       "40943"
      ]
     },
     "execution_count": 4,
     "metadata": {},
     "output_type": "execute_result"
    }
   ],
   "source": [
    "entity_strings_set = set(entity_strings)\n",
    "len(entity_strings_set)"
   ]
  },
  {
   "cell_type": "code",
   "execution_count": 5,
   "id": "51647083",
   "metadata": {},
   "outputs": [
    {
     "name": "stderr",
     "output_type": "stream",
     "text": [
      "100%|█████████████████████████████████████████████████████| 173670/173670 [00:00<00:00, 676478.66it/s]\n",
      "100%|█████████████████████████████████████████████████████████| 6068/6068 [00:00<00:00, 610175.65it/s]\n",
      "100%|█████████████████████████████████████████████████████████| 6268/6268 [00:00<00:00, 656804.09it/s]\n"
     ]
    }
   ],
   "source": [
    "data = {}\n",
    "splits = ['train', 'valid', 'test']\n",
    "dataset_name = 'wnrr'\n",
    "for split in splits:\n",
    "    data[split] = loadData(os.path.join('data', dataset_name, split + '.txt'), -1)"
   ]
  },
  {
   "cell_type": "code",
   "execution_count": 6,
   "id": "616e3b45",
   "metadata": {},
   "outputs": [],
   "source": [
    "filter_dicts = {}\n",
    "splits = ['train', 'valid', 'test']\n",
    "for split in splits:\n",
    "    filter_dicts[split] = create_filter_dict(data[split])"
   ]
  },
  {
   "cell_type": "code",
   "execution_count": 26,
   "id": "13a5a068",
   "metadata": {},
   "outputs": [],
   "source": [
    "# fname = 'scores.pickle'\n",
    "# fname = 'scores/scores_full_codexm_small.pickle'\n",
    "fname = 'scores/scores_wnrr_small_ptlm.pickle'\n",
    "# fname = 'scores_500_base_trie.pickle'\n",
    "scores_data = pickle.load(open(fname, 'rb'))"
   ]
  },
  {
   "cell_type": "code",
   "execution_count": 27,
   "id": "2194d51a",
   "metadata": {},
   "outputs": [
    {
     "data": {
      "text/plain": [
       "['diuril, NN -- a diuretic drug (trade name Diuril) used in the treatment of edema and hypertension',\n",
       " 'triavil, NN -- tranquilizer and antidepressant (trade name Triavil) sometimes used as an antiemetic for adults',\n",
       " 'nadolol, NN -- a beta-adrenergic blocking agent (trade name Corgard) that is used to treat hypertension and angina',\n",
       " 'oradexon, NN -- a corticosteroid drug (trade names Decadron or Dexamethasone Intensol or Dexone or Hexadrol or Oradexon) used to treat allergies or inflammation',\n",
       " 'quinora, NN -- cardiac drug (trade names Quinidex and Quinora) used to treat certain heart arrhythmias',\n",
       " 'phensuximide, NN -- anticonvulsant (trade name Milontin) used to treat petit mal',\n",
       " 'timolol, NN -- a beta blocker (trade name Blocadren) administered after heart attacks',\n",
       " 'tadalafil, NN -- virility drug (trade name Cialis) used to treat erectile dysfunction in men',\n",
       " 'mevacor, NN -- an oral drug (trade name Mevacor) to reduce blood cholesterol levels',\n",
       " 'ciprofloxacin, NN -- an oral antibiotic (trade name Cipro) used against serious bacterial infections of the skin or respiratory tract or urinary tract or bones or joints',\n",
       " 'zoloft, NN -- a selective-serotonin reuptake inhibitor commonly prescribed as an antidepressant (trade name Zoloft)',\n",
       " 'vioxx, NN -- a Cox-2 inhibitor (trade name Vioxx) that relieves pain and inflammation without harming the digestive tract',\n",
       " 'nandrolone, NN -- an androgen (trade names Durabolin or Kabolin) that is used to treat testosterone deficiency or breast cancer or osteoporosis',\n",
       " 'flurbiprofen, NN -- a nonsteroidal anti-inflammatory drug (trade name Ansaid) that is administered only orally',\n",
       " 'quinora, NN -- cardiac drug (trade names Quinidex and Quinora) used to treat certain heart arrhythmias',\n",
       " 'zoloft, NN -- a selective-serotonin reuptake inhibitor commonly prescribed as an antidepressant (trade name Zoloft)',\n",
       " 'zarontin, NN -- an anticonvulsant drug (trade names Emeside and Zarontin) used to treat petit mal epilepsy',\n",
       " 'melphalan, NN -- antineoplastic drug (trade name Alkeran) used to treat multiple myeloma and some other malignancies',\n",
       " 'inocor, NN -- a drug (trade name Inocor) used intravenously in heart failure',\n",
       " 'tolinase, NN -- a drug (trade name Tolinase) used in treating stable adult-onset diabetes mellitus',\n",
       " 'terbinafine, NN -- an oral antifungal drug (trade name Lamisil) used to treat cases of fungal nail disease',\n",
       " 'vincristine, NN -- periwinkle plant derivative used as an antineoplastic drug (trade name Oncovin)',\n",
       " 'pyridium, NN -- analgesic (trade name Pyridium) used to treat urinary tract infections',\n",
       " 'enkaid, NN -- antiarrhythmic drug (trade name Enkaid) used to treat life-threatening arrhythmias but increases the risk of sudden death in heart attack patients',\n",
       " 'phensuximide, NN -- anticonvulsant (trade name Milontin) used to treat petit mal',\n",
       " 'diuril, NN -- a diuretic drug (trade name Diuril) used in the treatment of edema and hypertension',\n",
       " 'neomycin, NN -- an antibiotic obtained from an actinomycete and used (as a sulphate under the trade name Neobiotic) as an intestinal antiseptic in surgery',\n",
       " 'sk-ampicillin, NN -- semisynthetic penicillin (trade names Principen and Polycillin and SK-Ampicillin)',\n",
       " 'vasocin, NN -- hormone secreted by the posterior pituitary gland (trade name Pitressin) and also by nerve endings in the hypothalamus',\n",
       " 'vistaril, NN -- a drug (trade names Atarax and Vistaril) used as a tranquilizer to treat anxiety and motion sickness',\n",
       " 'epinephrine, NN -- a catecholamine secreted by the adrenal medulla in response to stress (trade name Adrenalin)',\n",
       " 'thorazine, NN -- a drug (trade name Thorazine) derived from phenothiazine that has antipsychotic effects and is used as a sedative and tranquilizer',\n",
       " 'ipratropium bromide, NN -- an inhaled bronchodilator (trade name Atrovent)',\n",
       " 'pamelor, NN -- a tricyclic antidepressant drug (trade name Pamelor) used along with psychotherapy to treat dysthymic depression',\n",
       " 'isuprel, NN -- drug (trade name Isuprel) used to treat bronchial asthma and to stimulate the heart',\n",
       " \"penicillamine, NN -- a drug (trade name Cuprimine) used to treat heavy metal poisoning and Wilson's disease and severe arthritis\",\n",
       " 'ritalin, NN -- central nervous system stimulant (trade name Ritalin) used in the treatment of narcolepsy in adults and attention deficit disorder in children',\n",
       " 'rocephin, NN -- a parenteral cephalosporin (trade name Rocephin) used for severe infection of the lungs or throat or ears or urinary tract',\n",
       " 'st. joseph, NN -- the acetylated derivative of salicylic acid',\n",
       " 'pneumovax, NN -- vaccine (trade name Pneumovax) effective against the 23 most common strains of pneumococcus',\n",
       " 'zocor, NN -- an oral lipid-lowering medicine (trade name Zocor) administered to reduce blood cholesterol levels',\n",
       " 'narcan, NN -- a potent narcotic antagonist (trade name Narcan) especially effective with morphine',\n",
       " 'lincomycin, NN -- antibiotic (trade name Lincocin) obtained from a streptomyces bacterium and used in the treatment of certain penicillin-resistant infections',\n",
       " 'trental, NN -- a drug (trade name Trental) used to treat claudication',\n",
       " 'sulfacetamide, NN -- a topical sulfonamide (trade name Sulamyd) used to treat eye infections',\n",
       " 'tetracycline, NN -- an antibiotic (trade name Achromycin) derived from microorganisms of the genus Streptomyces and used broadly to treat infections',\n",
       " 'thimerosal, NN -- a light-colored crystalline powder (trade name Merthiolate) used as a surgical antiseptic',\n",
       " \"penicillamine, NN -- a drug (trade name Cuprimine) used to treat heavy metal poisoning and Wilson's disease and severe arthritis\",\n",
       " 'cortone acetate, NN -- a corticosteroid hormone (trade name Cortone Acetate) normally produced by the adrenal cortex',\n",
       " 'nuprin, NN -- a nonsteroidal anti-inflammatory and analgesic medicine (trade names Advil and Motrin and Nuprin) used to relieve the pain of arthritis and as an antipyretic',\n",
       " 'diltiazem, NN -- a calcium blocker (trade name Cardizem) used in treating hypertension or angina or heart failure',\n",
       " 'tambocor, NN -- oral antiarrhythmic medication (trade name Tambocor) used as a last resort in treating arrhythmias',\n",
       " 'warfarin, NN -- an anticoagulant (trade name Coumadin) use to prevent and treat a thrombus or embolus',\n",
       " 'tolbutamide, NN -- sulfonylurea',\n",
       " 'phensuximide, NN -- anticonvulsant (trade name Milontin) used to treat petit mal',\n",
       " 'tetracycline, NN -- an antibiotic (trade name Achromycin) derived from microorganisms of the genus Streptomyces and used broadly to treat infections',\n",
       " 'ipratropium bromide, NN -- an inhaled bronchodilator (trade name Atrovent)',\n",
       " 'methyldopa, NN -- antihypertensive drug (trade name Aldomet) used in the treatment of high blood pressure',\n",
       " 'cerivastatin, NN -- an oral drug (trade name Baycol) to reduce blood cholesterol levels',\n",
       " 'remicade, NN -- an anti-TNF compound (trade name Remicade) consisting of an antibody directed against TNF',\n",
       " 'isosorbide, NN -- drug (trade name Isordil) used to treat angina pectoris and congestive heart failure',\n",
       " 'thiopentobarbital sodium, NN -- barbiturate that is a hygroscopic powder (trade name Pentothal) that is a strong barbiturate that acts rapidly',\n",
       " 'vasotec, NN -- an ACE inhibitor (trade name Vasotec) that blocks the formation of angiotensin in the kidney and so results in vasodilation',\n",
       " 'mevacor, NN -- an oral drug (trade name Mevacor) to reduce blood cholesterol levels',\n",
       " 'dextroamphetamine sulphate, NN -- an isomer of amphetamine (trade name Dexedrine) used as a central nervous system stimulant',\n",
       " 'sanitary towel, NN -- a disposable absorbent pad (trade name Kotex)',\n",
       " 'prazosin, NN -- antihypertensive drug (trade name Minipress)',\n",
       " 'recombinant human insulin, NN -- a form of insulin (trade name Humulin) made from recombinant DNA that is identical to human insulin',\n",
       " 'meperidine hydrochloride, NN -- a synthetic narcotic drug (trade name Demerol) used to treat pain',\n",
       " 'sporanox, NN -- an oral antifungal drug (trade name Sporanox) taken for cases of fungal nail disease',\n",
       " 'microzide, NN -- a diuretic drug (trade name Microzide, Esidrix, and HydroDIURIL) used in the treatment of hypertension',\n",
       " 'polaroid, NN -- (trade mark) a plastic film that can polarize a beam of light',\n",
       " 'st. joseph, NN -- the acetylated derivative of salicylic acid',\n",
       " 'mefoxin, NN -- one of several broad spectrum antibiotic substances obtained from fungi and related to penicillin (trade names Mefoxin)',\n",
       " 'hydromorphone hydrochloride, NN -- a narcotic analgesic (trade name Dilaudid) used to treat moderate to severe pain',\n",
       " 'pravastatin, NN -- an oral drug (trade name Pravachol) administered to reduce blood cholesterol levels',\n",
       " 'pepcid, NN -- a histamine blocker (trade name Pepcid) used to treat peptic ulcers and gastritis and esophageal reflux',\n",
       " 'flexeril, NN -- muscle relaxant (trade name Flexeril) used for muscle spasms or acute injury',\n",
       " 'tetracycline, NN -- an antibiotic (trade name Achromycin) derived from microorganisms of the genus Streptomyces and used broadly to treat infections',\n",
       " 'vistaril, NN -- a drug (trade names Atarax and Vistaril) used as a tranquilizer to treat anxiety and motion sickness',\n",
       " 'pamelor, NN -- a tricyclic antidepressant drug (trade name Pamelor) used along with psychotherapy to treat dysthymic depression',\n",
       " \"penicillamine, NN -- a drug (trade name Cuprimine) used to treat heavy metal poisoning and Wilson's disease and severe arthritis\",\n",
       " 'diltiazem, NN -- a calcium blocker (trade name Cardizem) used in treating hypertension or angina or heart failure',\n",
       " 'tadalafil, NN -- virility drug (trade name Cialis) used to treat erectile dysfunction in men',\n",
       " 'micronase, NN -- an oral antidiabetic drug (trade names DiaBeta and Micronase) that stimulates the release of insulin from the pancreas',\n",
       " 'tetracycline, NN -- an antibiotic (trade name Achromycin) derived from microorganisms of the genus Streptomyces and used broadly to treat infections',\n",
       " 'remicade, NN -- an anti-TNF compound (trade name Remicade) consisting of an antibody directed against TNF',\n",
       " 'oradexon, NN -- a corticosteroid drug (trade names Decadron or Dexamethasone Intensol or Dexone or Hexadrol or Oradexon) used to treat allergies or inflammation',\n",
       " 'st. joseph, NN -- the acetylated derivative of salicylic acid',\n",
       " 'mevacor, NN -- an oral drug (trade name Mevacor) to reduce blood cholesterol levels',\n",
       " 'melphalan, NN -- antineoplastic drug (trade name Alkeran) used to treat multiple myeloma and some other malignancies',\n",
       " 'st. joseph, NN -- the acetylated derivative of salicylic acid',\n",
       " 'ritalin, NN -- central nervous system stimulant (trade name Ritalin) used in the treatment of narcolepsy in adults and attention deficit disorder in children',\n",
       " \"haloperidol, NN -- tranquilizer (trade name Haldol) used to treat some psychotic disorders and Tourette's syndrome\",\n",
       " 'periactin, NN -- an antihistamine (trade name Periactin) used to treat some allergic reactions',\n",
       " 'sulfisoxazole, NN -- a sulfonamide (trade name Gantrisin) used to treat infections of the urinary tract',\n",
       " 'ritalin, NN -- central nervous system stimulant (trade name Ritalin) used in the treatment of narcolepsy in adults and attention deficit disorder in children',\n",
       " 'mefoxin, NN -- one of several broad spectrum antibiotic substances obtained from fungi and related to penicillin (trade names Mefoxin)',\n",
       " 'nitrofurantoin, NN -- derivative of nitrofuran used as an antibacterial medicine (trade name Macrodantin) effective against a broad range of Gram-positive and Gram-negative bacteria',\n",
       " 'phenylbutazone, NN -- anti-inflammatory drug (trade name Butazolidin)',\n",
       " 'microzide, NN -- a diuretic drug (trade name Microzide, Esidrix, and HydroDIURIL) used in the treatment of hypertension',\n",
       " 'vinblastine, NN -- periwinkle plant derivative used as an antineoplastic drug (trade name Velban) that disrupts cell division',\n",
       " 'mephobarbital, NN -- a long-acting crystalline barbiturate (trade name Mebaral) used as a sedative and as an anticonvulsant in the treatment of epilepsy',\n",
       " 'pravastatin, NN -- an oral drug (trade name Pravachol) administered to reduce blood cholesterol levels',\n",
       " 'thiopentobarbital sodium, NN -- barbiturate that is a hygroscopic powder (trade name Pentothal) that is a strong barbiturate that acts rapidly',\n",
       " 'ethacrynic acid, NN -- diuretic (trade name Edecrin) used to treat edema',\n",
       " 'mutamycin, NN -- a complex of antibiotic substances obtained from a streptomyces bacterium',\n",
       " 'triamcinolone, NN -- a synthetic corticosteroid (trade names Aristocort or Aristopak or Kenalog) used as an anti-inflammatory agent',\n",
       " 'levodopa, NN -- the levorotatory form of dopa (trade names Bendopa and Brocadopa and Larodopa)',\n",
       " 'nuprin, NN -- a nonsteroidal anti-inflammatory and analgesic medicine (trade names Advil and Motrin and Nuprin) used to relieve the pain of arthritis and as an antipyretic',\n",
       " 'zimmer frame, NN -- a light enclosing framework (trade name Zimmer) with rubber castors or wheels and handles',\n",
       " 'hydrocortone, NN -- an adrenal-cortex hormone (trade names Hydrocortone or Cortef) that is active in carbohydrate and protein metabolism',\n",
       " 'promethazine, NN -- antihistamine (trade name Phenergan) used to treat allergies',\n",
       " 'procardia, NN -- calcium blocker (trade name Procardia)',\n",
       " 'cefoperazone, NN -- a parenteral cephalosporin (trade name Cefobid) used for severe infections',\n",
       " 'vincristine, NN -- periwinkle plant derivative used as an antineoplastic drug (trade name Oncovin)',\n",
       " 'mefoxin, NN -- one of several broad spectrum antibiotic substances obtained from fungi and related to penicillin (trade names Mefoxin)',\n",
       " 'vasotec, NN -- an ACE inhibitor (trade name Vasotec) that blocks the formation of angiotensin in the kidney and so results in vasodilation',\n",
       " 'oxaprozin, NN -- a nonsteroidal anti-inflammatory drug (trade name Daypro)',\n",
       " 'methyldopa, NN -- antihypertensive drug (trade name Aldomet) used in the treatment of high blood pressure',\n",
       " 'vioxx, NN -- a Cox-2 inhibitor (trade name Vioxx) that relieves pain and inflammation without harming the digestive tract',\n",
       " 'tandearil, NN -- an anti-inflammatory drug (trade name Tandearil) used to treat arthritis and bursitis',\n",
       " 'triavil, NN -- tranquilizer and antidepressant (trade name Triavil) sometimes used as an antiemetic for adults',\n",
       " 'lorazepam, NN -- tranquilizer (trade name Ativan) used to treat anxiety and tension and insomnia',\n",
       " 'marplan, NN -- a monoamine oxidase inhibitor (trade name Marplan) that is used to treat clinical depression',\n",
       " 'polaroid, NN -- (trade mark) a plastic film that can polarize a beam of light',\n",
       " 'ciprofloxacin, NN -- an oral antibiotic (trade name Cipro) used against serious bacterial infections of the skin or respiratory tract or urinary tract or bones or joints',\n",
       " 'oxaprozin, NN -- a nonsteroidal anti-inflammatory drug (trade name Daypro)',\n",
       " 'st. joseph, NN -- the acetylated derivative of salicylic acid',\n",
       " 'diuril, NN -- a diuretic drug (trade name Diuril) used in the treatment of edema and hypertension',\n",
       " 'periactin, NN -- an antihistamine (trade name Periactin) used to treat some allergic reactions',\n",
       " 'xanax, NN -- an antianxiety agent (trade name Xanax) of the benzodiazepine class',\n",
       " 'orphenadrine, NN -- a skeletal muscle relaxant (trade name Norflex) used to treat severe muscle strain and Parkinsonism',\n",
       " 'promethazine, NN -- antihistamine (trade name Phenergan) used to treat allergies',\n",
       " 'lorazepam, NN -- tranquilizer (trade name Ativan) used to treat anxiety and tension and insomnia',\n",
       " 'ciprofloxacin, NN -- an oral antibiotic (trade name Cipro) used against serious bacterial infections of the skin or respiratory tract or urinary tract or bones or joints',\n",
       " 'lincomycin, NN -- antibiotic (trade name Lincocin) obtained from a streptomyces bacterium and used in the treatment of certain penicillin-resistant infections',\n",
       " 'methyldopa, NN -- antihypertensive drug (trade name Aldomet) used in the treatment of high blood pressure',\n",
       " 'trandolapril, NN -- an ACE inhibiting drug (trade name Mavik) used in some patients after a heart attack or to treat hypertension',\n",
       " 'methyldopa, NN -- antihypertensive drug (trade name Aldomet) used in the treatment of high blood pressure',\n",
       " 'loxitane, NN -- a tranquilizer (trade name Loxitane) used to treat schizophrenia',\n",
       " 'flexeril, NN -- muscle relaxant (trade name Flexeril) used for muscle spasms or acute injury',\n",
       " 'zoloft, NN -- a selective-serotonin reuptake inhibitor commonly prescribed as an antidepressant (trade name Zoloft)',\n",
       " 'xanax, NN -- an antianxiety agent (trade name Xanax) of the benzodiazepine class',\n",
       " 'mexitil, NN -- antiarrhythmic drug (trade name Mexitil) used to treat ventricular arrhythmias',\n",
       " 'tandearil, NN -- an anti-inflammatory drug (trade name Tandearil) used to treat arthritis and bursitis',\n",
       " 'librium, NN -- a tranquilizer (trade names Librium and Libritabs) used in the treatment of alcoholism',\n",
       " 'serzone, NN -- an antidepressant drug (trade name Serzone)',\n",
       " 'epinephrine, NN -- a catecholamine secreted by the adrenal medulla in response to stress (trade name Adrenalin)',\n",
       " 'hydrocortone, NN -- an adrenal-cortex hormone (trade names Hydrocortone or Cortef) that is active in carbohydrate and protein metabolism',\n",
       " 'sectral, NN -- an oral beta blocker (trade name Sectral) used in treating hypertension',\n",
       " 'prednisone, NN -- a dehydrogenated analogue of cortisol (trade names Orasone or Deltasone or Liquid Pred or Meticorten)',\n",
       " 'xylocaine, NN -- a local anesthetic (trade names Lidocaine and Xylocaine) used topically on the skin and mucous membranes',\n",
       " 'etanercept, NN -- a genetically engineered anti-TNF compound (trade name Enbrel) consisting of receptors that bind TNF',\n",
       " 'sporanox, NN -- an oral antifungal drug (trade name Sporanox) taken for cases of fungal nail disease',\n",
       " 'methyldopa, NN -- antihypertensive drug (trade name Aldomet) used in the treatment of high blood pressure',\n",
       " 'peritrate, NN -- a coronary vasodilator (trade name Peritrate) used to treat angina pectoris',\n",
       " 'mefoxin, NN -- one of several broad spectrum antibiotic substances obtained from fungi and related to penicillin (trade names Mefoxin)',\n",
       " 'micronase, NN -- an oral antidiabetic drug (trade names DiaBeta and Micronase) that stimulates the release of insulin from the pancreas',\n",
       " 'flexeril, NN -- muscle relaxant (trade name Flexeril) used for muscle spasms or acute injury',\n",
       " 'sanitary towel, NN -- a disposable absorbent pad (trade name Kotex)',\n",
       " 'cortone acetate, NN -- a corticosteroid hormone (trade name Cortone Acetate) normally produced by the adrenal cortex',\n",
       " 'tazicef, NN -- a parenteral cephalosporin (trade names Fortaz and Tazicef) used to treat moderate infections',\n",
       " 'penicillin v potassium, NN -- a form of penicillin V (trade name Ledercillin VK)',\n",
       " 'disulfiram, NN -- a drug (trade name Antabuse) used in the treatment of alcoholism',\n",
       " 'diclofenac potassium, NN -- a nonsteroidal anti-inflammatory drug (trade name Cataflam)',\n",
       " 'relafen, NN -- a nonsteroidal anti-inflammatory drug (trade name Relafen)',\n",
       " 'lincomycin, NN -- antibiotic (trade name Lincocin) obtained from a streptomyces bacterium and used in the treatment of certain penicillin-resistant infections',\n",
       " 'trinitroglycerin, NN -- a heavy yellow poisonous oily explosive liquid obtained by nitrating glycerol',\n",
       " 'nandrolone, NN -- an androgen (trade names Durabolin or Kabolin) that is used to treat testosterone deficiency or breast cancer or osteoporosis',\n",
       " 'tetracycline, NN -- an antibiotic (trade name Achromycin) derived from microorganisms of the genus Streptomyces and used broadly to treat infections',\n",
       " 'flexeril, NN -- muscle relaxant (trade name Flexeril) used for muscle spasms or acute injury',\n",
       " 'thioridazine, NN -- a tranquilizer (trade name Mellaril) used to treat schizophrenia and other psychotic disorders',\n",
       " 'toradol, NN -- nonsteroidal anti-inflammatory drug (trade names Acular and Toradol) that is administered only intramuscularly',\n",
       " 'naproxen, NN -- a nonsteroidal anti-inflammatory drug (trade name Naprosyn) used in the treatment of arthritis and musculoskeletal inflammation and moderate pain',\n",
       " 'tetracycline, NN -- an antibiotic (trade name Achromycin) derived from microorganisms of the genus Streptomyces and used broadly to treat infections',\n",
       " 'triamcinolone, NN -- a synthetic corticosteroid (trade names Aristocort or Aristopak or Kenalog) used as an anti-inflammatory agent',\n",
       " 'periactin, NN -- an antihistamine (trade name Periactin) used to treat some allergic reactions',\n",
       " 'thimerosal, NN -- a light-colored crystalline powder (trade name Merthiolate) used as a surgical antiseptic',\n",
       " 'dramamine, NN -- antihistamine and antiemetic (trade name Dramamine) used to treat motion sickness',\n",
       " 'tandearil, NN -- an anti-inflammatory drug (trade name Tandearil) used to treat arthritis and bursitis',\n",
       " 'narcan, NN -- a potent narcotic antagonist (trade name Narcan) especially effective with morphine',\n",
       " 'levodopa, NN -- the levorotatory form of dopa (trade names Bendopa and Brocadopa and Larodopa)',\n",
       " 'thorazine, NN -- a drug (trade name Thorazine) derived from phenothiazine that has antipsychotic effects and is used as a sedative and tranquilizer',\n",
       " 'quinacrine hydrochloride, NN -- a drug (trade name Atabrine) used to treat certain worm infestations and once used to treat malaria',\n",
       " 'promethazine, NN -- antihistamine (trade name Phenergan) used to treat allergies',\n",
       " 'polaroid land camera, NN -- a camera that develops and produces a positive print within seconds',\n",
       " 'hydromorphone hydrochloride, NN -- a narcotic analgesic (trade name Dilaudid) used to treat moderate to severe pain',\n",
       " 'temazepam, NN -- a frequently prescribed benzodiazepine (trade name Restoril)',\n",
       " 'prelone, NN -- a glucocorticoid (trade names Pediapred or Prelone) used to treat inflammatory conditions',\n",
       " 'mefoxin, NN -- one of several broad spectrum antibiotic substances obtained from fungi and related to penicillin (trade names Mefoxin)',\n",
       " 'loxitane, NN -- a tranquilizer (trade name Loxitane) used to treat schizophrenia',\n",
       " 'procyclidine, NN -- drug (trade name Kemadrin) used to reduce tremors in Parkinsonism',\n",
       " 'diuril, NN -- a diuretic drug (trade name Diuril) used in the treatment of edema and hypertension',\n",
       " 'ramipril, NN -- an ACE inhibitor (trade name Altace) used to treat high blood pressure or in some patients who have had a heart attack',\n",
       " \"penicillamine, NN -- a drug (trade name Cuprimine) used to treat heavy metal poisoning and Wilson's disease and severe arthritis\",\n",
       " 'thiothixene, NN -- a tranquilizer (trade name Navane) used to treat schizophrenia',\n",
       " 'tzimmer frame, NN -- a light enclosing framework (trade name Zimmer) with rubber castors or wheels and handles',\n",
       " 'quaalude, NN -- sedative-hypnotic drug (trade name Quaalude) that is a drug of abuse',\n",
       " 'toradol, NN -- nonsteroidal anti-inflammatory drug (trade names Acular and Toradol) that is administered only intramuscularly']"
      ]
     },
     "execution_count": 27,
     "metadata": {},
     "output_type": "execute_result"
    }
   ],
   "source": [
    "scores_data['prediction_strings'][0]"
   ]
  },
  {
   "cell_type": "code",
   "execution_count": 28,
   "id": "9bff88b0",
   "metadata": {},
   "outputs": [
    {
     "name": "stderr",
     "output_type": "stream",
     "text": [
      "6268it [00:00, 11964.75it/s]\n"
     ]
    }
   ],
   "source": [
    "predictions_scores_dicts = []\n",
    "for string_arr, score_arr in tqdm(zip(scores_data['prediction_strings'], scores_data['scores'])):\n",
    "    ps_pairs = [(p,s) for p,s in zip(string_arr, score_arr)]\n",
    "    ps_pairs = list(set(ps_pairs)) # while sampling, duplicates are created\n",
    "    # remove predictions that are not entities\n",
    "    ps_dict_only_entities = defaultdict(list)\n",
    "    for ps in ps_pairs:\n",
    "        if ps[0] in entity_strings_set:\n",
    "            ps_dict_only_entities[ps[0]] = ps[1]\n",
    "    predictions_scores_dicts.append(ps_dict_only_entities)"
   ]
  },
  {
   "cell_type": "code",
   "execution_count": 29,
   "id": "45377700",
   "metadata": {},
   "outputs": [
    {
     "data": {
      "text/plain": [
       "130"
      ]
     },
     "execution_count": 29,
     "metadata": {},
     "output_type": "execute_result"
    }
   ],
   "source": [
    "max([len(predictions_scores_dicts[x]) for x in range(500)])"
   ]
  },
  {
   "cell_type": "code",
   "execution_count": 30,
   "id": "f565355b",
   "metadata": {
    "scrolled": true
   },
   "outputs": [
    {
     "name": "stdout",
     "output_type": "stream",
     "text": [
      "predict tail: trade name, NN -- a name given to a product or service | member of domain usage ||| metharbital, NN -- anticonvulsant drug (trade name Gemonil) used in the treatment of epilepsy\n"
     ]
    },
    {
     "data": {
      "text/plain": [
       "defaultdict(list,\n",
       "            {'nitrofurantoin, NN -- derivative of nitrofuran used as an antibacterial medicine (trade name Macrodantin) effective against a broad range of Gram-positive and Gram-negative bacteria': -5.1356378,\n",
       "             'st. joseph, NN -- the acetylated derivative of salicylic acid': -4.249753,\n",
       "             'polaroid, NN -- (trade mark) a plastic film that can polarize a beam of light': -5.194192,\n",
       "             'tolbutamide, NN -- sulfonylurea': -5.237251,\n",
       "             'pamelor, NN -- a tricyclic antidepressant drug (trade name Pamelor) used along with psychotherapy to treat dysthymic depression': -5.65048,\n",
       "             'methyldopa, NN -- antihypertensive drug (trade name Aldomet) used in the treatment of high blood pressure': -5.041038,\n",
       "             'zimmer frame, NN -- a light enclosing framework (trade name Zimmer) with rubber castors or wheels and handles': -4.926204,\n",
       "             'terbinafine, NN -- an oral antifungal drug (trade name Lamisil) used to treat cases of fungal nail disease': -5.375042,\n",
       "             'zocor, NN -- an oral lipid-lowering medicine (trade name Zocor) administered to reduce blood cholesterol levels': -5.4109983,\n",
       "             'polaroid land camera, NN -- a camera that develops and produces a positive print within seconds': -5.3206596,\n",
       "             'flurbiprofen, NN -- a nonsteroidal anti-inflammatory drug (trade name Ansaid) that is administered only orally': -5.7465177,\n",
       "             'triamcinolone, NN -- a synthetic corticosteroid (trade names Aristocort or Aristopak or Kenalog) used as an anti-inflammatory agent': -6.6594353,\n",
       "             'loxitane, NN -- a tranquilizer (trade name Loxitane) used to treat schizophrenia': -5.482141,\n",
       "             'mefoxin, NN -- one of several broad spectrum antibiotic substances obtained from fungi and related to penicillin (trade names Mefoxin)': -5.2284737,\n",
       "             'prednisone, NN -- a dehydrogenated analogue of cortisol (trade names Orasone or Deltasone or Liquid Pred or Meticorten)': -6.076489,\n",
       "             'pneumovax, NN -- vaccine (trade name Pneumovax) effective against the 23 most common strains of pneumococcus': -5.0600724,\n",
       "             'serzone, NN -- an antidepressant drug (trade name Serzone)': -5.046538,\n",
       "             'thiothixene, NN -- a tranquilizer (trade name Navane) used to treat schizophrenia': -5.3664885,\n",
       "             'micronase, NN -- an oral antidiabetic drug (trade names DiaBeta and Micronase) that stimulates the release of insulin from the pancreas': -5.2588015,\n",
       "             'pyridium, NN -- analgesic (trade name Pyridium) used to treat urinary tract infections': -4.9882593,\n",
       "             'levodopa, NN -- the levorotatory form of dopa (trade names Bendopa and Brocadopa and Larodopa)': -5.294578,\n",
       "             'ritalin, NN -- central nervous system stimulant (trade name Ritalin) used in the treatment of narcolepsy in adults and attention deficit disorder in children': -5.4181123,\n",
       "             'ramipril, NN -- an ACE inhibitor (trade name Altace) used to treat high blood pressure or in some patients who have had a heart attack': -5.080521,\n",
       "             'nuprin, NN -- a nonsteroidal anti-inflammatory and analgesic medicine (trade names Advil and Motrin and Nuprin) used to relieve the pain of arthritis and as an antipyretic': -5.390671,\n",
       "             'nadolol, NN -- a beta-adrenergic blocking agent (trade name Corgard) that is used to treat hypertension and angina': -5.549255,\n",
       "             'orphenadrine, NN -- a skeletal muscle relaxant (trade name Norflex) used to treat severe muscle strain and Parkinsonism': -6.482713,\n",
       "             'sectral, NN -- an oral beta blocker (trade name Sectral) used in treating hypertension': -5.6669664,\n",
       "             'pepcid, NN -- a histamine blocker (trade name Pepcid) used to treat peptic ulcers and gastritis and esophageal reflux': -7.452095,\n",
       "             'trinitroglycerin, NN -- a heavy yellow poisonous oily explosive liquid obtained by nitrating glycerol': -5.6195188,\n",
       "             'librium, NN -- a tranquilizer (trade names Librium and Libritabs) used in the treatment of alcoholism': -5.383714,\n",
       "             'tetracycline, NN -- an antibiotic (trade name Achromycin) derived from microorganisms of the genus Streptomyces and used broadly to treat infections': -3.8548825,\n",
       "             'tandearil, NN -- an anti-inflammatory drug (trade name Tandearil) used to treat arthritis and bursitis': -5.312907,\n",
       "             'toradol, NN -- nonsteroidal anti-inflammatory drug (trade names Acular and Toradol) that is administered only intramuscularly': -5.521215,\n",
       "             'vasotec, NN -- an ACE inhibitor (trade name Vasotec) that blocks the formation of angiotensin in the kidney and so results in vasodilation': -4.822826,\n",
       "             'promethazine, NN -- antihistamine (trade name Phenergan) used to treat allergies': -5.3614006,\n",
       "             'oxaprozin, NN -- a nonsteroidal anti-inflammatory drug (trade name Daypro)': -4.3545423,\n",
       "             'temazepam, NN -- a frequently prescribed benzodiazepine (trade name Restoril)': -5.439319,\n",
       "             'phensuximide, NN -- anticonvulsant (trade name Milontin) used to treat petit mal': -5.4674377,\n",
       "             'narcan, NN -- a potent narcotic antagonist (trade name Narcan) especially effective with morphine': -5.979092,\n",
       "             'tolinase, NN -- a drug (trade name Tolinase) used in treating stable adult-onset diabetes mellitus': -6.038814,\n",
       "             'inocor, NN -- a drug (trade name Inocor) used intravenously in heart failure': -5.0642586,\n",
       "             'cortone acetate, NN -- a corticosteroid hormone (trade name Cortone Acetate) normally produced by the adrenal cortex': -4.932553,\n",
       "             'mutamycin, NN -- a complex of antibiotic substances obtained from a streptomyces bacterium': -5.0193896,\n",
       "             'thimerosal, NN -- a light-colored crystalline powder (trade name Merthiolate) used as a surgical antiseptic': -5.0263014,\n",
       "             'pravastatin, NN -- an oral drug (trade name Pravachol) administered to reduce blood cholesterol levels': -5.4871445,\n",
       "             'thiopentobarbital sodium, NN -- barbiturate that is a hygroscopic powder (trade name Pentothal) that is a strong barbiturate that acts rapidly': -5.775099,\n",
       "             'tambocor, NN -- oral antiarrhythmic medication (trade name Tambocor) used as a last resort in treating arrhythmias': -5.4856057,\n",
       "             'dextroamphetamine sulphate, NN -- an isomer of amphetamine (trade name Dexedrine) used as a central nervous system stimulant': -5.525054,\n",
       "             'thioridazine, NN -- a tranquilizer (trade name Mellaril) used to treat schizophrenia and other psychotic disorders': -4.7822394,\n",
       "             'lorazepam, NN -- tranquilizer (trade name Ativan) used to treat anxiety and tension and insomnia': -5.1713743,\n",
       "             'remicade, NN -- an anti-TNF compound (trade name Remicade) consisting of an antibody directed against TNF': -4.7476873,\n",
       "             'mevacor, NN -- an oral drug (trade name Mevacor) to reduce blood cholesterol levels': -5.2603946,\n",
       "             'relafen, NN -- a nonsteroidal anti-inflammatory drug (trade name Relafen)': -5.464954,\n",
       "             'mephobarbital, NN -- a long-acting crystalline barbiturate (trade name Mebaral) used as a sedative and as an anticonvulsant in the treatment of epilepsy': -5.4482045,\n",
       "             'hydrocortone, NN -- an adrenal-cortex hormone (trade names Hydrocortone or Cortef) that is active in carbohydrate and protein metabolism': -5.4543953,\n",
       "             'xanax, NN -- an antianxiety agent (trade name Xanax) of the benzodiazepine class': -5.503474,\n",
       "             \"penicillamine, NN -- a drug (trade name Cuprimine) used to treat heavy metal poisoning and Wilson's disease and severe arthritis\": -4.9205904,\n",
       "             'sk-ampicillin, NN -- semisynthetic penicillin (trade names Principen and Polycillin and SK-Ampicillin)': -5.588708,\n",
       "             'isuprel, NN -- drug (trade name Isuprel) used to treat bronchial asthma and to stimulate the heart': -5.694686,\n",
       "             'neomycin, NN -- an antibiotic obtained from an actinomycete and used (as a sulphate under the trade name Neobiotic) as an intestinal antiseptic in surgery': -4.5914316,\n",
       "             'disulfiram, NN -- a drug (trade name Antabuse) used in the treatment of alcoholism': -5.3594513,\n",
       "             'timolol, NN -- a beta blocker (trade name Blocadren) administered after heart attacks': -4.686494,\n",
       "             'penicillin v potassium, NN -- a form of penicillin V (trade name Ledercillin VK)': -5.36812,\n",
       "             'ciprofloxacin, NN -- an oral antibiotic (trade name Cipro) used against serious bacterial infections of the skin or respiratory tract or urinary tract or bones or joints': -4.631623,\n",
       "             'dramamine, NN -- antihistamine and antiemetic (trade name Dramamine) used to treat motion sickness': -5.0790725,\n",
       "             'mexitil, NN -- antiarrhythmic drug (trade name Mexitil) used to treat ventricular arrhythmias': -4.674367,\n",
       "             'diuril, NN -- a diuretic drug (trade name Diuril) used in the treatment of edema and hypertension': -5.0557256,\n",
       "             'vinblastine, NN -- periwinkle plant derivative used as an antineoplastic drug (trade name Velban) that disrupts cell division': -5.854198,\n",
       "             'cefoperazone, NN -- a parenteral cephalosporin (trade name Cefobid) used for severe infections': -5.340465,\n",
       "             'tazicef, NN -- a parenteral cephalosporin (trade names Fortaz and Tazicef) used to treat moderate infections': -3.9962928,\n",
       "             'procardia, NN -- calcium blocker (trade name Procardia)': -5.268872,\n",
       "             'ipratropium bromide, NN -- an inhaled bronchodilator (trade name Atrovent)': -4.99512,\n",
       "             'tadalafil, NN -- virility drug (trade name Cialis) used to treat erectile dysfunction in men': -5.729504,\n",
       "             'procyclidine, NN -- drug (trade name Kemadrin) used to reduce tremors in Parkinsonism': -5.048195,\n",
       "             'diltiazem, NN -- a calcium blocker (trade name Cardizem) used in treating hypertension or angina or heart failure': -5.0672803,\n",
       "             'quinacrine hydrochloride, NN -- a drug (trade name Atabrine) used to treat certain worm infestations and once used to treat malaria': -5.50281,\n",
       "             'recombinant human insulin, NN -- a form of insulin (trade name Humulin) made from recombinant DNA that is identical to human insulin': -5.2812343,\n",
       "             'microzide, NN -- a diuretic drug (trade name Microzide, Esidrix, and HydroDIURIL) used in the treatment of hypertension': -6.1260047,\n",
       "             'sporanox, NN -- an oral antifungal drug (trade name Sporanox) taken for cases of fungal nail disease': -5.3242717,\n",
       "             'marplan, NN -- a monoamine oxidase inhibitor (trade name Marplan) that is used to treat clinical depression': -5.1206784,\n",
       "             'epinephrine, NN -- a catecholamine secreted by the adrenal medulla in response to stress (trade name Adrenalin)': -4.5513844,\n",
       "             'phenylbutazone, NN -- anti-inflammatory drug (trade name Butazolidin)': -4.431037,\n",
       "             'lincomycin, NN -- antibiotic (trade name Lincocin) obtained from a streptomyces bacterium and used in the treatment of certain penicillin-resistant infections': -5.2180123,\n",
       "             \"haloperidol, NN -- tranquilizer (trade name Haldol) used to treat some psychotic disorders and Tourette's syndrome\": -5.0077934,\n",
       "             'xylocaine, NN -- a local anesthetic (trade names Lidocaine and Xylocaine) used topically on the skin and mucous membranes': -4.9065194,\n",
       "             'thorazine, NN -- a drug (trade name Thorazine) derived from phenothiazine that has antipsychotic effects and is used as a sedative and tranquilizer': -4.8629656,\n",
       "             'enkaid, NN -- antiarrhythmic drug (trade name Enkaid) used to treat life-threatening arrhythmias but increases the risk of sudden death in heart attack patients': -5.0365515,\n",
       "             'meperidine hydrochloride, NN -- a synthetic narcotic drug (trade name Demerol) used to treat pain': -5.8062153,\n",
       "             'flexeril, NN -- muscle relaxant (trade name Flexeril) used for muscle spasms or acute injury': -5.265086,\n",
       "             'quaalude, NN -- sedative-hypnotic drug (trade name Quaalude) that is a drug of abuse': -5.321855,\n",
       "             'zarontin, NN -- an anticonvulsant drug (trade names Emeside and Zarontin) used to treat petit mal epilepsy': -4.909109,\n",
       "             'periactin, NN -- an antihistamine (trade name Periactin) used to treat some allergic reactions': -5.220233,\n",
       "             'nandrolone, NN -- an androgen (trade names Durabolin or Kabolin) that is used to treat testosterone deficiency or breast cancer or osteoporosis': -5.4051967,\n",
       "             'cerivastatin, NN -- an oral drug (trade name Baycol) to reduce blood cholesterol levels': -6.685281,\n",
       "             'hydromorphone hydrochloride, NN -- a narcotic analgesic (trade name Dilaudid) used to treat moderate to severe pain': -5.387377,\n",
       "             'sanitary towel, NN -- a disposable absorbent pad (trade name Kotex)': -5.064597,\n",
       "             'naproxen, NN -- a nonsteroidal anti-inflammatory drug (trade name Naprosyn) used in the treatment of arthritis and musculoskeletal inflammation and moderate pain': -5.55925,\n",
       "             'peritrate, NN -- a coronary vasodilator (trade name Peritrate) used to treat angina pectoris': -5.410479,\n",
       "             'vioxx, NN -- a Cox-2 inhibitor (trade name Vioxx) that relieves pain and inflammation without harming the digestive tract': -5.30272,\n",
       "             'sulfisoxazole, NN -- a sulfonamide (trade name Gantrisin) used to treat infections of the urinary tract': -4.8694754,\n",
       "             'prelone, NN -- a glucocorticoid (trade names Pediapred or Prelone) used to treat inflammatory conditions': -5.38237,\n",
       "             'isosorbide, NN -- drug (trade name Isordil) used to treat angina pectoris and congestive heart failure': -5.2991867,\n",
       "             'vincristine, NN -- periwinkle plant derivative used as an antineoplastic drug (trade name Oncovin)': -4.870778,\n",
       "             'triavil, NN -- tranquilizer and antidepressant (trade name Triavil) sometimes used as an antiemetic for adults': -5.0616136,\n",
       "             'zoloft, NN -- a selective-serotonin reuptake inhibitor commonly prescribed as an antidepressant (trade name Zoloft)': -5.025909,\n",
       "             'trandolapril, NN -- an ACE inhibiting drug (trade name Mavik) used in some patients after a heart attack or to treat hypertension': -5.325699,\n",
       "             'diclofenac potassium, NN -- a nonsteroidal anti-inflammatory drug (trade name Cataflam)': -5.7178507,\n",
       "             'oradexon, NN -- a corticosteroid drug (trade names Decadron or Dexamethasone Intensol or Dexone or Hexadrol or Oradexon) used to treat allergies or inflammation': -4.97781,\n",
       "             'etanercept, NN -- a genetically engineered anti-TNF compound (trade name Enbrel) consisting of receptors that bind TNF': -4.4912624,\n",
       "             'vistaril, NN -- a drug (trade names Atarax and Vistaril) used as a tranquilizer to treat anxiety and motion sickness': -5.183761,\n",
       "             'rocephin, NN -- a parenteral cephalosporin (trade name Rocephin) used for severe infection of the lungs or throat or ears or urinary tract': -5.132813,\n",
       "             'trental, NN -- a drug (trade name Trental) used to treat claudication': -5.481637,\n",
       "             'warfarin, NN -- an anticoagulant (trade name Coumadin) use to prevent and treat a thrombus or embolus': -5.3772736,\n",
       "             'quinora, NN -- cardiac drug (trade names Quinidex and Quinora) used to treat certain heart arrhythmias': -5.428928,\n",
       "             'melphalan, NN -- antineoplastic drug (trade name Alkeran) used to treat multiple myeloma and some other malignancies': -5.074647,\n",
       "             'sulfacetamide, NN -- a topical sulfonamide (trade name Sulamyd) used to treat eye infections': -5.268707,\n",
       "             'ethacrynic acid, NN -- diuretic (trade name Edecrin) used to treat edema': -4.492934,\n",
       "             'prazosin, NN -- antihypertensive drug (trade name Minipress)': -5.486226})"
      ]
     },
     "execution_count": 30,
     "metadata": {},
     "output_type": "execute_result"
    }
   ],
   "source": [
    "id = 0\n",
    "print(scores_data['input_strings'][id], '|||', scores_data['target_strings'][id])\n",
    "# print(scores_data['scores'][2])\n",
    "predictions_scores_dicts[id]"
   ]
  },
  {
   "cell_type": "code",
   "execution_count": 31,
   "id": "89828715",
   "metadata": {},
   "outputs": [
    {
     "data": {
      "text/plain": [
       "6268"
      ]
     },
     "execution_count": 31,
     "metadata": {},
     "output_type": "execute_result"
    }
   ],
   "source": [
    "len(predictions_scores_dicts)"
   ]
  },
  {
   "cell_type": "code",
   "execution_count": 32,
   "id": "3cf0d7c4",
   "metadata": {},
   "outputs": [
    {
     "name": "stderr",
     "output_type": "stream",
     "text": [
      "100%|████████████████████████████████████████████████████████████████████████████████████████████| 6268/6268 [00:00<00:00, 25098.50it/s]"
     ]
    },
    {
     "name": "stdout",
     "output_type": "stream",
     "text": [
      "12.832322910019144 3.163848117421825\n",
      "0.566847479259732\n",
      "2753\n"
     ]
    },
    {
     "name": "stderr",
     "output_type": "stream",
     "text": [
      "\n"
     ]
    }
   ],
   "source": [
    "import numpy as np\n",
    "predictions_filtered = []\n",
    "head_num_filter = 0\n",
    "tail_num_filter = 0\n",
    "hits_at_all = 0\n",
    "count = 0\n",
    "for i in tqdm(range(len(predictions_scores_dicts))):\n",
    "    ps_dict = predictions_scores_dicts[i].copy()\n",
    "    target = scores_data['target_strings'][i]\n",
    "    inputs = scores_data['input_strings'][i]\n",
    "    prediction_strings = ps_dict.keys()\n",
    "    if target in prediction_strings:\n",
    "        original_score = ps_dict[target]\n",
    "    # get filtering entities\n",
    "    filtering_entities = getAllFilteringEntities(inputs, filter_dicts)\n",
    "    if len(filtering_entities) == 1:\n",
    "        count += 1\n",
    "    if 'head' in inputs:\n",
    "        head_num_filter += len(filtering_entities)\n",
    "    else:\n",
    "        tail_num_filter += len(filtering_entities)\n",
    "    for ent in filtering_entities:\n",
    "        if ent in ps_dict:\n",
    "            ps_dict[ent] = -float(\"inf\")\n",
    "    if target in prediction_strings:\n",
    "        ps_dict[target] = original_score\n",
    "        hits_at_all += 1\n",
    "    # softmax for scores\n",
    "    names_arr = []\n",
    "    scores_arr = []\n",
    "    for k, v in ps_dict.items():\n",
    "        names_arr.append(k)\n",
    "        scores_arr.append(v)\n",
    "    scores_arr = np.array(scores_arr)\n",
    "#     scores_arr = softmax(scores_arr)\n",
    "    for name, score in zip(names_arr, scores_arr):\n",
    "        ps_dict[name] = score\n",
    "    predictions_filtered.append(ps_dict)\n",
    "print(head_num_filter/len(predictions_filtered), tail_num_filter/len(predictions_filtered))\n",
    "print(hits_at_all/len(predictions_filtered))\n",
    "print(count)"
   ]
  },
  {
   "cell_type": "code",
   "execution_count": 34,
   "id": "cde8c8c1",
   "metadata": {},
   "outputs": [
    {
     "name": "stdout",
     "output_type": "stream",
     "text": [
      "hits@1 0.5103701340140395\n",
      "hits@3 0.5520102105934908\n",
      "hits@10 0.5660497766432674\n",
      "mrr 0.5317186401695957\n",
      "0.1080089342693044 were <3 length preds array without answer\n",
      "6268 6268\n"
     ]
    }
   ],
   "source": [
    "count = {}\n",
    "reciprocal_ranks = 0.0\n",
    "k_list = [1,3,10]\n",
    "for k in k_list:\n",
    "    count[k] = 0\n",
    "num_small_arrs = 0\n",
    "count2 = 0\n",
    "total_count = 0\n",
    "for i in range(len(predictions_filtered)):\n",
    "    target = scores_data['target_strings'][i]\n",
    "    inputs = scores_data['input_strings'][i]\n",
    "    filtering_entities = getAllFilteringEntities(inputs, filter_dicts)\n",
    "#     if len(filtering_entities) == 1:\n",
    "#         total_count += 1\n",
    "#     else:\n",
    "#         continue\n",
    "    total_count += 1\n",
    "    ps_dict = predictions_filtered[i]\n",
    "    ps_sorted = sorted(ps_dict.items(), key=lambda item: -item[1])\n",
    "    if len(ps_dict) == 0:\n",
    "        preds = []\n",
    "    else:\n",
    "        preds = [x[0] for x in ps_sorted]\n",
    "    if target in preds:\n",
    "        rank = preds.index(target) + 1\n",
    "        reciprocal_ranks += 1./rank\n",
    "    for k in k_list:\n",
    "        if target in preds[:k]:\n",
    "            count[k] += 1\n",
    "    if len(preds) < 3 and target not in preds:\n",
    "        num_small_arrs += 1\n",
    "    if target in preds:\n",
    "        count2 += 1\n",
    "        \n",
    "if total_count ==0:\n",
    "    total_count = len(predictions_filtered)\n",
    "for k in k_list:\n",
    "    hits_at_k = count[k]/total_count\n",
    "    print('hits@{}'.format(k), hits_at_k)\n",
    "print('mrr', reciprocal_ranks/total_count)\n",
    "print(num_small_arrs/total_count, 'were <3 length preds array without answer')\n",
    "print(total_count, len(predictions_filtered))"
   ]
  },
  {
   "cell_type": "code",
   "execution_count": 35,
   "id": "e531dfe2",
   "metadata": {},
   "outputs": [
    {
     "data": {
      "text/plain": [
       "0.566847479259732"
      ]
     },
     "execution_count": 35,
     "metadata": {},
     "output_type": "execute_result"
    }
   ],
   "source": [
    "count2/len(predictions_filtered)"
   ]
  },
  {
   "cell_type": "code",
   "execution_count": 44,
   "id": "8b079bfb",
   "metadata": {},
   "outputs": [],
   "source": [
    "id = 4\n",
    "inputs = scores_data['input_strings'][id]\n",
    "preds = predictions_filtered[id]\n",
    "preds = sorted(preds.items(), key=lambda item: -item[1])\n",
    "target = scores_data['target_strings'][id]"
   ]
  },
  {
   "cell_type": "code",
   "execution_count": 45,
   "id": "75768b24",
   "metadata": {},
   "outputs": [
    {
     "name": "stdout",
     "output_type": "stream",
     "text": [
      "predict tail: united kingdom of great britain and northern ireland, NN -- a monarchy in northwestern Europe occupying most of the British Isles | member of domain region Target: facer, NN -- (a dated Briticism) a serious difficulty with which one is suddenly faced\n"
     ]
    },
    {
     "data": {
      "text/plain": [
       "([('twaddle, NN -- pretentious or silly talk or writing', -7.224674224853516),\n",
       "  ('oxbridge, NN -- general term for an ancient and prestigious and privileged university (especially Oxford University or Cambridge University)',\n",
       "   -inf),\n",
       "  ('county, NN -- (United Kingdom) a region created by territorial division for the purpose of local government',\n",
       "   -inf),\n",
       "  ('stockbroker belt, NN -- a wealthy residential suburb', -inf),\n",
       "  ('lucky dip, NN -- a game in which prizes (e.g., candies or coins) are concealed in a container and for a small sum a player can draw one out at random',\n",
       "   -inf),\n",
       "  ('potman, NN -- a worker in an inn or public house who serves customers and does various chores',\n",
       "   -inf),\n",
       "  ('eccles cake, NN -- a flat round cake of sweetened pastry filled with dried fruit',\n",
       "   -inf),\n",
       "  ('ir, NN -- a board of the British government that administers and collects major direct taxes',\n",
       "   -inf),\n",
       "  ('victoria sponge, NN -- a cake consisting of two layers of sponge cake with a jelly filling in between',\n",
       "   -inf),\n",
       "  ('ludo, NN -- a simple board game in which players move counters according to the throw of dice',\n",
       "   -inf)],\n",
       " 'facer, NN -- (a dated Briticism) a serious difficulty with which one is suddenly faced')"
      ]
     },
     "execution_count": 45,
     "metadata": {},
     "output_type": "execute_result"
    }
   ],
   "source": [
    "print(inputs, 'Target:', target)\n",
    "preds[:10], target"
   ]
  },
  {
   "cell_type": "code",
   "execution_count": 482,
   "id": "b8d6fa84",
   "metadata": {},
   "outputs": [
    {
     "name": "stdout",
     "output_type": "stream",
     "text": [
      "32 predict tail: ali kazemaini | birthplace | tehran\n",
      "34 predict tail: ashta, maharashtra | instance of | human settlement\n",
      "37 predict tail: roy shaw 0 | instance of | human being\n",
      "40 predict tail: t. canby jones | has surname | jones (family name)\n",
      "45 predict tail: naveen kumar | instance of | human being\n",
      "46 predict tail: barlow respiratory hospital | host country | united states of america\n",
      "48 predict tail: camiling | office held by head of government | mayor\n",
      "51 predict tail: hazel soan | instance of | human being\n",
      "52 predict tail: efrain herrera | sport played | association football\n",
      "53 predict tail: oluf munck | instance of | human being\n",
      "54 predict tail: thomas gilchrist | instance of | human being\n",
      "58 predict tail: desmoplastic fibroma | subclass of | fibroma\n"
     ]
    },
    {
     "data": {
      "text/plain": [
       "('count', 12)"
      ]
     },
     "execution_count": 482,
     "metadata": {},
     "output_type": "execute_result"
    }
   ],
   "source": [
    "# only head/tails\n",
    "count = 0\n",
    "for id in range(60,120, 2):\n",
    "    inputs = scores_data['input_strings'][id]\n",
    "    preds = predictions_filtered[id]\n",
    "    preds = sorted(preds.items(), key=lambda item: -item[1])\n",
    "    target = scores_data['target_strings'][id]\n",
    "    pred1 = preds[0][0]\n",
    "    if pred1 == target:\n",
    "        print(int(id/2), inputs, pred1)\n",
    "        count += 1\n",
    "'count', count"
   ]
  },
  {
   "cell_type": "code",
   "execution_count": 419,
   "id": "811dccc3",
   "metadata": {},
   "outputs": [
    {
     "data": {
      "text/html": [
       "print(\"<a href='your_url_here'>Showing Text</a>\")\n"
      ],
      "text/plain": [
       "<IPython.core.display.HTML object>"
      ]
     },
     "metadata": {},
     "output_type": "display_data"
    }
   ],
   "source": [
    "%%html\n",
    "print(\"<a href='your_url_here'>Showing Text</a>\")\n"
   ]
  },
  {
   "cell_type": "code",
   "execution_count": 364,
   "id": "36ee8176",
   "metadata": {},
   "outputs": [
    {
     "data": {
      "text/plain": [
       "'Q4121082'"
      ]
     },
     "execution_count": 364,
     "metadata": {},
     "output_type": "execute_result"
    }
   ],
   "source": [
    "e2wdid['pakistan']"
   ]
  },
  {
   "cell_type": "code",
   "execution_count": 174,
   "id": "8dee3a2d",
   "metadata": {},
   "outputs": [],
   "source": [
    "sequences = ['english', 'english language', 'french']\n",
    "t = Trie(sequences)"
   ]
  },
  {
   "cell_type": "code",
   "execution_count": 178,
   "id": "fdb192fb",
   "metadata": {},
   "outputs": [
    {
     "data": {
      "text/plain": [
       "[]"
      ]
     },
     "execution_count": 178,
     "metadata": {},
     "output_type": "execute_result"
    }
   ],
   "source": [
    "t.get('x')"
   ]
  },
  {
   "cell_type": "code",
   "execution_count": null,
   "id": "42d6aa43",
   "metadata": {},
   "outputs": [],
   "source": []
  }
 ],
 "metadata": {
  "kernelspec": {
   "display_name": "Python 3 (ipykernel)",
   "language": "python",
   "name": "python3"
  },
  "language_info": {
   "codemirror_mode": {
    "name": "ipython",
    "version": 3
   },
   "file_extension": ".py",
   "mimetype": "text/x-python",
   "name": "python",
   "nbconvert_exporter": "python",
   "pygments_lexer": "ipython3",
   "version": "3.8.11"
  }
 },
 "nbformat": 4,
 "nbformat_minor": 5
}

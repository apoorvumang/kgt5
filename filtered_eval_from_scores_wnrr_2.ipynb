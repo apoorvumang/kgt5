{
 "cells": [
  {
   "cell_type": "code",
   "execution_count": 1,
   "id": "49aba755",
   "metadata": {},
   "outputs": [],
   "source": [
    "import pickle"
   ]
  },
  {
   "cell_type": "code",
   "execution_count": 2,
   "id": "81d5f81b",
   "metadata": {},
   "outputs": [],
   "source": [
    "import os\n",
    "from tqdm import tqdm\n",
    "from typing import Dict\n",
    "from collections import defaultdict\n",
    "import numpy as np\n",
    "\n",
    "def softmax(x):\n",
    "    \"\"\"Compute softmax values for each sets of scores in x.\"\"\"\n",
    "    return np.exp(x) / np.sum(np.exp(x), axis=0)\n",
    "\n",
    "def numLines(fname):\n",
    "    with open(fname) as f:\n",
    "        for i, l in enumerate(f):\n",
    "            pass\n",
    "    return i + 1\n",
    "def loadData(filename, max_points):\n",
    "    file_len = numLines(filename)\n",
    "    f = open(filename, 'r')\n",
    "    inputs = []\n",
    "    outputs = []\n",
    "    for i in tqdm(range(file_len)):\n",
    "        if i == max_points:\n",
    "            break\n",
    "        line = f.readline()\n",
    "        if line[-1] == '\\n':\n",
    "            line = line[:-1]\n",
    "        line = line.split('\\t')\n",
    "        inputs.append(line[0])\n",
    "        outputs.append(line[1])\n",
    "    data = {'inputs': inputs, 'outputs': outputs}\n",
    "    return data\n",
    "        \n",
    "def load_entity_strings(filename):\n",
    "    with open(filename) as f:\n",
    "        lines = f.read().splitlines()\n",
    "    return lines\n",
    "\n",
    "def get_entity_wd_id_dict(filename):\n",
    "    out = {}\n",
    "    f = open(filename, 'r')\n",
    "    for line in f:\n",
    "        if line[-1] == '\\n':\n",
    "            line = line[:-1]\n",
    "        line = line.split('\\t')\n",
    "        out[line[1]] = line[0]\n",
    "    return out\n",
    "    \n",
    "\n",
    "def create_filter_dict(data) -> Dict[str, int]:\n",
    "    filter_dict = defaultdict(list)\n",
    "    for input, output in zip(data[\"inputs\"], data[\"outputs\"]):\n",
    "        filter_dict[input].append(output)\n",
    "    return filter_dict\n",
    "\n",
    "def getAllFilteringEntities(input, filter_dicts):\n",
    "    entities = []\n",
    "    splits = ['train', 'test', 'valid']\n",
    "    for s in splits:\n",
    "        entities.extend(filter_dicts[s][input])\n",
    "    return list(set(entities))\n",
    "\n",
    "def wikidata_link_from_id(id):\n",
    "    uri = 'https://www.wikidata.org/wiki/' + id\n",
    "    return uri"
   ]
  },
  {
   "cell_type": "code",
   "execution_count": 7,
   "id": "255f8111",
   "metadata": {},
   "outputs": [],
   "source": [
    "dataset_name = 'wnrr_2'\n",
    "entity_strings = load_entity_strings(os.path.join(\"data\", dataset_name, \"entity_strings.txt\"))"
   ]
  },
  {
   "cell_type": "code",
   "execution_count": 8,
   "id": "45ee97cb",
   "metadata": {},
   "outputs": [
    {
     "data": {
      "text/plain": [
       "40943"
      ]
     },
     "execution_count": 8,
     "metadata": {},
     "output_type": "execute_result"
    }
   ],
   "source": [
    "entity_strings_set = set(entity_strings)\n",
    "len(entity_strings_set)"
   ]
  },
  {
   "cell_type": "code",
   "execution_count": 9,
   "id": "51647083",
   "metadata": {},
   "outputs": [
    {
     "name": "stderr",
     "output_type": "stream",
     "text": [
      "100%|████████████████████████████████████████████████████████| 173670/173670 [00:00<00:00, 821664.84it/s]\n",
      "100%|████████████████████████████████████████████████████████████| 6068/6068 [00:00<00:00, 494070.17it/s]\n",
      "100%|████████████████████████████████████████████████████████████| 6268/6268 [00:00<00:00, 433204.76it/s]\n"
     ]
    }
   ],
   "source": [
    "data = {}\n",
    "splits = ['train', 'valid', 'test']\n",
    "dataset_name = 'wnrr_2'\n",
    "for split in splits:\n",
    "    data[split] = loadData(os.path.join('data', dataset_name, split + '.txt'), -1)"
   ]
  },
  {
   "cell_type": "code",
   "execution_count": 10,
   "id": "616e3b45",
   "metadata": {},
   "outputs": [],
   "source": [
    "filter_dicts = {}\n",
    "splits = ['train', 'valid', 'test']\n",
    "for split in splits:\n",
    "    filter_dicts[split] = create_filter_dict(data[split])"
   ]
  },
  {
   "cell_type": "code",
   "execution_count": 52,
   "id": "13a5a068",
   "metadata": {},
   "outputs": [],
   "source": [
    "# fname = 'scores.pickle'\n",
    "# fname = 'scores/scores_full_codexm_small.pickle'\n",
    "fname = 'scores/scores_wnrr_2_small_400.pickle'\n",
    "# fname = 'scores_500_base_trie.pickle'\n",
    "scores_data = pickle.load(open(fname, 'rb'))"
   ]
  },
  {
   "cell_type": "code",
   "execution_count": 53,
   "id": "2194d51a",
   "metadata": {},
   "outputs": [
    {
     "data": {
      "text/plain": [
       "['nitrofurantoin NN 1',\n",
       " 'flexeril NN 1',\n",
       " 'neomycin NN 1',\n",
       " 'serzone NN 1',\n",
       " 'demeclocycline hydrochloride NN 1',\n",
       " 'paxil NN 1',\n",
       " 'metronidazole NN 1',\n",
       " 'oxaprozin NN 1',\n",
       " 'penicillamine NN 1',\n",
       " 'tobramycin NN 1',\n",
       " 'recombinant human insulin NN 1',\n",
       " 'vinblastine NN 1',\n",
       " 'procyonid NN 1',\n",
       " 'microzide NN 1',\n",
       " 'vasomax NN 1',\n",
       " 'procaine hydrochloride NN 1',\n",
       " 'micronase NN 1',\n",
       " 'gallamine NN 1',\n",
       " 'magic marker NN 1',\n",
       " 'oradexon NN 1',\n",
       " 'mephobarbital NN 1',\n",
       " 'procaine hydrochloride NN 1',\n",
       " 'oruvail NN 1',\n",
       " 'librium NN 1',\n",
       " 'tolmetin sodium NN 1',\n",
       " 'tolmetin sodium NN 1',\n",
       " 'lozal NN 1',\n",
       " 'prostigmin NN 1',\n",
       " 'relafen NN 1',\n",
       " 'mexitil NN 1',\n",
       " 'prelone NN 1',\n",
       " 'gallamine NN 1',\n",
       " 'visken NN 1',\n",
       " 'nitrofurantoin NN 1',\n",
       " 'terbinafine NN 1',\n",
       " 'procardia NN 1',\n",
       " 'prilosec NN 1',\n",
       " 'triazolam NN 1',\n",
       " 'mithramycin NN 1',\n",
       " 'periactin NN 1',\n",
       " 'toradol NN 1',\n",
       " 'procaine hydrochloride NN 1',\n",
       " 'mexitil NN 1',\n",
       " 'vinblastine NN 1',\n",
       " 'lozal NN 1',\n",
       " 'polaroid land camera NN 1',\n",
       " 'nalfon NN 1',\n",
       " 'methyldopa NN 1',\n",
       " 'sulfisoxazole NN 1',\n",
       " 'tolinase NN 1',\n",
       " 'viagra NN 1',\n",
       " 'primidone NN 1',\n",
       " 'ciprofloxacin NN 1',\n",
       " 'meperidine hydrochloride NN 1',\n",
       " 'vinblastine NN 1',\n",
       " 'prevacid NN 1',\n",
       " 'flurbiprofen NN 1',\n",
       " 'vinblastine NN 1',\n",
       " 'oradexon NN 1',\n",
       " 'sulfacetamide NN 1',\n",
       " 'gentamicin NN 1',\n",
       " 'oradexon NN 1',\n",
       " 'sucralfate NN 1',\n",
       " 'robaxin NN 1',\n",
       " 'thimerosal NN 1',\n",
       " 'procaine hydrochloride NN 1',\n",
       " 'inocor NN 1',\n",
       " 'tobramycin NN 1',\n",
       " 'meperidine hydrochloride NN 1',\n",
       " 'narcan NN 1',\n",
       " 'flurbiprofen NN 1',\n",
       " 'procaine hydrochloride NN 1',\n",
       " 'phenylbutazone NN 1',\n",
       " 'zimmer frame NN 1',\n",
       " 'tolmetin sodium NN 1',\n",
       " 'trandolapril NN 1',\n",
       " 'enkaid NN 1',\n",
       " 'dynapen NN 1',\n",
       " 'ramipril NN 1',\n",
       " 'tolinase NN 1',\n",
       " 'mevacor NN 1',\n",
       " 'hydromorphone hydrochloride NN 1',\n",
       " 'lopid NN 1',\n",
       " 'esmolol NN 1',\n",
       " 'prilosec NN 1',\n",
       " 'levodopa NN 1',\n",
       " 'hydrocortone NN 1',\n",
       " 'intropin NN 1',\n",
       " 'vasomax NN 1',\n",
       " 'prostigmin NN 1',\n",
       " 'procaine hydrochloride NN 1',\n",
       " 'piroxicam NN 1',\n",
       " 'zantac NN 1',\n",
       " 'zimmer frame NN 1',\n",
       " 'trinitroglycerin NN 1',\n",
       " 'vinblastine NN 1',\n",
       " 'prosom NN 1',\n",
       " 'viagra NN 1',\n",
       " 'relafen NN 1',\n",
       " 'osmitrol NN 1',\n",
       " 'vinblastine NN 1',\n",
       " 'corrimide NN 1',\n",
       " 'thiopentobarbital sodium NN 1',\n",
       " 'mild silver protein NN 1',\n",
       " 'flurbiprofen NN 1',\n",
       " 'provera NN 1',\n",
       " 'gallamine NN 1',\n",
       " 'methyldopa NN 1',\n",
       " 'tolbutamide NN 1',\n",
       " 'mesantoin NN 1',\n",
       " 'orphenadrine NN 1',\n",
       " 'narcan NN 1',\n",
       " 'procaine hydrochloride NN 1',\n",
       " 'terbinafine NN 1',\n",
       " 'lodine NN 1',\n",
       " 'toradol NN 1',\n",
       " 'sanitary towel NN 1',\n",
       " 'intropin NN 1',\n",
       " 'osmitrol NN 1',\n",
       " 'serzone NN 1',\n",
       " 'phensuximide NN 1',\n",
       " 'pediamycin NN 1',\n",
       " 'prevacid NN 1',\n",
       " 'nalfon NN 1',\n",
       " 'isuprel NN 1',\n",
       " 'tolbutamide NN 1',\n",
       " 'celecoxib NN 1',\n",
       " 'haloperidol NN 1',\n",
       " 'triazolam NN 1',\n",
       " 'haloperidol NN 1',\n",
       " 'clonidine NN 1',\n",
       " 'monistat NN 1',\n",
       " 'leflunomide NN 1',\n",
       " 'relafen NN 1',\n",
       " 'hydrocortone NN 1',\n",
       " 'recombinant human insulin NN 1',\n",
       " 'zimmer frame NN 1',\n",
       " 'procaine hydrochloride NN 1',\n",
       " 'mild silver protein NN 1',\n",
       " 'tofranil NN 1',\n",
       " 'osmitrol NN 1',\n",
       " 'recombinant human insulin NN 1',\n",
       " 'torodal NN 1',\n",
       " 'oruvail NN 1',\n",
       " 'lorfan NN 1',\n",
       " 'terazosin NN 1',\n",
       " 'ciprofloxacin NN 1',\n",
       " 'relafen NN 1',\n",
       " 'torodal NN 1',\n",
       " 'kantrex NN 1',\n",
       " 'trazodone hydrochloride NN 1',\n",
       " 'meperidine hydrochloride NN 1',\n",
       " 'procaine hydrochloride NN 1',\n",
       " 'timolol NN 1',\n",
       " 'zantac NN 1',\n",
       " 'clonidine NN 1',\n",
       " 'thimerosal NN 1',\n",
       " 'sulfacetamide NN 1',\n",
       " 'mephobarbital NN 1',\n",
       " 'prostigmin NN 1',\n",
       " 'narcan NN 1',\n",
       " 'tofranil NN 1',\n",
       " 'nitrofurantoin NN 1',\n",
       " 'vasomax NN 1',\n",
       " 'zoloft NN 1',\n",
       " 'mutamycin NN 1',\n",
       " 'sk-ampicillin NN 1',\n",
       " 'tandearil NN 1',\n",
       " 'meclomen NN 1',\n",
       " 'pravastatin NN 1',\n",
       " 'serax NN 1',\n",
       " 'oxyphencyclimine NN 1',\n",
       " 'robaxin NN 1',\n",
       " 'hemofil NN 1',\n",
       " 'oruvail NN 1',\n",
       " 'procaine NN 1',\n",
       " 'celecoxib NN 1',\n",
       " 'osmitrol NN 1',\n",
       " 'triazolam NN 1',\n",
       " 'relafen NN 1',\n",
       " 'miltown NN 1',\n",
       " 'tolbutamide NN 1',\n",
       " 'procaine hydrochloride NN 1',\n",
       " 'procardia NN 1',\n",
       " 'esmolol NN 1',\n",
       " 'intropin NN 1',\n",
       " 'chlortetracycline NN 1',\n",
       " 'nitrofurantoin NN 1',\n",
       " 'melphalan NN 1',\n",
       " 'osmitrol NN 1',\n",
       " 'vasotec NN 1',\n",
       " 'methyldopa NN 1',\n",
       " 'quinora NN 1',\n",
       " 'tonocard NN 1',\n",
       " 'vinblastine NN 1',\n",
       " 'vinblastine NN 1',\n",
       " 'nitrofurantoin NN 1',\n",
       " 'ritalin NN 1',\n",
       " 'serzone NN 1',\n",
       " 'primidone NN 1',\n",
       " 'procaine hydrochloride NN 1',\n",
       " 'thimerosal NN 1',\n",
       " 'quinora NN 1',\n",
       " 'thorazine NN 1',\n",
       " 'lodine NN 1',\n",
       " 'procaine hydrochloride NN 1',\n",
       " 'leukeran NN 1',\n",
       " 'chlortetracycline NN 1',\n",
       " 'polaroid land camera NN 1',\n",
       " 'sarafem NN 1',\n",
       " 'sulfacetamide NN 1',\n",
       " 'sanitary towel NN 1',\n",
       " 'zantac NN 1',\n",
       " 'glutethimide NN 1',\n",
       " 'leflunomide NN 1',\n",
       " 'vasomax NN 1',\n",
       " 'prevacid NN 1',\n",
       " 'procaine hydrochloride NN 1',\n",
       " 'prevacid NN 1',\n",
       " 'relafen NN 1',\n",
       " 'enkaid NN 1',\n",
       " 'relafen NN 1',\n",
       " 'relafen NN 1',\n",
       " 'osmitrol NN 1',\n",
       " 'osmitrol NN 1',\n",
       " 'thimerosal NN 1',\n",
       " 'glucotrol NN 1',\n",
       " 'zantac NN 1',\n",
       " 'primidone NN 1',\n",
       " 'xylocaine NN 1',\n",
       " 'prilosec NN 1',\n",
       " 'prilosec NN 1',\n",
       " 'glutethimide NN 1',\n",
       " 'zoloft NN 1',\n",
       " 'oxaprozin NN 1',\n",
       " 'hydrocortone NN 1',\n",
       " 'fluchard NN 1',\n",
       " 'oradexon NN 1',\n",
       " 'prevacid NN 1',\n",
       " 'isuprel NN 1',\n",
       " 'seconal NN 1',\n",
       " 'lopid NN 1',\n",
       " 'tazicef NN 1',\n",
       " 'paselor NN 1',\n",
       " 'thioridazine NN 1',\n",
       " 'triazolam NN 1',\n",
       " 'tonocard NN 1',\n",
       " 'esmolol NN 1',\n",
       " 'trandolapril NN 1',\n",
       " 'quinora NN 1',\n",
       " 'progesterone NN 1',\n",
       " 'prevacid NN 1',\n",
       " 'triazolam NN 1',\n",
       " 'glutethimide NN 1',\n",
       " 'diclofenac potassium NN 1',\n",
       " 'warfarin NN 1',\n",
       " 'pepcid NN 1',\n",
       " 'mevacor NN 1',\n",
       " 'trandolapril NN 1',\n",
       " 'vinblastine NN 1',\n",
       " 'procyclidine NN 1',\n",
       " 'loxitane NN 1',\n",
       " 'methyldopa NN 1',\n",
       " 'toradol NN 1',\n",
       " 'penicillamine NN 1',\n",
       " 'narcan NN 1',\n",
       " 'oruvail NN 1',\n",
       " 'serax NN 1',\n",
       " 'cortone acetate NN 1',\n",
       " 'viagra NN 1',\n",
       " 'mefoxin NN 1',\n",
       " 'wytensin NN 1',\n",
       " 'lopid NN 1',\n",
       " 'serpasil NN 1',\n",
       " 'visken NN 1',\n",
       " 'mithramycin NN 1',\n",
       " 'procyclidine NN 1',\n",
       " 'oruvail NN 1',\n",
       " 'cortone acetate NN 1',\n",
       " 'osmitrol NN 1',\n",
       " 'mevacor NN 1',\n",
       " 'celecoxib NN 1',\n",
       " 'leflunomide NN 1',\n",
       " 'vinblastine NN 1',\n",
       " 'ciprofloxacin NN 1',\n",
       " 'prilosec NN 1',\n",
       " 'prevacid NN 1',\n",
       " 'vasopressin NN 1',\n",
       " 'tomolol NN 1',\n",
       " 'pitocin NN 1',\n",
       " 'prevacid NN 1',\n",
       " 'tadalafil NN 1',\n",
       " 'flurbiprofen NN 1',\n",
       " 'trinitroglycerin NN 1',\n",
       " 'hemofil NN 1',\n",
       " 'gentamicin NN 1',\n",
       " 'mild silver protein NN 1',\n",
       " 'hydrocortone NN 1',\n",
       " 'recombinant human insulin NN 1',\n",
       " 'ritalin NN 1',\n",
       " 'serpasil NN 1',\n",
       " 'chlortetracycline NN 1',\n",
       " 'metformin NN 1',\n",
       " 'microzide NN 1',\n",
       " 'melphalan NN 1',\n",
       " 'thiopentobarbital sodium NN 1',\n",
       " 'lopid NN 1',\n",
       " 'torodal NN 1',\n",
       " 'chlortetracycline NN 1',\n",
       " 'oruvail NN 1',\n",
       " 'polaroid NN 1',\n",
       " 'narcan NN 1',\n",
       " 'osmitrol NN 1',\n",
       " 'epinephrine NN 1',\n",
       " 'metronidazole NN 1',\n",
       " 'glutethimide NN 1',\n",
       " 'mild silver protein NN 1',\n",
       " 'dynapen NN 1',\n",
       " 'vinblastine NN 1',\n",
       " 'procaine hydrochloride NN 1',\n",
       " 'methyldopa NN 1',\n",
       " 'pepcid NN 1',\n",
       " 'lodine NN 1',\n",
       " 'glucotrol NN 1',\n",
       " 'loxitane NN 1',\n",
       " 'vinblastine NN 1',\n",
       " 'cerivastatin NN 1',\n",
       " 'tonocard NN 1',\n",
       " 'wytensin NN 1',\n",
       " 'nitrofurantoin NN 1',\n",
       " 'lopid NN 1',\n",
       " 'mephobarbital NN 1',\n",
       " 'pediamycin NN 1',\n",
       " 'trazodone hydrochloride NN 1',\n",
       " 'magic marker NN 1',\n",
       " 'thioridazine NN 1',\n",
       " 'vistaril NN 1',\n",
       " 'relafen NN 1',\n",
       " 'hydrocortone NN 1',\n",
       " 'trazodone hydrochloride NN 1',\n",
       " 'lozal NN 1',\n",
       " 'vistaril NN 1',\n",
       " 'remicade NN 2',\n",
       " 'warfarin NN 1',\n",
       " 'ritalin NN 1',\n",
       " 'phenytoin NN 1',\n",
       " 'narcan NN 1',\n",
       " 'mevacor NN 1',\n",
       " 'procardia NN 1',\n",
       " 'prilosec NN 1',\n",
       " 'ethacrynic acid NN 1',\n",
       " 'mesantoin NN 1',\n",
       " 'microzide NN 1',\n",
       " 'claforan NN 1',\n",
       " 'nitrofurantoin NN 1',\n",
       " 'nalfon NN 1',\n",
       " 'robaxin NN 1',\n",
       " 'pravastatin NN 1',\n",
       " 'visken NN 1',\n",
       " 'tolinase NN 1',\n",
       " 'vasomax NN 1',\n",
       " 'st. joseph NN 2',\n",
       " 'nalfon NN 1',\n",
       " 'librium NN 1',\n",
       " 'polaroid land camera NN 1',\n",
       " 'polaroid land camera NN 1',\n",
       " 'triamcinolone NN 1',\n",
       " 'nitrofurantoin NN 1',\n",
       " 'ritalin NN 1',\n",
       " 'mephobarbital NN 1',\n",
       " 'lopid NN 1',\n",
       " 'inocor NN 1',\n",
       " 'sectral NN 1',\n",
       " 'sectral NN 1',\n",
       " 'flurbiprofen NN 1',\n",
       " 'ritalin NN 1',\n",
       " 'flurbiprofen NN 1',\n",
       " 'polaroid land camera NN 1',\n",
       " 'thorazine NN 1',\n",
       " 'vasomax NN 1',\n",
       " 'ramipril NN 1',\n",
       " 'methyldopa NN 1',\n",
       " 'levodopa NN 1',\n",
       " 'tolycoozal NN 1',\n",
       " 'osmitrol NN 1',\n",
       " 'mutamycin NN 1',\n",
       " 'provera NN 1',\n",
       " 'tobramycin NN 1',\n",
       " 'ethrane NN 1',\n",
       " 'mephobarbital NN 1',\n",
       " 'tofranil NN 1',\n",
       " 'leukeran NN 1',\n",
       " 'osmitrol NN 1',\n",
       " 'hydrocortone NN 1',\n",
       " 'tonocard NN 1',\n",
       " 'meperidine hydrochloride NN 1',\n",
       " 'progesterone NN 1',\n",
       " 'phenytoin NN 1',\n",
       " 'lopid NN 1',\n",
       " 'primidone NN 1']"
      ]
     },
     "execution_count": 53,
     "metadata": {},
     "output_type": "execute_result"
    }
   ],
   "source": [
    "scores_data['prediction_strings'][0]"
   ]
  },
  {
   "cell_type": "code",
   "execution_count": 54,
   "id": "9bff88b0",
   "metadata": {},
   "outputs": [
    {
     "name": "stderr",
     "output_type": "stream",
     "text": [
      "6268it [00:00, 9151.81it/s]\n"
     ]
    }
   ],
   "source": [
    "predictions_scores_dicts = []\n",
    "for string_arr, score_arr in tqdm(zip(scores_data['prediction_strings'], scores_data['scores'])):\n",
    "    ps_pairs = [(p,s) for p,s in zip(string_arr, score_arr)]\n",
    "    ps_pairs = list(set(ps_pairs)) # while sampling, duplicates are created\n",
    "    # remove predictions that are not entities\n",
    "    ps_dict_only_entities = defaultdict(list)\n",
    "    for ps in ps_pairs:\n",
    "        if ps[0] in entity_strings_set:\n",
    "            ps_dict_only_entities[ps[0]] = ps[1]\n",
    "    predictions_scores_dicts.append(ps_dict_only_entities)"
   ]
  },
  {
   "cell_type": "code",
   "execution_count": 55,
   "id": "45377700",
   "metadata": {},
   "outputs": [
    {
     "data": {
      "text/plain": [
       "198"
      ]
     },
     "execution_count": 55,
     "metadata": {},
     "output_type": "execute_result"
    }
   ],
   "source": [
    "max([len(predictions_scores_dicts[x]) for x in range(500)])"
   ]
  },
  {
   "cell_type": "code",
   "execution_count": 56,
   "id": "f565355b",
   "metadata": {
    "scrolled": true
   },
   "outputs": [
    {
     "name": "stdout",
     "output_type": "stream",
     "text": [
      "predict tail: trade name NN 1 | member of domain usage ||| metharbital NN 1\n"
     ]
    },
    {
     "data": {
      "text/plain": [
       "defaultdict(list,\n",
       "            {'zantac NN 1': -5.651026,\n",
       "             'procaine hydrochloride NN 1': -3.3079915,\n",
       "             'gentamicin NN 1': -5.6370826,\n",
       "             'trinitroglycerin NN 1': -5.8631983,\n",
       "             'prosom NN 1': -5.260526,\n",
       "             'vasotec NN 1': -5.079272,\n",
       "             'tolinase NN 1': -5.656469,\n",
       "             'vasopressin NN 1': -5.402623,\n",
       "             'mesantoin NN 1': -5.4762406,\n",
       "             'diclofenac potassium NN 1': -5.236859,\n",
       "             'leukeran NN 1': -6.2752,\n",
       "             'mutamycin NN 1': -5.3223696,\n",
       "             'prelone NN 1': -5.864073,\n",
       "             'paxil NN 1': -5.618647,\n",
       "             'narcan NN 1': -5.3040495,\n",
       "             'miltown NN 1': -4.8514752,\n",
       "             'epinephrine NN 1': -5.6723185,\n",
       "             'prevacid NN 1': -4.2724648,\n",
       "             'robaxin NN 1': -4.708182,\n",
       "             'vasomax NN 1': -4.6504183,\n",
       "             'viagra NN 1': -4.96035,\n",
       "             'sucralfate NN 1': -5.3350563,\n",
       "             'metformin NN 1': -6.1907897,\n",
       "             'chlortetracycline NN 1': -4.798014,\n",
       "             'oxaprozin NN 1': -5.089366,\n",
       "             'cerivastatin NN 1': -5.178766,\n",
       "             'phensuximide NN 1': -6.05543,\n",
       "             'loxitane NN 1': -4.926985,\n",
       "             'melphalan NN 1': -5.332535,\n",
       "             'meclomen NN 1': -5.579039,\n",
       "             'dynapen NN 1': -5.446861,\n",
       "             'prostigmin NN 1': -4.869792,\n",
       "             'mephobarbital NN 1': -4.324385,\n",
       "             'torodal NN 1': -4.9601603,\n",
       "             'sanitary towel NN 1': -5.4041066,\n",
       "             'flexeril NN 1': -5.6775246,\n",
       "             'ethacrynic acid NN 1': -5.040659,\n",
       "             'ramipril NN 1': -5.4609094,\n",
       "             'haloperidol NN 1': -4.867978,\n",
       "             'triamcinolone NN 1': -6.0492806,\n",
       "             'procyclidine NN 1': -5.460862,\n",
       "             'penicillamine NN 1': -5.7959967,\n",
       "             'librium NN 1': -4.486301,\n",
       "             'esmolol NN 1': -5.6357784,\n",
       "             'phenytoin NN 1': -5.548373,\n",
       "             'mithramycin NN 1': -5.211335,\n",
       "             'nalfon NN 1': -4.730662,\n",
       "             'ethrane NN 1': -5.8633013,\n",
       "             'hydrocortone NN 1': -4.5489564,\n",
       "             'tonocard NN 1': -4.0783553,\n",
       "             'mild silver protein NN 1': -4.602543,\n",
       "             'warfarin NN 1': -5.3486414,\n",
       "             'lopid NN 1': -4.510938,\n",
       "             'xylocaine NN 1': -5.947466,\n",
       "             'gallamine NN 1': -5.093421,\n",
       "             'demeclocycline hydrochloride NN 1': -5.2385244,\n",
       "             'neomycin NN 1': -6.2048445,\n",
       "             'toradol NN 1': -5.7561626,\n",
       "             'tandearil NN 1': -5.555178,\n",
       "             'vinblastine NN 1': -4.297291,\n",
       "             'mevacor NN 1': -4.817428,\n",
       "             'pepcid NN 1': -5.0818987,\n",
       "             'primidone NN 1': -5.2510056,\n",
       "             'clonidine NN 1': -5.547083,\n",
       "             'lorfan NN 1': -6.1996193,\n",
       "             'tolmetin sodium NN 1': -4.656987,\n",
       "             'nitrofurantoin NN 1': -4.9895473,\n",
       "             'mexitil NN 1': -5.7981367,\n",
       "             'procaine NN 1': -6.223587,\n",
       "             'magic marker NN 1': -5.1822286,\n",
       "             'trandolapril NN 1': -4.7363358,\n",
       "             'phenylbutazone NN 1': -6.1521063,\n",
       "             'hydromorphone hydrochloride NN 1': -5.1100483,\n",
       "             'thiopentobarbital sodium NN 1': -5.3970895,\n",
       "             'mefoxin NN 1': -5.081773,\n",
       "             'terbinafine NN 1': -4.9145713,\n",
       "             'zimmer frame NN 1': -5.3961754,\n",
       "             'remicade NN 2': -5.642952,\n",
       "             'zoloft NN 1': -5.124197,\n",
       "             'thimerosal NN 1': -5.4523573,\n",
       "             'periactin NN 1': -5.581634,\n",
       "             'sk-ampicillin NN 1': -5.744385,\n",
       "             'monistat NN 1': -5.255273,\n",
       "             'sulfisoxazole NN 1': -5.454369,\n",
       "             'quinora NN 1': -4.8170285,\n",
       "             'ritalin NN 1': -5.0587816,\n",
       "             'kantrex NN 1': -5.552749,\n",
       "             'lozal NN 1': -4.8167486,\n",
       "             'pitocin NN 1': -5.0926914,\n",
       "             'intropin NN 1': -5.129488,\n",
       "             'relafen NN 1': -4.087615,\n",
       "             'vistaril NN 1': -5.83641,\n",
       "             'polaroid NN 1': -5.483266,\n",
       "             'leflunomide NN 1': -4.70175,\n",
       "             'piroxicam NN 1': -4.740512,\n",
       "             'sectral NN 1': -5.1122956,\n",
       "             'progesterone NN 1': -4.994219,\n",
       "             'thioridazine NN 1': -5.171022,\n",
       "             'methyldopa NN 1': -4.554286,\n",
       "             'pravastatin NN 1': -5.5415983,\n",
       "             'flurbiprofen NN 1': -4.8769712,\n",
       "             'wytensin NN 1': -5.5997066,\n",
       "             'visken NN 1': -5.1291018,\n",
       "             'thorazine NN 1': -5.7548313,\n",
       "             'polaroid land camera NN 1': -5.475027,\n",
       "             'inocor NN 1': -5.8611155,\n",
       "             'micronase NN 1': -5.197349,\n",
       "             'prilosec NN 1': -4.862598,\n",
       "             'meperidine hydrochloride NN 1': -4.872373,\n",
       "             'glutethimide NN 1': -4.1697965,\n",
       "             'recombinant human insulin NN 1': -5.0502996,\n",
       "             'terazosin NN 1': -5.6425133,\n",
       "             'glucotrol NN 1': -5.040331,\n",
       "             'ciprofloxacin NN 1': -5.2494993,\n",
       "             'procyonid NN 1': -9.398516,\n",
       "             'seconal NN 1': -5.9857283,\n",
       "             'sulfacetamide NN 1': -5.014189,\n",
       "             'triazolam NN 1': -4.619088,\n",
       "             'oxyphencyclimine NN 1': -5.3187747,\n",
       "             'tobramycin NN 1': -5.3549128,\n",
       "             'tazicef NN 1': -5.59812,\n",
       "             'serzone NN 1': -4.8638797,\n",
       "             'levodopa NN 1': -6.6258154,\n",
       "             'provera NN 1': -5.255308,\n",
       "             'isuprel NN 1': -5.4577336,\n",
       "             'tadalafil NN 1': -6.9177017,\n",
       "             'hemofil NN 1': -5.198982,\n",
       "             'tofranil NN 1': -5.496476,\n",
       "             'microzide NN 1': -4.981391,\n",
       "             'enkaid NN 1': -5.343382,\n",
       "             'procardia NN 1': -5.0903764,\n",
       "             'pediamycin NN 1': -5.495968,\n",
       "             'timolol NN 1': -6.059129,\n",
       "             'serax NN 1': -4.8021755,\n",
       "             'cortone acetate NN 1': -5.627084,\n",
       "             'oruvail NN 1': -4.9691296,\n",
       "             'celecoxib NN 1': -5.268128,\n",
       "             'tolbutamide NN 1': -5.0710845,\n",
       "             'trazodone hydrochloride NN 1': -5.711575,\n",
       "             'sarafem NN 1': -5.6562805,\n",
       "             'st. joseph NN 2': -6.126891,\n",
       "             'orphenadrine NN 1': -5.45941,\n",
       "             'oradexon NN 1': -5.597082,\n",
       "             'metronidazole NN 1': -4.5933766,\n",
       "             'osmitrol NN 1': -4.374483,\n",
       "             'serpasil NN 1': -6.0650163,\n",
       "             'lodine NN 1': -4.9890275,\n",
       "             'claforan NN 1': -5.6897154})"
      ]
     },
     "execution_count": 56,
     "metadata": {},
     "output_type": "execute_result"
    }
   ],
   "source": [
    "id = 0\n",
    "print(scores_data['input_strings'][id], '|||', scores_data['target_strings'][id])\n",
    "# print(scores_data['scores'][2])\n",
    "predictions_scores_dicts[id]"
   ]
  },
  {
   "cell_type": "code",
   "execution_count": 57,
   "id": "89828715",
   "metadata": {},
   "outputs": [
    {
     "data": {
      "text/plain": [
       "6268"
      ]
     },
     "execution_count": 57,
     "metadata": {},
     "output_type": "execute_result"
    }
   ],
   "source": [
    "len(predictions_scores_dicts)"
   ]
  },
  {
   "cell_type": "code",
   "execution_count": 58,
   "id": "3cf0d7c4",
   "metadata": {},
   "outputs": [
    {
     "name": "stderr",
     "output_type": "stream",
     "text": [
      "100%|█████████████████████████████████████████████████████████████| 6268/6268 [00:00<00:00, 41830.32it/s]"
     ]
    },
    {
     "name": "stdout",
     "output_type": "stream",
     "text": [
      "12.685864709636247 3.3103063178047223\n",
      "0.4570835992342055\n",
      "2753\n"
     ]
    },
    {
     "name": "stderr",
     "output_type": "stream",
     "text": [
      "\n"
     ]
    }
   ],
   "source": [
    "import numpy as np\n",
    "predictions_filtered = []\n",
    "head_num_filter = 0\n",
    "tail_num_filter = 0\n",
    "hits_at_all = 0\n",
    "count = 0\n",
    "for i in tqdm(range(len(predictions_scores_dicts))):\n",
    "    ps_dict = predictions_scores_dicts[i].copy()\n",
    "    target = scores_data['target_strings'][i]\n",
    "    inputs = scores_data['input_strings'][i]\n",
    "    prediction_strings = ps_dict.keys()\n",
    "    if target in prediction_strings:\n",
    "        original_score = ps_dict[target]\n",
    "    # get filtering entities\n",
    "    filtering_entities = getAllFilteringEntities(inputs, filter_dicts)\n",
    "    if len(filtering_entities) == 1:\n",
    "        count += 1\n",
    "    if 'head' in inputs:\n",
    "        head_num_filter += len(filtering_entities)\n",
    "    else:\n",
    "        tail_num_filter += len(filtering_entities)\n",
    "    for ent in filtering_entities:\n",
    "        if ent in ps_dict:\n",
    "            ps_dict[ent] = -float(\"inf\")\n",
    "    if target in prediction_strings:\n",
    "        ps_dict[target] = original_score\n",
    "        hits_at_all += 1\n",
    "    # softmax for scores\n",
    "    names_arr = []\n",
    "    scores_arr = []\n",
    "    for k, v in ps_dict.items():\n",
    "        names_arr.append(k)\n",
    "        scores_arr.append(v)\n",
    "    scores_arr = np.array(scores_arr)\n",
    "#     scores_arr = softmax(scores_arr)\n",
    "    for name, score in zip(names_arr, scores_arr):\n",
    "        ps_dict[name] = score\n",
    "    predictions_filtered.append(ps_dict)\n",
    "print(head_num_filter/len(predictions_filtered), tail_num_filter/len(predictions_filtered))\n",
    "print(hits_at_all/len(predictions_filtered))\n",
    "print(count)"
   ]
  },
  {
   "cell_type": "code",
   "execution_count": 59,
   "id": "cde8c8c1",
   "metadata": {},
   "outputs": [
    {
     "name": "stdout",
     "output_type": "stream",
     "text": [
      "hits@1 0.4055520102105935\n",
      "hits@3 0.4337906828334397\n",
      "hits@10 0.45277600510529675\n",
      "mrr 0.4220747253627606\n",
      "0.11933631142310147 were <3 length preds array without answer\n"
     ]
    }
   ],
   "source": [
    "count = {}\n",
    "reciprocal_ranks = 0.0\n",
    "k_list = [1,3,10]\n",
    "for k in k_list:\n",
    "    count[k] = 0\n",
    "num_small_arrs = 0\n",
    "count2 = 0\n",
    "for i in range(len(predictions_filtered)):\n",
    "    target = scores_data['target_strings'][i]\n",
    "    ps_dict = predictions_filtered[i]\n",
    "    ps_sorted = sorted(ps_dict.items(), key=lambda item: -item[1])\n",
    "    if len(ps_dict) == 0:\n",
    "        preds = []\n",
    "    else:\n",
    "        preds = [x[0] for x in ps_sorted]\n",
    "    if target in preds:\n",
    "        rank = preds.index(target) + 1\n",
    "        reciprocal_ranks += 1./rank\n",
    "    for k in k_list:\n",
    "        if target in preds[:k]:\n",
    "            count[k] += 1\n",
    "    if len(preds) < 3 and target not in preds:\n",
    "        num_small_arrs += 1\n",
    "    if target in preds:\n",
    "        count2 += 1\n",
    "for k in k_list:\n",
    "    hits_at_k = count[k]/len(predictions_filtered)\n",
    "    print('hits@{}'.format(k), hits_at_k)\n",
    "print('mrr', reciprocal_ranks/len(predictions_filtered))\n",
    "print(num_small_arrs/len(predictions_filtered), 'were <3 length preds array without answer')"
   ]
  },
  {
   "cell_type": "code",
   "execution_count": 27,
   "id": "e531dfe2",
   "metadata": {},
   "outputs": [
    {
     "data": {
      "text/plain": [
       "0.5089342693044033"
      ]
     },
     "execution_count": 27,
     "metadata": {},
     "output_type": "execute_result"
    }
   ],
   "source": [
    "count2/len(predictions_filtered)"
   ]
  },
  {
   "cell_type": "code",
   "execution_count": 105,
   "id": "8b079bfb",
   "metadata": {},
   "outputs": [],
   "source": [
    "id = 0\n",
    "inputs = scores_data['input_strings'][id]\n",
    "preds = predictions_filtered[id]\n",
    "preds = sorted(preds.items(), key=lambda item: -item[1])\n",
    "target = scores_data['target_strings'][id]"
   ]
  },
  {
   "cell_type": "code",
   "execution_count": 106,
   "id": "75768b24",
   "metadata": {
    "scrolled": false
   },
   "outputs": [
    {
     "name": "stdout",
     "output_type": "stream",
     "text": [
      "predict tail: trade name, NN -- a name given to a product or service | member of domain usage Target: metharbital, NN -- anticonvulsant drug (trade name Gemonil) used in the treatment of epilepsy\n"
     ]
    },
    {
     "data": {
      "text/plain": [
       "([('tolbutamide, NN -- sulfonylurea', -inf),\n",
       "  ('serzone, NN -- an antidepressant drug (trade name Serzone)', -inf),\n",
       "  ('procardia, NN -- calcium blocker (trade name Procardia)', -inf),\n",
       "  ('sanitary towel, NN -- a disposable absorbent pad (trade name Kotex)',\n",
       "   -inf),\n",
       "  ('prosom, NN -- a frequently prescribed sleeping pill (trade name ProSom)',\n",
       "   -inf)],\n",
       " 'metharbital, NN -- anticonvulsant drug (trade name Gemonil) used in the treatment of epilepsy')"
      ]
     },
     "execution_count": 106,
     "metadata": {},
     "output_type": "execute_result"
    }
   ],
   "source": [
    "print(inputs, 'Target:', target)\n",
    "preds[:10], target"
   ]
  },
  {
   "cell_type": "code",
   "execution_count": 482,
   "id": "b8d6fa84",
   "metadata": {},
   "outputs": [
    {
     "name": "stdout",
     "output_type": "stream",
     "text": [
      "32 predict tail: ali kazemaini | birthplace | tehran\n",
      "34 predict tail: ashta, maharashtra | instance of | human settlement\n",
      "37 predict tail: roy shaw 0 | instance of | human being\n",
      "40 predict tail: t. canby jones | has surname | jones (family name)\n",
      "45 predict tail: naveen kumar | instance of | human being\n",
      "46 predict tail: barlow respiratory hospital | host country | united states of america\n",
      "48 predict tail: camiling | office held by head of government | mayor\n",
      "51 predict tail: hazel soan | instance of | human being\n",
      "52 predict tail: efrain herrera | sport played | association football\n",
      "53 predict tail: oluf munck | instance of | human being\n",
      "54 predict tail: thomas gilchrist | instance of | human being\n",
      "58 predict tail: desmoplastic fibroma | subclass of | fibroma\n"
     ]
    },
    {
     "data": {
      "text/plain": [
       "('count', 12)"
      ]
     },
     "execution_count": 482,
     "metadata": {},
     "output_type": "execute_result"
    }
   ],
   "source": [
    "# only head/tails\n",
    "count = 0\n",
    "for id in range(60,120, 2):\n",
    "    inputs = scores_data['input_strings'][id]\n",
    "    preds = predictions_filtered[id]\n",
    "    preds = sorted(preds.items(), key=lambda item: -item[1])\n",
    "    target = scores_data['target_strings'][id]\n",
    "    pred1 = preds[0][0]\n",
    "    if pred1 == target:\n",
    "        print(int(id/2), inputs, pred1)\n",
    "        count += 1\n",
    "'count', count"
   ]
  },
  {
   "cell_type": "code",
   "execution_count": 419,
   "id": "811dccc3",
   "metadata": {},
   "outputs": [
    {
     "data": {
      "text/html": [
       "print(\"<a href='your_url_here'>Showing Text</a>\")\n"
      ],
      "text/plain": [
       "<IPython.core.display.HTML object>"
      ]
     },
     "metadata": {},
     "output_type": "display_data"
    }
   ],
   "source": [
    "%%html\n",
    "print(\"<a href='your_url_here'>Showing Text</a>\")\n"
   ]
  },
  {
   "cell_type": "code",
   "execution_count": 364,
   "id": "36ee8176",
   "metadata": {},
   "outputs": [
    {
     "data": {
      "text/plain": [
       "'Q4121082'"
      ]
     },
     "execution_count": 364,
     "metadata": {},
     "output_type": "execute_result"
    }
   ],
   "source": [
    "e2wdid['pakistan']"
   ]
  },
  {
   "cell_type": "code",
   "execution_count": 174,
   "id": "8dee3a2d",
   "metadata": {},
   "outputs": [],
   "source": [
    "sequences = ['english', 'english language', 'french']\n",
    "t = Trie(sequences)"
   ]
  },
  {
   "cell_type": "code",
   "execution_count": 178,
   "id": "fdb192fb",
   "metadata": {},
   "outputs": [
    {
     "data": {
      "text/plain": [
       "[]"
      ]
     },
     "execution_count": 178,
     "metadata": {},
     "output_type": "execute_result"
    }
   ],
   "source": [
    "t.get('x')"
   ]
  },
  {
   "cell_type": "code",
   "execution_count": null,
   "id": "42d6aa43",
   "metadata": {},
   "outputs": [],
   "source": []
  }
 ],
 "metadata": {
  "kernelspec": {
   "display_name": "Python 3 (ipykernel)",
   "language": "python",
   "name": "python3"
  },
  "language_info": {
   "codemirror_mode": {
    "name": "ipython",
    "version": 3
   },
   "file_extension": ".py",
   "mimetype": "text/x-python",
   "name": "python",
   "nbconvert_exporter": "python",
   "pygments_lexer": "ipython3",
   "version": "3.8.11"
  }
 },
 "nbformat": 4,
 "nbformat_minor": 5
}

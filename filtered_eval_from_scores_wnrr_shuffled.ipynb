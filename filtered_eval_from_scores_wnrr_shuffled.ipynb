{
 "cells": [
  {
   "cell_type": "code",
   "execution_count": 1,
   "id": "49aba755",
   "metadata": {},
   "outputs": [],
   "source": [
    "import pickle"
   ]
  },
  {
   "cell_type": "code",
   "execution_count": 2,
   "id": "81d5f81b",
   "metadata": {},
   "outputs": [],
   "source": [
    "import os\n",
    "from tqdm import tqdm\n",
    "from typing import Dict\n",
    "from collections import defaultdict\n",
    "import numpy as np\n",
    "\n",
    "def softmax(x):\n",
    "    \"\"\"Compute softmax values for each sets of scores in x.\"\"\"\n",
    "    return np.exp(x) / np.sum(np.exp(x), axis=0)\n",
    "\n",
    "def numLines(fname):\n",
    "    with open(fname) as f:\n",
    "        for i, l in enumerate(f):\n",
    "            pass\n",
    "    return i + 1\n",
    "def loadData(filename, max_points):\n",
    "    file_len = numLines(filename)\n",
    "    f = open(filename, 'r')\n",
    "    inputs = []\n",
    "    outputs = []\n",
    "    for i in tqdm(range(file_len)):\n",
    "        if i == max_points:\n",
    "            break\n",
    "        line = f.readline()\n",
    "        if line[-1] == '\\n':\n",
    "            line = line[:-1]\n",
    "        line = line.split('\\t')\n",
    "        inputs.append(line[0])\n",
    "        outputs.append(line[1])\n",
    "    data = {'inputs': inputs, 'outputs': outputs}\n",
    "    return data\n",
    "        \n",
    "def load_entity_strings(filename):\n",
    "    with open(filename) as f:\n",
    "        lines = f.read().splitlines()\n",
    "    return lines\n",
    "\n",
    "def get_entity_wd_id_dict(filename):\n",
    "    out = {}\n",
    "    f = open(filename, 'r')\n",
    "    for line in f:\n",
    "        if line[-1] == '\\n':\n",
    "            line = line[:-1]\n",
    "        line = line.split('\\t')\n",
    "        out[line[1]] = line[0]\n",
    "    return out\n",
    "    \n",
    "\n",
    "def create_filter_dict(data) -> Dict[str, int]:\n",
    "    filter_dict = defaultdict(list)\n",
    "    for input, output in zip(data[\"inputs\"], data[\"outputs\"]):\n",
    "        filter_dict[input].append(output)\n",
    "    return filter_dict\n",
    "\n",
    "def getAllFilteringEntities(input, filter_dicts):\n",
    "    entities = []\n",
    "    splits = ['train', 'test', 'valid']\n",
    "    for s in splits:\n",
    "        entities.extend(filter_dicts[s][input])\n",
    "    return list(set(entities))\n",
    "\n",
    "def wikidata_link_from_id(id):\n",
    "    uri = 'https://www.wikidata.org/wiki/' + id\n",
    "    return uri"
   ]
  },
  {
   "cell_type": "code",
   "execution_count": 3,
   "id": "255f8111",
   "metadata": {},
   "outputs": [],
   "source": [
    "dataset_name = 'wnrr_shuffled'\n",
    "entity_strings = load_entity_strings(os.path.join(\"data\", dataset_name, \"entity_strings.txt\"))"
   ]
  },
  {
   "cell_type": "code",
   "execution_count": 4,
   "id": "45ee97cb",
   "metadata": {},
   "outputs": [
    {
     "data": {
      "text/plain": [
       "40943"
      ]
     },
     "execution_count": 4,
     "metadata": {},
     "output_type": "execute_result"
    }
   ],
   "source": [
    "entity_strings_set = set(entity_strings)\n",
    "len(entity_strings_set)"
   ]
  },
  {
   "cell_type": "code",
   "execution_count": 5,
   "id": "51647083",
   "metadata": {},
   "outputs": [
    {
     "name": "stderr",
     "output_type": "stream",
     "text": [
      "100%|████████████████████████████████████████████████████████| 173670/173670 [00:00<00:00, 723191.04it/s]\n",
      "100%|████████████████████████████████████████████████████████████| 6068/6068 [00:00<00:00, 660174.22it/s]\n",
      "100%|████████████████████████████████████████████████████████████| 6268/6268 [00:00<00:00, 426610.91it/s]\n"
     ]
    }
   ],
   "source": [
    "data = {}\n",
    "splits = ['train', 'valid', 'test']\n",
    "dataset_name = 'wnrr_shuffled'\n",
    "for split in splits:\n",
    "    data[split] = loadData(os.path.join('data', dataset_name, split + '.txt'), -1)"
   ]
  },
  {
   "cell_type": "code",
   "execution_count": 6,
   "id": "616e3b45",
   "metadata": {},
   "outputs": [],
   "source": [
    "filter_dicts = {}\n",
    "splits = ['train', 'valid', 'test']\n",
    "for split in splits:\n",
    "    filter_dicts[split] = create_filter_dict(data[split])"
   ]
  },
  {
   "cell_type": "code",
   "execution_count": 23,
   "id": "13a5a068",
   "metadata": {},
   "outputs": [],
   "source": [
    "# fname = 'scores.pickle'\n",
    "# fname = 'scores/scores_full_codexm_small.pickle'\n",
    "fname = 'scores/scores_wnrr_shuffled_small_200.pickle'\n",
    "# fname = 'scores_500_base_trie.pickle'\n",
    "scores_data = pickle.load(open(fname, 'rb'))"
   ]
  },
  {
   "cell_type": "code",
   "execution_count": 24,
   "id": "2194d51a",
   "metadata": {},
   "outputs": [
    {
     "data": {
      "text/plain": [
       "['rabbinate, NN -- the office or function of a rabbi',\n",
       " 'genus cyamopsis, NN -- small genus of annual usually hairy herbs of tropical Africa and Arabia',\n",
       " 'maktab al-khidmat, NN -- a terrorist organization founded by Osama bin Laden in the 1980s to provide money and recruit fighters around the world',\n",
       " 'liatris, NN -- genus of perennial North American herbs with aromatic usually cormous roots',\n",
       " \"wriggler, NN -- one who can't stay still (especially a child)\",\n",
       " 'genus eriosoma, NN -- woolly aphids',\n",
       " \"venus's slipper, NN -- any of various orchids of the genus Paphiopedilum having slender flower stalks bearing 1 to several waxy flowers with pouchlike lips\",\n",
       " 'trade, NN -- the skilled practice of a practical occupation',\n",
       " 'thomomys talpoides, NN -- greyish to brown gopher of western and central United States',\n",
       " 'order conodontophorida, NN -- extinct order of primitive vertebrates',\n",
       " 'sleuthing, NN -- a police investigation to determine the perpetrator',\n",
       " 'endurance, NN -- the power to withstand hardship or stress',\n",
       " 'populus, NN -- a genus of trees of the family Salicaceae that is found in the northern hemisphere',\n",
       " 'dkl, NN -- a metric unit of volume or capacity equal to 10 liters',\n",
       " 'flasher, NN -- a light that flashes on and off',\n",
       " 'genus gallinus, NN -- common domestic birds and related forms',\n",
       " 'tdredge, NN -- a power shovel to remove material from a channel or riverbed',\n",
       " \"heroic poem, NN -- a long narrative poem telling of a hero's deeds\",\n",
       " 'distribution, NN -- the act of distributing or spreading or apportioning',\n",
       " 'trade, NN -- the skilled practice of a practical occupation',\n",
       " 'cancellation, NN -- the act of cancelling',\n",
       " 'genus cyamopsis, NN -- small genus of annual usually hairy herbs of tropical Africa and Arabia',\n",
       " 'striate cortex, NN -- the part of the occipital cortex that receives the fibers of the optic radiation from the lateral geniculate body and is the primary receptive area for vision',\n",
       " 'order conodontophorida, NN -- extinct order of primitive vertebrates',\n",
       " 'family cuculidae, NN -- includes cuckoo',\n",
       " 'populus, NN -- a genus of trees of the family Salicaceae that is found in the northern hemisphere',\n",
       " 'twirler, NN -- someone who twirls a baton',\n",
       " 'striate cortex, NN -- the part of the occipital cortex that receives the fibers of the optic radiation from the lateral geniculate body and is the primary receptive area for vision',\n",
       " 'mutiny, VB -- engage in a mutiny against an authority',\n",
       " 'genus corchorus, NN -- widely distributed genus of tropical herbs or subshrubs',\n",
       " 'family adelgidae, NN -- plant lice',\n",
       " 'transplant, VB -- be transplantable',\n",
       " 'order ephemeroptera, NN -- mayflies',\n",
       " 'gigartinaceae, NN -- a family of protoctist',\n",
       " 'urinate, VB -- pass after the manner of urine',\n",
       " 'urinate, VB -- pass after the manner of urine',\n",
       " 'goodness, NN -- moral excellence or admirableness',\n",
       " 'tiococcus, NN -- a genus of Pseudococcidae',\n",
       " 'muraenidae, NN -- marine eels',\n",
       " 'thaliacea, NN -- small class of free-swimming tunicates',\n",
       " 'septicemia, NN -- invasion of the bloodstream by virulent microorganisms from a focus of infection',\n",
       " 'distribution, NN -- the act of distributing or spreading or apportioning',\n",
       " 'percolate, VB -- cause (a solvent) to pass through a permeable substance in order to extract a soluble constituent',\n",
       " 'flasher, NN -- a light that flashes on and off',\n",
       " 'hellenic republic, NN -- a republic in southeastern Europe on the southern part of the Balkan peninsula',\n",
       " 'thaliacea, NN -- small class of free-swimming tunicates',\n",
       " 'percolate, VB -- cause (a solvent) to pass through a permeable substance in order to extract a soluble constituent',\n",
       " 'maktab al-khidmat, NN -- a terrorist organization founded by Osama bin Laden in the 1980s to provide money and recruit fighters around the world',\n",
       " 'genus dracocephalum, NN -- genus of American herbs and dwarf shrubs of the mind family: dragonheads',\n",
       " 'trip-up, NN -- an unintentional but embarrassing blunder',\n",
       " 'sakartvelo, NN -- a republic in Asia Minor on the Black Sea separated from Russia by the Caucasus mountains',\n",
       " 'pattern, VB -- form a pattern',\n",
       " 'sleuthing, NN -- a police investigation to determine the perpetrator',\n",
       " 'hyracotherium, NN -- extinct horse genus',\n",
       " 'family adelgidae, NN -- plant lice',\n",
       " 'check, NN -- an appraisal of the state of affairs',\n",
       " 'paleface, NN -- (slang) a derogatory term for a white person (supposedly used by North American Indians)',\n",
       " 'niobium, NN -- a soft grey ductile metallic element used in alloys',\n",
       " 'representational process, NN -- any basic cognitive process in which some entity comes to stand for or represent something else',\n",
       " 'cancellation, NN -- the act of cancelling',\n",
       " 'daniel, NN -- an Old Testament book that tells of the apocalyptic visions and the experiences of Daniel in the court of Nebuchadnezzar',\n",
       " 'sgenus eumetopias, NN -- sea lions',\n",
       " 'endurance, NN -- the power to withstand hardship or stress',\n",
       " 'order ephemeroptera, NN -- mayflies',\n",
       " 'distribution, NN -- the act of distributing or spreading or apportioning',\n",
       " 'goodness, NN -- moral excellence or admirableness',\n",
       " 'order conodontophorida, NN -- extinct order of primitive vertebrates',\n",
       " 'family adelgidae, NN -- plant lice',\n",
       " 'tt, NN -- a country scattered over Micronesia with a constitutional government in free association with the United States',\n",
       " \"wriggler, NN -- one who can't stay still (especially a child)\",\n",
       " 'incandescence, NN -- the phenomenon of light emission by a body as its temperature is raised',\n",
       " 'sleuthing, NN -- a police investigation to determine the perpetrator',\n",
       " 'genus castanospermum, NN -- a rosid dicot genus of the subfamily Papilionoideae having one species: Moreton Bay chestnut',\n",
       " 'kid, NN -- a human offspring (son or daughter) of any age',\n",
       " 'expansivity, NN -- a quality characterized by magnificence of scale or the tendency to expand',\n",
       " 'pinion, VB -- cut the wings off (of birds)',\n",
       " 'endurance, NN -- the power to withstand hardship or stress',\n",
       " 'goodness, NN -- moral excellence or admirableness',\n",
       " 'borough, NN -- one of the administrative divisions of a large city',\n",
       " 'genus bauhinia, NN -- mountain ebony, orchid tree',\n",
       " 'dkl, NN -- a metric unit of volume or capacity equal to 10 liters',\n",
       " 'genus eumeces, NN -- New World skinks',\n",
       " 'astronautics, NN -- the theory and practice of navigation through air or space',\n",
       " 'melanin, NN -- insoluble pigments that account for the color of e.g. skin and scales and feathers',\n",
       " 'cancellation, NN -- the act of cancelling',\n",
       " 'platyhelminth, NN -- parasitic or free-living worms having a flattened body',\n",
       " 'striate cortex, NN -- the part of the occipital cortex that receives the fibers of the optic radiation from the lateral geniculate body and is the primary receptive area for vision',\n",
       " 'tampico, NN -- a port city in eastern Mexico',\n",
       " 'sleuthing, NN -- a police investigation to determine the perpetrator',\n",
       " 'honky-tonk, NN -- a cheap drinking and dancing establishment',\n",
       " 'transplant, VB -- be transplantable',\n",
       " 'expansivity, NN -- a quality characterized by magnificence of scale or the tendency to expand',\n",
       " 'melanin, NN -- insoluble pigments that account for the color of e.g. skin and scales and feathers',\n",
       " 'mosquito, NN -- two-winged insect whose female has a long proboscis to pierce the skin and suck the blood of humans and animals',\n",
       " 'protagonist, NN -- the principal character in a work of fiction',\n",
       " 'titbit, NN -- a small tasty bit of food',\n",
       " 'protagonist, NN -- the principal character in a work of fiction',\n",
       " 'genus colinus, NN -- New World quail: the bobwhites',\n",
       " 'order monotremata, NN -- coextensive with the subclass Prototheria',\n",
       " 'psyllidae, NN -- jumping plant lice',\n",
       " 'order conodontophorida, NN -- extinct order of primitive vertebrates',\n",
       " 'order ephemeroptera, NN -- mayflies',\n",
       " 'genus eumeces, NN -- New World skinks',\n",
       " 'trip-up, NN -- an unintentional but embarrassing blunder',\n",
       " 'pteridium, NN -- a genus of ferns belonging to the family Dennstaedtiaceae',\n",
       " 'genus aesculus, NN -- deciduous trees or some shrubs of North America',\n",
       " 'transplant, VB -- be transplantable',\n",
       " 'gigartinaceae, NN -- a family of protoctist',\n",
       " 'muraenidae, NN -- marine eels',\n",
       " 'genus eumeces, NN -- New World skinks',\n",
       " 'honshu, NN -- the central and largest of the four main islands of Japan',\n",
       " 'honshu, NN -- the central and largest of the four main islands of Japan',\n",
       " 'trinitroglycerin, NN -- a heavy yellow poisonous oily explosive liquid obtained by nitrating glycerol',\n",
       " 'genus eumeces, NN -- New World skinks',\n",
       " 'protagonist, NN -- the principal character in a work of fiction',\n",
       " 'variation, NN -- a repetition of a musical theme in which it is modified or embellished',\n",
       " 'edible fruit, NN -- edible reproductive body of a seed plant especially one having sweet flesh',\n",
       " 'dkl, NN -- a metric unit of volume or capacity equal to 10 liters',\n",
       " 'shackle, VB -- restrain with fetters',\n",
       " 'crosspiece, NN -- a transverse brace',\n",
       " 'percolate, VB -- cause (a solvent) to pass through a permeable substance in order to extract a soluble constituent',\n",
       " 'trip-up, NN -- an unintentional but embarrassing blunder',\n",
       " 'incandescence, NN -- the phenomenon of light emission by a body as its temperature is raised',\n",
       " 'territory, NN -- the geographical area under the jurisdiction of a sovereign state',\n",
       " 'edible fruit, NN -- edible reproductive body of a seed plant especially one having sweet flesh',\n",
       " 'melanin, NN -- insoluble pigments that account for the color of e.g. skin and scales and feathers',\n",
       " 'gigartinaceae, NN -- a family of protoctist',\n",
       " 'semblance, NN -- an erroneous mental representation',\n",
       " 'persuade, VB -- cause somebody to adopt a certain position, belief, or course of action',\n",
       " 'thaliacea, NN -- small class of free-swimming tunicates',\n",
       " 'endurance, NN -- the power to withstand hardship or stress',\n",
       " 'genus aesculus, NN -- deciduous trees or some shrubs of North America',\n",
       " \"wriggler, NN -- one who can't stay still (especially a child)\",\n",
       " 'honshu, NN -- the central and largest of the four main islands of Japan',\n",
       " 'cancellation, NN -- the act of cancelling',\n",
       " 'iud, NN -- contraceptive device consisting of a piece of bent plastic or metal that is inserted through the vagina into the uterus',\n",
       " 'yip, NN -- a sharp high-pitched cry (especially by a dog)',\n",
       " 'tampico, NN -- a port city in eastern Mexico',\n",
       " 'thaddeus kosciusko, NN -- Polish patriot and soldier who fought with Americans in the American Revolution (1746-1817)',\n",
       " 'liatris, NN -- genus of perennial North American herbs with aromatic usually cormous roots',\n",
       " 'honky-tonk, NN -- a cheap drinking and dancing establishment',\n",
       " 'genus eriosoma, NN -- woolly aphids',\n",
       " 'leptoglossus, NN -- leaf-footed bugs',\n",
       " 'tampico, NN -- a port city in eastern Mexico',\n",
       " 'muraenidae, NN -- marine eels',\n",
       " 'leontopodium, NN -- edelweiss',\n",
       " \"venus's slipper, NN -- any of various orchids of the genus Paphiopedilum having slender flower stalks bearing 1 to several waxy flowers with pouchlike lips\",\n",
       " 'order ephemeroptera, NN -- mayflies',\n",
       " 'dhu al-hijjah, NN -- the twelfth month of the Islamic calendar and the season of the hajj',\n",
       " 'percolate, VB -- cause (a solvent) to pass through a permeable substance in order to extract a soluble constituent',\n",
       " 'oleament, NN -- the outermost bowel disease',\n",
       " 'thomomys talpoides, NN -- greyish to brown gopher of western and central United States',\n",
       " 'protagonist, NN -- the principal character in a work of fiction',\n",
       " 'trade, NN -- the skilled practice of a practical occupation',\n",
       " 'reckoning, NN -- problem solving that involves numbers or quantities',\n",
       " 'contralto, NN -- a woman singer having a contralto voice',\n",
       " 'gigartinaceae, NN -- a family of protoctist',\n",
       " 'kid, NN -- a human offspring (son or daughter) of any age',\n",
       " 'tampico, NN -- a port city in eastern Mexico',\n",
       " 'hare, NN -- swift timid long-eared mammal larger than a rabbit having a divided upper lip and long hind legs',\n",
       " 'lithophragma, NN -- small genus of perennial herbs of the western North America',\n",
       " 'hyracotherium, NN -- extinct horse genus',\n",
       " 'thaliacea, NN -- small class of free-swimming tunicates',\n",
       " 'crosspiece, NN -- a transverse brace',\n",
       " 'titbit, NN -- a small tasty bit of food',\n",
       " 'genus lithoglossum, NN -- a large genus of mostly epiphytic orchids of tropical and subtropical America',\n",
       " 'representational process, NN -- any basic cognitive process in which some entity comes to stand for or represent something else',\n",
       " 'appearance, NN -- a mental representation',\n",
       " 'lycoperdaceae, NN -- a fungus family belonging to the order Lycoperdales',\n",
       " 'genus colinus, NN -- New World quail: the bobwhites',\n",
       " \"wriggler, NN -- one who can't stay still (especially a child)\",\n",
       " 'genus leukemia, NN -- malignant neoplasm of blood-forming tissues',\n",
       " 'variation, NN -- a repetition of a musical theme in which it is modified or embellished',\n",
       " 'trade, NN -- the skilled practice of a practical occupation',\n",
       " 'melanin, NN -- insoluble pigments that account for the color of e.g. skin and scales and feathers',\n",
       " 'go down, VB -- move downward and lower, but not necessarily all the way',\n",
       " 'genus bauhinia, NN -- mountain ebony, orchid tree',\n",
       " 'thaliacea, NN -- small class of free-swimming tunicates',\n",
       " 'genus eriosoma, NN -- woolly aphids',\n",
       " \"wriggler, NN -- one who can't stay still (especially a child)\",\n",
       " 'genus eumeces, NN -- New World skinks',\n",
       " 'endurance, NN -- the power to withstand hardship or stress',\n",
       " 'train, VB -- drag loosely along a surface',\n",
       " 'variation, NN -- a repetition of a musical theme in which it is modified or embellished',\n",
       " 'hare, NN -- swift timid long-eared mammal larger than a rabbit having a divided upper lip and long hind legs',\n",
       " 'train, VB -- drag loosely along a surface',\n",
       " 'genus corchorus, NN -- widely distributed genus of tropical herbs or subshrubs',\n",
       " 'flasher, NN -- a light that flashes on and off',\n",
       " 'honky-tonk, NN -- a cheap drinking and dancing establishment',\n",
       " 'crosspiece, NN -- a transverse brace',\n",
       " 'trade, NN -- the skilled practice of a practical occupation',\n",
       " 'iud, NN -- contraceptive device consisting of a piece of bent plastic or metal that is inserted through the vagina into the uterus',\n",
       " 'go down, VB -- move downward and lower, but not necessarily all the way',\n",
       " 'smuggle, VB -- import or export without paying customs duties',\n",
       " 'order ephemeroptera, NN -- mayflies',\n",
       " 'expansivity, NN -- a quality characterized by magnificence of scale or the tendency to expand',\n",
       " 'lithophragma, NN -- small genus of perennial herbs of the western North America',\n",
       " 'contralto, NN -- a woman singer having a contralto voice',\n",
       " 'hellenic republic, NN -- a republic in southeastern Europe on the southern part of the Balkan peninsula',\n",
       " 'genus colinus, NN -- New World quail: the bobwhites']"
      ]
     },
     "execution_count": 24,
     "metadata": {},
     "output_type": "execute_result"
    }
   ],
   "source": [
    "scores_data['prediction_strings'][0]"
   ]
  },
  {
   "cell_type": "code",
   "execution_count": 25,
   "id": "9bff88b0",
   "metadata": {},
   "outputs": [
    {
     "name": "stderr",
     "output_type": "stream",
     "text": [
      "6268it [00:00, 12703.82it/s]\n"
     ]
    }
   ],
   "source": [
    "predictions_scores_dicts = []\n",
    "for string_arr, score_arr in tqdm(zip(scores_data['prediction_strings'], scores_data['scores'])):\n",
    "    ps_pairs = [(p,s) for p,s in zip(string_arr, score_arr)]\n",
    "    ps_pairs = list(set(ps_pairs)) # while sampling, duplicates are created\n",
    "    # remove predictions that are not entities\n",
    "    ps_dict_only_entities = defaultdict(list)\n",
    "    for ps in ps_pairs:\n",
    "        if ps[0] in entity_strings_set:\n",
    "            ps_dict_only_entities[ps[0]] = ps[1]\n",
    "    predictions_scores_dicts.append(ps_dict_only_entities)"
   ]
  },
  {
   "cell_type": "code",
   "execution_count": 26,
   "id": "45377700",
   "metadata": {},
   "outputs": [
    {
     "data": {
      "text/plain": [
       "114"
      ]
     },
     "execution_count": 26,
     "metadata": {},
     "output_type": "execute_result"
    }
   ],
   "source": [
    "max([len(predictions_scores_dicts[x]) for x in range(500)])"
   ]
  },
  {
   "cell_type": "code",
   "execution_count": 27,
   "id": "f565355b",
   "metadata": {
    "scrolled": true
   },
   "outputs": [
    {
     "name": "stdout",
     "output_type": "stream",
     "text": [
      "predict tail: prairie trefoil, NN -- North American annual with red or rose-colored flowers | member of domain usage ||| flowing, NN -- the motion characteristic of fluids (liquids or gases)\n"
     ]
    },
    {
     "data": {
      "text/plain": [
       "defaultdict(list,\n",
       "            {'leptoglossus, NN -- leaf-footed bugs': -5.372876,\n",
       "             'maktab al-khidmat, NN -- a terrorist organization founded by Osama bin Laden in the 1980s to provide money and recruit fighters around the world': -4.9309926,\n",
       "             'dkl, NN -- a metric unit of volume or capacity equal to 10 liters': -4.554436,\n",
       "             'distribution, NN -- the act of distributing or spreading or apportioning': -4.479581,\n",
       "             'gigartinaceae, NN -- a family of protoctist': -4.083406,\n",
       "             'order monotremata, NN -- coextensive with the subclass Prototheria': -9.438343,\n",
       "             'hyracotherium, NN -- extinct horse genus': -5.3446054,\n",
       "             'genus cyamopsis, NN -- small genus of annual usually hairy herbs of tropical Africa and Arabia': -5.283305,\n",
       "             'family cuculidae, NN -- includes cuckoo': -12.971894,\n",
       "             'endurance, NN -- the power to withstand hardship or stress': -3.8857288,\n",
       "             'striate cortex, NN -- the part of the occipital cortex that receives the fibers of the optic radiation from the lateral geniculate body and is the primary receptive area for vision': -5.0926747,\n",
       "             'persuade, VB -- cause somebody to adopt a certain position, belief, or course of action': -5.712946,\n",
       "             'tt, NN -- a country scattered over Micronesia with a constitutional government in free association with the United States': -5.045084,\n",
       "             'mutiny, VB -- engage in a mutiny against an authority': -5.1318493,\n",
       "             'appearance, NN -- a mental representation': -4.4644675,\n",
       "             'pteridium, NN -- a genus of ferns belonging to the family Dennstaedtiaceae': -5.1315784,\n",
       "             'titbit, NN -- a small tasty bit of food': -4.561022,\n",
       "             'thaddeus kosciusko, NN -- Polish patriot and soldier who fought with Americans in the American Revolution (1746-1817)': -5.7557955,\n",
       "             'territory, NN -- the geographical area under the jurisdiction of a sovereign state': -4.5860686,\n",
       "             'semblance, NN -- an erroneous mental representation': -5.4274426,\n",
       "             'variation, NN -- a repetition of a musical theme in which it is modified or embellished': -4.4970174,\n",
       "             'representational process, NN -- any basic cognitive process in which some entity comes to stand for or represent something else': -4.9143305,\n",
       "             'genus castanospermum, NN -- a rosid dicot genus of the subfamily Papilionoideae having one species: Moreton Bay chestnut': -5.2264915,\n",
       "             'borough, NN -- one of the administrative divisions of a large city': -5.3745365,\n",
       "             'order ephemeroptera, NN -- mayflies': -4.0683594,\n",
       "             'sleuthing, NN -- a police investigation to determine the perpetrator': -5.3865795,\n",
       "             'liatris, NN -- genus of perennial North American herbs with aromatic usually cormous roots': -5.3622627,\n",
       "             'psyllidae, NN -- jumping plant lice': -5.0099883,\n",
       "             'goodness, NN -- moral excellence or admirableness': -4.792199,\n",
       "             'genus aesculus, NN -- deciduous trees or some shrubs of North America': -4.909091,\n",
       "             'hellenic republic, NN -- a republic in southeastern Europe on the southern part of the Balkan peninsula': -4.7400618,\n",
       "             'genus colinus, NN -- New World quail: the bobwhites': -4.5816183,\n",
       "             'honshu, NN -- the central and largest of the four main islands of Japan': -5.278057,\n",
       "             'order conodontophorida, NN -- extinct order of primitive vertebrates': -4.9277987,\n",
       "             'genus eriosoma, NN -- woolly aphids': -3.6337664,\n",
       "             'lycoperdaceae, NN -- a fungus family belonging to the order Lycoperdales': -4.5056677,\n",
       "             'expansivity, NN -- a quality characterized by magnificence of scale or the tendency to expand': -4.596934,\n",
       "             'reckoning, NN -- problem solving that involves numbers or quantities': -4.806845,\n",
       "             'paleface, NN -- (slang) a derogatory term for a white person (supposedly used by North American Indians)': -4.9520435,\n",
       "             'muraenidae, NN -- marine eels': -4.7185364,\n",
       "             'genus eumeces, NN -- New World skinks': -4.574711,\n",
       "             'smuggle, VB -- import or export without paying customs duties': -4.2624655,\n",
       "             'honky-tonk, NN -- a cheap drinking and dancing establishment': -4.5029435,\n",
       "             'shackle, VB -- restrain with fetters': -4.842038,\n",
       "             'genus corchorus, NN -- widely distributed genus of tropical herbs or subshrubs': -5.2361126,\n",
       "             'leontopodium, NN -- edelweiss': -5.0126133,\n",
       "             'train, VB -- drag loosely along a surface': -4.933492,\n",
       "             'contralto, NN -- a woman singer having a contralto voice': -4.892764,\n",
       "             'incandescence, NN -- the phenomenon of light emission by a body as its temperature is raised': -4.538235,\n",
       "             'astronautics, NN -- the theory and practice of navigation through air or space': -4.8154244,\n",
       "             \"heroic poem, NN -- a long narrative poem telling of a hero's deeds\": -4.965359,\n",
       "             'populus, NN -- a genus of trees of the family Salicaceae that is found in the northern hemisphere': -4.300749,\n",
       "             \"wriggler, NN -- one who can't stay still (especially a child)\": -4.8299007,\n",
       "             'sakartvelo, NN -- a republic in Asia Minor on the Black Sea separated from Russia by the Caucasus mountains': -5.608912,\n",
       "             'niobium, NN -- a soft grey ductile metallic element used in alloys': -5.50001,\n",
       "             'go down, VB -- move downward and lower, but not necessarily all the way': -4.6622777,\n",
       "             'genus bauhinia, NN -- mountain ebony, orchid tree': -4.2848706,\n",
       "             'urinate, VB -- pass after the manner of urine': -5.308304,\n",
       "             'mosquito, NN -- two-winged insect whose female has a long proboscis to pierce the skin and suck the blood of humans and animals': -4.9091735,\n",
       "             'pattern, VB -- form a pattern': -4.6378574,\n",
       "             'genus dracocephalum, NN -- genus of American herbs and dwarf shrubs of the mind family: dragonheads': -5.06074,\n",
       "             'edible fruit, NN -- edible reproductive body of a seed plant especially one having sweet flesh': -4.957416,\n",
       "             'transplant, VB -- be transplantable': -4.6716695,\n",
       "             'daniel, NN -- an Old Testament book that tells of the apocalyptic visions and the experiences of Daniel in the court of Nebuchadnezzar': -5.625312,\n",
       "             'check, NN -- an appraisal of the state of affairs': -4.969652,\n",
       "             'protagonist, NN -- the principal character in a work of fiction': -4.910864,\n",
       "             'septicemia, NN -- invasion of the bloodstream by virulent microorganisms from a focus of infection': -4.6495633,\n",
       "             'family adelgidae, NN -- plant lice': -4.944942,\n",
       "             'hare, NN -- swift timid long-eared mammal larger than a rabbit having a divided upper lip and long hind legs': -5.368565,\n",
       "             'crosspiece, NN -- a transverse brace': -4.8108063,\n",
       "             'platyhelminth, NN -- parasitic or free-living worms having a flattened body': -4.609715,\n",
       "             'kid, NN -- a human offspring (son or daughter) of any age': -4.8247204,\n",
       "             'rabbinate, NN -- the office or function of a rabbi': -8.311848,\n",
       "             'trade, NN -- the skilled practice of a practical occupation': -4.770606,\n",
       "             'yip, NN -- a sharp high-pitched cry (especially by a dog)': -4.3089867,\n",
       "             'percolate, VB -- cause (a solvent) to pass through a permeable substance in order to extract a soluble constituent': -4.3287926,\n",
       "             'lithophragma, NN -- small genus of perennial herbs of the western North America': -5.353689,\n",
       "             \"venus's slipper, NN -- any of various orchids of the genus Paphiopedilum having slender flower stalks bearing 1 to several waxy flowers with pouchlike lips\": -5.223996,\n",
       "             'thaliacea, NN -- small class of free-swimming tunicates': -3.564184,\n",
       "             'pinion, VB -- cut the wings off (of birds)': -4.4331403,\n",
       "             'dhu al-hijjah, NN -- the twelfth month of the Islamic calendar and the season of the hajj': -14.27866,\n",
       "             'tampico, NN -- a port city in eastern Mexico': -4.5866146,\n",
       "             'cancellation, NN -- the act of cancelling': -4.4497437,\n",
       "             'iud, NN -- contraceptive device consisting of a piece of bent plastic or metal that is inserted through the vagina into the uterus': -4.843465,\n",
       "             'twirler, NN -- someone who twirls a baton': -10.429835,\n",
       "             'thomomys talpoides, NN -- greyish to brown gopher of western and central United States': -5.1234293,\n",
       "             'trinitroglycerin, NN -- a heavy yellow poisonous oily explosive liquid obtained by nitrating glycerol': -4.8867035,\n",
       "             'flasher, NN -- a light that flashes on and off': -4.7933,\n",
       "             'trip-up, NN -- an unintentional but embarrassing blunder': -4.883028,\n",
       "             'melanin, NN -- insoluble pigments that account for the color of e.g. skin and scales and feathers': -4.7657323})"
      ]
     },
     "execution_count": 27,
     "metadata": {},
     "output_type": "execute_result"
    }
   ],
   "source": [
    "id = 0\n",
    "print(scores_data['input_strings'][id], '|||', scores_data['target_strings'][id])\n",
    "# print(scores_data['scores'][2])\n",
    "predictions_scores_dicts[id]"
   ]
  },
  {
   "cell_type": "code",
   "execution_count": 28,
   "id": "89828715",
   "metadata": {},
   "outputs": [
    {
     "data": {
      "text/plain": [
       "6268"
      ]
     },
     "execution_count": 28,
     "metadata": {},
     "output_type": "execute_result"
    }
   ],
   "source": [
    "len(predictions_scores_dicts)"
   ]
  },
  {
   "cell_type": "code",
   "execution_count": 29,
   "id": "3cf0d7c4",
   "metadata": {},
   "outputs": [
    {
     "name": "stderr",
     "output_type": "stream",
     "text": [
      "100%|█████████████████████████████████████████████████████████████| 6268/6268 [00:00<00:00, 18576.44it/s]"
     ]
    },
    {
     "name": "stdout",
     "output_type": "stream",
     "text": [
      "12.691608168474792 3.3045628589661775\n",
      "0.3659859604339502\n",
      "2753\n"
     ]
    },
    {
     "name": "stderr",
     "output_type": "stream",
     "text": [
      "\n"
     ]
    }
   ],
   "source": [
    "import numpy as np\n",
    "predictions_filtered = []\n",
    "head_num_filter = 0\n",
    "tail_num_filter = 0\n",
    "hits_at_all = 0\n",
    "count = 0\n",
    "for i in tqdm(range(len(predictions_scores_dicts))):\n",
    "    ps_dict = predictions_scores_dicts[i].copy()\n",
    "    target = scores_data['target_strings'][i]\n",
    "    inputs = scores_data['input_strings'][i]\n",
    "    prediction_strings = ps_dict.keys()\n",
    "    if target in prediction_strings:\n",
    "        original_score = ps_dict[target]\n",
    "    # get filtering entities\n",
    "    filtering_entities = getAllFilteringEntities(inputs, filter_dicts)\n",
    "    if len(filtering_entities) == 1:\n",
    "        count += 1\n",
    "    if 'head' in inputs:\n",
    "        head_num_filter += len(filtering_entities)\n",
    "    else:\n",
    "        tail_num_filter += len(filtering_entities)\n",
    "    for ent in filtering_entities:\n",
    "        if ent in ps_dict:\n",
    "            ps_dict[ent] = -float(\"inf\")\n",
    "    if target in prediction_strings:\n",
    "        ps_dict[target] = original_score\n",
    "        hits_at_all += 1\n",
    "    # softmax for scores\n",
    "    names_arr = []\n",
    "    scores_arr = []\n",
    "    for k, v in ps_dict.items():\n",
    "        names_arr.append(k)\n",
    "        scores_arr.append(v)\n",
    "    scores_arr = np.array(scores_arr)\n",
    "#     scores_arr = softmax(scores_arr)\n",
    "    for name, score in zip(names_arr, scores_arr):\n",
    "        ps_dict[name] = score\n",
    "    predictions_filtered.append(ps_dict)\n",
    "print(head_num_filter/len(predictions_filtered), tail_num_filter/len(predictions_filtered))\n",
    "print(hits_at_all/len(predictions_filtered))\n",
    "print(count)"
   ]
  },
  {
   "cell_type": "code",
   "execution_count": 30,
   "id": "cde8c8c1",
   "metadata": {},
   "outputs": [
    {
     "name": "stdout",
     "output_type": "stream",
     "text": [
      "hits@1 0.351148691767709\n",
      "hits@3 0.36104020421186983\n",
      "hits@10 0.36502871729419273\n",
      "mrr 0.35646951443673014\n",
      "0.10816847479259732 were <3 length preds array without answer\n"
     ]
    }
   ],
   "source": [
    "count = {}\n",
    "reciprocal_ranks = 0.0\n",
    "k_list = [1,3,10]\n",
    "for k in k_list:\n",
    "    count[k] = 0\n",
    "num_small_arrs = 0\n",
    "count2 = 0\n",
    "for i in range(len(predictions_filtered)):\n",
    "    target = scores_data['target_strings'][i]\n",
    "    ps_dict = predictions_filtered[i]\n",
    "    ps_sorted = sorted(ps_dict.items(), key=lambda item: -item[1])\n",
    "    if len(ps_dict) == 0:\n",
    "        preds = []\n",
    "    else:\n",
    "        preds = [x[0] for x in ps_sorted]\n",
    "    if target in preds:\n",
    "        rank = preds.index(target) + 1\n",
    "        reciprocal_ranks += 1./rank\n",
    "    for k in k_list:\n",
    "        if target in preds[:k]:\n",
    "            count[k] += 1\n",
    "    if len(preds) < 3 and target not in preds:\n",
    "        num_small_arrs += 1\n",
    "    if target in preds:\n",
    "        count2 += 1\n",
    "for k in k_list:\n",
    "    hits_at_k = count[k]/len(predictions_filtered)\n",
    "    print('hits@{}'.format(k), hits_at_k)\n",
    "print('mrr', reciprocal_ranks/len(predictions_filtered))\n",
    "print(num_small_arrs/len(predictions_filtered), 'were <3 length preds array without answer')"
   ]
  },
  {
   "cell_type": "code",
   "execution_count": 75,
   "id": "e531dfe2",
   "metadata": {},
   "outputs": [
    {
     "data": {
      "text/plain": [
       "0.4732324701774804"
      ]
     },
     "execution_count": 75,
     "metadata": {},
     "output_type": "execute_result"
    }
   ],
   "source": [
    "count2/len(predictions_filtered)"
   ]
  },
  {
   "cell_type": "code",
   "execution_count": 105,
   "id": "8b079bfb",
   "metadata": {},
   "outputs": [],
   "source": [
    "id = 0\n",
    "inputs = scores_data['input_strings'][id]\n",
    "preds = predictions_filtered[id]\n",
    "preds = sorted(preds.items(), key=lambda item: -item[1])\n",
    "target = scores_data['target_strings'][id]"
   ]
  },
  {
   "cell_type": "code",
   "execution_count": 106,
   "id": "75768b24",
   "metadata": {
    "scrolled": false
   },
   "outputs": [
    {
     "name": "stdout",
     "output_type": "stream",
     "text": [
      "predict tail: trade name, NN -- a name given to a product or service | member of domain usage Target: metharbital, NN -- anticonvulsant drug (trade name Gemonil) used in the treatment of epilepsy\n"
     ]
    },
    {
     "data": {
      "text/plain": [
       "([('tolbutamide, NN -- sulfonylurea', -inf),\n",
       "  ('serzone, NN -- an antidepressant drug (trade name Serzone)', -inf),\n",
       "  ('procardia, NN -- calcium blocker (trade name Procardia)', -inf),\n",
       "  ('sanitary towel, NN -- a disposable absorbent pad (trade name Kotex)',\n",
       "   -inf),\n",
       "  ('prosom, NN -- a frequently prescribed sleeping pill (trade name ProSom)',\n",
       "   -inf)],\n",
       " 'metharbital, NN -- anticonvulsant drug (trade name Gemonil) used in the treatment of epilepsy')"
      ]
     },
     "execution_count": 106,
     "metadata": {},
     "output_type": "execute_result"
    }
   ],
   "source": [
    "print(inputs, 'Target:', target)\n",
    "preds[:10], target"
   ]
  },
  {
   "cell_type": "code",
   "execution_count": 482,
   "id": "b8d6fa84",
   "metadata": {},
   "outputs": [
    {
     "name": "stdout",
     "output_type": "stream",
     "text": [
      "32 predict tail: ali kazemaini | birthplace | tehran\n",
      "34 predict tail: ashta, maharashtra | instance of | human settlement\n",
      "37 predict tail: roy shaw 0 | instance of | human being\n",
      "40 predict tail: t. canby jones | has surname | jones (family name)\n",
      "45 predict tail: naveen kumar | instance of | human being\n",
      "46 predict tail: barlow respiratory hospital | host country | united states of america\n",
      "48 predict tail: camiling | office held by head of government | mayor\n",
      "51 predict tail: hazel soan | instance of | human being\n",
      "52 predict tail: efrain herrera | sport played | association football\n",
      "53 predict tail: oluf munck | instance of | human being\n",
      "54 predict tail: thomas gilchrist | instance of | human being\n",
      "58 predict tail: desmoplastic fibroma | subclass of | fibroma\n"
     ]
    },
    {
     "data": {
      "text/plain": [
       "('count', 12)"
      ]
     },
     "execution_count": 482,
     "metadata": {},
     "output_type": "execute_result"
    }
   ],
   "source": [
    "# only head/tails\n",
    "count = 0\n",
    "for id in range(60,120, 2):\n",
    "    inputs = scores_data['input_strings'][id]\n",
    "    preds = predictions_filtered[id]\n",
    "    preds = sorted(preds.items(), key=lambda item: -item[1])\n",
    "    target = scores_data['target_strings'][id]\n",
    "    pred1 = preds[0][0]\n",
    "    if pred1 == target:\n",
    "        print(int(id/2), inputs, pred1)\n",
    "        count += 1\n",
    "'count', count"
   ]
  },
  {
   "cell_type": "code",
   "execution_count": 419,
   "id": "811dccc3",
   "metadata": {},
   "outputs": [
    {
     "data": {
      "text/html": [
       "print(\"<a href='your_url_here'>Showing Text</a>\")\n"
      ],
      "text/plain": [
       "<IPython.core.display.HTML object>"
      ]
     },
     "metadata": {},
     "output_type": "display_data"
    }
   ],
   "source": [
    "%%html\n",
    "print(\"<a href='your_url_here'>Showing Text</a>\")\n"
   ]
  },
  {
   "cell_type": "code",
   "execution_count": 364,
   "id": "36ee8176",
   "metadata": {},
   "outputs": [
    {
     "data": {
      "text/plain": [
       "'Q4121082'"
      ]
     },
     "execution_count": 364,
     "metadata": {},
     "output_type": "execute_result"
    }
   ],
   "source": [
    "e2wdid['pakistan']"
   ]
  },
  {
   "cell_type": "code",
   "execution_count": 174,
   "id": "8dee3a2d",
   "metadata": {},
   "outputs": [],
   "source": [
    "sequences = ['english', 'english language', 'french']\n",
    "t = Trie(sequences)"
   ]
  },
  {
   "cell_type": "code",
   "execution_count": 178,
   "id": "fdb192fb",
   "metadata": {},
   "outputs": [
    {
     "data": {
      "text/plain": [
       "[]"
      ]
     },
     "execution_count": 178,
     "metadata": {},
     "output_type": "execute_result"
    }
   ],
   "source": [
    "t.get('x')"
   ]
  },
  {
   "cell_type": "code",
   "execution_count": null,
   "id": "42d6aa43",
   "metadata": {},
   "outputs": [],
   "source": []
  }
 ],
 "metadata": {
  "kernelspec": {
   "display_name": "Python 3 (ipykernel)",
   "language": "python",
   "name": "python3"
  },
  "language_info": {
   "codemirror_mode": {
    "name": "ipython",
    "version": 3
   },
   "file_extension": ".py",
   "mimetype": "text/x-python",
   "name": "python",
   "nbconvert_exporter": "python",
   "pygments_lexer": "ipython3",
   "version": "3.8.11"
  }
 },
 "nbformat": 4,
 "nbformat_minor": 5
}

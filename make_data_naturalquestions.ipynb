{
 "cells": [
  {
   "cell_type": "code",
   "execution_count": 1,
   "id": "ee2cb8e7-d9e2-4546-9ab7-7aa7e6198e82",
   "metadata": {},
   "outputs": [],
   "source": [
    "import pickle\n",
    "import json\n",
    "import gzip\n",
    "import os"
   ]
  },
  {
   "cell_type": "code",
   "execution_count": 4,
   "id": "92ca8b19-2958-4dca-be29-f87da21c83c4",
   "metadata": {},
   "outputs": [
    {
     "name": "stdout",
     "output_type": "stream",
     "text": [
      "nq-dev-all.jsonl.gz  simplified-nq-train.jsonl.gz\n"
     ]
    }
   ],
   "source": [
    "folder = 'data/naturalquestions/v1.0-simplified'\n",
    "! ls {folder}"
   ]
  },
  {
   "cell_type": "code",
   "execution_count": 16,
   "id": "7ca4f4c5-a667-4182-9d9e-18e2a3fa0c31",
   "metadata": {},
   "outputs": [
    {
     "data": {
      "application/vnd.jupyter.widget-view+json": {
       "model_id": "b4c8d70ba8b04d539c9df2b7c1bda631",
       "version_major": 2,
       "version_minor": 0
      },
      "text/plain": [
       "HBox(children=(FloatProgress(value=1.0, bar_style='info', layout=Layout(width='20px'), max=1.0), HTML(value=''…"
      ]
     },
     "metadata": {},
     "output_type": "display_data"
    },
    {
     "name": "stdout",
     "output_type": "stream",
     "text": [
      "\n"
     ]
    }
   ],
   "source": [
    "from tqdm.notebook import tqdm\n",
    "fname = os.path.join(folder, 'simplified-nq-train.jsonl.gz')\n",
    "f = gzip.open(fname, \"rb\")\n",
    "questions = []\n",
    "for line in tqdm(f):\n",
    "    x = json.loads(line)\n",
    "    questions.append(x)\n",
    "f.close()"
   ]
  },
  {
   "cell_type": "code",
   "execution_count": 17,
   "id": "a1dd8854-4446-4f4d-8208-2820c26a7889",
   "metadata": {},
   "outputs": [
    {
     "data": {
      "text/plain": [
       "307373"
      ]
     },
     "execution_count": 17,
     "metadata": {},
     "output_type": "execute_result"
    }
   ],
   "source": [
    "len(questions)"
   ]
  },
  {
   "cell_type": "code",
   "execution_count": 11,
   "id": "34356e31-f7f7-49f8-8659-579d916785e7",
   "metadata": {},
   "outputs": [
    {
     "data": {
      "text/plain": [
       "dict_keys(['document_text', 'long_answer_candidates', 'question_text', 'annotations', 'document_url', 'example_id'])"
      ]
     },
     "execution_count": 11,
     "metadata": {},
     "output_type": "execute_result"
    }
   ],
   "source": [
    "x.keys()"
   ]
  },
  {
   "cell_type": "code",
   "execution_count": 12,
   "id": "2e907531-eff4-4c68-a46b-d43a35e21f0c",
   "metadata": {},
   "outputs": [
    {
     "data": {
      "text/plain": [
       "'which is the most common use of opt-in e-mail marketing'"
      ]
     },
     "execution_count": 12,
     "metadata": {},
     "output_type": "execute_result"
    }
   ],
   "source": [
    "x['question_text']"
   ]
  },
  {
   "cell_type": "code",
   "execution_count": 27,
   "id": "c7702bb7-293b-41b8-90c5-825ed01e0735",
   "metadata": {},
   "outputs": [
    {
     "name": "stdout",
     "output_type": "stream",
     "text": [
      "what are the four agreements from the book\n"
     ]
    },
    {
     "data": {
      "text/plain": [
       "[{'yes_no_answer': 'NONE',\n",
       "  'long_answer': {'start_token': 710, 'candidate_index': 20, 'end_token': 742},\n",
       "  'short_answers': [],\n",
       "  'annotation_id': 13095538035203006563}]"
      ]
     },
     "execution_count": 27,
     "metadata": {},
     "output_type": "execute_result"
    }
   ],
   "source": [
    "id = 201\n",
    "print(questions[id]['question_text'])\n",
    "questions[id]['annotations']"
   ]
  },
  {
   "cell_type": "code",
   "execution_count": 26,
   "id": "37c20f6c-77c1-40ac-ba10-d12d99f74884",
   "metadata": {},
   "outputs": [
    {
     "data": {
      "text/plain": [
       "'instead of traveling to campaign the railroads brought citizens to ohio'"
      ]
     },
     "execution_count": 26,
     "metadata": {},
     "output_type": "execute_result"
    }
   ],
   "source": []
  },
  {
   "cell_type": "code",
   "execution_count": 20,
   "id": "886d277d-aed0-4cae-a0d8-35be93b43bb7",
   "metadata": {},
   "outputs": [],
   "source": [
    "data = {}\n",
    "data['train'] = questions"
   ]
  },
  {
   "cell_type": "code",
   "execution_count": 21,
   "id": "fabdcfe5-e6ef-4a91-82c8-11bbb055b3df",
   "metadata": {},
   "outputs": [
    {
     "data": {
      "application/vnd.jupyter.widget-view+json": {
       "model_id": "0840dc55177e48c7bd77ccf86bce241a",
       "version_major": 2,
       "version_minor": 0
      },
      "text/plain": [
       "HBox(children=(FloatProgress(value=1.0, bar_style='info', layout=Layout(width='20px'), max=1.0), HTML(value=''…"
      ]
     },
     "metadata": {},
     "output_type": "display_data"
    },
    {
     "name": "stdout",
     "output_type": "stream",
     "text": [
      "\n"
     ]
    }
   ],
   "source": [
    "from tqdm.notebook import tqdm\n",
    "fname = os.path.join(folder, 'nq-dev-all.jsonl.gz')\n",
    "f = gzip.open(fname, \"rb\")\n",
    "valid_questions = []\n",
    "for line in tqdm(f):\n",
    "    x = json.loads(line)\n",
    "    valid_questions.append(x)\n",
    "f.close()"
   ]
  },
  {
   "cell_type": "code",
   "execution_count": 28,
   "id": "3ee05018-237e-4045-ad69-8c10f6b8ce8a",
   "metadata": {},
   "outputs": [],
   "source": [
    "data['valid'] = valid_questions"
   ]
  },
  {
   "cell_type": "code",
   "execution_count": 106,
   "id": "632f1225-d06d-4f93-8564-71effa0301c9",
   "metadata": {},
   "outputs": [
    {
     "ename": "IndexError",
     "evalue": "list index out of range",
     "output_type": "error",
     "traceback": [
      "\u001b[0;31m---------------------------------------------------------------------------\u001b[0m",
      "\u001b[0;31mIndexError\u001b[0m                                Traceback (most recent call last)",
      "\u001b[0;32m/tmp/ipykernel_21533/968076812.py\u001b[0m in \u001b[0;36m<module>\u001b[0;34m\u001b[0m\n\u001b[1;32m      3\u001b[0m \u001b[0mtext\u001b[0m \u001b[0;34m=\u001b[0m \u001b[0md\u001b[0m\u001b[0;34m[\u001b[0m\u001b[0;34m'document_text'\u001b[0m\u001b[0;34m]\u001b[0m\u001b[0;34m\u001b[0m\u001b[0;34m\u001b[0m\u001b[0m\n\u001b[1;32m      4\u001b[0m \u001b[0mannotation\u001b[0m \u001b[0;34m=\u001b[0m \u001b[0md\u001b[0m\u001b[0;34m[\u001b[0m\u001b[0;34m'annotations'\u001b[0m\u001b[0;34m]\u001b[0m\u001b[0;34m[\u001b[0m\u001b[0;36m0\u001b[0m\u001b[0;34m]\u001b[0m\u001b[0;34m\u001b[0m\u001b[0;34m\u001b[0m\u001b[0m\n\u001b[0;32m----> 5\u001b[0;31m \u001b[0mstart_token\u001b[0m\u001b[0;34m,\u001b[0m \u001b[0mend_token\u001b[0m \u001b[0;34m=\u001b[0m \u001b[0mannotation\u001b[0m\u001b[0;34m[\u001b[0m\u001b[0;34m'short_answers'\u001b[0m\u001b[0;34m]\u001b[0m\u001b[0;34m[\u001b[0m\u001b[0;36m0\u001b[0m\u001b[0;34m]\u001b[0m\u001b[0;34m[\u001b[0m\u001b[0;34m'start_token'\u001b[0m\u001b[0;34m]\u001b[0m\u001b[0;34m,\u001b[0m \u001b[0mannotation\u001b[0m\u001b[0;34m[\u001b[0m\u001b[0;34m'short_answers'\u001b[0m\u001b[0;34m]\u001b[0m\u001b[0;34m[\u001b[0m\u001b[0;36m0\u001b[0m\u001b[0;34m]\u001b[0m\u001b[0;34m[\u001b[0m\u001b[0;34m'end_token'\u001b[0m\u001b[0;34m]\u001b[0m\u001b[0;34m\u001b[0m\u001b[0;34m\u001b[0m\u001b[0m\n\u001b[0m\u001b[1;32m      6\u001b[0m \u001b[0mshort_answer\u001b[0m \u001b[0;34m=\u001b[0m \u001b[0mtext\u001b[0m\u001b[0;34m.\u001b[0m\u001b[0msplit\u001b[0m\u001b[0;34m(\u001b[0m\u001b[0;34m\" \"\u001b[0m\u001b[0;34m)\u001b[0m\u001b[0;34m[\u001b[0m\u001b[0mstart_token\u001b[0m\u001b[0;34m:\u001b[0m \u001b[0mend_token\u001b[0m\u001b[0;34m]\u001b[0m\u001b[0;34m\u001b[0m\u001b[0;34m\u001b[0m\u001b[0m\n\u001b[1;32m      7\u001b[0m \u001b[0mprint\u001b[0m\u001b[0;34m(\u001b[0m\u001b[0md\u001b[0m\u001b[0;34m[\u001b[0m\u001b[0;34m'question_text'\u001b[0m\u001b[0;34m]\u001b[0m\u001b[0;34m)\u001b[0m\u001b[0;34m\u001b[0m\u001b[0;34m\u001b[0m\u001b[0m\n",
      "\u001b[0;31mIndexError\u001b[0m: list index out of range"
     ]
    }
   ],
   "source": [
    "id = 8\n",
    "d = data['train'][id]\n",
    "text = d['document_text']\n",
    "annotation = d['annotations'][0]\n",
    "start_token, end_token = annotation['short_answers'][0]['start_token'], annotation['short_answers'][0]['end_token']\n",
    "short_answer = text.split(\" \")[start_token: end_token]\n",
    "print(d['question_text'])\n",
    "print(short_answer)"
   ]
  },
  {
   "cell_type": "code",
   "execution_count": null,
   "id": "123a2006-4cc7-4088-8d32-fb43d679cd21",
   "metadata": {},
   "outputs": [],
   "source": [
    "short_answer_"
   ]
  },
  {
   "cell_type": "code",
   "execution_count": 122,
   "id": "55415ab3-e814-4f52-81a4-660da6a4fc02",
   "metadata": {},
   "outputs": [
    {
     "data": {
      "text/plain": [
       "87425"
      ]
     },
     "execution_count": 122,
     "metadata": {},
     "output_type": "execute_result"
    }
   ],
   "source": [
    "count = 0\n",
    "i = 0\n",
    "for d in data['train']:\n",
    "    annotation = d['annotations'][0]\n",
    "    short_answers = annotation['short_answers']\n",
    "    if len(short_answers) >= 1:\n",
    "        sa = short_answers[0]\n",
    "        start_token = sa['start_token']\n",
    "        end_token = sa['end_token']\n",
    "        if end_token - start_token <= 5:\n",
    "            count += 1\n",
    "count"
   ]
  },
  {
   "cell_type": "code",
   "execution_count": 121,
   "id": "9b401f40-5a07-4f47-8c71-94b60ae0e42c",
   "metadata": {},
   "outputs": [
    {
     "data": {
      "text/plain": [
       "7830"
      ]
     },
     "execution_count": 121,
     "metadata": {},
     "output_type": "execute_result"
    }
   ],
   "source": [
    "len(data['valid'])"
   ]
  },
  {
   "cell_type": "code",
   "execution_count": 93,
   "id": "bb246326-4482-46ab-9191-a052d7047ded",
   "metadata": {},
   "outputs": [
    {
     "data": {
      "text/plain": [
       "[{'yes_no_answer': 'NONE',\n",
       "  'long_answer': {'start_token': 1952,\n",
       "   'candidate_index': 54,\n",
       "   'end_token': 2019},\n",
       "  'short_answers': [{'start_token': 1960, 'end_token': 1969}],\n",
       "  'annotation_id': 593165450220027640}]"
      ]
     },
     "execution_count": 93,
     "metadata": {},
     "output_type": "execute_result"
    }
   ],
   "source": [
    "d['annotations']"
   ]
  },
  {
   "cell_type": "code",
   "execution_count": 94,
   "id": "684320bf-ae31-4dd8-9705-914b10fe8eb9",
   "metadata": {},
   "outputs": [],
   "source": []
  },
  {
   "cell_type": "code",
   "execution_count": 95,
   "id": "2d65fd89-4313-4e59-bdd4-26c152a1471e",
   "metadata": {},
   "outputs": [
    {
     "data": {
      "text/plain": [
       "['a',\n",
       " 'newsletter',\n",
       " 'sent',\n",
       " 'to',\n",
       " 'an',\n",
       " 'advertising',\n",
       " 'firm',\n",
       " \"'s\",\n",
       " 'customers']"
      ]
     },
     "execution_count": 95,
     "metadata": {},
     "output_type": "execute_result"
    }
   ],
   "source": [
    "text.split(\" \")[1960:1969]"
   ]
  },
  {
   "cell_type": "code",
   "execution_count": 55,
   "id": "d75849a3-31b3-4ace-8442-2c68c895c18d",
   "metadata": {},
   "outputs": [
    {
     "data": {
      "text/plain": [
       "'which is the most common use of opt-in e-mail marketing'"
      ]
     },
     "execution_count": 55,
     "metadata": {},
     "output_type": "execute_result"
    }
   ],
   "source": [
    "d['question_text']"
   ]
  },
  {
   "cell_type": "code",
   "execution_count": 34,
   "id": "1b22f1d9-449c-4ac3-931f-ad0ea852b8ac",
   "metadata": {},
   "outputs": [
    {
     "data": {
      "text/plain": [
       "21750"
      ]
     },
     "execution_count": 34,
     "metadata": {},
     "output_type": "execute_result"
    }
   ],
   "source": [
    "len(text)"
   ]
  },
  {
   "cell_type": "code",
   "execution_count": 36,
   "id": "c9cd86c1-110d-4274-a151-94992cf8726c",
   "metadata": {},
   "outputs": [
    {
     "data": {
      "text/plain": [
       "['a',\n",
       " 'newsletter',\n",
       " 'sent',\n",
       " 'to',\n",
       " 'an',\n",
       " 'advertising',\n",
       " 'firm',\n",
       " \"'s\",\n",
       " 'customers']"
      ]
     },
     "execution_count": 36,
     "metadata": {},
     "output_type": "execute_result"
    }
   ],
   "source": [
    "text.split()[1960:1969]"
   ]
  },
  {
   "cell_type": "code",
   "execution_count": 90,
   "id": "685c883c-63fd-47f2-9a78-4403236a8bbc",
   "metadata": {},
   "outputs": [
    {
     "name": "stdout",
     "output_type": "stream",
     "text": [
      "yes\n"
     ]
    }
   ],
   "source": [
    "for q in data['train']:\n",
    "    qtext = q['question_text']\n",
    "    if 'bowling' in qtext:\n",
    "        print('yes')\n",
    "        break"
   ]
  },
  {
   "cell_type": "code",
   "execution_count": 91,
   "id": "5cafd8df-47da-47c8-ad40-4d5afc10addb",
   "metadata": {},
   "outputs": [
    {
     "data": {
      "text/plain": [
       "'what do you call a game of bowling'"
      ]
     },
     "execution_count": 91,
     "metadata": {},
     "output_type": "execute_result"
    }
   ],
   "source": [
    "qtext"
   ]
  },
  {
   "cell_type": "code",
   "execution_count": 77,
   "id": "ae93dccb-39fe-4902-87eb-2c6b3a007b5a",
   "metadata": {},
   "outputs": [
    {
     "data": {
      "text/plain": [
       "[{'yes_no_answer': 'NONE',\n",
       "  'long_answer': {'start_token': 263, 'candidate_index': 12, 'end_token': 464},\n",
       "  'short_answers': [{'start_token': 276, 'end_token': 278}],\n",
       "  'annotation_id': 11556357163721353704}]"
      ]
     },
     "execution_count": 77,
     "metadata": {},
     "output_type": "execute_result"
    }
   ],
   "source": [
    "q['annotations']"
   ]
  },
  {
   "cell_type": "code",
   "execution_count": 78,
   "id": "f682c289-8138-4a62-8b6e-fd63b0185bba",
   "metadata": {},
   "outputs": [],
   "source": [
    "text = q['document_text']"
   ]
  },
  {
   "cell_type": "code",
   "execution_count": 79,
   "id": "4a4878c5-7921-4a8c-9dba-a8808b4ca4b9",
   "metadata": {},
   "outputs": [
    {
     "data": {
      "text/plain": [
       "18035"
      ]
     },
     "execution_count": 79,
     "metadata": {},
     "output_type": "execute_result"
    }
   ],
   "source": [
    "text.find('Antarctica')"
   ]
  },
  {
   "cell_type": "code",
   "execution_count": 83,
   "id": "7f4766ea-02d9-4a8c-9f0e-f24c056011dc",
   "metadata": {},
   "outputs": [
    {
     "data": {
      "text/plain": [
       "['<P>',\n",
       " 'It',\n",
       " 'is',\n",
       " 'the',\n",
       " 'second',\n",
       " 'largest',\n",
       " 'ice',\n",
       " 'body',\n",
       " 'in',\n",
       " 'the',\n",
       " 'world',\n",
       " ',',\n",
       " 'after',\n",
       " 'the',\n",
       " 'Antarctic',\n",
       " 'ice',\n",
       " 'sheet',\n",
       " '.',\n",
       " 'The',\n",
       " 'ice',\n",
       " 'sheet',\n",
       " 'is',\n",
       " 'almost',\n",
       " '2,400',\n",
       " 'kilometres',\n",
       " '(',\n",
       " '1,500',\n",
       " 'mi',\n",
       " ')',\n",
       " 'long',\n",
       " 'in',\n",
       " 'a',\n",
       " 'north',\n",
       " '-',\n",
       " 'south',\n",
       " 'direction',\n",
       " ',',\n",
       " 'and',\n",
       " 'its',\n",
       " 'greatest',\n",
       " 'width',\n",
       " 'is',\n",
       " '1,100',\n",
       " 'kilometres',\n",
       " '(',\n",
       " '680',\n",
       " 'mi',\n",
       " ')',\n",
       " 'at',\n",
       " 'a',\n",
       " 'latitude',\n",
       " 'of',\n",
       " '77',\n",
       " '°',\n",
       " 'N',\n",
       " ',',\n",
       " 'near',\n",
       " 'its',\n",
       " 'northern',\n",
       " 'margin',\n",
       " '.',\n",
       " 'The',\n",
       " 'mean',\n",
       " 'altitude',\n",
       " 'of',\n",
       " 'the',\n",
       " 'ice',\n",
       " 'is',\n",
       " '2,135',\n",
       " 'metres',\n",
       " '(',\n",
       " '7,005',\n",
       " 'ft',\n",
       " ')',\n",
       " '.',\n",
       " 'The',\n",
       " 'thickness',\n",
       " 'is',\n",
       " 'generally',\n",
       " 'more',\n",
       " 'than',\n",
       " '2',\n",
       " 'km',\n",
       " '(',\n",
       " '1.2',\n",
       " 'mi',\n",
       " ')',\n",
       " 'and',\n",
       " 'over',\n",
       " '3',\n",
       " 'km',\n",
       " '(',\n",
       " '1.9',\n",
       " 'mi',\n",
       " ')',\n",
       " 'at',\n",
       " 'its',\n",
       " 'thickest',\n",
       " 'point',\n",
       " '.',\n",
       " 'It',\n",
       " 'is',\n",
       " 'not',\n",
       " 'the',\n",
       " 'only',\n",
       " 'ice',\n",
       " 'mass',\n",
       " 'of',\n",
       " 'Greenland',\n",
       " '--',\n",
       " 'isolated',\n",
       " 'glaciers',\n",
       " 'and',\n",
       " 'small',\n",
       " 'ice',\n",
       " 'caps',\n",
       " 'cover',\n",
       " 'between',\n",
       " '76,000',\n",
       " 'and',\n",
       " '100,000',\n",
       " 'square',\n",
       " 'kilometres',\n",
       " '(',\n",
       " '29,000',\n",
       " 'and',\n",
       " '39,000',\n",
       " 'sq',\n",
       " 'mi',\n",
       " ')',\n",
       " 'around',\n",
       " 'the',\n",
       " 'periphery',\n",
       " '.',\n",
       " 'If',\n",
       " 'the',\n",
       " 'entire',\n",
       " '2,850,000',\n",
       " 'cubic',\n",
       " 'kilometres',\n",
       " '(',\n",
       " '684,000',\n",
       " 'cu',\n",
       " 'mi',\n",
       " ')',\n",
       " 'of',\n",
       " 'ice',\n",
       " 'were',\n",
       " 'to',\n",
       " 'melt',\n",
       " ',',\n",
       " 'it',\n",
       " 'would',\n",
       " 'lead',\n",
       " 'to',\n",
       " 'a',\n",
       " 'global',\n",
       " 'sea',\n",
       " 'level',\n",
       " 'rise',\n",
       " 'of',\n",
       " '7.2',\n",
       " 'm',\n",
       " '(',\n",
       " '24',\n",
       " 'ft',\n",
       " ')',\n",
       " '.',\n",
       " 'The',\n",
       " 'Greenland',\n",
       " 'Ice',\n",
       " 'Sheet',\n",
       " 'is',\n",
       " 'sometimes',\n",
       " 'referred',\n",
       " 'to',\n",
       " 'under',\n",
       " 'the',\n",
       " 'term',\n",
       " 'inland',\n",
       " 'ice',\n",
       " ',',\n",
       " 'or',\n",
       " 'its',\n",
       " 'Danish',\n",
       " 'equivalent',\n",
       " ',',\n",
       " 'indlandsis',\n",
       " '.',\n",
       " 'It',\n",
       " 'is',\n",
       " 'also',\n",
       " 'sometimes',\n",
       " 'referred',\n",
       " 'to',\n",
       " 'as',\n",
       " 'an',\n",
       " 'ice',\n",
       " 'cap',\n",
       " '.',\n",
       " '</P>']"
      ]
     },
     "execution_count": 83,
     "metadata": {},
     "output_type": "execute_result"
    }
   ],
   "source": [
    "text.split(\" \")[263:464]"
   ]
  },
  {
   "cell_type": "code",
   "execution_count": 74,
   "id": "434b8d87-cab0-4b22-8e84-57cb73c350ea",
   "metadata": {},
   "outputs": [
    {
     "data": {
      "text/plain": [
       "'Therefore sign - wikipedia <H1> Therefore sign </H1> Jump to : navigation , search <Table> <Tr> <Th colspan=\"2\"> ∴ </Th> </Tr> <Tr> <Td colspan=\"2\"> Therefore sign </Td> </Tr> <Tr> <Td colspan=\"2\"> <Table> <Tr> <Th colspan=\"2\"> Punctuation </Th> </Tr> <Tr> <Td> apostrophe </Td> <Td> \\' \\' </Td> </Tr> <Tr> <Td> brackets </Td> <Td> ( ) ( ) ( ) ⟨ ⟩ </Td> </Tr> <Tr> <Td> colon </Td> <Td> : </Td> </Tr> <Tr> <Td> comma </Td> <Td> , ، 、 </Td> </Tr> <Tr> <Td> dash </Td> <Td> ‒ -- -- ― </Td> </Tr> <Tr> <Td> ellipsis </Td> <Td> ... ... ⋯ ᠁ ฯ </Td> </Tr> <Tr> <Td> exclamation mark </Td> <Td> ! </Td> </Tr> <Tr> <Td> full stop , period </Td> <Td> . </Td> </Tr> <Tr> <Td> guillemets </Td> <Td> `` \\'\\' `` \\'\\' </Td> </Tr> <Tr> <Td> hyphen </Td> <Td> ‐ </Td> </Tr> <Tr> <Td> hyphen - minus </Td> <Td> - </Td> </Tr> <Tr> <Td> question mark </Td> <Td> ? </Td> </Tr> <Tr> <Td> quotation marks </Td> <Td> \\' \\' `` \\'\\' \\' \\' `` \\'\\' </Td> </Tr> <Tr> <Td> semicolon </Td> <Td> ; </Td> </Tr> <Tr> <Td> slash , stroke , solidus </Td> <Td> / ⁄ </Td> </Tr> </Table> </Td> </Tr> <Tr> <Td colspan=\"2\"> <Table> <Tr> <Th colspan=\"2\"> Word dividers </Th> </Tr> <Tr> <Td> interpunct </Td> <Td> </Td> </Tr> <Tr> <Td> space </Td> <Td> </Td> </Tr> </Table> </Td> </Tr> <Tr> <Td colspan=\"2\"> <Table> <Tr> <Th colspan=\"2\"> General typography </Th> </Tr> <Tr> <Td> ampersand </Td> <Td> & </Td> </Tr> <Tr> <Td> asterisk </Td> <Td> * </Td> </Tr> <Tr> <Td> at sign </Td> <Td> @ </Td> </Tr> <Tr> <Td> backslash </Td> <Td> \\\\ </Td> </Tr> <Tr> <Td> bullet </Td> <Td> </Td> </Tr> <Tr> <Td> caret </Td> <Td> </Td> </Tr> <Tr> <Td> dagger </Td> <Td> † ‡ </Td> </Tr> <Tr> <Td> degree </Td> <Td> ° </Td> </Tr> <Tr> <Td> ditto mark </Td> <Td> \\'\\' </Td> </Tr> <Tr> <Td> inverted exclamation mark </Td> <Td> ¡ </Td> </Tr> <Tr> <Td> inverted question mark </Td> <Td> ¿ </Td> </Tr> <Tr> <Td> komejirushi , kome , reference mark </Td> <Td> ※ </Td> </Tr> <Tr> <Td> number sign , pound , hash </Td> <Td> # </Td> </Tr> <Tr> <Td> numero sign </Td> <Td> No </Td> </Tr> <Tr> <Td> obelus </Td> <Td> ÷ </Td> </Tr> <Tr> <Td> multiplication sign </Td> <Td> × </Td> </Tr> <Tr> <Td> ordinal indicator </Td> <Td> o a </Td> </Tr> <Tr> <Td> percent , per mil </Td> <Td> % ‰ </Td> </Tr> <Tr> <Td> plus and minus </Td> <Td> + − </Td> </Tr> <Tr> <Td> equals sign </Td> <Td> = </Td> </Tr> <Tr> <Td> basis point </Td> <Td> ‱ </Td> </Tr> <Tr> <Td> pilcrow </Td> <Td> ¶ </Td> </Tr> <Tr> <Td> prime </Td> <Td> ′ \\'\\' ′′′ </Td> </Tr> <Tr> <Td> section sign </Td> <Td> § </Td> </Tr> <Tr> <Td> tilde </Td> <Td> ~ </Td> </Tr> <Tr> <Td> underscore , understrike </Td> <Td> _ </Td> </Tr> <Tr> <Td> vertical bar , pipe , broken bar </Td> <Td> ‖ ¦ </Td> </Tr> </Table> </Td> </Tr> <Tr> <Td colspan=\"2\"> <Table> <Tr> <Th colspan=\"2\"> Intellectual property </Th> </Tr> <Tr> <Td> copyright </Td> <Td> © </Td> </Tr> <Tr> <Td> sound - recording copyright </Td> <Td> ℗ </Td> </Tr> <Tr> <Td> registered trademark </Td> <Td> ® </Td> </Tr> <Tr> <Td> service mark </Td> <Td> SM </Td> </Tr> <Tr> <Td> trademark </Td> <Td> TM </Td> </Tr> </Table> </Td> </Tr> <Tr> <Td colspan=\"2\"> <Table> <Tr> <Th colspan=\"2\"> Currency </Th> </Tr> <Tr> <Td> currency sign </Td> <Td> ¤ </Td> </Tr> </Table> currency symbols <P> ؋ \\u200b ₳ \\u200b ฿ \\u200b ₿ \\u200b ₵ \\u200b ¢ \\u200b ₡ \\u200b ₢ \\u200b $ \\u200b ₫ \\u200b ₯ \\u200b ֏ \\u200b ₠ \\u200b € \\u200b ƒ \\u200b ₣ \\u200b ₲ \\u200b ₴ \\u200b ₭ \\u200b ₺ \\u200b ₾ \\u200b ₼ \\u200b M \\u200b ₥ \\u200b ₦ \\u200b ₧ \\u200b ₱ \\u200b ₰ \\u200b £ \\u200b 元 圆 圓 \\u200b ریال \\u200b ៛ \\u200b ₽ \\u200b ₹ Rs \\u200b ₪ \\u200b ৳ \\u200b ₸ \\u200b ₮ \\u200b ₩ \\u200b ¥ 円 </P> </Td> </Tr> <Tr> <Td colspan=\"2\"> <Table> <Tr> <Th colspan=\"2\"> Uncommon typography </Th> </Tr> <Tr> <Td> asterism </Td> <Td> ⁂ </Td> </Tr> <Tr> <Td> fleuron , hedera </Td> <Td> ❧ </Td> </Tr> <Tr> <Td> index , fist </Td> <Td> ☞ </Td> </Tr> <Tr> <Td> interrobang </Td> <Td> ‽ </Td> </Tr> <Tr> <Td> irony punctuation </Td> <Td> ⸮ </Td> </Tr> <Tr> <Td> lozenge </Td> <Td> ◊ </Td> </Tr> <Tr> <Td> tie </Td> <Td> ⁀ </Td> </Tr> </Table> </Td> </Tr> <Tr> <Th colspan=\"2\"> Related </Th> </Tr> <Tr> <Td colspan=\"2\"> <Ul> <Li> <Ul> <Li> Diacritics </Li> <Li> Logic symbols </Li> </Ul> </Li> <Li> Whitespace characters </Li> </Ul> </Td> </Tr> <Tr> <Th colspan=\"2\"> In other scripts </Th> </Tr> <Tr> <Td colspan=\"2\"> <Ul> <Li> Chinese </Li> <Li> Hebrew </Li> <Li> Japanese </Li> <Li> Korean </Li> </Ul> </Td> </Tr> <Tr> <Td colspan=\"2\"> <Ul> <Li> </Li> <Li> Portal </Li> </Ul> <Ul> <Li> Book </Li> </Ul> </Td> </Tr> <Tr> <Td colspan=\"2\"> <Ul> <Li> </Li> <Li> </Li> <Li> </Li> </Ul> </Td> </Tr> </Table> <P> In logical argument and mathematical proof , the therefore sign ( ∴ ) is generally used before a logical consequence , such as the conclusion of a syllogism . The symbol consists of three dots placed in an upright triangle and is read therefore . It is encoded at U + 2234 ∴ therefore ( HTML & # 8756 ; &there4 ; ) . For common use in Microsoft Office hold the ALT key and type `` 8756 \\'\\' . While it is not generally used in formal writing , it is used in mathematics and shorthand . It is complementary to U + 2235 ∵ because ( HTML & # 8757 ; ) . </P> <P> </P> <H2> Contents </H2> ( hide ) <Ul> <Li> 1 History </Li> <Li> 2 Example of use </Li> <Li> 3 Related signs </Li> <Li> 4 See also </Li> <Li> 5 References </Li> </Ul> <P> </P> <H2> History ( edit ) </H2> <P> According to Cajori , A History of Mathematical Notations , Johann Rahn used both the therefore and because signs to mean `` therefore \\'\\' ; in the German edition of Teutsche Algebra ( 1659 ) the therefore sign was prevalent with the modern meaning , but in the 1668 English edition Rahn used the because sign more often to mean `` therefore \\'\\' . Other authors in the eighteenth century also used three dots in a triangle shape to signify `` therefore , \\'\\' but as with Rahn , there was n\\'t much in the way of consistency as to how the triangle was oriented ; because with its current meaning appears to have originated in the nineteenth century . In this century , the three - dot notation for therefore became very rare in continental Europe , but it remains popular in the British Isles . </P> <H2> Example of use ( edit ) </H2> <P> Used in a syllogism : </P> <Dl> <Dd> All gods are immortal . </Dd> <Dd> Zeus is a god . </Dd> <Dd> ∴ Zeus is immortal . </Dd> </Dl> <Dl> <Dd> x + 1 = 6 </Dd> <Dd> ∴ x = 5 </Dd> </Dl> <H2> Related signs ( edit ) </H2> A diploma from the Masonic Grande Loge de France showing the symbol as a substitute for the dot of abbreviation . <P> The inverted form ∵ , known as the because sign , is sometimes used as a shorthand form of `` because \\'\\' . This is Unicode character U + 2235 . </P> <P> The therefore sign is sometimes used as a substitute for an asterism ⁂ . </P> <P> In meteorology , the therefore sign is used to indicate moderate rain on a station model ; the asterism indicates moderate snow . </P> <P> To denote logical implication or entailment , various signs are used in mathematical logic : → , ⇒ , ⊃ , ⊢ , ⊨ . These symbols are then part of a mathematical formula , and are not considered to be punctuation . In contrast , the therefore sign is traditionally used as a punctuation mark , and does not form part of a logical formula . </P> <P> The graphically identical sign ∴ serves as a Japanese map symbol on the maps of the Geographical Survey Institute of Japan , indicating a tea plantation . On other maps the sign , often with thicker dots , is sometimes used to signal the presence of a national monument or ruins . </P> <P> The character ஃ in the Tamil script represents the āytam , a special sound of the Tamil language . </P> <P> In Masonic traditions the symbol is used for abbreviation , instead of the usual period . For example `` R ∴ W ∴ John Smith \\'\\' is an abbreviation for `` Right Worshipful John Smith \\'\\' ( the term Right Worshipful is an archaic title just as `` Land Lord \\'\\' is and indicates that Brother Smith is a Grand Lodge officer ) . </P> <P> In Norwegian and Danish , a similar symbol is used as an explanatory symbol ( forklaringstegnet ) . It can be typeset using the open o followed by a colon , thus : ɔ : . It is used for the meaning `` namely \\'\\' , `` id est \\'\\' , `` scilicet \\'\\' or similar . </P> <H2> See also ( edit ) </H2> <Ul> <Li> Q.E.D. </Li> <Li> Mathematical jargon </Li> </Ul> <H2> References ( edit ) </H2> <Ol> <Li> Jump up ^ `` Cajori , vol. 1 , p. 211 \\'\\' . Archive.org . Retrieved 2013 - 10 - 05 . </Li> <Li> Jump up ^ Florian Cajori ( 2011 ) ( 1929 ) . A History of Mathematical Notations : Two Volumes in One . Cosimo , Inc . pp. 282 -- 283 . ISBN 978 - 1 - 61640 - 571 - 7 . </Li> <Li> Jump up ^ ( 1 ) Archived October 14 , 2008 , at the Wayback Machine . </Li> <Li> Jump up ^ Encyclopedia of Freemasonry Part 1 and Its Kindred Sciences Comprising the ... , Albert Gallatin Mackey , page 2 , reprint in 2002 , Kessinger Publishing , ISBN 0 - 7661 - 2650 - 1 . </Li> <Li> Jump up ^ http://www.typografi.org/forklaringstegn/forklaringstegn.html </Li> </Ol> <Table> <Tr> <Th colspan=\"2\"> ( hide ) <Ul> <Li> </Li> <Li> </Li> <Li> </Li> </Ul> Common logical symbols </Th> </Tr> <Tr> <Td colspan=\"2\"> <Table> <Tr> <Td> ∧ or & and </Td> <Td> ∨ or </Td> <Td> ¬ or ~ not </Td> <Td> → implies </Td> <Td> ⊃ implies , superset </Td> <Td> ≡ iff </Td> <Td> nand </Td> <Td> ∀ universal quantification </Td> <Td> ∃ existential quantification </Td> <Td> ⊤ tautology </Td> <Td> ⊥ false , contradiction </Td> <Td> ⊢ entails , proves </Td> <Td> ⊨ entails , therefore </Td> <Td> ∴ therefore </Td> <Td> ∵ because </Td> </Tr> </Table> </Td> </Tr> </Table> Retrieved from `` https://en.wikipedia.org/w/index.php?title=Therefore_sign&oldid=815234923 \\'\\' Categories : <Ul> <Li> Typographical symbols </Li> <Li> Punctuation </Li> <Li> Mathematical symbols </Li> <Li> Logic symbols </Li> <Li> Logical consequence </Li> </Ul> Hidden categories : <Ul> <Li> Webarchive template wayback links </Li> </Ul> <H2> </H2> <H3> </H3> <Ul> <Li> </Li> <Li> Talk </Li> <Li> </Li> <Li> </Li> <Li> </Li> </Ul> <H3> </H3> <Ul> <Li> </Li> <Li> </Li> </Ul> <H3> </H3> <Ul> </Ul> <H3> </H3> <Ul> <Li> </Li> <Li> </Li> <Li> </Li> </Ul> <H3> </H3> <Ul> </Ul> <H3> </H3> <H3> </H3> <Ul> <Li> </Li> <Li> Contents </Li> <Li> </Li> <Li> </Li> <Li> </Li> <Li> </Li> <Li> </Li> </Ul> <H3> </H3> <Ul> <Li> </Li> <Li> About Wikipedia </Li> <Li> </Li> <Li> </Li> <Li> </Li> </Ul> <H3> </H3> <Ul> <Li> </Li> <Li> </Li> <Li> </Li> <Li> </Li> <Li> </Li> <Li> </Li> <Li> </Li> <Li> </Li> </Ul> <H3> </H3> <Ul> <Li> </Li> <Li> </Li> <Li> </Li> </Ul> <H3> </H3> <Ul> <Li> Français </Li> <Li> 한국어 </Li> <Li> Nederlands </Li> <Li> 日本 語 </Li> <Li> Norsk </Li> <Li> Português </Li> <Li> Svenska </Li> </Ul> Edit links <Ul> <Li> This page was last edited on 13 December 2017 , at 16 : 22 . </Li> <Li> Text is available under the Creative Commons Attribution - ShareAlike License ; additional terms may apply . By using this site , you agree to the Terms of Use and Privacy Policy . Wikipedia ® is a registered trademark of the Wikimedia Foundation , Inc. , a non-profit organization . </Li> </Ul> <Ul> <Li> </Li> <Li> About Wikipedia </Li> <Li> </Li> <Li> </Li> <Li> </Li> <Li> </Li> <Li> </Li> <Li> </Li> </Ul> <Ul> <Li> </Li> <Li> </Li> </Ul> '"
      ]
     },
     "execution_count": 74,
     "metadata": {},
     "output_type": "execute_result"
    }
   ],
   "source": [
    "s = \"\"\n",
    "for x in data['valid'][0]['document_tokens']:\n",
    "    s += x['token'] + ' '\n",
    "s"
   ]
  },
  {
   "cell_type": "code",
   "execution_count": 70,
   "id": "90bb8349-a688-4076-af88-e3a48e3b4fce",
   "metadata": {},
   "outputs": [
    {
     "data": {
      "text/plain": [
       "dict_keys(['document_text', 'long_answer_candidates', 'question_text', 'annotations', 'document_url', 'example_id'])"
      ]
     },
     "execution_count": 70,
     "metadata": {},
     "output_type": "execute_result"
    }
   ],
   "source": [
    "data['train'][0].keys()"
   ]
  },
  {
   "cell_type": "code",
   "execution_count": null,
   "id": "0350385d-6621-464c-b4b9-5ae4355a982c",
   "metadata": {},
   "outputs": [],
   "source": []
  }
 ],
 "metadata": {
  "kernelspec": {
   "display_name": "Python 3 (ipykernel)",
   "language": "python",
   "name": "python3"
  },
  "language_info": {
   "codemirror_mode": {
    "name": "ipython",
    "version": 3
   },
   "file_extension": ".py",
   "mimetype": "text/x-python",
   "name": "python",
   "nbconvert_exporter": "python",
   "pygments_lexer": "ipython3",
   "version": "3.8.11"
  }
 },
 "nbformat": 4,
 "nbformat_minor": 5
}

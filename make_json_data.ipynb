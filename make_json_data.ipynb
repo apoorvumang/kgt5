{
 "cells": [
  {
   "cell_type": "code",
   "execution_count": 15,
   "id": "c22cccdb",
   "metadata": {},
   "outputs": [],
   "source": [
    "import os\n",
    "import datasets\n",
    "from datasets import load_dataset"
   ]
  },
  {
   "cell_type": "code",
   "execution_count": 7,
   "id": "f176b801",
   "metadata": {},
   "outputs": [],
   "source": [
    "fname = '/scratche/home/apoorv/transformer-kgc/data/wikidata5m_v3/test.json'"
   ]
  },
  {
   "cell_type": "code",
   "execution_count": 11,
   "id": "a9360d07",
   "metadata": {},
   "outputs": [
    {
     "name": "stderr",
     "output_type": "stream",
     "text": [
      "Using custom data configuration default-278d591d26753c3b\n",
      "Reusing dataset json (/home/apoorv/.cache/huggingface/datasets/json/default-278d591d26753c3b/0.0.0/83d5b3a2f62630efc6b5315f00f20209b4ad91a00ac586597caee3a4da0bef02)\n"
     ]
    }
   ],
   "source": [
    "dataset = load_dataset('json', data_files=fname)"
   ]
  },
  {
   "cell_type": "code",
   "execution_count": 12,
   "id": "5a89daf2",
   "metadata": {},
   "outputs": [
    {
     "data": {
      "text/plain": [
       "Dataset({\n",
       "    features: ['a', 'b', 'c', 'd'],\n",
       "    num_rows: 2\n",
       "})"
      ]
     },
     "execution_count": 12,
     "metadata": {},
     "output_type": "execute_result"
    }
   ],
   "source": [
    "dataset['train']"
   ]
  },
  {
   "cell_type": "code",
   "execution_count": 14,
   "id": "fa23322c",
   "metadata": {},
   "outputs": [
    {
     "data": {
      "text/plain": [
       "{'a': 4, 'b': -5.5, 'c': None, 'd': True}"
      ]
     },
     "execution_count": 14,
     "metadata": {},
     "output_type": "execute_result"
    }
   ],
   "source": [
    "dataset['train'][1]"
   ]
  },
  {
   "cell_type": "code",
   "execution_count": 23,
   "id": "af6e812d",
   "metadata": {},
   "outputs": [],
   "source": [
    "def line2json(line):\n",
    "    line = line.rstrip().split('\\t')\n",
    "    obj = {}\n",
    "    obj['input'] = line[0]\n",
    "    obj['output'] = line[1]\n",
    "    json_object = json.dumps(obj)\n",
    "    return json_object"
   ]
  },
  {
   "cell_type": "code",
   "execution_count": 32,
   "id": "d1360948",
   "metadata": {},
   "outputs": [],
   "source": [
    "import json\n",
    "import os\n",
    "folder = '/scratche/home/apoorv/transformer-kgc/data/wikidata5m_v3/'\n",
    "splits = ['train', 'valid', 'test']\n",
    "for s in splits:\n",
    "    fname = os.path.join(folder, s+'.txt')\n",
    "    fin = open(fname)\n",
    "    fname = os.path.join(folder, 'json_format', s + '.json')\n",
    "    fout = open(fname, 'w')\n",
    "    for line in fin:\n",
    "        fout.write(line2json(line) + '\\n')\n",
    "    fout.close()\n",
    "    fin.close()"
   ]
  },
  {
   "cell_type": "code",
   "execution_count": 26,
   "id": "5f1e6248",
   "metadata": {},
   "outputs": [
    {
     "name": "stderr",
     "output_type": "stream",
     "text": [
      "Using custom data configuration default-64f3142a1618dd94\n"
     ]
    },
    {
     "name": "stdout",
     "output_type": "stream",
     "text": [
      "Downloading and preparing dataset json/default (download: Unknown size, generated: Unknown size, post-processed: Unknown size, total: Unknown size) to /home/apoorv/.cache/huggingface/datasets/json/default-64f3142a1618dd94/0.0.0/83d5b3a2f62630efc6b5315f00f20209b4ad91a00ac586597caee3a4da0bef02...\n"
     ]
    },
    {
     "data": {
      "application/vnd.jupyter.widget-view+json": {
       "model_id": "",
       "version_major": 2,
       "version_minor": 0
      },
      "text/plain": [
       "HBox(children=(FloatProgress(value=1.0, bar_style='info', layout=Layout(width='20px'), max=1.0), HTML(value=''…"
      ]
     },
     "metadata": {},
     "output_type": "display_data"
    },
    {
     "name": "stdout",
     "output_type": "stream",
     "text": [
      "Dataset json downloaded and prepared to /home/apoorv/.cache/huggingface/datasets/json/default-64f3142a1618dd94/0.0.0/83d5b3a2f62630efc6b5315f00f20209b4ad91a00ac586597caee3a4da0bef02. Subsequent calls will reuse this data.\n"
     ]
    }
   ],
   "source": [
    "fname = '/scratche/home/apoorv/transformer-kgc/data/wikidata5m_v3/json_format/valid.json'\n",
    "dataset = load_dataset('json', data_files=fname)"
   ]
  },
  {
   "cell_type": "code",
   "execution_count": 29,
   "id": "fedc2a61",
   "metadata": {},
   "outputs": [
    {
     "data": {
      "text/plain": [
       "10714"
      ]
     },
     "execution_count": 29,
     "metadata": {},
     "output_type": "execute_result"
    }
   ],
   "source": [
    "len(dataset['train'])"
   ]
  },
  {
   "cell_type": "code",
   "execution_count": 31,
   "id": "d91d18f9",
   "metadata": {},
   "outputs": [
    {
     "data": {
      "text/plain": [
       "{'input': '|HEAD| United States of America||| country of origin',\n",
       " 'output': 'Run for Cover'}"
      ]
     },
     "execution_count": 31,
     "metadata": {},
     "output_type": "execute_result"
    }
   ],
   "source": [
    "dataset['train'][1]"
   ]
  },
  {
   "cell_type": "code",
   "execution_count": 17,
   "id": "4ca0b2f0",
   "metadata": {},
   "outputs": [],
   "source": [
    "dictionary ={\n",
    "    \"name\" : \"sathiyajith\",\n",
    "    \"rollno\" : 56,\n",
    "    \"cgpa\" : 8.6,\n",
    "    \"phonenumber\" : \"9976770500\"\n",
    "}"
   ]
  },
  {
   "cell_type": "code",
   "execution_count": 20,
   "id": "b0f37306",
   "metadata": {},
   "outputs": [],
   "source": [
    "json_object = json.dumps(dictionary)\n"
   ]
  },
  {
   "cell_type": "code",
   "execution_count": 21,
   "id": "32918f6b",
   "metadata": {},
   "outputs": [
    {
     "data": {
      "text/plain": [
       "'{\"name\": \"sathiyajith\", \"rollno\": 56, \"cgpa\": 8.6, \"phonenumber\": \"9976770500\"}'"
      ]
     },
     "execution_count": 21,
     "metadata": {},
     "output_type": "execute_result"
    }
   ],
   "source": [
    "json_object"
   ]
  },
  {
   "cell_type": "code",
   "execution_count": 33,
   "id": "583a25a4",
   "metadata": {},
   "outputs": [
    {
     "name": "stderr",
     "output_type": "stream",
     "text": [
      "Using custom data configuration default-2ab599deb35af74b\n"
     ]
    },
    {
     "name": "stdout",
     "output_type": "stream",
     "text": [
      "Downloading and preparing dataset json/default (download: Unknown size, generated: Unknown size, post-processed: Unknown size, total: Unknown size) to /home/apoorv/.cache/huggingface/datasets/json/default-2ab599deb35af74b/0.0.0/83d5b3a2f62630efc6b5315f00f20209b4ad91a00ac586597caee3a4da0bef02...\n"
     ]
    },
    {
     "data": {
      "application/vnd.jupyter.widget-view+json": {
       "model_id": "",
       "version_major": 2,
       "version_minor": 0
      },
      "text/plain": [
       "HBox(children=(FloatProgress(value=1.0, bar_style='info', layout=Layout(width='20px'), max=1.0), HTML(value=''…"
      ]
     },
     "metadata": {},
     "output_type": "display_data"
    },
    {
     "name": "stdout",
     "output_type": "stream",
     "text": [
      "Dataset json downloaded and prepared to /home/apoorv/.cache/huggingface/datasets/json/default-2ab599deb35af74b/0.0.0/83d5b3a2f62630efc6b5315f00f20209b4ad91a00ac586597caee3a4da0bef02. Subsequent calls will reuse this data.\n"
     ]
    }
   ],
   "source": [
    "fname = '/scratche/home/apoorv/transformer-kgc/data/wikidata5m_v3/json_format/train.json'\n",
    "dataset = load_dataset('json', data_files=fname)"
   ]
  },
  {
   "cell_type": "code",
   "execution_count": 35,
   "id": "d6d8dd04",
   "metadata": {},
   "outputs": [
    {
     "data": {
      "text/plain": [
       "{'input': ['|TAIL| Lalit Kumar Goel||| instance of',\n",
       "  '|HEAD| human||| instance of',\n",
       "  '|TAIL| Ugo Riccarelli||| languages spoken, written or signed',\n",
       "  '|HEAD| Italian||| languages spoken, written or signed',\n",
       "  '|TAIL| Road to Paradise||| director',\n",
       "  '|HEAD| William Beaudine||| director',\n",
       "  '|TAIL| Robert van der Horst||| country of citizenship',\n",
       "  '|HEAD| Kingdom of the Netherlands||| country of citizenship',\n",
       "  '|TAIL| Wesley Pionteck Souza||| member of sports team',\n",
       "  '|HEAD| Santos F.C.||| member of sports team'],\n",
       " 'output': ['human',\n",
       "  'Lalit Kumar Goel',\n",
       "  'Italian',\n",
       "  'Ugo Riccarelli',\n",
       "  'William Beaudine',\n",
       "  'Road to Paradise',\n",
       "  'Kingdom of the Netherlands',\n",
       "  'Robert van der Horst',\n",
       "  'Santos F.C.',\n",
       "  'Wesley Pionteck Souza']}"
      ]
     },
     "execution_count": 35,
     "metadata": {},
     "output_type": "execute_result"
    }
   ],
   "source": [
    "dataset['train'][:10]"
   ]
  },
  {
   "cell_type": "code",
   "execution_count": 36,
   "id": "649888d3",
   "metadata": {},
   "outputs": [
    {
     "data": {
      "text/plain": [
       "['input', 'output']"
      ]
     },
     "execution_count": 36,
     "metadata": {},
     "output_type": "execute_result"
    }
   ],
   "source": [
    "dataset['train'].column_names"
   ]
  },
  {
   "cell_type": "code",
   "execution_count": null,
   "id": "71b4f883",
   "metadata": {},
   "outputs": [],
   "source": []
  }
 ],
 "metadata": {
  "kernelspec": {
   "display_name": "Python 3 (ipykernel)",
   "language": "python",
   "name": "python3"
  },
  "language_info": {
   "codemirror_mode": {
    "name": "ipython",
    "version": 3
   },
   "file_extension": ".py",
   "mimetype": "text/x-python",
   "name": "python",
   "nbconvert_exporter": "python",
   "pygments_lexer": "ipython3",
   "version": "3.8.11"
  }
 },
 "nbformat": 4,
 "nbformat_minor": 5
}

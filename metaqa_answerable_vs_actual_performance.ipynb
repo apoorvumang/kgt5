{
 "cells": [
  {
   "cell_type": "code",
   "execution_count": 1,
   "id": "dbe1ea2c",
   "metadata": {},
   "outputs": [],
   "source": [
    "import pickle\n",
    "from tqdm.notebook import tqdm\n",
    "import os\n"
   ]
  },
  {
   "cell_type": "code",
   "execution_count": 2,
   "id": "2f2a7f76",
   "metadata": {},
   "outputs": [],
   "source": [
    "folder = '/scratche/home/apoorv/transformer-kgc/data'"
   ]
  },
  {
   "cell_type": "code",
   "execution_count": 3,
   "id": "b89ddc94",
   "metadata": {},
   "outputs": [],
   "source": [
    "subgraph_split = 'MetaQA_half'"
   ]
  },
  {
   "cell_type": "code",
   "execution_count": 4,
   "id": "e985f224",
   "metadata": {},
   "outputs": [],
   "source": [
    "def readTriples(fname):\n",
    "    f = open(fname)\n",
    "    triples = []\n",
    "    for line in f:\n",
    "        if line.startswith('predict head:'):\n",
    "            continue\n",
    "        line = line.rstrip()\n",
    "        line = line.replace('predict tail: ', '')\n",
    "        line = line.split('\\t')\n",
    "        head_rel = line[0]\n",
    "        tail = line[1]\n",
    "        head_rel = head_rel.replace(' | ', '|')\n",
    "        head_rel = head_rel.replace(' |', '|')\n",
    "        head, rel, _ = head_rel.split('|')\n",
    "        if rel != 'noop':\n",
    "            triples.append([head, rel, tail])\n",
    "    f.close()\n",
    "    return triples\n",
    "\n",
    "def getEntities(triples):\n",
    "    ents = set()\n",
    "    for t in triples:\n",
    "        ents.add(t[0])\n",
    "        ents.add(t[2])\n",
    "    return ents\n",
    "\n",
    "def readLines(fname):\n",
    "    f = open(fname)\n",
    "    lines = []\n",
    "    for line in f:\n",
    "        lines.append(line.rstrip())\n",
    "    return lines"
   ]
  },
  {
   "cell_type": "code",
   "execution_count": 5,
   "id": "635ab75f",
   "metadata": {},
   "outputs": [],
   "source": [
    "subgraph_splits = ['MetaQA_half', 'MetaQA_half2', 'MetaQA_half3', 'MetaQA_half_allents',\n",
    "                  'MetaQA_half_allents2', 'MetaQA_half_allents3']"
   ]
  },
  {
   "cell_type": "code",
   "execution_count": 6,
   "id": "d7423fb4",
   "metadata": {},
   "outputs": [],
   "source": [
    "def getHeadFromQuestion(q):\n",
    "    h1 = q.split('[')[1]\n",
    "    head = h1.split(']')[0]\n",
    "    return head\n",
    "\n",
    "def readQuestions(fname):\n",
    "    f = open(fname)\n",
    "    head_answer_pairs = []\n",
    "    for line in f:\n",
    "        q, answer_string = line.rstrip().split('\\t')\n",
    "        head = getHeadFromQuestion(q)\n",
    "        answers = answer_string.split('|')\n",
    "        head_answer_pairs.append((head, answers))\n",
    "    return head_answer_pairs\n",
    "        "
   ]
  },
  {
   "cell_type": "code",
   "execution_count": 117,
   "id": "6c1db557",
   "metadata": {},
   "outputs": [],
   "source": [
    "q_file_name = os.path.join(folder, subgraph_split, 'qa_test_3hop.txt')\n",
    "ha_pairs = readQuestions(q_file_name)"
   ]
  },
  {
   "cell_type": "code",
   "execution_count": 118,
   "id": "6d11ea6d",
   "metadata": {},
   "outputs": [],
   "source": [
    "# get templates for questions\n",
    "# then from templates get reasoning paths\n",
    "# need to do this to get number of answerable questions for 2,3 hop\n",
    "# just seeing reachability not enough for 2,3 hop\n",
    "import copy\n",
    "\n",
    "def split_qtype(qtype):\n",
    "    qtype = qtype.split('_to_')\n",
    "    return qtype\n",
    "\n",
    "def relation_from_ent_type(ent):\n",
    "    switcher = {\n",
    "        'movie': 'error',\n",
    "        'director': 'directed by',\n",
    "        'actor': 'starred actors',\n",
    "        'genre': 'has genre',\n",
    "        'language': 'in language',\n",
    "        'tags': 'has tags',\n",
    "        'writer': 'written by',\n",
    "        'year': 'release year',\n",
    "        'tag': 'has tags',\n",
    "    }\n",
    "    return switcher.get(ent, 'error')\n",
    "\n",
    "def qtype_to_path(qtype):\n",
    "    sq = split_qtype(qtype)\n",
    "    if len(sq) < 2:\n",
    "        return []\n",
    "    path = []\n",
    "    for i in range(len(sq) - 1):\n",
    "        start_ent = copy.copy(sq[i])\n",
    "        end_ent = copy.copy(sq[i+1])\n",
    "        if start_ent == 'movie':\n",
    "            is_reverse = False\n",
    "        else:\n",
    "            is_reverse = True\n",
    "            start_ent, end_ent = end_ent, start_ent\n",
    "        rel = relation_from_ent_type(end_ent)\n",
    "        if is_reverse:\n",
    "            rel += ' reverse'\n",
    "        path.append(rel)\n",
    "    return path\n",
    "        \n",
    "def follow_path_1hop(head, graph, rel):\n",
    "    return graph[head][rel]\n",
    "\n",
    "# follow doesn't return head!\n",
    "# this is ok since for a question, head never the answer\n",
    "def follow_path(head, graph, path):\n",
    "    ans_ents = []\n",
    "    inter_ents = set([head])\n",
    "    for rel in path:\n",
    "        ents_for_next_step = set()\n",
    "        for e in inter_ents:\n",
    "            ents_1hop = follow_path_1hop(e, graph, rel)\n",
    "            ents_for_next_step.update(ents_1hop)\n",
    "        inter_ents = list(set(ents_for_next_step))\n",
    "    out = set(inter_ents)\n",
    "    if head in out:\n",
    "        out.remove(head)\n",
    "    return out"
   ]
  },
  {
   "cell_type": "code",
   "execution_count": 119,
   "id": "5ed3badd",
   "metadata": {},
   "outputs": [
    {
     "data": {
      "text/plain": [
       "70844"
      ]
     },
     "execution_count": 119,
     "metadata": {},
     "output_type": "execute_result"
    }
   ],
   "source": [
    "triples_file = 'data/MetaQA_half_allents/train.txt'\n",
    "train = readTriples(triples_file)\n",
    "len(train)"
   ]
  },
  {
   "cell_type": "code",
   "execution_count": 120,
   "id": "fd79be93",
   "metadata": {},
   "outputs": [
    {
     "data": {
      "text/plain": [
       "['Lawless Heart', 'directed by', 'Tom Hunsinger']"
      ]
     },
     "execution_count": 120,
     "metadata": {},
     "output_type": "execute_result"
    }
   ],
   "source": [
    "questions_folder = 'data/MetaQA_half'\n",
    "train[0]"
   ]
  },
  {
   "cell_type": "code",
   "execution_count": 121,
   "id": "b04565fe",
   "metadata": {},
   "outputs": [
    {
     "data": {
      "text/plain": [
       "(43234, 70844)"
      ]
     },
     "execution_count": 121,
     "metadata": {},
     "output_type": "execute_result"
    }
   ],
   "source": [
    "len(getEntities(train)), len(train)"
   ]
  },
  {
   "cell_type": "code",
   "execution_count": 122,
   "id": "f3c0783f",
   "metadata": {},
   "outputs": [
    {
     "data": {
      "text/plain": [
       "43234"
      ]
     },
     "execution_count": 122,
     "metadata": {},
     "output_type": "execute_result"
    }
   ],
   "source": [
    "fname = os.path.join('data/MetaQA', 'train.txt')\n",
    "full_triples = readTriples(fname)\n",
    "entities = getEntities(full_triples)\n",
    "len(entities)"
   ]
  },
  {
   "cell_type": "code",
   "execution_count": 123,
   "id": "40bedf04",
   "metadata": {},
   "outputs": [
    {
     "data": {
      "text/plain": [
       "70844"
      ]
     },
     "execution_count": 123,
     "metadata": {},
     "output_type": "execute_result"
    }
   ],
   "source": [
    "triples_file = 'data/MetaQA_half_allents/train.txt'\n",
    "train = readTriples(triples_file)\n",
    "len(train)"
   ]
  },
  {
   "cell_type": "code",
   "execution_count": 124,
   "id": "6c7f4474",
   "metadata": {},
   "outputs": [],
   "source": [
    "relations = set()\n",
    "for t in full_triples:\n",
    "    relations.add(t[1])"
   ]
  },
  {
   "cell_type": "code",
   "execution_count": 125,
   "id": "4c680aae",
   "metadata": {},
   "outputs": [],
   "source": [
    "# manually make relational graph\n",
    "# graph is a dict(dict(list))\n",
    "from collections import defaultdict\n",
    "graph = dict()\n",
    "triples_for_graph = train\n",
    "for e in entities:\n",
    "    e = unidecode(e).rstrip()\n",
    "    graph[e] = dict()\n",
    "    for r in relations:\n",
    "        graph[e][r] = set()\n",
    "        graph[e][r + ' reverse'] = set()\n",
    "\n",
    "for t in triples_for_graph:\n",
    "    head, rel, tail = t\n",
    "    rel_reverse = rel + ' reverse'\n",
    "    graph[head][rel].add(tail)\n",
    "    graph[tail][rel_reverse].add(head)\n",
    "    "
   ]
  },
  {
   "cell_type": "code",
   "execution_count": 126,
   "id": "c9a4030d",
   "metadata": {},
   "outputs": [
    {
     "data": {
      "text/plain": [
       "43234"
      ]
     },
     "execution_count": 126,
     "metadata": {},
     "output_type": "execute_result"
    }
   ],
   "source": [
    "len(getEntities(triples_for_graph))"
   ]
  },
  {
   "cell_type": "code",
   "execution_count": 145,
   "id": "bac3e384",
   "metadata": {},
   "outputs": [],
   "source": [
    "qtype_folder = 'data/metaqa_qtype'\n",
    "hops = '1'\n",
    "qtype_split = 'test'\n",
    "qtype_file = os.path.join(qtype_folder, hops+'-hop', 'qa_'+ qtype_split + '_qtype.txt')\n",
    "qtypes = readLines(qtype_file)\n",
    "\n",
    "q_file_name = os.path.join('data/MetaQA_half', 'qa_{}_{}hop.txt'.format(qtype_split, hops))\n",
    "ha_pairs = readQuestions(q_file_name)\n",
    "\n",
    "haq_triples = []\n",
    "for i in range(len(ha_pairs)):\n",
    "    item = (unidecode(ha_pairs[i][0]).rstrip(), ha_pairs[i][1], qtypes[i])\n",
    "    haq_triples.append(item)"
   ]
  },
  {
   "cell_type": "code",
   "execution_count": 146,
   "id": "696df58d",
   "metadata": {},
   "outputs": [
    {
     "data": {
      "text/plain": [
       "(('Gregoire Colin', ['Before the Rain'], 'actor_to_movie'),\n",
       " ['starred actors reverse'])"
      ]
     },
     "execution_count": 146,
     "metadata": {},
     "output_type": "execute_result"
    }
   ],
   "source": [
    "id = 0\n",
    "haq_triples[id], qtype_to_path(haq_triples[id][2] )"
   ]
  },
  {
   "cell_type": "code",
   "execution_count": 147,
   "id": "8513a955",
   "metadata": {},
   "outputs": [
    {
     "data": {
      "text/plain": [
       "(6739, 0.677490700713783)"
      ]
     },
     "execution_count": 147,
     "metadata": {},
     "output_type": "execute_result"
    }
   ],
   "source": [
    "from collections import defaultdict\n",
    "count = 0\n",
    "qtype_answerable_dict = defaultdict(list)\n",
    "for h, a, qt in haq_triples:\n",
    "    path = qtype_to_path(qt)\n",
    "    h = unidecode(h).rstrip()\n",
    "    results = follow_path(h, graph, path)\n",
    "    is_answerable = 0\n",
    "    if len(set(results).intersection(set(a))) > 0:\n",
    "        if len(set(results)) <= len(set(a)): # sanity check\n",
    "            is_answerable = 1\n",
    "            count += 1\n",
    "    qtype_answerable_dict[qt].append(is_answerable)\n",
    "#     if len(results) > 0:\n",
    "#         count += 1\n",
    "count, count/len(haq_triples)"
   ]
  },
  {
   "cell_type": "code",
   "execution_count": 148,
   "id": "a26371a3",
   "metadata": {},
   "outputs": [
    {
     "name": "stdout",
     "output_type": "stream",
     "text": [
      "actor_to_movie 0.96 0.09\n",
      "director_to_movie 0.84 0.06\n",
      "movie_to_actor 0.79 0.11\n",
      "movie_to_director 0.52 0.13\n",
      "movie_to_genre 0.48 0.11\n",
      "movie_to_language 0.49 0.03\n",
      "movie_to_tags 0.72 0.09\n",
      "movie_to_writer 0.66 0.11\n",
      "movie_to_year 0.46 0.14\n",
      "tag_to_movie 1.0 0.04\n",
      "writer_to_movie 0.88 0.09\n"
     ]
    }
   ],
   "source": [
    "for k, v in qtype_answerable_dict.items():\n",
    "    print(k, round(sum(v)/len(v), 2), round(len(v)/len(haq_triples), 2))"
   ]
  },
  {
   "cell_type": "code",
   "execution_count": 149,
   "id": "66040817",
   "metadata": {},
   "outputs": [
    {
     "name": "stdout",
     "output_type": "stream",
     "text": [
      "actor_to_movie 879\n",
      "director_to_movie 553\n",
      "movie_to_actor 1105\n",
      "movie_to_director 1301\n",
      "movie_to_genre 1143\n",
      "movie_to_language 294\n",
      "movie_to_tags 846\n",
      "movie_to_writer 1091\n",
      "movie_to_year 1420\n",
      "tag_to_movie 411\n",
      "writer_to_movie 904\n"
     ]
    }
   ],
   "source": [
    "for k, v in qtype_answerable_dict.items():\n",
    "    print(k, len(v))"
   ]
  },
  {
   "cell_type": "code",
   "execution_count": 150,
   "id": "223b2423",
   "metadata": {},
   "outputs": [],
   "source": [
    "# get model predictions\n",
    "import pickle\n",
    "fname = 'scores/scores_test_1hop_half_allents.pickle'\n",
    "# fname = 'scores_500_base_trie|.pickle'\n",
    "scores_data = pickle.load(open(fname, 'rb'))"
   ]
  },
  {
   "cell_type": "code",
   "execution_count": 151,
   "id": "6236fbd6",
   "metadata": {},
   "outputs": [
    {
     "data": {
      "text/plain": [
       "9947"
      ]
     },
     "execution_count": 151,
     "metadata": {},
     "output_type": "execute_result"
    }
   ],
   "source": [
    "len(scores_data['input_strings'])"
   ]
  },
  {
   "cell_type": "code",
   "execution_count": 152,
   "id": "63e995f2",
   "metadata": {},
   "outputs": [
    {
     "data": {
      "text/plain": [
       "['Before the Rain',\n",
       " 'Before the Rains',\n",
       " 'The Princess and the Frog',\n",
       " 'Between the Rains']"
      ]
     },
     "execution_count": 152,
     "metadata": {},
     "output_type": "execute_result"
    }
   ],
   "source": [
    "scores_data['prediction_strings'][0]"
   ]
  },
  {
   "cell_type": "code",
   "execution_count": 153,
   "id": "29d50a71",
   "metadata": {},
   "outputs": [
    {
     "data": {
      "text/plain": [
       "dict_keys(['prediction_strings', 'scores', 'target_strings', 'input_strings'])"
      ]
     },
     "execution_count": 153,
     "metadata": {},
     "output_type": "execute_result"
    }
   ],
   "source": [
    "scores_data.keys()"
   ]
  },
  {
   "cell_type": "code",
   "execution_count": 154,
   "id": "0e84efc6",
   "metadata": {},
   "outputs": [
    {
     "data": {
      "text/plain": [
       "'actor_to_movie'"
      ]
     },
     "execution_count": 154,
     "metadata": {},
     "output_type": "execute_result"
    }
   ],
   "source": [
    "qtypes[0]"
   ]
  },
  {
   "cell_type": "code",
   "execution_count": 155,
   "id": "996802dc",
   "metadata": {},
   "outputs": [
    {
     "data": {
      "text/plain": [
       "'predict answer: Gregoire Colin | what does NE appear in |'"
      ]
     },
     "execution_count": 155,
     "metadata": {},
     "output_type": "execute_result"
    }
   ],
   "source": [
    "scores_data['input_strings'][0]"
   ]
  },
  {
   "cell_type": "code",
   "execution_count": 156,
   "id": "f081e621",
   "metadata": {},
   "outputs": [],
   "source": [
    "def getHeadFromInputString(s):\n",
    "    s = s.split('|')[0][:-1]\n",
    "    s = s.replace('predict answer: ', '')\n",
    "    return s"
   ]
  },
  {
   "cell_type": "code",
   "execution_count": 157,
   "id": "c73e37db",
   "metadata": {
    "scrolled": true
   },
   "outputs": [
    {
     "data": {
      "text/plain": [
       "0.7305720317683724"
      ]
     },
     "execution_count": 157,
     "metadata": {},
     "output_type": "execute_result"
    }
   ],
   "source": [
    "qtype_correct_dict = defaultdict(list)\n",
    "correct = 0\n",
    "for preds, scores, input_string, actuals, qt in zip(scores_data['prediction_strings'], \n",
    "                                                    scores_data['scores'],\n",
    "                                                    scores_data['input_strings'],\n",
    "                                                    scores_data['target_strings'],\n",
    "                                                    qtypes):\n",
    "    is_correct = 0\n",
    "    ps_pairs = [(p,s.item()) for p, s in zip(preds, scores)]\n",
    "    ps_pairs.sort(key = lambda x: x[1], reverse=True)\n",
    "    head = getHeadFromInputString(input_string)\n",
    "    pred = ps_pairs[0][0]\n",
    "    if pred == head or pred not in entities:\n",
    "        pred = ps_pairs[1][0]\n",
    "    if pred in actuals:\n",
    "        is_correct = 1\n",
    "    correct += is_correct\n",
    "    qtype_correct_dict[qt].append(is_correct)\n",
    "correct/len(qtypes)"
   ]
  },
  {
   "cell_type": "code",
   "execution_count": 158,
   "id": "0fd9c075",
   "metadata": {},
   "outputs": [
    {
     "name": "stdout",
     "output_type": "stream",
     "text": [
      "actor_to_movie 0.95 0.09\n",
      "director_to_movie 0.92 0.06\n",
      "movie_to_actor 0.77 0.11\n",
      "movie_to_director 0.64 0.13\n",
      "movie_to_genre 0.63 0.11\n",
      "movie_to_language 0.63 0.03\n",
      "movie_to_tags 0.7 0.09\n",
      "movie_to_writer 0.8 0.11\n",
      "movie_to_year 0.45 0.14\n",
      "tag_to_movie 0.96 0.04\n",
      "writer_to_movie 0.94 0.09\n"
     ]
    }
   ],
   "source": [
    "for k, v in qtype_correct_dict.items():\n",
    "    print(k, round(sum(v)/len(v), 2), round(len(v)/len(haq_triples), 2))"
   ]
  },
  {
   "cell_type": "code",
   "execution_count": 159,
   "id": "af6dee03",
   "metadata": {},
   "outputs": [
    {
     "name": "stdout",
     "output_type": "stream",
     "text": [
      "actor_to_movie 0.96 0.09\n",
      "director_to_movie 0.84 0.06\n",
      "movie_to_actor 0.79 0.11\n",
      "movie_to_director 0.52 0.13\n",
      "movie_to_genre 0.48 0.11\n",
      "movie_to_language 0.49 0.03\n",
      "movie_to_tags 0.72 0.09\n",
      "movie_to_writer 0.66 0.11\n",
      "movie_to_year 0.46 0.14\n",
      "tag_to_movie 1.0 0.04\n",
      "writer_to_movie 0.88 0.09\n"
     ]
    }
   ],
   "source": [
    "for k, v in qtype_answerable_dict.items():\n",
    "    print(k, round(sum(v)/len(v), 2), round(len(v)/len(haq_triples), 2))"
   ]
  },
  {
   "cell_type": "code",
   "execution_count": 160,
   "id": "1a5b6e4b",
   "metadata": {},
   "outputs": [
    {
     "name": "stdout",
     "output_type": "stream",
     "text": [
      "Question type    \tAnswerable\tAcc\tPct of total qn\n",
      "actor_to_movie    \t0.96\t0.95\t8.84\n",
      "director_to_movie    \t0.84\t0.92\t5.56\n",
      "movie_to_actor    \t0.79\t0.77\t11.11\n",
      "movie_to_director    \t0.52\t0.64\t13.08\n",
      "movie_to_genre    \t0.48\t0.63\t11.49\n",
      "movie_to_language    \t0.49\t0.63\t2.96\n",
      "movie_to_tags    \t0.72\t0.7\t8.51\n",
      "movie_to_writer    \t0.66\t0.8\t10.97\n",
      "movie_to_year    \t0.46\t0.45\t14.28\n",
      "tag_to_movie    \t1.0\t0.96\t4.13\n",
      "writer_to_movie    \t0.88\t0.94\t9.09\n"
     ]
    }
   ],
   "source": [
    "print('Question type    \\tAnswerable\\tAcc\\tPct of total qn')\n",
    "for key in qtype_answerable_dict.keys():\n",
    "    graph_answerable = sum(qtype_answerable_dict[key])/len(qtype_answerable_dict[key])\n",
    "    correct_pct = sum(qtype_correct_dict[key])/len(qtype_correct_dict[key])\n",
    "    pct_of_questions = (len(qtype_correct_dict[key])/len(haq_triples))*100\n",
    "    if len(key) < 32:\n",
    "        key = key + '    '\n",
    "    x = '{}\\t{}\\t{}\\t{}'.format(key,\n",
    "                            round(graph_answerable, 2),\n",
    "                            round(correct_pct, 2),\n",
    "                            round(pct_of_questions,2)\n",
    "                           )\n",
    "#     if graph_answerable > correct_pct:\n",
    "    print(x)"
   ]
  },
  {
   "cell_type": "code",
   "execution_count": 61,
   "id": "bffb03b1",
   "metadata": {},
   "outputs": [
    {
     "data": {
      "text/plain": [
       "23"
      ]
     },
     "execution_count": 61,
     "metadata": {},
     "output_type": "execute_result"
    }
   ],
   "source": [
    "len('actor_to_movie_to_actor')"
   ]
  },
  {
   "cell_type": "code",
   "execution_count": null,
   "id": "4e121299",
   "metadata": {},
   "outputs": [],
   "source": []
  }
 ],
 "metadata": {
  "kernelspec": {
   "display_name": "Python 3 (ipykernel)",
   "language": "python",
   "name": "python3"
  },
  "language_info": {
   "codemirror_mode": {
    "name": "ipython",
    "version": 3
   },
   "file_extension": ".py",
   "mimetype": "text/x-python",
   "name": "python",
   "nbconvert_exporter": "python",
   "pygments_lexer": "ipython3",
   "version": "3.8.11"
  }
 },
 "nbformat": 4,
 "nbformat_minor": 5
}

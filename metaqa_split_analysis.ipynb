{
 "cells": [
  {
   "cell_type": "code",
   "execution_count": 42,
   "id": "dbe1ea2c",
   "metadata": {},
   "outputs": [],
   "source": [
    "import pickle\n",
    "from tqdm.notebook import tqdm\n",
    "import os\n"
   ]
  },
  {
   "cell_type": "code",
   "execution_count": 2,
   "id": "2f2a7f76",
   "metadata": {},
   "outputs": [],
   "source": [
    "folder = '/scratche/home/apoorv/transformer-kgc/data'"
   ]
  },
  {
   "cell_type": "code",
   "execution_count": 5,
   "id": "b89ddc94",
   "metadata": {},
   "outputs": [],
   "source": [
    "subgraph_split = 'MetaQA_half'"
   ]
  },
  {
   "cell_type": "code",
   "execution_count": 126,
   "id": "e985f224",
   "metadata": {},
   "outputs": [],
   "source": [
    "def readTriples(fname):\n",
    "    f = open(fname)\n",
    "    triples = []\n",
    "    for line in f:\n",
    "        if line.startswith('predict head:'):\n",
    "            continue\n",
    "        line = line.rstrip()\n",
    "        line = line.replace('predict tail: ', '')\n",
    "        line = line.split('\\t')\n",
    "        head_rel = line[0]\n",
    "        tail = line[1]\n",
    "        head_rel = head_rel.replace(' | ', '|')\n",
    "        head_rel = head_rel.replace(' |', '|')\n",
    "        head, rel, _ = head_rel.split('|')\n",
    "        if rel != 'noop':\n",
    "            triples.append([head, rel, tail])\n",
    "    f.close()\n",
    "    return triples\n",
    "\n",
    "def getEntities(triples):\n",
    "    ents = set()\n",
    "    for t in triples:\n",
    "        ents.add(t[0])\n",
    "        ents.add(t[2])\n",
    "    return ents\n",
    "\n",
    "def readLines(fname):\n",
    "    f = open(fname)\n",
    "    lines = []\n",
    "    for line in f:\n",
    "        lines.append(line.rstrip())\n",
    "    return lines"
   ]
  },
  {
   "cell_type": "code",
   "execution_count": 24,
   "id": "635ab75f",
   "metadata": {},
   "outputs": [],
   "source": [
    "subgraph_splits = ['MetaQA_half', 'MetaQA_half2', 'MetaQA_half3', 'MetaQA_half_allents',\n",
    "                  'MetaQA_half_allents2', 'MetaQA_half_allents3']"
   ]
  },
  {
   "cell_type": "code",
   "execution_count": 25,
   "id": "46dbceaf",
   "metadata": {},
   "outputs": [
    {
     "name": "stdout",
     "output_type": "stream",
     "text": [
      "MetaQA_half 34945\n",
      "MetaQA_half2 34918\n",
      "MetaQA_half3 35030\n",
      "MetaQA_half_allents 43234\n",
      "MetaQA_half_allents2 43234\n",
      "MetaQA_half_allents3 43234\n"
     ]
    }
   ],
   "source": [
    "for sg in subgraph_splits:\n",
    "    fname = os.path.join(folder, sg, 'train.txt')\n",
    "    train = readTriples(fname)\n",
    "    ents = getEntities(train)\n",
    "    print(sg, len(ents))"
   ]
  },
  {
   "cell_type": "code",
   "execution_count": 185,
   "id": "092ef8b9",
   "metadata": {},
   "outputs": [
    {
     "data": {
      "text/plain": [
       "70844"
      ]
     },
     "execution_count": 185,
     "metadata": {},
     "output_type": "execute_result"
    }
   ],
   "source": [
    "len(train)"
   ]
  },
  {
   "cell_type": "code",
   "execution_count": 29,
   "id": "c701c475",
   "metadata": {},
   "outputs": [],
   "source": [
    "import networkx as nx"
   ]
  },
  {
   "cell_type": "code",
   "execution_count": 30,
   "id": "e040452c",
   "metadata": {},
   "outputs": [],
   "source": [
    "G = nx.Graph()"
   ]
  },
  {
   "cell_type": "code",
   "execution_count": 31,
   "id": "3d3e6459",
   "metadata": {},
   "outputs": [],
   "source": [
    "G.add_nodes_from(ents)"
   ]
  },
  {
   "cell_type": "code",
   "execution_count": 32,
   "id": "a2a6171d",
   "metadata": {},
   "outputs": [],
   "source": [
    "for t in train:\n",
    "    G.add_edge(t[0], t[2])"
   ]
  },
  {
   "cell_type": "code",
   "execution_count": 186,
   "id": "97b200d9",
   "metadata": {},
   "outputs": [
    {
     "name": "stdout",
     "output_type": "stream",
     "text": [
      "Sidney Poitier\n",
      "Fantasy\n",
      "bill cosby\n",
      "sidney poitier\n"
     ]
    }
   ],
   "source": [
    "for x in G.neighbors('Ghost Dad'):\n",
    "    print(x)"
   ]
  },
  {
   "cell_type": "code",
   "execution_count": 187,
   "id": "d7423fb4",
   "metadata": {},
   "outputs": [],
   "source": [
    "def getHeadFromQuestion(q):\n",
    "    h1 = q.split('[')[1]\n",
    "    head = h1.split(']')[0]\n",
    "    return head\n",
    "\n",
    "def readQuestions(fname):\n",
    "    f = open(fname)\n",
    "    head_answer_pairs = []\n",
    "    for line in f:\n",
    "        q, answer_string = line.rstrip().split('\\t')\n",
    "        head = getHeadFromQuestion(q)\n",
    "        answers = answer_string.split('|')\n",
    "        head_answer_pairs.append((head, answers))\n",
    "    return head_answer_pairs\n",
    "        "
   ]
  },
  {
   "cell_type": "code",
   "execution_count": 188,
   "id": "6c1db557",
   "metadata": {},
   "outputs": [],
   "source": [
    "q_file_name = os.path.join(folder, subgraph_split, 'qa_test_1hop.txt')\n",
    "ha_pairs = readQuestions(q_file_name)"
   ]
  },
  {
   "cell_type": "code",
   "execution_count": 189,
   "id": "d480ff6f",
   "metadata": {},
   "outputs": [
    {
     "data": {
      "text/plain": [
       "9947"
      ]
     },
     "execution_count": 189,
     "metadata": {},
     "output_type": "execute_result"
    }
   ],
   "source": [
    "len(ha_pairs)"
   ]
  },
  {
   "cell_type": "code",
   "execution_count": 190,
   "id": "cd9be5fd",
   "metadata": {},
   "outputs": [
    {
     "data": {
      "text/plain": [
       "5520"
      ]
     },
     "execution_count": 190,
     "metadata": {},
     "output_type": "execute_result"
    }
   ],
   "source": [
    "count = 0\n",
    "for ha_pair in ha_pairs:\n",
    "    head = ha_pair[0]\n",
    "    answers = ha_pair[1]\n",
    "    head = unidecode(head).rstrip()\n",
    "    if head not in G:\n",
    "        continue\n",
    "    head_nbhood = G.neighbors(head)\n",
    "    for a in answers:\n",
    "        if a in head_nbhood:\n",
    "            count += 1\n",
    "            break\n",
    "count"
   ]
  },
  {
   "cell_type": "code",
   "execution_count": 251,
   "id": "bf3543f8",
   "metadata": {},
   "outputs": [
    {
     "data": {
      "application/vnd.jupyter.widget-view+json": {
       "model_id": "54352ec2339240389d0308439fec967f",
       "version_major": 2,
       "version_minor": 0
      },
      "text/plain": [
       "  0%|          | 0/1 [00:00<?, ?it/s]"
      ]
     },
     "metadata": {},
     "output_type": "display_data"
    },
    {
     "name": "stdout",
     "output_type": "stream",
     "text": [
      "3358\n"
     ]
    }
   ],
   "source": [
    "from unidecode import unidecode\n",
    "# subgraph_splits = ['MetaQA_half', 'MetaQA_half2', 'MetaQA_half3', 'MetaQA_half_allents',\n",
    "#                   'MetaQA_half_allents2', 'MetaQA_half_allents3']\n",
    "subgraph_splits = ['MetaQA_half_allents']\n",
    "for sg in tqdm(subgraph_splits):\n",
    "    fname = os.path.join(folder, sg, 'train.txt')\n",
    "    train = readTriples(fname)\n",
    "#     print(len(train))\n",
    "    ents = getEntities(train)\n",
    "    G = nx.Graph()\n",
    "    G.add_nodes_from(ents)\n",
    "    for t in train:\n",
    "        G.add_edge(t[0], t[2])\n",
    "#     print(len(G.edges))\n",
    "    count = 0\n",
    "    for ha_pair in ha_pairs:\n",
    "        head = ha_pair[0]\n",
    "        answers = ha_pair[1]\n",
    "        head = unidecode(head).rstrip()\n",
    "        if head not in G:\n",
    "            continue\n",
    "        \n",
    "        head_nbhood = set(G.neighbors(head))\n",
    "        \n",
    "        flag = 0\n",
    "        for a in answers:\n",
    "            if a in head_nbhood:\n",
    "                count += 1\n",
    "                flag = 1\n",
    "                break\n",
    "#         if len(set(G.neighbors(head)).intersection(set(answers))) != 0:\n",
    "#             if flag == 0:\n",
    "#                 print(head, set(G.neighbors(head)), set(head_nbhood))\n",
    "#             else:\n",
    "#                 print(head, set(G.neighbors(head)), set(head_nbhood))\n",
    "#                 break\n",
    "    print(count)\n",
    "#     print(sg, count)"
   ]
  },
  {
   "cell_type": "code",
   "execution_count": 92,
   "id": "c97e8c43",
   "metadata": {},
   "outputs": [
    {
     "data": {
      "text/plain": [
       "{'Divorce', 'Kiss and Make-Up'}"
      ]
     },
     "execution_count": 92,
     "metadata": {},
     "output_type": "execute_result"
    }
   ],
   "source": [
    "set(G.neighbors('Helen Mack'))"
   ]
  },
  {
   "cell_type": "code",
   "execution_count": 82,
   "id": "20faef61",
   "metadata": {},
   "outputs": [],
   "source": [
    "q_file_name = os.path.join(folder, 'MetaQA_half', 'qa_train_2hop.txt')\n",
    "train_ha_pairs = readQuestions(q_file_name)\n",
    "q_file_name = os.path.join(folder, 'MetaQA_half', 'qa_test_2hop.txt')\n",
    "test_ha_pairs = readQuestions(q_file_name)"
   ]
  },
  {
   "cell_type": "code",
   "execution_count": 83,
   "id": "e0b4e58c",
   "metadata": {},
   "outputs": [
    {
     "data": {
      "text/plain": [
       "118980"
      ]
     },
     "execution_count": 83,
     "metadata": {},
     "output_type": "execute_result"
    }
   ],
   "source": [
    "len(train_ha_pairs)"
   ]
  },
  {
   "cell_type": "code",
   "execution_count": 84,
   "id": "cdc02518",
   "metadata": {},
   "outputs": [
    {
     "data": {
      "text/plain": [
       "14872"
      ]
     },
     "execution_count": 84,
     "metadata": {},
     "output_type": "execute_result"
    }
   ],
   "source": [
    "len(test_ha_pairs)"
   ]
  },
  {
   "cell_type": "code",
   "execution_count": 85,
   "id": "32243b8f",
   "metadata": {},
   "outputs": [],
   "source": [
    "from collections import defaultdict\n",
    "train_ha_dict = defaultdict(list)\n",
    "for h,a in train_ha_pairs:\n",
    "    train_ha_dict[h].append(set(a))"
   ]
  },
  {
   "cell_type": "code",
   "execution_count": 86,
   "id": "8a78f4fb",
   "metadata": {},
   "outputs": [
    {
     "data": {
      "text/plain": [
       "[]"
      ]
     },
     "execution_count": 86,
     "metadata": {},
     "output_type": "execute_result"
    }
   ],
   "source": [
    "train_ha_dict['ginger rogers']"
   ]
  },
  {
   "cell_type": "code",
   "execution_count": 87,
   "id": "840b64c9",
   "metadata": {},
   "outputs": [
    {
     "data": {
      "application/vnd.jupyter.widget-view+json": {
       "model_id": "8a99936f7bfd4cc39db75fa586b7fa06",
       "version_major": 2,
       "version_minor": 0
      },
      "text/plain": [
       "  0%|          | 0/14872 [00:00<?, ?it/s]"
      ]
     },
     "metadata": {},
     "output_type": "display_data"
    }
   ],
   "source": [
    "count = 0\n",
    "for h, a in tqdm(test_ha_pairs):\n",
    "    if h not in train_ha_dict:\n",
    "        continue\n",
    "    answers_set_list = train_ha_dict[h]\n",
    "    a = set(a)\n",
    "    for ans_from_train in answers_set_list:\n",
    "        if a == ans_from_train:\n",
    "            count += 1\n",
    "            break"
   ]
  },
  {
   "cell_type": "code",
   "execution_count": 88,
   "id": "2c305866",
   "metadata": {},
   "outputs": [
    {
     "data": {
      "text/plain": [
       "2684"
      ]
     },
     "execution_count": 88,
     "metadata": {},
     "output_type": "execute_result"
    }
   ],
   "source": [
    "count"
   ]
  },
  {
   "cell_type": "code",
   "execution_count": 305,
   "id": "6d11ea6d",
   "metadata": {},
   "outputs": [],
   "source": [
    "# get templates for questions\n",
    "# then from templates get reasoning paths\n",
    "# need to do this to get number of answerable questions for 2,3 hop\n",
    "# just seeing reachability not enough for 2,3 hop\n",
    "import copy\n",
    "\n",
    "def split_qtype(qtype):\n",
    "    qtype = qtype.split('_to_')\n",
    "    return qtype\n",
    "\n",
    "def relation_from_ent_type(ent):\n",
    "    switcher = {\n",
    "        'movie': 'error',\n",
    "        'director': 'directed by',\n",
    "        'actor': 'starred actors',\n",
    "        'genre': 'has genre',\n",
    "        'language': 'in language',\n",
    "        'tags': 'has tags',\n",
    "        'writer': 'written by',\n",
    "        'year': 'release year',\n",
    "        'tag': 'has tags',\n",
    "    }\n",
    "    return switcher.get(ent, 'error')\n",
    "\n",
    "def qtype_to_path(qtype):\n",
    "    sq = split_qtype(qtype)\n",
    "    if len(sq) < 2:\n",
    "        return []\n",
    "    path = []\n",
    "    for i in range(len(sq) - 1):\n",
    "        start_ent = copy.copy(sq[i])\n",
    "        end_ent = copy.copy(sq[i+1])\n",
    "        if start_ent == 'movie':\n",
    "            is_reverse = False\n",
    "        else:\n",
    "            is_reverse = True\n",
    "            start_ent, end_ent = end_ent, start_ent\n",
    "        rel = relation_from_ent_type(end_ent)\n",
    "        if is_reverse:\n",
    "            rel += ' reverse'\n",
    "        path.append(rel)\n",
    "    return path\n",
    "        \n",
    "def follow_path_1hop(head, graph, rel):\n",
    "    return graph[head][rel]\n",
    "\n",
    "# follow doesn't return head!\n",
    "# this is ok since for a question, head never the answer\n",
    "def follow_path(head, graph, path):\n",
    "    ans_ents = []\n",
    "    inter_ents = set([head])\n",
    "    for rel in path:\n",
    "        ents_for_next_step = set()\n",
    "        for e in inter_ents:\n",
    "            ents_1hop = follow_path_1hop(e, graph, rel)\n",
    "            ents_for_next_step.update(ents_1hop)\n",
    "        inter_ents = list(set(ents_for_next_step))\n",
    "    out = set(inter_ents)\n",
    "    if head in out:\n",
    "        out.remove(head)\n",
    "    return out"
   ]
  },
  {
   "cell_type": "code",
   "execution_count": 290,
   "id": "fd79be93",
   "metadata": {},
   "outputs": [
    {
     "data": {
      "text/plain": [
       "['Rocky VI', 'release year', '1986']"
      ]
     },
     "execution_count": 290,
     "metadata": {},
     "output_type": "execute_result"
    }
   ],
   "source": [
    "questions_folder = 'data/MetaQA_half'\n",
    "train[0]"
   ]
  },
  {
   "cell_type": "code",
   "execution_count": 291,
   "id": "b04565fe",
   "metadata": {},
   "outputs": [
    {
     "data": {
      "text/plain": [
       "(34945, 66791, 68000)"
      ]
     },
     "execution_count": 291,
     "metadata": {},
     "output_type": "execute_result"
    }
   ],
   "source": [
    "len(getEntities(train)), len(train), len(G.edges)"
   ]
  },
  {
   "cell_type": "code",
   "execution_count": 292,
   "id": "f3c0783f",
   "metadata": {},
   "outputs": [
    {
     "data": {
      "text/plain": [
       "43234"
      ]
     },
     "execution_count": 292,
     "metadata": {},
     "output_type": "execute_result"
    }
   ],
   "source": [
    "fname = os.path.join('data/MetaQA', 'train.txt')\n",
    "full_triples = readTriples(fname)\n",
    "entities = getEntities(full_triples)\n",
    "len(entities)"
   ]
  },
  {
   "cell_type": "code",
   "execution_count": 362,
   "id": "40bedf04",
   "metadata": {},
   "outputs": [
    {
     "data": {
      "text/plain": [
       "70844"
      ]
     },
     "execution_count": 362,
     "metadata": {},
     "output_type": "execute_result"
    }
   ],
   "source": [
    "triples_file = 'data/MetaQA_half_allents/train.txt'\n",
    "train = readTriples(triples_file)\n",
    "len(train)"
   ]
  },
  {
   "cell_type": "code",
   "execution_count": 363,
   "id": "4c680aae",
   "metadata": {},
   "outputs": [],
   "source": [
    "# manually make relational graph\n",
    "# graph is a dict(dict(list))\n",
    "from collections import defaultdict\n",
    "graph = dict()\n",
    "triples_for_graph = train\n",
    "for e in entities:\n",
    "    e = unidecode(e).rstrip()\n",
    "    graph[e] = dict()\n",
    "    for r in relations:\n",
    "        graph[e][r] = set()\n",
    "        graph[e][r + ' reverse'] = set()\n",
    "\n",
    "for t in triples_for_graph:\n",
    "    head, rel, tail = t\n",
    "    rel_reverse = rel + ' reverse'\n",
    "    graph[head][rel].add(tail)\n",
    "    graph[tail][rel_reverse].add(head)\n",
    "    "
   ]
  },
  {
   "cell_type": "code",
   "execution_count": 364,
   "id": "c9a4030d",
   "metadata": {},
   "outputs": [
    {
     "data": {
      "text/plain": [
       "43234"
      ]
     },
     "execution_count": 364,
     "metadata": {},
     "output_type": "execute_result"
    }
   ],
   "source": [
    "len(getEntities(triples_for_graph))"
   ]
  },
  {
   "cell_type": "code",
   "execution_count": 374,
   "id": "bac3e384",
   "metadata": {},
   "outputs": [],
   "source": [
    "qtype_folder = 'data/metaqa_qtype'\n",
    "hops = '3'\n",
    "qtype_split = 'test'\n",
    "qtype_file = os.path.join(qtype_folder, hops+'-hop', 'qa_'+ qtype_split + '_qtype.txt')\n",
    "qtypes = readLines(qtype_file)\n",
    "\n",
    "q_file_name = os.path.join('data/MetaQA_half', 'qa_{}_{}hop.txt'.format(qtype_split, hops))\n",
    "ha_pairs = readQuestions(q_file_name)\n",
    "\n",
    "haq_triples = []\n",
    "for i in range(len(ha_pairs)):\n",
    "    item = (unidecode(ha_pairs[i][0]).rstrip(), ha_pairs[i][1], qtypes[i])\n",
    "    haq_triples.append(item)"
   ]
  },
  {
   "cell_type": "code",
   "execution_count": 375,
   "id": "696df58d",
   "metadata": {},
   "outputs": [
    {
     "data": {
      "text/plain": [
       "(('Catch Me If You Can',\n",
       "  ['German', 'Polish', 'Mende', 'Japanese'],\n",
       "  'movie_to_director_to_movie_to_language'),\n",
       " ['directed by', 'directed by reverse', 'in language'])"
      ]
     },
     "execution_count": 375,
     "metadata": {},
     "output_type": "execute_result"
    }
   ],
   "source": [
    "id = 0\n",
    "haq_triples[id], qtype_to_path(haq_triples[id][2] )"
   ]
  },
  {
   "cell_type": "code",
   "execution_count": 377,
   "id": "8513a955",
   "metadata": {},
   "outputs": [
    {
     "data": {
      "text/plain": [
       "(6333, 0.4436738125262715)"
      ]
     },
     "execution_count": 377,
     "metadata": {},
     "output_type": "execute_result"
    }
   ],
   "source": [
    "from collections import defaultdict\n",
    "count = 0\n",
    "qtype_answerable_dict = defaultdict(list)\n",
    "for h, a, qt in haq_triples:\n",
    "    path = qtype_to_path(qt)\n",
    "    h = unidecode(h).rstrip()\n",
    "    results = follow_path(h, graph, path)\n",
    "    is_answerable = 0\n",
    "    if len(set(results).intersection(set(a))) > 0:\n",
    "        if len(set(results)) <= len(set(a)): # sanity check\n",
    "            is_answerable = 1\n",
    "            count += 1\n",
    "    qtype_answerable_dict[qt].append(is_answerable)\n",
    "#     if len(results) > 0:\n",
    "#         count += 1\n",
    "count, count/len(haq_triples)"
   ]
  },
  {
   "cell_type": "code",
   "execution_count": 378,
   "id": "a26371a3",
   "metadata": {},
   "outputs": [
    {
     "name": "stdout",
     "output_type": "stream",
     "text": [
      "movie_to_director_to_movie_to_language 0.17207792207792208\n",
      "movie_to_director_to_movie_to_actor 0.372310570626754\n",
      "movie_to_actor_to_movie_to_language 0.2857142857142857\n",
      "movie_to_writer_to_movie_to_year 0.3085234093637455\n",
      "movie_to_actor_to_movie_to_director 0.6492281303602059\n",
      "movie_to_director_to_movie_to_genre 0.3712918660287081\n",
      "movie_to_writer_to_movie_to_director 0.40458015267175573\n",
      "movie_to_actor_to_movie_to_year 0.6254416961130742\n",
      "movie_to_actor_to_movie_to_writer 0.6345177664974619\n",
      "movie_to_actor_to_movie_to_genre 0.6524390243902439\n",
      "movie_to_director_to_movie_to_writer 0.39183318853171156\n",
      "movie_to_writer_to_movie_to_genre 0.4179640718562874\n",
      "movie_to_writer_to_movie_to_actor 0.40778923253150057\n",
      "movie_to_director_to_movie_to_year 0.32302092811646954\n",
      "movie_to_writer_to_movie_to_language 0.266304347826087\n"
     ]
    }
   ],
   "source": [
    "for k, v in qtype_answerable_dict.items():\n",
    "    print(k, sum(v)/len(v))"
   ]
  },
  {
   "cell_type": "code",
   "execution_count": 208,
   "id": "33be34f7",
   "metadata": {},
   "outputs": [
    {
     "data": {
      "text/plain": [
       "6617"
      ]
     },
     "execution_count": 208,
     "metadata": {},
     "output_type": "execute_result"
    }
   ],
   "source": [
    "count = 0\n",
    "for h, a in ha_pairs:\n",
    "    h = unidecode(h).rstrip()\n",
    "    if h not in G:\n",
    "        continue\n",
    "    if len(set(G.neighbors(h)).intersection(set(a))) != 0:\n",
    "        count += 1\n",
    "count"
   ]
  },
  {
   "cell_type": "code",
   "execution_count": 153,
   "id": "23a98f0f",
   "metadata": {},
   "outputs": [
    {
     "data": {
      "text/plain": [
       "{'The Inbetweeners 2'}"
      ]
     },
     "execution_count": 153,
     "metadata": {},
     "output_type": "execute_result"
    }
   ],
   "source": [
    "from unidecode import unidecode\n",
    "head = 'Joe Thomas'\n",
    "head = unidecode(head)\n",
    "path = ['starred actors reverse']\n",
    "follow_path(head, graph, path)"
   ]
  },
  {
   "cell_type": "code",
   "execution_count": 150,
   "id": "e9e26593",
   "metadata": {},
   "outputs": [
    {
     "data": {
      "text/plain": [
       "{'has imdb rating': set(),\n",
       " 'has imdb rating reverse': set(),\n",
       " 'has imdb votes': set(),\n",
       " 'has imdb votes reverse': set(),\n",
       " 'has tags': set(),\n",
       " 'has tags reverse': set(),\n",
       " 'directed by': set(),\n",
       " 'directed by reverse': set(),\n",
       " 'has genre': set(),\n",
       " 'has genre reverse': set(),\n",
       " 'in language': set(),\n",
       " 'in language reverse': set(),\n",
       " 'release year': set(),\n",
       " 'release year reverse': set(),\n",
       " 'written by': set(),\n",
       " 'written by reverse': set(),\n",
       " 'starred actors': set(),\n",
       " 'starred actors reverse': set()}"
      ]
     },
     "execution_count": 150,
     "metadata": {},
     "output_type": "execute_result"
    }
   ],
   "source": [
    "graph[head]"
   ]
  },
  {
   "cell_type": "code",
   "execution_count": 154,
   "id": "02fda9a3",
   "metadata": {},
   "outputs": [],
   "source": [
    "x = 'a'\n",
    "y = 'b'"
   ]
  },
  {
   "cell_type": "code",
   "execution_count": 155,
   "id": "dfef750d",
   "metadata": {},
   "outputs": [
    {
     "data": {
      "text/plain": [
       "('a', 'b')"
      ]
     },
     "execution_count": 155,
     "metadata": {},
     "output_type": "execute_result"
    }
   ],
   "source": [
    "x, y"
   ]
  },
  {
   "cell_type": "code",
   "execution_count": 156,
   "id": "81cc2967",
   "metadata": {},
   "outputs": [
    {
     "data": {
      "text/plain": [
       "('b', 'a')"
      ]
     },
     "execution_count": 156,
     "metadata": {},
     "output_type": "execute_result"
    }
   ],
   "source": [
    "x, y = y, x\n",
    "x, y"
   ]
  },
  {
   "cell_type": "code",
   "execution_count": null,
   "id": "76629249",
   "metadata": {},
   "outputs": [],
   "source": []
  }
 ],
 "metadata": {
  "kernelspec": {
   "display_name": "Python 3 (ipykernel)",
   "language": "python",
   "name": "python3"
  },
  "language_info": {
   "codemirror_mode": {
    "name": "ipython",
    "version": 3
   },
   "file_extension": ".py",
   "mimetype": "text/x-python",
   "name": "python",
   "nbconvert_exporter": "python",
   "pygments_lexer": "ipython3",
   "version": "3.8.11"
  }
 },
 "nbformat": 4,
 "nbformat_minor": 5
}

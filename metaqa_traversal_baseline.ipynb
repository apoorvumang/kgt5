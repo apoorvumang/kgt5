{
 "cells": [
  {
   "cell_type": "code",
   "execution_count": 1,
   "id": "dbe1ea2c",
   "metadata": {},
   "outputs": [],
   "source": [
    "import pickle\n",
    "from tqdm.notebook import tqdm\n",
    "import os\n"
   ]
  },
  {
   "cell_type": "code",
   "execution_count": 2,
   "id": "2f2a7f76",
   "metadata": {},
   "outputs": [],
   "source": [
    "folder = '/scratche/home/apoorv/transformer-kgc/data'"
   ]
  },
  {
   "cell_type": "code",
   "execution_count": 3,
   "id": "b89ddc94",
   "metadata": {},
   "outputs": [],
   "source": [
    "subgraph_split = 'MetaQA'"
   ]
  },
  {
   "cell_type": "code",
   "execution_count": 4,
   "id": "e985f224",
   "metadata": {},
   "outputs": [],
   "source": [
    "def readTriples(fname):\n",
    "    f = open(fname)\n",
    "    triples = []\n",
    "    for line in f:\n",
    "        if line.startswith('predict head:'):\n",
    "            continue\n",
    "        line = line.rstrip()\n",
    "        line = line.replace('predict tail: ', '')\n",
    "        line = line.split('\\t')\n",
    "        head_rel = line[0]\n",
    "        tail = line[1]\n",
    "        head_rel = head_rel.replace(' | ', '|')\n",
    "        head_rel = head_rel.replace(' |', '|')\n",
    "        head, rel, _ = head_rel.split('|')\n",
    "        if rel != 'noop':\n",
    "            triples.append([head, rel, tail])\n",
    "    f.close()\n",
    "    return triples\n",
    "\n",
    "def getEntities(triples):\n",
    "    ents = set()\n",
    "    for t in triples:\n",
    "        ents.add(t[0])\n",
    "        ents.add(t[2])\n",
    "    return ents\n",
    "\n",
    "def readLines(fname):\n",
    "    f = open(fname)\n",
    "    lines = []\n",
    "    for line in f:\n",
    "        lines.append(line.rstrip())\n",
    "    return lines"
   ]
  },
  {
   "cell_type": "code",
   "execution_count": 5,
   "id": "d7423fb4",
   "metadata": {},
   "outputs": [],
   "source": [
    "def getHeadFromQuestion(q):\n",
    "    h1 = q.split('[')[1]\n",
    "    head = h1.split(']')[0]\n",
    "    return head\n",
    "\n",
    "def readQuestions(fname):\n",
    "    f = open(fname)\n",
    "    head_answer_pairs = []\n",
    "    for line in f:\n",
    "        q, answer_string = line.rstrip().split('\\t')\n",
    "        head = getHeadFromQuestion(q)\n",
    "        answers = answer_string.split('|')\n",
    "        head_answer_pairs.append((head, answers))\n",
    "    return head_answer_pairs\n",
    "        "
   ]
  },
  {
   "cell_type": "code",
   "execution_count": 8,
   "id": "6c1db557",
   "metadata": {},
   "outputs": [],
   "source": [
    "q_file_name = os.path.join('data/MetaQA_half/', 'qa_train_2hop.txt')\n",
    "ha_pairs = readQuestions(q_file_name)"
   ]
  },
  {
   "cell_type": "code",
   "execution_count": 10,
   "id": "d480ff6f",
   "metadata": {},
   "outputs": [
    {
     "data": {
      "text/plain": [
       "'/scratche/home/apoorv/transformer-kgc/data'"
      ]
     },
     "execution_count": 10,
     "metadata": {},
     "output_type": "execute_result"
    }
   ],
   "source": [
    "folder"
   ]
  },
  {
   "cell_type": "code",
   "execution_count": 12,
   "id": "bf3543f8",
   "metadata": {},
   "outputs": [
    {
     "data": {
      "application/vnd.jupyter.widget-view+json": {
       "model_id": "96d13c4e84424911bb5a181bf1236661",
       "version_major": 2,
       "version_minor": 0
      },
      "text/plain": [
       "  0%|          | 0/1 [00:00<?, ?it/s]"
      ]
     },
     "metadata": {},
     "output_type": "display_data"
    },
    {
     "name": "stdout",
     "output_type": "stream",
     "text": [
      "78\n"
     ]
    }
   ],
   "source": [
    "from unidecode import unidecode\n",
    "import networkx as nx\n",
    "# subgraph_splits = ['MetaQA_half', 'MetaQA_half2', 'MetaQA_half3', 'MetaQA_half_allents',\n",
    "#                   'MetaQA_half_allents2', 'MetaQA_half_allents3']\n",
    "subgraph_splits = ['MetaQA']\n",
    "for sg in tqdm(subgraph_splits):\n",
    "    fname = os.path.join(folder, sg, 'train.txt')\n",
    "    train = readTriples(fname)\n",
    "#     print(len(train))\n",
    "    ents = getEntities(train)\n",
    "    G = nx.Graph()\n",
    "    G.add_nodes_from(ents)\n",
    "    for t in train:\n",
    "        G.add_edge(t[0], t[2])\n",
    "#     print(len(G.edges))\n",
    "    count = 0\n",
    "    for ha_pair in ha_pairs:\n",
    "        head = ha_pair[0]\n",
    "        answers = ha_pair[1]\n",
    "        head = unidecode(head).rstrip()\n",
    "        if head not in G:\n",
    "            continue\n",
    "        \n",
    "        head_nbhood = set(G.neighbors(head))\n",
    "        \n",
    "        flag = 0\n",
    "        for a in answers:\n",
    "            if a in head_nbhood:\n",
    "                count += 1\n",
    "                flag = 1\n",
    "                break\n",
    "#         if len(set(G.neighbors(head)).intersection(set(answers))) != 0:\n",
    "#             if flag == 0:\n",
    "#                 print(head, set(G.neighbors(head)), set(head_nbhood))\n",
    "#             else:\n",
    "#                 print(head, set(G.neighbors(head)), set(head_nbhood))\n",
    "#                 break\n",
    "    print(count)\n",
    "#     print(sg, count)"
   ]
  },
  {
   "cell_type": "code",
   "execution_count": 13,
   "id": "c97e8c43",
   "metadata": {},
   "outputs": [
    {
     "data": {
      "text/plain": [
       "{'Divorce', 'Kiss and Make-Up', 'The Son of Kong'}"
      ]
     },
     "execution_count": 13,
     "metadata": {},
     "output_type": "execute_result"
    }
   ],
   "source": [
    "set(G.neighbors('Helen Mack'))"
   ]
  },
  {
   "cell_type": "code",
   "execution_count": 14,
   "id": "20faef61",
   "metadata": {},
   "outputs": [],
   "source": [
    "q_file_name = os.path.join(folder, 'MetaQA_half', 'qa_train_2hop.txt')\n",
    "train_ha_pairs = readQuestions(q_file_name)\n",
    "q_file_name = os.path.join(folder, 'MetaQA_half', 'qa_test_2hop.txt')\n",
    "test_ha_pairs = readQuestions(q_file_name)"
   ]
  },
  {
   "cell_type": "code",
   "execution_count": 15,
   "id": "e0b4e58c",
   "metadata": {},
   "outputs": [
    {
     "data": {
      "text/plain": [
       "118980"
      ]
     },
     "execution_count": 15,
     "metadata": {},
     "output_type": "execute_result"
    }
   ],
   "source": [
    "len(train_ha_pairs)"
   ]
  },
  {
   "cell_type": "code",
   "execution_count": 16,
   "id": "cdc02518",
   "metadata": {},
   "outputs": [
    {
     "data": {
      "text/plain": [
       "14872"
      ]
     },
     "execution_count": 16,
     "metadata": {},
     "output_type": "execute_result"
    }
   ],
   "source": [
    "len(test_ha_pairs)"
   ]
  },
  {
   "cell_type": "code",
   "execution_count": 17,
   "id": "32243b8f",
   "metadata": {},
   "outputs": [],
   "source": [
    "from collections import defaultdict\n",
    "train_ha_dict = defaultdict(list)\n",
    "for h,a in train_ha_pairs:\n",
    "    train_ha_dict[h].append(set(a))"
   ]
  },
  {
   "cell_type": "code",
   "execution_count": 18,
   "id": "8a78f4fb",
   "metadata": {},
   "outputs": [
    {
     "data": {
      "text/plain": [
       "[]"
      ]
     },
     "execution_count": 18,
     "metadata": {},
     "output_type": "execute_result"
    }
   ],
   "source": [
    "train_ha_dict['ginger rogers']"
   ]
  },
  {
   "cell_type": "code",
   "execution_count": 19,
   "id": "840b64c9",
   "metadata": {},
   "outputs": [
    {
     "data": {
      "application/vnd.jupyter.widget-view+json": {
       "model_id": "dd8cfd1a360944f9b80082e315753a5e",
       "version_major": 2,
       "version_minor": 0
      },
      "text/plain": [
       "  0%|          | 0/14872 [00:00<?, ?it/s]"
      ]
     },
     "metadata": {},
     "output_type": "display_data"
    }
   ],
   "source": [
    "count = 0\n",
    "for h, a in tqdm(test_ha_pairs):\n",
    "    if h not in train_ha_dict:\n",
    "        continue\n",
    "    answers_set_list = train_ha_dict[h]\n",
    "    a = set(a)\n",
    "    for ans_from_train in answers_set_list:\n",
    "        if a == ans_from_train:\n",
    "            count += 1\n",
    "            break"
   ]
  },
  {
   "cell_type": "code",
   "execution_count": 20,
   "id": "2c305866",
   "metadata": {},
   "outputs": [
    {
     "data": {
      "text/plain": [
       "2684"
      ]
     },
     "execution_count": 20,
     "metadata": {},
     "output_type": "execute_result"
    }
   ],
   "source": [
    "count"
   ]
  },
  {
   "cell_type": "code",
   "execution_count": 21,
   "id": "6d11ea6d",
   "metadata": {},
   "outputs": [],
   "source": [
    "# get templates for questions\n",
    "# then from templates get reasoning paths\n",
    "# need to do this to get number of answerable questions for 2,3 hop\n",
    "# just seeing reachability not enough for 2,3 hop\n",
    "import copy\n",
    "\n",
    "def split_qtype(qtype):\n",
    "    qtype = qtype.split('_to_')\n",
    "    return qtype\n",
    "\n",
    "def relation_from_ent_type(ent):\n",
    "    switcher = {\n",
    "        'movie': 'error',\n",
    "        'director': 'directed by',\n",
    "        'actor': 'starred actors',\n",
    "        'genre': 'has genre',\n",
    "        'language': 'in language',\n",
    "        'tags': 'has tags',\n",
    "        'writer': 'written by',\n",
    "        'year': 'release year',\n",
    "        'tag': 'has tags',\n",
    "    }\n",
    "    return switcher.get(ent, 'error')\n",
    "\n",
    "def qtype_to_path(qtype):\n",
    "    sq = split_qtype(qtype)\n",
    "    if len(sq) < 2:\n",
    "        return []\n",
    "    path = []\n",
    "    for i in range(len(sq) - 1):\n",
    "        start_ent = copy.copy(sq[i])\n",
    "        end_ent = copy.copy(sq[i+1])\n",
    "        if start_ent == 'movie':\n",
    "            is_reverse = False\n",
    "        else:\n",
    "            is_reverse = True\n",
    "            start_ent, end_ent = end_ent, start_ent\n",
    "        rel = relation_from_ent_type(end_ent)\n",
    "        if is_reverse:\n",
    "            rel += ' reverse'\n",
    "        path.append(rel)\n",
    "    return path\n",
    "        \n",
    "def follow_path_1hop(head, graph, rel):\n",
    "    return graph[head][rel]\n",
    "\n",
    "# follow doesn't return head!\n",
    "# this is ok since for a question, head never the answer\n",
    "def follow_path(head, graph, path):\n",
    "    ans_ents = []\n",
    "    inter_ents = set([head])\n",
    "    for rel in path:\n",
    "        ents_for_next_step = set()\n",
    "        for e in inter_ents:\n",
    "            ents_1hop = follow_path_1hop(e, graph, rel)\n",
    "            ents_for_next_step.update(ents_1hop)\n",
    "        inter_ents = list(set(ents_for_next_step))\n",
    "    out = set(inter_ents)\n",
    "    if head in out:\n",
    "        out.remove(head)\n",
    "    return out"
   ]
  },
  {
   "cell_type": "code",
   "execution_count": 22,
   "id": "fd79be93",
   "metadata": {},
   "outputs": [
    {
     "data": {
      "text/plain": [
       "['The Prowler', 'starred actors', 'Evelyn Keyes']"
      ]
     },
     "execution_count": 22,
     "metadata": {},
     "output_type": "execute_result"
    }
   ],
   "source": [
    "questions_folder = 'data/MetaQA_half'\n",
    "train[0]"
   ]
  },
  {
   "cell_type": "code",
   "execution_count": 23,
   "id": "b04565fe",
   "metadata": {},
   "outputs": [
    {
     "data": {
      "text/plain": [
       "(43234, 133582, 124680)"
      ]
     },
     "execution_count": 23,
     "metadata": {},
     "output_type": "execute_result"
    }
   ],
   "source": [
    "len(getEntities(train)), len(train), len(G.edges)"
   ]
  },
  {
   "cell_type": "code",
   "execution_count": 26,
   "id": "da3e268b",
   "metadata": {},
   "outputs": [
    {
     "data": {
      "text/plain": [
       "['The Prowler', 'starred actors', 'Evelyn Keyes']"
      ]
     },
     "execution_count": 26,
     "metadata": {},
     "output_type": "execute_result"
    }
   ],
   "source": [
    "train[0]"
   ]
  },
  {
   "cell_type": "code",
   "execution_count": 27,
   "id": "f3c0783f",
   "metadata": {},
   "outputs": [
    {
     "data": {
      "text/plain": [
       "43234"
      ]
     },
     "execution_count": 27,
     "metadata": {},
     "output_type": "execute_result"
    }
   ],
   "source": [
    "fname = os.path.join('data/MetaQA', 'train.txt')\n",
    "full_triples = readTriples(fname)\n",
    "entities = getEntities(full_triples)\n",
    "len(entities)"
   ]
  },
  {
   "cell_type": "code",
   "execution_count": 28,
   "id": "40bedf04",
   "metadata": {},
   "outputs": [
    {
     "data": {
      "text/plain": [
       "133582"
      ]
     },
     "execution_count": 28,
     "metadata": {},
     "output_type": "execute_result"
    }
   ],
   "source": [
    "triples_file = 'data/MetaQA/train.txt'\n",
    "train = readTriples(triples_file)\n",
    "len(train)"
   ]
  },
  {
   "cell_type": "code",
   "execution_count": 31,
   "id": "d25dfde2",
   "metadata": {},
   "outputs": [
    {
     "data": {
      "text/plain": [
       "9"
      ]
     },
     "execution_count": 31,
     "metadata": {},
     "output_type": "execute_result"
    }
   ],
   "source": [
    "relations = set()\n",
    "for t in full_triples:\n",
    "    relations.add(t[1])\n",
    "len(relations)"
   ]
  },
  {
   "cell_type": "code",
   "execution_count": 32,
   "id": "4c680aae",
   "metadata": {},
   "outputs": [],
   "source": [
    "# manually make relational graph\n",
    "# graph is a dict(dict(list))\n",
    "from collections import defaultdict\n",
    "graph = dict()\n",
    "triples_for_graph = train\n",
    "for e in entities:\n",
    "    e = unidecode(e).rstrip()\n",
    "    graph[e] = dict()\n",
    "    for r in relations:\n",
    "        graph[e][r] = set()\n",
    "        graph[e][r + ' reverse'] = set()\n",
    "\n",
    "for t in triples_for_graph:\n",
    "    head, rel, tail = t\n",
    "    rel_reverse = rel + ' reverse'\n",
    "    graph[head][rel].add(tail)\n",
    "    graph[tail][rel_reverse].add(head)\n",
    "    "
   ]
  },
  {
   "cell_type": "code",
   "execution_count": 33,
   "id": "c9a4030d",
   "metadata": {},
   "outputs": [
    {
     "data": {
      "text/plain": [
       "43234"
      ]
     },
     "execution_count": 33,
     "metadata": {},
     "output_type": "execute_result"
    }
   ],
   "source": [
    "len(getEntities(triples_for_graph))"
   ]
  },
  {
   "cell_type": "code",
   "execution_count": 34,
   "id": "bac3e384",
   "metadata": {},
   "outputs": [],
   "source": [
    "qtype_folder = 'data/metaqa_qtype'\n",
    "hops = '2'\n",
    "qtype_split = 'test'\n",
    "qtype_file = os.path.join(qtype_folder, hops+'-hop', 'qa_'+ qtype_split + '_qtype.txt')\n",
    "qtypes = readLines(qtype_file)\n",
    "\n",
    "q_file_name = os.path.join('data/MetaQA_half', 'qa_{}_{}hop.txt'.format(qtype_split, hops))\n",
    "ha_pairs = readQuestions(q_file_name)\n",
    "\n",
    "haq_triples = []\n",
    "for i in range(len(ha_pairs)):\n",
    "    item = (unidecode(ha_pairs[i][0]).rstrip(), ha_pairs[i][1], qtypes[i])\n",
    "    haq_triples.append(item)"
   ]
  },
  {
   "cell_type": "code",
   "execution_count": 35,
   "id": "696df58d",
   "metadata": {
    "scrolled": true
   },
   "outputs": [
    {
     "data": {
      "text/plain": [
       "(('John Krasinski',\n",
       "  ['Nancy Meyers',\n",
       "   'Sam Mendes',\n",
       "   'George Clooney',\n",
       "   'Ken Kwapis',\n",
       "   'Luke Greenfield'],\n",
       "  'actor_to_movie_to_director'),\n",
       " ['starred actors reverse', 'directed by'])"
      ]
     },
     "execution_count": 35,
     "metadata": {},
     "output_type": "execute_result"
    }
   ],
   "source": [
    "id = 0\n",
    "haq_triples[id], qtype_to_path(haq_triples[id][2] )"
   ]
  },
  {
   "cell_type": "code",
   "execution_count": 36,
   "id": "c71d7696",
   "metadata": {},
   "outputs": [
    {
     "data": {
      "text/plain": [
       "{'has genre': set(),\n",
       " 'has genre reverse': set(),\n",
       " 'has imdb rating': set(),\n",
       " 'has imdb rating reverse': set(),\n",
       " 'starred actors': set(),\n",
       " 'starred actors reverse': {'Away We Go',\n",
       "  \"It's Complicated\",\n",
       "  'Leatherheads',\n",
       "  'License to Wed',\n",
       "  'Nobody Walks',\n",
       "  'Something Borrowed'},\n",
       " 'has imdb votes': set(),\n",
       " 'has imdb votes reverse': set(),\n",
       " 'in language': set(),\n",
       " 'in language reverse': set(),\n",
       " 'has tags': set(),\n",
       " 'has tags reverse': set(),\n",
       " 'release year': set(),\n",
       " 'release year reverse': set(),\n",
       " 'written by': set(),\n",
       " 'written by reverse': {'Brief Interviews with Hideous Men', 'Promised Land'},\n",
       " 'directed by': set(),\n",
       " 'directed by reverse': {'Brief Interviews with Hideous Men'}}"
      ]
     },
     "execution_count": 36,
     "metadata": {},
     "output_type": "execute_result"
    }
   ],
   "source": [
    "graph['John Krasinski']"
   ]
  },
  {
   "cell_type": "code",
   "execution_count": 56,
   "id": "0a6c517f",
   "metadata": {},
   "outputs": [],
   "source": [
    "def get2hopPaths(head, tail):\n",
    "    global relations, graph\n",
    "    path_tail_pairs = []\n",
    "    for key, value in graph[head].items():\n",
    "        if len(value) > 0:\n",
    "            for node in value:\n",
    "                path_tail_pairs.append((node, key))\n",
    "#     return path_tail_pairs\n",
    "    output = []\n",
    "    for mid, rel1 in path_tail_pairs:\n",
    "        head_item = mid\n",
    "        for rel2, v in graph[head_item].items():\n",
    "            if len(v) == 0:\n",
    "                continue\n",
    "            for node in v:\n",
    "                p = (node, [rel1, rel2])\n",
    "                output.append(p)\n",
    "    output_tail_filtered = []\n",
    "    for o in output:\n",
    "        if o[0] == tail:\n",
    "            output_tail_filtered.append(o)\n",
    "    return output_tail_filtered\n",
    "\n",
    "def getPaths(head, tail, hops=1):\n",
    "    global relations, graph\n",
    "    "
   ]
  },
  {
   "cell_type": "code",
   "execution_count": 58,
   "id": "86cdb96c",
   "metadata": {},
   "outputs": [
    {
     "data": {
      "text/plain": [
       "[('Sam Mendes', ['starred actors reverse', 'directed by'])]"
      ]
     },
     "execution_count": 58,
     "metadata": {},
     "output_type": "execute_result"
    }
   ],
   "source": [
    "head = 'John Krasinski'\n",
    "tail = 'Sam Mendes'\n",
    "get2hopPaths(head, tail)"
   ]
  },
  {
   "cell_type": "code",
   "execution_count": 68,
   "id": "2a3cdf03",
   "metadata": {},
   "outputs": [],
   "source": [
    "from unidecode import unidecode\n",
    "\n",
    "def getHeadEntityTemplate(s):\n",
    "    index1 = s.find('[')\n",
    "    index2 = s.find(']')\n",
    "    head = s[index1 + 1: index2]\n",
    "    qtext = s[:index1] + 'NE' + s[index2 + 1:]\n",
    "    return head, qtext\n",
    "\n",
    "def readQuestions(fname):\n",
    "    f = open(fname)\n",
    "    questions = []\n",
    "    for line in f:\n",
    "        line = line.rstrip().split('\\t')\n",
    "        qn = line[0]\n",
    "        head, qtext = getHeadEntityTemplate(qn)\n",
    "        answers = line[1].split('|')\n",
    "        item = {}\n",
    "        item['template'] = qtext\n",
    "        item['head'] = unidecode(head).rstrip()\n",
    "        item['answers'] = answers\n",
    "        questions.append(item)\n",
    "    f.close()\n",
    "    return questions\n",
    "\n",
    "fname = 'data/MetaQA_half/qa_train_2hop.txt'\n",
    "questions = readQuestions(fname)"
   ]
  },
  {
   "cell_type": "code",
   "execution_count": 69,
   "id": "cb3504b1",
   "metadata": {},
   "outputs": [
    {
     "data": {
      "text/plain": [
       "{'template': 'which movies share the same actor of NE',\n",
       " 'head': 'The Strangers',\n",
       " 'answers': ['Heavy',\n",
       "  'Reign Over Me',\n",
       "  'Underworld',\n",
       "  'The Incredible Hulk',\n",
       "  'Onegin',\n",
       "  'Kitchen Party',\n",
       "  'The Ledge',\n",
       "  'My Life Without Me',\n",
       "  \"Cookie's Fortune\",\n",
       "  'The 24th Day',\n",
       "  'Barefoot',\n",
       "  'Armageddon',\n",
       "  'Super']}"
      ]
     },
     "execution_count": 69,
     "metadata": {},
     "output_type": "execute_result"
    }
   ],
   "source": [
    "questions[10]"
   ]
  },
  {
   "cell_type": "code",
   "execution_count": 70,
   "id": "0f7d539d",
   "metadata": {},
   "outputs": [
    {
     "data": {
      "text/plain": [
       "963"
      ]
     },
     "execution_count": 70,
     "metadata": {},
     "output_type": "execute_result"
    }
   ],
   "source": [
    "template_of_interest = 'which movies share the same actor of NE'\n",
    "questions_filtered = []\n",
    "for q in questions:\n",
    "    if q['template'] == template_of_interest:\n",
    "        questions_filtered.append(q)\n",
    "len(questions_filtered)"
   ]
  },
  {
   "cell_type": "code",
   "execution_count": 80,
   "id": "f58926f6",
   "metadata": {},
   "outputs": [
    {
     "data": {
      "application/vnd.jupyter.widget-view+json": {
       "model_id": "1035f4d73591419dadf1899c5a19c799",
       "version_major": 2,
       "version_minor": 0
      },
      "text/plain": [
       "  0%|          | 0/963 [00:00<?, ?it/s]"
      ]
     },
     "metadata": {},
     "output_type": "display_data"
    }
   ],
   "source": [
    "from tqdm.notebook import tqdm\n",
    "paths_counts = {}\n",
    "for q in tqdm(questions_filtered):\n",
    "    head = q['head']\n",
    "    for tail in q['answers']:\n",
    "        paths = get2hopPaths(head, tail)\n",
    "        for path in paths:\n",
    "            path = path[1]\n",
    "            path_tuple = (path[0], path[1])\n",
    "            if path_tuple in paths_counts:\n",
    "                paths_counts[path_tuple] += 1\n",
    "            else:\n",
    "                paths_counts[path_tuple] = 1"
   ]
  },
  {
   "cell_type": "code",
   "execution_count": 83,
   "id": "6f03c86d",
   "metadata": {},
   "outputs": [
    {
     "data": {
      "text/plain": [
       "{('starred actors', 'starred actors reverse'): 30895,\n",
       " ('has genre', 'has genre reverse'): 8143,\n",
       " ('has tags', 'has tags reverse'): 7541,\n",
       " ('release year', 'release year reverse'): 1048,\n",
       " ('starred actors', 'directed by reverse'): 666,\n",
       " ('written by', 'starred actors reverse'): 644,\n",
       " ('starred actors', 'written by reverse'): 625,\n",
       " ('directed by', 'directed by reverse'): 620,\n",
       " ('directed by', 'starred actors reverse'): 487,\n",
       " ('written by', 'written by reverse'): 425,\n",
       " ('in language', 'in language reverse'): 410,\n",
       " ('written by', 'directed by reverse'): 267,\n",
       " ('directed by', 'written by reverse'): 246,\n",
       " ('has imdb rating', 'has imdb rating reverse'): 58,\n",
       " ('has imdb votes', 'has imdb votes reverse'): 2,\n",
       " ('release year', 'has tags reverse'): 1,\n",
       " ('release year', 'has genre'): 1}"
      ]
     },
     "execution_count": 83,
     "metadata": {},
     "output_type": "execute_result"
    }
   ],
   "source": [
    "{k: v for k, v in sorted(paths_counts.items(), key=lambda item: item[1], reverse=True)}"
   ]
  },
  {
   "cell_type": "code",
   "execution_count": 377,
   "id": "8513a955",
   "metadata": {},
   "outputs": [
    {
     "data": {
      "text/plain": [
       "(6333, 0.4436738125262715)"
      ]
     },
     "execution_count": 377,
     "metadata": {},
     "output_type": "execute_result"
    }
   ],
   "source": [
    "from collections import defaultdict\n",
    "count = 0\n",
    "qtype_answerable_dict = defaultdict(list)\n",
    "for h, a, qt in haq_triples:\n",
    "    path = qtype_to_path(qt)\n",
    "    h = unidecode(h).rstrip()\n",
    "    results = follow_path(h, graph, path)\n",
    "    is_answerable = 0\n",
    "    if len(set(results).intersection(set(a))) > 0:\n",
    "        if len(set(results)) <= len(set(a)): # sanity check\n",
    "            is_answerable = 1\n",
    "            count += 1\n",
    "    qtype_answerable_dict[qt].append(is_answerable)\n",
    "#     if len(results) > 0:\n",
    "#         count += 1\n",
    "count, count/len(haq_triples)"
   ]
  },
  {
   "cell_type": "code",
   "execution_count": 378,
   "id": "a26371a3",
   "metadata": {},
   "outputs": [
    {
     "name": "stdout",
     "output_type": "stream",
     "text": [
      "movie_to_director_to_movie_to_language 0.17207792207792208\n",
      "movie_to_director_to_movie_to_actor 0.372310570626754\n",
      "movie_to_actor_to_movie_to_language 0.2857142857142857\n",
      "movie_to_writer_to_movie_to_year 0.3085234093637455\n",
      "movie_to_actor_to_movie_to_director 0.6492281303602059\n",
      "movie_to_director_to_movie_to_genre 0.3712918660287081\n",
      "movie_to_writer_to_movie_to_director 0.40458015267175573\n",
      "movie_to_actor_to_movie_to_year 0.6254416961130742\n",
      "movie_to_actor_to_movie_to_writer 0.6345177664974619\n",
      "movie_to_actor_to_movie_to_genre 0.6524390243902439\n",
      "movie_to_director_to_movie_to_writer 0.39183318853171156\n",
      "movie_to_writer_to_movie_to_genre 0.4179640718562874\n",
      "movie_to_writer_to_movie_to_actor 0.40778923253150057\n",
      "movie_to_director_to_movie_to_year 0.32302092811646954\n",
      "movie_to_writer_to_movie_to_language 0.266304347826087\n"
     ]
    }
   ],
   "source": [
    "for k, v in qtype_answerable_dict.items():\n",
    "    print(k, sum(v)/len(v))"
   ]
  },
  {
   "cell_type": "code",
   "execution_count": 208,
   "id": "33be34f7",
   "metadata": {},
   "outputs": [
    {
     "data": {
      "text/plain": [
       "6617"
      ]
     },
     "execution_count": 208,
     "metadata": {},
     "output_type": "execute_result"
    }
   ],
   "source": [
    "count = 0\n",
    "for h, a in ha_pairs:\n",
    "    h = unidecode(h).rstrip()\n",
    "    if h not in G:\n",
    "        continue\n",
    "    if len(set(G.neighbors(h)).intersection(set(a))) != 0:\n",
    "        count += 1\n",
    "count"
   ]
  },
  {
   "cell_type": "code",
   "execution_count": 153,
   "id": "23a98f0f",
   "metadata": {},
   "outputs": [
    {
     "data": {
      "text/plain": [
       "{'The Inbetweeners 2'}"
      ]
     },
     "execution_count": 153,
     "metadata": {},
     "output_type": "execute_result"
    }
   ],
   "source": [
    "from unidecode import unidecode\n",
    "head = 'Joe Thomas'\n",
    "head = unidecode(head)\n",
    "path = ['starred actors reverse']\n",
    "follow_path(head, graph, path)"
   ]
  },
  {
   "cell_type": "code",
   "execution_count": 150,
   "id": "e9e26593",
   "metadata": {},
   "outputs": [
    {
     "data": {
      "text/plain": [
       "{'has imdb rating': set(),\n",
       " 'has imdb rating reverse': set(),\n",
       " 'has imdb votes': set(),\n",
       " 'has imdb votes reverse': set(),\n",
       " 'has tags': set(),\n",
       " 'has tags reverse': set(),\n",
       " 'directed by': set(),\n",
       " 'directed by reverse': set(),\n",
       " 'has genre': set(),\n",
       " 'has genre reverse': set(),\n",
       " 'in language': set(),\n",
       " 'in language reverse': set(),\n",
       " 'release year': set(),\n",
       " 'release year reverse': set(),\n",
       " 'written by': set(),\n",
       " 'written by reverse': set(),\n",
       " 'starred actors': set(),\n",
       " 'starred actors reverse': set()}"
      ]
     },
     "execution_count": 150,
     "metadata": {},
     "output_type": "execute_result"
    }
   ],
   "source": [
    "graph[head]"
   ]
  },
  {
   "cell_type": "code",
   "execution_count": 154,
   "id": "02fda9a3",
   "metadata": {},
   "outputs": [],
   "source": [
    "x = 'a'\n",
    "y = 'b'"
   ]
  },
  {
   "cell_type": "code",
   "execution_count": 155,
   "id": "dfef750d",
   "metadata": {},
   "outputs": [
    {
     "data": {
      "text/plain": [
       "('a', 'b')"
      ]
     },
     "execution_count": 155,
     "metadata": {},
     "output_type": "execute_result"
    }
   ],
   "source": [
    "x, y"
   ]
  },
  {
   "cell_type": "code",
   "execution_count": 156,
   "id": "81cc2967",
   "metadata": {},
   "outputs": [
    {
     "data": {
      "text/plain": [
       "('b', 'a')"
      ]
     },
     "execution_count": 156,
     "metadata": {},
     "output_type": "execute_result"
    }
   ],
   "source": [
    "x, y = y, x\n",
    "x, y"
   ]
  },
  {
   "cell_type": "code",
   "execution_count": null,
   "id": "76629249",
   "metadata": {},
   "outputs": [],
   "source": []
  }
 ],
 "metadata": {
  "kernelspec": {
   "display_name": "Python 3 (ipykernel)",
   "language": "python",
   "name": "python3"
  },
  "language_info": {
   "codemirror_mode": {
    "name": "ipython",
    "version": 3
   },
   "file_extension": ".py",
   "mimetype": "text/x-python",
   "name": "python",
   "nbconvert_exporter": "python",
   "pygments_lexer": "ipython3",
   "version": "3.8.11"
  }
 },
 "nbformat": 4,
 "nbformat_minor": 5
}

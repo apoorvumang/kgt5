{
 "cells": [
  {
   "cell_type": "code",
   "execution_count": 1,
   "id": "10c15ba0",
   "metadata": {},
   "outputs": [],
   "source": [
    "import os\n",
    "import pickle\n",
    "from tqdm.auto import tqdm\n",
    "\n",
    "infile = '/scratche/prod/apoorv/wd5m_aliases_entities_v3.txt'\n",
    "outfile = '/scratche/home/apoorv/transformer-kgc/data/wikidata5m_v3/entity_strings.txt'\n",
    "\n",
    "fin = open(infile)\n",
    "fout = open(outfile, 'w')\n",
    "for line in fin:\n",
    "    ent_name = line.rstrip().split('\\t')[1]\n",
    "    fout.write(ent_name + '\\n')\n",
    "fin.close()\n",
    "fout.close()"
   ]
  },
  {
   "cell_type": "code",
   "execution_count": null,
   "id": "22807257",
   "metadata": {},
   "outputs": [],
   "source": []
  }
 ],
 "metadata": {
  "kernelspec": {
   "display_name": "Python 3 (ipykernel)",
   "language": "python",
   "name": "python3"
  },
  "language_info": {
   "codemirror_mode": {
    "name": "ipython",
    "version": 3
   },
   "file_extension": ".py",
   "mimetype": "text/x-python",
   "name": "python",
   "nbconvert_exporter": "python",
   "pygments_lexer": "ipython3",
   "version": "3.8.11"
  }
 },
 "nbformat": 4,
 "nbformat_minor": 5
}

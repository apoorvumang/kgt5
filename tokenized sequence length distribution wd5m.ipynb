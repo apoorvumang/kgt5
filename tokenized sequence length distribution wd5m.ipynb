{
 "cells": [
  {
   "cell_type": "code",
   "execution_count": 101,
   "id": "254c5c3c",
   "metadata": {},
   "outputs": [],
   "source": [
    "import sentencepiece as spm"
   ]
  },
  {
   "cell_type": "code",
   "execution_count": 102,
   "id": "2c8fa256",
   "metadata": {},
   "outputs": [],
   "source": [
    "sp = spm.SentencePieceProcessor(model_file='wd5m_with_pad.model')"
   ]
  },
  {
   "cell_type": "code",
   "execution_count": 103,
   "id": "df5268da",
   "metadata": {},
   "outputs": [
    {
     "data": {
      "text/plain": [
       "[[28, 40, 7, 45]]"
      ]
     },
     "execution_count": 103,
     "metadata": {},
     "output_type": "execute_result"
    }
   ],
   "source": [
    "sp.encode(['united states of america'])"
   ]
  },
  {
   "cell_type": "code",
   "execution_count": 52,
   "id": "ccdde502",
   "metadata": {},
   "outputs": [],
   "source": [
    "fname = 'data/wikidata5m/aliases.txt'\n",
    "entities = []\n",
    "for line in open(fname):\n",
    "    if line[-1] == '\\n':\n",
    "        line = line[:-1]\n",
    "    entities.append(line.split('\\t')[1])"
   ]
  },
  {
   "cell_type": "code",
   "execution_count": 53,
   "id": "4743df40",
   "metadata": {},
   "outputs": [
    {
     "data": {
      "text/plain": [
       "4819507"
      ]
     },
     "execution_count": 53,
     "metadata": {},
     "output_type": "execute_result"
    }
   ],
   "source": [
    "len(entities)"
   ]
  },
  {
   "cell_type": "code",
   "execution_count": 54,
   "id": "3d57a3d5",
   "metadata": {},
   "outputs": [
    {
     "data": {
      "text/plain": [
       "[[1519, 714, 19, 3956]]"
      ]
     },
     "execution_count": 54,
     "metadata": {},
     "output_type": "execute_result"
    }
   ],
   "source": [
    "sp.encode([entities[0]])"
   ]
  },
  {
   "cell_type": "code",
   "execution_count": 59,
   "id": "073e2a7d",
   "metadata": {},
   "outputs": [
    {
     "name": "stderr",
     "output_type": "stream",
     "text": [
      "100%|██████████| 4819507/4819507 [00:29<00:00, 161783.54it/s]\n"
     ]
    }
   ],
   "source": [
    "from tqdm import tqdm\n",
    "lengths = []\n",
    "for e in tqdm(entities):\n",
    "    encoded = sp.encode(e)\n",
    "    lengths.append(len(encoded))"
   ]
  },
  {
   "cell_type": "code",
   "execution_count": 60,
   "id": "811a5819",
   "metadata": {},
   "outputs": [
    {
     "data": {
      "text/plain": [
       "105"
      ]
     },
     "execution_count": 60,
     "metadata": {},
     "output_type": "execute_result"
    }
   ],
   "source": [
    "max(lengths)"
   ]
  },
  {
   "cell_type": "code",
   "execution_count": 63,
   "id": "fd3082c4",
   "metadata": {},
   "outputs": [
    {
     "name": "stdout",
     "output_type": "stream",
     "text": [
      "glca-beta-(1-2)-d-man-alpha-(1-3)-d-glc-beta-(1-4)-d-glc-alpha-1-diphospho-ditrans,octacis-undecaprenol 4-beta-mannosyltransferase\n",
      "n-acetylmuramoyl-l-alanyl-d-glutamyl-l-lysyl-(n6-glycyl)-d-alanyl-d-alanine-diphosphoundecaprenyl-n-acetylglucosamine:glycine glycyltransferase\n",
      "suzukake no ki no michi de \"kimi no hohoemi o yume ni miru\" to itte shimattara bokutachi no kankei wa do kawatte shimau no ka, bokunari ni nan-nichi ka kangaeta ue de no yaya kihazukashii ketsuron no yo na mono\n",
      "n-[6-[(6ar,10ar)-1-hydroxy-6,6,9-trimethyl-6a,7,10,10a-tetrahydrobenzo[c][1]benzopyran-3-yl]hex-4-ynyl]methanesulfonamide\n",
      "(4ar,10br)-4-propyl-3,4a,5,10b-tetrahydro-2h-[1]benzopyrano[4,3-b][1,4]oxazin-9-ol\n",
      "the sad but true story of ray mingus, the lumberjack of bulk rock city, and his never slacking stribe in exploiting the so far undiscovered areas of the intention to bodily intercourse from the opposite species of his kind...\n",
      "2,3,4,5,6-pentahydroxy-1-[4-[4-[(2,3,4,5,6-pentahydroxy-1-sulfohexyl)amino]phenyl]sulfonylanilino]hexane-1-sulfonic acid\n",
      "5-(methylamino)-2-[[(2s,3r,5r,6s,8r,9r)-3,5,9-trimethyl-2-[(2s)-1-oxo-1-(1h-pyrrol-2-yl)propan-2-yl]-1,7-dioxaspiro[5.5]undecan-8-yl]methyl]-1,3-benzoxazole-4-carboxylic acid\n",
      "tdp-4-oxo-6-deoxy-alpha-d-glucose-3,4-oxoisomerase (dtdp-3-dehydro-6-deoxy-alpha-d-galactopyranose-forming)\n",
      "10,10a-dihydroxy-7-methoxy-2,2-dimethyl-5-(2-methyl-1-propen-1-yl)-1,10,10a,14,14a,15b-hexahydro-12h-3,4-dioxa-5a,11a,15a-triazacycloocta[1,2,3-lm]indeno[5,6-b]fluorene-11,15(2h,13h)-dione\n",
      "lopado temacho selacho galeo kranio leipsano drim hypo trimmato silphio parao melito katakechy meno kichl epi kossypho phatto perister alektryon opte kephallio kigklo peleio lagoio siraio baphe tragano pterygon\n",
      "ribostamycin:4-(gamma-l-glutamylamino)-(s)-2-hydroxybutanoyl-(btri acyl-carrier protein) 4-(gamma-l-glutamylamino)-(s)-2-hydroxybutanoate transferase\n",
      "tdp-4-oxo-6-deoxy-alpha-d-glucose-3,4-oxoisomerase (dtdp-3-dehydro-6-deoxy-alpha-d-glucopyranose-forming)\n",
      "utautai ga uta utai ni kite uta utae to iu ga utautai ga uta utau dake utaikire ba uta utau keredomo utautai dake uta utaikirenai kara uta utawanu!?\n",
      "n-(2-methoxybenzyl)-1-((7r)-3-bromo-2,5-dimethoxybicyclo(4.2.0)octa-1,3,5-trien-7-yl)methanamine\n",
      "n-(4-{[(6s)-2-(hydroxymethyl)-4-oxo-4,6,7,8-tetrahydro-1h-cyclopenta[g]quinazolin-6-yl](prop-2-yn-1-yl)amino}benzoyl)-l-gamma-glutamyl-d-glutamic acid\n",
      "condoritodejaron fuera de la lista de dibujantes de condorito,al mas antiguo y de los originales dibujantes de pepo..me refiero a ruben eyzaguirre santis (rupa).\n",
      "n-acetylmuramoyl-l-alanyl-d-glutamyl-l-lysyl-(n6-triglycine)-d-alanyl-d-alanine-diphosphoundecaprenyl-n-acetylglucosamine:glycine glycyltransferase\n"
     ]
    },
    {
     "data": {
      "text/plain": [
       "18"
      ]
     },
     "execution_count": 63,
     "metadata": {},
     "output_type": "execute_result"
    }
   ],
   "source": [
    "count = 0\n",
    "for i,l in enumerate(lengths):\n",
    "    if l > 50:\n",
    "        count += 1\n",
    "        print(entities[i])\n",
    "count"
   ]
  },
  {
   "cell_type": "code",
   "execution_count": 77,
   "id": "b3e1b120",
   "metadata": {},
   "outputs": [],
   "source": [
    "test = []\n",
    "fname = 'data/wikidata5m/valid.txt'\n",
    "for line in open(fname):\n",
    "    test.append(line[:-1])"
   ]
  },
  {
   "cell_type": "code",
   "execution_count": 78,
   "id": "bd28b3b0",
   "metadata": {},
   "outputs": [],
   "source": [
    "test_lengths = []\n",
    "for t in test:\n",
    "    test_lengths.append(len(sp.encode(t)))"
   ]
  },
  {
   "cell_type": "code",
   "execution_count": 79,
   "id": "651eb6ba",
   "metadata": {},
   "outputs": [
    {
     "data": {
      "text/plain": [
       "35"
      ]
     },
     "execution_count": 79,
     "metadata": {},
     "output_type": "execute_result"
    }
   ],
   "source": [
    "max(test_lengths)"
   ]
  },
  {
   "cell_type": "code",
   "execution_count": 81,
   "id": "5f42e5b0",
   "metadata": {},
   "outputs": [
    {
     "data": {
      "text/plain": [
       "Text(0.5, 0, 'Tokenized lengths')"
      ]
     },
     "execution_count": 81,
     "metadata": {},
     "output_type": "execute_result"
    },
    {
     "data": {
      "image/png": "[encoded data removed]",
      "text/plain": [
       "<Figure size 432x288 with 1 Axes>"
      ]
     },
     "metadata": {
      "needs_background": "light"
     },
     "output_type": "display_data"
    }
   ],
   "source": [
    "import matplotlib.pyplot as plt \n",
    "\n",
    "import numpy as np \n",
    "\n",
    "%matplotlib inline\n",
    "\n",
    "# x = np.random.normal(size = 1000) \n",
    "x = lengths\n",
    "plt.hist(x, bins=30) \n",
    "\n",
    "plt.ylabel('Num entities');\n",
    "plt.xlabel('Tokenized lengths')"
   ]
  },
  {
   "cell_type": "code",
   "execution_count": 80,
   "id": "cd281b5d",
   "metadata": {},
   "outputs": [
    {
     "data": {
      "image/png": "[encoded data removed]",
      "text/plain": [
       "<Figure size 432x288 with 1 Axes>"
      ]
     },
     "metadata": {
      "needs_background": "light"
     },
     "output_type": "display_data"
    }
   ],
   "source": [
    "x = test_lengths\n",
    "plt.hist(x, bins=30) \n",
    "\n",
    "plt.ylabel('Probability');"
   ]
  },
  {
   "cell_type": "code",
   "execution_count": 96,
   "id": "157dc85a",
   "metadata": {},
   "outputs": [],
   "source": [
    "from transformers import T5TokenizerFast"
   ]
  },
  {
   "cell_type": "code",
   "execution_count": 97,
   "id": "9fce0db9",
   "metadata": {},
   "outputs": [],
   "source": [
    "tokenizer = T5TokenizerFast.from_pretrained('t5-small')"
   ]
  },
  {
   "cell_type": "code",
   "execution_count": 98,
   "id": "5905b440",
   "metadata": {},
   "outputs": [
    {
     "name": "stderr",
     "output_type": "stream",
     "text": [
      "100%|██████████| 4819507/4819507 [05:54<00:00, 13610.60it/s]\n"
     ]
    }
   ],
   "source": [
    "lengths_t5 = []\n",
    "for e in tqdm(entities):\n",
    "    ids = tokenizer(e).input_ids\n",
    "    lengths_t5.append(len(ids))"
   ]
  },
  {
   "cell_type": "code",
   "execution_count": 99,
   "id": "a85d0e38",
   "metadata": {},
   "outputs": [
    {
     "data": {
      "text/plain": [
       "Text(0.5, 0, 'Tokenized lengths')"
      ]
     },
     "execution_count": 99,
     "metadata": {},
     "output_type": "execute_result"
    },
    {
     "data": {
      "image/png": "[encoded data removed]",
      "text/plain": [
       "<Figure size 432x288 with 1 Axes>"
      ]
     },
     "metadata": {
      "needs_background": "light"
     },
     "output_type": "display_data"
    }
   ],
   "source": [
    "import matplotlib.pyplot as plt \n",
    "\n",
    "import numpy as np \n",
    "\n",
    "%matplotlib inline\n",
    "\n",
    "# x = np.random.normal(size = 1000) \n",
    "x = lengths_t5\n",
    "plt.hist(x, bins=30) \n",
    "\n",
    "plt.ylabel('Num entities');\n",
    "plt.xlabel('Tokenized lengths')"
   ]
  },
  {
   "cell_type": "code",
   "execution_count": null,
   "id": "47e69234",
   "metadata": {},
   "outputs": [],
   "source": []
  }
 ],
 "metadata": {
  "kernelspec": {
   "display_name": "Python 3 (ipykernel)",
   "language": "python",
   "name": "python3"
  },
  "language_info": {
   "codemirror_mode": {
    "name": "ipython",
    "version": 3
   },
   "file_extension": ".py",
   "mimetype": "text/x-python",
   "name": "python",
   "nbconvert_exporter": "python",
   "pygments_lexer": "ipython3",
   "version": "3.8.11"
  }
 },
 "nbformat": 4,
 "nbformat_minor": 5
}

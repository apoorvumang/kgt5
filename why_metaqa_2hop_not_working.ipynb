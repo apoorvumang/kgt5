{
 "cells": [
  {
   "cell_type": "code",
   "execution_count": 2,
   "id": "67f5d486",
   "metadata": {},
   "outputs": [],
   "source": [
    "import pickle\n",
    "import os\n",
    "from tqdm.notebook import tqdm\n",
    "import sentencepiece as spm"
   ]
  },
  {
   "cell_type": "code",
   "execution_count": 3,
   "id": "5ce0909c",
   "metadata": {},
   "outputs": [],
   "source": [
    "path = 'data/sentencepiece/metaqa_with_pad.model'\n",
    "sp = spm.SentencePieceProcessor(model_file=path)"
   ]
  },
  {
   "cell_type": "code",
   "execution_count": 11,
   "id": "779a7a61",
   "metadata": {},
   "outputs": [
    {
     "data": {
      "text/plain": [
       "[233, 12, 1307, 440, 0]"
      ]
     },
     "execution_count": 11,
     "metadata": {},
     "output_type": "execute_result"
    }
   ],
   "source": [
    "sp.encode('fsadf?')"
   ]
  },
  {
   "cell_type": "code",
   "execution_count": 12,
   "id": "2d4e31c8",
   "metadata": {},
   "outputs": [],
   "source": [
    "from dataset_qa import T5_DatasetQA"
   ]
  },
  {
   "cell_type": "code",
   "execution_count": 41,
   "id": "03982451",
   "metadata": {},
   "outputs": [
    {
     "name": "stdout",
     "output_type": "stream",
     "text": [
      "Vocab size is 10000\n",
      "New load data for QA\n"
     ]
    },
    {
     "name": "stderr",
     "output_type": "stream",
     "text": [
      "100%|████████████████████████████████████████████████████████| 14872/14872 [00:00<00:00, 105814.75it/s]"
     ]
    },
    {
     "name": "stdout",
     "output_type": "stream",
     "text": [
      "predict answer: John Krasinski | which person directed the movies starred by NE | ['Nancy Meyers', 'Sam Mendes', 'George Clooney', 'Ken Kwapis', 'Luke Greenfield']\n"
     ]
    },
    {
     "name": "stderr",
     "output_type": "stream",
     "text": [
      "\n"
     ]
    }
   ],
   "source": [
    "dataset = T5_DatasetQA('test', 'MetaQA_half', 'metaqa_with_pad', hops=2)"
   ]
  },
  {
   "cell_type": "code",
   "execution_count": 37,
   "id": "36f15a3c",
   "metadata": {},
   "outputs": [
    {
     "data": {
      "text/plain": [
       "[6,\n",
       " 4,\n",
       " 2511,\n",
       " 2718,\n",
       " 7,\n",
       " 1501,\n",
       " 81,\n",
       " 879,\n",
       " 97,\n",
       " 316,\n",
       " 4,\n",
       " 5,\n",
       " 23,\n",
       " 338,\n",
       " 12,\n",
       " 4457,\n",
       " 4,\n",
       " 4992,\n",
       " 1321,\n",
       " 12,\n",
       " 92,\n",
       " 23,\n",
       " 338,\n",
       " 482,\n",
       " 3046,\n",
       " 26,\n",
       " 2332,\n",
       " 134,\n",
       " 43,\n",
       " 12,\n",
       " 4,\n",
       " 5]"
      ]
     },
     "execution_count": 37,
     "metadata": {},
     "output_type": "execute_result"
    }
   ],
   "source": [
    "id = 0\n",
    "s = dataset[id][0]\n",
    "sp.encode(s)"
   ]
  },
  {
   "cell_type": "code",
   "execution_count": 44,
   "id": "aa5be7f3",
   "metadata": {},
   "outputs": [],
   "source": [
    "from tqdm.notebook import tqdm\n",
    "count = 0\n",
    "for i in range(len(dataset)):\n",
    "    s = dataset[i][0]\n",
    "    r = sp.decode(sp.encode(s))\n",
    "    if s!= r:\n",
    "        count += 1\n",
    "    else:\n",
    "        flag = False\n",
    "        answers = dataset[i][1]\n",
    "        for a in answers:\n",
    "            if sp.decode(sp.encode(a)) == a:\n",
    "                flag = True\n",
    "                break\n",
    "        if flag == False:\n",
    "            count += 1"
   ]
  },
  {
   "cell_type": "code",
   "execution_count": 45,
   "id": "8fae9984",
   "metadata": {},
   "outputs": [
    {
     "data": {
      "text/plain": [
       "149"
      ]
     },
     "execution_count": 45,
     "metadata": {},
     "output_type": "execute_result"
    }
   ],
   "source": [
    "count"
   ]
  },
  {
   "cell_type": "code",
   "execution_count": 40,
   "id": "09d30ad4",
   "metadata": {},
   "outputs": [
    {
     "data": {
      "text/plain": [
       "('predict answer: Scarface | what are the genres of the movies whose actors also appear in NE |',\n",
       " ['Romance',\n",
       "  'Comedy',\n",
       "  'Biography',\n",
       "  'Family',\n",
       "  'Horror',\n",
       "  'Crime',\n",
       "  'Drama',\n",
       "  'Fantasy',\n",
       "  'Animation',\n",
       "  'War',\n",
       "  'Western',\n",
       "  'Music',\n",
       "  'Sport',\n",
       "  'Documentary',\n",
       "  'Musical',\n",
       "  'Thriller',\n",
       "  'Adventure'])"
      ]
     },
     "execution_count": 40,
     "metadata": {},
     "output_type": "execute_result"
    }
   ],
   "source": [
    "dataset[20]"
   ]
  },
  {
   "cell_type": "code",
   "execution_count": null,
   "id": "654c60bd",
   "metadata": {},
   "outputs": [],
   "source": []
  }
 ],
 "metadata": {
  "kernelspec": {
   "display_name": "Python 3 (ipykernel)",
   "language": "python",
   "name": "python3"
  },
  "language_info": {
   "codemirror_mode": {
    "name": "ipython",
    "version": 3
   },
   "file_extension": ".py",
   "mimetype": "text/x-python",
   "name": "python",
   "nbconvert_exporter": "python",
   "pygments_lexer": "ipython3",
   "version": "3.8.11"
  }
 },
 "nbformat": 4,
 "nbformat_minor": 5
}
